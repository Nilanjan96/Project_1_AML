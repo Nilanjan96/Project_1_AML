{
  "cells": [
    {
      "cell_type": "markdown",
      "metadata": {
        "id": "PB0QQK_Msgvk"
      },
      "source": [
        "# Project 1\n",
        "\n",
        "Nilanjan Debnath\n",
        "\n",
        "Stock Symbol of interest: Apple\n",
        "\n",
        "Ticker symbol: AAPL\n"
      ]
    },
    {
      "cell_type": "markdown",
      "metadata": {
        "id": "1RWnPnpYHZgi"
      },
      "source": [
        "Downloading talib compatible with python 3.1\n",
        "\n",
        "Takes like 7-8 mins to install when you run the cell"
      ]
    },
    {
      "cell_type": "code",
      "execution_count": null,
      "metadata": {
        "colab": {
          "base_uri": "https://localhost:8080/"
        },
        "collapsed": true,
        "id": "3yj7IDqwGQxX",
        "outputId": "b92ef090-0d57-45c1-c89b-e27c8a947cc1"
      },
      "outputs": [
        {
          "name": "stdout",
          "output_type": "stream",
          "text": [
            "  % Total    % Received % Xferd  Average Speed   Time    Time     Time  Current\n",
            "                                 Dload  Upload   Total   Spent    Left  Speed\n",
            "100   380  100   380    0     0   1001      0 --:--:-- --:--:-- --:--:--  1002\n",
            "100   363  100   363    0     0    497      0 --:--:-- --:--:-- --:--:--     0\n",
            "100 1299k  100 1299k    0     0   790k      0  0:00:01  0:00:01 --:--:--  790k\n",
            "ta-lib/\n",
            "ta-lib/config.sub\n",
            "ta-lib/aclocal.m4\n",
            "ta-lib/CHANGELOG.TXT\n",
            "ta-lib/include/\n",
            "ta-lib/include/ta_abstract.h\n",
            "ta-lib/include/ta_func.h\n",
            "ta-lib/include/ta_common.h\n",
            "ta-lib/include/ta_config.h.in\n",
            "ta-lib/include/Makefile.am\n",
            "ta-lib/include/ta_libc.h\n",
            "ta-lib/include/ta_defs.h\n",
            "ta-lib/missing\n",
            "ta-lib/ta-lib.spec.in\n",
            "ta-lib/config.guess\n",
            "ta-lib/Makefile.in\n",
            "ta-lib/ta-lib.dpkg.in\n",
            "ta-lib/Makefile.am\n",
            "ta-lib/autogen.sh\n",
            "ta-lib/install-sh\n",
            "ta-lib/configure\n",
            "ta-lib/depcomp\n",
            "ta-lib/HISTORY.TXT\n",
            "ta-lib/configure.in\n",
            "ta-lib/autom4te.cache/\n",
            "ta-lib/autom4te.cache/output.0\n",
            "ta-lib/autom4te.cache/requests\n",
            "ta-lib/autom4te.cache/output.1\n",
            "ta-lib/autom4te.cache/traces.0\n",
            "ta-lib/autom4te.cache/traces.1\n",
            "ta-lib/ltmain.sh\n",
            "ta-lib/ta-lib-config.in\n",
            "ta-lib/src/\n",
            "ta-lib/src/ta_func/\n",
            "ta-lib/src/ta_func/ta_MACDFIX.c\n",
            "ta-lib/src/ta_func/ta_CDLPIERCING.c\n",
            "ta-lib/src/ta_func/ta_DIV.c\n",
            "ta-lib/src/ta_func/ta_ROCR100.c\n",
            "ta-lib/src/ta_func/ta_ADXR.c\n",
            "ta-lib/src/ta_func/ta_MAVP.c\n",
            "ta-lib/src/ta_func/ta_CDLCLOSINGMARUBOZU.c\n",
            "ta-lib/src/ta_func/ta_COSH.c\n",
            "ta-lib/src/ta_func/ta_EXP.c\n",
            "ta-lib/src/ta_func/ta_MINMAXINDEX.c\n",
            "ta-lib/src/ta_func/ta_SQRT.c\n",
            "ta-lib/src/ta_func/ta_FLOOR.c\n",
            "ta-lib/src/ta_func/ta_CDLCONCEALBABYSWALL.c\n",
            "ta-lib/src/ta_func/ta_NATR.c\n",
            "ta-lib/src/ta_func/ta_CDLHARAMICROSS.c\n",
            "ta-lib/src/ta_func/ta_MINUS_DM.c\n",
            "ta-lib/src/ta_func/ta_LOG10.c\n",
            "ta-lib/src/ta_func/ta_LINEARREG_ANGLE.c\n",
            "ta-lib/src/ta_func/ta_RSI.c\n",
            "ta-lib/src/ta_func/ta_CDLABANDONEDBABY.c\n",
            "ta-lib/src/ta_func/ta_SAR.c\n",
            "ta-lib/src/ta_func/ta_CDLBREAKAWAY.c\n",
            "ta-lib/src/ta_func/ta_CDLDRAGONFLYDOJI.c\n",
            "ta-lib/src/ta_func/ta_CDLHIGHWAVE.c\n",
            "ta-lib/src/ta_func/ta_CDLKICKING.c\n",
            "ta-lib/src/ta_func/ta_CDLDOJISTAR.c\n",
            "ta-lib/src/ta_func/ta_VAR.c\n",
            "ta-lib/src/ta_func/ta_CDLMATCHINGLOW.c\n",
            "ta-lib/src/ta_func/ta_CDLGAPSIDESIDEWHITE.c\n",
            "ta-lib/src/ta_func/ta_CDLMARUBOZU.c\n",
            "ta-lib/src/ta_func/ta_AROONOSC.c\n",
            "ta-lib/src/ta_func/ta_WCLPRICE.c\n",
            "ta-lib/src/ta_func/ta_CDLEVENINGDOJISTAR.c\n",
            "ta-lib/src/ta_func/ta_CDL3INSIDE.c\n",
            "ta-lib/src/ta_func/ta_OBV.c\n",
            "ta-lib/src/ta_func/ta_AROON.c\n",
            "ta-lib/src/ta_func/ta_CDLBELTHOLD.c\n",
            "ta-lib/src/ta_func/ta_CDLSPINNINGTOP.c\n",
            "ta-lib/src/ta_func/ta_AD.c\n",
            "ta-lib/src/ta_func/ta_MAX.c\n",
            "ta-lib/src/ta_func/ta_CDLENGULFING.c\n",
            "ta-lib/src/ta_func/ta_MINMAX.c\n",
            "ta-lib/src/ta_func/ta_CDLINNECK.c\n",
            "ta-lib/src/ta_func/ta_STDDEV.c\n",
            "ta-lib/src/ta_func/ta_NVI.c\n",
            "ta-lib/src/ta_func/ta_CDLHAMMER.c\n",
            "ta-lib/src/ta_func/ta_ASIN.c\n",
            "ta-lib/src/ta_func/ta_SUM.c\n",
            "ta-lib/src/ta_func/ta_STOCH.c\n",
            "ta-lib/src/ta_func/ta_CDLLONGLEGGEDDOJI.c\n",
            "ta-lib/src/ta_func/ta_MEDPRICE.c\n",
            "ta-lib/src/ta_func/ta_CDL3STARSINSOUTH.c\n",
            "ta-lib/src/ta_func/ta_HT_TRENDMODE.c\n",
            "ta-lib/src/ta_func/ta_BBANDS.c\n",
            "ta-lib/src/ta_func/ta_CDLMORNINGSTAR.c\n",
            "ta-lib/src/ta_func/ta_HT_DCPHASE.c\n",
            "ta-lib/src/ta_func/ta_CDLLONGLINE.c\n",
            "ta-lib/src/ta_func/ta_TAN.c\n",
            "ta-lib/src/ta_func/ta_SMA.c\n",
            "ta-lib/src/ta_func/ta_DX.c\n",
            "ta-lib/src/ta_func/ta_MIDPOINT.c\n",
            "ta-lib/src/ta_func/ta_CDL2CROWS.c\n",
            "ta-lib/src/ta_func/ta_CORREL.c\n",
            "ta-lib/src/ta_func/ta_CDL3BLACKCROWS.c\n",
            "ta-lib/src/ta_func/ta_ADD.c\n",
            "ta-lib/src/ta_func/Makefile.in\n",
            "ta-lib/src/ta_func/ta_CDLTHRUSTING.c\n",
            "ta-lib/src/ta_func/ta_SUB.c\n",
            "ta-lib/src/ta_func/ta_CDLSTALLEDPATTERN.c\n",
            "ta-lib/src/ta_func/ta_CDLTRISTAR.c\n",
            "ta-lib/src/ta_func/ta_MA.c\n",
            "ta-lib/src/ta_func/ta_HT_SINE.c\n",
            "ta-lib/src/ta_func/ta_ACOS.c\n",
            "ta-lib/src/ta_func/ta_CDLSTICKSANDWICH.c\n",
            "ta-lib/src/ta_func/ta_SINH.c\n",
            "ta-lib/src/ta_func/ta_utility.h\n",
            "ta-lib/src/ta_func/ta_CDLSHORTLINE.c\n",
            "ta-lib/src/ta_func/ta_ATAN.c\n",
            "ta-lib/src/ta_func/ta_CDLADVANCEBLOCK.c\n",
            "ta-lib/src/ta_func/ta_CDLKICKINGBYLENGTH.c\n",
            "ta-lib/src/ta_func/ta_CDLSHOOTINGSTAR.c\n",
            "ta-lib/src/ta_func/ta_ROCR.c\n",
            "ta-lib/src/ta_func/ta_WMA.c\n",
            "ta-lib/src/ta_func/ta_CDLDARKCLOUDCOVER.c\n",
            "ta-lib/src/ta_func/ta_CDLXSIDEGAP3METHODS.c\n",
            "ta-lib/src/ta_func/ta_TYPPRICE.c\n",
            "ta-lib/src/ta_func/ta_CDL3WHITESOLDIERS.c\n",
            "ta-lib/src/ta_func/Makefile.am\n",
            "ta-lib/src/ta_func/ta_MACDEXT.c\n",
            "ta-lib/src/ta_func/ta_ADX.c\n",
            "ta-lib/src/ta_func/ta_PLUS_DM.c\n",
            "ta-lib/src/ta_func/ta_CDLUPSIDEGAP2CROWS.c\n",
            "ta-lib/src/ta_func/ta_LN.c\n",
            "ta-lib/src/ta_func/ta_DEMA.c\n",
            "ta-lib/src/ta_func/ta_CDL3OUTSIDE.c\n",
            "ta-lib/src/ta_func/ta_CDLTASUKIGAP.c\n",
            "ta-lib/src/ta_func/ta_MAMA.c\n",
            "ta-lib/src/ta_func/ta_CDLMORNINGDOJISTAR.c\n",
            "ta-lib/src/ta_func/ta_PLUS_DI.c\n",
            "ta-lib/src/ta_func/ta_MININDEX.c\n",
            "ta-lib/src/ta_func/ta_COS.c\n",
            "ta-lib/src/ta_func/ta_HT_TRENDLINE.c\n",
            "ta-lib/src/ta_func/ta_MIDPRICE.c\n",
            "ta-lib/src/ta_func/ta_CEIL.c\n",
            "ta-lib/src/ta_func/ta_TRIMA.c\n",
            "ta-lib/src/ta_func/ta_CDLSEPARATINGLINES.c\n",
            "ta-lib/src/ta_func/ta_ROCP.c\n",
            "ta-lib/src/ta_func/ta_CDLHOMINGPIGEON.c\n",
            "ta-lib/src/ta_func/ta_CDLHANGINGMAN.c\n",
            "ta-lib/src/ta_func/ta_AVGPRICE.c\n",
            "ta-lib/src/ta_func/ta_APO.c\n",
            "ta-lib/src/ta_func/ta_CDLRISEFALL3METHODS.c\n",
            "ta-lib/src/ta_func/ta_TRANGE.c\n",
            "ta-lib/src/ta_func/ta_TSF.c\n",
            "ta-lib/src/ta_func/ta_LINEARREG.c\n",
            "ta-lib/src/ta_func/ta_PVI.c\n",
            "ta-lib/src/ta_func/ta_CDLHIKKAKEMOD.c\n",
            "ta-lib/src/ta_func/ta_MFI.c\n",
            "ta-lib/src/ta_func/ta_CDLHARAMI.c\n",
            "ta-lib/src/ta_func/ta_MACD.c\n",
            "ta-lib/src/ta_func/ta_BETA.c\n",
            "ta-lib/src/ta_func/ta_CDLINVERTEDHAMMER.c\n",
            "ta-lib/src/ta_func/ta_LINEARREG_SLOPE.c\n",
            "ta-lib/src/ta_func/ta_STOCHF.c\n",
            "ta-lib/src/ta_func/ta_MIN.c\n",
            "ta-lib/src/ta_func/ta_CDLIDENTICAL3CROWS.c\n",
            "ta-lib/src/ta_func/ta_CDLRICKSHAWMAN.c\n",
            "ta-lib/src/ta_func/ta_T3.c\n",
            "ta-lib/src/ta_func/ta_CDLMATHOLD.c\n",
            "ta-lib/src/ta_func/ta_CDLUNIQUE3RIVER.c\n",
            "ta-lib/src/ta_func/ta_ADOSC.c\n",
            "ta-lib/src/ta_func/ta_MAXINDEX.c\n",
            "ta-lib/src/ta_func/ta_ULTOSC.c\n",
            "ta-lib/src/ta_func/ta_TRIX.c\n",
            "ta-lib/src/ta_func/ta_MOM.c\n",
            "ta-lib/src/ta_func/ta_CDLDOJI.c\n",
            "ta-lib/src/ta_func/ta_EMA.c\n",
            "ta-lib/src/ta_func/ta_STOCHRSI.c\n",
            "ta-lib/src/ta_func/ta_ROC.c\n",
            "ta-lib/src/ta_func/ta_CDLEVENINGSTAR.c\n",
            "ta-lib/src/ta_func/ta_CDLCOUNTERATTACK.c\n",
            "ta-lib/src/ta_func/ta_LINEARREG_INTERCEPT.c\n",
            "ta-lib/src/ta_func/ta_SAREXT.c\n",
            "ta-lib/src/ta_func/ta_WILLR.c\n",
            "ta-lib/src/ta_func/ta_MULT.c\n",
            "ta-lib/src/ta_func/ta_ATR.c\n",
            "ta-lib/src/ta_func/ta_BOP.c\n",
            "ta-lib/src/ta_func/ta_CMO.c\n",
            "ta-lib/src/ta_func/ta_CDLONNECK.c\n",
            "ta-lib/src/ta_func/ta_CCI.c\n",
            "ta-lib/src/ta_func/ta_CDLLADDERBOTTOM.c\n",
            "ta-lib/src/ta_func/ta_HT_PHASOR.c\n",
            "ta-lib/src/ta_func/ta_utility.c\n",
            "ta-lib/src/ta_func/ta_PPO.c\n",
            "ta-lib/src/ta_func/ta_CDLHIKKAKE.c\n",
            "ta-lib/src/ta_func/ta_HT_DCPERIOD.c\n",
            "ta-lib/src/ta_func/ta_CDL3LINESTRIKE.c\n",
            "ta-lib/src/ta_func/ta_TEMA.c\n",
            "ta-lib/src/ta_func/ta_SIN.c\n",
            "ta-lib/src/ta_func/ta_MINUS_DI.c\n",
            "ta-lib/src/ta_func/ta_KAMA.c\n",
            "ta-lib/src/ta_func/ta_TANH.c\n",
            "ta-lib/src/ta_func/ta_CDLTAKURI.c\n",
            "ta-lib/src/ta_func/ta_CDLGRAVESTONEDOJI.c\n",
            "ta-lib/src/ta_common/\n",
            "ta-lib/src/ta_common/ta_pragma.h\n",
            "ta-lib/src/ta_common/ta_magic_nb.h\n",
            "ta-lib/src/ta_common/ta_retcode.csv\n",
            "ta-lib/src/ta_common/Makefile.in\n",
            "ta-lib/src/ta_common/Makefile.am\n",
            "ta-lib/src/ta_common/ta_memory.h\n",
            "ta-lib/src/ta_common/ta_version.c\n",
            "ta-lib/src/ta_common/ta_global.h\n",
            "ta-lib/src/ta_common/ta_global.c\n",
            "ta-lib/src/ta_common/ta_retcode.c\n",
            "ta-lib/src/Makefile.in\n",
            "ta-lib/src/ta_abstract/\n",
            "ta-lib/src/ta_abstract/frames/\n",
            "ta-lib/src/ta_abstract/frames/ta_frame.c\n",
            "ta-lib/src/ta_abstract/frames/ta_frame.h\n",
            "ta-lib/src/ta_abstract/excel_glue.c\n",
            "ta-lib/src/ta_abstract/ta_frame_priv.h\n",
            "ta-lib/src/ta_abstract/ta_func_api.c\n",
            "ta-lib/src/ta_abstract/Makefile.in\n",
            "ta-lib/src/ta_abstract/ta_def_ui.h\n",
            "ta-lib/src/ta_abstract/Makefile.am\n",
            "ta-lib/src/ta_abstract/ta_abstract.c\n",
            "ta-lib/src/ta_abstract/ta_group_idx.c\n",
            "ta-lib/src/ta_abstract/tables/\n",
            "ta-lib/src/ta_abstract/tables/table_u.c\n",
            "ta-lib/src/ta_abstract/tables/table_x.c\n",
            "ta-lib/src/ta_abstract/tables/table_r.c\n",
            "ta-lib/src/ta_abstract/tables/table_f.c\n",
            "ta-lib/src/ta_abstract/tables/table_j.c\n",
            "ta-lib/src/ta_abstract/tables/table_e.c\n",
            "ta-lib/src/ta_abstract/tables/table_t.c\n",
            "ta-lib/src/ta_abstract/tables/table_n.c\n",
            "ta-lib/src/ta_abstract/tables/table_i.c\n",
            "ta-lib/src/ta_abstract/tables/table_c.c\n",
            "ta-lib/src/ta_abstract/tables/table_l.c\n",
            "ta-lib/src/ta_abstract/tables/table_k.c\n",
            "ta-lib/src/ta_abstract/tables/table_g.c\n",
            "ta-lib/src/ta_abstract/tables/table_d.c\n",
            "ta-lib/src/ta_abstract/tables/table_h.c\n",
            "ta-lib/src/ta_abstract/tables/table_o.c\n",
            "ta-lib/src/ta_abstract/tables/table_b.c\n",
            "ta-lib/src/ta_abstract/tables/table_q.c\n",
            "ta-lib/src/ta_abstract/tables/table_v.c\n",
            "ta-lib/src/ta_abstract/tables/table_m.c\n",
            "ta-lib/src/ta_abstract/tables/table_s.c\n",
            "ta-lib/src/ta_abstract/tables/table_y.c\n",
            "ta-lib/src/ta_abstract/tables/table_p.c\n",
            "ta-lib/src/ta_abstract/tables/table_z.c\n",
            "ta-lib/src/ta_abstract/tables/table_a.c\n",
            "ta-lib/src/ta_abstract/tables/table_w.c\n",
            "ta-lib/src/ta_abstract/ta_def_ui.c\n",
            "ta-lib/src/ta_abstract/templates/\n",
            "ta-lib/src/ta_abstract/templates/ta_x.c.template\n",
            "ta-lib/src/ta_abstract/templates/ta_java_defs.h.template\n",
            "ta-lib/src/ta_abstract/templates/excel_glue.c.template\n",
            "ta-lib/src/ta_abstract/templates/ta_group_idx.c.template\n",
            "ta-lib/src/ta_abstract/templates/ta_frame.c.template\n",
            "ta-lib/src/ta_abstract/templates/CoreAnnotated.java.template\n",
            "ta-lib/src/ta_abstract/templates/ta_func.h.template\n",
            "ta-lib/src/ta_abstract/templates/ta_frame.h.template\n",
            "ta-lib/src/ta_abstract/templates/Makefile.am.template\n",
            "ta-lib/src/ta_abstract/templates/ta_func_api.c.template\n",
            "ta-lib/src/ta_abstract/templates/ta_func.swg.template\n",
            "ta-lib/src/ta_abstract/templates/ta_retcode.c.template\n",
            "ta-lib/src/ta_abstract/ta_java_defs.h\n",
            "ta-lib/src/Makefile.am\n",
            "ta-lib/src/tools/\n",
            "ta-lib/src/tools/ta_regtest/\n",
            "ta-lib/src/tools/ta_regtest/test_util.c\n",
            "ta-lib/src/tools/ta_regtest/ta_test_func.h\n",
            "ta-lib/src/tools/ta_regtest/test_data.c\n",
            "ta-lib/src/tools/ta_regtest/ta_gDataHigh.c\n",
            "ta-lib/src/tools/ta_regtest/Makefile.in\n",
            "ta-lib/src/tools/ta_regtest/test_internals.c\n",
            "ta-lib/src/tools/ta_regtest/Makefile.am\n",
            "ta-lib/src/tools/ta_regtest/ta_regtest.c\n",
            "ta-lib/src/tools/ta_regtest/ta_gDataOpen.c\n",
            "ta-lib/src/tools/ta_regtest/ta_gDataClose.c\n",
            "ta-lib/src/tools/ta_regtest/test_abstract.c\n",
            "ta-lib/src/tools/ta_regtest/ta_test_func/\n",
            "ta-lib/src/tools/ta_regtest/ta_test_func/test_bbands.c\n",
            "ta-lib/src/tools/ta_regtest/ta_test_func/test_stddev.c\n",
            "ta-lib/src/tools/ta_regtest/ta_test_func/test_1in_2out.c\n",
            "ta-lib/src/tools/ta_regtest/ta_test_func/test_sar.c\n",
            "ta-lib/src/tools/ta_regtest/ta_test_func/test_1in_1out.c\n",
            "ta-lib/src/tools/ta_regtest/ta_test_func/test_trange.c\n",
            "ta-lib/src/tools/ta_regtest/ta_test_func/test_macd.c\n",
            "ta-lib/src/tools/ta_regtest/ta_test_func/test_po.c\n",
            "ta-lib/src/tools/ta_regtest/ta_test_func/test_per_hlc.c\n",
            "ta-lib/src/tools/ta_regtest/ta_test_func/test_mom.c\n",
            "ta-lib/src/tools/ta_regtest/ta_test_func/test_per_ohlc.c\n",
            "ta-lib/src/tools/ta_regtest/ta_test_func/test_adx.c\n",
            "ta-lib/src/tools/ta_regtest/ta_test_func/test_candlestick.c\n",
            "ta-lib/src/tools/ta_regtest/ta_test_func/test_rsi.c\n",
            "ta-lib/src/tools/ta_regtest/ta_test_func/test_per_ema.c\n",
            "ta-lib/src/tools/ta_regtest/ta_test_func/test_minmax.c\n",
            "ta-lib/src/tools/ta_regtest/ta_test_func/test_per_hlcv.c\n",
            "ta-lib/src/tools/ta_regtest/ta_test_func/test_per_hl.c\n",
            "ta-lib/src/tools/ta_regtest/ta_test_func/test_stoch.c\n",
            "ta-lib/src/tools/ta_regtest/ta_test_func/test_ma.c\n",
            "ta-lib/src/tools/ta_regtest/ta_error_number.h\n",
            "ta-lib/src/tools/ta_regtest/ta_test_priv.h\n",
            "ta-lib/src/tools/ta_regtest/ReadMe.txt\n",
            "ta-lib/src/tools/ta_regtest/ta_gDataLow.c\n",
            "ta-lib/src/tools/Makefile.in\n",
            "ta-lib/src/tools/Makefile.am\n",
            "ta-lib/src/tools/gen_code/\n",
            "ta-lib/src/tools/gen_code/java/\n",
            "ta-lib/src/tools/gen_code/java/PrettyCode.java\n",
            "ta-lib/src/tools/gen_code/java/Main.java\n",
            "ta-lib/src/tools/gen_code/gen_code.c\n",
            "ta-lib/src/tools/gen_code/Makefile.in\n",
            "ta-lib/src/tools/gen_code/Makefile.am\n",
            "ta-lib/src/tools/gen_code/mcpp.exe\n",
            "checking for a BSD-compatible install... /usr/bin/install -c\n",
            "checking whether build environment is sane... yes\n",
            "checking for a thread-safe mkdir -p... /usr/bin/mkdir -p\n",
            "checking for gawk... no\n",
            "checking for mawk... mawk\n",
            "checking whether make sets $(MAKE)... yes\n",
            "checking for gcc... gcc\n",
            "checking for C compiler default output file name... a.out\n",
            "checking whether the C compiler works... yes\n",
            "checking whether we are cross compiling... no\n",
            "checking for suffix of executables... \n",
            "checking for suffix of object files... o\n",
            "checking whether we are using the GNU C compiler... yes\n",
            "checking whether gcc accepts -g... yes\n",
            "checking for gcc option to accept ISO C89... none needed\n",
            "checking for style of include used by make... GNU\n",
            "checking dependency style of gcc... gcc3\n",
            "checking build system type... x86_64-unknown-linux-gnu\n",
            "checking host system type... x86_64-unknown-linux-gnu\n",
            "checking for a sed that does not truncate output... /usr/bin/sed\n",
            "checking for grep that handles long lines and -e... /usr/bin/grep\n",
            "checking for egrep... /usr/bin/grep -E\n",
            "checking for ld used by gcc... /usr/bin/ld\n",
            "checking if the linker (/usr/bin/ld) is GNU ld... yes\n",
            "checking for /usr/bin/ld option to reload object files... -r\n",
            "checking for BSD-compatible nm... /usr/bin/nm -B\n",
            "checking whether ln -s works... yes\n",
            "checking how to recognise dependent libraries... pass_all\n",
            "checking how to run the C preprocessor... gcc -E\n",
            "checking for ANSI C header files... yes\n",
            "checking for sys/types.h... yes\n",
            "checking for sys/stat.h... yes\n",
            "checking for stdlib.h... yes\n",
            "checking for string.h... yes\n",
            "checking for memory.h... yes\n",
            "checking for strings.h... yes\n",
            "checking for inttypes.h... yes\n",
            "checking for stdint.h... yes\n",
            "checking for unistd.h... yes\n",
            "checking dlfcn.h usability... yes\n",
            "checking dlfcn.h presence... yes\n",
            "checking for dlfcn.h... yes\n",
            "checking for g++... g++\n",
            "checking whether we are using the GNU C++ compiler... yes\n",
            "checking whether g++ accepts -g... yes\n",
            "checking dependency style of g++... gcc3\n",
            "checking how to run the C++ preprocessor... g++ -E\n",
            "checking for g77... no\n",
            "checking for xlf... no\n",
            "checking for f77... f77\n",
            "checking whether we are using the GNU Fortran 77 compiler... yes\n",
            "checking whether f77 accepts -g... yes\n",
            "checking the maximum length of command line arguments... 32768\n",
            "checking command to parse /usr/bin/nm -B output from gcc object... ok\n",
            "checking for objdir... .libs\n",
            "checking for ar... ar\n",
            "checking for ranlib... ranlib\n",
            "checking for strip... strip\n",
            "checking if gcc supports -fno-rtti -fno-exceptions... no\n",
            "checking for gcc option to produce PIC... -fPIC\n",
            "checking if gcc PIC flag -fPIC works... yes\n",
            "checking if gcc static flag -static works... yes\n",
            "checking if gcc supports -c -o file.o... yes\n",
            "checking whether the gcc linker (/usr/bin/ld -m elf_x86_64) supports shared libraries... yes\n",
            "checking whether -lc should be explicitly linked in... no\n",
            "checking dynamic linker characteristics... GNU/Linux ld.so\n",
            "checking how to hardcode library paths into programs... immediate\n",
            "checking whether stripping libraries is possible... yes\n",
            "checking if libtool supports shared libraries... yes\n",
            "checking whether to build shared libraries... yes\n",
            "checking whether to build static libraries... yes\n",
            "configure: creating libtool\n",
            "appending configuration tag \"CXX\" to libtool\n",
            "checking for ld used by g++... /usr/bin/ld -m elf_x86_64\n",
            "checking if the linker (/usr/bin/ld -m elf_x86_64) is GNU ld... yes\n",
            "checking whether the g++ linker (/usr/bin/ld -m elf_x86_64) supports shared libraries... yes\n",
            "checking for g++ option to produce PIC... -fPIC\n",
            "checking if g++ PIC flag -fPIC works... yes\n",
            "checking if g++ static flag -static works... yes\n",
            "checking if g++ supports -c -o file.o... yes\n",
            "checking whether the g++ linker (/usr/bin/ld -m elf_x86_64) supports shared libraries... yes\n",
            "checking dynamic linker characteristics... GNU/Linux ld.so\n",
            "checking how to hardcode library paths into programs... immediate\n",
            "appending configuration tag \"F77\" to libtool\n",
            "checking if libtool supports shared libraries... yes\n",
            "checking whether to build shared libraries... yes\n",
            "checking whether to build static libraries... yes\n",
            "checking for f77 option to produce PIC... -fPIC\n",
            "checking if f77 PIC flag -fPIC works... yes\n",
            "checking if f77 static flag -static works... yes\n",
            "checking if f77 supports -c -o file.o... yes\n",
            "checking whether the f77 linker (/usr/bin/ld -m elf_x86_64) supports shared libraries... yes\n",
            "checking dynamic linker characteristics... GNU/Linux ld.so\n",
            "checking how to hardcode library paths into programs... immediate\n",
            "checking for dlopen in -ldl... yes\n",
            "checking for pthread_create in -lpthread... yes\n",
            "checking for ANSI C header files... (cached) yes\n",
            "checking float.h usability... yes\n",
            "checking float.h presence... yes\n",
            "checking for float.h... yes\n",
            "checking for inttypes.h... (cached) yes\n",
            "checking limits.h usability... yes\n",
            "checking limits.h presence... yes\n",
            "checking for limits.h... yes\n",
            "checking locale.h usability... yes\n",
            "checking locale.h presence... yes\n",
            "checking for locale.h... yes\n",
            "checking stddef.h usability... yes\n",
            "checking stddef.h presence... yes\n",
            "checking for stddef.h... yes\n",
            "checking for stdint.h... (cached) yes\n",
            "checking for stdlib.h... (cached) yes\n",
            "checking for string.h... (cached) yes\n",
            "checking for unistd.h... (cached) yes\n",
            "checking wchar.h usability... yes\n",
            "checking wchar.h presence... yes\n",
            "checking for wchar.h... yes\n",
            "checking wctype.h usability... yes\n",
            "checking wctype.h presence... yes\n",
            "checking for wctype.h... yes\n",
            "checking for an ANSI C-conforming const... yes\n",
            "checking for size_t... yes\n",
            "checking whether struct tm is in sys/time.h or time.h... time.h\n",
            "checking for working volatile... yes\n",
            "checking for ptrdiff_t... yes\n",
            "checking return type of signal handlers... void\n",
            "checking for working strcoll... yes\n",
            "checking for strftime... yes\n",
            "checking for working strtod... yes\n",
            "checking for vprintf... yes\n",
            "checking for _doprnt... no\n",
            "checking for floor... no\n",
            "checking for isascii... yes\n",
            "checking for localeconv... yes\n",
            "checking for mblen... yes\n",
            "checking for memmove... yes\n",
            "checking for memset... yes\n",
            "checking for modf... yes\n",
            "checking for pow... no\n",
            "checking for sqrt... no\n",
            "checking for strcasecmp... yes\n",
            "checking for strchr... yes\n",
            "checking for strerror... yes\n",
            "checking for strncasecmp... yes\n",
            "checking for strrchr... yes\n",
            "checking for strstr... yes\n",
            "checking for strtol... yes\n",
            "checking for strtoul... yes\n",
            "configure: creating ./config.status\n",
            "config.status: creating Makefile\n",
            "config.status: creating src/Makefile\n",
            "config.status: creating src/ta_abstract/Makefile\n",
            "config.status: creating src/ta_common/Makefile\n",
            "config.status: creating src/ta_func/Makefile\n",
            "config.status: creating src/tools/Makefile\n",
            "config.status: creating src/tools/gen_code/Makefile\n",
            "config.status: creating src/tools/ta_regtest/Makefile\n",
            "config.status: creating ta-lib-config\n",
            "config.status: creating ta-lib.spec\n",
            "config.status: creating ta-lib.dpkg\n",
            "config.status: creating include/ta_config.h\n",
            "config.status: executing depfiles commands\n",
            "Making all in src\n",
            "make[1]: Entering directory '/content/ta-lib/src'\n",
            "Making all in ta_abstract\n",
            "make[2]: Entering directory '/content/ta-lib/src/ta_abstract'\n",
            "/bin/bash ../../libtool --tag=CC   --mode=compile gcc -DHAVE_CONFIG_H -I. -I../../include  -I../ta_common/ -Iframes/   -g -O2 -MT libta_abstract_la-ta_group_idx.lo -MD -MP -MF .deps/libta_abstract_la-ta_group_idx.Tpo -c -o libta_abstract_la-ta_group_idx.lo `test -f 'ta_group_idx.c' || echo './'`ta_group_idx.c\n",
            "mkdir .libs\n",
            " gcc -DHAVE_CONFIG_H -I. -I../../include -I../ta_common/ -Iframes/ -g -O2 -MT libta_abstract_la-ta_group_idx.lo -MD -MP -MF .deps/libta_abstract_la-ta_group_idx.Tpo -c ta_group_idx.c  -fPIC -DPIC -o .libs/libta_abstract_la-ta_group_idx.o\n",
            " gcc -DHAVE_CONFIG_H -I. -I../../include -I../ta_common/ -Iframes/ -g -O2 -MT libta_abstract_la-ta_group_idx.lo -MD -MP -MF .deps/libta_abstract_la-ta_group_idx.Tpo -c ta_group_idx.c -o libta_abstract_la-ta_group_idx.o >/dev/null 2>&1\n",
            "mv -f .deps/libta_abstract_la-ta_group_idx.Tpo .deps/libta_abstract_la-ta_group_idx.Plo\n",
            "/bin/bash ../../libtool --tag=CC   --mode=compile gcc -DHAVE_CONFIG_H -I. -I../../include  -I../ta_common/ -Iframes/   -g -O2 -MT libta_abstract_la-ta_def_ui.lo -MD -MP -MF .deps/libta_abstract_la-ta_def_ui.Tpo -c -o libta_abstract_la-ta_def_ui.lo `test -f 'ta_def_ui.c' || echo './'`ta_def_ui.c\n",
            " gcc -DHAVE_CONFIG_H -I. -I../../include -I../ta_common/ -Iframes/ -g -O2 -MT libta_abstract_la-ta_def_ui.lo -MD -MP -MF .deps/libta_abstract_la-ta_def_ui.Tpo -c ta_def_ui.c  -fPIC -DPIC -o .libs/libta_abstract_la-ta_def_ui.o\n",
            " gcc -DHAVE_CONFIG_H -I. -I../../include -I../ta_common/ -Iframes/ -g -O2 -MT libta_abstract_la-ta_def_ui.lo -MD -MP -MF .deps/libta_abstract_la-ta_def_ui.Tpo -c ta_def_ui.c -o libta_abstract_la-ta_def_ui.o >/dev/null 2>&1\n",
            "mv -f .deps/libta_abstract_la-ta_def_ui.Tpo .deps/libta_abstract_la-ta_def_ui.Plo\n",
            "/bin/bash ../../libtool --tag=CC   --mode=compile gcc -DHAVE_CONFIG_H -I. -I../../include  -I../ta_common/ -Iframes/   -g -O2 -MT libta_abstract_la-ta_abstract.lo -MD -MP -MF .deps/libta_abstract_la-ta_abstract.Tpo -c -o libta_abstract_la-ta_abstract.lo `test -f 'ta_abstract.c' || echo './'`ta_abstract.c\n",
            " gcc -DHAVE_CONFIG_H -I. -I../../include -I../ta_common/ -Iframes/ -g -O2 -MT libta_abstract_la-ta_abstract.lo -MD -MP -MF .deps/libta_abstract_la-ta_abstract.Tpo -c ta_abstract.c  -fPIC -DPIC -o .libs/libta_abstract_la-ta_abstract.o\n",
            " gcc -DHAVE_CONFIG_H -I. -I../../include -I../ta_common/ -Iframes/ -g -O2 -MT libta_abstract_la-ta_abstract.lo -MD -MP -MF .deps/libta_abstract_la-ta_abstract.Tpo -c ta_abstract.c -o libta_abstract_la-ta_abstract.o >/dev/null 2>&1\n",
            "mv -f .deps/libta_abstract_la-ta_abstract.Tpo .deps/libta_abstract_la-ta_abstract.Plo\n",
            "/bin/bash ../../libtool --tag=CC   --mode=compile gcc -DHAVE_CONFIG_H -I. -I../../include  -I../ta_common/ -Iframes/   -g -O2 -MT libta_abstract_la-ta_func_api.lo -MD -MP -MF .deps/libta_abstract_la-ta_func_api.Tpo -c -o libta_abstract_la-ta_func_api.lo `test -f 'ta_func_api.c' || echo './'`ta_func_api.c\n",
            " gcc -DHAVE_CONFIG_H -I. -I../../include -I../ta_common/ -Iframes/ -g -O2 -MT libta_abstract_la-ta_func_api.lo -MD -MP -MF .deps/libta_abstract_la-ta_func_api.Tpo -c ta_func_api.c  -fPIC -DPIC -o .libs/libta_abstract_la-ta_func_api.o\n",
            " gcc -DHAVE_CONFIG_H -I. -I../../include -I../ta_common/ -Iframes/ -g -O2 -MT libta_abstract_la-ta_func_api.lo -MD -MP -MF .deps/libta_abstract_la-ta_func_api.Tpo -c ta_func_api.c -o libta_abstract_la-ta_func_api.o >/dev/null 2>&1\n",
            "mv -f .deps/libta_abstract_la-ta_func_api.Tpo .deps/libta_abstract_la-ta_func_api.Plo\n",
            "/bin/bash ../../libtool --tag=CC   --mode=compile gcc -DHAVE_CONFIG_H -I. -I../../include  -I../ta_common/ -Iframes/   -g -O2 -MT libta_abstract_la-ta_frame.lo -MD -MP -MF .deps/libta_abstract_la-ta_frame.Tpo -c -o libta_abstract_la-ta_frame.lo `test -f 'frames/ta_frame.c' || echo './'`frames/ta_frame.c\n",
            " gcc -DHAVE_CONFIG_H -I. -I../../include -I../ta_common/ -Iframes/ -g -O2 -MT libta_abstract_la-ta_frame.lo -MD -MP -MF .deps/libta_abstract_la-ta_frame.Tpo -c frames/ta_frame.c  -fPIC -DPIC -o .libs/libta_abstract_la-ta_frame.o\n",
            " gcc -DHAVE_CONFIG_H -I. -I../../include -I../ta_common/ -Iframes/ -g -O2 -MT libta_abstract_la-ta_frame.lo -MD -MP -MF .deps/libta_abstract_la-ta_frame.Tpo -c frames/ta_frame.c -o libta_abstract_la-ta_frame.o >/dev/null 2>&1\n",
            "mv -f .deps/libta_abstract_la-ta_frame.Tpo .deps/libta_abstract_la-ta_frame.Plo\n",
            "/bin/bash ../../libtool --tag=CC   --mode=compile gcc -DHAVE_CONFIG_H -I. -I../../include  -I../ta_common/ -Iframes/   -g -O2 -MT libta_abstract_la-table_a.lo -MD -MP -MF .deps/libta_abstract_la-table_a.Tpo -c -o libta_abstract_la-table_a.lo `test -f 'tables/table_a.c' || echo './'`tables/table_a.c\n",
            " gcc -DHAVE_CONFIG_H -I. -I../../include -I../ta_common/ -Iframes/ -g -O2 -MT libta_abstract_la-table_a.lo -MD -MP -MF .deps/libta_abstract_la-table_a.Tpo -c tables/table_a.c  -fPIC -DPIC -o .libs/libta_abstract_la-table_a.o\n",
            " gcc -DHAVE_CONFIG_H -I. -I../../include -I../ta_common/ -Iframes/ -g -O2 -MT libta_abstract_la-table_a.lo -MD -MP -MF .deps/libta_abstract_la-table_a.Tpo -c tables/table_a.c -o libta_abstract_la-table_a.o >/dev/null 2>&1\n",
            "mv -f .deps/libta_abstract_la-table_a.Tpo .deps/libta_abstract_la-table_a.Plo\n",
            "/bin/bash ../../libtool --tag=CC   --mode=compile gcc -DHAVE_CONFIG_H -I. -I../../include  -I../ta_common/ -Iframes/   -g -O2 -MT libta_abstract_la-table_b.lo -MD -MP -MF .deps/libta_abstract_la-table_b.Tpo -c -o libta_abstract_la-table_b.lo `test -f 'tables/table_b.c' || echo './'`tables/table_b.c\n",
            " gcc -DHAVE_CONFIG_H -I. -I../../include -I../ta_common/ -Iframes/ -g -O2 -MT libta_abstract_la-table_b.lo -MD -MP -MF .deps/libta_abstract_la-table_b.Tpo -c tables/table_b.c  -fPIC -DPIC -o .libs/libta_abstract_la-table_b.o\n",
            " gcc -DHAVE_CONFIG_H -I. -I../../include -I../ta_common/ -Iframes/ -g -O2 -MT libta_abstract_la-table_b.lo -MD -MP -MF .deps/libta_abstract_la-table_b.Tpo -c tables/table_b.c -o libta_abstract_la-table_b.o >/dev/null 2>&1\n",
            "mv -f .deps/libta_abstract_la-table_b.Tpo .deps/libta_abstract_la-table_b.Plo\n",
            "/bin/bash ../../libtool --tag=CC   --mode=compile gcc -DHAVE_CONFIG_H -I. -I../../include  -I../ta_common/ -Iframes/   -g -O2 -MT libta_abstract_la-table_c.lo -MD -MP -MF .deps/libta_abstract_la-table_c.Tpo -c -o libta_abstract_la-table_c.lo `test -f 'tables/table_c.c' || echo './'`tables/table_c.c\n",
            " gcc -DHAVE_CONFIG_H -I. -I../../include -I../ta_common/ -Iframes/ -g -O2 -MT libta_abstract_la-table_c.lo -MD -MP -MF .deps/libta_abstract_la-table_c.Tpo -c tables/table_c.c  -fPIC -DPIC -o .libs/libta_abstract_la-table_c.o\n",
            " gcc -DHAVE_CONFIG_H -I. -I../../include -I../ta_common/ -Iframes/ -g -O2 -MT libta_abstract_la-table_c.lo -MD -MP -MF .deps/libta_abstract_la-table_c.Tpo -c tables/table_c.c -o libta_abstract_la-table_c.o >/dev/null 2>&1\n",
            "mv -f .deps/libta_abstract_la-table_c.Tpo .deps/libta_abstract_la-table_c.Plo\n",
            "/bin/bash ../../libtool --tag=CC   --mode=compile gcc -DHAVE_CONFIG_H -I. -I../../include  -I../ta_common/ -Iframes/   -g -O2 -MT libta_abstract_la-table_d.lo -MD -MP -MF .deps/libta_abstract_la-table_d.Tpo -c -o libta_abstract_la-table_d.lo `test -f 'tables/table_d.c' || echo './'`tables/table_d.c\n",
            " gcc -DHAVE_CONFIG_H -I. -I../../include -I../ta_common/ -Iframes/ -g -O2 -MT libta_abstract_la-table_d.lo -MD -MP -MF .deps/libta_abstract_la-table_d.Tpo -c tables/table_d.c  -fPIC -DPIC -o .libs/libta_abstract_la-table_d.o\n",
            " gcc -DHAVE_CONFIG_H -I. -I../../include -I../ta_common/ -Iframes/ -g -O2 -MT libta_abstract_la-table_d.lo -MD -MP -MF .deps/libta_abstract_la-table_d.Tpo -c tables/table_d.c -o libta_abstract_la-table_d.o >/dev/null 2>&1\n",
            "mv -f .deps/libta_abstract_la-table_d.Tpo .deps/libta_abstract_la-table_d.Plo\n",
            "/bin/bash ../../libtool --tag=CC   --mode=compile gcc -DHAVE_CONFIG_H -I. -I../../include  -I../ta_common/ -Iframes/   -g -O2 -MT libta_abstract_la-table_e.lo -MD -MP -MF .deps/libta_abstract_la-table_e.Tpo -c -o libta_abstract_la-table_e.lo `test -f 'tables/table_e.c' || echo './'`tables/table_e.c\n",
            " gcc -DHAVE_CONFIG_H -I. -I../../include -I../ta_common/ -Iframes/ -g -O2 -MT libta_abstract_la-table_e.lo -MD -MP -MF .deps/libta_abstract_la-table_e.Tpo -c tables/table_e.c  -fPIC -DPIC -o .libs/libta_abstract_la-table_e.o\n",
            " gcc -DHAVE_CONFIG_H -I. -I../../include -I../ta_common/ -Iframes/ -g -O2 -MT libta_abstract_la-table_e.lo -MD -MP -MF .deps/libta_abstract_la-table_e.Tpo -c tables/table_e.c -o libta_abstract_la-table_e.o >/dev/null 2>&1\n",
            "mv -f .deps/libta_abstract_la-table_e.Tpo .deps/libta_abstract_la-table_e.Plo\n",
            "/bin/bash ../../libtool --tag=CC   --mode=compile gcc -DHAVE_CONFIG_H -I. -I../../include  -I../ta_common/ -Iframes/   -g -O2 -MT libta_abstract_la-table_f.lo -MD -MP -MF .deps/libta_abstract_la-table_f.Tpo -c -o libta_abstract_la-table_f.lo `test -f 'tables/table_f.c' || echo './'`tables/table_f.c\n",
            " gcc -DHAVE_CONFIG_H -I. -I../../include -I../ta_common/ -Iframes/ -g -O2 -MT libta_abstract_la-table_f.lo -MD -MP -MF .deps/libta_abstract_la-table_f.Tpo -c tables/table_f.c  -fPIC -DPIC -o .libs/libta_abstract_la-table_f.o\n",
            " gcc -DHAVE_CONFIG_H -I. -I../../include -I../ta_common/ -Iframes/ -g -O2 -MT libta_abstract_la-table_f.lo -MD -MP -MF .deps/libta_abstract_la-table_f.Tpo -c tables/table_f.c -o libta_abstract_la-table_f.o >/dev/null 2>&1\n",
            "mv -f .deps/libta_abstract_la-table_f.Tpo .deps/libta_abstract_la-table_f.Plo\n",
            "/bin/bash ../../libtool --tag=CC   --mode=compile gcc -DHAVE_CONFIG_H -I. -I../../include  -I../ta_common/ -Iframes/   -g -O2 -MT libta_abstract_la-table_g.lo -MD -MP -MF .deps/libta_abstract_la-table_g.Tpo -c -o libta_abstract_la-table_g.lo `test -f 'tables/table_g.c' || echo './'`tables/table_g.c\n",
            " gcc -DHAVE_CONFIG_H -I. -I../../include -I../ta_common/ -Iframes/ -g -O2 -MT libta_abstract_la-table_g.lo -MD -MP -MF .deps/libta_abstract_la-table_g.Tpo -c tables/table_g.c  -fPIC -DPIC -o .libs/libta_abstract_la-table_g.o\n",
            " gcc -DHAVE_CONFIG_H -I. -I../../include -I../ta_common/ -Iframes/ -g -O2 -MT libta_abstract_la-table_g.lo -MD -MP -MF .deps/libta_abstract_la-table_g.Tpo -c tables/table_g.c -o libta_abstract_la-table_g.o >/dev/null 2>&1\n",
            "mv -f .deps/libta_abstract_la-table_g.Tpo .deps/libta_abstract_la-table_g.Plo\n",
            "/bin/bash ../../libtool --tag=CC   --mode=compile gcc -DHAVE_CONFIG_H -I. -I../../include  -I../ta_common/ -Iframes/   -g -O2 -MT libta_abstract_la-table_h.lo -MD -MP -MF .deps/libta_abstract_la-table_h.Tpo -c -o libta_abstract_la-table_h.lo `test -f 'tables/table_h.c' || echo './'`tables/table_h.c\n",
            " gcc -DHAVE_CONFIG_H -I. -I../../include -I../ta_common/ -Iframes/ -g -O2 -MT libta_abstract_la-table_h.lo -MD -MP -MF .deps/libta_abstract_la-table_h.Tpo -c tables/table_h.c  -fPIC -DPIC -o .libs/libta_abstract_la-table_h.o\n",
            " gcc -DHAVE_CONFIG_H -I. -I../../include -I../ta_common/ -Iframes/ -g -O2 -MT libta_abstract_la-table_h.lo -MD -MP -MF .deps/libta_abstract_la-table_h.Tpo -c tables/table_h.c -o libta_abstract_la-table_h.o >/dev/null 2>&1\n",
            "mv -f .deps/libta_abstract_la-table_h.Tpo .deps/libta_abstract_la-table_h.Plo\n",
            "/bin/bash ../../libtool --tag=CC   --mode=compile gcc -DHAVE_CONFIG_H -I. -I../../include  -I../ta_common/ -Iframes/   -g -O2 -MT libta_abstract_la-table_i.lo -MD -MP -MF .deps/libta_abstract_la-table_i.Tpo -c -o libta_abstract_la-table_i.lo `test -f 'tables/table_i.c' || echo './'`tables/table_i.c\n",
            " gcc -DHAVE_CONFIG_H -I. -I../../include -I../ta_common/ -Iframes/ -g -O2 -MT libta_abstract_la-table_i.lo -MD -MP -MF .deps/libta_abstract_la-table_i.Tpo -c tables/table_i.c  -fPIC -DPIC -o .libs/libta_abstract_la-table_i.o\n",
            " gcc -DHAVE_CONFIG_H -I. -I../../include -I../ta_common/ -Iframes/ -g -O2 -MT libta_abstract_la-table_i.lo -MD -MP -MF .deps/libta_abstract_la-table_i.Tpo -c tables/table_i.c -o libta_abstract_la-table_i.o >/dev/null 2>&1\n",
            "mv -f .deps/libta_abstract_la-table_i.Tpo .deps/libta_abstract_la-table_i.Plo\n",
            "/bin/bash ../../libtool --tag=CC   --mode=compile gcc -DHAVE_CONFIG_H -I. -I../../include  -I../ta_common/ -Iframes/   -g -O2 -MT libta_abstract_la-table_j.lo -MD -MP -MF .deps/libta_abstract_la-table_j.Tpo -c -o libta_abstract_la-table_j.lo `test -f 'tables/table_j.c' || echo './'`tables/table_j.c\n",
            " gcc -DHAVE_CONFIG_H -I. -I../../include -I../ta_common/ -Iframes/ -g -O2 -MT libta_abstract_la-table_j.lo -MD -MP -MF .deps/libta_abstract_la-table_j.Tpo -c tables/table_j.c  -fPIC -DPIC -o .libs/libta_abstract_la-table_j.o\n",
            " gcc -DHAVE_CONFIG_H -I. -I../../include -I../ta_common/ -Iframes/ -g -O2 -MT libta_abstract_la-table_j.lo -MD -MP -MF .deps/libta_abstract_la-table_j.Tpo -c tables/table_j.c -o libta_abstract_la-table_j.o >/dev/null 2>&1\n",
            "mv -f .deps/libta_abstract_la-table_j.Tpo .deps/libta_abstract_la-table_j.Plo\n",
            "/bin/bash ../../libtool --tag=CC   --mode=compile gcc -DHAVE_CONFIG_H -I. -I../../include  -I../ta_common/ -Iframes/   -g -O2 -MT libta_abstract_la-table_k.lo -MD -MP -MF .deps/libta_abstract_la-table_k.Tpo -c -o libta_abstract_la-table_k.lo `test -f 'tables/table_k.c' || echo './'`tables/table_k.c\n",
            " gcc -DHAVE_CONFIG_H -I. -I../../include -I../ta_common/ -Iframes/ -g -O2 -MT libta_abstract_la-table_k.lo -MD -MP -MF .deps/libta_abstract_la-table_k.Tpo -c tables/table_k.c  -fPIC -DPIC -o .libs/libta_abstract_la-table_k.o\n",
            " gcc -DHAVE_CONFIG_H -I. -I../../include -I../ta_common/ -Iframes/ -g -O2 -MT libta_abstract_la-table_k.lo -MD -MP -MF .deps/libta_abstract_la-table_k.Tpo -c tables/table_k.c -o libta_abstract_la-table_k.o >/dev/null 2>&1\n",
            "mv -f .deps/libta_abstract_la-table_k.Tpo .deps/libta_abstract_la-table_k.Plo\n",
            "/bin/bash ../../libtool --tag=CC   --mode=compile gcc -DHAVE_CONFIG_H -I. -I../../include  -I../ta_common/ -Iframes/   -g -O2 -MT libta_abstract_la-table_l.lo -MD -MP -MF .deps/libta_abstract_la-table_l.Tpo -c -o libta_abstract_la-table_l.lo `test -f 'tables/table_l.c' || echo './'`tables/table_l.c\n",
            " gcc -DHAVE_CONFIG_H -I. -I../../include -I../ta_common/ -Iframes/ -g -O2 -MT libta_abstract_la-table_l.lo -MD -MP -MF .deps/libta_abstract_la-table_l.Tpo -c tables/table_l.c  -fPIC -DPIC -o .libs/libta_abstract_la-table_l.o\n",
            " gcc -DHAVE_CONFIG_H -I. -I../../include -I../ta_common/ -Iframes/ -g -O2 -MT libta_abstract_la-table_l.lo -MD -MP -MF .deps/libta_abstract_la-table_l.Tpo -c tables/table_l.c -o libta_abstract_la-table_l.o >/dev/null 2>&1\n",
            "mv -f .deps/libta_abstract_la-table_l.Tpo .deps/libta_abstract_la-table_l.Plo\n",
            "/bin/bash ../../libtool --tag=CC   --mode=compile gcc -DHAVE_CONFIG_H -I. -I../../include  -I../ta_common/ -Iframes/   -g -O2 -MT libta_abstract_la-table_m.lo -MD -MP -MF .deps/libta_abstract_la-table_m.Tpo -c -o libta_abstract_la-table_m.lo `test -f 'tables/table_m.c' || echo './'`tables/table_m.c\n",
            " gcc -DHAVE_CONFIG_H -I. -I../../include -I../ta_common/ -Iframes/ -g -O2 -MT libta_abstract_la-table_m.lo -MD -MP -MF .deps/libta_abstract_la-table_m.Tpo -c tables/table_m.c  -fPIC -DPIC -o .libs/libta_abstract_la-table_m.o\n",
            " gcc -DHAVE_CONFIG_H -I. -I../../include -I../ta_common/ -Iframes/ -g -O2 -MT libta_abstract_la-table_m.lo -MD -MP -MF .deps/libta_abstract_la-table_m.Tpo -c tables/table_m.c -o libta_abstract_la-table_m.o >/dev/null 2>&1\n",
            "mv -f .deps/libta_abstract_la-table_m.Tpo .deps/libta_abstract_la-table_m.Plo\n",
            "/bin/bash ../../libtool --tag=CC   --mode=compile gcc -DHAVE_CONFIG_H -I. -I../../include  -I../ta_common/ -Iframes/   -g -O2 -MT libta_abstract_la-table_n.lo -MD -MP -MF .deps/libta_abstract_la-table_n.Tpo -c -o libta_abstract_la-table_n.lo `test -f 'tables/table_n.c' || echo './'`tables/table_n.c\n",
            " gcc -DHAVE_CONFIG_H -I. -I../../include -I../ta_common/ -Iframes/ -g -O2 -MT libta_abstract_la-table_n.lo -MD -MP -MF .deps/libta_abstract_la-table_n.Tpo -c tables/table_n.c  -fPIC -DPIC -o .libs/libta_abstract_la-table_n.o\n",
            " gcc -DHAVE_CONFIG_H -I. -I../../include -I../ta_common/ -Iframes/ -g -O2 -MT libta_abstract_la-table_n.lo -MD -MP -MF .deps/libta_abstract_la-table_n.Tpo -c tables/table_n.c -o libta_abstract_la-table_n.o >/dev/null 2>&1\n",
            "mv -f .deps/libta_abstract_la-table_n.Tpo .deps/libta_abstract_la-table_n.Plo\n",
            "/bin/bash ../../libtool --tag=CC   --mode=compile gcc -DHAVE_CONFIG_H -I. -I../../include  -I../ta_common/ -Iframes/   -g -O2 -MT libta_abstract_la-table_o.lo -MD -MP -MF .deps/libta_abstract_la-table_o.Tpo -c -o libta_abstract_la-table_o.lo `test -f 'tables/table_o.c' || echo './'`tables/table_o.c\n",
            " gcc -DHAVE_CONFIG_H -I. -I../../include -I../ta_common/ -Iframes/ -g -O2 -MT libta_abstract_la-table_o.lo -MD -MP -MF .deps/libta_abstract_la-table_o.Tpo -c tables/table_o.c  -fPIC -DPIC -o .libs/libta_abstract_la-table_o.o\n",
            " gcc -DHAVE_CONFIG_H -I. -I../../include -I../ta_common/ -Iframes/ -g -O2 -MT libta_abstract_la-table_o.lo -MD -MP -MF .deps/libta_abstract_la-table_o.Tpo -c tables/table_o.c -o libta_abstract_la-table_o.o >/dev/null 2>&1\n",
            "mv -f .deps/libta_abstract_la-table_o.Tpo .deps/libta_abstract_la-table_o.Plo\n",
            "/bin/bash ../../libtool --tag=CC   --mode=compile gcc -DHAVE_CONFIG_H -I. -I../../include  -I../ta_common/ -Iframes/   -g -O2 -MT libta_abstract_la-table_p.lo -MD -MP -MF .deps/libta_abstract_la-table_p.Tpo -c -o libta_abstract_la-table_p.lo `test -f 'tables/table_p.c' || echo './'`tables/table_p.c\n",
            " gcc -DHAVE_CONFIG_H -I. -I../../include -I../ta_common/ -Iframes/ -g -O2 -MT libta_abstract_la-table_p.lo -MD -MP -MF .deps/libta_abstract_la-table_p.Tpo -c tables/table_p.c  -fPIC -DPIC -o .libs/libta_abstract_la-table_p.o\n",
            " gcc -DHAVE_CONFIG_H -I. -I../../include -I../ta_common/ -Iframes/ -g -O2 -MT libta_abstract_la-table_p.lo -MD -MP -MF .deps/libta_abstract_la-table_p.Tpo -c tables/table_p.c -o libta_abstract_la-table_p.o >/dev/null 2>&1\n",
            "mv -f .deps/libta_abstract_la-table_p.Tpo .deps/libta_abstract_la-table_p.Plo\n",
            "/bin/bash ../../libtool --tag=CC   --mode=compile gcc -DHAVE_CONFIG_H -I. -I../../include  -I../ta_common/ -Iframes/   -g -O2 -MT libta_abstract_la-table_q.lo -MD -MP -MF .deps/libta_abstract_la-table_q.Tpo -c -o libta_abstract_la-table_q.lo `test -f 'tables/table_q.c' || echo './'`tables/table_q.c\n",
            " gcc -DHAVE_CONFIG_H -I. -I../../include -I../ta_common/ -Iframes/ -g -O2 -MT libta_abstract_la-table_q.lo -MD -MP -MF .deps/libta_abstract_la-table_q.Tpo -c tables/table_q.c  -fPIC -DPIC -o .libs/libta_abstract_la-table_q.o\n",
            " gcc -DHAVE_CONFIG_H -I. -I../../include -I../ta_common/ -Iframes/ -g -O2 -MT libta_abstract_la-table_q.lo -MD -MP -MF .deps/libta_abstract_la-table_q.Tpo -c tables/table_q.c -o libta_abstract_la-table_q.o >/dev/null 2>&1\n",
            "mv -f .deps/libta_abstract_la-table_q.Tpo .deps/libta_abstract_la-table_q.Plo\n",
            "/bin/bash ../../libtool --tag=CC   --mode=compile gcc -DHAVE_CONFIG_H -I. -I../../include  -I../ta_common/ -Iframes/   -g -O2 -MT libta_abstract_la-table_r.lo -MD -MP -MF .deps/libta_abstract_la-table_r.Tpo -c -o libta_abstract_la-table_r.lo `test -f 'tables/table_r.c' || echo './'`tables/table_r.c\n",
            " gcc -DHAVE_CONFIG_H -I. -I../../include -I../ta_common/ -Iframes/ -g -O2 -MT libta_abstract_la-table_r.lo -MD -MP -MF .deps/libta_abstract_la-table_r.Tpo -c tables/table_r.c  -fPIC -DPIC -o .libs/libta_abstract_la-table_r.o\n",
            " gcc -DHAVE_CONFIG_H -I. -I../../include -I../ta_common/ -Iframes/ -g -O2 -MT libta_abstract_la-table_r.lo -MD -MP -MF .deps/libta_abstract_la-table_r.Tpo -c tables/table_r.c -o libta_abstract_la-table_r.o >/dev/null 2>&1\n",
            "mv -f .deps/libta_abstract_la-table_r.Tpo .deps/libta_abstract_la-table_r.Plo\n",
            "/bin/bash ../../libtool --tag=CC   --mode=compile gcc -DHAVE_CONFIG_H -I. -I../../include  -I../ta_common/ -Iframes/   -g -O2 -MT libta_abstract_la-table_s.lo -MD -MP -MF .deps/libta_abstract_la-table_s.Tpo -c -o libta_abstract_la-table_s.lo `test -f 'tables/table_s.c' || echo './'`tables/table_s.c\n",
            " gcc -DHAVE_CONFIG_H -I. -I../../include -I../ta_common/ -Iframes/ -g -O2 -MT libta_abstract_la-table_s.lo -MD -MP -MF .deps/libta_abstract_la-table_s.Tpo -c tables/table_s.c  -fPIC -DPIC -o .libs/libta_abstract_la-table_s.o\n",
            " gcc -DHAVE_CONFIG_H -I. -I../../include -I../ta_common/ -Iframes/ -g -O2 -MT libta_abstract_la-table_s.lo -MD -MP -MF .deps/libta_abstract_la-table_s.Tpo -c tables/table_s.c -o libta_abstract_la-table_s.o >/dev/null 2>&1\n",
            "mv -f .deps/libta_abstract_la-table_s.Tpo .deps/libta_abstract_la-table_s.Plo\n",
            "/bin/bash ../../libtool --tag=CC   --mode=compile gcc -DHAVE_CONFIG_H -I. -I../../include  -I../ta_common/ -Iframes/   -g -O2 -MT libta_abstract_la-table_t.lo -MD -MP -MF .deps/libta_abstract_la-table_t.Tpo -c -o libta_abstract_la-table_t.lo `test -f 'tables/table_t.c' || echo './'`tables/table_t.c\n",
            " gcc -DHAVE_CONFIG_H -I. -I../../include -I../ta_common/ -Iframes/ -g -O2 -MT libta_abstract_la-table_t.lo -MD -MP -MF .deps/libta_abstract_la-table_t.Tpo -c tables/table_t.c  -fPIC -DPIC -o .libs/libta_abstract_la-table_t.o\n",
            " gcc -DHAVE_CONFIG_H -I. -I../../include -I../ta_common/ -Iframes/ -g -O2 -MT libta_abstract_la-table_t.lo -MD -MP -MF .deps/libta_abstract_la-table_t.Tpo -c tables/table_t.c -o libta_abstract_la-table_t.o >/dev/null 2>&1\n",
            "mv -f .deps/libta_abstract_la-table_t.Tpo .deps/libta_abstract_la-table_t.Plo\n",
            "/bin/bash ../../libtool --tag=CC   --mode=compile gcc -DHAVE_CONFIG_H -I. -I../../include  -I../ta_common/ -Iframes/   -g -O2 -MT libta_abstract_la-table_u.lo -MD -MP -MF .deps/libta_abstract_la-table_u.Tpo -c -o libta_abstract_la-table_u.lo `test -f 'tables/table_u.c' || echo './'`tables/table_u.c\n",
            " gcc -DHAVE_CONFIG_H -I. -I../../include -I../ta_common/ -Iframes/ -g -O2 -MT libta_abstract_la-table_u.lo -MD -MP -MF .deps/libta_abstract_la-table_u.Tpo -c tables/table_u.c  -fPIC -DPIC -o .libs/libta_abstract_la-table_u.o\n",
            " gcc -DHAVE_CONFIG_H -I. -I../../include -I../ta_common/ -Iframes/ -g -O2 -MT libta_abstract_la-table_u.lo -MD -MP -MF .deps/libta_abstract_la-table_u.Tpo -c tables/table_u.c -o libta_abstract_la-table_u.o >/dev/null 2>&1\n",
            "mv -f .deps/libta_abstract_la-table_u.Tpo .deps/libta_abstract_la-table_u.Plo\n",
            "/bin/bash ../../libtool --tag=CC   --mode=compile gcc -DHAVE_CONFIG_H -I. -I../../include  -I../ta_common/ -Iframes/   -g -O2 -MT libta_abstract_la-table_v.lo -MD -MP -MF .deps/libta_abstract_la-table_v.Tpo -c -o libta_abstract_la-table_v.lo `test -f 'tables/table_v.c' || echo './'`tables/table_v.c\n",
            " gcc -DHAVE_CONFIG_H -I. -I../../include -I../ta_common/ -Iframes/ -g -O2 -MT libta_abstract_la-table_v.lo -MD -MP -MF .deps/libta_abstract_la-table_v.Tpo -c tables/table_v.c  -fPIC -DPIC -o .libs/libta_abstract_la-table_v.o\n",
            " gcc -DHAVE_CONFIG_H -I. -I../../include -I../ta_common/ -Iframes/ -g -O2 -MT libta_abstract_la-table_v.lo -MD -MP -MF .deps/libta_abstract_la-table_v.Tpo -c tables/table_v.c -o libta_abstract_la-table_v.o >/dev/null 2>&1\n",
            "mv -f .deps/libta_abstract_la-table_v.Tpo .deps/libta_abstract_la-table_v.Plo\n",
            "/bin/bash ../../libtool --tag=CC   --mode=compile gcc -DHAVE_CONFIG_H -I. -I../../include  -I../ta_common/ -Iframes/   -g -O2 -MT libta_abstract_la-table_w.lo -MD -MP -MF .deps/libta_abstract_la-table_w.Tpo -c -o libta_abstract_la-table_w.lo `test -f 'tables/table_w.c' || echo './'`tables/table_w.c\n",
            " gcc -DHAVE_CONFIG_H -I. -I../../include -I../ta_common/ -Iframes/ -g -O2 -MT libta_abstract_la-table_w.lo -MD -MP -MF .deps/libta_abstract_la-table_w.Tpo -c tables/table_w.c  -fPIC -DPIC -o .libs/libta_abstract_la-table_w.o\n",
            " gcc -DHAVE_CONFIG_H -I. -I../../include -I../ta_common/ -Iframes/ -g -O2 -MT libta_abstract_la-table_w.lo -MD -MP -MF .deps/libta_abstract_la-table_w.Tpo -c tables/table_w.c -o libta_abstract_la-table_w.o >/dev/null 2>&1\n",
            "mv -f .deps/libta_abstract_la-table_w.Tpo .deps/libta_abstract_la-table_w.Plo\n",
            "/bin/bash ../../libtool --tag=CC   --mode=compile gcc -DHAVE_CONFIG_H -I. -I../../include  -I../ta_common/ -Iframes/   -g -O2 -MT libta_abstract_la-table_x.lo -MD -MP -MF .deps/libta_abstract_la-table_x.Tpo -c -o libta_abstract_la-table_x.lo `test -f 'tables/table_x.c' || echo './'`tables/table_x.c\n",
            " gcc -DHAVE_CONFIG_H -I. -I../../include -I../ta_common/ -Iframes/ -g -O2 -MT libta_abstract_la-table_x.lo -MD -MP -MF .deps/libta_abstract_la-table_x.Tpo -c tables/table_x.c  -fPIC -DPIC -o .libs/libta_abstract_la-table_x.o\n",
            " gcc -DHAVE_CONFIG_H -I. -I../../include -I../ta_common/ -Iframes/ -g -O2 -MT libta_abstract_la-table_x.lo -MD -MP -MF .deps/libta_abstract_la-table_x.Tpo -c tables/table_x.c -o libta_abstract_la-table_x.o >/dev/null 2>&1\n",
            "mv -f .deps/libta_abstract_la-table_x.Tpo .deps/libta_abstract_la-table_x.Plo\n",
            "/bin/bash ../../libtool --tag=CC   --mode=compile gcc -DHAVE_CONFIG_H -I. -I../../include  -I../ta_common/ -Iframes/   -g -O2 -MT libta_abstract_la-table_y.lo -MD -MP -MF .deps/libta_abstract_la-table_y.Tpo -c -o libta_abstract_la-table_y.lo `test -f 'tables/table_y.c' || echo './'`tables/table_y.c\n",
            " gcc -DHAVE_CONFIG_H -I. -I../../include -I../ta_common/ -Iframes/ -g -O2 -MT libta_abstract_la-table_y.lo -MD -MP -MF .deps/libta_abstract_la-table_y.Tpo -c tables/table_y.c  -fPIC -DPIC -o .libs/libta_abstract_la-table_y.o\n",
            " gcc -DHAVE_CONFIG_H -I. -I../../include -I../ta_common/ -Iframes/ -g -O2 -MT libta_abstract_la-table_y.lo -MD -MP -MF .deps/libta_abstract_la-table_y.Tpo -c tables/table_y.c -o libta_abstract_la-table_y.o >/dev/null 2>&1\n",
            "mv -f .deps/libta_abstract_la-table_y.Tpo .deps/libta_abstract_la-table_y.Plo\n",
            "/bin/bash ../../libtool --tag=CC   --mode=compile gcc -DHAVE_CONFIG_H -I. -I../../include  -I../ta_common/ -Iframes/   -g -O2 -MT libta_abstract_la-table_z.lo -MD -MP -MF .deps/libta_abstract_la-table_z.Tpo -c -o libta_abstract_la-table_z.lo `test -f 'tables/table_z.c' || echo './'`tables/table_z.c\n",
            " gcc -DHAVE_CONFIG_H -I. -I../../include -I../ta_common/ -Iframes/ -g -O2 -MT libta_abstract_la-table_z.lo -MD -MP -MF .deps/libta_abstract_la-table_z.Tpo -c tables/table_z.c  -fPIC -DPIC -o .libs/libta_abstract_la-table_z.o\n",
            " gcc -DHAVE_CONFIG_H -I. -I../../include -I../ta_common/ -Iframes/ -g -O2 -MT libta_abstract_la-table_z.lo -MD -MP -MF .deps/libta_abstract_la-table_z.Tpo -c tables/table_z.c -o libta_abstract_la-table_z.o >/dev/null 2>&1\n",
            "mv -f .deps/libta_abstract_la-table_z.Tpo .deps/libta_abstract_la-table_z.Plo\n",
            "/bin/bash ../../libtool --tag=CC   --mode=link gcc  -g -O2 -version-info 0:0:0  -o libta_abstract.la  libta_abstract_la-ta_group_idx.lo libta_abstract_la-ta_def_ui.lo libta_abstract_la-ta_abstract.lo libta_abstract_la-ta_func_api.lo libta_abstract_la-ta_frame.lo libta_abstract_la-table_a.lo libta_abstract_la-table_b.lo libta_abstract_la-table_c.lo libta_abstract_la-table_d.lo libta_abstract_la-table_e.lo libta_abstract_la-table_f.lo libta_abstract_la-table_g.lo libta_abstract_la-table_h.lo libta_abstract_la-table_i.lo libta_abstract_la-table_j.lo libta_abstract_la-table_k.lo libta_abstract_la-table_l.lo libta_abstract_la-table_m.lo libta_abstract_la-table_n.lo libta_abstract_la-table_o.lo libta_abstract_la-table_p.lo libta_abstract_la-table_q.lo libta_abstract_la-table_r.lo libta_abstract_la-table_s.lo libta_abstract_la-table_t.lo libta_abstract_la-table_u.lo libta_abstract_la-table_v.lo libta_abstract_la-table_w.lo libta_abstract_la-table_x.lo libta_abstract_la-table_y.lo libta_abstract_la-table_z.lo  -lpthread -ldl \n",
            "libtool: link: warning: `-version-info/-version-number' is ignored for convenience libraries\n",
            "ar cru .libs/libta_abstract.a .libs/libta_abstract_la-ta_group_idx.o .libs/libta_abstract_la-ta_def_ui.o .libs/libta_abstract_la-ta_abstract.o .libs/libta_abstract_la-ta_func_api.o .libs/libta_abstract_la-ta_frame.o .libs/libta_abstract_la-table_a.o .libs/libta_abstract_la-table_b.o .libs/libta_abstract_la-table_c.o .libs/libta_abstract_la-table_d.o .libs/libta_abstract_la-table_e.o .libs/libta_abstract_la-table_f.o .libs/libta_abstract_la-table_g.o .libs/libta_abstract_la-table_h.o .libs/libta_abstract_la-table_i.o .libs/libta_abstract_la-table_j.o .libs/libta_abstract_la-table_k.o .libs/libta_abstract_la-table_l.o .libs/libta_abstract_la-table_m.o .libs/libta_abstract_la-table_n.o .libs/libta_abstract_la-table_o.o .libs/libta_abstract_la-table_p.o .libs/libta_abstract_la-table_q.o .libs/libta_abstract_la-table_r.o .libs/libta_abstract_la-table_s.o .libs/libta_abstract_la-table_t.o .libs/libta_abstract_la-table_u.o .libs/libta_abstract_la-table_v.o .libs/libta_abstract_la-table_w.o .libs/libta_abstract_la-table_x.o .libs/libta_abstract_la-table_y.o .libs/libta_abstract_la-table_z.o\n",
            "ar: `u' modifier ignored since `D' is the default (see `U')\n",
            "ranlib .libs/libta_abstract.a\n",
            "creating libta_abstract.la\n",
            "(cd .libs && rm -f libta_abstract.la && ln -s ../libta_abstract.la libta_abstract.la)\n",
            "/bin/bash ../../libtool --tag=CC   --mode=compile gcc -DHAVE_CONFIG_H -I. -I../../include  -DTA_GEN_CODE -I../ta_common/ -Iframes/   -g -O2 -MT libta_abstract_gc_la-ta_group_idx.lo -MD -MP -MF .deps/libta_abstract_gc_la-ta_group_idx.Tpo -c -o libta_abstract_gc_la-ta_group_idx.lo `test -f 'ta_group_idx.c' || echo './'`ta_group_idx.c\n",
            " gcc -DHAVE_CONFIG_H -I. -I../../include -DTA_GEN_CODE -I../ta_common/ -Iframes/ -g -O2 -MT libta_abstract_gc_la-ta_group_idx.lo -MD -MP -MF .deps/libta_abstract_gc_la-ta_group_idx.Tpo -c ta_group_idx.c  -fPIC -DPIC -o .libs/libta_abstract_gc_la-ta_group_idx.o\n",
            " gcc -DHAVE_CONFIG_H -I. -I../../include -DTA_GEN_CODE -I../ta_common/ -Iframes/ -g -O2 -MT libta_abstract_gc_la-ta_group_idx.lo -MD -MP -MF .deps/libta_abstract_gc_la-ta_group_idx.Tpo -c ta_group_idx.c -o libta_abstract_gc_la-ta_group_idx.o >/dev/null 2>&1\n",
            "mv -f .deps/libta_abstract_gc_la-ta_group_idx.Tpo .deps/libta_abstract_gc_la-ta_group_idx.Plo\n",
            "/bin/bash ../../libtool --tag=CC   --mode=compile gcc -DHAVE_CONFIG_H -I. -I../../include  -DTA_GEN_CODE -I../ta_common/ -Iframes/   -g -O2 -MT libta_abstract_gc_la-ta_def_ui.lo -MD -MP -MF .deps/libta_abstract_gc_la-ta_def_ui.Tpo -c -o libta_abstract_gc_la-ta_def_ui.lo `test -f 'ta_def_ui.c' || echo './'`ta_def_ui.c\n",
            " gcc -DHAVE_CONFIG_H -I. -I../../include -DTA_GEN_CODE -I../ta_common/ -Iframes/ -g -O2 -MT libta_abstract_gc_la-ta_def_ui.lo -MD -MP -MF .deps/libta_abstract_gc_la-ta_def_ui.Tpo -c ta_def_ui.c  -fPIC -DPIC -o .libs/libta_abstract_gc_la-ta_def_ui.o\n",
            " gcc -DHAVE_CONFIG_H -I. -I../../include -DTA_GEN_CODE -I../ta_common/ -Iframes/ -g -O2 -MT libta_abstract_gc_la-ta_def_ui.lo -MD -MP -MF .deps/libta_abstract_gc_la-ta_def_ui.Tpo -c ta_def_ui.c -o libta_abstract_gc_la-ta_def_ui.o >/dev/null 2>&1\n",
            "mv -f .deps/libta_abstract_gc_la-ta_def_ui.Tpo .deps/libta_abstract_gc_la-ta_def_ui.Plo\n",
            "/bin/bash ../../libtool --tag=CC   --mode=compile gcc -DHAVE_CONFIG_H -I. -I../../include  -DTA_GEN_CODE -I../ta_common/ -Iframes/   -g -O2 -MT libta_abstract_gc_la-ta_abstract.lo -MD -MP -MF .deps/libta_abstract_gc_la-ta_abstract.Tpo -c -o libta_abstract_gc_la-ta_abstract.lo `test -f 'ta_abstract.c' || echo './'`ta_abstract.c\n",
            " gcc -DHAVE_CONFIG_H -I. -I../../include -DTA_GEN_CODE -I../ta_common/ -Iframes/ -g -O2 -MT libta_abstract_gc_la-ta_abstract.lo -MD -MP -MF .deps/libta_abstract_gc_la-ta_abstract.Tpo -c ta_abstract.c  -fPIC -DPIC -o .libs/libta_abstract_gc_la-ta_abstract.o\n",
            " gcc -DHAVE_CONFIG_H -I. -I../../include -DTA_GEN_CODE -I../ta_common/ -Iframes/ -g -O2 -MT libta_abstract_gc_la-ta_abstract.lo -MD -MP -MF .deps/libta_abstract_gc_la-ta_abstract.Tpo -c ta_abstract.c -o libta_abstract_gc_la-ta_abstract.o >/dev/null 2>&1\n",
            "mv -f .deps/libta_abstract_gc_la-ta_abstract.Tpo .deps/libta_abstract_gc_la-ta_abstract.Plo\n",
            "/bin/bash ../../libtool --tag=CC   --mode=compile gcc -DHAVE_CONFIG_H -I. -I../../include  -DTA_GEN_CODE -I../ta_common/ -Iframes/   -g -O2 -MT libta_abstract_gc_la-ta_func_api.lo -MD -MP -MF .deps/libta_abstract_gc_la-ta_func_api.Tpo -c -o libta_abstract_gc_la-ta_func_api.lo `test -f 'ta_func_api.c' || echo './'`ta_func_api.c\n",
            " gcc -DHAVE_CONFIG_H -I. -I../../include -DTA_GEN_CODE -I../ta_common/ -Iframes/ -g -O2 -MT libta_abstract_gc_la-ta_func_api.lo -MD -MP -MF .deps/libta_abstract_gc_la-ta_func_api.Tpo -c ta_func_api.c  -fPIC -DPIC -o .libs/libta_abstract_gc_la-ta_func_api.o\n",
            " gcc -DHAVE_CONFIG_H -I. -I../../include -DTA_GEN_CODE -I../ta_common/ -Iframes/ -g -O2 -MT libta_abstract_gc_la-ta_func_api.lo -MD -MP -MF .deps/libta_abstract_gc_la-ta_func_api.Tpo -c ta_func_api.c -o libta_abstract_gc_la-ta_func_api.o >/dev/null 2>&1\n",
            "mv -f .deps/libta_abstract_gc_la-ta_func_api.Tpo .deps/libta_abstract_gc_la-ta_func_api.Plo\n",
            "/bin/bash ../../libtool --tag=CC   --mode=compile gcc -DHAVE_CONFIG_H -I. -I../../include  -DTA_GEN_CODE -I../ta_common/ -Iframes/   -g -O2 -MT libta_abstract_gc_la-ta_frame.lo -MD -MP -MF .deps/libta_abstract_gc_la-ta_frame.Tpo -c -o libta_abstract_gc_la-ta_frame.lo `test -f 'frames/ta_frame.c' || echo './'`frames/ta_frame.c\n",
            " gcc -DHAVE_CONFIG_H -I. -I../../include -DTA_GEN_CODE -I../ta_common/ -Iframes/ -g -O2 -MT libta_abstract_gc_la-ta_frame.lo -MD -MP -MF .deps/libta_abstract_gc_la-ta_frame.Tpo -c frames/ta_frame.c  -fPIC -DPIC -o .libs/libta_abstract_gc_la-ta_frame.o\n",
            " gcc -DHAVE_CONFIG_H -I. -I../../include -DTA_GEN_CODE -I../ta_common/ -Iframes/ -g -O2 -MT libta_abstract_gc_la-ta_frame.lo -MD -MP -MF .deps/libta_abstract_gc_la-ta_frame.Tpo -c frames/ta_frame.c -o libta_abstract_gc_la-ta_frame.o >/dev/null 2>&1\n",
            "mv -f .deps/libta_abstract_gc_la-ta_frame.Tpo .deps/libta_abstract_gc_la-ta_frame.Plo\n",
            "/bin/bash ../../libtool --tag=CC   --mode=compile gcc -DHAVE_CONFIG_H -I. -I../../include  -DTA_GEN_CODE -I../ta_common/ -Iframes/   -g -O2 -MT libta_abstract_gc_la-table_a.lo -MD -MP -MF .deps/libta_abstract_gc_la-table_a.Tpo -c -o libta_abstract_gc_la-table_a.lo `test -f 'tables/table_a.c' || echo './'`tables/table_a.c\n",
            " gcc -DHAVE_CONFIG_H -I. -I../../include -DTA_GEN_CODE -I../ta_common/ -Iframes/ -g -O2 -MT libta_abstract_gc_la-table_a.lo -MD -MP -MF .deps/libta_abstract_gc_la-table_a.Tpo -c tables/table_a.c  -fPIC -DPIC -o .libs/libta_abstract_gc_la-table_a.o\n",
            " gcc -DHAVE_CONFIG_H -I. -I../../include -DTA_GEN_CODE -I../ta_common/ -Iframes/ -g -O2 -MT libta_abstract_gc_la-table_a.lo -MD -MP -MF .deps/libta_abstract_gc_la-table_a.Tpo -c tables/table_a.c -o libta_abstract_gc_la-table_a.o >/dev/null 2>&1\n",
            "mv -f .deps/libta_abstract_gc_la-table_a.Tpo .deps/libta_abstract_gc_la-table_a.Plo\n",
            "/bin/bash ../../libtool --tag=CC   --mode=compile gcc -DHAVE_CONFIG_H -I. -I../../include  -DTA_GEN_CODE -I../ta_common/ -Iframes/   -g -O2 -MT libta_abstract_gc_la-table_b.lo -MD -MP -MF .deps/libta_abstract_gc_la-table_b.Tpo -c -o libta_abstract_gc_la-table_b.lo `test -f 'tables/table_b.c' || echo './'`tables/table_b.c\n",
            " gcc -DHAVE_CONFIG_H -I. -I../../include -DTA_GEN_CODE -I../ta_common/ -Iframes/ -g -O2 -MT libta_abstract_gc_la-table_b.lo -MD -MP -MF .deps/libta_abstract_gc_la-table_b.Tpo -c tables/table_b.c  -fPIC -DPIC -o .libs/libta_abstract_gc_la-table_b.o\n",
            " gcc -DHAVE_CONFIG_H -I. -I../../include -DTA_GEN_CODE -I../ta_common/ -Iframes/ -g -O2 -MT libta_abstract_gc_la-table_b.lo -MD -MP -MF .deps/libta_abstract_gc_la-table_b.Tpo -c tables/table_b.c -o libta_abstract_gc_la-table_b.o >/dev/null 2>&1\n",
            "mv -f .deps/libta_abstract_gc_la-table_b.Tpo .deps/libta_abstract_gc_la-table_b.Plo\n",
            "/bin/bash ../../libtool --tag=CC   --mode=compile gcc -DHAVE_CONFIG_H -I. -I../../include  -DTA_GEN_CODE -I../ta_common/ -Iframes/   -g -O2 -MT libta_abstract_gc_la-table_c.lo -MD -MP -MF .deps/libta_abstract_gc_la-table_c.Tpo -c -o libta_abstract_gc_la-table_c.lo `test -f 'tables/table_c.c' || echo './'`tables/table_c.c\n",
            " gcc -DHAVE_CONFIG_H -I. -I../../include -DTA_GEN_CODE -I../ta_common/ -Iframes/ -g -O2 -MT libta_abstract_gc_la-table_c.lo -MD -MP -MF .deps/libta_abstract_gc_la-table_c.Tpo -c tables/table_c.c  -fPIC -DPIC -o .libs/libta_abstract_gc_la-table_c.o\n",
            " gcc -DHAVE_CONFIG_H -I. -I../../include -DTA_GEN_CODE -I../ta_common/ -Iframes/ -g -O2 -MT libta_abstract_gc_la-table_c.lo -MD -MP -MF .deps/libta_abstract_gc_la-table_c.Tpo -c tables/table_c.c -o libta_abstract_gc_la-table_c.o >/dev/null 2>&1\n",
            "mv -f .deps/libta_abstract_gc_la-table_c.Tpo .deps/libta_abstract_gc_la-table_c.Plo\n",
            "/bin/bash ../../libtool --tag=CC   --mode=compile gcc -DHAVE_CONFIG_H -I. -I../../include  -DTA_GEN_CODE -I../ta_common/ -Iframes/   -g -O2 -MT libta_abstract_gc_la-table_d.lo -MD -MP -MF .deps/libta_abstract_gc_la-table_d.Tpo -c -o libta_abstract_gc_la-table_d.lo `test -f 'tables/table_d.c' || echo './'`tables/table_d.c\n",
            " gcc -DHAVE_CONFIG_H -I. -I../../include -DTA_GEN_CODE -I../ta_common/ -Iframes/ -g -O2 -MT libta_abstract_gc_la-table_d.lo -MD -MP -MF .deps/libta_abstract_gc_la-table_d.Tpo -c tables/table_d.c  -fPIC -DPIC -o .libs/libta_abstract_gc_la-table_d.o\n",
            " gcc -DHAVE_CONFIG_H -I. -I../../include -DTA_GEN_CODE -I../ta_common/ -Iframes/ -g -O2 -MT libta_abstract_gc_la-table_d.lo -MD -MP -MF .deps/libta_abstract_gc_la-table_d.Tpo -c tables/table_d.c -o libta_abstract_gc_la-table_d.o >/dev/null 2>&1\n",
            "mv -f .deps/libta_abstract_gc_la-table_d.Tpo .deps/libta_abstract_gc_la-table_d.Plo\n",
            "/bin/bash ../../libtool --tag=CC   --mode=compile gcc -DHAVE_CONFIG_H -I. -I../../include  -DTA_GEN_CODE -I../ta_common/ -Iframes/   -g -O2 -MT libta_abstract_gc_la-table_e.lo -MD -MP -MF .deps/libta_abstract_gc_la-table_e.Tpo -c -o libta_abstract_gc_la-table_e.lo `test -f 'tables/table_e.c' || echo './'`tables/table_e.c\n",
            " gcc -DHAVE_CONFIG_H -I. -I../../include -DTA_GEN_CODE -I../ta_common/ -Iframes/ -g -O2 -MT libta_abstract_gc_la-table_e.lo -MD -MP -MF .deps/libta_abstract_gc_la-table_e.Tpo -c tables/table_e.c  -fPIC -DPIC -o .libs/libta_abstract_gc_la-table_e.o\n",
            " gcc -DHAVE_CONFIG_H -I. -I../../include -DTA_GEN_CODE -I../ta_common/ -Iframes/ -g -O2 -MT libta_abstract_gc_la-table_e.lo -MD -MP -MF .deps/libta_abstract_gc_la-table_e.Tpo -c tables/table_e.c -o libta_abstract_gc_la-table_e.o >/dev/null 2>&1\n",
            "mv -f .deps/libta_abstract_gc_la-table_e.Tpo .deps/libta_abstract_gc_la-table_e.Plo\n",
            "/bin/bash ../../libtool --tag=CC   --mode=compile gcc -DHAVE_CONFIG_H -I. -I../../include  -DTA_GEN_CODE -I../ta_common/ -Iframes/   -g -O2 -MT libta_abstract_gc_la-table_f.lo -MD -MP -MF .deps/libta_abstract_gc_la-table_f.Tpo -c -o libta_abstract_gc_la-table_f.lo `test -f 'tables/table_f.c' || echo './'`tables/table_f.c\n",
            " gcc -DHAVE_CONFIG_H -I. -I../../include -DTA_GEN_CODE -I../ta_common/ -Iframes/ -g -O2 -MT libta_abstract_gc_la-table_f.lo -MD -MP -MF .deps/libta_abstract_gc_la-table_f.Tpo -c tables/table_f.c  -fPIC -DPIC -o .libs/libta_abstract_gc_la-table_f.o\n",
            " gcc -DHAVE_CONFIG_H -I. -I../../include -DTA_GEN_CODE -I../ta_common/ -Iframes/ -g -O2 -MT libta_abstract_gc_la-table_f.lo -MD -MP -MF .deps/libta_abstract_gc_la-table_f.Tpo -c tables/table_f.c -o libta_abstract_gc_la-table_f.o >/dev/null 2>&1\n",
            "mv -f .deps/libta_abstract_gc_la-table_f.Tpo .deps/libta_abstract_gc_la-table_f.Plo\n",
            "/bin/bash ../../libtool --tag=CC   --mode=compile gcc -DHAVE_CONFIG_H -I. -I../../include  -DTA_GEN_CODE -I../ta_common/ -Iframes/   -g -O2 -MT libta_abstract_gc_la-table_g.lo -MD -MP -MF .deps/libta_abstract_gc_la-table_g.Tpo -c -o libta_abstract_gc_la-table_g.lo `test -f 'tables/table_g.c' || echo './'`tables/table_g.c\n",
            " gcc -DHAVE_CONFIG_H -I. -I../../include -DTA_GEN_CODE -I../ta_common/ -Iframes/ -g -O2 -MT libta_abstract_gc_la-table_g.lo -MD -MP -MF .deps/libta_abstract_gc_la-table_g.Tpo -c tables/table_g.c  -fPIC -DPIC -o .libs/libta_abstract_gc_la-table_g.o\n",
            " gcc -DHAVE_CONFIG_H -I. -I../../include -DTA_GEN_CODE -I../ta_common/ -Iframes/ -g -O2 -MT libta_abstract_gc_la-table_g.lo -MD -MP -MF .deps/libta_abstract_gc_la-table_g.Tpo -c tables/table_g.c -o libta_abstract_gc_la-table_g.o >/dev/null 2>&1\n",
            "mv -f .deps/libta_abstract_gc_la-table_g.Tpo .deps/libta_abstract_gc_la-table_g.Plo\n",
            "/bin/bash ../../libtool --tag=CC   --mode=compile gcc -DHAVE_CONFIG_H -I. -I../../include  -DTA_GEN_CODE -I../ta_common/ -Iframes/   -g -O2 -MT libta_abstract_gc_la-table_h.lo -MD -MP -MF .deps/libta_abstract_gc_la-table_h.Tpo -c -o libta_abstract_gc_la-table_h.lo `test -f 'tables/table_h.c' || echo './'`tables/table_h.c\n",
            " gcc -DHAVE_CONFIG_H -I. -I../../include -DTA_GEN_CODE -I../ta_common/ -Iframes/ -g -O2 -MT libta_abstract_gc_la-table_h.lo -MD -MP -MF .deps/libta_abstract_gc_la-table_h.Tpo -c tables/table_h.c  -fPIC -DPIC -o .libs/libta_abstract_gc_la-table_h.o\n",
            " gcc -DHAVE_CONFIG_H -I. -I../../include -DTA_GEN_CODE -I../ta_common/ -Iframes/ -g -O2 -MT libta_abstract_gc_la-table_h.lo -MD -MP -MF .deps/libta_abstract_gc_la-table_h.Tpo -c tables/table_h.c -o libta_abstract_gc_la-table_h.o >/dev/null 2>&1\n",
            "mv -f .deps/libta_abstract_gc_la-table_h.Tpo .deps/libta_abstract_gc_la-table_h.Plo\n",
            "/bin/bash ../../libtool --tag=CC   --mode=compile gcc -DHAVE_CONFIG_H -I. -I../../include  -DTA_GEN_CODE -I../ta_common/ -Iframes/   -g -O2 -MT libta_abstract_gc_la-table_i.lo -MD -MP -MF .deps/libta_abstract_gc_la-table_i.Tpo -c -o libta_abstract_gc_la-table_i.lo `test -f 'tables/table_i.c' || echo './'`tables/table_i.c\n",
            " gcc -DHAVE_CONFIG_H -I. -I../../include -DTA_GEN_CODE -I../ta_common/ -Iframes/ -g -O2 -MT libta_abstract_gc_la-table_i.lo -MD -MP -MF .deps/libta_abstract_gc_la-table_i.Tpo -c tables/table_i.c  -fPIC -DPIC -o .libs/libta_abstract_gc_la-table_i.o\n",
            " gcc -DHAVE_CONFIG_H -I. -I../../include -DTA_GEN_CODE -I../ta_common/ -Iframes/ -g -O2 -MT libta_abstract_gc_la-table_i.lo -MD -MP -MF .deps/libta_abstract_gc_la-table_i.Tpo -c tables/table_i.c -o libta_abstract_gc_la-table_i.o >/dev/null 2>&1\n",
            "mv -f .deps/libta_abstract_gc_la-table_i.Tpo .deps/libta_abstract_gc_la-table_i.Plo\n",
            "/bin/bash ../../libtool --tag=CC   --mode=compile gcc -DHAVE_CONFIG_H -I. -I../../include  -DTA_GEN_CODE -I../ta_common/ -Iframes/   -g -O2 -MT libta_abstract_gc_la-table_j.lo -MD -MP -MF .deps/libta_abstract_gc_la-table_j.Tpo -c -o libta_abstract_gc_la-table_j.lo `test -f 'tables/table_j.c' || echo './'`tables/table_j.c\n",
            " gcc -DHAVE_CONFIG_H -I. -I../../include -DTA_GEN_CODE -I../ta_common/ -Iframes/ -g -O2 -MT libta_abstract_gc_la-table_j.lo -MD -MP -MF .deps/libta_abstract_gc_la-table_j.Tpo -c tables/table_j.c  -fPIC -DPIC -o .libs/libta_abstract_gc_la-table_j.o\n",
            " gcc -DHAVE_CONFIG_H -I. -I../../include -DTA_GEN_CODE -I../ta_common/ -Iframes/ -g -O2 -MT libta_abstract_gc_la-table_j.lo -MD -MP -MF .deps/libta_abstract_gc_la-table_j.Tpo -c tables/table_j.c -o libta_abstract_gc_la-table_j.o >/dev/null 2>&1\n",
            "mv -f .deps/libta_abstract_gc_la-table_j.Tpo .deps/libta_abstract_gc_la-table_j.Plo\n",
            "/bin/bash ../../libtool --tag=CC   --mode=compile gcc -DHAVE_CONFIG_H -I. -I../../include  -DTA_GEN_CODE -I../ta_common/ -Iframes/   -g -O2 -MT libta_abstract_gc_la-table_k.lo -MD -MP -MF .deps/libta_abstract_gc_la-table_k.Tpo -c -o libta_abstract_gc_la-table_k.lo `test -f 'tables/table_k.c' || echo './'`tables/table_k.c\n",
            " gcc -DHAVE_CONFIG_H -I. -I../../include -DTA_GEN_CODE -I../ta_common/ -Iframes/ -g -O2 -MT libta_abstract_gc_la-table_k.lo -MD -MP -MF .deps/libta_abstract_gc_la-table_k.Tpo -c tables/table_k.c  -fPIC -DPIC -o .libs/libta_abstract_gc_la-table_k.o\n",
            " gcc -DHAVE_CONFIG_H -I. -I../../include -DTA_GEN_CODE -I../ta_common/ -Iframes/ -g -O2 -MT libta_abstract_gc_la-table_k.lo -MD -MP -MF .deps/libta_abstract_gc_la-table_k.Tpo -c tables/table_k.c -o libta_abstract_gc_la-table_k.o >/dev/null 2>&1\n",
            "mv -f .deps/libta_abstract_gc_la-table_k.Tpo .deps/libta_abstract_gc_la-table_k.Plo\n",
            "/bin/bash ../../libtool --tag=CC   --mode=compile gcc -DHAVE_CONFIG_H -I. -I../../include  -DTA_GEN_CODE -I../ta_common/ -Iframes/   -g -O2 -MT libta_abstract_gc_la-table_l.lo -MD -MP -MF .deps/libta_abstract_gc_la-table_l.Tpo -c -o libta_abstract_gc_la-table_l.lo `test -f 'tables/table_l.c' || echo './'`tables/table_l.c\n",
            " gcc -DHAVE_CONFIG_H -I. -I../../include -DTA_GEN_CODE -I../ta_common/ -Iframes/ -g -O2 -MT libta_abstract_gc_la-table_l.lo -MD -MP -MF .deps/libta_abstract_gc_la-table_l.Tpo -c tables/table_l.c  -fPIC -DPIC -o .libs/libta_abstract_gc_la-table_l.o\n",
            " gcc -DHAVE_CONFIG_H -I. -I../../include -DTA_GEN_CODE -I../ta_common/ -Iframes/ -g -O2 -MT libta_abstract_gc_la-table_l.lo -MD -MP -MF .deps/libta_abstract_gc_la-table_l.Tpo -c tables/table_l.c -o libta_abstract_gc_la-table_l.o >/dev/null 2>&1\n",
            "mv -f .deps/libta_abstract_gc_la-table_l.Tpo .deps/libta_abstract_gc_la-table_l.Plo\n",
            "/bin/bash ../../libtool --tag=CC   --mode=compile gcc -DHAVE_CONFIG_H -I. -I../../include  -DTA_GEN_CODE -I../ta_common/ -Iframes/   -g -O2 -MT libta_abstract_gc_la-table_m.lo -MD -MP -MF .deps/libta_abstract_gc_la-table_m.Tpo -c -o libta_abstract_gc_la-table_m.lo `test -f 'tables/table_m.c' || echo './'`tables/table_m.c\n",
            " gcc -DHAVE_CONFIG_H -I. -I../../include -DTA_GEN_CODE -I../ta_common/ -Iframes/ -g -O2 -MT libta_abstract_gc_la-table_m.lo -MD -MP -MF .deps/libta_abstract_gc_la-table_m.Tpo -c tables/table_m.c  -fPIC -DPIC -o .libs/libta_abstract_gc_la-table_m.o\n",
            " gcc -DHAVE_CONFIG_H -I. -I../../include -DTA_GEN_CODE -I../ta_common/ -Iframes/ -g -O2 -MT libta_abstract_gc_la-table_m.lo -MD -MP -MF .deps/libta_abstract_gc_la-table_m.Tpo -c tables/table_m.c -o libta_abstract_gc_la-table_m.o >/dev/null 2>&1\n",
            "mv -f .deps/libta_abstract_gc_la-table_m.Tpo .deps/libta_abstract_gc_la-table_m.Plo\n",
            "/bin/bash ../../libtool --tag=CC   --mode=compile gcc -DHAVE_CONFIG_H -I. -I../../include  -DTA_GEN_CODE -I../ta_common/ -Iframes/   -g -O2 -MT libta_abstract_gc_la-table_n.lo -MD -MP -MF .deps/libta_abstract_gc_la-table_n.Tpo -c -o libta_abstract_gc_la-table_n.lo `test -f 'tables/table_n.c' || echo './'`tables/table_n.c\n",
            " gcc -DHAVE_CONFIG_H -I. -I../../include -DTA_GEN_CODE -I../ta_common/ -Iframes/ -g -O2 -MT libta_abstract_gc_la-table_n.lo -MD -MP -MF .deps/libta_abstract_gc_la-table_n.Tpo -c tables/table_n.c  -fPIC -DPIC -o .libs/libta_abstract_gc_la-table_n.o\n",
            " gcc -DHAVE_CONFIG_H -I. -I../../include -DTA_GEN_CODE -I../ta_common/ -Iframes/ -g -O2 -MT libta_abstract_gc_la-table_n.lo -MD -MP -MF .deps/libta_abstract_gc_la-table_n.Tpo -c tables/table_n.c -o libta_abstract_gc_la-table_n.o >/dev/null 2>&1\n",
            "mv -f .deps/libta_abstract_gc_la-table_n.Tpo .deps/libta_abstract_gc_la-table_n.Plo\n",
            "/bin/bash ../../libtool --tag=CC   --mode=compile gcc -DHAVE_CONFIG_H -I. -I../../include  -DTA_GEN_CODE -I../ta_common/ -Iframes/   -g -O2 -MT libta_abstract_gc_la-table_o.lo -MD -MP -MF .deps/libta_abstract_gc_la-table_o.Tpo -c -o libta_abstract_gc_la-table_o.lo `test -f 'tables/table_o.c' || echo './'`tables/table_o.c\n",
            " gcc -DHAVE_CONFIG_H -I. -I../../include -DTA_GEN_CODE -I../ta_common/ -Iframes/ -g -O2 -MT libta_abstract_gc_la-table_o.lo -MD -MP -MF .deps/libta_abstract_gc_la-table_o.Tpo -c tables/table_o.c  -fPIC -DPIC -o .libs/libta_abstract_gc_la-table_o.o\n",
            " gcc -DHAVE_CONFIG_H -I. -I../../include -DTA_GEN_CODE -I../ta_common/ -Iframes/ -g -O2 -MT libta_abstract_gc_la-table_o.lo -MD -MP -MF .deps/libta_abstract_gc_la-table_o.Tpo -c tables/table_o.c -o libta_abstract_gc_la-table_o.o >/dev/null 2>&1\n",
            "mv -f .deps/libta_abstract_gc_la-table_o.Tpo .deps/libta_abstract_gc_la-table_o.Plo\n",
            "/bin/bash ../../libtool --tag=CC   --mode=compile gcc -DHAVE_CONFIG_H -I. -I../../include  -DTA_GEN_CODE -I../ta_common/ -Iframes/   -g -O2 -MT libta_abstract_gc_la-table_p.lo -MD -MP -MF .deps/libta_abstract_gc_la-table_p.Tpo -c -o libta_abstract_gc_la-table_p.lo `test -f 'tables/table_p.c' || echo './'`tables/table_p.c\n",
            " gcc -DHAVE_CONFIG_H -I. -I../../include -DTA_GEN_CODE -I../ta_common/ -Iframes/ -g -O2 -MT libta_abstract_gc_la-table_p.lo -MD -MP -MF .deps/libta_abstract_gc_la-table_p.Tpo -c tables/table_p.c  -fPIC -DPIC -o .libs/libta_abstract_gc_la-table_p.o\n",
            " gcc -DHAVE_CONFIG_H -I. -I../../include -DTA_GEN_CODE -I../ta_common/ -Iframes/ -g -O2 -MT libta_abstract_gc_la-table_p.lo -MD -MP -MF .deps/libta_abstract_gc_la-table_p.Tpo -c tables/table_p.c -o libta_abstract_gc_la-table_p.o >/dev/null 2>&1\n",
            "mv -f .deps/libta_abstract_gc_la-table_p.Tpo .deps/libta_abstract_gc_la-table_p.Plo\n",
            "/bin/bash ../../libtool --tag=CC   --mode=compile gcc -DHAVE_CONFIG_H -I. -I../../include  -DTA_GEN_CODE -I../ta_common/ -Iframes/   -g -O2 -MT libta_abstract_gc_la-table_q.lo -MD -MP -MF .deps/libta_abstract_gc_la-table_q.Tpo -c -o libta_abstract_gc_la-table_q.lo `test -f 'tables/table_q.c' || echo './'`tables/table_q.c\n",
            " gcc -DHAVE_CONFIG_H -I. -I../../include -DTA_GEN_CODE -I../ta_common/ -Iframes/ -g -O2 -MT libta_abstract_gc_la-table_q.lo -MD -MP -MF .deps/libta_abstract_gc_la-table_q.Tpo -c tables/table_q.c  -fPIC -DPIC -o .libs/libta_abstract_gc_la-table_q.o\n",
            " gcc -DHAVE_CONFIG_H -I. -I../../include -DTA_GEN_CODE -I../ta_common/ -Iframes/ -g -O2 -MT libta_abstract_gc_la-table_q.lo -MD -MP -MF .deps/libta_abstract_gc_la-table_q.Tpo -c tables/table_q.c -o libta_abstract_gc_la-table_q.o >/dev/null 2>&1\n",
            "mv -f .deps/libta_abstract_gc_la-table_q.Tpo .deps/libta_abstract_gc_la-table_q.Plo\n",
            "/bin/bash ../../libtool --tag=CC   --mode=compile gcc -DHAVE_CONFIG_H -I. -I../../include  -DTA_GEN_CODE -I../ta_common/ -Iframes/   -g -O2 -MT libta_abstract_gc_la-table_r.lo -MD -MP -MF .deps/libta_abstract_gc_la-table_r.Tpo -c -o libta_abstract_gc_la-table_r.lo `test -f 'tables/table_r.c' || echo './'`tables/table_r.c\n",
            " gcc -DHAVE_CONFIG_H -I. -I../../include -DTA_GEN_CODE -I../ta_common/ -Iframes/ -g -O2 -MT libta_abstract_gc_la-table_r.lo -MD -MP -MF .deps/libta_abstract_gc_la-table_r.Tpo -c tables/table_r.c  -fPIC -DPIC -o .libs/libta_abstract_gc_la-table_r.o\n",
            " gcc -DHAVE_CONFIG_H -I. -I../../include -DTA_GEN_CODE -I../ta_common/ -Iframes/ -g -O2 -MT libta_abstract_gc_la-table_r.lo -MD -MP -MF .deps/libta_abstract_gc_la-table_r.Tpo -c tables/table_r.c -o libta_abstract_gc_la-table_r.o >/dev/null 2>&1\n",
            "mv -f .deps/libta_abstract_gc_la-table_r.Tpo .deps/libta_abstract_gc_la-table_r.Plo\n",
            "/bin/bash ../../libtool --tag=CC   --mode=compile gcc -DHAVE_CONFIG_H -I. -I../../include  -DTA_GEN_CODE -I../ta_common/ -Iframes/   -g -O2 -MT libta_abstract_gc_la-table_s.lo -MD -MP -MF .deps/libta_abstract_gc_la-table_s.Tpo -c -o libta_abstract_gc_la-table_s.lo `test -f 'tables/table_s.c' || echo './'`tables/table_s.c\n",
            " gcc -DHAVE_CONFIG_H -I. -I../../include -DTA_GEN_CODE -I../ta_common/ -Iframes/ -g -O2 -MT libta_abstract_gc_la-table_s.lo -MD -MP -MF .deps/libta_abstract_gc_la-table_s.Tpo -c tables/table_s.c  -fPIC -DPIC -o .libs/libta_abstract_gc_la-table_s.o\n",
            " gcc -DHAVE_CONFIG_H -I. -I../../include -DTA_GEN_CODE -I../ta_common/ -Iframes/ -g -O2 -MT libta_abstract_gc_la-table_s.lo -MD -MP -MF .deps/libta_abstract_gc_la-table_s.Tpo -c tables/table_s.c -o libta_abstract_gc_la-table_s.o >/dev/null 2>&1\n",
            "mv -f .deps/libta_abstract_gc_la-table_s.Tpo .deps/libta_abstract_gc_la-table_s.Plo\n",
            "/bin/bash ../../libtool --tag=CC   --mode=compile gcc -DHAVE_CONFIG_H -I. -I../../include  -DTA_GEN_CODE -I../ta_common/ -Iframes/   -g -O2 -MT libta_abstract_gc_la-table_t.lo -MD -MP -MF .deps/libta_abstract_gc_la-table_t.Tpo -c -o libta_abstract_gc_la-table_t.lo `test -f 'tables/table_t.c' || echo './'`tables/table_t.c\n",
            " gcc -DHAVE_CONFIG_H -I. -I../../include -DTA_GEN_CODE -I../ta_common/ -Iframes/ -g -O2 -MT libta_abstract_gc_la-table_t.lo -MD -MP -MF .deps/libta_abstract_gc_la-table_t.Tpo -c tables/table_t.c  -fPIC -DPIC -o .libs/libta_abstract_gc_la-table_t.o\n",
            " gcc -DHAVE_CONFIG_H -I. -I../../include -DTA_GEN_CODE -I../ta_common/ -Iframes/ -g -O2 -MT libta_abstract_gc_la-table_t.lo -MD -MP -MF .deps/libta_abstract_gc_la-table_t.Tpo -c tables/table_t.c -o libta_abstract_gc_la-table_t.o >/dev/null 2>&1\n",
            "mv -f .deps/libta_abstract_gc_la-table_t.Tpo .deps/libta_abstract_gc_la-table_t.Plo\n",
            "/bin/bash ../../libtool --tag=CC   --mode=compile gcc -DHAVE_CONFIG_H -I. -I../../include  -DTA_GEN_CODE -I../ta_common/ -Iframes/   -g -O2 -MT libta_abstract_gc_la-table_u.lo -MD -MP -MF .deps/libta_abstract_gc_la-table_u.Tpo -c -o libta_abstract_gc_la-table_u.lo `test -f 'tables/table_u.c' || echo './'`tables/table_u.c\n",
            " gcc -DHAVE_CONFIG_H -I. -I../../include -DTA_GEN_CODE -I../ta_common/ -Iframes/ -g -O2 -MT libta_abstract_gc_la-table_u.lo -MD -MP -MF .deps/libta_abstract_gc_la-table_u.Tpo -c tables/table_u.c  -fPIC -DPIC -o .libs/libta_abstract_gc_la-table_u.o\n",
            " gcc -DHAVE_CONFIG_H -I. -I../../include -DTA_GEN_CODE -I../ta_common/ -Iframes/ -g -O2 -MT libta_abstract_gc_la-table_u.lo -MD -MP -MF .deps/libta_abstract_gc_la-table_u.Tpo -c tables/table_u.c -o libta_abstract_gc_la-table_u.o >/dev/null 2>&1\n",
            "mv -f .deps/libta_abstract_gc_la-table_u.Tpo .deps/libta_abstract_gc_la-table_u.Plo\n",
            "/bin/bash ../../libtool --tag=CC   --mode=compile gcc -DHAVE_CONFIG_H -I. -I../../include  -DTA_GEN_CODE -I../ta_common/ -Iframes/   -g -O2 -MT libta_abstract_gc_la-table_v.lo -MD -MP -MF .deps/libta_abstract_gc_la-table_v.Tpo -c -o libta_abstract_gc_la-table_v.lo `test -f 'tables/table_v.c' || echo './'`tables/table_v.c\n",
            " gcc -DHAVE_CONFIG_H -I. -I../../include -DTA_GEN_CODE -I../ta_common/ -Iframes/ -g -O2 -MT libta_abstract_gc_la-table_v.lo -MD -MP -MF .deps/libta_abstract_gc_la-table_v.Tpo -c tables/table_v.c  -fPIC -DPIC -o .libs/libta_abstract_gc_la-table_v.o\n",
            " gcc -DHAVE_CONFIG_H -I. -I../../include -DTA_GEN_CODE -I../ta_common/ -Iframes/ -g -O2 -MT libta_abstract_gc_la-table_v.lo -MD -MP -MF .deps/libta_abstract_gc_la-table_v.Tpo -c tables/table_v.c -o libta_abstract_gc_la-table_v.o >/dev/null 2>&1\n",
            "mv -f .deps/libta_abstract_gc_la-table_v.Tpo .deps/libta_abstract_gc_la-table_v.Plo\n",
            "/bin/bash ../../libtool --tag=CC   --mode=compile gcc -DHAVE_CONFIG_H -I. -I../../include  -DTA_GEN_CODE -I../ta_common/ -Iframes/   -g -O2 -MT libta_abstract_gc_la-table_w.lo -MD -MP -MF .deps/libta_abstract_gc_la-table_w.Tpo -c -o libta_abstract_gc_la-table_w.lo `test -f 'tables/table_w.c' || echo './'`tables/table_w.c\n",
            " gcc -DHAVE_CONFIG_H -I. -I../../include -DTA_GEN_CODE -I../ta_common/ -Iframes/ -g -O2 -MT libta_abstract_gc_la-table_w.lo -MD -MP -MF .deps/libta_abstract_gc_la-table_w.Tpo -c tables/table_w.c  -fPIC -DPIC -o .libs/libta_abstract_gc_la-table_w.o\n",
            " gcc -DHAVE_CONFIG_H -I. -I../../include -DTA_GEN_CODE -I../ta_common/ -Iframes/ -g -O2 -MT libta_abstract_gc_la-table_w.lo -MD -MP -MF .deps/libta_abstract_gc_la-table_w.Tpo -c tables/table_w.c -o libta_abstract_gc_la-table_w.o >/dev/null 2>&1\n",
            "mv -f .deps/libta_abstract_gc_la-table_w.Tpo .deps/libta_abstract_gc_la-table_w.Plo\n",
            "/bin/bash ../../libtool --tag=CC   --mode=compile gcc -DHAVE_CONFIG_H -I. -I../../include  -DTA_GEN_CODE -I../ta_common/ -Iframes/   -g -O2 -MT libta_abstract_gc_la-table_x.lo -MD -MP -MF .deps/libta_abstract_gc_la-table_x.Tpo -c -o libta_abstract_gc_la-table_x.lo `test -f 'tables/table_x.c' || echo './'`tables/table_x.c\n",
            " gcc -DHAVE_CONFIG_H -I. -I../../include -DTA_GEN_CODE -I../ta_common/ -Iframes/ -g -O2 -MT libta_abstract_gc_la-table_x.lo -MD -MP -MF .deps/libta_abstract_gc_la-table_x.Tpo -c tables/table_x.c  -fPIC -DPIC -o .libs/libta_abstract_gc_la-table_x.o\n",
            " gcc -DHAVE_CONFIG_H -I. -I../../include -DTA_GEN_CODE -I../ta_common/ -Iframes/ -g -O2 -MT libta_abstract_gc_la-table_x.lo -MD -MP -MF .deps/libta_abstract_gc_la-table_x.Tpo -c tables/table_x.c -o libta_abstract_gc_la-table_x.o >/dev/null 2>&1\n",
            "mv -f .deps/libta_abstract_gc_la-table_x.Tpo .deps/libta_abstract_gc_la-table_x.Plo\n",
            "/bin/bash ../../libtool --tag=CC   --mode=compile gcc -DHAVE_CONFIG_H -I. -I../../include  -DTA_GEN_CODE -I../ta_common/ -Iframes/   -g -O2 -MT libta_abstract_gc_la-table_y.lo -MD -MP -MF .deps/libta_abstract_gc_la-table_y.Tpo -c -o libta_abstract_gc_la-table_y.lo `test -f 'tables/table_y.c' || echo './'`tables/table_y.c\n",
            " gcc -DHAVE_CONFIG_H -I. -I../../include -DTA_GEN_CODE -I../ta_common/ -Iframes/ -g -O2 -MT libta_abstract_gc_la-table_y.lo -MD -MP -MF .deps/libta_abstract_gc_la-table_y.Tpo -c tables/table_y.c  -fPIC -DPIC -o .libs/libta_abstract_gc_la-table_y.o\n",
            " gcc -DHAVE_CONFIG_H -I. -I../../include -DTA_GEN_CODE -I../ta_common/ -Iframes/ -g -O2 -MT libta_abstract_gc_la-table_y.lo -MD -MP -MF .deps/libta_abstract_gc_la-table_y.Tpo -c tables/table_y.c -o libta_abstract_gc_la-table_y.o >/dev/null 2>&1\n",
            "mv -f .deps/libta_abstract_gc_la-table_y.Tpo .deps/libta_abstract_gc_la-table_y.Plo\n",
            "/bin/bash ../../libtool --tag=CC   --mode=compile gcc -DHAVE_CONFIG_H -I. -I../../include  -DTA_GEN_CODE -I../ta_common/ -Iframes/   -g -O2 -MT libta_abstract_gc_la-table_z.lo -MD -MP -MF .deps/libta_abstract_gc_la-table_z.Tpo -c -o libta_abstract_gc_la-table_z.lo `test -f 'tables/table_z.c' || echo './'`tables/table_z.c\n",
            " gcc -DHAVE_CONFIG_H -I. -I../../include -DTA_GEN_CODE -I../ta_common/ -Iframes/ -g -O2 -MT libta_abstract_gc_la-table_z.lo -MD -MP -MF .deps/libta_abstract_gc_la-table_z.Tpo -c tables/table_z.c  -fPIC -DPIC -o .libs/libta_abstract_gc_la-table_z.o\n",
            " gcc -DHAVE_CONFIG_H -I. -I../../include -DTA_GEN_CODE -I../ta_common/ -Iframes/ -g -O2 -MT libta_abstract_gc_la-table_z.lo -MD -MP -MF .deps/libta_abstract_gc_la-table_z.Tpo -c tables/table_z.c -o libta_abstract_gc_la-table_z.o >/dev/null 2>&1\n",
            "mv -f .deps/libta_abstract_gc_la-table_z.Tpo .deps/libta_abstract_gc_la-table_z.Plo\n",
            "/bin/bash ../../libtool --tag=CC   --mode=link gcc  -g -O2 -version-info 0:0:0  -o libta_abstract_gc.la  libta_abstract_gc_la-ta_group_idx.lo libta_abstract_gc_la-ta_def_ui.lo libta_abstract_gc_la-ta_abstract.lo libta_abstract_gc_la-ta_func_api.lo libta_abstract_gc_la-ta_frame.lo libta_abstract_gc_la-table_a.lo libta_abstract_gc_la-table_b.lo libta_abstract_gc_la-table_c.lo libta_abstract_gc_la-table_d.lo libta_abstract_gc_la-table_e.lo libta_abstract_gc_la-table_f.lo libta_abstract_gc_la-table_g.lo libta_abstract_gc_la-table_h.lo libta_abstract_gc_la-table_i.lo libta_abstract_gc_la-table_j.lo libta_abstract_gc_la-table_k.lo libta_abstract_gc_la-table_l.lo libta_abstract_gc_la-table_m.lo libta_abstract_gc_la-table_n.lo libta_abstract_gc_la-table_o.lo libta_abstract_gc_la-table_p.lo libta_abstract_gc_la-table_q.lo libta_abstract_gc_la-table_r.lo libta_abstract_gc_la-table_s.lo libta_abstract_gc_la-table_t.lo libta_abstract_gc_la-table_u.lo libta_abstract_gc_la-table_v.lo libta_abstract_gc_la-table_w.lo libta_abstract_gc_la-table_x.lo libta_abstract_gc_la-table_y.lo libta_abstract_gc_la-table_z.lo  -lpthread -ldl \n",
            "libtool: link: warning: `-version-info/-version-number' is ignored for convenience libraries\n",
            "ar cru .libs/libta_abstract_gc.a .libs/libta_abstract_gc_la-ta_group_idx.o .libs/libta_abstract_gc_la-ta_def_ui.o .libs/libta_abstract_gc_la-ta_abstract.o .libs/libta_abstract_gc_la-ta_func_api.o .libs/libta_abstract_gc_la-ta_frame.o .libs/libta_abstract_gc_la-table_a.o .libs/libta_abstract_gc_la-table_b.o .libs/libta_abstract_gc_la-table_c.o .libs/libta_abstract_gc_la-table_d.o .libs/libta_abstract_gc_la-table_e.o .libs/libta_abstract_gc_la-table_f.o .libs/libta_abstract_gc_la-table_g.o .libs/libta_abstract_gc_la-table_h.o .libs/libta_abstract_gc_la-table_i.o .libs/libta_abstract_gc_la-table_j.o .libs/libta_abstract_gc_la-table_k.o .libs/libta_abstract_gc_la-table_l.o .libs/libta_abstract_gc_la-table_m.o .libs/libta_abstract_gc_la-table_n.o .libs/libta_abstract_gc_la-table_o.o .libs/libta_abstract_gc_la-table_p.o .libs/libta_abstract_gc_la-table_q.o .libs/libta_abstract_gc_la-table_r.o .libs/libta_abstract_gc_la-table_s.o .libs/libta_abstract_gc_la-table_t.o .libs/libta_abstract_gc_la-table_u.o .libs/libta_abstract_gc_la-table_v.o .libs/libta_abstract_gc_la-table_w.o .libs/libta_abstract_gc_la-table_x.o .libs/libta_abstract_gc_la-table_y.o .libs/libta_abstract_gc_la-table_z.o\n",
            "ar: `u' modifier ignored since `D' is the default (see `U')\n",
            "ranlib .libs/libta_abstract_gc.a\n",
            "creating libta_abstract_gc.la\n",
            "(cd .libs && rm -f libta_abstract_gc.la && ln -s ../libta_abstract_gc.la libta_abstract_gc.la)\n",
            "make[2]: Leaving directory '/content/ta-lib/src/ta_abstract'\n",
            "Making all in ta_common\n",
            "make[2]: Entering directory '/content/ta-lib/src/ta_common'\n",
            "/bin/bash ../../libtool --tag=CC   --mode=compile gcc -DHAVE_CONFIG_H -I. -I../../include  -I../ta_common/   -g -O2 -MT ta_global.lo -MD -MP -MF .deps/ta_global.Tpo -c -o ta_global.lo ta_global.c\n",
            "mkdir .libs\n",
            " gcc -DHAVE_CONFIG_H -I. -I../../include -I../ta_common/ -g -O2 -MT ta_global.lo -MD -MP -MF .deps/ta_global.Tpo -c ta_global.c  -fPIC -DPIC -o .libs/ta_global.o\n",
            " gcc -DHAVE_CONFIG_H -I. -I../../include -I../ta_common/ -g -O2 -MT ta_global.lo -MD -MP -MF .deps/ta_global.Tpo -c ta_global.c -o ta_global.o >/dev/null 2>&1\n",
            "mv -f .deps/ta_global.Tpo .deps/ta_global.Plo\n",
            "/bin/bash ../../libtool --tag=CC   --mode=compile gcc -DHAVE_CONFIG_H -I. -I../../include  -I../ta_common/   -g -O2 -MT ta_retcode.lo -MD -MP -MF .deps/ta_retcode.Tpo -c -o ta_retcode.lo ta_retcode.c\n",
            " gcc -DHAVE_CONFIG_H -I. -I../../include -I../ta_common/ -g -O2 -MT ta_retcode.lo -MD -MP -MF .deps/ta_retcode.Tpo -c ta_retcode.c  -fPIC -DPIC -o .libs/ta_retcode.o\n",
            " gcc -DHAVE_CONFIG_H -I. -I../../include -I../ta_common/ -g -O2 -MT ta_retcode.lo -MD -MP -MF .deps/ta_retcode.Tpo -c ta_retcode.c -o ta_retcode.o >/dev/null 2>&1\n",
            "mv -f .deps/ta_retcode.Tpo .deps/ta_retcode.Plo\n",
            "/bin/bash ../../libtool --tag=CC   --mode=compile gcc -DHAVE_CONFIG_H -I. -I../../include  -I../ta_common/   -g -O2 -MT ta_version.lo -MD -MP -MF .deps/ta_version.Tpo -c -o ta_version.lo ta_version.c\n",
            " gcc -DHAVE_CONFIG_H -I. -I../../include -I../ta_common/ -g -O2 -MT ta_version.lo -MD -MP -MF .deps/ta_version.Tpo -c ta_version.c  -fPIC -DPIC -o .libs/ta_version.o\n",
            " gcc -DHAVE_CONFIG_H -I. -I../../include -I../ta_common/ -g -O2 -MT ta_version.lo -MD -MP -MF .deps/ta_version.Tpo -c ta_version.c -o ta_version.o >/dev/null 2>&1\n",
            "mv -f .deps/ta_version.Tpo .deps/ta_version.Plo\n",
            "/bin/bash ../../libtool --tag=CC   --mode=link gcc  -g -O2 -version-info 0:0:0  -o libta_common.la  ta_global.lo ta_retcode.lo ta_version.lo  -lpthread -ldl \n",
            "libtool: link: warning: `-version-info/-version-number' is ignored for convenience libraries\n",
            "ar cru .libs/libta_common.a .libs/ta_global.o .libs/ta_retcode.o .libs/ta_version.o\n",
            "ar: `u' modifier ignored since `D' is the default (see `U')\n",
            "ranlib .libs/libta_common.a\n",
            "creating libta_common.la\n",
            "(cd .libs && rm -f libta_common.la && ln -s ../libta_common.la libta_common.la)\n",
            "make[2]: Leaving directory '/content/ta-lib/src/ta_common'\n",
            "Making all in ta_func\n",
            "make[2]: Entering directory '/content/ta-lib/src/ta_func'\n",
            "/bin/bash ../../libtool --tag=CC   --mode=compile gcc -DHAVE_CONFIG_H -I. -I../../include  -I../ta_common/   -g -O2 -MT ta_utility.lo -MD -MP -MF .deps/ta_utility.Tpo -c -o ta_utility.lo ta_utility.c\n",
            "mkdir .libs\n",
            " gcc -DHAVE_CONFIG_H -I. -I../../include -I../ta_common/ -g -O2 -MT ta_utility.lo -MD -MP -MF .deps/ta_utility.Tpo -c ta_utility.c  -fPIC -DPIC -o .libs/ta_utility.o\n",
            " gcc -DHAVE_CONFIG_H -I. -I../../include -I../ta_common/ -g -O2 -MT ta_utility.lo -MD -MP -MF .deps/ta_utility.Tpo -c ta_utility.c -o ta_utility.o >/dev/null 2>&1\n",
            "mv -f .deps/ta_utility.Tpo .deps/ta_utility.Plo\n",
            "/bin/bash ../../libtool --tag=CC   --mode=compile gcc -DHAVE_CONFIG_H -I. -I../../include  -I../ta_common/   -g -O2 -MT ta_ACOS.lo -MD -MP -MF .deps/ta_ACOS.Tpo -c -o ta_ACOS.lo ta_ACOS.c\n",
            " gcc -DHAVE_CONFIG_H -I. -I../../include -I../ta_common/ -g -O2 -MT ta_ACOS.lo -MD -MP -MF .deps/ta_ACOS.Tpo -c ta_ACOS.c  -fPIC -DPIC -o .libs/ta_ACOS.o\n",
            " gcc -DHAVE_CONFIG_H -I. -I../../include -I../ta_common/ -g -O2 -MT ta_ACOS.lo -MD -MP -MF .deps/ta_ACOS.Tpo -c ta_ACOS.c -o ta_ACOS.o >/dev/null 2>&1\n",
            "mv -f .deps/ta_ACOS.Tpo .deps/ta_ACOS.Plo\n",
            "/bin/bash ../../libtool --tag=CC   --mode=compile gcc -DHAVE_CONFIG_H -I. -I../../include  -I../ta_common/   -g -O2 -MT ta_AD.lo -MD -MP -MF .deps/ta_AD.Tpo -c -o ta_AD.lo ta_AD.c\n",
            " gcc -DHAVE_CONFIG_H -I. -I../../include -I../ta_common/ -g -O2 -MT ta_AD.lo -MD -MP -MF .deps/ta_AD.Tpo -c ta_AD.c  -fPIC -DPIC -o .libs/ta_AD.o\n",
            " gcc -DHAVE_CONFIG_H -I. -I../../include -I../ta_common/ -g -O2 -MT ta_AD.lo -MD -MP -MF .deps/ta_AD.Tpo -c ta_AD.c -o ta_AD.o >/dev/null 2>&1\n",
            "mv -f .deps/ta_AD.Tpo .deps/ta_AD.Plo\n",
            "/bin/bash ../../libtool --tag=CC   --mode=compile gcc -DHAVE_CONFIG_H -I. -I../../include  -I../ta_common/   -g -O2 -MT ta_ADD.lo -MD -MP -MF .deps/ta_ADD.Tpo -c -o ta_ADD.lo ta_ADD.c\n",
            " gcc -DHAVE_CONFIG_H -I. -I../../include -I../ta_common/ -g -O2 -MT ta_ADD.lo -MD -MP -MF .deps/ta_ADD.Tpo -c ta_ADD.c  -fPIC -DPIC -o .libs/ta_ADD.o\n",
            " gcc -DHAVE_CONFIG_H -I. -I../../include -I../ta_common/ -g -O2 -MT ta_ADD.lo -MD -MP -MF .deps/ta_ADD.Tpo -c ta_ADD.c -o ta_ADD.o >/dev/null 2>&1\n",
            "mv -f .deps/ta_ADD.Tpo .deps/ta_ADD.Plo\n",
            "/bin/bash ../../libtool --tag=CC   --mode=compile gcc -DHAVE_CONFIG_H -I. -I../../include  -I../ta_common/   -g -O2 -MT ta_ADOSC.lo -MD -MP -MF .deps/ta_ADOSC.Tpo -c -o ta_ADOSC.lo ta_ADOSC.c\n",
            " gcc -DHAVE_CONFIG_H -I. -I../../include -I../ta_common/ -g -O2 -MT ta_ADOSC.lo -MD -MP -MF .deps/ta_ADOSC.Tpo -c ta_ADOSC.c  -fPIC -DPIC -o .libs/ta_ADOSC.o\n",
            " gcc -DHAVE_CONFIG_H -I. -I../../include -I../ta_common/ -g -O2 -MT ta_ADOSC.lo -MD -MP -MF .deps/ta_ADOSC.Tpo -c ta_ADOSC.c -o ta_ADOSC.o >/dev/null 2>&1\n",
            "mv -f .deps/ta_ADOSC.Tpo .deps/ta_ADOSC.Plo\n",
            "/bin/bash ../../libtool --tag=CC   --mode=compile gcc -DHAVE_CONFIG_H -I. -I../../include  -I../ta_common/   -g -O2 -MT ta_ADX.lo -MD -MP -MF .deps/ta_ADX.Tpo -c -o ta_ADX.lo ta_ADX.c\n",
            " gcc -DHAVE_CONFIG_H -I. -I../../include -I../ta_common/ -g -O2 -MT ta_ADX.lo -MD -MP -MF .deps/ta_ADX.Tpo -c ta_ADX.c  -fPIC -DPIC -o .libs/ta_ADX.o\n",
            " gcc -DHAVE_CONFIG_H -I. -I../../include -I../ta_common/ -g -O2 -MT ta_ADX.lo -MD -MP -MF .deps/ta_ADX.Tpo -c ta_ADX.c -o ta_ADX.o >/dev/null 2>&1\n",
            "mv -f .deps/ta_ADX.Tpo .deps/ta_ADX.Plo\n",
            "/bin/bash ../../libtool --tag=CC   --mode=compile gcc -DHAVE_CONFIG_H -I. -I../../include  -I../ta_common/   -g -O2 -MT ta_ADXR.lo -MD -MP -MF .deps/ta_ADXR.Tpo -c -o ta_ADXR.lo ta_ADXR.c\n",
            " gcc -DHAVE_CONFIG_H -I. -I../../include -I../ta_common/ -g -O2 -MT ta_ADXR.lo -MD -MP -MF .deps/ta_ADXR.Tpo -c ta_ADXR.c  -fPIC -DPIC -o .libs/ta_ADXR.o\n",
            " gcc -DHAVE_CONFIG_H -I. -I../../include -I../ta_common/ -g -O2 -MT ta_ADXR.lo -MD -MP -MF .deps/ta_ADXR.Tpo -c ta_ADXR.c -o ta_ADXR.o >/dev/null 2>&1\n",
            "mv -f .deps/ta_ADXR.Tpo .deps/ta_ADXR.Plo\n",
            "/bin/bash ../../libtool --tag=CC   --mode=compile gcc -DHAVE_CONFIG_H -I. -I../../include  -I../ta_common/   -g -O2 -MT ta_APO.lo -MD -MP -MF .deps/ta_APO.Tpo -c -o ta_APO.lo ta_APO.c\n",
            " gcc -DHAVE_CONFIG_H -I. -I../../include -I../ta_common/ -g -O2 -MT ta_APO.lo -MD -MP -MF .deps/ta_APO.Tpo -c ta_APO.c  -fPIC -DPIC -o .libs/ta_APO.o\n",
            " gcc -DHAVE_CONFIG_H -I. -I../../include -I../ta_common/ -g -O2 -MT ta_APO.lo -MD -MP -MF .deps/ta_APO.Tpo -c ta_APO.c -o ta_APO.o >/dev/null 2>&1\n",
            "mv -f .deps/ta_APO.Tpo .deps/ta_APO.Plo\n",
            "/bin/bash ../../libtool --tag=CC   --mode=compile gcc -DHAVE_CONFIG_H -I. -I../../include  -I../ta_common/   -g -O2 -MT ta_AROON.lo -MD -MP -MF .deps/ta_AROON.Tpo -c -o ta_AROON.lo ta_AROON.c\n",
            " gcc -DHAVE_CONFIG_H -I. -I../../include -I../ta_common/ -g -O2 -MT ta_AROON.lo -MD -MP -MF .deps/ta_AROON.Tpo -c ta_AROON.c  -fPIC -DPIC -o .libs/ta_AROON.o\n",
            " gcc -DHAVE_CONFIG_H -I. -I../../include -I../ta_common/ -g -O2 -MT ta_AROON.lo -MD -MP -MF .deps/ta_AROON.Tpo -c ta_AROON.c -o ta_AROON.o >/dev/null 2>&1\n",
            "mv -f .deps/ta_AROON.Tpo .deps/ta_AROON.Plo\n",
            "/bin/bash ../../libtool --tag=CC   --mode=compile gcc -DHAVE_CONFIG_H -I. -I../../include  -I../ta_common/   -g -O2 -MT ta_AROONOSC.lo -MD -MP -MF .deps/ta_AROONOSC.Tpo -c -o ta_AROONOSC.lo ta_AROONOSC.c\n",
            " gcc -DHAVE_CONFIG_H -I. -I../../include -I../ta_common/ -g -O2 -MT ta_AROONOSC.lo -MD -MP -MF .deps/ta_AROONOSC.Tpo -c ta_AROONOSC.c  -fPIC -DPIC -o .libs/ta_AROONOSC.o\n",
            " gcc -DHAVE_CONFIG_H -I. -I../../include -I../ta_common/ -g -O2 -MT ta_AROONOSC.lo -MD -MP -MF .deps/ta_AROONOSC.Tpo -c ta_AROONOSC.c -o ta_AROONOSC.o >/dev/null 2>&1\n",
            "mv -f .deps/ta_AROONOSC.Tpo .deps/ta_AROONOSC.Plo\n",
            "/bin/bash ../../libtool --tag=CC   --mode=compile gcc -DHAVE_CONFIG_H -I. -I../../include  -I../ta_common/   -g -O2 -MT ta_ASIN.lo -MD -MP -MF .deps/ta_ASIN.Tpo -c -o ta_ASIN.lo ta_ASIN.c\n",
            " gcc -DHAVE_CONFIG_H -I. -I../../include -I../ta_common/ -g -O2 -MT ta_ASIN.lo -MD -MP -MF .deps/ta_ASIN.Tpo -c ta_ASIN.c  -fPIC -DPIC -o .libs/ta_ASIN.o\n",
            " gcc -DHAVE_CONFIG_H -I. -I../../include -I../ta_common/ -g -O2 -MT ta_ASIN.lo -MD -MP -MF .deps/ta_ASIN.Tpo -c ta_ASIN.c -o ta_ASIN.o >/dev/null 2>&1\n",
            "mv -f .deps/ta_ASIN.Tpo .deps/ta_ASIN.Plo\n",
            "/bin/bash ../../libtool --tag=CC   --mode=compile gcc -DHAVE_CONFIG_H -I. -I../../include  -I../ta_common/   -g -O2 -MT ta_ATAN.lo -MD -MP -MF .deps/ta_ATAN.Tpo -c -o ta_ATAN.lo ta_ATAN.c\n",
            " gcc -DHAVE_CONFIG_H -I. -I../../include -I../ta_common/ -g -O2 -MT ta_ATAN.lo -MD -MP -MF .deps/ta_ATAN.Tpo -c ta_ATAN.c  -fPIC -DPIC -o .libs/ta_ATAN.o\n",
            " gcc -DHAVE_CONFIG_H -I. -I../../include -I../ta_common/ -g -O2 -MT ta_ATAN.lo -MD -MP -MF .deps/ta_ATAN.Tpo -c ta_ATAN.c -o ta_ATAN.o >/dev/null 2>&1\n",
            "mv -f .deps/ta_ATAN.Tpo .deps/ta_ATAN.Plo\n",
            "/bin/bash ../../libtool --tag=CC   --mode=compile gcc -DHAVE_CONFIG_H -I. -I../../include  -I../ta_common/   -g -O2 -MT ta_ATR.lo -MD -MP -MF .deps/ta_ATR.Tpo -c -o ta_ATR.lo ta_ATR.c\n",
            " gcc -DHAVE_CONFIG_H -I. -I../../include -I../ta_common/ -g -O2 -MT ta_ATR.lo -MD -MP -MF .deps/ta_ATR.Tpo -c ta_ATR.c  -fPIC -DPIC -o .libs/ta_ATR.o\n",
            " gcc -DHAVE_CONFIG_H -I. -I../../include -I../ta_common/ -g -O2 -MT ta_ATR.lo -MD -MP -MF .deps/ta_ATR.Tpo -c ta_ATR.c -o ta_ATR.o >/dev/null 2>&1\n",
            "mv -f .deps/ta_ATR.Tpo .deps/ta_ATR.Plo\n",
            "/bin/bash ../../libtool --tag=CC   --mode=compile gcc -DHAVE_CONFIG_H -I. -I../../include  -I../ta_common/   -g -O2 -MT ta_AVGPRICE.lo -MD -MP -MF .deps/ta_AVGPRICE.Tpo -c -o ta_AVGPRICE.lo ta_AVGPRICE.c\n",
            " gcc -DHAVE_CONFIG_H -I. -I../../include -I../ta_common/ -g -O2 -MT ta_AVGPRICE.lo -MD -MP -MF .deps/ta_AVGPRICE.Tpo -c ta_AVGPRICE.c  -fPIC -DPIC -o .libs/ta_AVGPRICE.o\n",
            " gcc -DHAVE_CONFIG_H -I. -I../../include -I../ta_common/ -g -O2 -MT ta_AVGPRICE.lo -MD -MP -MF .deps/ta_AVGPRICE.Tpo -c ta_AVGPRICE.c -o ta_AVGPRICE.o >/dev/null 2>&1\n",
            "mv -f .deps/ta_AVGPRICE.Tpo .deps/ta_AVGPRICE.Plo\n",
            "/bin/bash ../../libtool --tag=CC   --mode=compile gcc -DHAVE_CONFIG_H -I. -I../../include  -I../ta_common/   -g -O2 -MT ta_BBANDS.lo -MD -MP -MF .deps/ta_BBANDS.Tpo -c -o ta_BBANDS.lo ta_BBANDS.c\n",
            " gcc -DHAVE_CONFIG_H -I. -I../../include -I../ta_common/ -g -O2 -MT ta_BBANDS.lo -MD -MP -MF .deps/ta_BBANDS.Tpo -c ta_BBANDS.c  -fPIC -DPIC -o .libs/ta_BBANDS.o\n",
            " gcc -DHAVE_CONFIG_H -I. -I../../include -I../ta_common/ -g -O2 -MT ta_BBANDS.lo -MD -MP -MF .deps/ta_BBANDS.Tpo -c ta_BBANDS.c -o ta_BBANDS.o >/dev/null 2>&1\n",
            "mv -f .deps/ta_BBANDS.Tpo .deps/ta_BBANDS.Plo\n",
            "/bin/bash ../../libtool --tag=CC   --mode=compile gcc -DHAVE_CONFIG_H -I. -I../../include  -I../ta_common/   -g -O2 -MT ta_BETA.lo -MD -MP -MF .deps/ta_BETA.Tpo -c -o ta_BETA.lo ta_BETA.c\n",
            " gcc -DHAVE_CONFIG_H -I. -I../../include -I../ta_common/ -g -O2 -MT ta_BETA.lo -MD -MP -MF .deps/ta_BETA.Tpo -c ta_BETA.c  -fPIC -DPIC -o .libs/ta_BETA.o\n",
            " gcc -DHAVE_CONFIG_H -I. -I../../include -I../ta_common/ -g -O2 -MT ta_BETA.lo -MD -MP -MF .deps/ta_BETA.Tpo -c ta_BETA.c -o ta_BETA.o >/dev/null 2>&1\n",
            "mv -f .deps/ta_BETA.Tpo .deps/ta_BETA.Plo\n",
            "/bin/bash ../../libtool --tag=CC   --mode=compile gcc -DHAVE_CONFIG_H -I. -I../../include  -I../ta_common/   -g -O2 -MT ta_BOP.lo -MD -MP -MF .deps/ta_BOP.Tpo -c -o ta_BOP.lo ta_BOP.c\n",
            " gcc -DHAVE_CONFIG_H -I. -I../../include -I../ta_common/ -g -O2 -MT ta_BOP.lo -MD -MP -MF .deps/ta_BOP.Tpo -c ta_BOP.c  -fPIC -DPIC -o .libs/ta_BOP.o\n",
            " gcc -DHAVE_CONFIG_H -I. -I../../include -I../ta_common/ -g -O2 -MT ta_BOP.lo -MD -MP -MF .deps/ta_BOP.Tpo -c ta_BOP.c -o ta_BOP.o >/dev/null 2>&1\n",
            "mv -f .deps/ta_BOP.Tpo .deps/ta_BOP.Plo\n",
            "/bin/bash ../../libtool --tag=CC   --mode=compile gcc -DHAVE_CONFIG_H -I. -I../../include  -I../ta_common/   -g -O2 -MT ta_CCI.lo -MD -MP -MF .deps/ta_CCI.Tpo -c -o ta_CCI.lo ta_CCI.c\n",
            " gcc -DHAVE_CONFIG_H -I. -I../../include -I../ta_common/ -g -O2 -MT ta_CCI.lo -MD -MP -MF .deps/ta_CCI.Tpo -c ta_CCI.c  -fPIC -DPIC -o .libs/ta_CCI.o\n",
            " gcc -DHAVE_CONFIG_H -I. -I../../include -I../ta_common/ -g -O2 -MT ta_CCI.lo -MD -MP -MF .deps/ta_CCI.Tpo -c ta_CCI.c -o ta_CCI.o >/dev/null 2>&1\n",
            "mv -f .deps/ta_CCI.Tpo .deps/ta_CCI.Plo\n",
            "/bin/bash ../../libtool --tag=CC   --mode=compile gcc -DHAVE_CONFIG_H -I. -I../../include  -I../ta_common/   -g -O2 -MT ta_CDL2CROWS.lo -MD -MP -MF .deps/ta_CDL2CROWS.Tpo -c -o ta_CDL2CROWS.lo ta_CDL2CROWS.c\n",
            " gcc -DHAVE_CONFIG_H -I. -I../../include -I../ta_common/ -g -O2 -MT ta_CDL2CROWS.lo -MD -MP -MF .deps/ta_CDL2CROWS.Tpo -c ta_CDL2CROWS.c  -fPIC -DPIC -o .libs/ta_CDL2CROWS.o\n",
            " gcc -DHAVE_CONFIG_H -I. -I../../include -I../ta_common/ -g -O2 -MT ta_CDL2CROWS.lo -MD -MP -MF .deps/ta_CDL2CROWS.Tpo -c ta_CDL2CROWS.c -o ta_CDL2CROWS.o >/dev/null 2>&1\n",
            "mv -f .deps/ta_CDL2CROWS.Tpo .deps/ta_CDL2CROWS.Plo\n",
            "/bin/bash ../../libtool --tag=CC   --mode=compile gcc -DHAVE_CONFIG_H -I. -I../../include  -I../ta_common/   -g -O2 -MT ta_CDL3BLACKCROWS.lo -MD -MP -MF .deps/ta_CDL3BLACKCROWS.Tpo -c -o ta_CDL3BLACKCROWS.lo ta_CDL3BLACKCROWS.c\n",
            " gcc -DHAVE_CONFIG_H -I. -I../../include -I../ta_common/ -g -O2 -MT ta_CDL3BLACKCROWS.lo -MD -MP -MF .deps/ta_CDL3BLACKCROWS.Tpo -c ta_CDL3BLACKCROWS.c  -fPIC -DPIC -o .libs/ta_CDL3BLACKCROWS.o\n",
            " gcc -DHAVE_CONFIG_H -I. -I../../include -I../ta_common/ -g -O2 -MT ta_CDL3BLACKCROWS.lo -MD -MP -MF .deps/ta_CDL3BLACKCROWS.Tpo -c ta_CDL3BLACKCROWS.c -o ta_CDL3BLACKCROWS.o >/dev/null 2>&1\n",
            "mv -f .deps/ta_CDL3BLACKCROWS.Tpo .deps/ta_CDL3BLACKCROWS.Plo\n",
            "/bin/bash ../../libtool --tag=CC   --mode=compile gcc -DHAVE_CONFIG_H -I. -I../../include  -I../ta_common/   -g -O2 -MT ta_CDL3INSIDE.lo -MD -MP -MF .deps/ta_CDL3INSIDE.Tpo -c -o ta_CDL3INSIDE.lo ta_CDL3INSIDE.c\n",
            " gcc -DHAVE_CONFIG_H -I. -I../../include -I../ta_common/ -g -O2 -MT ta_CDL3INSIDE.lo -MD -MP -MF .deps/ta_CDL3INSIDE.Tpo -c ta_CDL3INSIDE.c  -fPIC -DPIC -o .libs/ta_CDL3INSIDE.o\n",
            " gcc -DHAVE_CONFIG_H -I. -I../../include -I../ta_common/ -g -O2 -MT ta_CDL3INSIDE.lo -MD -MP -MF .deps/ta_CDL3INSIDE.Tpo -c ta_CDL3INSIDE.c -o ta_CDL3INSIDE.o >/dev/null 2>&1\n",
            "mv -f .deps/ta_CDL3INSIDE.Tpo .deps/ta_CDL3INSIDE.Plo\n",
            "/bin/bash ../../libtool --tag=CC   --mode=compile gcc -DHAVE_CONFIG_H -I. -I../../include  -I../ta_common/   -g -O2 -MT ta_CDL3LINESTRIKE.lo -MD -MP -MF .deps/ta_CDL3LINESTRIKE.Tpo -c -o ta_CDL3LINESTRIKE.lo ta_CDL3LINESTRIKE.c\n",
            " gcc -DHAVE_CONFIG_H -I. -I../../include -I../ta_common/ -g -O2 -MT ta_CDL3LINESTRIKE.lo -MD -MP -MF .deps/ta_CDL3LINESTRIKE.Tpo -c ta_CDL3LINESTRIKE.c  -fPIC -DPIC -o .libs/ta_CDL3LINESTRIKE.o\n",
            " gcc -DHAVE_CONFIG_H -I. -I../../include -I../ta_common/ -g -O2 -MT ta_CDL3LINESTRIKE.lo -MD -MP -MF .deps/ta_CDL3LINESTRIKE.Tpo -c ta_CDL3LINESTRIKE.c -o ta_CDL3LINESTRIKE.o >/dev/null 2>&1\n",
            "mv -f .deps/ta_CDL3LINESTRIKE.Tpo .deps/ta_CDL3LINESTRIKE.Plo\n",
            "/bin/bash ../../libtool --tag=CC   --mode=compile gcc -DHAVE_CONFIG_H -I. -I../../include  -I../ta_common/   -g -O2 -MT ta_CDL3OUTSIDE.lo -MD -MP -MF .deps/ta_CDL3OUTSIDE.Tpo -c -o ta_CDL3OUTSIDE.lo ta_CDL3OUTSIDE.c\n",
            " gcc -DHAVE_CONFIG_H -I. -I../../include -I../ta_common/ -g -O2 -MT ta_CDL3OUTSIDE.lo -MD -MP -MF .deps/ta_CDL3OUTSIDE.Tpo -c ta_CDL3OUTSIDE.c  -fPIC -DPIC -o .libs/ta_CDL3OUTSIDE.o\n",
            " gcc -DHAVE_CONFIG_H -I. -I../../include -I../ta_common/ -g -O2 -MT ta_CDL3OUTSIDE.lo -MD -MP -MF .deps/ta_CDL3OUTSIDE.Tpo -c ta_CDL3OUTSIDE.c -o ta_CDL3OUTSIDE.o >/dev/null 2>&1\n",
            "mv -f .deps/ta_CDL3OUTSIDE.Tpo .deps/ta_CDL3OUTSIDE.Plo\n",
            "/bin/bash ../../libtool --tag=CC   --mode=compile gcc -DHAVE_CONFIG_H -I. -I../../include  -I../ta_common/   -g -O2 -MT ta_CDL3STARSINSOUTH.lo -MD -MP -MF .deps/ta_CDL3STARSINSOUTH.Tpo -c -o ta_CDL3STARSINSOUTH.lo ta_CDL3STARSINSOUTH.c\n",
            " gcc -DHAVE_CONFIG_H -I. -I../../include -I../ta_common/ -g -O2 -MT ta_CDL3STARSINSOUTH.lo -MD -MP -MF .deps/ta_CDL3STARSINSOUTH.Tpo -c ta_CDL3STARSINSOUTH.c  -fPIC -DPIC -o .libs/ta_CDL3STARSINSOUTH.o\n",
            " gcc -DHAVE_CONFIG_H -I. -I../../include -I../ta_common/ -g -O2 -MT ta_CDL3STARSINSOUTH.lo -MD -MP -MF .deps/ta_CDL3STARSINSOUTH.Tpo -c ta_CDL3STARSINSOUTH.c -o ta_CDL3STARSINSOUTH.o >/dev/null 2>&1\n",
            "mv -f .deps/ta_CDL3STARSINSOUTH.Tpo .deps/ta_CDL3STARSINSOUTH.Plo\n",
            "/bin/bash ../../libtool --tag=CC   --mode=compile gcc -DHAVE_CONFIG_H -I. -I../../include  -I../ta_common/   -g -O2 -MT ta_CDL3WHITESOLDIERS.lo -MD -MP -MF .deps/ta_CDL3WHITESOLDIERS.Tpo -c -o ta_CDL3WHITESOLDIERS.lo ta_CDL3WHITESOLDIERS.c\n",
            " gcc -DHAVE_CONFIG_H -I. -I../../include -I../ta_common/ -g -O2 -MT ta_CDL3WHITESOLDIERS.lo -MD -MP -MF .deps/ta_CDL3WHITESOLDIERS.Tpo -c ta_CDL3WHITESOLDIERS.c  -fPIC -DPIC -o .libs/ta_CDL3WHITESOLDIERS.o\n",
            " gcc -DHAVE_CONFIG_H -I. -I../../include -I../ta_common/ -g -O2 -MT ta_CDL3WHITESOLDIERS.lo -MD -MP -MF .deps/ta_CDL3WHITESOLDIERS.Tpo -c ta_CDL3WHITESOLDIERS.c -o ta_CDL3WHITESOLDIERS.o >/dev/null 2>&1\n",
            "mv -f .deps/ta_CDL3WHITESOLDIERS.Tpo .deps/ta_CDL3WHITESOLDIERS.Plo\n",
            "/bin/bash ../../libtool --tag=CC   --mode=compile gcc -DHAVE_CONFIG_H -I. -I../../include  -I../ta_common/   -g -O2 -MT ta_CDLABANDONEDBABY.lo -MD -MP -MF .deps/ta_CDLABANDONEDBABY.Tpo -c -o ta_CDLABANDONEDBABY.lo ta_CDLABANDONEDBABY.c\n",
            " gcc -DHAVE_CONFIG_H -I. -I../../include -I../ta_common/ -g -O2 -MT ta_CDLABANDONEDBABY.lo -MD -MP -MF .deps/ta_CDLABANDONEDBABY.Tpo -c ta_CDLABANDONEDBABY.c  -fPIC -DPIC -o .libs/ta_CDLABANDONEDBABY.o\n",
            " gcc -DHAVE_CONFIG_H -I. -I../../include -I../ta_common/ -g -O2 -MT ta_CDLABANDONEDBABY.lo -MD -MP -MF .deps/ta_CDLABANDONEDBABY.Tpo -c ta_CDLABANDONEDBABY.c -o ta_CDLABANDONEDBABY.o >/dev/null 2>&1\n",
            "mv -f .deps/ta_CDLABANDONEDBABY.Tpo .deps/ta_CDLABANDONEDBABY.Plo\n",
            "/bin/bash ../../libtool --tag=CC   --mode=compile gcc -DHAVE_CONFIG_H -I. -I../../include  -I../ta_common/   -g -O2 -MT ta_CDLADVANCEBLOCK.lo -MD -MP -MF .deps/ta_CDLADVANCEBLOCK.Tpo -c -o ta_CDLADVANCEBLOCK.lo ta_CDLADVANCEBLOCK.c\n",
            " gcc -DHAVE_CONFIG_H -I. -I../../include -I../ta_common/ -g -O2 -MT ta_CDLADVANCEBLOCK.lo -MD -MP -MF .deps/ta_CDLADVANCEBLOCK.Tpo -c ta_CDLADVANCEBLOCK.c  -fPIC -DPIC -o .libs/ta_CDLADVANCEBLOCK.o\n",
            " gcc -DHAVE_CONFIG_H -I. -I../../include -I../ta_common/ -g -O2 -MT ta_CDLADVANCEBLOCK.lo -MD -MP -MF .deps/ta_CDLADVANCEBLOCK.Tpo -c ta_CDLADVANCEBLOCK.c -o ta_CDLADVANCEBLOCK.o >/dev/null 2>&1\n",
            "mv -f .deps/ta_CDLADVANCEBLOCK.Tpo .deps/ta_CDLADVANCEBLOCK.Plo\n",
            "/bin/bash ../../libtool --tag=CC   --mode=compile gcc -DHAVE_CONFIG_H -I. -I../../include  -I../ta_common/   -g -O2 -MT ta_CDLBELTHOLD.lo -MD -MP -MF .deps/ta_CDLBELTHOLD.Tpo -c -o ta_CDLBELTHOLD.lo ta_CDLBELTHOLD.c\n",
            " gcc -DHAVE_CONFIG_H -I. -I../../include -I../ta_common/ -g -O2 -MT ta_CDLBELTHOLD.lo -MD -MP -MF .deps/ta_CDLBELTHOLD.Tpo -c ta_CDLBELTHOLD.c  -fPIC -DPIC -o .libs/ta_CDLBELTHOLD.o\n",
            " gcc -DHAVE_CONFIG_H -I. -I../../include -I../ta_common/ -g -O2 -MT ta_CDLBELTHOLD.lo -MD -MP -MF .deps/ta_CDLBELTHOLD.Tpo -c ta_CDLBELTHOLD.c -o ta_CDLBELTHOLD.o >/dev/null 2>&1\n",
            "mv -f .deps/ta_CDLBELTHOLD.Tpo .deps/ta_CDLBELTHOLD.Plo\n",
            "/bin/bash ../../libtool --tag=CC   --mode=compile gcc -DHAVE_CONFIG_H -I. -I../../include  -I../ta_common/   -g -O2 -MT ta_CDLBREAKAWAY.lo -MD -MP -MF .deps/ta_CDLBREAKAWAY.Tpo -c -o ta_CDLBREAKAWAY.lo ta_CDLBREAKAWAY.c\n",
            " gcc -DHAVE_CONFIG_H -I. -I../../include -I../ta_common/ -g -O2 -MT ta_CDLBREAKAWAY.lo -MD -MP -MF .deps/ta_CDLBREAKAWAY.Tpo -c ta_CDLBREAKAWAY.c  -fPIC -DPIC -o .libs/ta_CDLBREAKAWAY.o\n",
            " gcc -DHAVE_CONFIG_H -I. -I../../include -I../ta_common/ -g -O2 -MT ta_CDLBREAKAWAY.lo -MD -MP -MF .deps/ta_CDLBREAKAWAY.Tpo -c ta_CDLBREAKAWAY.c -o ta_CDLBREAKAWAY.o >/dev/null 2>&1\n",
            "mv -f .deps/ta_CDLBREAKAWAY.Tpo .deps/ta_CDLBREAKAWAY.Plo\n",
            "/bin/bash ../../libtool --tag=CC   --mode=compile gcc -DHAVE_CONFIG_H -I. -I../../include  -I../ta_common/   -g -O2 -MT ta_CDLCLOSINGMARUBOZU.lo -MD -MP -MF .deps/ta_CDLCLOSINGMARUBOZU.Tpo -c -o ta_CDLCLOSINGMARUBOZU.lo ta_CDLCLOSINGMARUBOZU.c\n",
            " gcc -DHAVE_CONFIG_H -I. -I../../include -I../ta_common/ -g -O2 -MT ta_CDLCLOSINGMARUBOZU.lo -MD -MP -MF .deps/ta_CDLCLOSINGMARUBOZU.Tpo -c ta_CDLCLOSINGMARUBOZU.c  -fPIC -DPIC -o .libs/ta_CDLCLOSINGMARUBOZU.o\n",
            " gcc -DHAVE_CONFIG_H -I. -I../../include -I../ta_common/ -g -O2 -MT ta_CDLCLOSINGMARUBOZU.lo -MD -MP -MF .deps/ta_CDLCLOSINGMARUBOZU.Tpo -c ta_CDLCLOSINGMARUBOZU.c -o ta_CDLCLOSINGMARUBOZU.o >/dev/null 2>&1\n",
            "mv -f .deps/ta_CDLCLOSINGMARUBOZU.Tpo .deps/ta_CDLCLOSINGMARUBOZU.Plo\n",
            "/bin/bash ../../libtool --tag=CC   --mode=compile gcc -DHAVE_CONFIG_H -I. -I../../include  -I../ta_common/   -g -O2 -MT ta_CDLCONCEALBABYSWALL.lo -MD -MP -MF .deps/ta_CDLCONCEALBABYSWALL.Tpo -c -o ta_CDLCONCEALBABYSWALL.lo ta_CDLCONCEALBABYSWALL.c\n",
            " gcc -DHAVE_CONFIG_H -I. -I../../include -I../ta_common/ -g -O2 -MT ta_CDLCONCEALBABYSWALL.lo -MD -MP -MF .deps/ta_CDLCONCEALBABYSWALL.Tpo -c ta_CDLCONCEALBABYSWALL.c  -fPIC -DPIC -o .libs/ta_CDLCONCEALBABYSWALL.o\n",
            " gcc -DHAVE_CONFIG_H -I. -I../../include -I../ta_common/ -g -O2 -MT ta_CDLCONCEALBABYSWALL.lo -MD -MP -MF .deps/ta_CDLCONCEALBABYSWALL.Tpo -c ta_CDLCONCEALBABYSWALL.c -o ta_CDLCONCEALBABYSWALL.o >/dev/null 2>&1\n",
            "mv -f .deps/ta_CDLCONCEALBABYSWALL.Tpo .deps/ta_CDLCONCEALBABYSWALL.Plo\n",
            "/bin/bash ../../libtool --tag=CC   --mode=compile gcc -DHAVE_CONFIG_H -I. -I../../include  -I../ta_common/   -g -O2 -MT ta_CDLCOUNTERATTACK.lo -MD -MP -MF .deps/ta_CDLCOUNTERATTACK.Tpo -c -o ta_CDLCOUNTERATTACK.lo ta_CDLCOUNTERATTACK.c\n",
            " gcc -DHAVE_CONFIG_H -I. -I../../include -I../ta_common/ -g -O2 -MT ta_CDLCOUNTERATTACK.lo -MD -MP -MF .deps/ta_CDLCOUNTERATTACK.Tpo -c ta_CDLCOUNTERATTACK.c  -fPIC -DPIC -o .libs/ta_CDLCOUNTERATTACK.o\n",
            " gcc -DHAVE_CONFIG_H -I. -I../../include -I../ta_common/ -g -O2 -MT ta_CDLCOUNTERATTACK.lo -MD -MP -MF .deps/ta_CDLCOUNTERATTACK.Tpo -c ta_CDLCOUNTERATTACK.c -o ta_CDLCOUNTERATTACK.o >/dev/null 2>&1\n",
            "mv -f .deps/ta_CDLCOUNTERATTACK.Tpo .deps/ta_CDLCOUNTERATTACK.Plo\n",
            "/bin/bash ../../libtool --tag=CC   --mode=compile gcc -DHAVE_CONFIG_H -I. -I../../include  -I../ta_common/   -g -O2 -MT ta_CDLDARKCLOUDCOVER.lo -MD -MP -MF .deps/ta_CDLDARKCLOUDCOVER.Tpo -c -o ta_CDLDARKCLOUDCOVER.lo ta_CDLDARKCLOUDCOVER.c\n",
            " gcc -DHAVE_CONFIG_H -I. -I../../include -I../ta_common/ -g -O2 -MT ta_CDLDARKCLOUDCOVER.lo -MD -MP -MF .deps/ta_CDLDARKCLOUDCOVER.Tpo -c ta_CDLDARKCLOUDCOVER.c  -fPIC -DPIC -o .libs/ta_CDLDARKCLOUDCOVER.o\n",
            " gcc -DHAVE_CONFIG_H -I. -I../../include -I../ta_common/ -g -O2 -MT ta_CDLDARKCLOUDCOVER.lo -MD -MP -MF .deps/ta_CDLDARKCLOUDCOVER.Tpo -c ta_CDLDARKCLOUDCOVER.c -o ta_CDLDARKCLOUDCOVER.o >/dev/null 2>&1\n",
            "mv -f .deps/ta_CDLDARKCLOUDCOVER.Tpo .deps/ta_CDLDARKCLOUDCOVER.Plo\n",
            "/bin/bash ../../libtool --tag=CC   --mode=compile gcc -DHAVE_CONFIG_H -I. -I../../include  -I../ta_common/   -g -O2 -MT ta_CDLDOJI.lo -MD -MP -MF .deps/ta_CDLDOJI.Tpo -c -o ta_CDLDOJI.lo ta_CDLDOJI.c\n",
            " gcc -DHAVE_CONFIG_H -I. -I../../include -I../ta_common/ -g -O2 -MT ta_CDLDOJI.lo -MD -MP -MF .deps/ta_CDLDOJI.Tpo -c ta_CDLDOJI.c  -fPIC -DPIC -o .libs/ta_CDLDOJI.o\n",
            " gcc -DHAVE_CONFIG_H -I. -I../../include -I../ta_common/ -g -O2 -MT ta_CDLDOJI.lo -MD -MP -MF .deps/ta_CDLDOJI.Tpo -c ta_CDLDOJI.c -o ta_CDLDOJI.o >/dev/null 2>&1\n",
            "mv -f .deps/ta_CDLDOJI.Tpo .deps/ta_CDLDOJI.Plo\n",
            "/bin/bash ../../libtool --tag=CC   --mode=compile gcc -DHAVE_CONFIG_H -I. -I../../include  -I../ta_common/   -g -O2 -MT ta_CDLDOJISTAR.lo -MD -MP -MF .deps/ta_CDLDOJISTAR.Tpo -c -o ta_CDLDOJISTAR.lo ta_CDLDOJISTAR.c\n",
            " gcc -DHAVE_CONFIG_H -I. -I../../include -I../ta_common/ -g -O2 -MT ta_CDLDOJISTAR.lo -MD -MP -MF .deps/ta_CDLDOJISTAR.Tpo -c ta_CDLDOJISTAR.c  -fPIC -DPIC -o .libs/ta_CDLDOJISTAR.o\n",
            " gcc -DHAVE_CONFIG_H -I. -I../../include -I../ta_common/ -g -O2 -MT ta_CDLDOJISTAR.lo -MD -MP -MF .deps/ta_CDLDOJISTAR.Tpo -c ta_CDLDOJISTAR.c -o ta_CDLDOJISTAR.o >/dev/null 2>&1\n",
            "mv -f .deps/ta_CDLDOJISTAR.Tpo .deps/ta_CDLDOJISTAR.Plo\n",
            "/bin/bash ../../libtool --tag=CC   --mode=compile gcc -DHAVE_CONFIG_H -I. -I../../include  -I../ta_common/   -g -O2 -MT ta_CDLDRAGONFLYDOJI.lo -MD -MP -MF .deps/ta_CDLDRAGONFLYDOJI.Tpo -c -o ta_CDLDRAGONFLYDOJI.lo ta_CDLDRAGONFLYDOJI.c\n",
            " gcc -DHAVE_CONFIG_H -I. -I../../include -I../ta_common/ -g -O2 -MT ta_CDLDRAGONFLYDOJI.lo -MD -MP -MF .deps/ta_CDLDRAGONFLYDOJI.Tpo -c ta_CDLDRAGONFLYDOJI.c  -fPIC -DPIC -o .libs/ta_CDLDRAGONFLYDOJI.o\n",
            " gcc -DHAVE_CONFIG_H -I. -I../../include -I../ta_common/ -g -O2 -MT ta_CDLDRAGONFLYDOJI.lo -MD -MP -MF .deps/ta_CDLDRAGONFLYDOJI.Tpo -c ta_CDLDRAGONFLYDOJI.c -o ta_CDLDRAGONFLYDOJI.o >/dev/null 2>&1\n",
            "mv -f .deps/ta_CDLDRAGONFLYDOJI.Tpo .deps/ta_CDLDRAGONFLYDOJI.Plo\n",
            "/bin/bash ../../libtool --tag=CC   --mode=compile gcc -DHAVE_CONFIG_H -I. -I../../include  -I../ta_common/   -g -O2 -MT ta_CDLENGULFING.lo -MD -MP -MF .deps/ta_CDLENGULFING.Tpo -c -o ta_CDLENGULFING.lo ta_CDLENGULFING.c\n",
            " gcc -DHAVE_CONFIG_H -I. -I../../include -I../ta_common/ -g -O2 -MT ta_CDLENGULFING.lo -MD -MP -MF .deps/ta_CDLENGULFING.Tpo -c ta_CDLENGULFING.c  -fPIC -DPIC -o .libs/ta_CDLENGULFING.o\n",
            " gcc -DHAVE_CONFIG_H -I. -I../../include -I../ta_common/ -g -O2 -MT ta_CDLENGULFING.lo -MD -MP -MF .deps/ta_CDLENGULFING.Tpo -c ta_CDLENGULFING.c -o ta_CDLENGULFING.o >/dev/null 2>&1\n",
            "mv -f .deps/ta_CDLENGULFING.Tpo .deps/ta_CDLENGULFING.Plo\n",
            "/bin/bash ../../libtool --tag=CC   --mode=compile gcc -DHAVE_CONFIG_H -I. -I../../include  -I../ta_common/   -g -O2 -MT ta_CDLEVENINGDOJISTAR.lo -MD -MP -MF .deps/ta_CDLEVENINGDOJISTAR.Tpo -c -o ta_CDLEVENINGDOJISTAR.lo ta_CDLEVENINGDOJISTAR.c\n",
            " gcc -DHAVE_CONFIG_H -I. -I../../include -I../ta_common/ -g -O2 -MT ta_CDLEVENINGDOJISTAR.lo -MD -MP -MF .deps/ta_CDLEVENINGDOJISTAR.Tpo -c ta_CDLEVENINGDOJISTAR.c  -fPIC -DPIC -o .libs/ta_CDLEVENINGDOJISTAR.o\n",
            " gcc -DHAVE_CONFIG_H -I. -I../../include -I../ta_common/ -g -O2 -MT ta_CDLEVENINGDOJISTAR.lo -MD -MP -MF .deps/ta_CDLEVENINGDOJISTAR.Tpo -c ta_CDLEVENINGDOJISTAR.c -o ta_CDLEVENINGDOJISTAR.o >/dev/null 2>&1\n",
            "mv -f .deps/ta_CDLEVENINGDOJISTAR.Tpo .deps/ta_CDLEVENINGDOJISTAR.Plo\n",
            "/bin/bash ../../libtool --tag=CC   --mode=compile gcc -DHAVE_CONFIG_H -I. -I../../include  -I../ta_common/   -g -O2 -MT ta_CDLEVENINGSTAR.lo -MD -MP -MF .deps/ta_CDLEVENINGSTAR.Tpo -c -o ta_CDLEVENINGSTAR.lo ta_CDLEVENINGSTAR.c\n",
            " gcc -DHAVE_CONFIG_H -I. -I../../include -I../ta_common/ -g -O2 -MT ta_CDLEVENINGSTAR.lo -MD -MP -MF .deps/ta_CDLEVENINGSTAR.Tpo -c ta_CDLEVENINGSTAR.c  -fPIC -DPIC -o .libs/ta_CDLEVENINGSTAR.o\n",
            " gcc -DHAVE_CONFIG_H -I. -I../../include -I../ta_common/ -g -O2 -MT ta_CDLEVENINGSTAR.lo -MD -MP -MF .deps/ta_CDLEVENINGSTAR.Tpo -c ta_CDLEVENINGSTAR.c -o ta_CDLEVENINGSTAR.o >/dev/null 2>&1\n",
            "mv -f .deps/ta_CDLEVENINGSTAR.Tpo .deps/ta_CDLEVENINGSTAR.Plo\n",
            "/bin/bash ../../libtool --tag=CC   --mode=compile gcc -DHAVE_CONFIG_H -I. -I../../include  -I../ta_common/   -g -O2 -MT ta_CDLGAPSIDESIDEWHITE.lo -MD -MP -MF .deps/ta_CDLGAPSIDESIDEWHITE.Tpo -c -o ta_CDLGAPSIDESIDEWHITE.lo ta_CDLGAPSIDESIDEWHITE.c\n",
            " gcc -DHAVE_CONFIG_H -I. -I../../include -I../ta_common/ -g -O2 -MT ta_CDLGAPSIDESIDEWHITE.lo -MD -MP -MF .deps/ta_CDLGAPSIDESIDEWHITE.Tpo -c ta_CDLGAPSIDESIDEWHITE.c  -fPIC -DPIC -o .libs/ta_CDLGAPSIDESIDEWHITE.o\n",
            " gcc -DHAVE_CONFIG_H -I. -I../../include -I../ta_common/ -g -O2 -MT ta_CDLGAPSIDESIDEWHITE.lo -MD -MP -MF .deps/ta_CDLGAPSIDESIDEWHITE.Tpo -c ta_CDLGAPSIDESIDEWHITE.c -o ta_CDLGAPSIDESIDEWHITE.o >/dev/null 2>&1\n",
            "mv -f .deps/ta_CDLGAPSIDESIDEWHITE.Tpo .deps/ta_CDLGAPSIDESIDEWHITE.Plo\n",
            "/bin/bash ../../libtool --tag=CC   --mode=compile gcc -DHAVE_CONFIG_H -I. -I../../include  -I../ta_common/   -g -O2 -MT ta_CDLGRAVESTONEDOJI.lo -MD -MP -MF .deps/ta_CDLGRAVESTONEDOJI.Tpo -c -o ta_CDLGRAVESTONEDOJI.lo ta_CDLGRAVESTONEDOJI.c\n",
            " gcc -DHAVE_CONFIG_H -I. -I../../include -I../ta_common/ -g -O2 -MT ta_CDLGRAVESTONEDOJI.lo -MD -MP -MF .deps/ta_CDLGRAVESTONEDOJI.Tpo -c ta_CDLGRAVESTONEDOJI.c  -fPIC -DPIC -o .libs/ta_CDLGRAVESTONEDOJI.o\n",
            " gcc -DHAVE_CONFIG_H -I. -I../../include -I../ta_common/ -g -O2 -MT ta_CDLGRAVESTONEDOJI.lo -MD -MP -MF .deps/ta_CDLGRAVESTONEDOJI.Tpo -c ta_CDLGRAVESTONEDOJI.c -o ta_CDLGRAVESTONEDOJI.o >/dev/null 2>&1\n",
            "mv -f .deps/ta_CDLGRAVESTONEDOJI.Tpo .deps/ta_CDLGRAVESTONEDOJI.Plo\n",
            "/bin/bash ../../libtool --tag=CC   --mode=compile gcc -DHAVE_CONFIG_H -I. -I../../include  -I../ta_common/   -g -O2 -MT ta_CDLHAMMER.lo -MD -MP -MF .deps/ta_CDLHAMMER.Tpo -c -o ta_CDLHAMMER.lo ta_CDLHAMMER.c\n",
            " gcc -DHAVE_CONFIG_H -I. -I../../include -I../ta_common/ -g -O2 -MT ta_CDLHAMMER.lo -MD -MP -MF .deps/ta_CDLHAMMER.Tpo -c ta_CDLHAMMER.c  -fPIC -DPIC -o .libs/ta_CDLHAMMER.o\n",
            " gcc -DHAVE_CONFIG_H -I. -I../../include -I../ta_common/ -g -O2 -MT ta_CDLHAMMER.lo -MD -MP -MF .deps/ta_CDLHAMMER.Tpo -c ta_CDLHAMMER.c -o ta_CDLHAMMER.o >/dev/null 2>&1\n",
            "mv -f .deps/ta_CDLHAMMER.Tpo .deps/ta_CDLHAMMER.Plo\n",
            "/bin/bash ../../libtool --tag=CC   --mode=compile gcc -DHAVE_CONFIG_H -I. -I../../include  -I../ta_common/   -g -O2 -MT ta_CDLHANGINGMAN.lo -MD -MP -MF .deps/ta_CDLHANGINGMAN.Tpo -c -o ta_CDLHANGINGMAN.lo ta_CDLHANGINGMAN.c\n",
            " gcc -DHAVE_CONFIG_H -I. -I../../include -I../ta_common/ -g -O2 -MT ta_CDLHANGINGMAN.lo -MD -MP -MF .deps/ta_CDLHANGINGMAN.Tpo -c ta_CDLHANGINGMAN.c  -fPIC -DPIC -o .libs/ta_CDLHANGINGMAN.o\n",
            " gcc -DHAVE_CONFIG_H -I. -I../../include -I../ta_common/ -g -O2 -MT ta_CDLHANGINGMAN.lo -MD -MP -MF .deps/ta_CDLHANGINGMAN.Tpo -c ta_CDLHANGINGMAN.c -o ta_CDLHANGINGMAN.o >/dev/null 2>&1\n",
            "mv -f .deps/ta_CDLHANGINGMAN.Tpo .deps/ta_CDLHANGINGMAN.Plo\n",
            "/bin/bash ../../libtool --tag=CC   --mode=compile gcc -DHAVE_CONFIG_H -I. -I../../include  -I../ta_common/   -g -O2 -MT ta_CDLHARAMI.lo -MD -MP -MF .deps/ta_CDLHARAMI.Tpo -c -o ta_CDLHARAMI.lo ta_CDLHARAMI.c\n",
            " gcc -DHAVE_CONFIG_H -I. -I../../include -I../ta_common/ -g -O2 -MT ta_CDLHARAMI.lo -MD -MP -MF .deps/ta_CDLHARAMI.Tpo -c ta_CDLHARAMI.c  -fPIC -DPIC -o .libs/ta_CDLHARAMI.o\n",
            " gcc -DHAVE_CONFIG_H -I. -I../../include -I../ta_common/ -g -O2 -MT ta_CDLHARAMI.lo -MD -MP -MF .deps/ta_CDLHARAMI.Tpo -c ta_CDLHARAMI.c -o ta_CDLHARAMI.o >/dev/null 2>&1\n",
            "mv -f .deps/ta_CDLHARAMI.Tpo .deps/ta_CDLHARAMI.Plo\n",
            "/bin/bash ../../libtool --tag=CC   --mode=compile gcc -DHAVE_CONFIG_H -I. -I../../include  -I../ta_common/   -g -O2 -MT ta_CDLHARAMICROSS.lo -MD -MP -MF .deps/ta_CDLHARAMICROSS.Tpo -c -o ta_CDLHARAMICROSS.lo ta_CDLHARAMICROSS.c\n",
            " gcc -DHAVE_CONFIG_H -I. -I../../include -I../ta_common/ -g -O2 -MT ta_CDLHARAMICROSS.lo -MD -MP -MF .deps/ta_CDLHARAMICROSS.Tpo -c ta_CDLHARAMICROSS.c  -fPIC -DPIC -o .libs/ta_CDLHARAMICROSS.o\n",
            " gcc -DHAVE_CONFIG_H -I. -I../../include -I../ta_common/ -g -O2 -MT ta_CDLHARAMICROSS.lo -MD -MP -MF .deps/ta_CDLHARAMICROSS.Tpo -c ta_CDLHARAMICROSS.c -o ta_CDLHARAMICROSS.o >/dev/null 2>&1\n",
            "mv -f .deps/ta_CDLHARAMICROSS.Tpo .deps/ta_CDLHARAMICROSS.Plo\n",
            "/bin/bash ../../libtool --tag=CC   --mode=compile gcc -DHAVE_CONFIG_H -I. -I../../include  -I../ta_common/   -g -O2 -MT ta_CDLHIGHWAVE.lo -MD -MP -MF .deps/ta_CDLHIGHWAVE.Tpo -c -o ta_CDLHIGHWAVE.lo ta_CDLHIGHWAVE.c\n",
            " gcc -DHAVE_CONFIG_H -I. -I../../include -I../ta_common/ -g -O2 -MT ta_CDLHIGHWAVE.lo -MD -MP -MF .deps/ta_CDLHIGHWAVE.Tpo -c ta_CDLHIGHWAVE.c  -fPIC -DPIC -o .libs/ta_CDLHIGHWAVE.o\n",
            " gcc -DHAVE_CONFIG_H -I. -I../../include -I../ta_common/ -g -O2 -MT ta_CDLHIGHWAVE.lo -MD -MP -MF .deps/ta_CDLHIGHWAVE.Tpo -c ta_CDLHIGHWAVE.c -o ta_CDLHIGHWAVE.o >/dev/null 2>&1\n",
            "mv -f .deps/ta_CDLHIGHWAVE.Tpo .deps/ta_CDLHIGHWAVE.Plo\n",
            "/bin/bash ../../libtool --tag=CC   --mode=compile gcc -DHAVE_CONFIG_H -I. -I../../include  -I../ta_common/   -g -O2 -MT ta_CDLHIKKAKE.lo -MD -MP -MF .deps/ta_CDLHIKKAKE.Tpo -c -o ta_CDLHIKKAKE.lo ta_CDLHIKKAKE.c\n",
            " gcc -DHAVE_CONFIG_H -I. -I../../include -I../ta_common/ -g -O2 -MT ta_CDLHIKKAKE.lo -MD -MP -MF .deps/ta_CDLHIKKAKE.Tpo -c ta_CDLHIKKAKE.c  -fPIC -DPIC -o .libs/ta_CDLHIKKAKE.o\n",
            " gcc -DHAVE_CONFIG_H -I. -I../../include -I../ta_common/ -g -O2 -MT ta_CDLHIKKAKE.lo -MD -MP -MF .deps/ta_CDLHIKKAKE.Tpo -c ta_CDLHIKKAKE.c -o ta_CDLHIKKAKE.o >/dev/null 2>&1\n",
            "mv -f .deps/ta_CDLHIKKAKE.Tpo .deps/ta_CDLHIKKAKE.Plo\n",
            "/bin/bash ../../libtool --tag=CC   --mode=compile gcc -DHAVE_CONFIG_H -I. -I../../include  -I../ta_common/   -g -O2 -MT ta_CDLHIKKAKEMOD.lo -MD -MP -MF .deps/ta_CDLHIKKAKEMOD.Tpo -c -o ta_CDLHIKKAKEMOD.lo ta_CDLHIKKAKEMOD.c\n",
            " gcc -DHAVE_CONFIG_H -I. -I../../include -I../ta_common/ -g -O2 -MT ta_CDLHIKKAKEMOD.lo -MD -MP -MF .deps/ta_CDLHIKKAKEMOD.Tpo -c ta_CDLHIKKAKEMOD.c  -fPIC -DPIC -o .libs/ta_CDLHIKKAKEMOD.o\n",
            " gcc -DHAVE_CONFIG_H -I. -I../../include -I../ta_common/ -g -O2 -MT ta_CDLHIKKAKEMOD.lo -MD -MP -MF .deps/ta_CDLHIKKAKEMOD.Tpo -c ta_CDLHIKKAKEMOD.c -o ta_CDLHIKKAKEMOD.o >/dev/null 2>&1\n",
            "mv -f .deps/ta_CDLHIKKAKEMOD.Tpo .deps/ta_CDLHIKKAKEMOD.Plo\n",
            "/bin/bash ../../libtool --tag=CC   --mode=compile gcc -DHAVE_CONFIG_H -I. -I../../include  -I../ta_common/   -g -O2 -MT ta_CDLHOMINGPIGEON.lo -MD -MP -MF .deps/ta_CDLHOMINGPIGEON.Tpo -c -o ta_CDLHOMINGPIGEON.lo ta_CDLHOMINGPIGEON.c\n",
            " gcc -DHAVE_CONFIG_H -I. -I../../include -I../ta_common/ -g -O2 -MT ta_CDLHOMINGPIGEON.lo -MD -MP -MF .deps/ta_CDLHOMINGPIGEON.Tpo -c ta_CDLHOMINGPIGEON.c  -fPIC -DPIC -o .libs/ta_CDLHOMINGPIGEON.o\n",
            " gcc -DHAVE_CONFIG_H -I. -I../../include -I../ta_common/ -g -O2 -MT ta_CDLHOMINGPIGEON.lo -MD -MP -MF .deps/ta_CDLHOMINGPIGEON.Tpo -c ta_CDLHOMINGPIGEON.c -o ta_CDLHOMINGPIGEON.o >/dev/null 2>&1\n",
            "mv -f .deps/ta_CDLHOMINGPIGEON.Tpo .deps/ta_CDLHOMINGPIGEON.Plo\n",
            "/bin/bash ../../libtool --tag=CC   --mode=compile gcc -DHAVE_CONFIG_H -I. -I../../include  -I../ta_common/   -g -O2 -MT ta_CDLIDENTICAL3CROWS.lo -MD -MP -MF .deps/ta_CDLIDENTICAL3CROWS.Tpo -c -o ta_CDLIDENTICAL3CROWS.lo ta_CDLIDENTICAL3CROWS.c\n",
            " gcc -DHAVE_CONFIG_H -I. -I../../include -I../ta_common/ -g -O2 -MT ta_CDLIDENTICAL3CROWS.lo -MD -MP -MF .deps/ta_CDLIDENTICAL3CROWS.Tpo -c ta_CDLIDENTICAL3CROWS.c  -fPIC -DPIC -o .libs/ta_CDLIDENTICAL3CROWS.o\n",
            " gcc -DHAVE_CONFIG_H -I. -I../../include -I../ta_common/ -g -O2 -MT ta_CDLIDENTICAL3CROWS.lo -MD -MP -MF .deps/ta_CDLIDENTICAL3CROWS.Tpo -c ta_CDLIDENTICAL3CROWS.c -o ta_CDLIDENTICAL3CROWS.o >/dev/null 2>&1\n",
            "mv -f .deps/ta_CDLIDENTICAL3CROWS.Tpo .deps/ta_CDLIDENTICAL3CROWS.Plo\n",
            "/bin/bash ../../libtool --tag=CC   --mode=compile gcc -DHAVE_CONFIG_H -I. -I../../include  -I../ta_common/   -g -O2 -MT ta_CDLINNECK.lo -MD -MP -MF .deps/ta_CDLINNECK.Tpo -c -o ta_CDLINNECK.lo ta_CDLINNECK.c\n",
            " gcc -DHAVE_CONFIG_H -I. -I../../include -I../ta_common/ -g -O2 -MT ta_CDLINNECK.lo -MD -MP -MF .deps/ta_CDLINNECK.Tpo -c ta_CDLINNECK.c  -fPIC -DPIC -o .libs/ta_CDLINNECK.o\n",
            " gcc -DHAVE_CONFIG_H -I. -I../../include -I../ta_common/ -g -O2 -MT ta_CDLINNECK.lo -MD -MP -MF .deps/ta_CDLINNECK.Tpo -c ta_CDLINNECK.c -o ta_CDLINNECK.o >/dev/null 2>&1\n",
            "mv -f .deps/ta_CDLINNECK.Tpo .deps/ta_CDLINNECK.Plo\n",
            "/bin/bash ../../libtool --tag=CC   --mode=compile gcc -DHAVE_CONFIG_H -I. -I../../include  -I../ta_common/   -g -O2 -MT ta_CDLINVERTEDHAMMER.lo -MD -MP -MF .deps/ta_CDLINVERTEDHAMMER.Tpo -c -o ta_CDLINVERTEDHAMMER.lo ta_CDLINVERTEDHAMMER.c\n",
            " gcc -DHAVE_CONFIG_H -I. -I../../include -I../ta_common/ -g -O2 -MT ta_CDLINVERTEDHAMMER.lo -MD -MP -MF .deps/ta_CDLINVERTEDHAMMER.Tpo -c ta_CDLINVERTEDHAMMER.c  -fPIC -DPIC -o .libs/ta_CDLINVERTEDHAMMER.o\n",
            " gcc -DHAVE_CONFIG_H -I. -I../../include -I../ta_common/ -g -O2 -MT ta_CDLINVERTEDHAMMER.lo -MD -MP -MF .deps/ta_CDLINVERTEDHAMMER.Tpo -c ta_CDLINVERTEDHAMMER.c -o ta_CDLINVERTEDHAMMER.o >/dev/null 2>&1\n",
            "mv -f .deps/ta_CDLINVERTEDHAMMER.Tpo .deps/ta_CDLINVERTEDHAMMER.Plo\n",
            "/bin/bash ../../libtool --tag=CC   --mode=compile gcc -DHAVE_CONFIG_H -I. -I../../include  -I../ta_common/   -g -O2 -MT ta_CDLKICKING.lo -MD -MP -MF .deps/ta_CDLKICKING.Tpo -c -o ta_CDLKICKING.lo ta_CDLKICKING.c\n",
            " gcc -DHAVE_CONFIG_H -I. -I../../include -I../ta_common/ -g -O2 -MT ta_CDLKICKING.lo -MD -MP -MF .deps/ta_CDLKICKING.Tpo -c ta_CDLKICKING.c  -fPIC -DPIC -o .libs/ta_CDLKICKING.o\n",
            " gcc -DHAVE_CONFIG_H -I. -I../../include -I../ta_common/ -g -O2 -MT ta_CDLKICKING.lo -MD -MP -MF .deps/ta_CDLKICKING.Tpo -c ta_CDLKICKING.c -o ta_CDLKICKING.o >/dev/null 2>&1\n",
            "mv -f .deps/ta_CDLKICKING.Tpo .deps/ta_CDLKICKING.Plo\n",
            "/bin/bash ../../libtool --tag=CC   --mode=compile gcc -DHAVE_CONFIG_H -I. -I../../include  -I../ta_common/   -g -O2 -MT ta_CDLKICKINGBYLENGTH.lo -MD -MP -MF .deps/ta_CDLKICKINGBYLENGTH.Tpo -c -o ta_CDLKICKINGBYLENGTH.lo ta_CDLKICKINGBYLENGTH.c\n",
            " gcc -DHAVE_CONFIG_H -I. -I../../include -I../ta_common/ -g -O2 -MT ta_CDLKICKINGBYLENGTH.lo -MD -MP -MF .deps/ta_CDLKICKINGBYLENGTH.Tpo -c ta_CDLKICKINGBYLENGTH.c  -fPIC -DPIC -o .libs/ta_CDLKICKINGBYLENGTH.o\n",
            " gcc -DHAVE_CONFIG_H -I. -I../../include -I../ta_common/ -g -O2 -MT ta_CDLKICKINGBYLENGTH.lo -MD -MP -MF .deps/ta_CDLKICKINGBYLENGTH.Tpo -c ta_CDLKICKINGBYLENGTH.c -o ta_CDLKICKINGBYLENGTH.o >/dev/null 2>&1\n",
            "mv -f .deps/ta_CDLKICKINGBYLENGTH.Tpo .deps/ta_CDLKICKINGBYLENGTH.Plo\n",
            "/bin/bash ../../libtool --tag=CC   --mode=compile gcc -DHAVE_CONFIG_H -I. -I../../include  -I../ta_common/   -g -O2 -MT ta_CDLLADDERBOTTOM.lo -MD -MP -MF .deps/ta_CDLLADDERBOTTOM.Tpo -c -o ta_CDLLADDERBOTTOM.lo ta_CDLLADDERBOTTOM.c\n",
            " gcc -DHAVE_CONFIG_H -I. -I../../include -I../ta_common/ -g -O2 -MT ta_CDLLADDERBOTTOM.lo -MD -MP -MF .deps/ta_CDLLADDERBOTTOM.Tpo -c ta_CDLLADDERBOTTOM.c  -fPIC -DPIC -o .libs/ta_CDLLADDERBOTTOM.o\n",
            " gcc -DHAVE_CONFIG_H -I. -I../../include -I../ta_common/ -g -O2 -MT ta_CDLLADDERBOTTOM.lo -MD -MP -MF .deps/ta_CDLLADDERBOTTOM.Tpo -c ta_CDLLADDERBOTTOM.c -o ta_CDLLADDERBOTTOM.o >/dev/null 2>&1\n",
            "mv -f .deps/ta_CDLLADDERBOTTOM.Tpo .deps/ta_CDLLADDERBOTTOM.Plo\n",
            "/bin/bash ../../libtool --tag=CC   --mode=compile gcc -DHAVE_CONFIG_H -I. -I../../include  -I../ta_common/   -g -O2 -MT ta_CDLLONGLEGGEDDOJI.lo -MD -MP -MF .deps/ta_CDLLONGLEGGEDDOJI.Tpo -c -o ta_CDLLONGLEGGEDDOJI.lo ta_CDLLONGLEGGEDDOJI.c\n",
            " gcc -DHAVE_CONFIG_H -I. -I../../include -I../ta_common/ -g -O2 -MT ta_CDLLONGLEGGEDDOJI.lo -MD -MP -MF .deps/ta_CDLLONGLEGGEDDOJI.Tpo -c ta_CDLLONGLEGGEDDOJI.c  -fPIC -DPIC -o .libs/ta_CDLLONGLEGGEDDOJI.o\n",
            " gcc -DHAVE_CONFIG_H -I. -I../../include -I../ta_common/ -g -O2 -MT ta_CDLLONGLEGGEDDOJI.lo -MD -MP -MF .deps/ta_CDLLONGLEGGEDDOJI.Tpo -c ta_CDLLONGLEGGEDDOJI.c -o ta_CDLLONGLEGGEDDOJI.o >/dev/null 2>&1\n",
            "mv -f .deps/ta_CDLLONGLEGGEDDOJI.Tpo .deps/ta_CDLLONGLEGGEDDOJI.Plo\n",
            "/bin/bash ../../libtool --tag=CC   --mode=compile gcc -DHAVE_CONFIG_H -I. -I../../include  -I../ta_common/   -g -O2 -MT ta_CDLLONGLINE.lo -MD -MP -MF .deps/ta_CDLLONGLINE.Tpo -c -o ta_CDLLONGLINE.lo ta_CDLLONGLINE.c\n",
            " gcc -DHAVE_CONFIG_H -I. -I../../include -I../ta_common/ -g -O2 -MT ta_CDLLONGLINE.lo -MD -MP -MF .deps/ta_CDLLONGLINE.Tpo -c ta_CDLLONGLINE.c  -fPIC -DPIC -o .libs/ta_CDLLONGLINE.o\n",
            " gcc -DHAVE_CONFIG_H -I. -I../../include -I../ta_common/ -g -O2 -MT ta_CDLLONGLINE.lo -MD -MP -MF .deps/ta_CDLLONGLINE.Tpo -c ta_CDLLONGLINE.c -o ta_CDLLONGLINE.o >/dev/null 2>&1\n",
            "mv -f .deps/ta_CDLLONGLINE.Tpo .deps/ta_CDLLONGLINE.Plo\n",
            "/bin/bash ../../libtool --tag=CC   --mode=compile gcc -DHAVE_CONFIG_H -I. -I../../include  -I../ta_common/   -g -O2 -MT ta_CDLMARUBOZU.lo -MD -MP -MF .deps/ta_CDLMARUBOZU.Tpo -c -o ta_CDLMARUBOZU.lo ta_CDLMARUBOZU.c\n",
            " gcc -DHAVE_CONFIG_H -I. -I../../include -I../ta_common/ -g -O2 -MT ta_CDLMARUBOZU.lo -MD -MP -MF .deps/ta_CDLMARUBOZU.Tpo -c ta_CDLMARUBOZU.c  -fPIC -DPIC -o .libs/ta_CDLMARUBOZU.o\n",
            " gcc -DHAVE_CONFIG_H -I. -I../../include -I../ta_common/ -g -O2 -MT ta_CDLMARUBOZU.lo -MD -MP -MF .deps/ta_CDLMARUBOZU.Tpo -c ta_CDLMARUBOZU.c -o ta_CDLMARUBOZU.o >/dev/null 2>&1\n",
            "mv -f .deps/ta_CDLMARUBOZU.Tpo .deps/ta_CDLMARUBOZU.Plo\n",
            "/bin/bash ../../libtool --tag=CC   --mode=compile gcc -DHAVE_CONFIG_H -I. -I../../include  -I../ta_common/   -g -O2 -MT ta_CDLMATCHINGLOW.lo -MD -MP -MF .deps/ta_CDLMATCHINGLOW.Tpo -c -o ta_CDLMATCHINGLOW.lo ta_CDLMATCHINGLOW.c\n",
            " gcc -DHAVE_CONFIG_H -I. -I../../include -I../ta_common/ -g -O2 -MT ta_CDLMATCHINGLOW.lo -MD -MP -MF .deps/ta_CDLMATCHINGLOW.Tpo -c ta_CDLMATCHINGLOW.c  -fPIC -DPIC -o .libs/ta_CDLMATCHINGLOW.o\n",
            " gcc -DHAVE_CONFIG_H -I. -I../../include -I../ta_common/ -g -O2 -MT ta_CDLMATCHINGLOW.lo -MD -MP -MF .deps/ta_CDLMATCHINGLOW.Tpo -c ta_CDLMATCHINGLOW.c -o ta_CDLMATCHINGLOW.o >/dev/null 2>&1\n",
            "mv -f .deps/ta_CDLMATCHINGLOW.Tpo .deps/ta_CDLMATCHINGLOW.Plo\n",
            "/bin/bash ../../libtool --tag=CC   --mode=compile gcc -DHAVE_CONFIG_H -I. -I../../include  -I../ta_common/   -g -O2 -MT ta_CDLMATHOLD.lo -MD -MP -MF .deps/ta_CDLMATHOLD.Tpo -c -o ta_CDLMATHOLD.lo ta_CDLMATHOLD.c\n",
            " gcc -DHAVE_CONFIG_H -I. -I../../include -I../ta_common/ -g -O2 -MT ta_CDLMATHOLD.lo -MD -MP -MF .deps/ta_CDLMATHOLD.Tpo -c ta_CDLMATHOLD.c  -fPIC -DPIC -o .libs/ta_CDLMATHOLD.o\n",
            " gcc -DHAVE_CONFIG_H -I. -I../../include -I../ta_common/ -g -O2 -MT ta_CDLMATHOLD.lo -MD -MP -MF .deps/ta_CDLMATHOLD.Tpo -c ta_CDLMATHOLD.c -o ta_CDLMATHOLD.o >/dev/null 2>&1\n",
            "mv -f .deps/ta_CDLMATHOLD.Tpo .deps/ta_CDLMATHOLD.Plo\n",
            "/bin/bash ../../libtool --tag=CC   --mode=compile gcc -DHAVE_CONFIG_H -I. -I../../include  -I../ta_common/   -g -O2 -MT ta_CDLMORNINGDOJISTAR.lo -MD -MP -MF .deps/ta_CDLMORNINGDOJISTAR.Tpo -c -o ta_CDLMORNINGDOJISTAR.lo ta_CDLMORNINGDOJISTAR.c\n",
            " gcc -DHAVE_CONFIG_H -I. -I../../include -I../ta_common/ -g -O2 -MT ta_CDLMORNINGDOJISTAR.lo -MD -MP -MF .deps/ta_CDLMORNINGDOJISTAR.Tpo -c ta_CDLMORNINGDOJISTAR.c  -fPIC -DPIC -o .libs/ta_CDLMORNINGDOJISTAR.o\n",
            " gcc -DHAVE_CONFIG_H -I. -I../../include -I../ta_common/ -g -O2 -MT ta_CDLMORNINGDOJISTAR.lo -MD -MP -MF .deps/ta_CDLMORNINGDOJISTAR.Tpo -c ta_CDLMORNINGDOJISTAR.c -o ta_CDLMORNINGDOJISTAR.o >/dev/null 2>&1\n",
            "mv -f .deps/ta_CDLMORNINGDOJISTAR.Tpo .deps/ta_CDLMORNINGDOJISTAR.Plo\n",
            "/bin/bash ../../libtool --tag=CC   --mode=compile gcc -DHAVE_CONFIG_H -I. -I../../include  -I../ta_common/   -g -O2 -MT ta_CDLMORNINGSTAR.lo -MD -MP -MF .deps/ta_CDLMORNINGSTAR.Tpo -c -o ta_CDLMORNINGSTAR.lo ta_CDLMORNINGSTAR.c\n",
            " gcc -DHAVE_CONFIG_H -I. -I../../include -I../ta_common/ -g -O2 -MT ta_CDLMORNINGSTAR.lo -MD -MP -MF .deps/ta_CDLMORNINGSTAR.Tpo -c ta_CDLMORNINGSTAR.c  -fPIC -DPIC -o .libs/ta_CDLMORNINGSTAR.o\n",
            " gcc -DHAVE_CONFIG_H -I. -I../../include -I../ta_common/ -g -O2 -MT ta_CDLMORNINGSTAR.lo -MD -MP -MF .deps/ta_CDLMORNINGSTAR.Tpo -c ta_CDLMORNINGSTAR.c -o ta_CDLMORNINGSTAR.o >/dev/null 2>&1\n",
            "mv -f .deps/ta_CDLMORNINGSTAR.Tpo .deps/ta_CDLMORNINGSTAR.Plo\n",
            "/bin/bash ../../libtool --tag=CC   --mode=compile gcc -DHAVE_CONFIG_H -I. -I../../include  -I../ta_common/   -g -O2 -MT ta_CDLONNECK.lo -MD -MP -MF .deps/ta_CDLONNECK.Tpo -c -o ta_CDLONNECK.lo ta_CDLONNECK.c\n",
            " gcc -DHAVE_CONFIG_H -I. -I../../include -I../ta_common/ -g -O2 -MT ta_CDLONNECK.lo -MD -MP -MF .deps/ta_CDLONNECK.Tpo -c ta_CDLONNECK.c  -fPIC -DPIC -o .libs/ta_CDLONNECK.o\n",
            " gcc -DHAVE_CONFIG_H -I. -I../../include -I../ta_common/ -g -O2 -MT ta_CDLONNECK.lo -MD -MP -MF .deps/ta_CDLONNECK.Tpo -c ta_CDLONNECK.c -o ta_CDLONNECK.o >/dev/null 2>&1\n",
            "mv -f .deps/ta_CDLONNECK.Tpo .deps/ta_CDLONNECK.Plo\n",
            "/bin/bash ../../libtool --tag=CC   --mode=compile gcc -DHAVE_CONFIG_H -I. -I../../include  -I../ta_common/   -g -O2 -MT ta_CDLPIERCING.lo -MD -MP -MF .deps/ta_CDLPIERCING.Tpo -c -o ta_CDLPIERCING.lo ta_CDLPIERCING.c\n",
            " gcc -DHAVE_CONFIG_H -I. -I../../include -I../ta_common/ -g -O2 -MT ta_CDLPIERCING.lo -MD -MP -MF .deps/ta_CDLPIERCING.Tpo -c ta_CDLPIERCING.c  -fPIC -DPIC -o .libs/ta_CDLPIERCING.o\n",
            " gcc -DHAVE_CONFIG_H -I. -I../../include -I../ta_common/ -g -O2 -MT ta_CDLPIERCING.lo -MD -MP -MF .deps/ta_CDLPIERCING.Tpo -c ta_CDLPIERCING.c -o ta_CDLPIERCING.o >/dev/null 2>&1\n",
            "mv -f .deps/ta_CDLPIERCING.Tpo .deps/ta_CDLPIERCING.Plo\n",
            "/bin/bash ../../libtool --tag=CC   --mode=compile gcc -DHAVE_CONFIG_H -I. -I../../include  -I../ta_common/   -g -O2 -MT ta_CDLRICKSHAWMAN.lo -MD -MP -MF .deps/ta_CDLRICKSHAWMAN.Tpo -c -o ta_CDLRICKSHAWMAN.lo ta_CDLRICKSHAWMAN.c\n",
            " gcc -DHAVE_CONFIG_H -I. -I../../include -I../ta_common/ -g -O2 -MT ta_CDLRICKSHAWMAN.lo -MD -MP -MF .deps/ta_CDLRICKSHAWMAN.Tpo -c ta_CDLRICKSHAWMAN.c  -fPIC -DPIC -o .libs/ta_CDLRICKSHAWMAN.o\n",
            " gcc -DHAVE_CONFIG_H -I. -I../../include -I../ta_common/ -g -O2 -MT ta_CDLRICKSHAWMAN.lo -MD -MP -MF .deps/ta_CDLRICKSHAWMAN.Tpo -c ta_CDLRICKSHAWMAN.c -o ta_CDLRICKSHAWMAN.o >/dev/null 2>&1\n",
            "mv -f .deps/ta_CDLRICKSHAWMAN.Tpo .deps/ta_CDLRICKSHAWMAN.Plo\n",
            "/bin/bash ../../libtool --tag=CC   --mode=compile gcc -DHAVE_CONFIG_H -I. -I../../include  -I../ta_common/   -g -O2 -MT ta_CDLRISEFALL3METHODS.lo -MD -MP -MF .deps/ta_CDLRISEFALL3METHODS.Tpo -c -o ta_CDLRISEFALL3METHODS.lo ta_CDLRISEFALL3METHODS.c\n",
            " gcc -DHAVE_CONFIG_H -I. -I../../include -I../ta_common/ -g -O2 -MT ta_CDLRISEFALL3METHODS.lo -MD -MP -MF .deps/ta_CDLRISEFALL3METHODS.Tpo -c ta_CDLRISEFALL3METHODS.c  -fPIC -DPIC -o .libs/ta_CDLRISEFALL3METHODS.o\n",
            " gcc -DHAVE_CONFIG_H -I. -I../../include -I../ta_common/ -g -O2 -MT ta_CDLRISEFALL3METHODS.lo -MD -MP -MF .deps/ta_CDLRISEFALL3METHODS.Tpo -c ta_CDLRISEFALL3METHODS.c -o ta_CDLRISEFALL3METHODS.o >/dev/null 2>&1\n",
            "mv -f .deps/ta_CDLRISEFALL3METHODS.Tpo .deps/ta_CDLRISEFALL3METHODS.Plo\n",
            "/bin/bash ../../libtool --tag=CC   --mode=compile gcc -DHAVE_CONFIG_H -I. -I../../include  -I../ta_common/   -g -O2 -MT ta_CDLSEPARATINGLINES.lo -MD -MP -MF .deps/ta_CDLSEPARATINGLINES.Tpo -c -o ta_CDLSEPARATINGLINES.lo ta_CDLSEPARATINGLINES.c\n",
            " gcc -DHAVE_CONFIG_H -I. -I../../include -I../ta_common/ -g -O2 -MT ta_CDLSEPARATINGLINES.lo -MD -MP -MF .deps/ta_CDLSEPARATINGLINES.Tpo -c ta_CDLSEPARATINGLINES.c  -fPIC -DPIC -o .libs/ta_CDLSEPARATINGLINES.o\n",
            " gcc -DHAVE_CONFIG_H -I. -I../../include -I../ta_common/ -g -O2 -MT ta_CDLSEPARATINGLINES.lo -MD -MP -MF .deps/ta_CDLSEPARATINGLINES.Tpo -c ta_CDLSEPARATINGLINES.c -o ta_CDLSEPARATINGLINES.o >/dev/null 2>&1\n",
            "mv -f .deps/ta_CDLSEPARATINGLINES.Tpo .deps/ta_CDLSEPARATINGLINES.Plo\n",
            "/bin/bash ../../libtool --tag=CC   --mode=compile gcc -DHAVE_CONFIG_H -I. -I../../include  -I../ta_common/   -g -O2 -MT ta_CDLSHOOTINGSTAR.lo -MD -MP -MF .deps/ta_CDLSHOOTINGSTAR.Tpo -c -o ta_CDLSHOOTINGSTAR.lo ta_CDLSHOOTINGSTAR.c\n",
            " gcc -DHAVE_CONFIG_H -I. -I../../include -I../ta_common/ -g -O2 -MT ta_CDLSHOOTINGSTAR.lo -MD -MP -MF .deps/ta_CDLSHOOTINGSTAR.Tpo -c ta_CDLSHOOTINGSTAR.c  -fPIC -DPIC -o .libs/ta_CDLSHOOTINGSTAR.o\n",
            " gcc -DHAVE_CONFIG_H -I. -I../../include -I../ta_common/ -g -O2 -MT ta_CDLSHOOTINGSTAR.lo -MD -MP -MF .deps/ta_CDLSHOOTINGSTAR.Tpo -c ta_CDLSHOOTINGSTAR.c -o ta_CDLSHOOTINGSTAR.o >/dev/null 2>&1\n",
            "mv -f .deps/ta_CDLSHOOTINGSTAR.Tpo .deps/ta_CDLSHOOTINGSTAR.Plo\n",
            "/bin/bash ../../libtool --tag=CC   --mode=compile gcc -DHAVE_CONFIG_H -I. -I../../include  -I../ta_common/   -g -O2 -MT ta_CDLSHORTLINE.lo -MD -MP -MF .deps/ta_CDLSHORTLINE.Tpo -c -o ta_CDLSHORTLINE.lo ta_CDLSHORTLINE.c\n",
            " gcc -DHAVE_CONFIG_H -I. -I../../include -I../ta_common/ -g -O2 -MT ta_CDLSHORTLINE.lo -MD -MP -MF .deps/ta_CDLSHORTLINE.Tpo -c ta_CDLSHORTLINE.c  -fPIC -DPIC -o .libs/ta_CDLSHORTLINE.o\n",
            " gcc -DHAVE_CONFIG_H -I. -I../../include -I../ta_common/ -g -O2 -MT ta_CDLSHORTLINE.lo -MD -MP -MF .deps/ta_CDLSHORTLINE.Tpo -c ta_CDLSHORTLINE.c -o ta_CDLSHORTLINE.o >/dev/null 2>&1\n",
            "mv -f .deps/ta_CDLSHORTLINE.Tpo .deps/ta_CDLSHORTLINE.Plo\n",
            "/bin/bash ../../libtool --tag=CC   --mode=compile gcc -DHAVE_CONFIG_H -I. -I../../include  -I../ta_common/   -g -O2 -MT ta_CDLSPINNINGTOP.lo -MD -MP -MF .deps/ta_CDLSPINNINGTOP.Tpo -c -o ta_CDLSPINNINGTOP.lo ta_CDLSPINNINGTOP.c\n",
            " gcc -DHAVE_CONFIG_H -I. -I../../include -I../ta_common/ -g -O2 -MT ta_CDLSPINNINGTOP.lo -MD -MP -MF .deps/ta_CDLSPINNINGTOP.Tpo -c ta_CDLSPINNINGTOP.c  -fPIC -DPIC -o .libs/ta_CDLSPINNINGTOP.o\n",
            " gcc -DHAVE_CONFIG_H -I. -I../../include -I../ta_common/ -g -O2 -MT ta_CDLSPINNINGTOP.lo -MD -MP -MF .deps/ta_CDLSPINNINGTOP.Tpo -c ta_CDLSPINNINGTOP.c -o ta_CDLSPINNINGTOP.o >/dev/null 2>&1\n",
            "mv -f .deps/ta_CDLSPINNINGTOP.Tpo .deps/ta_CDLSPINNINGTOP.Plo\n",
            "/bin/bash ../../libtool --tag=CC   --mode=compile gcc -DHAVE_CONFIG_H -I. -I../../include  -I../ta_common/   -g -O2 -MT ta_CDLSTALLEDPATTERN.lo -MD -MP -MF .deps/ta_CDLSTALLEDPATTERN.Tpo -c -o ta_CDLSTALLEDPATTERN.lo ta_CDLSTALLEDPATTERN.c\n",
            " gcc -DHAVE_CONFIG_H -I. -I../../include -I../ta_common/ -g -O2 -MT ta_CDLSTALLEDPATTERN.lo -MD -MP -MF .deps/ta_CDLSTALLEDPATTERN.Tpo -c ta_CDLSTALLEDPATTERN.c  -fPIC -DPIC -o .libs/ta_CDLSTALLEDPATTERN.o\n",
            " gcc -DHAVE_CONFIG_H -I. -I../../include -I../ta_common/ -g -O2 -MT ta_CDLSTALLEDPATTERN.lo -MD -MP -MF .deps/ta_CDLSTALLEDPATTERN.Tpo -c ta_CDLSTALLEDPATTERN.c -o ta_CDLSTALLEDPATTERN.o >/dev/null 2>&1\n",
            "mv -f .deps/ta_CDLSTALLEDPATTERN.Tpo .deps/ta_CDLSTALLEDPATTERN.Plo\n",
            "/bin/bash ../../libtool --tag=CC   --mode=compile gcc -DHAVE_CONFIG_H -I. -I../../include  -I../ta_common/   -g -O2 -MT ta_CDLSTICKSANDWICH.lo -MD -MP -MF .deps/ta_CDLSTICKSANDWICH.Tpo -c -o ta_CDLSTICKSANDWICH.lo ta_CDLSTICKSANDWICH.c\n",
            " gcc -DHAVE_CONFIG_H -I. -I../../include -I../ta_common/ -g -O2 -MT ta_CDLSTICKSANDWICH.lo -MD -MP -MF .deps/ta_CDLSTICKSANDWICH.Tpo -c ta_CDLSTICKSANDWICH.c  -fPIC -DPIC -o .libs/ta_CDLSTICKSANDWICH.o\n",
            " gcc -DHAVE_CONFIG_H -I. -I../../include -I../ta_common/ -g -O2 -MT ta_CDLSTICKSANDWICH.lo -MD -MP -MF .deps/ta_CDLSTICKSANDWICH.Tpo -c ta_CDLSTICKSANDWICH.c -o ta_CDLSTICKSANDWICH.o >/dev/null 2>&1\n",
            "mv -f .deps/ta_CDLSTICKSANDWICH.Tpo .deps/ta_CDLSTICKSANDWICH.Plo\n",
            "/bin/bash ../../libtool --tag=CC   --mode=compile gcc -DHAVE_CONFIG_H -I. -I../../include  -I../ta_common/   -g -O2 -MT ta_CDLTAKURI.lo -MD -MP -MF .deps/ta_CDLTAKURI.Tpo -c -o ta_CDLTAKURI.lo ta_CDLTAKURI.c\n",
            " gcc -DHAVE_CONFIG_H -I. -I../../include -I../ta_common/ -g -O2 -MT ta_CDLTAKURI.lo -MD -MP -MF .deps/ta_CDLTAKURI.Tpo -c ta_CDLTAKURI.c  -fPIC -DPIC -o .libs/ta_CDLTAKURI.o\n",
            " gcc -DHAVE_CONFIG_H -I. -I../../include -I../ta_common/ -g -O2 -MT ta_CDLTAKURI.lo -MD -MP -MF .deps/ta_CDLTAKURI.Tpo -c ta_CDLTAKURI.c -o ta_CDLTAKURI.o >/dev/null 2>&1\n",
            "mv -f .deps/ta_CDLTAKURI.Tpo .deps/ta_CDLTAKURI.Plo\n",
            "/bin/bash ../../libtool --tag=CC   --mode=compile gcc -DHAVE_CONFIG_H -I. -I../../include  -I../ta_common/   -g -O2 -MT ta_CDLTASUKIGAP.lo -MD -MP -MF .deps/ta_CDLTASUKIGAP.Tpo -c -o ta_CDLTASUKIGAP.lo ta_CDLTASUKIGAP.c\n",
            " gcc -DHAVE_CONFIG_H -I. -I../../include -I../ta_common/ -g -O2 -MT ta_CDLTASUKIGAP.lo -MD -MP -MF .deps/ta_CDLTASUKIGAP.Tpo -c ta_CDLTASUKIGAP.c  -fPIC -DPIC -o .libs/ta_CDLTASUKIGAP.o\n",
            " gcc -DHAVE_CONFIG_H -I. -I../../include -I../ta_common/ -g -O2 -MT ta_CDLTASUKIGAP.lo -MD -MP -MF .deps/ta_CDLTASUKIGAP.Tpo -c ta_CDLTASUKIGAP.c -o ta_CDLTASUKIGAP.o >/dev/null 2>&1\n",
            "mv -f .deps/ta_CDLTASUKIGAP.Tpo .deps/ta_CDLTASUKIGAP.Plo\n",
            "/bin/bash ../../libtool --tag=CC   --mode=compile gcc -DHAVE_CONFIG_H -I. -I../../include  -I../ta_common/   -g -O2 -MT ta_CDLTHRUSTING.lo -MD -MP -MF .deps/ta_CDLTHRUSTING.Tpo -c -o ta_CDLTHRUSTING.lo ta_CDLTHRUSTING.c\n",
            " gcc -DHAVE_CONFIG_H -I. -I../../include -I../ta_common/ -g -O2 -MT ta_CDLTHRUSTING.lo -MD -MP -MF .deps/ta_CDLTHRUSTING.Tpo -c ta_CDLTHRUSTING.c  -fPIC -DPIC -o .libs/ta_CDLTHRUSTING.o\n",
            " gcc -DHAVE_CONFIG_H -I. -I../../include -I../ta_common/ -g -O2 -MT ta_CDLTHRUSTING.lo -MD -MP -MF .deps/ta_CDLTHRUSTING.Tpo -c ta_CDLTHRUSTING.c -o ta_CDLTHRUSTING.o >/dev/null 2>&1\n",
            "mv -f .deps/ta_CDLTHRUSTING.Tpo .deps/ta_CDLTHRUSTING.Plo\n",
            "/bin/bash ../../libtool --tag=CC   --mode=compile gcc -DHAVE_CONFIG_H -I. -I../../include  -I../ta_common/   -g -O2 -MT ta_CDLTRISTAR.lo -MD -MP -MF .deps/ta_CDLTRISTAR.Tpo -c -o ta_CDLTRISTAR.lo ta_CDLTRISTAR.c\n",
            " gcc -DHAVE_CONFIG_H -I. -I../../include -I../ta_common/ -g -O2 -MT ta_CDLTRISTAR.lo -MD -MP -MF .deps/ta_CDLTRISTAR.Tpo -c ta_CDLTRISTAR.c  -fPIC -DPIC -o .libs/ta_CDLTRISTAR.o\n",
            " gcc -DHAVE_CONFIG_H -I. -I../../include -I../ta_common/ -g -O2 -MT ta_CDLTRISTAR.lo -MD -MP -MF .deps/ta_CDLTRISTAR.Tpo -c ta_CDLTRISTAR.c -o ta_CDLTRISTAR.o >/dev/null 2>&1\n",
            "mv -f .deps/ta_CDLTRISTAR.Tpo .deps/ta_CDLTRISTAR.Plo\n",
            "/bin/bash ../../libtool --tag=CC   --mode=compile gcc -DHAVE_CONFIG_H -I. -I../../include  -I../ta_common/   -g -O2 -MT ta_CDLUNIQUE3RIVER.lo -MD -MP -MF .deps/ta_CDLUNIQUE3RIVER.Tpo -c -o ta_CDLUNIQUE3RIVER.lo ta_CDLUNIQUE3RIVER.c\n",
            " gcc -DHAVE_CONFIG_H -I. -I../../include -I../ta_common/ -g -O2 -MT ta_CDLUNIQUE3RIVER.lo -MD -MP -MF .deps/ta_CDLUNIQUE3RIVER.Tpo -c ta_CDLUNIQUE3RIVER.c  -fPIC -DPIC -o .libs/ta_CDLUNIQUE3RIVER.o\n",
            " gcc -DHAVE_CONFIG_H -I. -I../../include -I../ta_common/ -g -O2 -MT ta_CDLUNIQUE3RIVER.lo -MD -MP -MF .deps/ta_CDLUNIQUE3RIVER.Tpo -c ta_CDLUNIQUE3RIVER.c -o ta_CDLUNIQUE3RIVER.o >/dev/null 2>&1\n",
            "mv -f .deps/ta_CDLUNIQUE3RIVER.Tpo .deps/ta_CDLUNIQUE3RIVER.Plo\n",
            "/bin/bash ../../libtool --tag=CC   --mode=compile gcc -DHAVE_CONFIG_H -I. -I../../include  -I../ta_common/   -g -O2 -MT ta_CDLUPSIDEGAP2CROWS.lo -MD -MP -MF .deps/ta_CDLUPSIDEGAP2CROWS.Tpo -c -o ta_CDLUPSIDEGAP2CROWS.lo ta_CDLUPSIDEGAP2CROWS.c\n",
            " gcc -DHAVE_CONFIG_H -I. -I../../include -I../ta_common/ -g -O2 -MT ta_CDLUPSIDEGAP2CROWS.lo -MD -MP -MF .deps/ta_CDLUPSIDEGAP2CROWS.Tpo -c ta_CDLUPSIDEGAP2CROWS.c  -fPIC -DPIC -o .libs/ta_CDLUPSIDEGAP2CROWS.o\n",
            " gcc -DHAVE_CONFIG_H -I. -I../../include -I../ta_common/ -g -O2 -MT ta_CDLUPSIDEGAP2CROWS.lo -MD -MP -MF .deps/ta_CDLUPSIDEGAP2CROWS.Tpo -c ta_CDLUPSIDEGAP2CROWS.c -o ta_CDLUPSIDEGAP2CROWS.o >/dev/null 2>&1\n",
            "mv -f .deps/ta_CDLUPSIDEGAP2CROWS.Tpo .deps/ta_CDLUPSIDEGAP2CROWS.Plo\n",
            "/bin/bash ../../libtool --tag=CC   --mode=compile gcc -DHAVE_CONFIG_H -I. -I../../include  -I../ta_common/   -g -O2 -MT ta_CDLXSIDEGAP3METHODS.lo -MD -MP -MF .deps/ta_CDLXSIDEGAP3METHODS.Tpo -c -o ta_CDLXSIDEGAP3METHODS.lo ta_CDLXSIDEGAP3METHODS.c\n",
            " gcc -DHAVE_CONFIG_H -I. -I../../include -I../ta_common/ -g -O2 -MT ta_CDLXSIDEGAP3METHODS.lo -MD -MP -MF .deps/ta_CDLXSIDEGAP3METHODS.Tpo -c ta_CDLXSIDEGAP3METHODS.c  -fPIC -DPIC -o .libs/ta_CDLXSIDEGAP3METHODS.o\n",
            " gcc -DHAVE_CONFIG_H -I. -I../../include -I../ta_common/ -g -O2 -MT ta_CDLXSIDEGAP3METHODS.lo -MD -MP -MF .deps/ta_CDLXSIDEGAP3METHODS.Tpo -c ta_CDLXSIDEGAP3METHODS.c -o ta_CDLXSIDEGAP3METHODS.o >/dev/null 2>&1\n",
            "mv -f .deps/ta_CDLXSIDEGAP3METHODS.Tpo .deps/ta_CDLXSIDEGAP3METHODS.Plo\n",
            "/bin/bash ../../libtool --tag=CC   --mode=compile gcc -DHAVE_CONFIG_H -I. -I../../include  -I../ta_common/   -g -O2 -MT ta_CEIL.lo -MD -MP -MF .deps/ta_CEIL.Tpo -c -o ta_CEIL.lo ta_CEIL.c\n",
            " gcc -DHAVE_CONFIG_H -I. -I../../include -I../ta_common/ -g -O2 -MT ta_CEIL.lo -MD -MP -MF .deps/ta_CEIL.Tpo -c ta_CEIL.c  -fPIC -DPIC -o .libs/ta_CEIL.o\n",
            " gcc -DHAVE_CONFIG_H -I. -I../../include -I../ta_common/ -g -O2 -MT ta_CEIL.lo -MD -MP -MF .deps/ta_CEIL.Tpo -c ta_CEIL.c -o ta_CEIL.o >/dev/null 2>&1\n",
            "mv -f .deps/ta_CEIL.Tpo .deps/ta_CEIL.Plo\n",
            "/bin/bash ../../libtool --tag=CC   --mode=compile gcc -DHAVE_CONFIG_H -I. -I../../include  -I../ta_common/   -g -O2 -MT ta_CMO.lo -MD -MP -MF .deps/ta_CMO.Tpo -c -o ta_CMO.lo ta_CMO.c\n",
            " gcc -DHAVE_CONFIG_H -I. -I../../include -I../ta_common/ -g -O2 -MT ta_CMO.lo -MD -MP -MF .deps/ta_CMO.Tpo -c ta_CMO.c  -fPIC -DPIC -o .libs/ta_CMO.o\n",
            " gcc -DHAVE_CONFIG_H -I. -I../../include -I../ta_common/ -g -O2 -MT ta_CMO.lo -MD -MP -MF .deps/ta_CMO.Tpo -c ta_CMO.c -o ta_CMO.o >/dev/null 2>&1\n",
            "mv -f .deps/ta_CMO.Tpo .deps/ta_CMO.Plo\n",
            "/bin/bash ../../libtool --tag=CC   --mode=compile gcc -DHAVE_CONFIG_H -I. -I../../include  -I../ta_common/   -g -O2 -MT ta_CORREL.lo -MD -MP -MF .deps/ta_CORREL.Tpo -c -o ta_CORREL.lo ta_CORREL.c\n",
            " gcc -DHAVE_CONFIG_H -I. -I../../include -I../ta_common/ -g -O2 -MT ta_CORREL.lo -MD -MP -MF .deps/ta_CORREL.Tpo -c ta_CORREL.c  -fPIC -DPIC -o .libs/ta_CORREL.o\n",
            " gcc -DHAVE_CONFIG_H -I. -I../../include -I../ta_common/ -g -O2 -MT ta_CORREL.lo -MD -MP -MF .deps/ta_CORREL.Tpo -c ta_CORREL.c -o ta_CORREL.o >/dev/null 2>&1\n",
            "mv -f .deps/ta_CORREL.Tpo .deps/ta_CORREL.Plo\n",
            "/bin/bash ../../libtool --tag=CC   --mode=compile gcc -DHAVE_CONFIG_H -I. -I../../include  -I../ta_common/   -g -O2 -MT ta_COS.lo -MD -MP -MF .deps/ta_COS.Tpo -c -o ta_COS.lo ta_COS.c\n",
            " gcc -DHAVE_CONFIG_H -I. -I../../include -I../ta_common/ -g -O2 -MT ta_COS.lo -MD -MP -MF .deps/ta_COS.Tpo -c ta_COS.c  -fPIC -DPIC -o .libs/ta_COS.o\n",
            " gcc -DHAVE_CONFIG_H -I. -I../../include -I../ta_common/ -g -O2 -MT ta_COS.lo -MD -MP -MF .deps/ta_COS.Tpo -c ta_COS.c -o ta_COS.o >/dev/null 2>&1\n",
            "mv -f .deps/ta_COS.Tpo .deps/ta_COS.Plo\n",
            "/bin/bash ../../libtool --tag=CC   --mode=compile gcc -DHAVE_CONFIG_H -I. -I../../include  -I../ta_common/   -g -O2 -MT ta_COSH.lo -MD -MP -MF .deps/ta_COSH.Tpo -c -o ta_COSH.lo ta_COSH.c\n",
            " gcc -DHAVE_CONFIG_H -I. -I../../include -I../ta_common/ -g -O2 -MT ta_COSH.lo -MD -MP -MF .deps/ta_COSH.Tpo -c ta_COSH.c  -fPIC -DPIC -o .libs/ta_COSH.o\n",
            " gcc -DHAVE_CONFIG_H -I. -I../../include -I../ta_common/ -g -O2 -MT ta_COSH.lo -MD -MP -MF .deps/ta_COSH.Tpo -c ta_COSH.c -o ta_COSH.o >/dev/null 2>&1\n",
            "mv -f .deps/ta_COSH.Tpo .deps/ta_COSH.Plo\n",
            "/bin/bash ../../libtool --tag=CC   --mode=compile gcc -DHAVE_CONFIG_H -I. -I../../include  -I../ta_common/   -g -O2 -MT ta_DEMA.lo -MD -MP -MF .deps/ta_DEMA.Tpo -c -o ta_DEMA.lo ta_DEMA.c\n",
            " gcc -DHAVE_CONFIG_H -I. -I../../include -I../ta_common/ -g -O2 -MT ta_DEMA.lo -MD -MP -MF .deps/ta_DEMA.Tpo -c ta_DEMA.c  -fPIC -DPIC -o .libs/ta_DEMA.o\n",
            " gcc -DHAVE_CONFIG_H -I. -I../../include -I../ta_common/ -g -O2 -MT ta_DEMA.lo -MD -MP -MF .deps/ta_DEMA.Tpo -c ta_DEMA.c -o ta_DEMA.o >/dev/null 2>&1\n",
            "mv -f .deps/ta_DEMA.Tpo .deps/ta_DEMA.Plo\n",
            "/bin/bash ../../libtool --tag=CC   --mode=compile gcc -DHAVE_CONFIG_H -I. -I../../include  -I../ta_common/   -g -O2 -MT ta_DIV.lo -MD -MP -MF .deps/ta_DIV.Tpo -c -o ta_DIV.lo ta_DIV.c\n",
            " gcc -DHAVE_CONFIG_H -I. -I../../include -I../ta_common/ -g -O2 -MT ta_DIV.lo -MD -MP -MF .deps/ta_DIV.Tpo -c ta_DIV.c  -fPIC -DPIC -o .libs/ta_DIV.o\n",
            " gcc -DHAVE_CONFIG_H -I. -I../../include -I../ta_common/ -g -O2 -MT ta_DIV.lo -MD -MP -MF .deps/ta_DIV.Tpo -c ta_DIV.c -o ta_DIV.o >/dev/null 2>&1\n",
            "mv -f .deps/ta_DIV.Tpo .deps/ta_DIV.Plo\n",
            "/bin/bash ../../libtool --tag=CC   --mode=compile gcc -DHAVE_CONFIG_H -I. -I../../include  -I../ta_common/   -g -O2 -MT ta_DX.lo -MD -MP -MF .deps/ta_DX.Tpo -c -o ta_DX.lo ta_DX.c\n",
            " gcc -DHAVE_CONFIG_H -I. -I../../include -I../ta_common/ -g -O2 -MT ta_DX.lo -MD -MP -MF .deps/ta_DX.Tpo -c ta_DX.c  -fPIC -DPIC -o .libs/ta_DX.o\n",
            " gcc -DHAVE_CONFIG_H -I. -I../../include -I../ta_common/ -g -O2 -MT ta_DX.lo -MD -MP -MF .deps/ta_DX.Tpo -c ta_DX.c -o ta_DX.o >/dev/null 2>&1\n",
            "mv -f .deps/ta_DX.Tpo .deps/ta_DX.Plo\n",
            "/bin/bash ../../libtool --tag=CC   --mode=compile gcc -DHAVE_CONFIG_H -I. -I../../include  -I../ta_common/   -g -O2 -MT ta_EMA.lo -MD -MP -MF .deps/ta_EMA.Tpo -c -o ta_EMA.lo ta_EMA.c\n",
            " gcc -DHAVE_CONFIG_H -I. -I../../include -I../ta_common/ -g -O2 -MT ta_EMA.lo -MD -MP -MF .deps/ta_EMA.Tpo -c ta_EMA.c  -fPIC -DPIC -o .libs/ta_EMA.o\n",
            " gcc -DHAVE_CONFIG_H -I. -I../../include -I../ta_common/ -g -O2 -MT ta_EMA.lo -MD -MP -MF .deps/ta_EMA.Tpo -c ta_EMA.c -o ta_EMA.o >/dev/null 2>&1\n",
            "mv -f .deps/ta_EMA.Tpo .deps/ta_EMA.Plo\n",
            "/bin/bash ../../libtool --tag=CC   --mode=compile gcc -DHAVE_CONFIG_H -I. -I../../include  -I../ta_common/   -g -O2 -MT ta_EXP.lo -MD -MP -MF .deps/ta_EXP.Tpo -c -o ta_EXP.lo ta_EXP.c\n",
            " gcc -DHAVE_CONFIG_H -I. -I../../include -I../ta_common/ -g -O2 -MT ta_EXP.lo -MD -MP -MF .deps/ta_EXP.Tpo -c ta_EXP.c  -fPIC -DPIC -o .libs/ta_EXP.o\n",
            " gcc -DHAVE_CONFIG_H -I. -I../../include -I../ta_common/ -g -O2 -MT ta_EXP.lo -MD -MP -MF .deps/ta_EXP.Tpo -c ta_EXP.c -o ta_EXP.o >/dev/null 2>&1\n",
            "mv -f .deps/ta_EXP.Tpo .deps/ta_EXP.Plo\n",
            "/bin/bash ../../libtool --tag=CC   --mode=compile gcc -DHAVE_CONFIG_H -I. -I../../include  -I../ta_common/   -g -O2 -MT ta_FLOOR.lo -MD -MP -MF .deps/ta_FLOOR.Tpo -c -o ta_FLOOR.lo ta_FLOOR.c\n",
            " gcc -DHAVE_CONFIG_H -I. -I../../include -I../ta_common/ -g -O2 -MT ta_FLOOR.lo -MD -MP -MF .deps/ta_FLOOR.Tpo -c ta_FLOOR.c  -fPIC -DPIC -o .libs/ta_FLOOR.o\n",
            " gcc -DHAVE_CONFIG_H -I. -I../../include -I../ta_common/ -g -O2 -MT ta_FLOOR.lo -MD -MP -MF .deps/ta_FLOOR.Tpo -c ta_FLOOR.c -o ta_FLOOR.o >/dev/null 2>&1\n",
            "mv -f .deps/ta_FLOOR.Tpo .deps/ta_FLOOR.Plo\n",
            "/bin/bash ../../libtool --tag=CC   --mode=compile gcc -DHAVE_CONFIG_H -I. -I../../include  -I../ta_common/   -g -O2 -MT ta_HT_DCPERIOD.lo -MD -MP -MF .deps/ta_HT_DCPERIOD.Tpo -c -o ta_HT_DCPERIOD.lo ta_HT_DCPERIOD.c\n",
            " gcc -DHAVE_CONFIG_H -I. -I../../include -I../ta_common/ -g -O2 -MT ta_HT_DCPERIOD.lo -MD -MP -MF .deps/ta_HT_DCPERIOD.Tpo -c ta_HT_DCPERIOD.c  -fPIC -DPIC -o .libs/ta_HT_DCPERIOD.o\n",
            " gcc -DHAVE_CONFIG_H -I. -I../../include -I../ta_common/ -g -O2 -MT ta_HT_DCPERIOD.lo -MD -MP -MF .deps/ta_HT_DCPERIOD.Tpo -c ta_HT_DCPERIOD.c -o ta_HT_DCPERIOD.o >/dev/null 2>&1\n",
            "mv -f .deps/ta_HT_DCPERIOD.Tpo .deps/ta_HT_DCPERIOD.Plo\n",
            "/bin/bash ../../libtool --tag=CC   --mode=compile gcc -DHAVE_CONFIG_H -I. -I../../include  -I../ta_common/   -g -O2 -MT ta_HT_DCPHASE.lo -MD -MP -MF .deps/ta_HT_DCPHASE.Tpo -c -o ta_HT_DCPHASE.lo ta_HT_DCPHASE.c\n",
            " gcc -DHAVE_CONFIG_H -I. -I../../include -I../ta_common/ -g -O2 -MT ta_HT_DCPHASE.lo -MD -MP -MF .deps/ta_HT_DCPHASE.Tpo -c ta_HT_DCPHASE.c  -fPIC -DPIC -o .libs/ta_HT_DCPHASE.o\n",
            " gcc -DHAVE_CONFIG_H -I. -I../../include -I../ta_common/ -g -O2 -MT ta_HT_DCPHASE.lo -MD -MP -MF .deps/ta_HT_DCPHASE.Tpo -c ta_HT_DCPHASE.c -o ta_HT_DCPHASE.o >/dev/null 2>&1\n",
            "mv -f .deps/ta_HT_DCPHASE.Tpo .deps/ta_HT_DCPHASE.Plo\n",
            "/bin/bash ../../libtool --tag=CC   --mode=compile gcc -DHAVE_CONFIG_H -I. -I../../include  -I../ta_common/   -g -O2 -MT ta_HT_PHASOR.lo -MD -MP -MF .deps/ta_HT_PHASOR.Tpo -c -o ta_HT_PHASOR.lo ta_HT_PHASOR.c\n",
            " gcc -DHAVE_CONFIG_H -I. -I../../include -I../ta_common/ -g -O2 -MT ta_HT_PHASOR.lo -MD -MP -MF .deps/ta_HT_PHASOR.Tpo -c ta_HT_PHASOR.c  -fPIC -DPIC -o .libs/ta_HT_PHASOR.o\n",
            " gcc -DHAVE_CONFIG_H -I. -I../../include -I../ta_common/ -g -O2 -MT ta_HT_PHASOR.lo -MD -MP -MF .deps/ta_HT_PHASOR.Tpo -c ta_HT_PHASOR.c -o ta_HT_PHASOR.o >/dev/null 2>&1\n",
            "mv -f .deps/ta_HT_PHASOR.Tpo .deps/ta_HT_PHASOR.Plo\n",
            "/bin/bash ../../libtool --tag=CC   --mode=compile gcc -DHAVE_CONFIG_H -I. -I../../include  -I../ta_common/   -g -O2 -MT ta_HT_SINE.lo -MD -MP -MF .deps/ta_HT_SINE.Tpo -c -o ta_HT_SINE.lo ta_HT_SINE.c\n",
            " gcc -DHAVE_CONFIG_H -I. -I../../include -I../ta_common/ -g -O2 -MT ta_HT_SINE.lo -MD -MP -MF .deps/ta_HT_SINE.Tpo -c ta_HT_SINE.c  -fPIC -DPIC -o .libs/ta_HT_SINE.o\n",
            " gcc -DHAVE_CONFIG_H -I. -I../../include -I../ta_common/ -g -O2 -MT ta_HT_SINE.lo -MD -MP -MF .deps/ta_HT_SINE.Tpo -c ta_HT_SINE.c -o ta_HT_SINE.o >/dev/null 2>&1\n",
            "mv -f .deps/ta_HT_SINE.Tpo .deps/ta_HT_SINE.Plo\n",
            "/bin/bash ../../libtool --tag=CC   --mode=compile gcc -DHAVE_CONFIG_H -I. -I../../include  -I../ta_common/   -g -O2 -MT ta_HT_TRENDLINE.lo -MD -MP -MF .deps/ta_HT_TRENDLINE.Tpo -c -o ta_HT_TRENDLINE.lo ta_HT_TRENDLINE.c\n",
            " gcc -DHAVE_CONFIG_H -I. -I../../include -I../ta_common/ -g -O2 -MT ta_HT_TRENDLINE.lo -MD -MP -MF .deps/ta_HT_TRENDLINE.Tpo -c ta_HT_TRENDLINE.c  -fPIC -DPIC -o .libs/ta_HT_TRENDLINE.o\n",
            " gcc -DHAVE_CONFIG_H -I. -I../../include -I../ta_common/ -g -O2 -MT ta_HT_TRENDLINE.lo -MD -MP -MF .deps/ta_HT_TRENDLINE.Tpo -c ta_HT_TRENDLINE.c -o ta_HT_TRENDLINE.o >/dev/null 2>&1\n",
            "mv -f .deps/ta_HT_TRENDLINE.Tpo .deps/ta_HT_TRENDLINE.Plo\n",
            "/bin/bash ../../libtool --tag=CC   --mode=compile gcc -DHAVE_CONFIG_H -I. -I../../include  -I../ta_common/   -g -O2 -MT ta_HT_TRENDMODE.lo -MD -MP -MF .deps/ta_HT_TRENDMODE.Tpo -c -o ta_HT_TRENDMODE.lo ta_HT_TRENDMODE.c\n",
            " gcc -DHAVE_CONFIG_H -I. -I../../include -I../ta_common/ -g -O2 -MT ta_HT_TRENDMODE.lo -MD -MP -MF .deps/ta_HT_TRENDMODE.Tpo -c ta_HT_TRENDMODE.c  -fPIC -DPIC -o .libs/ta_HT_TRENDMODE.o\n",
            " gcc -DHAVE_CONFIG_H -I. -I../../include -I../ta_common/ -g -O2 -MT ta_HT_TRENDMODE.lo -MD -MP -MF .deps/ta_HT_TRENDMODE.Tpo -c ta_HT_TRENDMODE.c -o ta_HT_TRENDMODE.o >/dev/null 2>&1\n",
            "mv -f .deps/ta_HT_TRENDMODE.Tpo .deps/ta_HT_TRENDMODE.Plo\n",
            "/bin/bash ../../libtool --tag=CC   --mode=compile gcc -DHAVE_CONFIG_H -I. -I../../include  -I../ta_common/   -g -O2 -MT ta_KAMA.lo -MD -MP -MF .deps/ta_KAMA.Tpo -c -o ta_KAMA.lo ta_KAMA.c\n",
            " gcc -DHAVE_CONFIG_H -I. -I../../include -I../ta_common/ -g -O2 -MT ta_KAMA.lo -MD -MP -MF .deps/ta_KAMA.Tpo -c ta_KAMA.c  -fPIC -DPIC -o .libs/ta_KAMA.o\n",
            " gcc -DHAVE_CONFIG_H -I. -I../../include -I../ta_common/ -g -O2 -MT ta_KAMA.lo -MD -MP -MF .deps/ta_KAMA.Tpo -c ta_KAMA.c -o ta_KAMA.o >/dev/null 2>&1\n",
            "mv -f .deps/ta_KAMA.Tpo .deps/ta_KAMA.Plo\n",
            "/bin/bash ../../libtool --tag=CC   --mode=compile gcc -DHAVE_CONFIG_H -I. -I../../include  -I../ta_common/   -g -O2 -MT ta_LINEARREG.lo -MD -MP -MF .deps/ta_LINEARREG.Tpo -c -o ta_LINEARREG.lo ta_LINEARREG.c\n",
            " gcc -DHAVE_CONFIG_H -I. -I../../include -I../ta_common/ -g -O2 -MT ta_LINEARREG.lo -MD -MP -MF .deps/ta_LINEARREG.Tpo -c ta_LINEARREG.c  -fPIC -DPIC -o .libs/ta_LINEARREG.o\n",
            " gcc -DHAVE_CONFIG_H -I. -I../../include -I../ta_common/ -g -O2 -MT ta_LINEARREG.lo -MD -MP -MF .deps/ta_LINEARREG.Tpo -c ta_LINEARREG.c -o ta_LINEARREG.o >/dev/null 2>&1\n",
            "mv -f .deps/ta_LINEARREG.Tpo .deps/ta_LINEARREG.Plo\n",
            "/bin/bash ../../libtool --tag=CC   --mode=compile gcc -DHAVE_CONFIG_H -I. -I../../include  -I../ta_common/   -g -O2 -MT ta_LINEARREG_ANGLE.lo -MD -MP -MF .deps/ta_LINEARREG_ANGLE.Tpo -c -o ta_LINEARREG_ANGLE.lo ta_LINEARREG_ANGLE.c\n",
            " gcc -DHAVE_CONFIG_H -I. -I../../include -I../ta_common/ -g -O2 -MT ta_LINEARREG_ANGLE.lo -MD -MP -MF .deps/ta_LINEARREG_ANGLE.Tpo -c ta_LINEARREG_ANGLE.c  -fPIC -DPIC -o .libs/ta_LINEARREG_ANGLE.o\n",
            " gcc -DHAVE_CONFIG_H -I. -I../../include -I../ta_common/ -g -O2 -MT ta_LINEARREG_ANGLE.lo -MD -MP -MF .deps/ta_LINEARREG_ANGLE.Tpo -c ta_LINEARREG_ANGLE.c -o ta_LINEARREG_ANGLE.o >/dev/null 2>&1\n",
            "mv -f .deps/ta_LINEARREG_ANGLE.Tpo .deps/ta_LINEARREG_ANGLE.Plo\n",
            "/bin/bash ../../libtool --tag=CC   --mode=compile gcc -DHAVE_CONFIG_H -I. -I../../include  -I../ta_common/   -g -O2 -MT ta_LINEARREG_INTERCEPT.lo -MD -MP -MF .deps/ta_LINEARREG_INTERCEPT.Tpo -c -o ta_LINEARREG_INTERCEPT.lo ta_LINEARREG_INTERCEPT.c\n",
            " gcc -DHAVE_CONFIG_H -I. -I../../include -I../ta_common/ -g -O2 -MT ta_LINEARREG_INTERCEPT.lo -MD -MP -MF .deps/ta_LINEARREG_INTERCEPT.Tpo -c ta_LINEARREG_INTERCEPT.c  -fPIC -DPIC -o .libs/ta_LINEARREG_INTERCEPT.o\n",
            " gcc -DHAVE_CONFIG_H -I. -I../../include -I../ta_common/ -g -O2 -MT ta_LINEARREG_INTERCEPT.lo -MD -MP -MF .deps/ta_LINEARREG_INTERCEPT.Tpo -c ta_LINEARREG_INTERCEPT.c -o ta_LINEARREG_INTERCEPT.o >/dev/null 2>&1\n",
            "mv -f .deps/ta_LINEARREG_INTERCEPT.Tpo .deps/ta_LINEARREG_INTERCEPT.Plo\n",
            "/bin/bash ../../libtool --tag=CC   --mode=compile gcc -DHAVE_CONFIG_H -I. -I../../include  -I../ta_common/   -g -O2 -MT ta_LINEARREG_SLOPE.lo -MD -MP -MF .deps/ta_LINEARREG_SLOPE.Tpo -c -o ta_LINEARREG_SLOPE.lo ta_LINEARREG_SLOPE.c\n",
            " gcc -DHAVE_CONFIG_H -I. -I../../include -I../ta_common/ -g -O2 -MT ta_LINEARREG_SLOPE.lo -MD -MP -MF .deps/ta_LINEARREG_SLOPE.Tpo -c ta_LINEARREG_SLOPE.c  -fPIC -DPIC -o .libs/ta_LINEARREG_SLOPE.o\n",
            " gcc -DHAVE_CONFIG_H -I. -I../../include -I../ta_common/ -g -O2 -MT ta_LINEARREG_SLOPE.lo -MD -MP -MF .deps/ta_LINEARREG_SLOPE.Tpo -c ta_LINEARREG_SLOPE.c -o ta_LINEARREG_SLOPE.o >/dev/null 2>&1\n",
            "mv -f .deps/ta_LINEARREG_SLOPE.Tpo .deps/ta_LINEARREG_SLOPE.Plo\n",
            "/bin/bash ../../libtool --tag=CC   --mode=compile gcc -DHAVE_CONFIG_H -I. -I../../include  -I../ta_common/   -g -O2 -MT ta_LN.lo -MD -MP -MF .deps/ta_LN.Tpo -c -o ta_LN.lo ta_LN.c\n",
            " gcc -DHAVE_CONFIG_H -I. -I../../include -I../ta_common/ -g -O2 -MT ta_LN.lo -MD -MP -MF .deps/ta_LN.Tpo -c ta_LN.c  -fPIC -DPIC -o .libs/ta_LN.o\n",
            " gcc -DHAVE_CONFIG_H -I. -I../../include -I../ta_common/ -g -O2 -MT ta_LN.lo -MD -MP -MF .deps/ta_LN.Tpo -c ta_LN.c -o ta_LN.o >/dev/null 2>&1\n",
            "mv -f .deps/ta_LN.Tpo .deps/ta_LN.Plo\n",
            "/bin/bash ../../libtool --tag=CC   --mode=compile gcc -DHAVE_CONFIG_H -I. -I../../include  -I../ta_common/   -g -O2 -MT ta_LOG10.lo -MD -MP -MF .deps/ta_LOG10.Tpo -c -o ta_LOG10.lo ta_LOG10.c\n",
            " gcc -DHAVE_CONFIG_H -I. -I../../include -I../ta_common/ -g -O2 -MT ta_LOG10.lo -MD -MP -MF .deps/ta_LOG10.Tpo -c ta_LOG10.c  -fPIC -DPIC -o .libs/ta_LOG10.o\n",
            " gcc -DHAVE_CONFIG_H -I. -I../../include -I../ta_common/ -g -O2 -MT ta_LOG10.lo -MD -MP -MF .deps/ta_LOG10.Tpo -c ta_LOG10.c -o ta_LOG10.o >/dev/null 2>&1\n",
            "mv -f .deps/ta_LOG10.Tpo .deps/ta_LOG10.Plo\n",
            "/bin/bash ../../libtool --tag=CC   --mode=compile gcc -DHAVE_CONFIG_H -I. -I../../include  -I../ta_common/   -g -O2 -MT ta_MA.lo -MD -MP -MF .deps/ta_MA.Tpo -c -o ta_MA.lo ta_MA.c\n",
            " gcc -DHAVE_CONFIG_H -I. -I../../include -I../ta_common/ -g -O2 -MT ta_MA.lo -MD -MP -MF .deps/ta_MA.Tpo -c ta_MA.c  -fPIC -DPIC -o .libs/ta_MA.o\n",
            " gcc -DHAVE_CONFIG_H -I. -I../../include -I../ta_common/ -g -O2 -MT ta_MA.lo -MD -MP -MF .deps/ta_MA.Tpo -c ta_MA.c -o ta_MA.o >/dev/null 2>&1\n",
            "mv -f .deps/ta_MA.Tpo .deps/ta_MA.Plo\n",
            "/bin/bash ../../libtool --tag=CC   --mode=compile gcc -DHAVE_CONFIG_H -I. -I../../include  -I../ta_common/   -g -O2 -MT ta_MACD.lo -MD -MP -MF .deps/ta_MACD.Tpo -c -o ta_MACD.lo ta_MACD.c\n",
            " gcc -DHAVE_CONFIG_H -I. -I../../include -I../ta_common/ -g -O2 -MT ta_MACD.lo -MD -MP -MF .deps/ta_MACD.Tpo -c ta_MACD.c  -fPIC -DPIC -o .libs/ta_MACD.o\n",
            " gcc -DHAVE_CONFIG_H -I. -I../../include -I../ta_common/ -g -O2 -MT ta_MACD.lo -MD -MP -MF .deps/ta_MACD.Tpo -c ta_MACD.c -o ta_MACD.o >/dev/null 2>&1\n",
            "mv -f .deps/ta_MACD.Tpo .deps/ta_MACD.Plo\n",
            "/bin/bash ../../libtool --tag=CC   --mode=compile gcc -DHAVE_CONFIG_H -I. -I../../include  -I../ta_common/   -g -O2 -MT ta_MACDEXT.lo -MD -MP -MF .deps/ta_MACDEXT.Tpo -c -o ta_MACDEXT.lo ta_MACDEXT.c\n",
            " gcc -DHAVE_CONFIG_H -I. -I../../include -I../ta_common/ -g -O2 -MT ta_MACDEXT.lo -MD -MP -MF .deps/ta_MACDEXT.Tpo -c ta_MACDEXT.c  -fPIC -DPIC -o .libs/ta_MACDEXT.o\n",
            " gcc -DHAVE_CONFIG_H -I. -I../../include -I../ta_common/ -g -O2 -MT ta_MACDEXT.lo -MD -MP -MF .deps/ta_MACDEXT.Tpo -c ta_MACDEXT.c -o ta_MACDEXT.o >/dev/null 2>&1\n",
            "mv -f .deps/ta_MACDEXT.Tpo .deps/ta_MACDEXT.Plo\n",
            "/bin/bash ../../libtool --tag=CC   --mode=compile gcc -DHAVE_CONFIG_H -I. -I../../include  -I../ta_common/   -g -O2 -MT ta_MACDFIX.lo -MD -MP -MF .deps/ta_MACDFIX.Tpo -c -o ta_MACDFIX.lo ta_MACDFIX.c\n",
            " gcc -DHAVE_CONFIG_H -I. -I../../include -I../ta_common/ -g -O2 -MT ta_MACDFIX.lo -MD -MP -MF .deps/ta_MACDFIX.Tpo -c ta_MACDFIX.c  -fPIC -DPIC -o .libs/ta_MACDFIX.o\n",
            " gcc -DHAVE_CONFIG_H -I. -I../../include -I../ta_common/ -g -O2 -MT ta_MACDFIX.lo -MD -MP -MF .deps/ta_MACDFIX.Tpo -c ta_MACDFIX.c -o ta_MACDFIX.o >/dev/null 2>&1\n",
            "mv -f .deps/ta_MACDFIX.Tpo .deps/ta_MACDFIX.Plo\n",
            "/bin/bash ../../libtool --tag=CC   --mode=compile gcc -DHAVE_CONFIG_H -I. -I../../include  -I../ta_common/   -g -O2 -MT ta_MAMA.lo -MD -MP -MF .deps/ta_MAMA.Tpo -c -o ta_MAMA.lo ta_MAMA.c\n",
            " gcc -DHAVE_CONFIG_H -I. -I../../include -I../ta_common/ -g -O2 -MT ta_MAMA.lo -MD -MP -MF .deps/ta_MAMA.Tpo -c ta_MAMA.c  -fPIC -DPIC -o .libs/ta_MAMA.o\n",
            " gcc -DHAVE_CONFIG_H -I. -I../../include -I../ta_common/ -g -O2 -MT ta_MAMA.lo -MD -MP -MF .deps/ta_MAMA.Tpo -c ta_MAMA.c -o ta_MAMA.o >/dev/null 2>&1\n",
            "mv -f .deps/ta_MAMA.Tpo .deps/ta_MAMA.Plo\n",
            "/bin/bash ../../libtool --tag=CC   --mode=compile gcc -DHAVE_CONFIG_H -I. -I../../include  -I../ta_common/   -g -O2 -MT ta_MAVP.lo -MD -MP -MF .deps/ta_MAVP.Tpo -c -o ta_MAVP.lo ta_MAVP.c\n",
            " gcc -DHAVE_CONFIG_H -I. -I../../include -I../ta_common/ -g -O2 -MT ta_MAVP.lo -MD -MP -MF .deps/ta_MAVP.Tpo -c ta_MAVP.c  -fPIC -DPIC -o .libs/ta_MAVP.o\n",
            " gcc -DHAVE_CONFIG_H -I. -I../../include -I../ta_common/ -g -O2 -MT ta_MAVP.lo -MD -MP -MF .deps/ta_MAVP.Tpo -c ta_MAVP.c -o ta_MAVP.o >/dev/null 2>&1\n",
            "mv -f .deps/ta_MAVP.Tpo .deps/ta_MAVP.Plo\n",
            "/bin/bash ../../libtool --tag=CC   --mode=compile gcc -DHAVE_CONFIG_H -I. -I../../include  -I../ta_common/   -g -O2 -MT ta_MAX.lo -MD -MP -MF .deps/ta_MAX.Tpo -c -o ta_MAX.lo ta_MAX.c\n",
            " gcc -DHAVE_CONFIG_H -I. -I../../include -I../ta_common/ -g -O2 -MT ta_MAX.lo -MD -MP -MF .deps/ta_MAX.Tpo -c ta_MAX.c  -fPIC -DPIC -o .libs/ta_MAX.o\n",
            " gcc -DHAVE_CONFIG_H -I. -I../../include -I../ta_common/ -g -O2 -MT ta_MAX.lo -MD -MP -MF .deps/ta_MAX.Tpo -c ta_MAX.c -o ta_MAX.o >/dev/null 2>&1\n",
            "mv -f .deps/ta_MAX.Tpo .deps/ta_MAX.Plo\n",
            "/bin/bash ../../libtool --tag=CC   --mode=compile gcc -DHAVE_CONFIG_H -I. -I../../include  -I../ta_common/   -g -O2 -MT ta_MAXINDEX.lo -MD -MP -MF .deps/ta_MAXINDEX.Tpo -c -o ta_MAXINDEX.lo ta_MAXINDEX.c\n",
            " gcc -DHAVE_CONFIG_H -I. -I../../include -I../ta_common/ -g -O2 -MT ta_MAXINDEX.lo -MD -MP -MF .deps/ta_MAXINDEX.Tpo -c ta_MAXINDEX.c  -fPIC -DPIC -o .libs/ta_MAXINDEX.o\n",
            " gcc -DHAVE_CONFIG_H -I. -I../../include -I../ta_common/ -g -O2 -MT ta_MAXINDEX.lo -MD -MP -MF .deps/ta_MAXINDEX.Tpo -c ta_MAXINDEX.c -o ta_MAXINDEX.o >/dev/null 2>&1\n",
            "mv -f .deps/ta_MAXINDEX.Tpo .deps/ta_MAXINDEX.Plo\n",
            "/bin/bash ../../libtool --tag=CC   --mode=compile gcc -DHAVE_CONFIG_H -I. -I../../include  -I../ta_common/   -g -O2 -MT ta_MEDPRICE.lo -MD -MP -MF .deps/ta_MEDPRICE.Tpo -c -o ta_MEDPRICE.lo ta_MEDPRICE.c\n",
            " gcc -DHAVE_CONFIG_H -I. -I../../include -I../ta_common/ -g -O2 -MT ta_MEDPRICE.lo -MD -MP -MF .deps/ta_MEDPRICE.Tpo -c ta_MEDPRICE.c  -fPIC -DPIC -o .libs/ta_MEDPRICE.o\n",
            " gcc -DHAVE_CONFIG_H -I. -I../../include -I../ta_common/ -g -O2 -MT ta_MEDPRICE.lo -MD -MP -MF .deps/ta_MEDPRICE.Tpo -c ta_MEDPRICE.c -o ta_MEDPRICE.o >/dev/null 2>&1\n",
            "mv -f .deps/ta_MEDPRICE.Tpo .deps/ta_MEDPRICE.Plo\n",
            "/bin/bash ../../libtool --tag=CC   --mode=compile gcc -DHAVE_CONFIG_H -I. -I../../include  -I../ta_common/   -g -O2 -MT ta_MFI.lo -MD -MP -MF .deps/ta_MFI.Tpo -c -o ta_MFI.lo ta_MFI.c\n",
            " gcc -DHAVE_CONFIG_H -I. -I../../include -I../ta_common/ -g -O2 -MT ta_MFI.lo -MD -MP -MF .deps/ta_MFI.Tpo -c ta_MFI.c  -fPIC -DPIC -o .libs/ta_MFI.o\n",
            " gcc -DHAVE_CONFIG_H -I. -I../../include -I../ta_common/ -g -O2 -MT ta_MFI.lo -MD -MP -MF .deps/ta_MFI.Tpo -c ta_MFI.c -o ta_MFI.o >/dev/null 2>&1\n",
            "mv -f .deps/ta_MFI.Tpo .deps/ta_MFI.Plo\n",
            "/bin/bash ../../libtool --tag=CC   --mode=compile gcc -DHAVE_CONFIG_H -I. -I../../include  -I../ta_common/   -g -O2 -MT ta_MIDPOINT.lo -MD -MP -MF .deps/ta_MIDPOINT.Tpo -c -o ta_MIDPOINT.lo ta_MIDPOINT.c\n",
            " gcc -DHAVE_CONFIG_H -I. -I../../include -I../ta_common/ -g -O2 -MT ta_MIDPOINT.lo -MD -MP -MF .deps/ta_MIDPOINT.Tpo -c ta_MIDPOINT.c  -fPIC -DPIC -o .libs/ta_MIDPOINT.o\n",
            " gcc -DHAVE_CONFIG_H -I. -I../../include -I../ta_common/ -g -O2 -MT ta_MIDPOINT.lo -MD -MP -MF .deps/ta_MIDPOINT.Tpo -c ta_MIDPOINT.c -o ta_MIDPOINT.o >/dev/null 2>&1\n",
            "mv -f .deps/ta_MIDPOINT.Tpo .deps/ta_MIDPOINT.Plo\n",
            "/bin/bash ../../libtool --tag=CC   --mode=compile gcc -DHAVE_CONFIG_H -I. -I../../include  -I../ta_common/   -g -O2 -MT ta_MIDPRICE.lo -MD -MP -MF .deps/ta_MIDPRICE.Tpo -c -o ta_MIDPRICE.lo ta_MIDPRICE.c\n",
            " gcc -DHAVE_CONFIG_H -I. -I../../include -I../ta_common/ -g -O2 -MT ta_MIDPRICE.lo -MD -MP -MF .deps/ta_MIDPRICE.Tpo -c ta_MIDPRICE.c  -fPIC -DPIC -o .libs/ta_MIDPRICE.o\n",
            " gcc -DHAVE_CONFIG_H -I. -I../../include -I../ta_common/ -g -O2 -MT ta_MIDPRICE.lo -MD -MP -MF .deps/ta_MIDPRICE.Tpo -c ta_MIDPRICE.c -o ta_MIDPRICE.o >/dev/null 2>&1\n",
            "mv -f .deps/ta_MIDPRICE.Tpo .deps/ta_MIDPRICE.Plo\n",
            "/bin/bash ../../libtool --tag=CC   --mode=compile gcc -DHAVE_CONFIG_H -I. -I../../include  -I../ta_common/   -g -O2 -MT ta_MIN.lo -MD -MP -MF .deps/ta_MIN.Tpo -c -o ta_MIN.lo ta_MIN.c\n",
            " gcc -DHAVE_CONFIG_H -I. -I../../include -I../ta_common/ -g -O2 -MT ta_MIN.lo -MD -MP -MF .deps/ta_MIN.Tpo -c ta_MIN.c  -fPIC -DPIC -o .libs/ta_MIN.o\n",
            " gcc -DHAVE_CONFIG_H -I. -I../../include -I../ta_common/ -g -O2 -MT ta_MIN.lo -MD -MP -MF .deps/ta_MIN.Tpo -c ta_MIN.c -o ta_MIN.o >/dev/null 2>&1\n",
            "mv -f .deps/ta_MIN.Tpo .deps/ta_MIN.Plo\n",
            "/bin/bash ../../libtool --tag=CC   --mode=compile gcc -DHAVE_CONFIG_H -I. -I../../include  -I../ta_common/   -g -O2 -MT ta_MININDEX.lo -MD -MP -MF .deps/ta_MININDEX.Tpo -c -o ta_MININDEX.lo ta_MININDEX.c\n",
            " gcc -DHAVE_CONFIG_H -I. -I../../include -I../ta_common/ -g -O2 -MT ta_MININDEX.lo -MD -MP -MF .deps/ta_MININDEX.Tpo -c ta_MININDEX.c  -fPIC -DPIC -o .libs/ta_MININDEX.o\n",
            " gcc -DHAVE_CONFIG_H -I. -I../../include -I../ta_common/ -g -O2 -MT ta_MININDEX.lo -MD -MP -MF .deps/ta_MININDEX.Tpo -c ta_MININDEX.c -o ta_MININDEX.o >/dev/null 2>&1\n",
            "mv -f .deps/ta_MININDEX.Tpo .deps/ta_MININDEX.Plo\n",
            "/bin/bash ../../libtool --tag=CC   --mode=compile gcc -DHAVE_CONFIG_H -I. -I../../include  -I../ta_common/   -g -O2 -MT ta_MINMAX.lo -MD -MP -MF .deps/ta_MINMAX.Tpo -c -o ta_MINMAX.lo ta_MINMAX.c\n",
            " gcc -DHAVE_CONFIG_H -I. -I../../include -I../ta_common/ -g -O2 -MT ta_MINMAX.lo -MD -MP -MF .deps/ta_MINMAX.Tpo -c ta_MINMAX.c  -fPIC -DPIC -o .libs/ta_MINMAX.o\n",
            " gcc -DHAVE_CONFIG_H -I. -I../../include -I../ta_common/ -g -O2 -MT ta_MINMAX.lo -MD -MP -MF .deps/ta_MINMAX.Tpo -c ta_MINMAX.c -o ta_MINMAX.o >/dev/null 2>&1\n",
            "mv -f .deps/ta_MINMAX.Tpo .deps/ta_MINMAX.Plo\n",
            "/bin/bash ../../libtool --tag=CC   --mode=compile gcc -DHAVE_CONFIG_H -I. -I../../include  -I../ta_common/   -g -O2 -MT ta_MINMAXINDEX.lo -MD -MP -MF .deps/ta_MINMAXINDEX.Tpo -c -o ta_MINMAXINDEX.lo ta_MINMAXINDEX.c\n",
            " gcc -DHAVE_CONFIG_H -I. -I../../include -I../ta_common/ -g -O2 -MT ta_MINMAXINDEX.lo -MD -MP -MF .deps/ta_MINMAXINDEX.Tpo -c ta_MINMAXINDEX.c  -fPIC -DPIC -o .libs/ta_MINMAXINDEX.o\n",
            " gcc -DHAVE_CONFIG_H -I. -I../../include -I../ta_common/ -g -O2 -MT ta_MINMAXINDEX.lo -MD -MP -MF .deps/ta_MINMAXINDEX.Tpo -c ta_MINMAXINDEX.c -o ta_MINMAXINDEX.o >/dev/null 2>&1\n",
            "mv -f .deps/ta_MINMAXINDEX.Tpo .deps/ta_MINMAXINDEX.Plo\n",
            "/bin/bash ../../libtool --tag=CC   --mode=compile gcc -DHAVE_CONFIG_H -I. -I../../include  -I../ta_common/   -g -O2 -MT ta_MINUS_DI.lo -MD -MP -MF .deps/ta_MINUS_DI.Tpo -c -o ta_MINUS_DI.lo ta_MINUS_DI.c\n",
            " gcc -DHAVE_CONFIG_H -I. -I../../include -I../ta_common/ -g -O2 -MT ta_MINUS_DI.lo -MD -MP -MF .deps/ta_MINUS_DI.Tpo -c ta_MINUS_DI.c  -fPIC -DPIC -o .libs/ta_MINUS_DI.o\n",
            " gcc -DHAVE_CONFIG_H -I. -I../../include -I../ta_common/ -g -O2 -MT ta_MINUS_DI.lo -MD -MP -MF .deps/ta_MINUS_DI.Tpo -c ta_MINUS_DI.c -o ta_MINUS_DI.o >/dev/null 2>&1\n",
            "mv -f .deps/ta_MINUS_DI.Tpo .deps/ta_MINUS_DI.Plo\n",
            "/bin/bash ../../libtool --tag=CC   --mode=compile gcc -DHAVE_CONFIG_H -I. -I../../include  -I../ta_common/   -g -O2 -MT ta_MINUS_DM.lo -MD -MP -MF .deps/ta_MINUS_DM.Tpo -c -o ta_MINUS_DM.lo ta_MINUS_DM.c\n",
            " gcc -DHAVE_CONFIG_H -I. -I../../include -I../ta_common/ -g -O2 -MT ta_MINUS_DM.lo -MD -MP -MF .deps/ta_MINUS_DM.Tpo -c ta_MINUS_DM.c  -fPIC -DPIC -o .libs/ta_MINUS_DM.o\n",
            " gcc -DHAVE_CONFIG_H -I. -I../../include -I../ta_common/ -g -O2 -MT ta_MINUS_DM.lo -MD -MP -MF .deps/ta_MINUS_DM.Tpo -c ta_MINUS_DM.c -o ta_MINUS_DM.o >/dev/null 2>&1\n",
            "mv -f .deps/ta_MINUS_DM.Tpo .deps/ta_MINUS_DM.Plo\n",
            "/bin/bash ../../libtool --tag=CC   --mode=compile gcc -DHAVE_CONFIG_H -I. -I../../include  -I../ta_common/   -g -O2 -MT ta_MOM.lo -MD -MP -MF .deps/ta_MOM.Tpo -c -o ta_MOM.lo ta_MOM.c\n",
            " gcc -DHAVE_CONFIG_H -I. -I../../include -I../ta_common/ -g -O2 -MT ta_MOM.lo -MD -MP -MF .deps/ta_MOM.Tpo -c ta_MOM.c  -fPIC -DPIC -o .libs/ta_MOM.o\n",
            " gcc -DHAVE_CONFIG_H -I. -I../../include -I../ta_common/ -g -O2 -MT ta_MOM.lo -MD -MP -MF .deps/ta_MOM.Tpo -c ta_MOM.c -o ta_MOM.o >/dev/null 2>&1\n",
            "mv -f .deps/ta_MOM.Tpo .deps/ta_MOM.Plo\n",
            "/bin/bash ../../libtool --tag=CC   --mode=compile gcc -DHAVE_CONFIG_H -I. -I../../include  -I../ta_common/   -g -O2 -MT ta_MULT.lo -MD -MP -MF .deps/ta_MULT.Tpo -c -o ta_MULT.lo ta_MULT.c\n",
            " gcc -DHAVE_CONFIG_H -I. -I../../include -I../ta_common/ -g -O2 -MT ta_MULT.lo -MD -MP -MF .deps/ta_MULT.Tpo -c ta_MULT.c  -fPIC -DPIC -o .libs/ta_MULT.o\n",
            " gcc -DHAVE_CONFIG_H -I. -I../../include -I../ta_common/ -g -O2 -MT ta_MULT.lo -MD -MP -MF .deps/ta_MULT.Tpo -c ta_MULT.c -o ta_MULT.o >/dev/null 2>&1\n",
            "mv -f .deps/ta_MULT.Tpo .deps/ta_MULT.Plo\n",
            "/bin/bash ../../libtool --tag=CC   --mode=compile gcc -DHAVE_CONFIG_H -I. -I../../include  -I../ta_common/   -g -O2 -MT ta_NATR.lo -MD -MP -MF .deps/ta_NATR.Tpo -c -o ta_NATR.lo ta_NATR.c\n",
            " gcc -DHAVE_CONFIG_H -I. -I../../include -I../ta_common/ -g -O2 -MT ta_NATR.lo -MD -MP -MF .deps/ta_NATR.Tpo -c ta_NATR.c  -fPIC -DPIC -o .libs/ta_NATR.o\n",
            " gcc -DHAVE_CONFIG_H -I. -I../../include -I../ta_common/ -g -O2 -MT ta_NATR.lo -MD -MP -MF .deps/ta_NATR.Tpo -c ta_NATR.c -o ta_NATR.o >/dev/null 2>&1\n",
            "mv -f .deps/ta_NATR.Tpo .deps/ta_NATR.Plo\n",
            "/bin/bash ../../libtool --tag=CC   --mode=compile gcc -DHAVE_CONFIG_H -I. -I../../include  -I../ta_common/   -g -O2 -MT ta_OBV.lo -MD -MP -MF .deps/ta_OBV.Tpo -c -o ta_OBV.lo ta_OBV.c\n",
            " gcc -DHAVE_CONFIG_H -I. -I../../include -I../ta_common/ -g -O2 -MT ta_OBV.lo -MD -MP -MF .deps/ta_OBV.Tpo -c ta_OBV.c  -fPIC -DPIC -o .libs/ta_OBV.o\n",
            " gcc -DHAVE_CONFIG_H -I. -I../../include -I../ta_common/ -g -O2 -MT ta_OBV.lo -MD -MP -MF .deps/ta_OBV.Tpo -c ta_OBV.c -o ta_OBV.o >/dev/null 2>&1\n",
            "mv -f .deps/ta_OBV.Tpo .deps/ta_OBV.Plo\n",
            "/bin/bash ../../libtool --tag=CC   --mode=compile gcc -DHAVE_CONFIG_H -I. -I../../include  -I../ta_common/   -g -O2 -MT ta_PLUS_DI.lo -MD -MP -MF .deps/ta_PLUS_DI.Tpo -c -o ta_PLUS_DI.lo ta_PLUS_DI.c\n",
            " gcc -DHAVE_CONFIG_H -I. -I../../include -I../ta_common/ -g -O2 -MT ta_PLUS_DI.lo -MD -MP -MF .deps/ta_PLUS_DI.Tpo -c ta_PLUS_DI.c  -fPIC -DPIC -o .libs/ta_PLUS_DI.o\n",
            " gcc -DHAVE_CONFIG_H -I. -I../../include -I../ta_common/ -g -O2 -MT ta_PLUS_DI.lo -MD -MP -MF .deps/ta_PLUS_DI.Tpo -c ta_PLUS_DI.c -o ta_PLUS_DI.o >/dev/null 2>&1\n",
            "mv -f .deps/ta_PLUS_DI.Tpo .deps/ta_PLUS_DI.Plo\n",
            "/bin/bash ../../libtool --tag=CC   --mode=compile gcc -DHAVE_CONFIG_H -I. -I../../include  -I../ta_common/   -g -O2 -MT ta_PLUS_DM.lo -MD -MP -MF .deps/ta_PLUS_DM.Tpo -c -o ta_PLUS_DM.lo ta_PLUS_DM.c\n",
            " gcc -DHAVE_CONFIG_H -I. -I../../include -I../ta_common/ -g -O2 -MT ta_PLUS_DM.lo -MD -MP -MF .deps/ta_PLUS_DM.Tpo -c ta_PLUS_DM.c  -fPIC -DPIC -o .libs/ta_PLUS_DM.o\n",
            " gcc -DHAVE_CONFIG_H -I. -I../../include -I../ta_common/ -g -O2 -MT ta_PLUS_DM.lo -MD -MP -MF .deps/ta_PLUS_DM.Tpo -c ta_PLUS_DM.c -o ta_PLUS_DM.o >/dev/null 2>&1\n",
            "mv -f .deps/ta_PLUS_DM.Tpo .deps/ta_PLUS_DM.Plo\n",
            "/bin/bash ../../libtool --tag=CC   --mode=compile gcc -DHAVE_CONFIG_H -I. -I../../include  -I../ta_common/   -g -O2 -MT ta_PPO.lo -MD -MP -MF .deps/ta_PPO.Tpo -c -o ta_PPO.lo ta_PPO.c\n",
            " gcc -DHAVE_CONFIG_H -I. -I../../include -I../ta_common/ -g -O2 -MT ta_PPO.lo -MD -MP -MF .deps/ta_PPO.Tpo -c ta_PPO.c  -fPIC -DPIC -o .libs/ta_PPO.o\n",
            " gcc -DHAVE_CONFIG_H -I. -I../../include -I../ta_common/ -g -O2 -MT ta_PPO.lo -MD -MP -MF .deps/ta_PPO.Tpo -c ta_PPO.c -o ta_PPO.o >/dev/null 2>&1\n",
            "mv -f .deps/ta_PPO.Tpo .deps/ta_PPO.Plo\n",
            "/bin/bash ../../libtool --tag=CC   --mode=compile gcc -DHAVE_CONFIG_H -I. -I../../include  -I../ta_common/   -g -O2 -MT ta_ROC.lo -MD -MP -MF .deps/ta_ROC.Tpo -c -o ta_ROC.lo ta_ROC.c\n",
            " gcc -DHAVE_CONFIG_H -I. -I../../include -I../ta_common/ -g -O2 -MT ta_ROC.lo -MD -MP -MF .deps/ta_ROC.Tpo -c ta_ROC.c  -fPIC -DPIC -o .libs/ta_ROC.o\n",
            " gcc -DHAVE_CONFIG_H -I. -I../../include -I../ta_common/ -g -O2 -MT ta_ROC.lo -MD -MP -MF .deps/ta_ROC.Tpo -c ta_ROC.c -o ta_ROC.o >/dev/null 2>&1\n",
            "mv -f .deps/ta_ROC.Tpo .deps/ta_ROC.Plo\n",
            "/bin/bash ../../libtool --tag=CC   --mode=compile gcc -DHAVE_CONFIG_H -I. -I../../include  -I../ta_common/   -g -O2 -MT ta_ROCP.lo -MD -MP -MF .deps/ta_ROCP.Tpo -c -o ta_ROCP.lo ta_ROCP.c\n",
            " gcc -DHAVE_CONFIG_H -I. -I../../include -I../ta_common/ -g -O2 -MT ta_ROCP.lo -MD -MP -MF .deps/ta_ROCP.Tpo -c ta_ROCP.c  -fPIC -DPIC -o .libs/ta_ROCP.o\n",
            " gcc -DHAVE_CONFIG_H -I. -I../../include -I../ta_common/ -g -O2 -MT ta_ROCP.lo -MD -MP -MF .deps/ta_ROCP.Tpo -c ta_ROCP.c -o ta_ROCP.o >/dev/null 2>&1\n",
            "mv -f .deps/ta_ROCP.Tpo .deps/ta_ROCP.Plo\n",
            "/bin/bash ../../libtool --tag=CC   --mode=compile gcc -DHAVE_CONFIG_H -I. -I../../include  -I../ta_common/   -g -O2 -MT ta_ROCR.lo -MD -MP -MF .deps/ta_ROCR.Tpo -c -o ta_ROCR.lo ta_ROCR.c\n",
            " gcc -DHAVE_CONFIG_H -I. -I../../include -I../ta_common/ -g -O2 -MT ta_ROCR.lo -MD -MP -MF .deps/ta_ROCR.Tpo -c ta_ROCR.c  -fPIC -DPIC -o .libs/ta_ROCR.o\n",
            " gcc -DHAVE_CONFIG_H -I. -I../../include -I../ta_common/ -g -O2 -MT ta_ROCR.lo -MD -MP -MF .deps/ta_ROCR.Tpo -c ta_ROCR.c -o ta_ROCR.o >/dev/null 2>&1\n",
            "mv -f .deps/ta_ROCR.Tpo .deps/ta_ROCR.Plo\n",
            "/bin/bash ../../libtool --tag=CC   --mode=compile gcc -DHAVE_CONFIG_H -I. -I../../include  -I../ta_common/   -g -O2 -MT ta_ROCR100.lo -MD -MP -MF .deps/ta_ROCR100.Tpo -c -o ta_ROCR100.lo ta_ROCR100.c\n",
            " gcc -DHAVE_CONFIG_H -I. -I../../include -I../ta_common/ -g -O2 -MT ta_ROCR100.lo -MD -MP -MF .deps/ta_ROCR100.Tpo -c ta_ROCR100.c  -fPIC -DPIC -o .libs/ta_ROCR100.o\n",
            " gcc -DHAVE_CONFIG_H -I. -I../../include -I../ta_common/ -g -O2 -MT ta_ROCR100.lo -MD -MP -MF .deps/ta_ROCR100.Tpo -c ta_ROCR100.c -o ta_ROCR100.o >/dev/null 2>&1\n",
            "mv -f .deps/ta_ROCR100.Tpo .deps/ta_ROCR100.Plo\n",
            "/bin/bash ../../libtool --tag=CC   --mode=compile gcc -DHAVE_CONFIG_H -I. -I../../include  -I../ta_common/   -g -O2 -MT ta_RSI.lo -MD -MP -MF .deps/ta_RSI.Tpo -c -o ta_RSI.lo ta_RSI.c\n",
            " gcc -DHAVE_CONFIG_H -I. -I../../include -I../ta_common/ -g -O2 -MT ta_RSI.lo -MD -MP -MF .deps/ta_RSI.Tpo -c ta_RSI.c  -fPIC -DPIC -o .libs/ta_RSI.o\n",
            " gcc -DHAVE_CONFIG_H -I. -I../../include -I../ta_common/ -g -O2 -MT ta_RSI.lo -MD -MP -MF .deps/ta_RSI.Tpo -c ta_RSI.c -o ta_RSI.o >/dev/null 2>&1\n",
            "mv -f .deps/ta_RSI.Tpo .deps/ta_RSI.Plo\n",
            "/bin/bash ../../libtool --tag=CC   --mode=compile gcc -DHAVE_CONFIG_H -I. -I../../include  -I../ta_common/   -g -O2 -MT ta_SAR.lo -MD -MP -MF .deps/ta_SAR.Tpo -c -o ta_SAR.lo ta_SAR.c\n",
            " gcc -DHAVE_CONFIG_H -I. -I../../include -I../ta_common/ -g -O2 -MT ta_SAR.lo -MD -MP -MF .deps/ta_SAR.Tpo -c ta_SAR.c  -fPIC -DPIC -o .libs/ta_SAR.o\n",
            " gcc -DHAVE_CONFIG_H -I. -I../../include -I../ta_common/ -g -O2 -MT ta_SAR.lo -MD -MP -MF .deps/ta_SAR.Tpo -c ta_SAR.c -o ta_SAR.o >/dev/null 2>&1\n",
            "mv -f .deps/ta_SAR.Tpo .deps/ta_SAR.Plo\n",
            "/bin/bash ../../libtool --tag=CC   --mode=compile gcc -DHAVE_CONFIG_H -I. -I../../include  -I../ta_common/   -g -O2 -MT ta_SAREXT.lo -MD -MP -MF .deps/ta_SAREXT.Tpo -c -o ta_SAREXT.lo ta_SAREXT.c\n",
            " gcc -DHAVE_CONFIG_H -I. -I../../include -I../ta_common/ -g -O2 -MT ta_SAREXT.lo -MD -MP -MF .deps/ta_SAREXT.Tpo -c ta_SAREXT.c  -fPIC -DPIC -o .libs/ta_SAREXT.o\n",
            " gcc -DHAVE_CONFIG_H -I. -I../../include -I../ta_common/ -g -O2 -MT ta_SAREXT.lo -MD -MP -MF .deps/ta_SAREXT.Tpo -c ta_SAREXT.c -o ta_SAREXT.o >/dev/null 2>&1\n",
            "mv -f .deps/ta_SAREXT.Tpo .deps/ta_SAREXT.Plo\n",
            "/bin/bash ../../libtool --tag=CC   --mode=compile gcc -DHAVE_CONFIG_H -I. -I../../include  -I../ta_common/   -g -O2 -MT ta_SIN.lo -MD -MP -MF .deps/ta_SIN.Tpo -c -o ta_SIN.lo ta_SIN.c\n",
            " gcc -DHAVE_CONFIG_H -I. -I../../include -I../ta_common/ -g -O2 -MT ta_SIN.lo -MD -MP -MF .deps/ta_SIN.Tpo -c ta_SIN.c  -fPIC -DPIC -o .libs/ta_SIN.o\n",
            " gcc -DHAVE_CONFIG_H -I. -I../../include -I../ta_common/ -g -O2 -MT ta_SIN.lo -MD -MP -MF .deps/ta_SIN.Tpo -c ta_SIN.c -o ta_SIN.o >/dev/null 2>&1\n",
            "mv -f .deps/ta_SIN.Tpo .deps/ta_SIN.Plo\n",
            "/bin/bash ../../libtool --tag=CC   --mode=compile gcc -DHAVE_CONFIG_H -I. -I../../include  -I../ta_common/   -g -O2 -MT ta_SINH.lo -MD -MP -MF .deps/ta_SINH.Tpo -c -o ta_SINH.lo ta_SINH.c\n",
            " gcc -DHAVE_CONFIG_H -I. -I../../include -I../ta_common/ -g -O2 -MT ta_SINH.lo -MD -MP -MF .deps/ta_SINH.Tpo -c ta_SINH.c  -fPIC -DPIC -o .libs/ta_SINH.o\n",
            " gcc -DHAVE_CONFIG_H -I. -I../../include -I../ta_common/ -g -O2 -MT ta_SINH.lo -MD -MP -MF .deps/ta_SINH.Tpo -c ta_SINH.c -o ta_SINH.o >/dev/null 2>&1\n",
            "mv -f .deps/ta_SINH.Tpo .deps/ta_SINH.Plo\n",
            "/bin/bash ../../libtool --tag=CC   --mode=compile gcc -DHAVE_CONFIG_H -I. -I../../include  -I../ta_common/   -g -O2 -MT ta_SMA.lo -MD -MP -MF .deps/ta_SMA.Tpo -c -o ta_SMA.lo ta_SMA.c\n",
            " gcc -DHAVE_CONFIG_H -I. -I../../include -I../ta_common/ -g -O2 -MT ta_SMA.lo -MD -MP -MF .deps/ta_SMA.Tpo -c ta_SMA.c  -fPIC -DPIC -o .libs/ta_SMA.o\n",
            " gcc -DHAVE_CONFIG_H -I. -I../../include -I../ta_common/ -g -O2 -MT ta_SMA.lo -MD -MP -MF .deps/ta_SMA.Tpo -c ta_SMA.c -o ta_SMA.o >/dev/null 2>&1\n",
            "mv -f .deps/ta_SMA.Tpo .deps/ta_SMA.Plo\n",
            "/bin/bash ../../libtool --tag=CC   --mode=compile gcc -DHAVE_CONFIG_H -I. -I../../include  -I../ta_common/   -g -O2 -MT ta_SQRT.lo -MD -MP -MF .deps/ta_SQRT.Tpo -c -o ta_SQRT.lo ta_SQRT.c\n",
            " gcc -DHAVE_CONFIG_H -I. -I../../include -I../ta_common/ -g -O2 -MT ta_SQRT.lo -MD -MP -MF .deps/ta_SQRT.Tpo -c ta_SQRT.c  -fPIC -DPIC -o .libs/ta_SQRT.o\n",
            " gcc -DHAVE_CONFIG_H -I. -I../../include -I../ta_common/ -g -O2 -MT ta_SQRT.lo -MD -MP -MF .deps/ta_SQRT.Tpo -c ta_SQRT.c -o ta_SQRT.o >/dev/null 2>&1\n",
            "mv -f .deps/ta_SQRT.Tpo .deps/ta_SQRT.Plo\n",
            "/bin/bash ../../libtool --tag=CC   --mode=compile gcc -DHAVE_CONFIG_H -I. -I../../include  -I../ta_common/   -g -O2 -MT ta_STDDEV.lo -MD -MP -MF .deps/ta_STDDEV.Tpo -c -o ta_STDDEV.lo ta_STDDEV.c\n",
            " gcc -DHAVE_CONFIG_H -I. -I../../include -I../ta_common/ -g -O2 -MT ta_STDDEV.lo -MD -MP -MF .deps/ta_STDDEV.Tpo -c ta_STDDEV.c  -fPIC -DPIC -o .libs/ta_STDDEV.o\n",
            " gcc -DHAVE_CONFIG_H -I. -I../../include -I../ta_common/ -g -O2 -MT ta_STDDEV.lo -MD -MP -MF .deps/ta_STDDEV.Tpo -c ta_STDDEV.c -o ta_STDDEV.o >/dev/null 2>&1\n",
            "mv -f .deps/ta_STDDEV.Tpo .deps/ta_STDDEV.Plo\n",
            "/bin/bash ../../libtool --tag=CC   --mode=compile gcc -DHAVE_CONFIG_H -I. -I../../include  -I../ta_common/   -g -O2 -MT ta_STOCH.lo -MD -MP -MF .deps/ta_STOCH.Tpo -c -o ta_STOCH.lo ta_STOCH.c\n",
            " gcc -DHAVE_CONFIG_H -I. -I../../include -I../ta_common/ -g -O2 -MT ta_STOCH.lo -MD -MP -MF .deps/ta_STOCH.Tpo -c ta_STOCH.c  -fPIC -DPIC -o .libs/ta_STOCH.o\n",
            " gcc -DHAVE_CONFIG_H -I. -I../../include -I../ta_common/ -g -O2 -MT ta_STOCH.lo -MD -MP -MF .deps/ta_STOCH.Tpo -c ta_STOCH.c -o ta_STOCH.o >/dev/null 2>&1\n",
            "mv -f .deps/ta_STOCH.Tpo .deps/ta_STOCH.Plo\n",
            "/bin/bash ../../libtool --tag=CC   --mode=compile gcc -DHAVE_CONFIG_H -I. -I../../include  -I../ta_common/   -g -O2 -MT ta_STOCHF.lo -MD -MP -MF .deps/ta_STOCHF.Tpo -c -o ta_STOCHF.lo ta_STOCHF.c\n",
            " gcc -DHAVE_CONFIG_H -I. -I../../include -I../ta_common/ -g -O2 -MT ta_STOCHF.lo -MD -MP -MF .deps/ta_STOCHF.Tpo -c ta_STOCHF.c  -fPIC -DPIC -o .libs/ta_STOCHF.o\n",
            " gcc -DHAVE_CONFIG_H -I. -I../../include -I../ta_common/ -g -O2 -MT ta_STOCHF.lo -MD -MP -MF .deps/ta_STOCHF.Tpo -c ta_STOCHF.c -o ta_STOCHF.o >/dev/null 2>&1\n",
            "mv -f .deps/ta_STOCHF.Tpo .deps/ta_STOCHF.Plo\n",
            "/bin/bash ../../libtool --tag=CC   --mode=compile gcc -DHAVE_CONFIG_H -I. -I../../include  -I../ta_common/   -g -O2 -MT ta_STOCHRSI.lo -MD -MP -MF .deps/ta_STOCHRSI.Tpo -c -o ta_STOCHRSI.lo ta_STOCHRSI.c\n",
            " gcc -DHAVE_CONFIG_H -I. -I../../include -I../ta_common/ -g -O2 -MT ta_STOCHRSI.lo -MD -MP -MF .deps/ta_STOCHRSI.Tpo -c ta_STOCHRSI.c  -fPIC -DPIC -o .libs/ta_STOCHRSI.o\n",
            " gcc -DHAVE_CONFIG_H -I. -I../../include -I../ta_common/ -g -O2 -MT ta_STOCHRSI.lo -MD -MP -MF .deps/ta_STOCHRSI.Tpo -c ta_STOCHRSI.c -o ta_STOCHRSI.o >/dev/null 2>&1\n",
            "mv -f .deps/ta_STOCHRSI.Tpo .deps/ta_STOCHRSI.Plo\n",
            "/bin/bash ../../libtool --tag=CC   --mode=compile gcc -DHAVE_CONFIG_H -I. -I../../include  -I../ta_common/   -g -O2 -MT ta_SUB.lo -MD -MP -MF .deps/ta_SUB.Tpo -c -o ta_SUB.lo ta_SUB.c\n",
            " gcc -DHAVE_CONFIG_H -I. -I../../include -I../ta_common/ -g -O2 -MT ta_SUB.lo -MD -MP -MF .deps/ta_SUB.Tpo -c ta_SUB.c  -fPIC -DPIC -o .libs/ta_SUB.o\n",
            " gcc -DHAVE_CONFIG_H -I. -I../../include -I../ta_common/ -g -O2 -MT ta_SUB.lo -MD -MP -MF .deps/ta_SUB.Tpo -c ta_SUB.c -o ta_SUB.o >/dev/null 2>&1\n",
            "mv -f .deps/ta_SUB.Tpo .deps/ta_SUB.Plo\n",
            "/bin/bash ../../libtool --tag=CC   --mode=compile gcc -DHAVE_CONFIG_H -I. -I../../include  -I../ta_common/   -g -O2 -MT ta_SUM.lo -MD -MP -MF .deps/ta_SUM.Tpo -c -o ta_SUM.lo ta_SUM.c\n",
            " gcc -DHAVE_CONFIG_H -I. -I../../include -I../ta_common/ -g -O2 -MT ta_SUM.lo -MD -MP -MF .deps/ta_SUM.Tpo -c ta_SUM.c  -fPIC -DPIC -o .libs/ta_SUM.o\n",
            " gcc -DHAVE_CONFIG_H -I. -I../../include -I../ta_common/ -g -O2 -MT ta_SUM.lo -MD -MP -MF .deps/ta_SUM.Tpo -c ta_SUM.c -o ta_SUM.o >/dev/null 2>&1\n",
            "mv -f .deps/ta_SUM.Tpo .deps/ta_SUM.Plo\n",
            "/bin/bash ../../libtool --tag=CC   --mode=compile gcc -DHAVE_CONFIG_H -I. -I../../include  -I../ta_common/   -g -O2 -MT ta_T3.lo -MD -MP -MF .deps/ta_T3.Tpo -c -o ta_T3.lo ta_T3.c\n",
            " gcc -DHAVE_CONFIG_H -I. -I../../include -I../ta_common/ -g -O2 -MT ta_T3.lo -MD -MP -MF .deps/ta_T3.Tpo -c ta_T3.c  -fPIC -DPIC -o .libs/ta_T3.o\n",
            " gcc -DHAVE_CONFIG_H -I. -I../../include -I../ta_common/ -g -O2 -MT ta_T3.lo -MD -MP -MF .deps/ta_T3.Tpo -c ta_T3.c -o ta_T3.o >/dev/null 2>&1\n",
            "mv -f .deps/ta_T3.Tpo .deps/ta_T3.Plo\n",
            "/bin/bash ../../libtool --tag=CC   --mode=compile gcc -DHAVE_CONFIG_H -I. -I../../include  -I../ta_common/   -g -O2 -MT ta_TAN.lo -MD -MP -MF .deps/ta_TAN.Tpo -c -o ta_TAN.lo ta_TAN.c\n",
            " gcc -DHAVE_CONFIG_H -I. -I../../include -I../ta_common/ -g -O2 -MT ta_TAN.lo -MD -MP -MF .deps/ta_TAN.Tpo -c ta_TAN.c  -fPIC -DPIC -o .libs/ta_TAN.o\n",
            " gcc -DHAVE_CONFIG_H -I. -I../../include -I../ta_common/ -g -O2 -MT ta_TAN.lo -MD -MP -MF .deps/ta_TAN.Tpo -c ta_TAN.c -o ta_TAN.o >/dev/null 2>&1\n",
            "mv -f .deps/ta_TAN.Tpo .deps/ta_TAN.Plo\n",
            "/bin/bash ../../libtool --tag=CC   --mode=compile gcc -DHAVE_CONFIG_H -I. -I../../include  -I../ta_common/   -g -O2 -MT ta_TANH.lo -MD -MP -MF .deps/ta_TANH.Tpo -c -o ta_TANH.lo ta_TANH.c\n",
            " gcc -DHAVE_CONFIG_H -I. -I../../include -I../ta_common/ -g -O2 -MT ta_TANH.lo -MD -MP -MF .deps/ta_TANH.Tpo -c ta_TANH.c  -fPIC -DPIC -o .libs/ta_TANH.o\n",
            " gcc -DHAVE_CONFIG_H -I. -I../../include -I../ta_common/ -g -O2 -MT ta_TANH.lo -MD -MP -MF .deps/ta_TANH.Tpo -c ta_TANH.c -o ta_TANH.o >/dev/null 2>&1\n",
            "mv -f .deps/ta_TANH.Tpo .deps/ta_TANH.Plo\n",
            "/bin/bash ../../libtool --tag=CC   --mode=compile gcc -DHAVE_CONFIG_H -I. -I../../include  -I../ta_common/   -g -O2 -MT ta_TEMA.lo -MD -MP -MF .deps/ta_TEMA.Tpo -c -o ta_TEMA.lo ta_TEMA.c\n",
            " gcc -DHAVE_CONFIG_H -I. -I../../include -I../ta_common/ -g -O2 -MT ta_TEMA.lo -MD -MP -MF .deps/ta_TEMA.Tpo -c ta_TEMA.c  -fPIC -DPIC -o .libs/ta_TEMA.o\n",
            " gcc -DHAVE_CONFIG_H -I. -I../../include -I../ta_common/ -g -O2 -MT ta_TEMA.lo -MD -MP -MF .deps/ta_TEMA.Tpo -c ta_TEMA.c -o ta_TEMA.o >/dev/null 2>&1\n",
            "mv -f .deps/ta_TEMA.Tpo .deps/ta_TEMA.Plo\n",
            "/bin/bash ../../libtool --tag=CC   --mode=compile gcc -DHAVE_CONFIG_H -I. -I../../include  -I../ta_common/   -g -O2 -MT ta_TRANGE.lo -MD -MP -MF .deps/ta_TRANGE.Tpo -c -o ta_TRANGE.lo ta_TRANGE.c\n",
            " gcc -DHAVE_CONFIG_H -I. -I../../include -I../ta_common/ -g -O2 -MT ta_TRANGE.lo -MD -MP -MF .deps/ta_TRANGE.Tpo -c ta_TRANGE.c  -fPIC -DPIC -o .libs/ta_TRANGE.o\n",
            " gcc -DHAVE_CONFIG_H -I. -I../../include -I../ta_common/ -g -O2 -MT ta_TRANGE.lo -MD -MP -MF .deps/ta_TRANGE.Tpo -c ta_TRANGE.c -o ta_TRANGE.o >/dev/null 2>&1\n",
            "mv -f .deps/ta_TRANGE.Tpo .deps/ta_TRANGE.Plo\n",
            "/bin/bash ../../libtool --tag=CC   --mode=compile gcc -DHAVE_CONFIG_H -I. -I../../include  -I../ta_common/   -g -O2 -MT ta_TRIMA.lo -MD -MP -MF .deps/ta_TRIMA.Tpo -c -o ta_TRIMA.lo ta_TRIMA.c\n",
            " gcc -DHAVE_CONFIG_H -I. -I../../include -I../ta_common/ -g -O2 -MT ta_TRIMA.lo -MD -MP -MF .deps/ta_TRIMA.Tpo -c ta_TRIMA.c  -fPIC -DPIC -o .libs/ta_TRIMA.o\n",
            " gcc -DHAVE_CONFIG_H -I. -I../../include -I../ta_common/ -g -O2 -MT ta_TRIMA.lo -MD -MP -MF .deps/ta_TRIMA.Tpo -c ta_TRIMA.c -o ta_TRIMA.o >/dev/null 2>&1\n",
            "mv -f .deps/ta_TRIMA.Tpo .deps/ta_TRIMA.Plo\n",
            "/bin/bash ../../libtool --tag=CC   --mode=compile gcc -DHAVE_CONFIG_H -I. -I../../include  -I../ta_common/   -g -O2 -MT ta_TRIX.lo -MD -MP -MF .deps/ta_TRIX.Tpo -c -o ta_TRIX.lo ta_TRIX.c\n",
            " gcc -DHAVE_CONFIG_H -I. -I../../include -I../ta_common/ -g -O2 -MT ta_TRIX.lo -MD -MP -MF .deps/ta_TRIX.Tpo -c ta_TRIX.c  -fPIC -DPIC -o .libs/ta_TRIX.o\n",
            " gcc -DHAVE_CONFIG_H -I. -I../../include -I../ta_common/ -g -O2 -MT ta_TRIX.lo -MD -MP -MF .deps/ta_TRIX.Tpo -c ta_TRIX.c -o ta_TRIX.o >/dev/null 2>&1\n",
            "mv -f .deps/ta_TRIX.Tpo .deps/ta_TRIX.Plo\n",
            "/bin/bash ../../libtool --tag=CC   --mode=compile gcc -DHAVE_CONFIG_H -I. -I../../include  -I../ta_common/   -g -O2 -MT ta_TSF.lo -MD -MP -MF .deps/ta_TSF.Tpo -c -o ta_TSF.lo ta_TSF.c\n",
            " gcc -DHAVE_CONFIG_H -I. -I../../include -I../ta_common/ -g -O2 -MT ta_TSF.lo -MD -MP -MF .deps/ta_TSF.Tpo -c ta_TSF.c  -fPIC -DPIC -o .libs/ta_TSF.o\n",
            " gcc -DHAVE_CONFIG_H -I. -I../../include -I../ta_common/ -g -O2 -MT ta_TSF.lo -MD -MP -MF .deps/ta_TSF.Tpo -c ta_TSF.c -o ta_TSF.o >/dev/null 2>&1\n",
            "mv -f .deps/ta_TSF.Tpo .deps/ta_TSF.Plo\n",
            "/bin/bash ../../libtool --tag=CC   --mode=compile gcc -DHAVE_CONFIG_H -I. -I../../include  -I../ta_common/   -g -O2 -MT ta_TYPPRICE.lo -MD -MP -MF .deps/ta_TYPPRICE.Tpo -c -o ta_TYPPRICE.lo ta_TYPPRICE.c\n",
            " gcc -DHAVE_CONFIG_H -I. -I../../include -I../ta_common/ -g -O2 -MT ta_TYPPRICE.lo -MD -MP -MF .deps/ta_TYPPRICE.Tpo -c ta_TYPPRICE.c  -fPIC -DPIC -o .libs/ta_TYPPRICE.o\n",
            " gcc -DHAVE_CONFIG_H -I. -I../../include -I../ta_common/ -g -O2 -MT ta_TYPPRICE.lo -MD -MP -MF .deps/ta_TYPPRICE.Tpo -c ta_TYPPRICE.c -o ta_TYPPRICE.o >/dev/null 2>&1\n",
            "mv -f .deps/ta_TYPPRICE.Tpo .deps/ta_TYPPRICE.Plo\n",
            "/bin/bash ../../libtool --tag=CC   --mode=compile gcc -DHAVE_CONFIG_H -I. -I../../include  -I../ta_common/   -g -O2 -MT ta_ULTOSC.lo -MD -MP -MF .deps/ta_ULTOSC.Tpo -c -o ta_ULTOSC.lo ta_ULTOSC.c\n",
            " gcc -DHAVE_CONFIG_H -I. -I../../include -I../ta_common/ -g -O2 -MT ta_ULTOSC.lo -MD -MP -MF .deps/ta_ULTOSC.Tpo -c ta_ULTOSC.c  -fPIC -DPIC -o .libs/ta_ULTOSC.o\n",
            " gcc -DHAVE_CONFIG_H -I. -I../../include -I../ta_common/ -g -O2 -MT ta_ULTOSC.lo -MD -MP -MF .deps/ta_ULTOSC.Tpo -c ta_ULTOSC.c -o ta_ULTOSC.o >/dev/null 2>&1\n",
            "mv -f .deps/ta_ULTOSC.Tpo .deps/ta_ULTOSC.Plo\n",
            "/bin/bash ../../libtool --tag=CC   --mode=compile gcc -DHAVE_CONFIG_H -I. -I../../include  -I../ta_common/   -g -O2 -MT ta_VAR.lo -MD -MP -MF .deps/ta_VAR.Tpo -c -o ta_VAR.lo ta_VAR.c\n",
            " gcc -DHAVE_CONFIG_H -I. -I../../include -I../ta_common/ -g -O2 -MT ta_VAR.lo -MD -MP -MF .deps/ta_VAR.Tpo -c ta_VAR.c  -fPIC -DPIC -o .libs/ta_VAR.o\n",
            " gcc -DHAVE_CONFIG_H -I. -I../../include -I../ta_common/ -g -O2 -MT ta_VAR.lo -MD -MP -MF .deps/ta_VAR.Tpo -c ta_VAR.c -o ta_VAR.o >/dev/null 2>&1\n",
            "mv -f .deps/ta_VAR.Tpo .deps/ta_VAR.Plo\n",
            "/bin/bash ../../libtool --tag=CC   --mode=compile gcc -DHAVE_CONFIG_H -I. -I../../include  -I../ta_common/   -g -O2 -MT ta_WCLPRICE.lo -MD -MP -MF .deps/ta_WCLPRICE.Tpo -c -o ta_WCLPRICE.lo ta_WCLPRICE.c\n",
            " gcc -DHAVE_CONFIG_H -I. -I../../include -I../ta_common/ -g -O2 -MT ta_WCLPRICE.lo -MD -MP -MF .deps/ta_WCLPRICE.Tpo -c ta_WCLPRICE.c  -fPIC -DPIC -o .libs/ta_WCLPRICE.o\n",
            " gcc -DHAVE_CONFIG_H -I. -I../../include -I../ta_common/ -g -O2 -MT ta_WCLPRICE.lo -MD -MP -MF .deps/ta_WCLPRICE.Tpo -c ta_WCLPRICE.c -o ta_WCLPRICE.o >/dev/null 2>&1\n",
            "mv -f .deps/ta_WCLPRICE.Tpo .deps/ta_WCLPRICE.Plo\n",
            "/bin/bash ../../libtool --tag=CC   --mode=compile gcc -DHAVE_CONFIG_H -I. -I../../include  -I../ta_common/   -g -O2 -MT ta_WILLR.lo -MD -MP -MF .deps/ta_WILLR.Tpo -c -o ta_WILLR.lo ta_WILLR.c\n",
            " gcc -DHAVE_CONFIG_H -I. -I../../include -I../ta_common/ -g -O2 -MT ta_WILLR.lo -MD -MP -MF .deps/ta_WILLR.Tpo -c ta_WILLR.c  -fPIC -DPIC -o .libs/ta_WILLR.o\n",
            " gcc -DHAVE_CONFIG_H -I. -I../../include -I../ta_common/ -g -O2 -MT ta_WILLR.lo -MD -MP -MF .deps/ta_WILLR.Tpo -c ta_WILLR.c -o ta_WILLR.o >/dev/null 2>&1\n",
            "mv -f .deps/ta_WILLR.Tpo .deps/ta_WILLR.Plo\n",
            "/bin/bash ../../libtool --tag=CC   --mode=compile gcc -DHAVE_CONFIG_H -I. -I../../include  -I../ta_common/   -g -O2 -MT ta_WMA.lo -MD -MP -MF .deps/ta_WMA.Tpo -c -o ta_WMA.lo ta_WMA.c\n",
            " gcc -DHAVE_CONFIG_H -I. -I../../include -I../ta_common/ -g -O2 -MT ta_WMA.lo -MD -MP -MF .deps/ta_WMA.Tpo -c ta_WMA.c  -fPIC -DPIC -o .libs/ta_WMA.o\n",
            " gcc -DHAVE_CONFIG_H -I. -I../../include -I../ta_common/ -g -O2 -MT ta_WMA.lo -MD -MP -MF .deps/ta_WMA.Tpo -c ta_WMA.c -o ta_WMA.o >/dev/null 2>&1\n",
            "mv -f .deps/ta_WMA.Tpo .deps/ta_WMA.Plo\n",
            "/bin/bash ../../libtool --tag=CC   --mode=link gcc  -g -O2 -version-info 0:0:0  -o libta_func.la  ta_utility.lo ta_ACOS.lo ta_AD.lo ta_ADD.lo ta_ADOSC.lo ta_ADX.lo ta_ADXR.lo ta_APO.lo ta_AROON.lo ta_AROONOSC.lo ta_ASIN.lo ta_ATAN.lo ta_ATR.lo ta_AVGPRICE.lo ta_BBANDS.lo ta_BETA.lo ta_BOP.lo ta_CCI.lo ta_CDL2CROWS.lo ta_CDL3BLACKCROWS.lo ta_CDL3INSIDE.lo ta_CDL3LINESTRIKE.lo ta_CDL3OUTSIDE.lo ta_CDL3STARSINSOUTH.lo ta_CDL3WHITESOLDIERS.lo ta_CDLABANDONEDBABY.lo ta_CDLADVANCEBLOCK.lo ta_CDLBELTHOLD.lo ta_CDLBREAKAWAY.lo ta_CDLCLOSINGMARUBOZU.lo ta_CDLCONCEALBABYSWALL.lo ta_CDLCOUNTERATTACK.lo ta_CDLDARKCLOUDCOVER.lo ta_CDLDOJI.lo ta_CDLDOJISTAR.lo ta_CDLDRAGONFLYDOJI.lo ta_CDLENGULFING.lo ta_CDLEVENINGDOJISTAR.lo ta_CDLEVENINGSTAR.lo ta_CDLGAPSIDESIDEWHITE.lo ta_CDLGRAVESTONEDOJI.lo ta_CDLHAMMER.lo ta_CDLHANGINGMAN.lo ta_CDLHARAMI.lo ta_CDLHARAMICROSS.lo ta_CDLHIGHWAVE.lo ta_CDLHIKKAKE.lo ta_CDLHIKKAKEMOD.lo ta_CDLHOMINGPIGEON.lo ta_CDLIDENTICAL3CROWS.lo ta_CDLINNECK.lo ta_CDLINVERTEDHAMMER.lo ta_CDLKICKING.lo ta_CDLKICKINGBYLENGTH.lo ta_CDLLADDERBOTTOM.lo ta_CDLLONGLEGGEDDOJI.lo ta_CDLLONGLINE.lo ta_CDLMARUBOZU.lo ta_CDLMATCHINGLOW.lo ta_CDLMATHOLD.lo ta_CDLMORNINGDOJISTAR.lo ta_CDLMORNINGSTAR.lo ta_CDLONNECK.lo ta_CDLPIERCING.lo ta_CDLRICKSHAWMAN.lo ta_CDLRISEFALL3METHODS.lo ta_CDLSEPARATINGLINES.lo ta_CDLSHOOTINGSTAR.lo ta_CDLSHORTLINE.lo ta_CDLSPINNINGTOP.lo ta_CDLSTALLEDPATTERN.lo ta_CDLSTICKSANDWICH.lo ta_CDLTAKURI.lo ta_CDLTASUKIGAP.lo ta_CDLTHRUSTING.lo ta_CDLTRISTAR.lo ta_CDLUNIQUE3RIVER.lo ta_CDLUPSIDEGAP2CROWS.lo ta_CDLXSIDEGAP3METHODS.lo ta_CEIL.lo ta_CMO.lo ta_CORREL.lo ta_COS.lo ta_COSH.lo ta_DEMA.lo ta_DIV.lo ta_DX.lo ta_EMA.lo ta_EXP.lo ta_FLOOR.lo ta_HT_DCPERIOD.lo ta_HT_DCPHASE.lo ta_HT_PHASOR.lo ta_HT_SINE.lo ta_HT_TRENDLINE.lo ta_HT_TRENDMODE.lo ta_KAMA.lo ta_LINEARREG.lo ta_LINEARREG_ANGLE.lo ta_LINEARREG_INTERCEPT.lo ta_LINEARREG_SLOPE.lo ta_LN.lo ta_LOG10.lo ta_MA.lo ta_MACD.lo ta_MACDEXT.lo ta_MACDFIX.lo ta_MAMA.lo ta_MAVP.lo ta_MAX.lo ta_MAXINDEX.lo ta_MEDPRICE.lo ta_MFI.lo ta_MIDPOINT.lo ta_MIDPRICE.lo ta_MIN.lo ta_MININDEX.lo ta_MINMAX.lo ta_MINMAXINDEX.lo ta_MINUS_DI.lo ta_MINUS_DM.lo ta_MOM.lo ta_MULT.lo ta_NATR.lo ta_OBV.lo ta_PLUS_DI.lo ta_PLUS_DM.lo ta_PPO.lo ta_ROC.lo ta_ROCP.lo ta_ROCR.lo ta_ROCR100.lo ta_RSI.lo ta_SAR.lo ta_SAREXT.lo ta_SIN.lo ta_SINH.lo ta_SMA.lo ta_SQRT.lo ta_STDDEV.lo ta_STOCH.lo ta_STOCHF.lo ta_STOCHRSI.lo ta_SUB.lo ta_SUM.lo ta_T3.lo ta_TAN.lo ta_TANH.lo ta_TEMA.lo ta_TRANGE.lo ta_TRIMA.lo ta_TRIX.lo ta_TSF.lo ta_TYPPRICE.lo ta_ULTOSC.lo ta_VAR.lo ta_WCLPRICE.lo ta_WILLR.lo ta_WMA.lo  -lpthread -ldl \n",
            "libtool: link: warning: `-version-info/-version-number' is ignored for convenience libraries\n",
            "ar cru .libs/libta_func.a .libs/ta_utility.o .libs/ta_ACOS.o .libs/ta_AD.o .libs/ta_ADD.o .libs/ta_ADOSC.o .libs/ta_ADX.o .libs/ta_ADXR.o .libs/ta_APO.o .libs/ta_AROON.o .libs/ta_AROONOSC.o .libs/ta_ASIN.o .libs/ta_ATAN.o .libs/ta_ATR.o .libs/ta_AVGPRICE.o .libs/ta_BBANDS.o .libs/ta_BETA.o .libs/ta_BOP.o .libs/ta_CCI.o .libs/ta_CDL2CROWS.o .libs/ta_CDL3BLACKCROWS.o .libs/ta_CDL3INSIDE.o .libs/ta_CDL3LINESTRIKE.o .libs/ta_CDL3OUTSIDE.o .libs/ta_CDL3STARSINSOUTH.o .libs/ta_CDL3WHITESOLDIERS.o .libs/ta_CDLABANDONEDBABY.o .libs/ta_CDLADVANCEBLOCK.o .libs/ta_CDLBELTHOLD.o .libs/ta_CDLBREAKAWAY.o .libs/ta_CDLCLOSINGMARUBOZU.o .libs/ta_CDLCONCEALBABYSWALL.o .libs/ta_CDLCOUNTERATTACK.o .libs/ta_CDLDARKCLOUDCOVER.o .libs/ta_CDLDOJI.o .libs/ta_CDLDOJISTAR.o .libs/ta_CDLDRAGONFLYDOJI.o .libs/ta_CDLENGULFING.o .libs/ta_CDLEVENINGDOJISTAR.o .libs/ta_CDLEVENINGSTAR.o .libs/ta_CDLGAPSIDESIDEWHITE.o .libs/ta_CDLGRAVESTONEDOJI.o .libs/ta_CDLHAMMER.o .libs/ta_CDLHANGINGMAN.o .libs/ta_CDLHARAMI.o .libs/ta_CDLHARAMICROSS.o .libs/ta_CDLHIGHWAVE.o .libs/ta_CDLHIKKAKE.o .libs/ta_CDLHIKKAKEMOD.o .libs/ta_CDLHOMINGPIGEON.o .libs/ta_CDLIDENTICAL3CROWS.o .libs/ta_CDLINNECK.o .libs/ta_CDLINVERTEDHAMMER.o .libs/ta_CDLKICKING.o .libs/ta_CDLKICKINGBYLENGTH.o .libs/ta_CDLLADDERBOTTOM.o .libs/ta_CDLLONGLEGGEDDOJI.o .libs/ta_CDLLONGLINE.o .libs/ta_CDLMARUBOZU.o .libs/ta_CDLMATCHINGLOW.o .libs/ta_CDLMATHOLD.o .libs/ta_CDLMORNINGDOJISTAR.o .libs/ta_CDLMORNINGSTAR.o .libs/ta_CDLONNECK.o .libs/ta_CDLPIERCING.o .libs/ta_CDLRICKSHAWMAN.o .libs/ta_CDLRISEFALL3METHODS.o .libs/ta_CDLSEPARATINGLINES.o .libs/ta_CDLSHOOTINGSTAR.o .libs/ta_CDLSHORTLINE.o .libs/ta_CDLSPINNINGTOP.o .libs/ta_CDLSTALLEDPATTERN.o .libs/ta_CDLSTICKSANDWICH.o .libs/ta_CDLTAKURI.o .libs/ta_CDLTASUKIGAP.o .libs/ta_CDLTHRUSTING.o .libs/ta_CDLTRISTAR.o .libs/ta_CDLUNIQUE3RIVER.o .libs/ta_CDLUPSIDEGAP2CROWS.o .libs/ta_CDLXSIDEGAP3METHODS.o .libs/ta_CEIL.o .libs/ta_CMO.o .libs/ta_CORREL.o .libs/ta_COS.o .libs/ta_COSH.o .libs/ta_DEMA.o .libs/ta_DIV.o .libs/ta_DX.o .libs/ta_EMA.o .libs/ta_EXP.o .libs/ta_FLOOR.o .libs/ta_HT_DCPERIOD.o .libs/ta_HT_DCPHASE.o .libs/ta_HT_PHASOR.o .libs/ta_HT_SINE.o .libs/ta_HT_TRENDLINE.o .libs/ta_HT_TRENDMODE.o .libs/ta_KAMA.o .libs/ta_LINEARREG.o .libs/ta_LINEARREG_ANGLE.o .libs/ta_LINEARREG_INTERCEPT.o .libs/ta_LINEARREG_SLOPE.o .libs/ta_LN.o .libs/ta_LOG10.o .libs/ta_MA.o .libs/ta_MACD.o .libs/ta_MACDEXT.o .libs/ta_MACDFIX.o .libs/ta_MAMA.o .libs/ta_MAVP.o .libs/ta_MAX.o .libs/ta_MAXINDEX.o .libs/ta_MEDPRICE.o .libs/ta_MFI.o .libs/ta_MIDPOINT.o .libs/ta_MIDPRICE.o .libs/ta_MIN.o .libs/ta_MININDEX.o .libs/ta_MINMAX.o .libs/ta_MINMAXINDEX.o .libs/ta_MINUS_DI.o .libs/ta_MINUS_DM.o .libs/ta_MOM.o .libs/ta_MULT.o .libs/ta_NATR.o .libs/ta_OBV.o .libs/ta_PLUS_DI.o .libs/ta_PLUS_DM.o .libs/ta_PPO.o .libs/ta_ROC.o .libs/ta_ROCP.o .libs/ta_ROCR.o .libs/ta_ROCR100.o .libs/ta_RSI.o .libs/ta_SAR.o .libs/ta_SAREXT.o .libs/ta_SIN.o .libs/ta_SINH.o .libs/ta_SMA.o .libs/ta_SQRT.o .libs/ta_STDDEV.o .libs/ta_STOCH.o .libs/ta_STOCHF.o .libs/ta_STOCHRSI.o .libs/ta_SUB.o .libs/ta_SUM.o .libs/ta_T3.o .libs/ta_TAN.o .libs/ta_TANH.o .libs/ta_TEMA.o .libs/ta_TRANGE.o .libs/ta_TRIMA.o .libs/ta_TRIX.o .libs/ta_TSF.o .libs/ta_TYPPRICE.o .libs/ta_ULTOSC.o .libs/ta_VAR.o .libs/ta_WCLPRICE.o .libs/ta_WILLR.o .libs/ta_WMA.o\n",
            "ar: `u' modifier ignored since `D' is the default (see `U')\n",
            "ranlib .libs/libta_func.a\n",
            "creating libta_func.la\n",
            "(cd .libs && rm -f libta_func.la && ln -s ../libta_func.la libta_func.la)\n",
            "make[2]: Leaving directory '/content/ta-lib/src/ta_func'\n",
            "make[2]: Entering directory '/content/ta-lib/src'\n",
            "/bin/bash ../libtool --tag=CC   --mode=link gcc  -g -O2 -version-info 0:0:0  -o libta_lib.la -rpath /usr/lib  ta_abstract/libta_abstract.la ta_func/libta_func.la ta_common/libta_common.la -lpthread -ldl \n",
            "mkdir .libs\n",
            "gcc -shared  -Wl,--whole-archive ta_abstract/.libs/libta_abstract.a ta_func/.libs/libta_func.a ta_common/.libs/libta_common.a -Wl,--no-whole-archive  -lpthread -ldl  -Wl,-soname -Wl,libta_lib.so.0 -o .libs/libta_lib.so.0.0.0\n",
            "(cd .libs && rm -f libta_lib.so.0 && ln -s libta_lib.so.0.0.0 libta_lib.so.0)\n",
            "(cd .libs && rm -f libta_lib.so && ln -s libta_lib.so.0.0.0 libta_lib.so)\n",
            "rm -fr .libs/libta_lib.lax\n",
            "mkdir .libs/libta_lib.lax\n",
            "rm -fr .libs/libta_lib.lax/libta_abstract.a\n",
            "mkdir .libs/libta_lib.lax/libta_abstract.a\n",
            "(cd .libs/libta_lib.lax/libta_abstract.a && ar x /content/ta-lib/src/ta_abstract/.libs/libta_abstract.a)\n",
            "rm -fr .libs/libta_lib.lax/libta_func.a\n",
            "mkdir .libs/libta_lib.lax/libta_func.a\n",
            "(cd .libs/libta_lib.lax/libta_func.a && ar x /content/ta-lib/src/ta_func/.libs/libta_func.a)\n",
            "rm -fr .libs/libta_lib.lax/libta_common.a\n",
            "mkdir .libs/libta_lib.lax/libta_common.a\n",
            "(cd .libs/libta_lib.lax/libta_common.a && ar x /content/ta-lib/src/ta_common/.libs/libta_common.a)\n",
            "ar cru .libs/libta_lib.a   .libs/libta_lib.lax/libta_abstract.a/libta_abstract_la-table_j.o .libs/libta_lib.lax/libta_abstract.a/libta_abstract_la-table_d.o .libs/libta_lib.lax/libta_abstract.a/libta_abstract_la-table_v.o .libs/libta_lib.lax/libta_abstract.a/libta_abstract_la-table_r.o .libs/libta_lib.lax/libta_abstract.a/libta_abstract_la-ta_def_ui.o .libs/libta_lib.lax/libta_abstract.a/libta_abstract_la-table_w.o .libs/libta_lib.lax/libta_abstract.a/libta_abstract_la-table_l.o .libs/libta_lib.lax/libta_abstract.a/libta_abstract_la-table_y.o .libs/libta_lib.lax/libta_abstract.a/libta_abstract_la-table_h.o .libs/libta_lib.lax/libta_abstract.a/libta_abstract_la-table_a.o .libs/libta_lib.lax/libta_abstract.a/libta_abstract_la-table_m.o .libs/libta_lib.lax/libta_abstract.a/libta_abstract_la-table_x.o .libs/libta_lib.lax/libta_abstract.a/libta_abstract_la-ta_group_idx.o .libs/libta_lib.lax/libta_abstract.a/libta_abstract_la-table_e.o .libs/libta_lib.lax/libta_abstract.a/libta_abstract_la-ta_frame.o .libs/libta_lib.lax/libta_abstract.a/libta_abstract_la-table_t.o .libs/libta_lib.lax/libta_abstract.a/libta_abstract_la-table_f.o .libs/libta_lib.lax/libta_abstract.a/libta_abstract_la-table_g.o .libs/libta_lib.lax/libta_abstract.a/libta_abstract_la-table_b.o .libs/libta_lib.lax/libta_abstract.a/libta_abstract_la-table_s.o .libs/libta_lib.lax/libta_abstract.a/libta_abstract_la-table_k.o .libs/libta_lib.lax/libta_abstract.a/libta_abstract_la-ta_func_api.o .libs/libta_lib.lax/libta_abstract.a/libta_abstract_la-table_u.o .libs/libta_lib.lax/libta_abstract.a/libta_abstract_la-table_n.o .libs/libta_lib.lax/libta_abstract.a/libta_abstract_la-table_o.o .libs/libta_lib.lax/libta_abstract.a/libta_abstract_la-table_z.o .libs/libta_lib.lax/libta_abstract.a/libta_abstract_la-table_p.o .libs/libta_lib.lax/libta_abstract.a/libta_abstract_la-table_c.o .libs/libta_lib.lax/libta_abstract.a/libta_abstract_la-table_i.o .libs/libta_lib.lax/libta_abstract.a/libta_abstract_la-ta_abstract.o .libs/libta_lib.lax/libta_abstract.a/libta_abstract_la-table_q.o  .libs/libta_lib.lax/libta_func.a/ta_MININDEX.o .libs/libta_lib.lax/libta_func.a/ta_CDLSHORTLINE.o .libs/libta_lib.lax/libta_func.a/ta_LN.o .libs/libta_lib.lax/libta_func.a/ta_ROCR.o .libs/libta_lib.lax/libta_func.a/ta_CDL2CROWS.o .libs/libta_lib.lax/libta_func.a/ta_CDLRICKSHAWMAN.o .libs/libta_lib.lax/libta_func.a/ta_CMO.o .libs/libta_lib.lax/libta_func.a/ta_HT_PHASOR.o .libs/libta_lib.lax/libta_func.a/ta_TRIX.o .libs/libta_lib.lax/libta_func.a/ta_COSH.o .libs/libta_lib.lax/libta_func.a/ta_DIV.o .libs/libta_lib.lax/libta_func.a/ta_CDLMATCHINGLOW.o .libs/libta_lib.lax/libta_func.a/ta_CDLDARKCLOUDCOVER.o .libs/libta_lib.lax/libta_func.a/ta_TANH.o .libs/libta_lib.lax/libta_func.a/ta_ULTOSC.o .libs/libta_lib.lax/libta_func.a/ta_CDLHARAMI.o .libs/libta_lib.lax/libta_func.a/ta_CDLPIERCING.o .libs/libta_lib.lax/libta_func.a/ta_CDL3WHITESOLDIERS.o .libs/libta_lib.lax/libta_func.a/ta_CDLHOMINGPIGEON.o .libs/libta_lib.lax/libta_func.a/ta_CDLABANDONEDBABY.o .libs/libta_lib.lax/libta_func.a/ta_CDLDOJI.o .libs/libta_lib.lax/libta_func.a/ta_CDLSPINNINGTOP.o .libs/libta_lib.lax/libta_func.a/ta_CDLUNIQUE3RIVER.o .libs/libta_lib.lax/libta_func.a/ta_CDLHANGINGMAN.o .libs/libta_lib.lax/libta_func.a/ta_CDLLADDERBOTTOM.o .libs/libta_lib.lax/libta_func.a/ta_PPO.o .libs/libta_lib.lax/libta_func.a/ta_STOCHRSI.o .libs/libta_lib.lax/libta_func.a/ta_HT_DCPHASE.o .libs/libta_lib.lax/libta_func.a/ta_CDLKICKINGBYLENGTH.o .libs/libta_lib.lax/libta_func.a/ta_CDLDOJISTAR.o .libs/libta_lib.lax/libta_func.a/ta_CDLMORNINGDOJISTAR.o .libs/libta_lib.lax/libta_func.a/ta_EXP.o .libs/libta_lib.lax/libta_func.a/ta_STOCHF.o .libs/libta_lib.lax/libta_func.a/ta_CDLINVERTEDHAMMER.o .libs/libta_lib.lax/libta_func.a/ta_MIN.o .libs/libta_lib.lax/libta_func.a/ta_KAMA.o .libs/libta_lib.lax/libta_func.a/ta_MACDFIX.o .libs/libta_lib.lax/libta_func.a/ta_CDLDRAGONFLYDOJI.o .libs/libta_lib.lax/libta_func.a/ta_MACD.o .libs/libta_lib.lax/libta_func.a/ta_MOM.o .libs/libta_lib.lax/libta_func.a/ta_STOCH.o .libs/libta_lib.lax/libta_func.a/ta_HT_TRENDLINE.o .libs/libta_lib.lax/libta_func.a/ta_MINMAXINDEX.o .libs/libta_lib.lax/libta_func.a/ta_WILLR.o .libs/libta_lib.lax/libta_func.a/ta_MFI.o .libs/libta_lib.lax/libta_func.a/ta_CDLMATHOLD.o .libs/libta_lib.lax/libta_func.a/ta_ADOSC.o .libs/libta_lib.lax/libta_func.a/ta_DX.o .libs/libta_lib.lax/libta_func.a/ta_ROCR100.o .libs/libta_lib.lax/libta_func.a/ta_VAR.o .libs/libta_lib.lax/libta_func.a/ta_SQRT.o .libs/libta_lib.lax/libta_func.a/ta_CDLEVENINGSTAR.o .libs/libta_lib.lax/libta_func.a/ta_LOG10.o .libs/libta_lib.lax/libta_func.a/ta_BOP.o .libs/libta_lib.lax/libta_func.a/ta_CDLXSIDEGAP3METHODS.o .libs/libta_lib.lax/libta_func.a/ta_MAXINDEX.o .libs/libta_lib.lax/libta_func.a/ta_CORREL.o .libs/libta_lib.lax/libta_func.a/ta_AROONOSC.o .libs/libta_lib.lax/libta_func.a/ta_CDLHIKKAKEMOD.o .libs/libta_lib.lax/libta_func.a/ta_SIN.o .libs/libta_lib.lax/libta_func.a/ta_MEDPRICE.o .libs/libta_lib.lax/libta_func.a/ta_HT_TRENDMODE.o .libs/libta_lib.lax/libta_func.a/ta_CDLEVENINGDOJISTAR.o .libs/libta_lib.lax/libta_func.a/ta_CDLCONCEALBABYSWALL.o .libs/libta_lib.lax/libta_func.a/ta_WCLPRICE.o .libs/libta_lib.lax/libta_func.a/ta_STDDEV.o .libs/libta_lib.lax/libta_func.a/ta_CDLRISEFALL3METHODS.o .libs/libta_lib.lax/libta_func.a/ta_AVGPRICE.o .libs/libta_lib.lax/libta_func.a/ta_CDLCOUNTERATTACK.o .libs/libta_lib.lax/libta_func.a/ta_PLUS_DI.o .libs/libta_lib.lax/libta_func.a/ta_OBV.o .libs/libta_lib.lax/libta_func.a/ta_CDLTAKURI.o .libs/libta_lib.lax/libta_func.a/ta_MAX.o .libs/libta_lib.lax/libta_func.a/ta_CDLTHRUSTING.o .libs/libta_lib.lax/libta_func.a/ta_CDLTASUKIGAP.o .libs/libta_lib.lax/libta_func.a/ta_SINH.o .libs/libta_lib.lax/libta_func.a/ta_MULT.o .libs/libta_lib.lax/libta_func.a/ta_CDLLONGLINE.o .libs/libta_lib.lax/libta_func.a/ta_SMA.o .libs/libta_lib.lax/libta_func.a/ta_TSF.o .libs/libta_lib.lax/libta_func.a/ta_CDLLONGLEGGEDDOJI.o .libs/libta_lib.lax/libta_func.a/ta_ACOS.o .libs/libta_lib.lax/libta_func.a/ta_CDLCLOSINGMARUBOZU.o .libs/libta_lib.lax/libta_func.a/ta_CDLGAPSIDESIDEWHITE.o .libs/libta_lib.lax/libta_func.a/ta_CDLHIGHWAVE.o .libs/libta_lib.lax/libta_func.a/ta_BBANDS.o .libs/libta_lib.lax/libta_func.a/ta_CDLSTALLEDPATTERN.o .libs/libta_lib.lax/libta_func.a/ta_MIDPOINT.o .libs/libta_lib.lax/libta_func.a/ta_TYPPRICE.o .libs/libta_lib.lax/libta_func.a/ta_MIDPRICE.o .libs/libta_lib.lax/libta_func.a/ta_CDLADVANCEBLOCK.o .libs/libta_lib.lax/libta_func.a/ta_ADD.o .libs/libta_lib.lax/libta_func.a/ta_CDLSHOOTINGSTAR.o .libs/libta_lib.lax/libta_func.a/ta_WMA.o .libs/libta_lib.lax/libta_func.a/ta_CDLSEPARATINGLINES.o .libs/libta_lib.lax/libta_func.a/ta_CDLBELTHOLD.o .libs/libta_lib.lax/libta_func.a/ta_ADX.o .libs/libta_lib.lax/libta_func.a/ta_LINEARREG.o .libs/libta_lib.lax/libta_func.a/ta_TAN.o .libs/libta_lib.lax/libta_func.a/ta_BETA.o .libs/libta_lib.lax/libta_func.a/ta_CDLMARUBOZU.o .libs/libta_lib.lax/libta_func.a/ta_CDLHARAMICROSS.o .libs/libta_lib.lax/libta_func.a/ta_CDL3OUTSIDE.o .libs/libta_lib.lax/libta_func.a/ta_CDLIDENTICAL3CROWS.o .libs/libta_lib.lax/libta_func.a/ta_DEMA.o .libs/libta_lib.lax/libta_func.a/ta_CEIL.o .libs/libta_lib.lax/libta_func.a/ta_CDLBREAKAWAY.o .libs/libta_lib.lax/libta_func.a/ta_COS.o .libs/libta_lib.lax/libta_func.a/ta_EMA.o .libs/libta_lib.lax/libta_func.a/ta_ATAN.o .libs/libta_lib.lax/libta_func.a/ta_LINEARREG_ANGLE.o .libs/libta_lib.lax/libta_func.a/ta_CDLENGULFING.o .libs/libta_lib.lax/libta_func.a/ta_ASIN.o .libs/libta_lib.lax/libta_func.a/ta_MINMAX.o .libs/libta_lib.lax/libta_func.a/ta_SAR.o .libs/libta_lib.lax/libta_func.a/ta_MAVP.o .libs/libta_lib.lax/libta_func.a/ta_MACDEXT.o .libs/libta_lib.lax/libta_func.a/ta_T3.o .libs/libta_lib.lax/libta_func.a/ta_CCI.o .libs/libta_lib.lax/libta_func.a/ta_RSI.o .libs/libta_lib.lax/libta_func.a/ta_AROON.o .libs/libta_lib.lax/libta_func.a/ta_FLOOR.o .libs/libta_lib.lax/libta_func.a/ta_SUB.o .libs/libta_lib.lax/libta_func.a/ta_CDL3INSIDE.o .libs/libta_lib.lax/libta_func.a/ta_CDL3BLACKCROWS.o .libs/libta_lib.lax/libta_func.a/ta_CDLINNECK.o .libs/libta_lib.lax/libta_func.a/ta_CDLHAMMER.o .libs/libta_lib.lax/libta_func.a/ta_ROCP.o .libs/libta_lib.lax/libta_func.a/ta_SUM.o .libs/libta_lib.lax/libta_func.a/ta_LINEARREG_INTERCEPT.o .libs/libta_lib.lax/libta_func.a/ta_CDL3STARSINSOUTH.o .libs/libta_lib.lax/libta_func.a/ta_TRIMA.o .libs/libta_lib.lax/libta_func.a/ta_CDLGRAVESTONEDOJI.o .libs/libta_lib.lax/libta_func.a/ta_CDLMORNINGSTAR.o .libs/libta_lib.lax/libta_func.a/ta_HT_SINE.o .libs/libta_lib.lax/libta_func.a/ta_CDLKICKING.o .libs/libta_lib.lax/libta_func.a/ta_HT_DCPERIOD.o .libs/libta_lib.lax/libta_func.a/ta_LINEARREG_SLOPE.o .libs/libta_lib.lax/libta_func.a/ta_CDL3LINESTRIKE.o .libs/libta_lib.lax/libta_func.a/ta_MINUS_DM.o .libs/libta_lib.lax/libta_func.a/ta_SAREXT.o .libs/libta_lib.lax/libta_func.a/ta_CDLHIKKAKE.o .libs/libta_lib.lax/libta_func.a/ta_ADXR.o .libs/libta_lib.lax/libta_func.a/ta_ROC.o .libs/libta_lib.lax/libta_func.a/ta_CDLUPSIDEGAP2CROWS.o .libs/libta_lib.lax/libta_func.a/ta_MINUS_DI.o .libs/libta_lib.lax/libta_func.a/ta_NATR.o .libs/libta_lib.lax/libta_func.a/ta_ATR.o .libs/libta_lib.lax/libta_func.a/ta_utility.o .libs/libta_lib.lax/libta_func.a/ta_APO.o .libs/libta_lib.lax/libta_func.a/ta_AD.o .libs/libta_lib.lax/libta_func.a/ta_TRANGE.o .libs/libta_lib.lax/libta_func.a/ta_PLUS_DM.o .libs/libta_lib.lax/libta_func.a/ta_TEMA.o .libs/libta_lib.lax/libta_func.a/ta_MA.o .libs/libta_lib.lax/libta_func.a/ta_CDLONNECK.o .libs/libta_lib.lax/libta_func.a/ta_CDLTRISTAR.o .libs/libta_lib.lax/libta_func.a/ta_CDLSTICKSANDWICH.o .libs/libta_lib.lax/libta_func.a/ta_MAMA.o  .libs/libta_lib.lax/libta_common.a/ta_version.o .libs/libta_lib.lax/libta_common.a/ta_retcode.o .libs/libta_lib.lax/libta_common.a/ta_global.o \n",
            "ar: `u' modifier ignored since `D' is the default (see `U')\n",
            "ranlib .libs/libta_lib.a\n",
            "rm -fr .libs/libta_lib.lax\n",
            "creating libta_lib.la\n",
            "(cd .libs && rm -f libta_lib.la && ln -s ../libta_lib.la libta_lib.la)\n",
            "make[2]: Leaving directory '/content/ta-lib/src'\n",
            "make[1]: Leaving directory '/content/ta-lib/src'\n",
            "Making all in src/tools\n",
            "make[1]: Entering directory '/content/ta-lib/src/tools'\n",
            "Making all in gen_code\n",
            "make[2]: Entering directory '/content/ta-lib/src/tools/gen_code'\n",
            "gcc -DHAVE_CONFIG_H -I. -I../../../include  -I../../ta_common   -g -O2 -MT gen_code-gen_code.o -MD -MP -MF .deps/gen_code-gen_code.Tpo -c -o gen_code-gen_code.o `test -f 'gen_code.c' || echo './'`gen_code.c\n",
            "\u001b[01m\u001b[Kgen_code.c:\u001b[m\u001b[K In function ‘\u001b[01m\u001b[KprintFuncHeaderDoc\u001b[m\u001b[K’:\n",
            "\u001b[01m\u001b[Kgen_code.c:3456:4:\u001b[m\u001b[K \u001b[01;35m\u001b[Kwarning: \u001b[m\u001b[Kformat not a string literal and no format arguments [\u001b[01;35m\u001b[K\u001b]8;;https://gcc.gnu.org/onlinedocs/gcc/Warning-Options.html#index-Wformat-security\u0007-Wformat-security\u001b]8;;\u0007\u001b[m\u001b[K]\n",
            " 3456 |    \u001b[01;35m\u001b[Kfprintf\u001b[m\u001b[K( out, prefix );\n",
            "      |    \u001b[01;35m\u001b[K^~~~~~~\u001b[m\u001b[K\n",
            "mv -f .deps/gen_code-gen_code.Tpo .deps/gen_code-gen_code.Po\n",
            "/bin/bash ../../../libtool --tag=CC   --mode=link gcc  -g -O2 -L../../ta_common -L../../ta_abstract -L../../ta_func  -o gen_code gen_code-gen_code.o -lta_common -lta_abstract_gc -lta_func -lm -lpthread -ldl \n",
            "mkdir .libs\n",
            "gcc -g -O2 -o gen_code gen_code-gen_code.o  -L/content/ta-lib/src/ta_common -L/content/ta-lib/src/ta_abstract -L/content/ta-lib/src/ta_func /content/ta-lib/src/ta_common/.libs/libta_common.a /content/ta-lib/src/ta_abstract/.libs/libta_abstract_gc.a /content/ta-lib/src/ta_func/.libs/libta_func.a -lm -lpthread -ldl\n",
            "make  gen_code\n",
            "make[3]: Entering directory '/content/ta-lib/src/tools/gen_code'\n",
            "make[3]: 'gen_code' is up to date.\n",
            "make[3]: Leaving directory '/content/ta-lib/src/tools/gen_code'\n",
            "cp gen_code ../../../bin\n",
            "make[2]: Leaving directory '/content/ta-lib/src/tools/gen_code'\n",
            "Making all in ta_regtest\n",
            "make[2]: Entering directory '/content/ta-lib/src/tools/ta_regtest'\n",
            "gcc -DHAVE_CONFIG_H -I. -I../../../include  -I../../ta_func -I../../ta_common/trio -I../../ta_common/mt -I../../ta_common -I../../ta_abstract   -g -O2 -MT ta_regtest-ta_regtest.o -MD -MP -MF .deps/ta_regtest-ta_regtest.Tpo -c -o ta_regtest-ta_regtest.o `test -f 'ta_regtest.c' || echo './'`ta_regtest.c\n",
            "mv -f .deps/ta_regtest-ta_regtest.Tpo .deps/ta_regtest-ta_regtest.Po\n",
            "gcc -DHAVE_CONFIG_H -I. -I../../../include  -I../../ta_func -I../../ta_common/trio -I../../ta_common/mt -I../../ta_common -I../../ta_abstract   -g -O2 -MT ta_regtest-test_data.o -MD -MP -MF .deps/ta_regtest-test_data.Tpo -c -o ta_regtest-test_data.o `test -f 'test_data.c' || echo './'`test_data.c\n",
            "mv -f .deps/ta_regtest-test_data.Tpo .deps/ta_regtest-test_data.Po\n",
            "gcc -DHAVE_CONFIG_H -I. -I../../../include  -I../../ta_func -I../../ta_common/trio -I../../ta_common/mt -I../../ta_common -I../../ta_abstract   -g -O2 -MT ta_regtest-test_util.o -MD -MP -MF .deps/ta_regtest-test_util.Tpo -c -o ta_regtest-test_util.o `test -f 'test_util.c' || echo './'`test_util.c\n",
            "mv -f .deps/ta_regtest-test_util.Tpo .deps/ta_regtest-test_util.Po\n",
            "gcc -DHAVE_CONFIG_H -I. -I../../../include  -I../../ta_func -I../../ta_common/trio -I../../ta_common/mt -I../../ta_common -I../../ta_abstract   -g -O2 -MT ta_regtest-test_abstract.o -MD -MP -MF .deps/ta_regtest-test_abstract.Tpo -c -o ta_regtest-test_abstract.o `test -f 'test_abstract.c' || echo './'`test_abstract.c\n",
            "mv -f .deps/ta_regtest-test_abstract.Tpo .deps/ta_regtest-test_abstract.Po\n",
            "gcc -DHAVE_CONFIG_H -I. -I../../../include  -I../../ta_func -I../../ta_common/trio -I../../ta_common/mt -I../../ta_common -I../../ta_abstract   -g -O2 -MT ta_regtest-test_adx.o -MD -MP -MF .deps/ta_regtest-test_adx.Tpo -c -o ta_regtest-test_adx.o `test -f 'ta_test_func/test_adx.c' || echo './'`ta_test_func/test_adx.c\n",
            "mv -f .deps/ta_regtest-test_adx.Tpo .deps/ta_regtest-test_adx.Po\n",
            "gcc -DHAVE_CONFIG_H -I. -I../../../include  -I../../ta_func -I../../ta_common/trio -I../../ta_common/mt -I../../ta_common -I../../ta_abstract   -g -O2 -MT ta_regtest-test_mom.o -MD -MP -MF .deps/ta_regtest-test_mom.Tpo -c -o ta_regtest-test_mom.o `test -f 'ta_test_func/test_mom.c' || echo './'`ta_test_func/test_mom.c\n",
            "mv -f .deps/ta_regtest-test_mom.Tpo .deps/ta_regtest-test_mom.Po\n",
            "gcc -DHAVE_CONFIG_H -I. -I../../../include  -I../../ta_func -I../../ta_common/trio -I../../ta_common/mt -I../../ta_common -I../../ta_abstract   -g -O2 -MT ta_regtest-test_sar.o -MD -MP -MF .deps/ta_regtest-test_sar.Tpo -c -o ta_regtest-test_sar.o `test -f 'ta_test_func/test_sar.c' || echo './'`ta_test_func/test_sar.c\n",
            "mv -f .deps/ta_regtest-test_sar.Tpo .deps/ta_regtest-test_sar.Po\n",
            "gcc -DHAVE_CONFIG_H -I. -I../../../include  -I../../ta_func -I../../ta_common/trio -I../../ta_common/mt -I../../ta_common -I../../ta_abstract   -g -O2 -MT ta_regtest-test_rsi.o -MD -MP -MF .deps/ta_regtest-test_rsi.Tpo -c -o ta_regtest-test_rsi.o `test -f 'ta_test_func/test_rsi.c' || echo './'`ta_test_func/test_rsi.c\n",
            "mv -f .deps/ta_regtest-test_rsi.Tpo .deps/ta_regtest-test_rsi.Po\n",
            "gcc -DHAVE_CONFIG_H -I. -I../../../include  -I../../ta_func -I../../ta_common/trio -I../../ta_common/mt -I../../ta_common -I../../ta_abstract   -g -O2 -MT ta_regtest-test_candlestick.o -MD -MP -MF .deps/ta_regtest-test_candlestick.Tpo -c -o ta_regtest-test_candlestick.o `test -f 'ta_test_func/test_candlestick.c' || echo './'`ta_test_func/test_candlestick.c\n",
            "mv -f .deps/ta_regtest-test_candlestick.Tpo .deps/ta_regtest-test_candlestick.Po\n",
            "gcc -DHAVE_CONFIG_H -I. -I../../../include  -I../../ta_func -I../../ta_common/trio -I../../ta_common/mt -I../../ta_common -I../../ta_abstract   -g -O2 -MT ta_regtest-test_per_ema.o -MD -MP -MF .deps/ta_regtest-test_per_ema.Tpo -c -o ta_regtest-test_per_ema.o `test -f 'ta_test_func/test_per_ema.c' || echo './'`ta_test_func/test_per_ema.c\n",
            "mv -f .deps/ta_regtest-test_per_ema.Tpo .deps/ta_regtest-test_per_ema.Po\n",
            "gcc -DHAVE_CONFIG_H -I. -I../../../include  -I../../ta_func -I../../ta_common/trio -I../../ta_common/mt -I../../ta_common -I../../ta_abstract   -g -O2 -MT ta_regtest-test_per_hlc.o -MD -MP -MF .deps/ta_regtest-test_per_hlc.Tpo -c -o ta_regtest-test_per_hlc.o `test -f 'ta_test_func/test_per_hlc.c' || echo './'`ta_test_func/test_per_hlc.c\n",
            "mv -f .deps/ta_regtest-test_per_hlc.Tpo .deps/ta_regtest-test_per_hlc.Po\n",
            "gcc -DHAVE_CONFIG_H -I. -I../../../include  -I../../ta_func -I../../ta_common/trio -I../../ta_common/mt -I../../ta_common -I../../ta_abstract   -g -O2 -MT ta_regtest-test_stoch.o -MD -MP -MF .deps/ta_regtest-test_stoch.Tpo -c -o ta_regtest-test_stoch.o `test -f 'ta_test_func/test_stoch.c' || echo './'`ta_test_func/test_stoch.c\n",
            "mv -f .deps/ta_regtest-test_stoch.Tpo .deps/ta_regtest-test_stoch.Po\n",
            "gcc -DHAVE_CONFIG_H -I. -I../../../include  -I../../ta_func -I../../ta_common/trio -I../../ta_common/mt -I../../ta_common -I../../ta_abstract   -g -O2 -MT ta_regtest-test_macd.o -MD -MP -MF .deps/ta_regtest-test_macd.Tpo -c -o ta_regtest-test_macd.o `test -f 'ta_test_func/test_macd.c' || echo './'`ta_test_func/test_macd.c\n",
            "mv -f .deps/ta_regtest-test_macd.Tpo .deps/ta_regtest-test_macd.Po\n",
            "gcc -DHAVE_CONFIG_H -I. -I../../../include  -I../../ta_func -I../../ta_common/trio -I../../ta_common/mt -I../../ta_common -I../../ta_abstract   -g -O2 -MT ta_regtest-test_minmax.o -MD -MP -MF .deps/ta_regtest-test_minmax.Tpo -c -o ta_regtest-test_minmax.o `test -f 'ta_test_func/test_minmax.c' || echo './'`ta_test_func/test_minmax.c\n",
            "mv -f .deps/ta_regtest-test_minmax.Tpo .deps/ta_regtest-test_minmax.Po\n",
            "gcc -DHAVE_CONFIG_H -I. -I../../../include  -I../../ta_func -I../../ta_common/trio -I../../ta_common/mt -I../../ta_common -I../../ta_abstract   -g -O2 -MT ta_regtest-test_per_hlcv.o -MD -MP -MF .deps/ta_regtest-test_per_hlcv.Tpo -c -o ta_regtest-test_per_hlcv.o `test -f 'ta_test_func/test_per_hlcv.c' || echo './'`ta_test_func/test_per_hlcv.c\n",
            "mv -f .deps/ta_regtest-test_per_hlcv.Tpo .deps/ta_regtest-test_per_hlcv.Po\n",
            "gcc -DHAVE_CONFIG_H -I. -I../../../include  -I../../ta_func -I../../ta_common/trio -I../../ta_common/mt -I../../ta_common -I../../ta_abstract   -g -O2 -MT ta_regtest-test_1in_1out.o -MD -MP -MF .deps/ta_regtest-test_1in_1out.Tpo -c -o ta_regtest-test_1in_1out.o `test -f 'ta_test_func/test_1in_1out.c' || echo './'`ta_test_func/test_1in_1out.c\n",
            "mv -f .deps/ta_regtest-test_1in_1out.Tpo .deps/ta_regtest-test_1in_1out.Po\n",
            "gcc -DHAVE_CONFIG_H -I. -I../../../include  -I../../ta_func -I../../ta_common/trio -I../../ta_common/mt -I../../ta_common -I../../ta_abstract   -g -O2 -MT ta_regtest-test_1in_2out.o -MD -MP -MF .deps/ta_regtest-test_1in_2out.Tpo -c -o ta_regtest-test_1in_2out.o `test -f 'ta_test_func/test_1in_2out.c' || echo './'`ta_test_func/test_1in_2out.c\n",
            "mv -f .deps/ta_regtest-test_1in_2out.Tpo .deps/ta_regtest-test_1in_2out.Po\n",
            "gcc -DHAVE_CONFIG_H -I. -I../../../include  -I../../ta_func -I../../ta_common/trio -I../../ta_common/mt -I../../ta_common -I../../ta_abstract   -g -O2 -MT ta_regtest-test_per_ohlc.o -MD -MP -MF .deps/ta_regtest-test_per_ohlc.Tpo -c -o ta_regtest-test_per_ohlc.o `test -f 'ta_test_func/test_per_ohlc.c' || echo './'`ta_test_func/test_per_ohlc.c\n",
            "mv -f .deps/ta_regtest-test_per_ohlc.Tpo .deps/ta_regtest-test_per_ohlc.Po\n",
            "gcc -DHAVE_CONFIG_H -I. -I../../../include  -I../../ta_func -I../../ta_common/trio -I../../ta_common/mt -I../../ta_common -I../../ta_abstract   -g -O2 -MT ta_regtest-test_stddev.o -MD -MP -MF .deps/ta_regtest-test_stddev.Tpo -c -o ta_regtest-test_stddev.o `test -f 'ta_test_func/test_stddev.c' || echo './'`ta_test_func/test_stddev.c\n",
            "mv -f .deps/ta_regtest-test_stddev.Tpo .deps/ta_regtest-test_stddev.Po\n",
            "gcc -DHAVE_CONFIG_H -I. -I../../../include  -I../../ta_func -I../../ta_common/trio -I../../ta_common/mt -I../../ta_common -I../../ta_abstract   -g -O2 -MT ta_regtest-test_bbands.o -MD -MP -MF .deps/ta_regtest-test_bbands.Tpo -c -o ta_regtest-test_bbands.o `test -f 'ta_test_func/test_bbands.c' || echo './'`ta_test_func/test_bbands.c\n",
            "mv -f .deps/ta_regtest-test_bbands.Tpo .deps/ta_regtest-test_bbands.Po\n",
            "gcc -DHAVE_CONFIG_H -I. -I../../../include  -I../../ta_func -I../../ta_common/trio -I../../ta_common/mt -I../../ta_common -I../../ta_abstract   -g -O2 -MT ta_regtest-test_ma.o -MD -MP -MF .deps/ta_regtest-test_ma.Tpo -c -o ta_regtest-test_ma.o `test -f 'ta_test_func/test_ma.c' || echo './'`ta_test_func/test_ma.c\n",
            "mv -f .deps/ta_regtest-test_ma.Tpo .deps/ta_regtest-test_ma.Po\n",
            "gcc -DHAVE_CONFIG_H -I. -I../../../include  -I../../ta_func -I../../ta_common/trio -I../../ta_common/mt -I../../ta_common -I../../ta_abstract   -g -O2 -MT ta_regtest-test_po.o -MD -MP -MF .deps/ta_regtest-test_po.Tpo -c -o ta_regtest-test_po.o `test -f 'ta_test_func/test_po.c' || echo './'`ta_test_func/test_po.c\n",
            "mv -f .deps/ta_regtest-test_po.Tpo .deps/ta_regtest-test_po.Po\n",
            "gcc -DHAVE_CONFIG_H -I. -I../../../include  -I../../ta_func -I../../ta_common/trio -I../../ta_common/mt -I../../ta_common -I../../ta_abstract   -g -O2 -MT ta_regtest-test_per_hl.o -MD -MP -MF .deps/ta_regtest-test_per_hl.Tpo -c -o ta_regtest-test_per_hl.o `test -f 'ta_test_func/test_per_hl.c' || echo './'`ta_test_func/test_per_hl.c\n",
            "mv -f .deps/ta_regtest-test_per_hl.Tpo .deps/ta_regtest-test_per_hl.Po\n",
            "gcc -DHAVE_CONFIG_H -I. -I../../../include  -I../../ta_func -I../../ta_common/trio -I../../ta_common/mt -I../../ta_common -I../../ta_abstract   -g -O2 -MT ta_regtest-test_trange.o -MD -MP -MF .deps/ta_regtest-test_trange.Tpo -c -o ta_regtest-test_trange.o `test -f 'ta_test_func/test_trange.c' || echo './'`ta_test_func/test_trange.c\n",
            "mv -f .deps/ta_regtest-test_trange.Tpo .deps/ta_regtest-test_trange.Po\n",
            "gcc -DHAVE_CONFIG_H -I. -I../../../include  -I../../ta_func -I../../ta_common/trio -I../../ta_common/mt -I../../ta_common -I../../ta_abstract   -g -O2 -MT ta_regtest-test_internals.o -MD -MP -MF .deps/ta_regtest-test_internals.Tpo -c -o ta_regtest-test_internals.o `test -f 'test_internals.c' || echo './'`test_internals.c\n",
            "mv -f .deps/ta_regtest-test_internals.Tpo .deps/ta_regtest-test_internals.Po\n",
            "/bin/bash ../../../libtool --tag=CC   --mode=link gcc  -g -O2 -L../.. -lta_lib -lm  -o ta_regtest ta_regtest-ta_regtest.o ta_regtest-test_data.o ta_regtest-test_util.o ta_regtest-test_abstract.o ta_regtest-test_adx.o ta_regtest-test_mom.o ta_regtest-test_sar.o ta_regtest-test_rsi.o ta_regtest-test_candlestick.o ta_regtest-test_per_ema.o ta_regtest-test_per_hlc.o ta_regtest-test_stoch.o ta_regtest-test_macd.o ta_regtest-test_minmax.o ta_regtest-test_per_hlcv.o ta_regtest-test_1in_1out.o ta_regtest-test_1in_2out.o ta_regtest-test_per_ohlc.o ta_regtest-test_stddev.o ta_regtest-test_bbands.o ta_regtest-test_ma.o ta_regtest-test_po.o ta_regtest-test_per_hl.o ta_regtest-test_trange.o ta_regtest-test_internals.o  -lpthread -ldl \n",
            "mkdir .libs\n",
            "gcc -g -O2 -o .libs/ta_regtest ta_regtest-ta_regtest.o ta_regtest-test_data.o ta_regtest-test_util.o ta_regtest-test_abstract.o ta_regtest-test_adx.o ta_regtest-test_mom.o ta_regtest-test_sar.o ta_regtest-test_rsi.o ta_regtest-test_candlestick.o ta_regtest-test_per_ema.o ta_regtest-test_per_hlc.o ta_regtest-test_stoch.o ta_regtest-test_macd.o ta_regtest-test_minmax.o ta_regtest-test_per_hlcv.o ta_regtest-test_1in_1out.o ta_regtest-test_1in_2out.o ta_regtest-test_per_ohlc.o ta_regtest-test_stddev.o ta_regtest-test_bbands.o ta_regtest-test_ma.o ta_regtest-test_po.o ta_regtest-test_per_hl.o ta_regtest-test_trange.o ta_regtest-test_internals.o  -L/content/ta-lib/src /content/ta-lib/src/.libs/libta_lib.so -lm -lpthread -ldl\n",
            "creating ta_regtest\n",
            "make[2]: Leaving directory '/content/ta-lib/src/tools/ta_regtest'\n",
            "make[2]: Entering directory '/content/ta-lib/src/tools'\n",
            "make[2]: Nothing to be done for 'all-am'.\n",
            "make[2]: Leaving directory '/content/ta-lib/src/tools'\n",
            "make[1]: Leaving directory '/content/ta-lib/src/tools'\n",
            "make[1]: Entering directory '/content/ta-lib'\n",
            "make[1]: Nothing to be done for 'all-am'.\n",
            "make[1]: Leaving directory '/content/ta-lib'\n",
            "Making install in src\n",
            "make[1]: Entering directory '/content/ta-lib/src'\n",
            "Making install in ta_abstract\n",
            "make[2]: Entering directory '/content/ta-lib/src/ta_abstract'\n",
            "make[3]: Entering directory '/content/ta-lib/src/ta_abstract'\n",
            "make[3]: Nothing to be done for 'install-exec-am'.\n",
            "test -z \"/usr/include/ta-lib/\" || /usr/bin/mkdir -p \"/usr/include/ta-lib/\"\n",
            " /usr/bin/install -c -m 644 '../../include/ta_defs.h' '/usr/include/ta-lib//ta_defs.h'\n",
            " /usr/bin/install -c -m 644 '../../include/ta_libc.h' '/usr/include/ta-lib//ta_libc.h'\n",
            " /usr/bin/install -c -m 644 '../../include/ta_abstract.h' '/usr/include/ta-lib//ta_abstract.h'\n",
            "make[3]: Leaving directory '/content/ta-lib/src/ta_abstract'\n",
            "make[2]: Leaving directory '/content/ta-lib/src/ta_abstract'\n",
            "Making install in ta_common\n",
            "make[2]: Entering directory '/content/ta-lib/src/ta_common'\n",
            "make[3]: Entering directory '/content/ta-lib/src/ta_common'\n",
            "make[3]: Nothing to be done for 'install-exec-am'.\n",
            "test -z \"/usr/include/ta-lib/\" || /usr/bin/mkdir -p \"/usr/include/ta-lib/\"\n",
            " /usr/bin/install -c -m 644 '../../include/ta_defs.h' '/usr/include/ta-lib//ta_defs.h'\n",
            " /usr/bin/install -c -m 644 '../../include/ta_libc.h' '/usr/include/ta-lib//ta_libc.h'\n",
            " /usr/bin/install -c -m 644 '../../include/ta_common.h' '/usr/include/ta-lib//ta_common.h'\n",
            "make[3]: Leaving directory '/content/ta-lib/src/ta_common'\n",
            "make[2]: Leaving directory '/content/ta-lib/src/ta_common'\n",
            "Making install in ta_func\n",
            "make[2]: Entering directory '/content/ta-lib/src/ta_func'\n",
            "make[3]: Entering directory '/content/ta-lib/src/ta_func'\n",
            "make[3]: Nothing to be done for 'install-exec-am'.\n",
            "test -z \"/usr/include/ta-lib/\" || /usr/bin/mkdir -p \"/usr/include/ta-lib/\"\n",
            " /usr/bin/install -c -m 644 '../../include/ta_defs.h' '/usr/include/ta-lib//ta_defs.h'\n",
            " /usr/bin/install -c -m 644 '../../include/ta_libc.h' '/usr/include/ta-lib//ta_libc.h'\n",
            " /usr/bin/install -c -m 644 '../../include/ta_func.h' '/usr/include/ta-lib//ta_func.h'\n",
            "make[3]: Leaving directory '/content/ta-lib/src/ta_func'\n",
            "make[2]: Leaving directory '/content/ta-lib/src/ta_func'\n",
            "make[2]: Entering directory '/content/ta-lib/src'\n",
            "make[3]: Entering directory '/content/ta-lib/src'\n",
            "test -z \"/usr/lib\" || /usr/bin/mkdir -p \"/usr/lib\"\n",
            " /bin/bash ../libtool --mode=install /usr/bin/install -c  'libta_lib.la' '/usr/lib/libta_lib.la'\n",
            "/usr/bin/install -c .libs/libta_lib.so.0.0.0 /usr/lib/libta_lib.so.0.0.0\n",
            "(cd /usr/lib && { ln -s -f libta_lib.so.0.0.0 libta_lib.so.0 || { rm -f libta_lib.so.0 && ln -s libta_lib.so.0.0.0 libta_lib.so.0; }; })\n",
            "(cd /usr/lib && { ln -s -f libta_lib.so.0.0.0 libta_lib.so || { rm -f libta_lib.so && ln -s libta_lib.so.0.0.0 libta_lib.so; }; })\n",
            "/usr/bin/install -c .libs/libta_lib.lai /usr/lib/libta_lib.la\n",
            "/usr/bin/install -c .libs/libta_lib.a /usr/lib/libta_lib.a\n",
            "chmod 644 /usr/lib/libta_lib.a\n",
            "ranlib /usr/lib/libta_lib.a\n",
            "PATH=\"$PATH:/sbin\" ldconfig -n /usr/lib\n",
            "----------------------------------------------------------------------\n",
            "Libraries have been installed in:\n",
            "   /usr/lib\n",
            "\n",
            "If you ever happen to want to link against installed libraries\n",
            "in a given directory, LIBDIR, you must either use libtool, and\n",
            "specify the full pathname of the library, or use the `-LLIBDIR'\n",
            "flag during linking and do at least one of the following:\n",
            "   - add LIBDIR to the `LD_LIBRARY_PATH' environment variable\n",
            "     during execution\n",
            "   - add LIBDIR to the `LD_RUN_PATH' environment variable\n",
            "     during linking\n",
            "   - use the `-Wl,--rpath -Wl,LIBDIR' linker flag\n",
            "   - have your system administrator add LIBDIR to `/etc/ld.so.conf'\n",
            "\n",
            "See any operating system documentation about shared libraries for\n",
            "more information, such as the ld(1) and ld.so(8) manual pages.\n",
            "----------------------------------------------------------------------\n",
            "make[3]: Nothing to be done for 'install-data-am'.\n",
            "make[3]: Leaving directory '/content/ta-lib/src'\n",
            "make[2]: Leaving directory '/content/ta-lib/src'\n",
            "make[1]: Leaving directory '/content/ta-lib/src'\n",
            "Making install in src/tools\n",
            "make[1]: Entering directory '/content/ta-lib/src/tools'\n",
            "Making install in gen_code\n",
            "make[2]: Entering directory '/content/ta-lib/src/tools/gen_code'\n",
            "make  gen_code\n",
            "make[3]: Entering directory '/content/ta-lib/src/tools/gen_code'\n",
            "make[3]: 'gen_code' is up to date.\n",
            "make[3]: Leaving directory '/content/ta-lib/src/tools/gen_code'\n",
            "cp gen_code ../../../bin\n",
            "make[3]: Entering directory '/content/ta-lib/src/tools/gen_code'\n",
            "make[3]: Nothing to be done for 'install-exec-am'.\n",
            "make[3]: Nothing to be done for 'install-data-am'.\n",
            "make[3]: Leaving directory '/content/ta-lib/src/tools/gen_code'\n",
            "make[2]: Leaving directory '/content/ta-lib/src/tools/gen_code'\n",
            "Making install in ta_regtest\n",
            "make[2]: Entering directory '/content/ta-lib/src/tools/ta_regtest'\n",
            "make[3]: Entering directory '/content/ta-lib/src/tools/ta_regtest'\n",
            "make[3]: Nothing to be done for 'install-exec-am'.\n",
            "make[3]: Nothing to be done for 'install-data-am'.\n",
            "make[3]: Leaving directory '/content/ta-lib/src/tools/ta_regtest'\n",
            "make[2]: Leaving directory '/content/ta-lib/src/tools/ta_regtest'\n",
            "make[2]: Entering directory '/content/ta-lib/src/tools'\n",
            "make[3]: Entering directory '/content/ta-lib/src/tools'\n",
            "make[3]: Nothing to be done for 'install-exec-am'.\n",
            "make[3]: Nothing to be done for 'install-data-am'.\n",
            "make[3]: Leaving directory '/content/ta-lib/src/tools'\n",
            "make[2]: Leaving directory '/content/ta-lib/src/tools'\n",
            "make[1]: Leaving directory '/content/ta-lib/src/tools'\n",
            "make[1]: Entering directory '/content/ta-lib'\n",
            "make[2]: Entering directory '/content/ta-lib'\n",
            "test -z \"/usr/bin\" || /usr/bin/mkdir -p \"/usr/bin\"\n",
            " /usr/bin/install -c 'ta-lib-config' '/usr/bin/ta-lib-config'\n",
            "make[2]: Nothing to be done for 'install-data-am'.\n",
            "make[2]: Leaving directory '/content/ta-lib'\n",
            "make[1]: Leaving directory '/content/ta-lib'\n",
            "/content\n",
            "Collecting ta-lib\n",
            "  Downloading TA-Lib-0.4.32.tar.gz (368 kB)\n",
            "\u001b[2K     \u001b[90m━━━━━━━━━━━━━━━━━━━━━━━━━━━━━━━━━━━━━━━━\u001b[0m \u001b[32m368.5/368.5 kB\u001b[0m \u001b[31m5.9 MB/s\u001b[0m eta \u001b[36m0:00:00\u001b[0m\n",
            "\u001b[?25h  Installing build dependencies ... \u001b[?25l\u001b[?25hdone\n",
            "  Getting requirements to build wheel ... \u001b[?25l\u001b[?25hdone\n",
            "  Preparing metadata (pyproject.toml) ... \u001b[?25l\u001b[?25hdone\n",
            "Requirement already satisfied: numpy in /usr/local/lib/python3.10/dist-packages (from ta-lib) (1.26.4)\n",
            "Building wheels for collected packages: ta-lib\n",
            "  Building wheel for ta-lib (pyproject.toml) ... \u001b[?25l\u001b[?25hdone\n",
            "  Created wheel for ta-lib: filename=TA_Lib-0.4.32-cp310-cp310-linux_x86_64.whl size=2063330 sha256=21ee25aa2b482ea778a171871e72e6a758b8e23ff36b60853d8b6d60d80465db\n",
            "  Stored in directory: /root/.cache/pip/wheels/c3/21/bd/ca95eb09997c2a18fce271b98b10ffa9fcafbaa161be864dd7\n",
            "Successfully built ta-lib\n",
            "Installing collected packages: ta-lib\n",
            "Successfully installed ta-lib-0.4.32\n"
          ]
        }
      ],
      "source": [
        "!curl -L http://prdownloads.sourceforge.net/ta-lib/ta-lib-0.4.0-src.tar.gz -O && tar xzvf ta-lib-0.4.0-src.tar.gz\n",
        "\n",
        "!cd ta-lib && ./configure --prefix=/usr && make && make install && cd - && pip install ta-lib"
      ]
    },
    {
      "cell_type": "markdown",
      "metadata": {
        "id": "Nn1TVzh6He5G"
      },
      "source": [
        "Importing yfinance, pandas, talib.\n",
        "Using the stock ticker for Apple.\n",
        "Start date is 700 days before today.\n",
        "(reason for 700 instead of the max 730 is so that if this program is run within 1 month, it'll still be able to get the data)"
      ]
    },
    {
      "cell_type": "markdown",
      "metadata": {
        "id": "n8svBI8AhmkJ"
      },
      "source": [
        "We examine Apple Inc. stock data from August 16, 2022, to July 15, 2024, using data recorded at one-hour intervals. This date range is selected because Yahoo Finance offers hourly stock data up to two years in the past"
      ]
    },
    {
      "cell_type": "code",
      "execution_count": null,
      "metadata": {
        "colab": {
          "background_save": true,
          "base_uri": "https://localhost:8080/"
        },
        "id": "p6Z-FbRfCBaK",
        "outputId": "4d777db9-13cf-438d-c093-7e00289125a2"
      },
      "outputs": [
        {
          "name": "stderr",
          "output_type": "stream",
          "text": [
            "\r[*********************100%%**********************]  1 of 1 completed"
          ]
        },
        {
          "name": "stdout",
          "output_type": "stream",
          "text": [
            "                                 Open        High         Low       Close  \\\n",
            "Datetime                                                                    \n",
            "2022-08-16 09:30:00-04:00  172.779999  172.869995  171.661804  172.110001   \n",
            "2022-08-16 10:30:00-04:00  172.115005  173.300003  171.770004  173.160004   \n",
            "2022-08-16 11:30:00-04:00  173.160004  173.490005  172.780106  172.975006   \n",
            "2022-08-16 12:30:00-04:00  172.970001  173.139999  172.580002  172.949997   \n",
            "2022-08-16 13:30:00-04:00  172.949997  173.710007  172.880005  173.240005   \n",
            "2022-08-16 14:30:00-04:00  173.235001  173.240097  171.830002  172.615005   \n",
            "2022-08-16 15:30:00-04:00  172.619995  173.270004  172.600006  173.029999   \n",
            "2022-08-17 09:30:00-04:00  173.250000  174.449997  173.009995  174.039993   \n",
            "2022-08-17 10:30:00-04:00  174.050003  174.089996  173.080002  173.789993   \n",
            "2022-08-17 11:30:00-04:00  173.789200  173.994995  173.080002  173.800003   \n",
            "\n",
            "                            Adj Close    Volume  \n",
            "Datetime                                         \n",
            "2022-08-16 09:30:00-04:00  172.110001  14075937  \n",
            "2022-08-16 10:30:00-04:00  173.160004   8394647  \n",
            "2022-08-16 11:30:00-04:00  172.975006   5388672  \n",
            "2022-08-16 12:30:00-04:00  172.949997   3697247  \n",
            "2022-08-16 13:30:00-04:00  173.240005   4886579  \n",
            "2022-08-16 14:30:00-04:00  172.615005   6605190  \n",
            "2022-08-16 15:30:00-04:00  173.029999   7321889  \n",
            "2022-08-17 09:30:00-04:00  174.039993  18521740  \n",
            "2022-08-17 10:30:00-04:00  173.789993   8950496  \n",
            "2022-08-17 11:30:00-04:00  173.800003   6068883  \n"
          ]
        },
        {
          "name": "stderr",
          "output_type": "stream",
          "text": [
            "\n"
          ]
        }
      ],
      "source": [
        "import numpy as np\n",
        "import yfinance as yf\n",
        "import pandas as pd\n",
        "import talib as ta\n",
        "import matplotlib.pyplot as plt\n",
        "import seaborn as sns\n",
        "# Define the stock ticker\n",
        "\n",
        "ticker = 'AAPL'\n",
        "\n",
        "# Define the start and end dates\n",
        "start_date = '2022-08-16'\n",
        "end_date = '2024-07-15'\n",
        "\n",
        "# Fetch historical data for the specified date range\n",
        "aapl_data = yf.download(ticker, start=start_date, end=end_date, interval='1h')\n",
        "\n",
        "# Display the first few rows of the DataFrame\n",
        "print(aapl_data.head(10))"
      ]
    },
    {
      "cell_type": "markdown",
      "metadata": {
        "id": "30tfcDe9icQk"
      },
      "source": [
        "In addition, we include stock data for Microsoft, Google, Meta, and ExxonMobil. The rationale for this approach is to investigate whether stock prices are influenced by the stock prices of other companies within the same industry. ExxonMobil is included to assess whether stock prices are impacted by stocks from different industries. We use the same date range and one-hour interval for this data as well."
      ]
    },
    {
      "cell_type": "code",
      "execution_count": null,
      "metadata": {
        "colab": {
          "background_save": true,
          "base_uri": "https://localhost:8080/"
        },
        "id": "lAk6t0A4bPLt",
        "outputId": "1a606989-142f-4b86-ec88-c0939be24783"
      },
      "outputs": [
        {
          "name": "stderr",
          "output_type": "stream",
          "text": [
            "[*********************100%%**********************]  1 of 1 completed\n",
            "[*********************100%%**********************]  1 of 1 completed\n",
            "[*********************100%%**********************]  1 of 1 completed\n",
            "[*********************100%%**********************]  1 of 1 completed"
          ]
        },
        {
          "name": "stdout",
          "output_type": "stream",
          "text": [
            "First few rows of MSFT data:\n",
            "                                  Open        High         Low       Close  \\\n",
            "Datetime                                                                    \n",
            "2022-08-16 09:30:00-04:00  291.989990  292.880005  290.865112  291.399994   \n",
            "2022-08-16 10:30:00-04:00  291.350006  292.429901  290.420013  292.130005   \n",
            "2022-08-16 11:30:00-04:00  292.114990  293.489990  291.989990  292.339996   \n",
            "2022-08-16 12:30:00-04:00  292.339996  292.970001  292.029999  292.809998   \n",
            "2022-08-16 13:30:00-04:00  292.829987  294.040009  292.670013  293.510010   \n",
            "\n",
            "                            Adj Close   Volume  \n",
            "Datetime                                        \n",
            "2022-08-16 09:30:00-04:00  291.399994  4004356  \n",
            "2022-08-16 10:30:00-04:00  292.130005  2186690  \n",
            "2022-08-16 11:30:00-04:00  292.339996  1585045  \n",
            "2022-08-16 12:30:00-04:00  292.809998   933514  \n",
            "2022-08-16 13:30:00-04:00  293.510010  1229914  \n",
            "First few rows of GOOGL data:\n",
            "                                  Open        High         Low       Close  \\\n",
            "Datetime                                                                    \n",
            "2022-08-16 09:30:00-04:00  121.519997  122.160004  121.129997  121.320000   \n",
            "2022-08-16 10:30:00-04:00  121.290001  121.410004  120.639999  121.339996   \n",
            "2022-08-16 11:30:00-04:00  121.339996  122.099998  121.330002  121.709999   \n",
            "2022-08-16 12:30:00-04:00  121.705002  121.930000  121.629997  121.669998   \n",
            "2022-08-16 13:30:00-04:00  121.680000  122.430000  121.620003  122.040001   \n",
            "\n",
            "                            Adj Close   Volume  \n",
            "Datetime                                        \n",
            "2022-08-16 09:30:00-04:00  121.320000  4337653  \n",
            "2022-08-16 10:30:00-04:00  121.339996  2465200  \n",
            "2022-08-16 11:30:00-04:00  121.709999  1797364  \n",
            "2022-08-16 12:30:00-04:00  121.669998  1470634  \n",
            "2022-08-16 13:30:00-04:00  122.040001  1789401  \n",
            "First few rows of META data:\n",
            "                                  Open        High         Low       Close  \\\n",
            "Datetime                                                                    \n",
            "2022-08-16 09:30:00-04:00  179.440002  180.350006  177.440002  178.000000   \n",
            "2022-08-16 10:30:00-04:00  177.960007  178.880005  177.035004  178.789993   \n",
            "2022-08-16 11:30:00-04:00  178.789993  180.121094  178.779999  178.829300   \n",
            "2022-08-16 12:30:00-04:00  178.830002  179.940002  178.399994  179.559998   \n",
            "2022-08-16 13:30:00-04:00  179.559998  180.990005  179.559998  180.389999   \n",
            "\n",
            "                            Adj Close   Volume  \n",
            "Datetime                                        \n",
            "2022-08-16 09:30:00-04:00  178.000000  5722444  \n",
            "2022-08-16 10:30:00-04:00  178.789993  3365643  \n",
            "2022-08-16 11:30:00-04:00  178.829300  2327792  \n",
            "2022-08-16 12:30:00-04:00  179.559998  1627837  \n",
            "2022-08-16 13:30:00-04:00  180.389999  2030718  \n",
            "First few rows of XOM data:\n",
            "                                 Open       High        Low      Close  \\\n",
            "Datetime                                                                \n",
            "2022-08-16 09:30:00-04:00  92.029999  92.889999  91.820000  92.489998   \n",
            "2022-08-16 10:30:00-04:00  92.470001  92.555099  91.290001  91.489998   \n",
            "2022-08-16 11:30:00-04:00  91.470001  92.199997  91.330002  92.139503   \n",
            "2022-08-16 12:30:00-04:00  92.138802  92.160004  91.614998  91.639999   \n",
            "2022-08-16 13:30:00-04:00  91.629997  91.779999  91.394997  91.750000   \n",
            "\n",
            "                           Adj Close   Volume  \n",
            "Datetime                                       \n",
            "2022-08-16 09:30:00-04:00  92.489998  3451483  \n",
            "2022-08-16 10:30:00-04:00  91.489998  1636823  \n",
            "2022-08-16 11:30:00-04:00  92.139503  1436264  \n",
            "2022-08-16 12:30:00-04:00  91.639999  1075089  \n",
            "2022-08-16 13:30:00-04:00  91.750000  1346929  \n"
          ]
        },
        {
          "name": "stderr",
          "output_type": "stream",
          "text": [
            "\n"
          ]
        }
      ],
      "source": [
        "tickers = ['MSFT', 'GOOGL', 'META', 'XOM']\n",
        "\n",
        "# Define the start and end dates\n",
        "start_date = '2022-08-16'\n",
        "end_date = '2024-07-15'\n",
        "\n",
        "# Fetch historical data for the specified date range\n",
        "data = {}\n",
        "for ticker in tickers:\n",
        "    data[ticker] = yf.download(ticker, start=start_date, end=end_date, interval='1h')\n",
        "\n",
        "# Display the first few rows of the DataFrame for each stock\n",
        "for ticker in tickers:\n",
        "    print(f\"First few rows of {ticker} data:\\n\", data[ticker].head())"
      ]
    },
    {
      "cell_type": "markdown",
      "metadata": {
        "id": "eT6-2qLcjP5Q"
      },
      "source": [
        "This data represents insider trading information sourced from the SEC website. Due to difficulties in properly parsing the XML format, we utilized Optical Character Recognition (OCR) to convert the images into CSV files. The content has been uploaded to a public GitHub repository, which has been cloned to ensure accessibility for everyone.\n",
        "![Proj_2.PNG](data:image/png;base64,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)\n",
        "The dataset includes information on the quantity of stocks sold by individuals in leadership positions within the company. An example of Form 4 is provided"
      ]
    },
    {
      "cell_type": "code",
      "execution_count": null,
      "metadata": {
        "id": "-nwgfIZbbWBB"
      },
      "outputs": [],
      "source": [
        "!git clone https://github.com/Nilanjan96/Project_1_AML\n",
        "\n",
        "df1 = pd.read_csv(\"Project_1_AML/1.csv\")\n",
        "df2 = pd.read_csv(\"Project_1_AML/2.csv\")\n",
        "df3 = pd.read_csv(\"Project_1_AML/3.csv\")\n",
        "\n",
        "combined_df = pd.concat([df1, df2, df3], ignore_index=True)"
      ]
    },
    {
      "cell_type": "markdown",
      "metadata": {
        "id": "0xIcWJcWk5Zf"
      },
      "source": [
        "We chose to focus on shares sold because stocks acquired by individuals in high positions are often awarded, and the purchase price is typically not listed."
      ]
    },
    {
      "cell_type": "code",
      "execution_count": null,
      "metadata": {
        "id": "GZNlJanEbzuu"
      },
      "outputs": [],
      "source": [
        "combined_df"
      ]
    },
    {
      "cell_type": "markdown",
      "metadata": {
        "id": "IKq9Q2pgojKU"
      },
      "source": [
        "We need to integrate the insider trading data with the Apple stock data. Therefore, we adjust the datetime format to match that of the Apple dataset."
      ]
    },
    {
      "cell_type": "code",
      "execution_count": null,
      "metadata": {
        "id": "KIbkSc7fl_Nw"
      },
      "outputs": [],
      "source": [
        "from datetime import datetime, timedelta\n",
        "\n",
        "combined_df['Datetime'] = pd.to_datetime(combined_df['Reported DateTime']).dt.tz_localize('America/New_York')\n",
        "\n",
        "# Display the adjusted datetime in stock sales data\n",
        "print(\"\\nAdjusted Stock Sales Data:\")\n",
        "print(combined_df.head())"
      ]
    },
    {
      "cell_type": "markdown",
      "metadata": {
        "id": "Z1oXV92IrEum"
      },
      "source": [
        "We observe that all trades occur after the stock market closes at 4:30 PM. Consequently, we align the insider trading data with the morning of the following day when trading resumes."
      ]
    },
    {
      "cell_type": "code",
      "execution_count": null,
      "metadata": {
        "id": "N39TX2UOmtsB"
      },
      "outputs": [],
      "source": [
        "def adjust_datetime(row):\n",
        "    if row.hour >= 16:\n",
        "        next_trading_day = row + timedelta(days=1)\n",
        "        return datetime(next_trading_day.year, next_trading_day.month, next_trading_day.day, 9, 30)\n",
        "    else:\n",
        "        return row\n",
        "\n",
        "# Apply the adjustment to the stock_sales dataset\n",
        "combined_df['Adjusted_Datetime'] = combined_df['Datetime'].apply(adjust_datetime).dt.tz_localize('America/New_York')\n"
      ]
    },
    {
      "cell_type": "code",
      "execution_count": null,
      "metadata": {
        "id": "r1_hUb16oD84"
      },
      "outputs": [],
      "source": [
        "combined_df"
      ]
    },
    {
      "cell_type": "markdown",
      "metadata": {
        "id": "7ajvJpEZrghQ"
      },
      "source": [
        "Cleaning the insider trading data: On some days, multiple stock sales occur between the market's closing and opening times. We consolidate these entries by summing the corresponding rows."
      ]
    },
    {
      "cell_type": "code",
      "execution_count": null,
      "metadata": {
        "id": "ByywAnH7sz9w"
      },
      "outputs": [],
      "source": [
        "grouped_df = combined_df.groupby('Adjusted_Datetime').agg({'Shares Traded': 'sum'}).reset_index()\n",
        "grouped_df"
      ]
    },
    {
      "cell_type": "code",
      "execution_count": null,
      "metadata": {
        "id": "XgrSz4zFm3Wj"
      },
      "outputs": [],
      "source": [
        "aapl_data = aapl_data.reset_index()\n",
        "merged_data = pd.merge(aapl_data, grouped_df[['Adjusted_Datetime', 'Shares Traded']],\n",
        "                       left_on='Datetime', right_on='Adjusted_Datetime', how='left')\n",
        "\n",
        "# Fill NaN values with 0 for the Number of Stocks Sold\n",
        "merged_data['Shares Traded'].fillna(0, inplace=True)\n",
        "\n",
        "# Drop the adjusted datetime column as it's no longer needed\n",
        "merged_data.drop(columns=['Adjusted_Datetime'], inplace=True)\n",
        "\n",
        "merged_data = merged_data.set_index('Datetime')\n",
        "# Display the merged dataset\n",
        "print(\"\\nMerged Dataset:\")\n",
        "print(merged_data.head())"
      ]
    },
    {
      "cell_type": "code",
      "execution_count": null,
      "metadata": {
        "id": "C27OtpWrokR3"
      },
      "outputs": [],
      "source": [
        "merged_data.rename(columns={'Shares Traded': 'Insider Stock Sold'}, inplace=True)\n",
        "merged_data"
      ]
    },
    {
      "cell_type": "markdown",
      "metadata": {
        "id": "gTbW0svJstkD"
      },
      "source": [
        "We now integrate the Apple stock data and insider trading data with the stock data from Microsoft, Google, Meta, and ExxonMobil. To achieve this, we align the rows based on the datetime index."
      ]
    },
    {
      "cell_type": "code",
      "execution_count": null,
      "metadata": {
        "id": "yq1XZrJIuooL"
      },
      "outputs": [],
      "source": [
        "for i in tickers:\n",
        "  data[i].columns = [i+'_' + col for col in data[i].columns]\n",
        "\n",
        "\n",
        "merged_data = merged_data.reset_index()\n",
        "data['MSFT'] = data['MSFT'].reset_index()\n",
        "data['GOOGL'] = data['GOOGL'].reset_index()\n",
        "data['META'] = data['META'].reset_index()\n",
        "data['XOM'] = data['XOM'].reset_index()\n",
        "\n",
        "stock_data = merged_data\n",
        "stock_data = pd.merge(stock_data, data['MSFT'], on='Datetime', how='left', suffixes=('', '_drop'))\n",
        "stock_data = pd.merge(stock_data, data['GOOGL'], on='Datetime', how='left', suffixes=('', '_drop'))\n",
        "stock_data = pd.merge(stock_data, data['META'], on='Datetime', how='left', suffixes=('', '_drop'))\n",
        "stock_data = pd.merge(stock_data, data['XOM'], on='Datetime', how='left', suffixes=('', '_drop'))\n",
        "\n",
        "stock_data = stock_data.set_index('Datetime')\n",
        "\n",
        "stock_data"
      ]
    },
    {
      "cell_type": "markdown",
      "metadata": {
        "id": "Mn_f4pxutwqw"
      },
      "source": [
        "Now we calculate technical indicators:- \\\\\n",
        "\n",
        "Moving Averages: A moving average smooths out price data by creating a constantly updated average price over a specific time period.\n",
        "\n",
        "MACD (Moving Average Convergence Divergence): MACD is a trend-following momentum indicator that shows the relationship between two moving averages of a security price.\n",
        "\n",
        "RSI (Relative Strength Index): RSI is a momentum oscillator that measures the speed and change of price movements, indicating overbought or oversold conditions.\n",
        "\n",
        "Bollinger Bands: Bollinger Bands are volatility bands placed above and below a moving average, indicating overbought and oversold levels relative to a moving average.\n",
        "\n",
        "Additionally we also add these to the dataset"
      ]
    },
    {
      "cell_type": "code",
      "execution_count": null,
      "metadata": {
        "id": "J3wSBSKhv9AL"
      },
      "outputs": [],
      "source": [
        "# Calculate Simple Moving Average (SMA)\n",
        "stock_data['SMA_50'] = ta.SMA(stock_data['Close'], timeperiod=50)\n",
        "stock_data['SMA_200'] = ta.SMA(stock_data['Close'], timeperiod=200)\n",
        "\n",
        "# Calculate Exponential Moving Average (EMA)\n",
        "stock_data['EMA_50'] = ta.EMA(stock_data['Close'], timeperiod=50)\n",
        "stock_data['EMA_200'] = ta.EMA(stock_data['Close'], timeperiod=200)\n",
        "\n",
        "# Calculate MACD\n",
        "stock_data['MACD'], stock_data['MACD_Signal'], stock_data['MACD_Hist'] = ta.MACD(stock_data['Close'], fastperiod=12, slowperiod=26, signalperiod=9)\n",
        "\n",
        "# Calculate RSI\n",
        "stock_data['RSI'] = ta.RSI(stock_data['Close'], timeperiod=14)\n",
        "\n",
        "# Calculate Bollinger Bands\n",
        "stock_data['Upper_BB'], stock_data['Middle_BB'], stock_data['Lower_BB'] = ta.BBANDS(stock_data['Close'], timeperiod=20, nbdevup=2, nbdevdn=2, matype=0)"
      ]
    },
    {
      "cell_type": "code",
      "execution_count": null,
      "metadata": {
        "id": "wrMXNoicwfyt"
      },
      "outputs": [],
      "source": [
        "stock_data"
      ]
    },
    {
      "cell_type": "markdown",
      "metadata": {
        "id": "exW3_2trvT4T"
      },
      "source": [
        "We will be retrieving **Economic indicators** now which include interest rates, inflation rates, GDP growth, unemployment rates."
      ]
    },
    {
      "cell_type": "code",
      "execution_count": null,
      "metadata": {
        "id": "XnDlM_jqzLhn"
      },
      "outputs": [],
      "source": [
        "!pip install pandas_datareader"
      ]
    },
    {
      "cell_type": "code",
      "execution_count": null,
      "metadata": {
        "id": "VM47e27uzSMv"
      },
      "outputs": [],
      "source": [
        "from pandas_datareader import data as pdr"
      ]
    },
    {
      "cell_type": "code",
      "execution_count": null,
      "metadata": {
        "id": "VgaR5UsgzkSt"
      },
      "outputs": [],
      "source": [
        "economic_indicators = {\n",
        "    'Interest Rate': 'FEDFUNDS',  # Federal Funds Rate\n",
        "    'Inflation Rate': 'CPIAUCSL',  # Consumer Price Index for All Urban Consumers\n",
        "    'GDP Growth': 'A191RL1Q225SBEA',  # Real GDP\n",
        "    'Unemployment Rate': 'UNRATE'  # Unemployment Rate\n",
        "}\n",
        "\n",
        "# Define the start and end dates\n",
        "start_date = '2022-06-16'\n",
        "end_date = '2024-07-15'\n",
        "\n",
        "# Fetch economic indicator data from FRED\n",
        "economic_data = {}\n",
        "for indicator, fred_code in economic_indicators.items():\n",
        "    economic_data[indicator] = pdr.get_data_fred(fred_code, start=start_date, end=end_date)\n",
        "\n",
        "economic_data"
      ]
    },
    {
      "cell_type": "markdown",
      "metadata": {
        "id": "CuIgDahIvy8W"
      },
      "source": [
        "**Data Cleaning Economic Indicators** \\\\\n",
        "In the next cell, we generate the dataset from the dictionary and trim it to the desired timeline. While we have monthly data for interest rates, inflation rates, and unemployment rates, the GDP data is available quarterly. Therefore, we fill the GDP column in three-month increments. For the most recent months where GDP data is unavailable, we use the latest available data."
      ]
    },
    {
      "cell_type": "code",
      "execution_count": null,
      "metadata": {
        "id": "dXCHJKDC2A1d"
      },
      "outputs": [],
      "source": [
        "interest_rate_df = economic_data['Interest Rate']\n",
        "inflation_rate_df = economic_data['Inflation Rate']\n",
        "gdp_growth_df = economic_data['GDP Growth']\n",
        "unemployment_rate_df = economic_data['Unemployment Rate']\n",
        "\n",
        "# Filter the data to start from August 2022\n",
        "interest_rate_df = interest_rate_df.loc['2022-08-01':]\n",
        "inflation_rate_df = inflation_rate_df.loc['2022-08-01':]\n",
        "unemployment_rate_df = unemployment_rate_df.loc['2022-08-01':]\n",
        "\n",
        "# Repeat GDP growth for each month within the quarter\n",
        "gdp_growth_df = gdp_growth_df.resample('MS').ffill().loc['2022-08-01':]\n",
        "\n",
        "# Merge dataframes\n",
        "economic_final = interest_rate_df.join([inflation_rate_df, gdp_growth_df, unemployment_rate_df])\n",
        "economic_final['A191RL1Q225SBEA'][-5:] = 1.7\n",
        "\n",
        "economic_final"
      ]
    },
    {
      "cell_type": "markdown",
      "metadata": {
        "id": "fhbjUYqk1_Qg"
      },
      "source": [
        "We now incorporate the economic indicators into the dataset. To achieve this, we follow a similar process as before: converting the datetime format of the economic indicators dataframe to match the datetime format of the stock data, and then aligning them accordingly"
      ]
    },
    {
      "cell_type": "code",
      "execution_count": null,
      "metadata": {
        "id": "WqMwurAq3wNL"
      },
      "outputs": [],
      "source": [
        "economic_final = economic_final.reset_index()\n",
        "economic_final['DATE'] = pd.to_datetime(economic_final['DATE']).dt.tz_localize('America/New_York')\n",
        "stock_data = stock_data.reset_index()\n",
        "\n",
        "merged_data = stock_data.merge(\n",
        "    economic_final,\n",
        "    left_on=stock_data['Datetime'].dt.to_period('M'),\n",
        "    right_on=economic_final['DATE'].dt.to_period('M'),\n",
        "    how='left'\n",
        ")\n"
      ]
    },
    {
      "cell_type": "code",
      "execution_count": null,
      "metadata": {
        "id": "W-AfhLS18yGt"
      },
      "outputs": [],
      "source": [
        "merged_data = merged_data.drop(columns=['key_0'])\n",
        "merged_data = merged_data.ffill()\n",
        "merged_data = merged_data.drop(['DATE'], axis = 1)\n",
        "merged_data.set_index('Datetime', inplace= True)\n",
        "\n",
        "merged_data.rename(columns={'FEDFUNDS': 'Interest Rate'}, inplace=True)\n",
        "merged_data.rename(columns={'CPIAUCSL': 'Inflation Rate'}, inplace=True)\n",
        "merged_data.rename(columns={ 'A191RL1Q225SBEA': 'GD'}, inplace=True)\n",
        "merged_data.rename(columns={'UNRATE': 'Unemployment Rate'}, inplace=True)"
      ]
    },
    {
      "cell_type": "code",
      "execution_count": null,
      "metadata": {
        "id": "LSZLFR19FBF_"
      },
      "outputs": [],
      "source": [
        "merged_data"
      ]
    },
    {
      "cell_type": "markdown",
      "metadata": {
        "id": "jCbFXGiuFypM"
      },
      "source": [
        "# Step 2: Data Preparation"
      ]
    },
    {
      "cell_type": "markdown",
      "metadata": {
        "id": "1x_qPhqqLr6o"
      },
      "source": [
        "We provide a list of all the variables along with the following information for each variable of the data:\n",
        "\n",
        "Description of the variable\n",
        "\n",
        "Data type of the variable\n",
        "\n",
        "Sample values from the variable"
      ]
    },
    {
      "cell_type": "code",
      "execution_count": null,
      "metadata": {
        "id": "CJ3KPhqH5PgJ"
      },
      "outputs": [],
      "source": [
        "data = merged_data #using a copy so as to not mess with the original dataframe\n",
        "\n",
        "descriptions = {\n",
        "    'Open': 'The opening price of Apple',\n",
        "    'High': 'The highest price of Apple',\n",
        "    'Low': 'The lowest price of Apple',\n",
        "    'Close': 'The closing price of Apple',\n",
        "    'Adj Close': 'Apple closing price adjusted for stock splits, dividend distributions, and additional shares',\n",
        "    'Volume': 'Number of Apple shares traded',\n",
        "    'Insider Stock Sold': 'Amount of Common Stock sold by an insider in Apple',\n",
        "    'MSFT_Open': 'The opening price for Microsoft',\n",
        "    'MSFT_High': 'The highest price of Microsoft',\n",
        "    'MSFT_Low': 'The lowest price of Microsoft',\n",
        "    'MSFT_Close': 'The closing price of Microsoft',\n",
        "    'MSFT_Adj Close': 'Microsoft closing price adjusted for stock splits, dividend distributions, and additional shares',\n",
        "    'MSFT_Volume': 'Number of Microsoft shares traded ',\n",
        "    'GOOGL_Open': 'The opening price of Google',\n",
        "    'GOOGL_High': 'The highest price of Google',\n",
        "    'GOOGL_Low': 'The lowest price of Google ',\n",
        "    'GOOGL_Close': 'The closing price of Google',\n",
        "    'GOOGL_Adj Close': 'Google closing price adjusted for stock splits, dividend distributions, and additional shares',\n",
        "    'GOOGL_Volume': 'Number of Google shares traded',\n",
        "    'META_Open': 'The opening price of Meta',\n",
        "    'META_High': 'The highest price of Meta',\n",
        "    'META_Low': 'The lowest price of Meta',\n",
        "    'META_Close': 'The closing price of Meta',\n",
        "    'META_Adj Close': 'Meta closing price adjusted for stock splits, dividend distributions, and additional shares',\n",
        "    'META_Volume': 'Number of Meta shares traded',\n",
        "    'XOM_Open': 'Opening price of Exon Mobile',\n",
        "    'XOM_High': 'The highest price of Exon Mobile',\n",
        "    'XOM_Low': 'The lowest price of Exon Mobile',\n",
        "    'XOM_Close': 'The closing price for Exon Mobile ',\n",
        "    'XOM_Adj Close': 'Exon Mobile closing price adjusted for stock splits, dividend distributions, and additional shares',\n",
        "    'XOM_Volume': 'Number of Exon Mobile shared traded',\n",
        "    'SMA_50': 'Apple 50 day simple moving average',\n",
        "    'SMA_200': 'Apple 200 day simple moving average',\n",
        "    'EMA_50': 'Apple 50 day exponential moving average',\n",
        "    'EMA_200': 'Apple 200 day exponential moving average ',\n",
        "    'MACD': 'Moving Average Convergence Difference',\n",
        "    'MACD_Signal': '9 period EMA of MACD',\n",
        "    'MACD_Hist': 'MACD Histogram',\n",
        "    'RSI': 'Relative Strenght Index',\n",
        "    'Upper_BB': 'Upper Bollinger Band',\n",
        "    'Middle_BB': 'Middle Bollinger Band',\n",
        "    'Lower_BB': 'Lower Bollinger Band',\n",
        "    'Interest Rate': 'Interst rate at the time',\n",
        "    'Inflation Rate': 'Inflation rate at the time',\n",
        "    'GD': 'GDP at the time',\n",
        "    'Unemployment Rate': 'Unemployment Rate at the time'\n",
        "\n",
        "    # Add descriptions for all columns\n",
        "}\n",
        "\n",
        "# Create an empty list to store the variable information\n",
        "variable_info = []\n",
        "\n",
        "# Iterate over each column in the dataset to gather information\n",
        "for column in data.columns:\n",
        "    # Get data type\n",
        "    data_type = data[column].dtype\n",
        "\n",
        "    # Get sample values (5 sample values)\n",
        "    sample_values = data[column].dropna().sample(5).tolist() if data[column].notna().sum() >= 5 else data[column].dropna().tolist()\n",
        "\n",
        "    # Append the initial information to the variable_info list\n",
        "    variable_info.append({\n",
        "        'Variable': column,\n",
        "        'Description': 'To be filled by user',  # Placeholder description\n",
        "        'Data Type': data_type,\n",
        "        'Sample Values': sample_values\n",
        "    })\n",
        "\n",
        "# Update descriptions in the variable_info list\n",
        "for entry in variable_info:\n",
        "    column = entry['Variable']\n",
        "    entry['Description'] = descriptions.get(column, 'No description available')\n",
        "\n",
        "# Convert the list to a DataFrame\n",
        "variable_info_df = pd.DataFrame(variable_info)\n",
        "\n",
        "# Display the DataFrame\n",
        "print(variable_info_df)"
      ]
    },
    {
      "cell_type": "markdown",
      "metadata": {
        "id": "5r6PXDSeOjDm"
      },
      "source": [
        "Since all the variables are numeric, we showcase the number of observations, range, min, max and other basic statistics of the variable"
      ]
    },
    {
      "cell_type": "code",
      "execution_count": null,
      "metadata": {
        "id": "jLz4vnfEPa4b"
      },
      "outputs": [],
      "source": [
        "data"
      ]
    },
    {
      "cell_type": "code",
      "execution_count": null,
      "metadata": {
        "id": "o8rd8OtlHAiC"
      },
      "outputs": [],
      "source": [
        "# Iterate over each column to process numeric variables\n",
        "for column in data.select_dtypes(include=['number']).columns:\n",
        "    print(f\"\\nStatistics for '{column}':\")\n",
        "\n",
        "    # Number of observations\n",
        "    num_observations = data[column].notna().sum()\n",
        "    print(f\"Number of Observations: {num_observations}\")\n",
        "\n",
        "    # Range\n",
        "    range_ = data[column].max() - data[column].min()\n",
        "    print(f\"Range: {range_}\")\n",
        "\n",
        "    # Min and Max\n",
        "    min_value = data[column].min()\n",
        "    max_value = data[column].max()\n",
        "    print(f\"Min: {min_value}\")\n",
        "    print(f\"Max: {max_value}\")\n",
        "\n",
        "    # Mean, Standard Deviation, and Variance\n",
        "    mean = data[column].mean()\n",
        "    std_dev = data[column].std()\n",
        "    variance = data[column].var()\n",
        "    print(f\"Mean: {mean}\")\n",
        "    print(f\"Standard Deviation: {std_dev}\")\n",
        "    print(f\"Variance: {variance}\")\n",
        "\n",
        "    # Mode, Median, Quartiles\n",
        "    mode = data[column].mode().values\n",
        "    median = data[column].median()\n",
        "    quartiles = data[column].quantile([0.25, 0.50, 0.75, 0.95])\n",
        "    print(f\"Mode: {mode}\")\n",
        "    print(f\"Median: {median}\")\n",
        "    print(f\"Quartiles:\\n{quartiles}\")\n",
        "\n",
        "    # Plot Histogram\n",
        "    plt.figure(figsize=(10, 6))\n",
        "    plt.hist(data[column].dropna(), bins=20, edgecolor='k', alpha=0.7)\n",
        "    plt.title(f'Histogram of {column}')\n",
        "    plt.xlabel(column)\n",
        "    plt.ylabel('Frequency')\n",
        "    plt.grid(True)\n",
        "    plt.show()\n",
        "\n",
        "\n",
        "    #Plot Line Graph\n",
        "    plt.figure(figsize = (10,5))\n",
        "    plt.plot(data.index, data[column], label = column, color = 'orange')\n",
        "    plt.title(f'Line Graph of {column}')\n",
        "    plt.xlabel(column)\n",
        "    plt.ylabel('Progression wrt time')\n",
        "    plt.legend()\n",
        "    plt.show()"
      ]
    },
    {
      "cell_type": "markdown",
      "metadata": {
        "id": "XEWYlkCcSF7P"
      },
      "source": [
        "An intriguing aspect of the graphs is the points at which stock prices reach their lowest values. Notably, while many technology stocks experienced significant declines around November 2022, ExxonMobil did not follow this trend. Let’s delve deeper into this phenomenon next."
      ]
    },
    {
      "cell_type": "code",
      "execution_count": null,
      "metadata": {
        "id": "cUtvdT8f5WZ3"
      },
      "outputs": [],
      "source": [
        "\n",
        "plt.figure(figsize=(14, 7))\n",
        "\n",
        "# Plot each stock's closing prices with different colors\n",
        "plt.plot(merged_data['Close'], label='Apple Close Price')\n",
        "plt.plot(merged_data['MSFT_Close'], label='Microsoft Close Price')\n",
        "plt.plot(merged_data['GOOGL_Close'], label='Google Close Price')\n",
        "plt.plot(merged_data['META_Close'], label='META Close Price')\n",
        "plt.plot(merged_data['XOM_Close'], label='Exxon Mobil Close Price')\n",
        "\n",
        "# Add title and labels\n",
        "plt.title('Hourly Closing Prices of Selected Stocks')\n",
        "plt.xlabel('Date')\n",
        "plt.ylabel('Close Price')\n",
        "\n",
        "# Add legend to distinguish between the different stocks\n",
        "plt.legend()\n",
        "\n",
        "# Show the plot\n",
        "plt.show()"
      ]
    },
    {
      "cell_type": "markdown",
      "metadata": {
        "id": "6ItNBoEUTQky"
      },
      "source": [
        "We plotted the correlation matrix and observed that while there is a strong positive correlation among stocks within the technology sector, there is a slight negative correlation between technology stocks and ExxonMobil!"
      ]
    },
    {
      "cell_type": "code",
      "execution_count": null,
      "metadata": {
        "id": "U4ZGWW46QsDX"
      },
      "outputs": [],
      "source": [
        "closing_prices = merged_data[['Close', 'MSFT_Close', 'GOOGL_Close', 'META_Close', 'XOM_Close']]\n",
        "\n",
        "# Compute the correlation matrix\n",
        "correlation_matrix = closing_prices.corr()\n",
        "\n",
        "# Display the correlation matrix\n",
        "print(correlation_matrix)"
      ]
    },
    {
      "cell_type": "code",
      "execution_count": null,
      "metadata": {
        "id": "JCXNEKcQR_TS"
      },
      "outputs": [],
      "source": [
        "# Plotting the correlation matrix\n",
        "plt.figure(figsize=(10, 8))\n",
        "sns.heatmap(correlation_matrix, annot=True, cmap='coolwarm', linewidths=0.5)\n",
        "plt.title('Correlation Matrix of Stock Data')\n",
        "plt.show()"
      ]
    },
    {
      "cell_type": "markdown",
      "metadata": {
        "id": "NhzazRXoTqo3"
      },
      "source": [
        "The 2022 stock market decline was a significant economic event marked by a global downturn in stock markets, the worst for American indices since 2008, ending three years of gains. In February 2022, the Russian invasion of Ukraine triggered a worldwide financial market sell-off. This decline severely impacted economies globally, with the U.S. S&P 500 peaking in January and beginning a steady decline, culminating in its largest drop since March 2020 in September.\n",
        "\n",
        "In the U.S., this decline led to a bear market starting on January 3, 2022, and ending on October 22, 2022. By November 2022, the Dow Jones, Nasdaq Composite, and S&P 500 had transitioned into a bull market, while Japan's Nikkei 225 reached its highest level since 1990 by May 2023.\n",
        "\n",
        "The downturn's causes included lingering financial instability from the COVID-19 pandemic as investors grappled with its long-term economic effects. The Russian invasion of Ukraine exacerbated the situation by raising fears of energy disruptions. Additionally, concerns about a global recession further impacted markets. On June 13, 2022, the MSCI ACWI index entered a bear market, dropping 21% from its mid-November peak.\n",
        "\n",
        "In the U.S., the S&P 500 peak at 4,796 on January 3 gave way to a steady decline due to inflation and the Federal Reserve interest rate hikes, which undermined investor confidence. The U.S. GDP shrank by 1.6% in the first quarter of 2022, intensifying recession fears and contributing to the equity price decline. By June 16, the S&P 500 had fallen 23.55%, the DJIA 18.78%, and the Nasdaq Composite 33.70%.\n",
        "\n",
        "On September 13, 2022, the S&P 500 saw its largest single-day drop since June 2020. Despite this, ESG investment funds in the U.S. experienced inflows of $3.1 billion, while non-ESG funds saw outflows of 370 billion dollars.\n",
        "\n",
        "China stock market also suffered due to concerns over its Zero-COVID strategy and regulatory actions, with Alibaba's share price dropping from over \\$ 300 in mid-2020 to below \\$ 100 by June 2022. Emerging markets experienced severe sell-offs, with the JPMorgan EMBI Global Diversified returning -15% in 2022. ETFs like VWO, IEMG, and EEM also fell over 15% since the start of 2022.\n",
        "\n",
        "Cryptocurrencies, particularly Bitcoin and Ethereum, plummeted as part of the broader decline in risky assets, with Bitcoin price dropping 59% during this period and 72% from its November 2021 peak."
      ]
    },
    {
      "cell_type": "markdown",
      "metadata": {
        "id": "m9L3vBbgTVQV"
      },
      "source": [
        "https://en.wikipedia.org/wiki/2022_stock_market_decline"
      ]
    },
    {
      "cell_type": "markdown",
      "metadata": {
        "id": "D8_T8y94Y4Z4"
      },
      "source": [
        "We download and compare stock prices of S&P500, Apple, Bitcoin for 10 years to assess the slump"
      ]
    },
    {
      "cell_type": "code",
      "execution_count": null,
      "metadata": {
        "id": "rtsa6de-SJHj"
      },
      "outputs": [],
      "source": [
        "sp500_ticker = \"^GSPC\"\n",
        "bitcoin_ticker = \"BTC-USD\"\n",
        "aapl_ticker = 'AAPL'\n",
        "\n",
        "end_date = datetime.now()\n",
        "start_date = end_date - timedelta(days=10*365)\n",
        "\n",
        "aapl_data = yf.download(aapl_ticker, start=start_date, end=end_date)\n",
        "sp500_data = yf.download(sp500_ticker, start=start_date, end=end_date)\n",
        "bitcoin_data = yf.download(bitcoin_ticker, start=start_date, end=end_date)"
      ]
    },
    {
      "cell_type": "code",
      "execution_count": null,
      "metadata": {
        "id": "XqGhgOdkR_ob"
      },
      "outputs": [],
      "source": [
        "plt.figure(figsize=(10, 5))\n",
        "plt.plot(aapl_data.index, aapl_data['Close'], label=\"Apple\", color='orange')\n",
        "plt.title('Apple Price (Last 5 Years)')\n",
        "plt.xlabel('Date')\n",
        "plt.ylabel('Price')\n",
        "plt.legend()\n",
        "plt.show()\n",
        "\n",
        "plt.figure(figsize=(10, 5))\n",
        "plt.plot(sp500_data.index, sp500_data['Close'], label=\"S&P 500\")\n",
        "plt.title('S&P 500 Price (Last 5 Years)')\n",
        "plt.xlabel('Date')\n",
        "plt.ylabel('Price')\n",
        "plt.legend()\n",
        "plt.show()\n",
        "\n",
        "# Plot the Bitcoin data\n",
        "plt.figure(figsize=(10, 5))\n",
        "plt.plot(bitcoin_data.index, bitcoin_data['Close'], label=\"Bitcoin\", color='orange')\n",
        "plt.title('Bitcoin Price (Last 5 Years)')\n",
        "plt.xlabel('Date')\n",
        "plt.ylabel('Price')\n",
        "plt.legend()\n",
        "plt.show()"
      ]
    },
    {
      "cell_type": "markdown",
      "metadata": {
        "id": "hb-RJytJZP8L"
      },
      "source": [
        "However on the other hand, we see that Exxonmobile did really well during this stock market decline. Which is why we see in our data of the last 2 years, exxonmobile having a negative correlation to the tech stocks."
      ]
    },
    {
      "cell_type": "markdown",
      "metadata": {
        "id": "eUg2tHEXZm-g"
      },
      "source": [
        "![Proj_1.PNG](data:image/png;base64,iVBORw0KGgoAAAANSUhEUgAABK8AAAL1CAYAAAABwcdPAAAAAXNSR0IArs4c6QAAAARnQU1BAACxjwv8YQUAAAAJcEhZcwAADsMAAA7DAcdvqGQAAP+lSURBVHhe7J0HmBRF+sZRFFgO/3rinQEQyYgByZkl55wlSQ5LFAQEFRFFFMWAIqCCgiAYMYAokoPkJCCCBEERcz7DHfD9+62lZnt6ama6J+zOLm89/h6Xrprq6urq6qq3v/oqmzAwMDAwMDAwMDAwMDAwMDAwMCRoyHbd9WWFEEIIIYQQQgghhJBEQgeKV4QQQgghhBBCCCEk4dCB4hUhhBBCCCGEEEIISTh0oHhFCCGEEEIIIYQQQhIOHSheEUIIIYQQQgghhJCEQweKV4QQQgghhBBCCCEk4dCB4hUhhBBCCCGEEEIISTh0oHhFCCGEEEIIIYQQQhIOHSheEUIIIYQQQgghhJCEQweKV4QQQgghhBBCCCEk4dCB4hUhhBBCCCGEEEIISTh0oHhFCCGEEEIIIYQQQhIOHSheEUIIIYQQQgghhJCEQweKV4QQQgghhBBCCCEk4dCB4hUhhBBCCCGEEEIISTh0oHhFCCGEEEIIIYQQQhIOHSheEUIIIYQQQgghhJCEQweKV4QQQgghhBBCCCEk4dCB4hUhhBBCCCGEEEIISTh0oHhFCCGEEEIIIYQQQhIOHSheEUIIIYQQQgghhJCEQweKV4QQQgghhBBCCCEk4dCB4hUhhBBCCCGEEEIISTh0oHhFCCGEEEIIIYQQQhIOHSheZRDXl6kiN1eu6aPoTRWM6TIDRW4sLzdXquG7lhvKVzOmy0wUv7mS3FKlllSs01iBv3HMlDZeFL6hvNxUsbpUSm4oFes2lgrV68lNFTJ/3RJCCMnaFLrBeoeVsVHanI6QRKKwReli5aR6kUqKKkUqSqkS5YxpY0nhUuXkluLlpWzRcoqbrDKY0pHQZKZ6TIR5RqJinx+XuLmiMU20YB5+S7XavvlVvM4D4n098c4/UdAhU4tXNRq2kKdenCe9U4Ya472APJAX8jTFx4IiN5STjp17yIzn58ny7R/L6o8P+FiyaZfMW/CKDBk2SkplkoZXrWZ9mTRpiiz5aKes2pN2LR/u2i9vLv1A7ho/SaUx/daEvp+xwnSOcLTr1F1mzJot723cLmv3HZRNh08o8DeOIQ5pTL+NFWWq1Fb1+taK1bJy9yey+dDnsunIF/LRgSOy0qrbRe+tkiF33+u5nSDfh6ZNV+BvUxo31G/UUqY9P0eBv01pogV1jHs49L77jfGR0rp3f5Vvpx69jPGRALF2xqI35a01m6Rus3bGNJGg75e9TYdjwuSHpXO33hEPgHS93z56nDHeDejnRo+5R+XzxFMzw7ZTnMt+DZES7rk0/SZSYv2eKFiulOSa1FBhindD0fLl5PIXqsql06tIIesemNKEo1j1sqoMxVJqGOPteC2vKt/YunL53fWkaKXyxjRe8HL+G5pWdH1d4bimViWV1/8NrWOMd6KvW5c3UpAH8jKdw06xXtWNvw8FfoM2aMrPKyWqVlRlTfqgmuRebWNlNck1rZ6KQxrTbzOSPrePlLfXb5cpT80wxkeK7t/w7jHFe8HrOFX3527oNfpOada+ozGf9GRC3kbycu4e0j1f9M+qFyoUrSizLukkW3IPlAM5UuSLi4YoPrf4ONdAWZ27nyqb6bfRUPP6qqnn/UeKHMg5SA5enKLYnxPn7Cvjr6uv0ph+Gwp9PajLaEAeyMt0Djv6vrll9mWdZczVdaRM8diIS/Gqx3iA5zK95hmxGl9Vr9PAmH8sKVO5lhrzv/LhWr/58bItu2XyMzOkau3YPH+1mjaTR6fNlA8275S1+w/55lc4D8bcXuatoYj39aRXfSUSOmRq8apV175y/E9RD5Yp3gvIA3khT1N8NBQqZXWs1mBjwfIV8vnv/5XDP/1Htn52wtfQ8PDsOHZSDv34uyrDtkOHJWXEGLmlej1jfhnNTRVqyL3WAO/YD7+o69n1+SnV6err2XL0S9n/9Y/qWpBm0oxnJblJK2Nedlp07iUHvvslJMd+/5/KF3VlirdjOoeJYjdVlDYduvruz9Hf/itbrfuhO4Hl2/fKun2fybbjp9T5kQZp8Rv81pRnJNSo21TVla7Xj7/4VrUNiIHvbd6tyrPxs8997WT/1z/J2PunuG4n+LqAThrgb1OacFSu1Vi2HTmmyjd7/nz15cKULlowkMY1glgJTVVrN5RNh46pPO96+CFjmkhod1sf3z1Z9MY7xjSRoO/X8f+ckYPf/2ps43Z0GcDRr79XbQltypR3MHS9T3v1dWO8G3oOul2V5ZOvvpNeA1KMaezgXKrMVr9oui639B452pi/xvQbO7r+8Iyb4u2grzKdIxpyv9ZQsn1VUwkJpvhwXN2iimQ7VFtyb60phatHZskLcQFlKDIu/HONdNmWNDHGmShWrbxcsqWG+l2B2dWjtsTBuZGXKc5J6R5W3aC8FsWGQ9wzp3PDVY2svPbXkVzL3FnB+q77RLL6XaRcsqKWyst0Djslnqieeq2GPIycqxe0nQKzaknBDpWk0E3mvENRsFx5KTL+3Lktsn9cW/6x1iZebT93/efiiz5QTYrUTwyLc3yAwHsNz//OoyelRj1v/WYodP+27fAXUtfFOCgUXsepuj///Ne/jf2YRo+rwN6jx+WpWXOlcauOGWIF8lqeNtbM5C4Z+e9axvhYU+v66jLr8lbqnODnC0bJ4YsHySc5U2Rn7hQ5lHOQHM8xVP7MNlbFf5v9dhldsJmULhXd2O/mkpXkqX+28J33VM5h6rxadPny4qHyx4VjfPEoY4Mi7t8NsBqD+HbW+u0f2e6U3yPks4sGqbxM57Cj79vfVj2Z8nGir+t0tnGyMqmLdCrRQIpd713Iinc9xoqMmmfEanzVuG1bY/6xAPOIgcNHyY4vv1Xj3b3W/1EXqBvMLTHHxDVgbnTf5EelZJnIREh8EL7nwSlqrKfrHwYC723aFXAezHEx1zXlE454X0961VciogPFq3PEU7xq2KytbDp4VHVGixa/K83adZGqtRr5TPxgtli9fjNpeettMmveAp94sXznXmnQrI0xz4wCVhSLli5Tnev2Awel58BhUrN+C2Xuqq+nct0mUq9Fe7nzvsmy5/BROf7HGdnxxTcy7oHJyirDlC8oVa6aNGjdMSTLd+xX92nIuPuM8XZM53CC65n27Fw5+N2vaoAH8aFjt75S1bof2vzy+rJVpazV6VVt0FxuGzjc9/LBb/DbaC3lUCeDh9+pBreoq2179knK0DukduNWqm1gYI1BJMpTvlZDada+q0ya+bwSKFAXaCduBJ5oxSsIVyu37VXX/tj0Z+ImXAG7eIXri4WQ+/Irb6qOHnnGUryab7UZ5Pn+hk2qDcXqi5m+XztOfC239k0xtnE7ja1+pXOvFJn89NO+5w5tauCw0KKOnWjFK5wLoir6MAhXWFJsSmdHD67GP/6E8brcEs6a0PQbO+hTVHuz+hhTvB30VaZzREO+4TerSX3S68kRWU4VvbtqqjBwIlnyda5sTBMKWPXkWVddiRhXNQv/e3WuCMUr8M/RdSK2EAORilfZd9eSaxtF3ndFKl5BvMnfoZr6fSTkq1fZlaikxasitycb83FydeeKcu2QipJtbap4mv2o1Qane+tvi5QuLzmfa6DaXu6dNSR/74qqvEXKnVsyCJIrqvP9c6x176w2hnPl3l1TLh0eXTuIBXeMu9fXh+Md8cCUJ4zpIkH3b+iP31q5KqrxQqTi1YL3lxv7MQ3E+C4Dhsqj817yiXiHvv1F5r75drpYXNhJL/EK464hxevKl7lGqPMdzz5EiVKNrkuW8kXLS+ni5aTE9eWkXPHyUrVYJWl/bR15/rKWPhFk4z/7Sp2bIhNB0AZ2JKUo4QZi2JBrGkly8crqvHq5W42ilaRloVoy8Zqm8mOOkeqcSPvQFR1CjqM1Wrz6Jvtw6X1NfWlesHZEoD5KuFg2qe/bk/9sbszHSZfrGsj9/24k2/L2Ur/7I/udMqtAa2PewUiPeowFGTnPiNX4Kl7jfeSLD+GoF8xpxk14SOo0aa3qAnWDuSXmmPhQj7HlkV//K9NnzzfmFQrMId5c85GqU/Rx3fsPU/UP1yzFbqzgO8/wMeNl71ffqzku5rpe6z3e15Ne9ZWo6EDx6hzxEq8gPGzevV8pvfc8+LCrzrJO/eby1uqNcvSXP+XJZ2cb02QE8Mv13IsLPD3USPPkrBfk0+9+ljVWPVRMjm4gBLP+WN2nWyrWVNeBwer6Hbtcm/U7xSbkgbxMacOBvIaNuSvVUuXkN3Lnw48Y05mASejL769Uv4VYMGLshJC+06IRryBcrdqyW3X88bS40uhB90FrAI3/P/zUdGM6N8DycdjIsSofbV0TK/GqccuOKr8XFr4pHbr2US+KOW8sjokPu2jFxrGPPi4Hvv1ZvcDauLQUika86tZnsDqXW4srjR5c4dym+PRCv0/Qx5ji4w0m+7BWidRySokP50SBAk8mG9OEAoKVstx62zq/C6sonCcS8QriUfb1ddW58neO/ItgJOJVrvn1U+vIqqtIly5CgIlEvAJuLKeiRYtXuGZTfChuaFtZcm1J/T0ELDdiGazYkp6up4QrCFgQskzp7CANfpP9cA25cG1dtRTTlC49uNl6d6/a/an1Pv9S6jVsqfowTG5i5btT92+LV61SY6fZ8xZJsdLexWUQqXjlpT/Hh7Jhd9wlaz4+pMq78/NT0qFbH2PaeJAe4hXGXZPyt1Oix8/ZR8uUK9xb2kGwgnCFMv6ZbYy0KVFXjTFMaU0ULVlW3k3qpSyidiWluB5Hz8zfSv64YIwcSRoiVUqEf160eAXcWE5FSzT3DUtEDyfdrn4PAcuNBVZ61WO0ZPQ8I1HGVyZwjfgQjnnF0k071dzXlE6DD8PK2si6Hozp3T536ONfXrlG/Q4CVriP4VhWuH7nLl+9u7XAivf1pFd9JTI6ULw6R7zEq/H3PaDynfr886rhmdKYwMCpz6DhUrpy+phOuyG5QXPZffyUbDx4VCrVci9CYSLf6ba+0qJDV2O8F2IpXs1f9IYanL363vtSOYI1zlgCgA4OeSAvU5pwwDcQBBUMllu1vdWVpYodiEhDR9ypRB6IhPEQr9LT4kqjB92Pzpyp6gZ1FKnPECyd23Hoc9WJPzJ3rso3FuIVnudF761Uk50mbTr7JkF7Tn5nvfy8fUE0Ea14hbbU//bh6nq37D3ganAXqXgVicWVhuJVKoVLl5PcK6pHZDkFn04QHCBaaRHLjYhgB0sFlcAzyZ0fKaSNRLzCErL8bUur38PyBn62TOnDEYl4VXBEhVTLH+vvvAurRbR0MSuLV6BQnXJKwIIFFpYQmtLYyVenkhIkc22sIYWquL8+iF7X3HqjXN2ktDE+vdAfHR6fMUdtkoIv1ugH7nvscWN6r+j+rXPf3rJqy3Y59MtfknLnWGPacKSHeKXB2BNLZ/B79O1eLHijIT3EK1jdQLiC+NS2RD3l5NuULhhYMvhM/q6qnKeyj5S6hd2LCg2uqyk/XHCHnLhoqNQs5r6fh1jTo0Bt6XStuw8TmUm8AnWKVbPKOlRZYGEJoSmNnfSqx2jJ6HlGIotXWI2DeQUsXt2uruhhzYthdbRuzyfK2siUxg7G6c/PXaDq4JV33nft77dm/Sby0adHVb2jHzSlcRLv60mP+kp0dKB4dY54iFcQEuCIHf6fsIzOlCYzAbNy1NHUmc8a49ODWIhXGKCOeSh1gLph1x5Xk/pgwKQeyyeRF/JE3qZ0JupYbQKCygGrfUC4MqVxixthJxIxJL0trjR60A2RqXOvAXLoh9+Uvyr4rTKlDwZeXHNeTn15T3jkUb98Tem9AD9uWA675KOtvq/0WqzGBMiZ3ivRileaea++pco0fMQYY7ydSCY7kVpcaShepQFn1hAevFpOKV9V50QvZV1k5eHFdxaWbWnRy62YhHNEKl5hGdl1fSpI9mM1Jce6qlKwYmD6cEQqXkGwgnCFf0PI8rpkLauLV+CyUam+qdy0w2tuq6DSuhU9Ewm8H7A8Bx9H8LUdx/RHOnyIwAcJ52+8ovu3ph3aq3PgnQ+Rv2XHrp6/hKeneKUZ/8AU+eynP2Xnsa+siXT0H2XCEW/xqnGhqmrZ2G/Z75QOJSJ3zFzihgrywaWpS97WJHWT4iXN6Zz0zVdf/eaNy6L/mBuKzCZegeHFU+vm/aTOxng76VWPkZIo84xEFa8gvryxfrPsOHjUk2/WclXryIb9h+VTa8zZ0MW8ulGrjmoZID5ge/UBi3mVXtkSzvl5vK8nveor0dGB4tU54iFeYf0pHKjBgTn8QJnSZCYw4UcdDbjzLmN8ehAL8apmvWay87PjahCJtdymNF649bZ+yvJp68FjUrWO+/v8yptL1LVgeZdXi6tI8CqGYInnh1tThav0srjS2EUmLLHAUguYXc+Y/aIxfTBg2Ybyw2QY5bfna0rvBThEh1lx/8EjfccgYsFSDGIOdgKxp/dKrMSrW/sOVte8YNFrxng7Xic72P0qUosrDcWrNOB3CkIARCS3u79pX1V6ueE1bVKX/3nxnXVj80qpYsUs921WlTMK8arQzeUk6Zn6vuVmpt+EIlLxCv/GkkEt1sHnkjN9KM4H8QoCn9v7izpF2ljs5JjetO87QL0fZrz4su8YPjpi6Tessbr1j34na7t4hX+379Ff9ZnrP/5UqtT21q9nhHiFZYSz5y5U77rXl68wpokl8Rav1uXsr/LHUkGvFldOsAvfV9nuUPkNK+quH3nssoYqPXbaM8XHiswoXkEQRB4/ZhtljLeTXvUYKYkyz0hU8QpAkGnRqqMnER/C3bsbd6j5QKsuvY1p7MClB65/9OSHI1o2h1VT+P2cRa+GXT0V7+tJj/pKdHSgeHWOuIhXlWrIqj0H1O4RcMJnSpOZGPvgg6qOsDWnKT49iIV4pZcFzH5pQdjOyA0Y3L36wVqVJ5zUm9I40b6Stu53t5wrFngRQ2BaCxPb9La40jhFJtQRlr7hWJ8hQ1x13nWat1OWUbs+/1KSG7VUx5z5RgrqB84S4VzfGQdnv3hRPPbUzIhelppYiVcYOGG3GDeijJfJTsv2XZU/lEgtrjQUr/zxWU65FAO0ryotVullXK59Z5UqI7meqqtEpCu732xOY8CtuKFxilc4hqWNOeamWvkUv7OqWkrm/F0wohGvQIGGVeTCXclq6WKRxu59jJ0P4hVwW7+ZVbzCe3vJ8lXKMTl21rPHwVcIllqs/Ghb1GMEp3iF/O59+FHfRxUvvrUyQrwCeP9iF2zk1W3gAGOaWBFP8apJscoqbzhnj9W4q/e1deXvC++U/UmD5OaS4Z/vyf9uosowKW/k73Q3ZEbxChzNlupA3xRnJ73qMVISYZ4BElm8ihS380BYzuLDKkS/SD8m123WVvZ+9YPyPVbN48cGt8RiXhuKeOefnuhA8eoc8RCvYIXwjjU4wZpZ7B5hSpOZuLVXfzXgWrzmI9WRmtLEm1g8hNgKGnmEMwP1Qrtbu6o8dx84aIx38tKrqV8DUkalnxWbWzEEwsziFevVvU5viyuNSWSCbxK8hDbtPySVXTj+x1difC22m1mb8o2E5+bMVfWD3TadcdhmHdutY8vasjW87dplJ1biVfMO3dTmD28u/cAYb8ftZAeTOwhX0VhcaShe+aMtp9w6Tte+qvQyQbsDbTe+s4pWLid5Pkqz3DKlMYFzRitegYLJt6T6WDpcQ65t535CGa14BdGuYM9USzec362PsPNGvLLaIKzTTHF2fMsG37Tq48aM9V/lBQhWEK6WrF5vHM9gRzD08bDOcsZ5wSleAZzv6Xmp/hdnvjjX9eQ2o8QrkDJiTLqM/+IpXr13WQ+VN3YVNMVHQulSleSTfwyVPy4co3a1M6Wx0/26RqoMW5MGuF5qGAmZVbz6M9tY5YvMFGcnveoxUhJhngGymngFsf/DXamboGGHbVMazZi7Jqprf3HBq8Z4N1x/S2VZvvVjOfrbf6V5p57GNNHg5XoiId75pzc6ULw6RzzEK4BdW/DCx1Kimg1bRGWJkdHAVBUmq3gI+t0+JiZfE7wSrXjVpddA9fslK9YY46MBLxTk3ax9aBPh8tXryYZPjsrHX3wrtRu3MqaJB27EkIy2uNKYRCa0t5nPpZrwYuAfrP1BqFK+Bv44I68u8xdsTPl6pXzNemrTgmDiFMoFE2PUYcrQOwLi3RIr8WrEvZPUNU9+JrzTSTeTnVhZXGkoXvmjxSQIJBBKTGnsmBy0e/FZdFXLCn6WW6Y0JpB/LMQrgF3utFjidue5qMWrcxQZb9X1iWTJMauBXFsmvLh0PohXRWrfoPLI/ZoL8ap2RWXBhvt3ee8antpQRoLlIKHEqTaduitfi8vWblATGFMaN5jEK4AlIB9s3aXGUz0H3e4XF4yMFK+q1mlsjWNPxH0lQbzEq4olK8nRpKHy8wWjpNF1sXXWDb9LKPN9BdsY4+1ULVFJTuQaqhzG331ly7iNozOjeNWgUCWVx57s4ccV6VWPkZAI8wxNVhOvqjdqITtOfC1bD58IKQxirr146QdqFUTPFHf9azDg5xl1eN+0J43x0eD2eiIl3vmnNzpQvDpHvMQrfKFatPhdlffOY1+odbfptUws1kAUGHdPqpKNARcm6On9MEQrXmECj9/f/VD0DrWdPDlzjsr7gYenGuM1WM629+sfZPXHn0rpyu4mX7EgnBiSCBZXmmAiE74iYKcNlBH+rOxxGiwRxFJBmPk6HRsGy9cLQ++6W1lThloWiOcC5zEtK3RLLMQrmEpjuYcbh5Mg3GQnlhZXGopXDmzL+Ar0D/2usO8yaD+ufBadE7Xsx03oZXteHLwD/CZW4hX418BUASTPe8nKj5cz3kmsxKuC5corn1uo7yKjqwbEO8ny4tWNpeXy+ZVT62uwizys9lpsWGp63L+8L1WTEtUTe4wDx+kYw4RaFoj33wfb9xqXFXohmHgF6lvvKu0jEX2rM95JRopXegMivPtadO5lTBML4iVeQbCCcLU/9xC5+frYijn9S9VzLboUtpiSN3XJG4SXpZf2kJrXh+93vJLZxCtYT72f5zaVhxvLuPSqx0hIhHmGJquJV/dNn6kEqTmvvxly/HljhWqyYtd+Ofj9r9K4TXQbYg0aOkLV4fy33jHGR4Pb64mUeOef3uhA8eoc8RKvAESBuYteU4MlnAPmpE/NmqsGAPiCVbpicqayyIKABXEA14JJ7MLF70n3gSOUKAOronh+AYlWvMLSqXjd58Gjxqq8n315oTFe07LTbcqfRnpPkkOJIdriCuVfuWmL1SYz1n9JKJEJOzNih0aTOIUJB/yIBBO3QuXrBojR2H3RjUN27Sjy9tHjjPHhiFa8Klu1tixauszTVr+hJjva4gp1e/fE2Pm904OrIeMnqE0uvOLFZ0wo9Pskw8UrixvbnRMDwizbsu8yGBDnYtdBLyKXE1W+GIpXahfABVVVvlc+XimsBU+sxCuAHRZz76yRmqaHNcAL8T6OVLzKvT1ZitSvqK7dK158gUUlXt1YOk1EfL+WcmxvTGcAApaywLLODXK/0kDy964o+epXlmJVyieMRRY+wj0+Y44rh+ywnEefMPeVN43xbgglXoE+AwfLwe9+VduyV04OvftdRopXQJ9/8Ji7jfGxIF7iVfuCdZXIsSn3QGN8NJS/uboqM5y3m+JNQHj57sJUZ+/g7XydpH/Bxkpkg5VYtONoLV59efFQaXJdZSlbtJxninpYjhfNfYNwNSl/O3V/DuYYpBzhm9KZiHc9RkIizDM0WUW8whwZO7RizondA7EDoymdRq9wiebjrwZ9N+pww779xvhI8Ho9Xol3/hmFDhSvzhFP8Qpg0tvutj4y/4131HkAJpUwwV6z56AybxxhTXJjsTVzvMHgD9YtD09/Rk3i9fXAmgidxbtrNsnkRx6TJi2j32HDSbTiFX4P4QgCkik+GnR7fMu6flO8Rqdz44MolgQTQyD4LHjtDd99PPT9r9I3ZbDfb9ObUCITvh5gh0YsC3z51cV+cRMeeVT9LtiywmjFKz2ZeeDRJ4zxdpq366p8dC35aGtEAkuk4hX6moHDRsiajw+pPgYC1k0V3ImRwSY79q2aAf6O1ctQD652HD2pdmf1yoxFkU8s7ejnMhHEK0z0laj0VU1lXWVK49xl0BmvfWflejX4O0UvL7xyovcv1kqkiKF4BXBNBRakikjhdgGMpXgFirWoqJy3X7izllxTO7ilQqTiFUTGXBtTr98r+Vq6F5EiFa+ublJa+a1Cm0HbK9DAo/hVqoxaQoi2pPJA+7DI/nFtuWRTDbUsNdekhkHbc3oB9wfbDn8p6/YekjJVQk+00Zdu3p3qLwTWWqY04QgnXhW7qaKMe+xJ4zJ3J4kiXkVjuRyOeIlXnQqmWketzh2fMb4WT0xxJmA5VLdQTZmVt5n8mGOk7/ewDsPyxs15BsqTBVpIixsiW+KoxSs4kz+SY5AcvDjFMy2uc38PIr1vcKK/4tKeSriC+Ne6eF1jumDEux4jIRHmGRrd/yxbvUY9v17BjtKmfNMb7MyKHVrRF99m8DXrJNLxswmM31GHsRSvvF6PV+Kdf0ahA8WrcyAP5OV2UBAN1WrWl7vGT5K3li2XDfsPy54vvlGTTJwfKumseQukTov2GfLFwCtYAjlk2CiZt+AVWbFzvzUB/dJnYQYLjWVr10uXvoNjtgQtM4hX4Sa/Ol0iiFe4L1gieOyXP5SPq1Fjx6v7h530GjQL778hXrgRmd5atUalGXbHOCWoYlc9bEscyqF7NOLVDeVryIpdn8iek99ZE5nWxjR28MKDcIX6bNPVu6NHfb8gEEMoRplDMfGxx2TBG2+pZSh49jBBu/ORx415B8M02alZv4ms37nL5+Pq2bkLVX/14Zr1rkWxUFC8MqMdscO6ymQJpEWUYL6qtC+iYOJWoZvKStLyakpcgHWMMz4cSpyIsXgFIBxduK6uEkDydwz+3oi1eAUgmGnxJtjSxcwiXsHyDtcbDiw51XWJa8eSQS8WVybgfw0WfxCrklZVUW1M1SvOAaz6zdflRilcOv3HONoH4H2Puesb9TLxSJddhBOvNK++975a3jH1mVlKNDOl8TpOpXiVRqKJV3Ywjh5zdR3lO2tfrhQ5lXOYEnN0ntvy9pJeBepIqetD9192Mkq8Wnxle3nssoZhWXxpOzmZY5j6DUQnLBn0YnFlIh71GAmJMM/Q6P4nUmIxv46WyrUaqxUPGNfe/+hjrubGsRSvME9CXcRKvIrkerwQ7/wzEh0oXp0jPcUrDSbc5arWkVqNWkrH2/qpHRFgqYFyYBKORhcr0Sc9uKFcdaler6k0a99VHpr6lPpiiWs59Mtf8tLbS2JiqYEOO5r79ObyVXG7zz0Hj1R5P/dK6IFiy1t7qk4lvSfJzs4cbQuCFYQr7eMKndw9D05R5Vv38aeqEzTlFW/ciExarMISVlgCajGrz5AhQZfhRiNeaQe+b3+wQvn/MKVxgiWDON+8V98yxodC3y/83i0Qrp546WXp3m+IsjBAH2PKOxjOyQ6eWQhXR7//yefjCssRV23ZriZ0M154OSAPr+jBFZcN+nNVs1TLqTzra0jRCoH3Ef6wIIgEXRZo8511lWEXv3z1KitRIWl1FSlU5paA+HAoESIO4hWEuoLtKqn8sZQPS/pM6eIhXkEEVJZDVlosYTTt9phZlg26xmpjBWbVUmIp2lysdwwsdMstqq1d3aKKFL3bqttzFoXZj1n3d2b9oPc3HmByCx+A+Djjtt+oVreJbD/ypcVJ62//ZepucCteVa5ZX9bv2BXS8jlRxKvMuGxQi1fxWDZYpng5lbeXZYPBuKl4eUkuXlk6XVdPZl3eSuWJvP+64E7Zkru/WqJo+p2TjFo26BbsKvh+Umd5sFBraVCsesx3DIxVPUZCIswzNLr/mfjMs6o8XqnRsIUx3/QCc5CV2/aqOYkXX7yVkhvK5kOfx0S8aty2rarDWIhXkV6PW+Kdf0ajQ5YQr9yu/Q1FRohXJuBHB0ui9liTcjS+0XffZ0yXGcDXw44DBsv6Tw6nWmps3By1pUa04tXjz6buVnfPpNh/OcROFMg7nCPF+i3byyff/CRr9hxIV99SdvEquWkr1bGhjWHJoL2Dw6D+lfdXqmuBH6yM6Pzcikx3T04V2iDaoI2F8+0UjXi14P3l6muaG8e6duC0Heds7HEZrb5fu45/Ld0HDFSTHxMtOt4qL7/+ljoH/H1Fc7/skx1tcWWaTGEJDfxfIe3dEydH5QhSD65wblN8eqHfJ4kiXqllge+l+h/CxN8Zr8QbK86+y6CTGzpUUEKBaddB+CNC3OVjvS3T0CjhIx7i1TngPB3CG5ypw6m6Mz4e4hWw1zv8PznjIxWvAP42pYklWrzKO7GelKhj/TsIxUdUkexHa6qlkkUax9cSwY8bS6t2CSs0dX/X1DDe33gwatJkZd30wJTwy77tPDdnruobxt7v3QGzW/EK4N0C/yTBLJ8zUrxCH7/ko53qPZsZHbY3KZQsv1w4Oi4O27tdU1mV2Y3Ddq9A1OlzTQ35LGm4nLXO8UnSULm5ZPjya/EK4G9Tmlii79uj+RtIh3wVgnJP0RbyR/Y75dvst0vjIuk3/o20HiMhEeYZmkQZX0WCz4LIGnd73f38porVZeXuT2LisF3vHhmtw/ZorscN8c4/EdAhU4tX2vG127W/oVj49rsqr3iYeXoFg4TWt3ZXSwix5ChSXwuJQuVaDX2WGjDBN6VxS7TiFZY44vevvfO+MT4asC0u8m7dPbS4UbVWI9n62QnZZU3+a9ZPv68aWgz5+ItvZemHK5ToA3EKztqdaXEMnSCuZ9bceUGXMcQLtyITyrVg+QqVFiJpuWqh/eS4zdcJJhXoHyBgmeJDkTL0DlXXL7++2JP5rl1sDPflCL7ysAsjru2Zmc9GbCas6wdtGcIV/LCMf2CK8f536NZHLWk88O3P0rF7n4B4t1C8Cg6WXUGIgMWK/TisVZTFjEGU8uPG0qmWLlZaZxwcaiPvElUjW6qB38ZTvLq2THnJMSt1F0D83xkfL/EKXFOrkq/e/m+of5+SWcSrcD6v1LLR6fVUWiwxDCWCxoOCVctIjnWpAmW4XTVjAd5pa3fuU9uGY/twU5pgwNWDcnx79Ljn3aK9iFcA/kkw7luze79UdCx/z0jxqrxVlg2Hjik/rdhoyJQmFsRLvKpRtJKyQsJSMljkmNJEyqxLOqkyT7/UfX/olaolqsqhnEPUMrh7rgi/iiGjxKtw963Y9eVkVoHWKu3epCGen6do8VqPkZAI8wxNZhWvIN5j9Qf6wtHj7vUsxGDVwVsrVquPFbf2GGBM4xYIhahDCIemeDdEez3hiHf+iYIOmVq8qteivTV5+lE+3LFfSpWNfOmI3gIYeSFPU5qMYMqTz6gH5sFHpxnjMxOdu/VW1/Lemo3GeLdEK17hRYmlmRiIYkBqShMJVWs3UuXC4NYUbwdCwOI1HylBo2c6OtLTYgjKCRavWG8UrjQ1G7aQnce+UJ3hoOGjjWnihReRCTsObtx9QFr37m+Mt+MlXw0c6r77QaolWjTs+OIbSW7SyngOE17EK2C/X7f2j8zhvq4f8NlPfyrhypROM+6ByT7Ltzr1I5vQULwKjhapIKTYl3MpUSvIckAnRSal7lxoX14IwQrHIGDZ03oBv4+neAUgqPh2TRxexW/5XDzFK3BtoyqSfXcttXSxSIM0YSeriFeanC+k1m/SM/Wl0M3p6xujVIvy6txe2lGkdOszSH2A0P1bpIye/LCn3aG9ilf48IAPEPjNosXv+k1CMlK8woZDeLd8sGl7XCdG8RKvUK/r8gxQeY8uGLsPwvCftCf3IOVbqk0h77u2egGWQyj/+rzhP7Inqnil2Z00SKVfmtRbSpRI337HSz1GQiLMMzSZTbyC8QZ2FMeYEh9H73nw4Yg/xmrRCS55TPFuUOP/Vevk6G//leadvPuujeX1mIh3/omGDplavKpSq6FsPXRc+SOAXwJTGjeUt/LZ+NnnKi/kaUqTEXTolaIevFc+XGuMz0xAsMG1YPBjindLtOIVeOb5l1QeWApgivcKOorZLy1QebpdVqB9IWFJmSk+HtjFq2AWV3YwQO/Rb4B6AaNTdCMOxQovIhPKCQHLFOfES76aOk3byMcnv1f+tTAQiIRlW7YpK6bJHoRor+IV6qHvsGHq+lDWSHb71PUDgllc2UHb18tPl27aKbdUr2dMFwrUD86X0YOrRBSvAPwRYYKPpVb4N/ww5X67ZlBH7E6uallBCWD2XQexVBB5YumgPa0XvIoOkYhXAMIRBCQISRCU9PF4i1cQyiCY4Xd2y6SsJl4VqlFOcm2prnxQFR8ZP1HCCCwD0Y4MloGxZum6jer5dvbNbnlhyXtq/LJuzydSNsy70w5+i/O6Fa8AxCG8o9Gv2h3uZqR49c7adSqvO8eNN8bHiniJV2B40SYq7+PZhxjjI6FjsXrynwtGy/6kQXJzyfg+31j6hvLDX5Qp3k6ii1fJxapYZRuqfFDdWzh9/Sp5qcdISYR5BtD9T0aPr9wC36qfnPxGzTm69RkclRBT2xq749ohJEZq4VejXnPZeewr2Xb4C6lW27vvrFhej4l4559o6JCpxSvcpDdWrFdf03r2j3w7z5a33qYGJcgrkW68b1nk6uislRIF+HHA9Zji3BIL8aphi/by6Tc/KUuY+q2it7TTjsPRwdWs5/6L3uadH6trGfPQFM+OtSNBiyE7jp2U6vXdl3PCg4/I4V/+Vp13XQ+WQ9EQicjkhkjyfXTmTPWbYXdEtpMQgC87vFzwDIQTDTVexSvNvdOmq69EWKpb2jqvKU0wdP14WduP61mybrP63ZyXX/f8VT5RBleJKl5d2f1mZWWV9HQ9Jaj4xBObGBWKopXLSZ6PqvvELjhnh5N2iEH56kQ+qVGiQzqIVwBL97QFmt4JL97ilUYvXdSWSVlNvAI3tE3dHAC/u7pJbB22hyPYstZY0rVP6rP9wsLIdyaFkP/qB2s9jzcjEa8A/JdgGQgmXp16pzoZzwjxCl/24YcV+UDAMqWJJfEUr8Chi1JU/lOuaCqFS0U33i9xQwVZk9QtNb9/ps+qjT+zjVFL3kxxdhJdvALd89VQAhJ+1+naMEvgY4zbeoyURJlnZBbxCv1rypg71cdy+FPtnRL5nN6OFt29WsxqIBTi9/NffcOTPhCv69HEO/9ERYdMLV6BWFiwvPLmEpUH8jLFRwomcfWbRG6ePHjUWFWuZ2Y8b4xPb3AtkZqLY9cyXMumbbuM8W6JhXiFZaLPvbhAWcK8tXJVVGvu8Vu9y92djzzuSYTq0LWPGphit7xGLdoZ07gFPpnC7eYYqRhS4pYqMu+td2NSX26JRGRyg9d8ITrhHmHnzHBWSOF44NEn1LkfmjbdGO8k0vt1Y7nqsnz1uoh2A4x0sgPfLDBbdloKuIHiVWggOEF40mJT2F0GnTh2HcxX/9wug+fEMONvXJCe4hX416hUUeZfr1dXTtXTS7yCM3E4FdeWSVlRvAJwTg8R6cK1dZXPL1MaE3D+btqV0Q1qWazHduQV9NtvfrhO9ePN23U1pnFLu1u7qj7i/Y82G+NNRCpeAfgxweREW9JmhHiFL/vwa4gyNGwXneNjN8RbvOqWr64STH7OPlralvBuKazBO+6Ff3VVZYWA5Xa3vGq3JCvRyxQXDuyQh/N9kW2kMd5OZhCvwIT8bZWIdCRpiFQp4b6c6VWPkZIo84zMIl7B0h+uKiDEtGwfXT9tRy933vLpUani0XIK/qbx0Rl9cK163t5R8boeTbzzT1R0yPTiFdAP9V2PT/M0wcQXpdtH3aV+izxMaaJh4NCRcuDkV8pyBQKAKU0wIBKpXQOsyWDHzj2MadITPLhbD36mfDA4nYiGA/X8xMwXPC+bMhEL8QrgZbB+y1ZVpkVLl6nt/03pQnFLxZrqtxAJ8H9TmlBg8DNj9gs+n0ENm7X1/GUAeXTvO0jtULRyw4aQuxdGKoYA9fK0XsCoLwhZXtuzV7yKTG7xki8GCI/PmBOTjQZAraatZc/J72TjwaNSvmb4QXM09wtCJl5q6lrHT1TPoCmdk2gmO41btpfdx0+qgQKcDpvSmKB4FZpC1jOe9HqqsHBNm8qpoo1HSxW96+CVE6vKP8emCgaXjQq9uUE4vIoO0YpXEEjyLqjqu470Eq8ARBYsXVTnHmFddxYUr+z1W2B2dVeCVIEGVr2ubajSexG8AIRTCKg4n3NDgljSpE1nNQFZ8tFWtZOuKY0X9Jf8bgPdOQGORrwC/YberiYpa7fvkJffeUfllR7iVbHSlSXlzrFq4ob6Gzgsffxexlu8sotOsL5pU7yuFDakCwXymJS/nRJdTmUfKXULu+uH6txUXZ0TYpcXoQbASuyZc47OZ10e3gI+s4hXEKA+uLSX+i3qxY0glZ71GA2JMM9IdPGqZJmqMn32fFVH2CQo1huUYS798rnd050+BEOBnfE/XLNe1Xu4XcztxPt64p1/oqNDlhCvGrZopyZqeMFDwDKlMdH/9uHyyVffqd8iD1MaE9jlAR1BOB9AXXoPVC99LLlaumK160aGhwvbXOJhwzIcvChN6TQYkHUdOlyVKRKfM26AYKV3n/to30HpPdi9Q2j95Q7Lztz6JgpGrMQrULN+E/Xwo3PCEisvPoKQ9sONm30vFLxgTOnCgXutfQbB2fawke7X4OO+z3zuefVFGQPMvimDQ4q30YghAEsGcQ/RniHImtLECj3ozkjxqmzN+rL+02NR+9TT4Evc2x+scC2GRXu/9G6AWA8Ph46mNE50/UQy2bF/DICYCmtAUzonFK/CAysrTPKV8/JDLnYZdKJ3HYTgA6y/I7WW0aA86SleAWVxdW6ZmcIqgymdk2jFK5C/o5UHzrm/jrJiy2riFfDVr/X7f46uo4RTUzqNb1dGKz0stgq29TCR7FVesh+22gMc4teJ/L6EY/JzL6jnOlaW9Z17D1BLB92KYdGKV3inP/XcXPXeOPDdLyqveItX6Lvf/XCVHPrlL9WXYyxrShcP4i1eAQgkz+RPFbB+vnCUjCvifrOR0qUqyltX9FTClRK/StR1/dERQsu2vKlCDSyNhl3pXszoUaKp/Jb9Tvky1wipdX14q9vMIl6BCkUr+uoFwmK4OU961mO0ZPQ8I5HFK4h7L8x/VY78+l/1cRx1ZUoXLZgX65UBcxe9qnbnNqXToFzz331P1TsELAhZpnRO4n096VVfiYwOWUK8AljvibXAUCPxZQymgnDEXsK62ToNJo84BtNx+D7AAw3hyusXJd0ZuJnkoPNZuWmr8kEDi4QZL74szdp1kaq1GsmNFar5XnoYoFSs0UDa39pDXl6Zakm2ctte5ffAmacTPcnFb2Ih6gQDD/ycBYuUWIJzwQFq935DrAeohdxSpZbvhQOLlVsq1VJrvifNSN01J1Zf7mIpXgFYqHywap3qDHB/pj7/vDRtc6uUrVbb7wWKv3EMcUiDtBjYvbj4HdWh2PP0CgQs7C6k6xXtFwNkZ/tFW0GbwTbVED/QGSM9ttRu0SG82Wi0YgiAYIt7ifPCmXska8jd4EVk8oKXfFNGjFEvu1g53ASYFGDiAyE4nJVotPcLbRZL+HANWPboRtiOdLJjZ/yT09Xz9NGnR6VycviddnR/esfkh9V1RopbX2LBSGTxCmixRi//M6UJhd51EOBvUxovqLzSWbwCBRpWkQt3JfuuxZTGSSzEKwg5l45MdZ4PvIpXubcnS7FmldS/I6XQTeZz2IlGvAJ6l0W0t/ydw1tEQfD657xKvvaJHSyxEUC+epWlSLnUelNpS5WRIhXKydUtqkjRB6ql1qP1G/gzc+YZK7A7Fz7sxHJjFPQza3fuU+9BWHWZ0tjR/Vuk4hXAGOP15SvU+BZ5eRWv4Gze1GcCjCfgT6dZ+64ycsJ9smztevXOOPTDb7LMGuN5mWzHAi2CTL68sRJdvFKlSEUp6mIJHwQsCCU/5hipzrf1ov7SK189qVG8kpS8Pk1kxhindPFy0qBYNbn3igbyVbY7VPp9OVKkaXHvbRfi17uX91BLF5HP9lyDpH/BxpJcvLKUL1o+bRxtUeb6itKkRA1lIYS0KGtKUXfnRF1AuDqVfbi0L1AjoJ684GY3wGhFRyzhxFJO1Eufa8Kv7kiveowFGTnPSFTxClZoEORQtg379ksraw6DfsgLXj4qY2XLR/sPqfO9v2GTtLv1NlXXOh4fX8snN1DawcYdO31iYzh3LJp4X09611eiokOWEa9A3SatU1/w1s3FQ48dBJdZk0RMRsCSTbvUMS0SYKmgF4srjRfxCpSulCxDxt2lJpD43eGf/iNbPzshK3btl3c2pJbtvc27ZdOnn6s4TG7nzH/VlXAFMABJD/EKFLcm3G269JA3l7yvzodBzq7PT8nafQdlycYd6lretf6/9uNDsv+rH9VgC47J23TuZczPK8g/1td5Q9lqMnjsOJ8Y9Nn3v8r6Tz7zXQ/A3ziGOKSB+NCl72BlWm/K0yt4aaFe9ZIEtAFn+0VbQZvZdvyU6ljRxsc//LjrZZy6nUQjXoFBw0erc8NSDC8EU5poSQTxauv+A2riE8utjsGC95erMoRzAB+L+wVhFNabON+iD9eEtRSIhXiF5+nld5aqZ//VZR+EHXTp/nTv1z/4rjcS3PoSC0aii1dqqRzEAZe7DDrRuw4C/G1K4wUlPmSAeAURpGDPcqnntzCmcRAL8UpxY2m58vFKKi+v4hVERwhY+DsiVtRSgpDpHHaiFa/suyzm3l1TLZk0pfPDqhcsaVWWgdbvAPyq/WNtNUn6oLqqq1zvV5V/rLfKZhe5OkZWRrc8O3e+GqOkDL3DGB8poyZNVn2FGwfwsRCvQPX6TWWTNSZAXl7FK7yvTX0mwHgCFl1Io9NC7GrTqbvrJTaxRIsgP18wymc55IVtOXspAcuUtxOMu9oVqqGEK5wT1lRf5hoqu/6RIptyD1Rs/sdA+SRnivyQY4ScPSd8TLymqbIWMuXpBvjHgu8tfV5wKucwOXzxINmaJ/XcWywO/mOIT1w7bJWrQ3H3whBEJ9RH6tLG4QH15JbPLhokja4Lb+kbrXiF5XzjirZQeXyb/XZpdG14K9X0qMdYkVHzjEQVrybNek7NY3Sfgz7IK0++tMCYtwmI0Fj5s2D5CvVOOGydE3Xtq/uPdsqGQ8d8/eDE6TOVYGTKy0S8rye96ytR0SFLiVcaONV86dU3Zc2eA7Lp8Im0F7X1N44hrlOv3sbfumH0w1NVY390treGAOGn44DB8twrr8uHu/bLhk+O+g0iIEw8/+obrpfbaGBRMfutZapM9Vp1MqaJB9iGdPIzM5QouG7fZ37Xsnb/IbV7Y6yd4KPO43WdGKiNGHOPvP3+h7Ju7yF1HbuOf61258PfK3d/IrNfe1PdQ9xLUx6xwNl+t1rn322VQ9fr0g1bZfIjjyln4qbfB0O3ExDN8lJc+xMzn1f3Yer0+GwmAAsv5N/n9tg61HSbL55BpMOzboqPhuatO8lbazbJEy8s9Pvq5iRW9wvi5kvvfKDO2a5raBFZ10+01422+ebyVSqvcBaXuj+NljETHzTm7xb0KcjHa7+eXsBZe+53a8plz0Y2ocQufVcsqiZXLKgqRStEv3xNCRLT3LdLnP/yudVU+aNdsgiKja7qWkDCbnpIW7BH9Netr+P/nnJ3H3R6VV/R8GpNV36ldL3gmk3xbsG9RT7/N8OapN/ofgfCIrVvkMvvridJH1STPBuq+wlw/1hXXflvc73ZQBTAQmrOG0ui7j9NQJDX/Vs4cV73b7HwTaL7Z7fjH50+HG8u/UAef/Z5GTJslOdxRax5KG8Tn3AUCe9ccltEwlLzm2rLG5d1lb15hsrxHEPly4uHyte5UkUfJYYkDZBJeRtLmeLhrZC80KBQJZl1SSfZnjRQPsvtLxzhvJvzDFTnNf02FKgD1IWpjrywOnc/qVMo/LIpfd+wg6Ap3i1PFWip8nnpn11cO8EH8arHWJPe8wzd/6AvMMVnFLEY90UyTsWYu33fAar+N35yRLYc/VL2nPjGN7/C3KtxBNam8b6ejKqvREOHLCleaeC8umKdxspqQWH9HcqhdXoCC4jy1oDKVzYL+zLCzASWY5a1Bor2a7nFYQ6bmYD5aJnKqddTs2FLqV6/mfr7porVPe3yES26/Va1zl+rYQtfvRaPo3BGCElMYBEDi6WIhR/r3VL4llTwtzENITEC7bVoxXJ+yx6LlC+XtoyQkATkxhsqSdVilaRG0UpSu0QVZcGEZWhehJRIwFLH8tf7L9ezL38j7sgs9Zgo84zzFbVMsFpdqVy3iTW/aumbX5nSksRBhywtXhFCCCGEEEIIIYSQzIkOFK8IIYQQQgghhBBCSMKhA8UrQgghhBBCCCGEEJJw6EDxihBCCCGEEEIIIYQkHDpQvCKEEEIIIYQQQgghCYcOFK8IIYQQQgghhBBCSMKhA8UrQgghhBBCCCGEEJJw6EDxihBCCCGEEEIIIYQkHDpQvCKEEEIIIYQQQgghCYcOFK8IIYQQQgghhBBCSMKhA8UrQgghhBBCCCGEEJJw6EDxihBCCCGEEEIIIYQkHDpQvCKEEEIIIYQQQgghCYcOFK8IIYQQQgghhBBCSMKhA8UrQgghhBBCCCGEEJJw6EDxihBCCCGEEEIIIYQkHDpQvCKEEEIIIYQQQgghCYcOFK8IIYQQQgghhBBCSMKhA8UrQgghhBBCCCGEEJJw6EDxihBCCCGEEEIIIYQkHDpQvCKEEEIIIYQQQgghCYcOFK8IIYQQQgghhBBCSMKhA8UrQgghhBBCCCGEEJJw6EDxihBCCCGEEEIIIYQkHDpQvCKEEEIIIYQQQgghCYcOFK8IIYQQQgghhBBCSMKhA8UrQgghhBBCCCGEEJJw6EDxihBCCCGEEEIIIYQkHDpQvCKEEEIIIYQQQgghCYcOFK8IIYQQQgghhBBCSMKhA8UrQgghhBBCCCGEEJJw6EDxihBCCCGEEEIIIYQkHDpQvCKEEEIIIYQQQgghCYcOFK8IIYQQQgghhBBCSMKhA8UrQgghhBBCCCGEEJJw6EDxihBCCCGEEEIIIYQkHDpQvCKEEEIIIYQQQgghCYcOFK8IIYQQQgghhBBCSMKhA8UrQgghhBBCCCGEEJJw6EDxihBCCCGEEEIIIYQkHDpQvCKEEEIIIYQQQgghCYcOFK8IIYQQQgghhBBCSMKhA8UrQgghhBBCCCGEEJJw6EDxihBCCCGEEEIIIYQkHDpQvCKEEEIIIYQQQgghCYcOFK8IIYQQQgghhBBCSMKhA8UrQgghhBBCCCGEEJJw6EDxihBCCCGEEEIIIYQkHDpQvCKEEEIIIYQQQgghCYcOFK8IIYQQQgghhBBCSMKhA8UrQgghhBBCCCGEEJJw6EDxihBCCCGEEEIIIYQkHDpQvCKEEEIIIYQQQgghCYcOFK8IIYQQQgghhBBCSMKhA8UrQgghhBBCCCGEEJJw6EDxihBCCCGEEEIIIYQkHDpQvCKEEEIIIYQQQgghCYcOFK8IIYQQQgghhBBCSMKhA8UrQgghhBBCCCGEEJJw6EDxihBCCCGEEEIIIYQkHDpQvCKEEEIIIYQQQgghCYcOFK8IIYQQQgghhBBCSMKhA8UrEjNKlSgnZYuWk+pFKinqFasmzQvWDkty8coqfZUiFdXvbypWzpg/IYQQQgghhBBCzh90oHhFPFO4RBlpWqCc9C5RR8ZfV19ez91TNuQeIB/nSpGDF6fIFxcNTSXHcNmbbVhYjuYcpNJ/ftEQ9fv9OVNkU+6B8nLuHvJIgeYy+MoaklykvLEshBBCCCGEEEIIyZroQPGKBKVoybLKGqplwToyIH99mX5pE9mSfYASmw5fPEh2JKXIm7l7yezLOsuYq+sokalDvgpSpnhkllOwuMLvu11TWYliEK9W5+6vRDEIWxDD1uS9TeZf0kr65qsvTQolS8Vi5aW4VU5TfoQQQgghhBBCCMm86EDxigQA8WjWJZ1ke1KqaLQ9x0B589J2MuGKhkrIwjK/8kXTTzTCckSIaFiG2L5gPRlboIm8ne9W+fTCYXIkx2DZmNRfWWjBGgxWYaY8CCGEEEIIIYQQkrnQgeLVeQ4EqFqFq0iXa2rL7IIdZG+efnLwH0Plrdy9ZEyhOgm/XK/RteVlQt5GykILQhYErecvayXtr60jNYpXUtZjpt8RQgghhBBCCCEksdGB4tV5Cpb2QfSB1dKx7EPVcrx7r2ggDYpVkzLXV5TCht8kOlhCiKWE469srJY3fplrmLyb1EuGFa3DpYWEEEIIIYQQQkgmQweKV+cRN5csLy0L1VIWVofzpPiW20XqoyrRgZg1tlgD2ZdrkBy4INUiq1nR6lK6VEVjekIIIYQQQgghhCQOOlC8Og+AWPN03ltlf9JgWf+v7jKpUGtlYXW+WCPdVLy8NLouWSZe01T25eknO/8xSFmdZVXRjhBCCCGEEEIIyQroQPEqiwJhqlGRajLj0hayP/sw2ZC7n/S5pgaXz1kML9pEtuccIIfzDFKCVoPratI3FiGEEEIIIYQQkmDoQPEqC9KkWGVZcWlP+TLHcJmbp400LJwsxa6nlZGdm4qVU0sIF17dXk5ecLvyjQXn76a0hBBCCCGEEEIISX90oHiVRShcooxPjDmRa5hMz9+Ky+JcUq1gOXk9T2c5nn2YEvtoiUUIIYQQQgghhGQ8OlC8ygJo8eVkjtvlkStaS9USlTLlboEZCcS/etdVUcsstSUWxT9CCCGEEEIIISTj0IHiVSamTLGKcn+h1rL/gqFc9hZDkgtXUMsu4RPrjqsaSIWi3J2QEEIIIYQQQghJb3SgeJUJgZXQ4CK1ZX/OwbI8qQuXucUBOLZvV6iGbLqon+zLMUjaXptsTEcIIYQQQgghhJD4oAPFq0xEoZJlpUqJSjI/Txs5ctEQGVa0DncPTAcm520sx3INkblXt5VqhWiFRQghhBBCCCGEpAc6ULzKRAz/dy05ShEl3YH/MPgR06IhrN5g/WZKSwghhBBCCCGEkNigA8WrTECNQhVl3tVt5dNcg2XQv7l8LaPQyzUPXjRY7UoIKzhTOkIIIYQQQgghhESPDhSvEpyUonXk2EVD5OU8bZVYgqWDpnQk/fCJiUmD6QuLEEIIIYQQQgiJEzpQvEpQbipWTh66opWcyD6My9QSlCl5m8qJC2+XCUVaSsmS3OmREEIIIYQQQgiJJTpQvEpAKhStKGty95DVOftJ40LVjGlIxgNfWE3yV5ON/7pNluXuI8WL3mJMRwghhBBCCCGEEO/oQPEqgaAYkjnRYuPunAOkbnGKjYQQQgghhBBCSCzQgeJVAtH52lpy7MJhXIaWCdHLPA/nGq78lJnSEEIIIYQQQgghxD06ULxKAEqUKCf3Fm4hX194hxKwTGlI4qN3IzycZ5AMvao+/ZQRQgghhBBCCCFRoAPFqwTg2Xyt5dgFt6slg1g6aEpDMg8ditdSFlgPX9qWAhYhhBBCCCGEEBIhOlC8ykBKlSgnz+dvLTsv7SdVSlQypiGZkxY3JMuxi4bIo1e0kuIlzWkIIYQQQgghhBASHB0oXmUQcMb+Qa7eyjk7hausSa3ClWRXzgEy97JOFLAIIYQQQgghhBCP6EDxKgMoXaS8rMjRV9b9X2+1U50pDckalCleTglYtMAihBBCCCGEEEK8oQPFqwwAwtUbV3eX0qUoXJ0PVClGCyxCCCGEEEIIIcQrOlC8SkdKlix/Xvi4gtP5xoVqSqeC9eTm4ubrvKlYOalXrJq0t9IA/B0LMQ+WbDgvaFIocOdGOFCvVbiK77z4O5hT9TLFKqpymeK8QgssQgghhBBCCCHEGzpQvEpHIFydDz6uOl9bS3648A6rdd2tRCRnfKP81WR7zgHyXY6RcjrbXQr8vfMfg6TttckB6d0CQWxN7h7qvGBT7oF+8RCNZl/aUU5lv12+yHaHAn/jmElQWp2zn9x7TZOA45ECH1jKiful7bgLISGEEEIIIYQQEgYdKF6lA8WuLyf3FG0hn+YanOUtriBc/ZltjE9AcopXEK6+yjZKTmcbJ/v+MVhez91TXs7dQzYm9bd+N079NlIBa+hV9VUex7MPMYpXw/9VT37PdqcMLlJbiUdgaKFa6hjidDpcx+S8jWVfjkEx90mGXQgP5xquymqKJ4QQQgghhBBCSCo6ULxKB7oXrC2fZR+uhJtCWXjJmLa4+jLXCIVTvIJlFCyuIFxNvaKV3zJBWD6NubypEp9ggeV1CSFEoR9zjJRteXvJkGsaGcWrPdlT5P2kLn7HIGDhGOL0sbqFasrX1nVEYwUWig7Fa8nhPIMkpWgdYzwhhBBCCCGEEEIoXqULEKraXQsh5HYl7JjSZBWSi5SX37ONVqIVhCQIR07xCv6jsDzw6MVDpJLBogkC1opLeyoBq/217oWdm4pVkO05BshvF4yWNvmqq3OaxCsce+yyhn7HAI5BUMPfKMPypC7y1D9bBKSLJbD+ggVW06LVjfGEEEIIIYQQQsj5jg4Ur+IIlghiqeC4Is3VUjRTmqwCrKruvaaxsirCv03iFRykw7/VltwpQeujf6lU4en5y1oZ401AaEK+M/O3kqIlywYVr7BccfGV7f2OARz7IttI9feUf7aX/TkHK2ftznSxBBZf91zeTA5cNFA5czelIYQQQgghhBBCzmd0oHgVJyDmrEzqKi9c09YYn9UJJV7tTEqREiXNgk23ayqr363P28MY7wRL+/7INkbW5uzvOxZMvLq/UGv53UrbPH8N5YcMdCoIn1djVFyjQlXlePZh0uPq9LGGgpXXu5f3kA9y9ZZSJShgEUIIIYQQQgghdnSgeBUHYFUz/5KOaikblrQ542GRBbKyxY1JvKpVuIra3e/H7KOVgGRPD+Dnat3/9Va/w9JBZ7wTOFOHU/VvrDwhPOnjwcQr3IsVOfqq82/PPUiBv3EMcRDA5uZpo+6f/XfxBNeMHSgnFGlpjCeEEEIIIYQQQs5XdKB4FQf6XNNATmQfJo2uLR8QB4usNUnd1BI27LLnjM8qmMQriEKPXtpOHcf1TyrUWloWrCPNC9aWfvnry+a8PZWQhHhgz88J8pqXp43yVQX/Ufa4YOKVpmeBKjL7ss4K/K13F9S7QcIiq2bJKtKkULJUvr6yMY9Y0iR/NTl24TDlHy0rO/QnhBBCCCGEEEK8oAPFqxgDayoIVxCwnHFYJrbokk4+cWZ17rSlblkNk3gFUAcQnWBZdTbbXfJHtrHyuwWWE869uq2ULlJe/Q7ilv13TiBYIY+FedoGWEqFE6+c6N0FB/07Wcpa929J7j5yMmm4/HLhGDmWe7jyg4Vym34bCyCejSnS1CeemdIQQgghhBBCCCHnGzpQvIoh8FsE/0UQqExix9Cr6ivBRYtXbsWVWNK7RB21M6ApLhxaFHJisiALJl5psCPhIwWaKwFPW0DheO0SldTv9ucYHPAbTfUSVdWuhti5sG+BBspyy87YK1upPD7ONUT9G+JUMAfxuE/YXRDC2fXFy8qynL3l06TB0qRYZRU3rGgd+THbGEn5V13j72PJPKsMLxvEOEIIIYQQQggh5HxEB4pXMWTcv+sp/0VYGuiM656vhvyYY6QSVTT7c6YY08aTWZd0kjGF6hjjwlG3cFV5LU/bAIYXbRKQNpx4FYyxxRqo380p2NEYDzpaecJqC9ZasNpyogVCHb8zxwApHaSeIU4duWiIVCtUURpdlyw/XzA64HoWXt1N9mRP8TsWD2pYZThmlcW5DJIQQgghhBBCCDkf0YHiVYxILlxBDl0wTNrkC9yprlzRCvJpzqFKULFz8OIUKVs0vHgVK4EL/pQW5+4lb1qY4mNJJOIVLJ825+wrf184VjrlTzamAU0K1VL5B2N/rtS6/iX7GPXv1/6vq7EOaxarKsdzDfeJRdqyzJku2PF4gLIcvGiwErJM8YQQQgghhBBCyPmCDhSvYgCEkfWX9JKZ+VtJUcNyQSxJgxUQBBA7n180RKoUCRQpkJ8WW4oXvUUGXxm4M18k3FysrOzPkZIuFl8QjXCNJvEK1k6mZZVj/1VX/rpgrOxPGiw3l4xsaSPQYhPKYIrXYJne61d38y3Tg/N4WG05d4EcmL9BWB9csQJlwY6HKJspnhBCCCGEEEIIOV/QgeJVDIBz9n25BimhyX4clk5wAm4XrOx8cdFQqV4k0EF3vWLVFPi72zWVlW8oZ5pIqFG0knx58TAF/tZ+puJBMPGq24111XHsuNjlmlQfVRCNpv+zpTqOpZUpRf2XNT6bp5UczTZCUq6s5Xc8GOHEK9yX0UWaytFcQ/wcpFe1/j5mHZtyeWOfCAmRbUVSF3n56na+dPEGZULZ3F4vIYQQQgghhBCSFdGB4lWUwErnYPZBclvBwN0FIUJgBzkIKSZO5RwuycUrB/zurivqSZuCqQIOfFSZHKJHQpNCyWoHPdAqfw1577KexnSxIJh4VbpURXnj6u5yOts4n08q7DgIH1bfZh8hXa4LXC4I4Qp5ua2HcOKVFocgYEHI0sf1rn+/XTBa3k3qJROLNJQVl/ZU97BO8VQxMT1AmR7M21j25RgkFYpy+SAhhBBCCCGEkPMTHSheRQGsc7BUEAKHcxkcln/Ny9NGiSjBgHADyyP778DiS9spAQZiypbcKTETr7pcW1eJRjg3nJB/nCtF7ZBoShstsy/vqsQj+KdyxqFuelxdXfneQhrsOAjrMudyPc2wK2vLity9pdG17pYSap9YKIMpvkGhSjLy38GtmrDT4BuXdZUNuQfIkwVaBC1XvNl0UT+546pAUZQQQgghhBBCCDkf0IHiVRQ0uK6mnLzgduWs3RkHcUbveheMYOLV/hyDlXhVqWhFOXrxECXuONNEwoN5G/rOjbIF87lFEoN2hWrI4TyDMkw8I4QQQgghhBBCMhIdKF5FwYKru8pT/2wRcLxMsYrG3QVNOJfVwYILx8dc1UD5vfoux8igy9+8Aosu+7lPZb9dahWOn98rEh1oC2/l6aKWMJo2AiCEEEIIIYQQQrIyOlC8ipDu+WrIoVzDpFqJqgFx91zRwLi7oAnsZGf/bYsCFdTxxy5rqByaI59oxSss0wOw6LKfO5jlF0kcqhUsp6z7YOVniieEEEIIIYQQQrIqOlC8ioDri5eVzTn7yrT/ax8QBwfbX2Ub5ScShQIilf33vUvUUcfhL2thnrbq72h9U429ppG0vzY1XyfDCzSRttcGOkkniQOs+2DlZ4ojhBBCCCGEEEKyKjpQvIqAdvlqyOELhstNxfwFJVg3vZ6nc4BAFAqneDX+uvrqOHxSaefqBy9OkbJFIxOv4C/pxxwjZeHV7f3Oq0FcrBzCk/gA6z5Y+bW4gSIjIYQQQgghhJDzBx0oXnkEAtXypC5qaaAzrt51VeSb7LcHCESheC1PW788ICQ502jxCn6PvPo+eqpAq4D8nGBHQ+xsqH8D6zF7HiTjeTrvrbIkdx8pdj2dtxNCCCGEEEIIOT/QgeKVR1qVqinHcg03+rqacWkLOevS15XGKV5hZ0FnGr0rIPweefV9BH9ZzvycHMiRIqVtVmSw/rLnQTKeisXKy8nsI6RhYVpfEUIIIYQQQgg5P9CB4pUHYPUC6xdYwTjj4Fj7z2xjAoShcBzNNsKXB6yfYAXlTPPFRUOlepFKMvSqetKyYB2/84YC1lqw2nLm5wT51yxUUSbkbaR+90Gu3lH52CLxAeLozLxNjXGEEEIIIYQQQkhWQweKVx6A1QusX0qX8l9WF4mvK41dvIL1E6ygnGlO5RwuycUry/xLWkn3a9yLV+WvrySf5R4akJ+Tny8YLWOvayprk/pJ0wKpglekPrZI/GhUpJoczpOi/JiZ4gkhhBBCCCGEkKyEDhSvPDDxmqby/GWtAo7XKVzVs68rOzqfiiUrydGkYQHxcNzeK189WZ+3R4CD91DUKFpJvrw4MD8ncA6/Jm93OXzxIHnkino+Sy9TniTjKF6yrGxM6i9P5m8hhTz6PiOEEEIIIYQQQjIbOlC8cknxorfI4TyDpFnR6gFxkwq19uzryg52LQSwroKVlSkNrK5gpYX/O88fjCaFkuWXC90tZYRAhnOvvKSHz9LLlCfJWFKurCX7cg+WW66nU31CCCGEEEIIIVkbHSheuQT+oLbnHKBEJvtx/PurbKMCxCAvLLi0tTQoVk2aF6wtv2cba0yjz/F+Uhe/84cC/rFgVeXMKxhIC1AGlMWUJ8l4tmQfIO2vdb98lBBCCCGEEEIIyYzoQPHKBXq5lnZobmdMoToBIpBX/sg2Vgbkry/tC9aT02EsuOw+slAuEMwHUicrP1Me4fg72zhp48ExPElfxl/ZWBZe3d4YRwghhBBCCCGEZBV0oHjlAlhFmRxlX1+8rOzOGX43PzfMKdhRul9b3xjnRJ+/SdFqUs8q29T8zdVOhfaygTFXNTD+3g2dC9QLyI8kBjVLVpHDSYMDrAAJIYQQQgghhJCshA4Ur1xw7xUNZHbBDgHHG12XrHbqM4k/XtmfY7A8mLehMc6JFtHuz9tAWWutvLi3VCoa6AMJzt1Nv3fDxMsbBORHEoMSJcvJzqQUZfVniieEEEIIIYQQQrICOlC8csH6f3WXTvmTA45j90GT8BMp8GdlOu6k2zWpztQXX9pOWVfBT1WbAoE+ql7L09b4ezc88a+mAfmRxAHC1cacfaRE8TLGeEIIIYQQQgghJLOjA8WrMDS6trwczj1UKl8fuPveyRzDAkSfaHDrXH3kv2up88Naa/GV7dUxk6XUe//uFPBbtyz4Z9uA/EjigCWDh3OlSI3ilYzxhBBCCCGEEEJIZkcHildheLJAC3n/0h5SuIS/hUvPAlUCBJ/04pECzVUZsAPhn9nGqGPTL23iVz4A5+7O37rFy66GJGN4M19H6ZWPvskIIYQQQgghhGRNdKB4FQLs5Lc1aYCMuTrQt9Abl3UNEHzSi2W5eyuLMPsxLBF0ltGtJZcJ+66GmY0mxSpLlRJZ3yJpyDUNleWdKY4QQgghhBBCCMns6EDxKgS1CleRY9mHBuwyeHPJ8rI/aXCA4JNebMmdIrddXdnv2Pq8PfzKiGVl9nivwKqr63VVpGzRtGsvX7S8wn6eRAPXjbKPv7JxlhewsGHAgQuGKZHVFE8IIYQQQgghhGRmdKB4FYIu19SWNXlvCzjepFCy/HJh6nK9jOBAjhR5LH8Dv2NOS6kO+Sr4xUfC4jxd/MSr6kUqKeznSTT0dX+bfYSyjjOlySrcVLy87Ms1SPpcU8MYTwghhBBCCCGEZGZ0oHgVgll5m8mEKxoGHB9boImfyJPeHE0aJhuTBgQcR9ngiwv/h1N3Z7xXvrhoqBKr9O6GvQvWkHrFqvnqIRGxi3abcg80pslKQKCDXzZTHCGEEEIIIYQQkpnRgeJVCHbkSJGWBQP9Xb2d71afQJIRnMo5XOE8Dj9Ysy/rrJY5jr+ufkC8VyBeNb+ussoL133/ZfWkecHaAfWRSNjFq/05U9QyQlO6rEL/UvWUXzYuHSSEEEIIIYQQktXQgeJVEMpfd4t8ftEQqVKkot9xiAR6h79EAxZSb+bupf7/cu4exjRe+PLiYTLuihoqL1z7i3laJrx4Zbc4O3hxit+yx6wIhMrjFw+RGkWzvoN6QgghhBBCCCHnFzpQvArC4CtryM6cA6VE8TJ+x+FfyC7wJBIQbrBUDpZSq3P3N6bxAvx6zf6/5j7x6qPs/TOVeGUSH7Miy//VRflhM8URQgghhBBCCCGZFR0oXgXh9dw91RI85/FHCjT3iSOJxuyrWihro7dy91I7EprSeOH3bGNlb7ZhPt9Rn2W73biMMlGoVqKqbMmVdt2wHINFEhybA9NvsgLzL2klY65qYIwjhBBCCCGEEEIyKzpQvDKApYHwIzTman+hBsc3JkVv0RQvVl/UR1kbHfzHUIUpjRcgXn2fbbRsSRoohUuUkdPZxkmngvX86iSRgFUYyqzLD8sxWCQlF6+sMP0mKzDo33WVgGWKI4QQQgghhBBCMis6ULwyUL5oeTl88SDlAN103C7wJBKwNAI/5hipMKXxAsQqAGuuBvnLqGNexKsbi5UNWHYZT1A2e/khZEHQ0ph+kxWAQLf7wiHGOEIIIYQQQgghJLOiA8UrA42uS5YDFwwzHv/5gtF+Akki8feFYxWmuGiAePVw/rrqby/i1YArK6erz6mB+Rv4lft0trukvVXeNgXrSB+r/KbfZAWwNPLwxYOleNFbjPGJyD3j75enn54hFZO53JEEUurminLX+Ptk5ao1snrtennk8aeN6TKCkaPGyfPPvSDV67DtZiZwz+5/8GFjXGYmuX5zdW29U4Ya40l8KVOltjz+2DR5cPIUub5MFWMa4o7a9VvIjFmzZe3GTbJk6TLp0TPVZQVJ43x/3tnfkViSVccFWRUdKF4ZgF+nLdkHGI//mW2cn0ByPvBDjpHyZY7UZYhefCthp0IIK6VLxU/AqlOohlrOib+f+FfTgLJ3v7a+dC5QTx67rGHAb7MKpYuVkwM5UqRTwYwZOHfv1V8WvfpqWOa9NN+a8DdRv9m0Zbv88tPP0rhlh4D8yPnNDWWryfLlK+S///2vHP7siHz66SFZv26DMW1GgLaM0KxFR2N8PIBghvPWaRx8eTDikAZpTfFO6jVpLY9Zk+7lK1bIvt0fy5ZNm+XFuS9J35ThUsq6B6bfZGYQcJ2muMxMp+591bVhEG6KTzSK3lhB3l3ynnz//fdSr1lbY5rMRLU6jeXEF1/IJ598KqUr1DSmiQe3VK6lntW33n5H9uzYJdu3bJOZz86RBtY7tciNgT4+S5SuLD37D7bqfonveb/nvgekfHXzhz0cf/iRx2XN2g0q/TtL3pee/QYbBToIeMOHj5Y3Fr+l0uI3M2Y9K/WbtglIGwykPXXqlPz++++qzz906LDcNf4B6XJbP/nzzz9l6rTE+YARKXi3nfrqK9m4aZMx3g3p/bxH+7zOnbtA/vjjD+v+tjbGeyWz9XcksUHIiuOCrIoOFK8MwILnufztA45PuKJhgDhyPnA2210K/O1FBMJOhVjS9nTeW43xsQC7Ks6+tKPyybXgn20Dyv78Za1kVY5+WVq8KmwBB/1D82fM0sgH7p9yrjsJHexiFcUrb+ArI6zVTHFZjZYdulmD3T9l5YaPpHy1ulKmUi31f1PaeAGrKlhTYFLmjMsI8QoDdQQM3E3xwMugHu3p62++kbNnz8rhzz5Tg7fDBw/J6dOn5Yfvf5AGzdoZfxcrQtVvvEDIioPUeE7m4nGfMBlet/4j+eXnX6RJq/R7hqKlS/eeRmE4I8Srdp26y4FPD8r//vc/OfT5cXn9zbdk9fr18vd//yvf/fCD9E0ZFPCbqU9Mk7/++ku+PPmVSr95yw71vG/ctDlAwILl6+adO1X8nj17VJ8H0QUi0ozZL0iRG8r50qJtrFlrnfvvv1WeSLv4nXeUYPHNt9+6tpB59vk5qh3fd/9k1eeXq1JHStxSRXr0HaTKMXvOPOPvMhMQr1Av+/fuN8a7ISPEq2ieV4ilCK3ax+ZZp3iV8WTE+zteIFC8yjzoQPHKwPRLm8jEywMtjCBoOcWR841ZeZsF1IuTWoWrSJ3rqsiHebtJ73/X9u1WGGvgT2tnzoHKGm7M5U3l/aQuxjKD1/Jk/i+8oXg5dw+FKS69cTOYp3jlnutvqSy7rZcr6swUn9UYP2GiejkNHzXGGJ8eTJ76uGrDaMvOuMwuXmFSCKuG3377TYYMHeUXh0Fp/0HD1CTLfjzWhKrfeIFA8cob8bpPEEewRMwUl6hAHMKz7zyeEeIV6m7Hzj0y9u77/I537ZVqpXTs8BE/galhi3aqjWzetEXVPY4h/rHHn1LH75s0xZe2UKmy8vSM2UoYe2jKY77jmKhu2rxNfvjxJ2nWNm0n7oEpw5W4NHfRa1L85kq+463a3Co//vCj7Nv/idxYvrrveDC2btqqyuI8jnLWa9Ay4HhmpUKlWlH1rxkh3kTzvMJSr2qt2H08pniV8WTE+zteIFC8yjzoQPHKAIQOLDVzHn/v350CRJHzjf05BgfUixP4mZpweX05mm2ELL6yvW+3QlPaSEkpWkcqFyyj/HGhXBCwQi3pzOri1SMFmisrNFNceuNmMO8UrzAwghjQsGn4QSoGf7f1HCBNmrfLMB8jKG/X7v2kbbuuvslAOJLrN5NOXXoHDAJxDbgWXJNJEGnRqqN8/933cRevvNRrmcq1VFkBBA9TGifBrt/J1KlPq5dTOPGqZevO0qvvIDWxsU/UQoFz4xqr1w4+6Lq5Yk3ZtWdv0MGZU7xCXvjbTTlQV2gzXtoNiKV41dC6vz/+8INs37lbit0U+yXd4dpzuPq14/U5Q3pdv2ij9jiEWA5Sm7RoE/Z5xjNlj3MSi+co0slcuOfdy31yYm/nzvpxCyb4KF/7Tj1cTfZRh0jfsEkbPxHFTqTPX5OWHZVVkxvxCudGGVCecPcf4J2Hcnvpx8CN5aorocl5/L1ly1R7sAs+c195TYlaWIJnT4uywgoI1lj6WNkqteXQoc/k82PHpXKyv+jQ7tauKm9YSelj2vIadWpPe0vFZDlw4KDr9gMLUARTnBtwfvQV4dqb/f64GW8APKftO96mcPYrJkL1Q+HQ/UGw9hDp8+7m+QCIa2WV2+1zhzau8w71XjURST/hvH6UEeeP9bhFP5dIG4nYiLpw83uv4xikQVpTfaNP0/UZ7vq8vKfsxPP9bUKPr9zc32CEeh4RQo0LcH580HNzfi/tOdJ+/3xHB4pXBvZmG2bcne6LbNHv4JcVcNaLE/iZWp+3hy89BKayRWP7cK7O3VcJaW53VVx8qXkZTJNilY3HMxuDr6wh25NSpOg5/18ZiXMwb0oDIebHH3+UkSPGyIcrVsgf1sD6999+V53S58ePS6fb+gT8pkpyA3lpwatqqdNvv/6mBuPf//KL8ouB5QXO9JrK1u+OHftcDnz6qdxSOa08hW8oL2+/s1SdE6bt9t+ADZu3qXPoly78iLTt0FW2bd+tfgPfHGqZ1Y8/yfiJkwNebJjoHLQG72UrJctrr76pfoMwf8EiFV+yTFV5bNrT6hpwnl+t/yM/mOfffddElebBKY+qZQbOYJpEAbwwMclat8HsI6pz1z7q96++/pbvmJd6bWxN4vTyFFju/OePP1WZcQ+dS0/CXb8T+GzCEhVnsA+SUMdj7rxH1TnOi3uAgHvSpUe/AF8vaGfwn1KnYUt55ZU31W8QIJDZ02mwtAFWC6ag02jxaujQUbJm5RploYB6QMBvO9/WV7Ute76VazWWBYte99Ublu/gGnAtoSYSmliKV6jnb7/51qrrvVIqwsGgCTft2U39en3OdHq9DEoH1PXwO0b70iHYB6mY+Ddr0V4th4KvnXCDTdx3lL15286ye/8BdQ9x73FOtP+qtRvJuLsnqutHX6bLMv3Z51Xd2POK5XNkuu8YDN911wR1H5YvX+k3eXLzvLu5TybQzpd9+KHvugACBBIM6HU658cLoK+jX78h8vycF9V9//XXX9Ux9IFTn3wqoD/S/QHEF3vA9STXTRNeonn+7rn3Xt+7yR70xwT9vjt48DO55+77Vb0hPc6FsPz95QEiEGjXuZdqR7jv+llBm2/TvktA/+EFLAlE0OLV9Vbb2/PxXvVerWKwgHnhxXkqPYQZ/Ltukzby7bffqY0ynGnBd1Yclhjrf985doJqS2PG3uMnpuGaIYAdOPCpEsT0cSejx44LuH8Iun6D9WsIjz8xXYbfPkq+sOofz5D9eXRuBoNJ93MvvJjWP1lt68yZM6peOnTt6ZcWH05wD7v3HijPPfuCX3ocf/zJJwPaTaT9EEBeixa+qvpKtE08GwhoS7d27+NXr277eeDm+dDtd968l1V/iGcVAc9JszapLj9Mz2tyg6by7jtLfP0IwN+fHDkidZqk+bfS70sIEPqY237ChL7++VZ5n35mpqt+wkt/27lnf/nk8GHfc4l7j/CmNWbCclZ7WhN4rrdt265+Yw/j7k2zkoxkHANr6e5WW0AalEn3Lx8sWy6VrGdtxMg7VX5/WO0HeSL+6ZkzA96XeBfdfe8k33Og7xveCRWrh96QKx7v72AMteYGB48e9d0HXI+6v09ME/jvM/3GTjTPI9D9s27fyAN19uBDjwa8z72053j1++cLOlC8MnAox2CpVyxQKT99HjprN1GmeGgh6sG8Df2soGItXsGKC9Zc9jKFI5jF2OzL0szfMzMd8lWIi0gYCXowFE68gl8jCFhz5s6T9l16qUnho49NUy8oOAd1fiHZuHGj/Oc//5GnrAELBlX4zfr1G5SvjRF33OWX1o722ZDqyyfNAq9izfpy5Ogx1RFiQGr/MoRz40W0cvVq37FW7TorfyLw4zFq9F2qvO279lIDIJRh7rz5fl9QMGhDHphwYrA/8YEpauDVynpJIX7IiDus3/1X5r/8mrTt1F35k7jNGjg9+9xc6dQtVbxr0rqTjLEmoSjffmsCi9+DUI678RLFCxF+UZxxb7z1rhqwYECsj3mpV4hfH234SEaOHKvStujQTV58Yb463+tvLPZ0/U5urpis4l+at1Ddk6dnzEpN37G7Gqwgb/hbwblWWfcFdYV7MPj20WoCgraEwYo9T7Szb77+Ri27RBo4KO7WJ0XtWGRPp8FAtveAofL55yfUfUbeus51Gj0YP2QNcJ+fPU/ademp6uGByY+qycdRa8JW9dzGBACTpg0bN6t7iGU4qLfW1r3BNeBa7r//IV/aYMRSvMISHizlwSQJA0FTmkhw057d1K/X50ynx+AYy5+QV0/rHj/19Cyp2yjNsgLBPkitUruxEhwgXLV2tBsT+r4fs/qM6TNmqHuIe4/7iLD/k0/ku+++k7Hj7lNlhq8eWJ6gTnDN9rxi+RyZ7vvg4Xeq5/y9994P8Evi5nl3c5+cYFKyeu06dR/GWX0W8gbDho+WxW+/51cO02RYXwfOB/H9tl4DpKnV/w0ceocctSYxKF+v/kN86e39AQb/A4eOVHngfM8+O8dXh9E+f+hrcU8R8BtdD+ibEa/fd6jTE1Zb0ve/42195e23Uif3Cxa94ZcnLLlQT5gI9ht0u3pWUH5c+8mTJ6V2Q3cWQSbgAwuCrL5+38cbqy3CGsqZfvCQkeratKUr6gZ9wwtBfExhgwfUm/53Tasv/co634kTJ6R7r9TnHO/ShQtfU2IS2pTJQkyD+kV96kmxs37xN4JJvMI44csvv5Q7x45XzxCex3ffXarKt3zFKj+BqVzVurL8/Q/l8cefUv0T2taYO+9V4w28G+zvf9QFAvqGHR/vU88C0vcbPEJNSJH/MMe7MdJ+CKCca9eslylTp6r6x3OBZwh5HTx0SCrYRIVg9eHE7fOh2+9Rq41gg5T1Vjn6DRohnXv0E2wKgDSm5xXCFdo8xEv9rI8Yfae8aPXPVWunvf90v6nFKy/9hAl9/SdOfOGqnwBu+1tYzqBcqC+8u/Bcoq1MevBRmfX83LBCN5bt4vcQOTCWVW2g/2CZ/cILauku0tjvi5dxDK7rZytfbISAMqF/Qb8NQXXj9p1y8qtTqj5bWuMl5IlrwDlGjLnHLy8IV3gnffjBh6rvR33gXYB+CkK7Pa2TeLy/gzHZqvPXXn3Ddx+69k5RfRjaXMdbw7tIieZ51PcR/ahu3xA1UWeoO3yk02m9tOd49vvnCzpQvHIAYeSLi4ZK9SL+nVRykfIBgsj5CoQSe93o3f40WKJnT2+qz2iAQKOXC7oFSxid+RSyyr05Tv64vHJTsfCdeSggKB5NGiYVS8auniPFrXiF8PIrbwbEacet9mVjEyZNVi/pac/M8EuLASe+KuIlE2pgMcl6eSHYJ5GY/GFCM+fFeWqQPXxE2vnwN17meHHpY1oUwotNHwOYHO3YuVu9lPCFTx/Xg7aDh4+qLzP239jjw5lsY8CIgSPqzBTvpEv3PuoF+4I1OLN/yalmTdYx4Dt85IhvMBxtvQI9OYIQULZy2os63PUHQy9DcS4brNWohZz6+mv51JrAO7+WYlCAyToGbPaBkW5nGNSGM6PXoM2i7aINoy074/V1fbhqrV/d4Lwvv75YtREMCvVxDFJw7IUFC/3KpsXTI0c/l4o1QpctluIVgLCJCSfa+N6DB9VOYRDcovny57Y9h6tfr8+ZTn9b79DLphH0IBXtEW0Fk1OTyGtCX99bby/xu4816jVXzwrKcLvtiy7o2LmH+g1+az9uItLnyHnfb+s7WNURnGg7J4Jenvdw98mJ7vd3WveoRJg+wzQZ1tdx/MSXfuIv6NXfet9bwV6Puj9wTu6dxOL5w8TbeX6Nvm6TSIl6hZgEgUQfQ/1u+Giz/Pzrr9K2Yze/9Po6Ifjaj7sBlgYPTnlEvcvsvqp0+fbu3a+WGtp/A3S9P/TIk37/fvpp/zai0e3RvmQJz9CxY8dVf7Js+UplCYVnK9RHJSd4NhGcx4P1azo4RSR9X922W6flGdDiFZ4j50e09tbE+TdrAr1qjb9lWiT9UDiWLF2mrD4wGdbHgtWHE7fPh24f6BdeeMlsFW16XnGtEDLt6Uzo9qLFKy/9hAmv/UQwTP2tvu8QdJ3pwwHfpJs2bQkrrkQzjrEv1wVom0iPcN9EfxG+abvO8uvvv/u1U7wP0BfhnW8Xa4Eed/fuF3qDhVi/v72A5XsIU6eG/+gW6fMY7j5qqzotRrptz/Hq9883dKB45aBpgXJy+OJBUr6o/yAego1JFDkfwRI1XS+Nri0vLQr4i1lO32CxFq+qFKkon180xO8c4TCJVzcXKyv7c6Soa3DGpTev/V/XqMsR63qOFN2ZhxOvYE2Ar0fOOFjGIGjxAp3+R1u3yzfffednjq7RyyTgy8EZp6nTqKVKg4GqPoYvsAgdrBcJJvJvvbPUF4e/f7YN1rQlFkyQdRo74yc+oPK6++7U5VFAD9owYbSn1cAKCOFtazIc6mujV/EKX5hhYo4BPAby+ng3q67/a13DnDkvqS/hsahXEGwwE+76gxFMvMJXbwywn3h6lt9xjcnXC+oMAxhMYO1pQxFucKava8gwf2fnYNRYq7+xAgbY+hi2mEeoZrsXAELRlm071JfWhs0Dd7e1E2vxCtRp2EJmvzhXDWZRR5gMTJ81J2BQ6xa37TlU/Xp9zuzp7YN9EwgYpGI5Efx9wWrDuVwoFMHuu/bt85U1WU9u6G/RhzIhuJlMRfoc2e87dnbD5ABb8TvvgdfnPdxz4ERb9GEJz70TJhnTaEyTYX0d761cHSCiouwI9nrU/cGTTz8b0rInFs+fG/Hq+PETUrVWo4B4Xa/63zXrt1BWErAGxUTJnlZf5w6rXPbjbmjRuqN88803snPXbp/FDNDl22zde1M9OfsN/e+RYwJ3VgS6PdqXgeE5XL1itRKvdICFYuv24S0aNZGIV7BwQZ3Zj+v76rbdmt43WsQwLXGvXq+pfPHll37v40j6IVOcE1wz6rTjOctVEKw+nLh9PnT7gKACYcWUxvS84lrx8W/sXRMC7oEdZ3vx0k+Y8NpPBMPUv9Vv2lr9Hv25248aGv1ch9ugINJxTLDx8oF9qcs8IQ7Zj1ev2ySgnd41fpJKCws0e1qgx93PPPNsQJydWL6/vRKqH7YTzfMY7j72HjBMjZe0uO+2Pcer3z/f0IHilYNgy69G/rtWgCByvoK60PXS7ZrKCntdQSiyp/8ux0jjMsxIqVG0knx58TC/c7jBaSEGKyVYKzktydKbUiXKyce5UmRLrn7qb1MaNwRb7pre6MEQXnB40ZnSmAZDGj040YNJ/bLEywi+X/CisYMBrD19MLB+Hua6eJkBmP/DxxLMfrfu2ClHjhyTijXqWwP/mso/ll38CffSNMU7B21OMLmEPxpcF64BX75aWoN9p3NPr+IVmPPyIpVvl15pX53etCZReOni6x7+HUm9YoAEq6JpTz2jrg9bomPwhK9/zsFMuOsPRjDxKtjxUPGh2lkwQg3OQKjrwrkR0Ib1MdQlgrN+AQb/uCd2Sy0TmKgg2PN14nZS4wTtENteH7XaP8qyd/9+qVAjtO8LE27bc6j69fqchUtvB2HZBx+opXQIjzxu9nsWjGD3PVx7QXCWL5bPkb7vEOZh7fLdd99LvaaBG5R4fd7DXZcJTPiOHv1cTc7gNwaCZnKDFmrptj2d6bkM134R7PUYrj/Q4NoQnNcL3D5/odoZ6gZ1hLpCnTnj9f3T/9b9Oc5tKhOC3VIrHBAm7L7bnBamunz7rOf6JsNkTNe7nozpf0+bFtrySk+uq9dtrPL++uuvZdLDj6jn/aGHpipLLFgvTLz/oYD7b0Jfu/N4sHaBgN/Yj2nQvpztFptTNGjeTsbdM1EWLFwkr77xhmzfsk3VG4K9Hel+HG1MH9Po+rS/j732Q85yYzxS3yobLL2RB8Dui999+51KjzrQacM9Jxq3z0e49gtMzyvaHPyZIcBSaML9DyvxyykW6PZi77/c9hMmwl0/gvM+eOlv0V5//DnVxxKsd/oMHCblq/lbSJlwO06L9Tgm2HNjaqeoMwSMg/E7O3rZrtOi0Emo90K458DLc1KlViP10fHFuS+p9LDy05s6hPt9NM9juPtoinfTnvXvYtXvn6/oQPHKQdeStZSQ4BQRKF6lMf66tC+Y+NsuZgHnrn+/ZxtrdIAfKU0KJcsvF1qDC9s53NCulL+/h+TileVUzuHqntuPpzd6GSSsyWBVZkrjhmAbDaQ3kQ6GNHpwol/e+mWJTh+O1fFCMmE3+zcx89lUs+jmrW5VIOAlgzhs/QsTa5haa4fW9i97kbyU8TcC4uxp7WCgj7X8752zDoDPpNVr1vk5mw33MjVRs3Yj9SLUjtnxJQoDNbsjd6/1ijKtW79ROeDEFy1MljHQggk31uw7BzP4LUKo6zcRbHAX60FfMEINzkCo68K5EeyTDT0wsdepk1A+zIAedNrzdeJ2UhMMCLfvvL1EDcAwETGlCYeb9hzLwW+49HYQUB60d/DJgQMBTp1DgXMgOO97uPaCYC9frJ8jfd9xbZiAQIyZ5VheArw+7+GuKxiVajZQvoS04+dTX52SJ6f7CyGm5zJc+0VA+fS/w/UHmlg8f6HaGeoGdYS6Qp054/EbBP1v3Z/jXtvL4MSeRyggIsDfFIQrk+82LBk7fPho0PKNHDNWlU9bWrXq0E29K4Ldh9Wr1qj0WqSAPy9YB7Xr3MPPEqZ2wxZK1IKvyfo2X5PB0PfJeTxYu0DAb+zHNGhfznY77ZmZ8uMPP6rlsbCGQ/sB2medvR3pfhzx+phG32/7+9hrP2QvN6wuZr8wT763yvbVyZMyb/4CmTx5qjr35k1bVHp7v++2n3f7fIRrv8D0vEI0xdI7+DXChB3vDVhvwZ+T3Sk36gTB2X+56SdMeO0nvPa3EBwatuwo05+epfpUWKvDFxisWnUaE27HaeHuiyneVP+aYM+NqZ2izhDQ5nU/4wSbBNnzcRLqvRDuOXD7nKCuPz9+Qjk+X7rsQ3WvUC+4d25+H83zGO4+BosP157172LV75+v6EDxygGEmE0GP0hjrq4TIIacr7ycO3UdcLWCZeXdpF5+4lX5624JSP9HtrHSsmAdX5poQV7I03mecDxSwH9JB/KB0OYU39KL0sXKyfXFy6qlfljy57RQq1ywjKfdA7OqeHVT+Rqyb98nygQaJvvO9G7p3qOf8gdy/4MPK5Ptn3/+WRqdOz+skTDpmzxlinTvM1D9PWJ02rIJfGVGeOvtd3zH7GDCh4CXqz6GFxGCc9AWDAhO71iTSpwbzi318XAv02BAuIKABYsYmGsjX7tPHq/1irpBeGbGs35fV4MNZrxevybY4A6m5gh33jXe77gGAxwE+EXQx0K1s2CEGpyBUNeFMiPYJxswBUcItbQiHLCKQIBpvykewN8OwuSHphrj3YDt0RFiMYgK1p5D1a/X5wxL3BAwGXWmdYIA4QZfSSdMmKTKhR0o7ROtUAS77+HaC4K9PmP9HOn+cufOXepZX7Z0mRIT7hhzj9+uVV6f93DXFQ5cG/yNQMBAee6fnCaImp5Lr5PSe+9NXQKDpbr2dE5i8fyh7hFMzwXqBnWEukKdOeP1/dP/xhJFLFXE0jbnsicvOC2ugi1zQvvesWtX0PuOHfsQuvVI7bP0x5s16zYElA/3FALp0RNf+I7hHQNBy55Oc+c996q83fgQiqd4hV3SEOCvxrks2vS+0f044uxpgb7f9vex137IXm44bYZIsmfPx+r5tafVYoP9fRLuOdG4fT7CtV/g5j3ao+dA2X9uFzXsfKePh+u/QvUTJrz2E177WztoK/Ajh+f162++kdo2R99O3D7XsR7HeBGvsCQQIdQ4Ihyh6i2ScbITvfIBQnMrm683EKofthPN89iweTvr3D/I1u07A3Z9BHBAj3HEyiB9XrD2HKt+/3xHB4pXDoKJV9iVziSInI9AvCpe9BZ54J915dcLRvtZYpl8g53Ndpd0LOh9GUowkBfydJ4nHGuT+imH/Dqf7tekCpIZJV7NvKalNLou2WcBdtq6pva2eppwZR0pf737Aff7ebtmSfEKHT2soLA7Yacu7n3UOKlZv5nybfXRR5vUYB4vSLwodfzH1gtsy6bNamcYhMo2U3G8kDBJ+PrU10afQFimh2AfpIcbtJnARAPWURgA6mOoI9SVfRDiBuwoiC/oU6Y8Lhs/2ixffnlSatRNm7x4rVd9PfZ6AVWt+33cmsw4BzORXD8IJl5hhx1cz7tL3vMbhGrw9RfB7jDczaDbSbhBbajrMolX8JuCAKec9rRe6NlnkMpj7vwFxnjw+hvvqDSYqJni3RBL8QqY2nOo+vX6nEGQwHI3WFOE89WFoAepOI/ebWraU9ON7clJsPserr0g2OtT5xOr58g5matWq5FasgX/R/CDpNN5fd7DXZdbmrftpHZh3PDRFt8x03PpdVIK/y9Y2uN0oO8kFs8f6h7Bfn4N6gZ1FOx9p++f/jf8YsE/ltMnoVfCWVzZwcca3PeWHfwdBQMsp8czpEVc7cPFVD7fBgQL0+oBIdHFK90vYwcwZ9qXF6XeH/v7Rqd3K15F2g8BfX2THva3eEGbXrN6nYqzv0/CPScat89HuPYL3L5H69Rvrspmf07C9V8aUz9hwms/oc/vtr91AgFj6rSnlBBh9z3mxO1zHetxTLDnxtRO4a8Rwen43QuxfH+b0OXetWuPlCzt75Jm2MjU59J+f01E8zzCAh0uRI4eOyaVkgPvI3aRRMBHcGecHWd7jlW/f76jA8UrB8HEKwg2TjHkfOWb7LfLuKtq+XYV1JZYAPXnTA86F4hevKpWMLWj75uvvvEc4XA64n/iX03VcXv540mJ4mWkfJHUv+F/66tso2TQv+sqwQlLK1GWMVelLWNZfHUHTz6scD86xVAkjJRoB0N6cGIfTOKrMl748K1Qr0lr5b8Cx/GyxE5R9cI4FQf6CzTM88HcV17zi9cO3LWIZY8D2MEJllvTZz0nN1VI3bQA54fTZ5gCY807tt/X6cMN2mrUa6p2ANQDGHxJxxIPXCNeujqd/hKO3aJuLp92Xh0fjLJVaiufFHgJw5z/g+UrA37npV6xnAFh6PAxvi9H+FL8zMyZql6cgxm3g1YnwcQrnAvWJXC03aVnf58lRSnrvk59YpoaXL60wH9Q43bQbUe3Eww8WrTr4juu6y7UdelJj32y0ah1J/npl1/Vl7gmrTv4yo1BMQZHWFLjxtcHtmxHePChR9W9QXn0fcIxXP/KD/13f6rfqKW8s3SppKQM9x2D/w74/8CSj+vLVFXHcM21GrSQVdYk1LlrGn6LPJCXPmbCbXsOV79en7PpM2apJSvPv7BAylZNFe91vWDzAp0OwW+Qal0/lg7CwXmnEJMSTbD7Hk7kQbAPtmP9HJkmc1h2oZ9ruzWHl+c93H1yUsKaaKCvQr+De49jSIstxlHHb7z1ri+t6bn0OilF2/rk04Mq7179h6ry4jgmPNgBUvtai8XzBz9SEDohxOp8cY0g3PtO3z/7sZkvpgqnM2bNUhMZ3Q5wDXD6jwmUPb2TpucsrnAvh90+SpXBiX0ns9r1WyhrASwXQr2h3PZ+85mZ/s6j4bMK5YOFor7eyjXrybrNgbtw6SXCvQek+NVjlZoNZceOncqCAr6m9PFgBJuEB2sXCPbn2Q7al/05Shk6QqWfP3+R7/7j/wMGD1VLkxCiEa9ApP1Q+669VF2/t+wD9QzhGMqGNv3td9+r9Pb3SbjnROP2+dDX43W8BhcLZSqnueLA89ShS6q4aRdHnP2Xl37ChNd+wkt/i2cGm/vYHWrjOXl29ryg4q8G1/D6G6m7DeO51ten+xm9U2ysxzHBnptg7XT3/gPWtfwhA4cM83NIjg+5WImg20UwYv3+dlKlVkP5/PhxtWwwuX7aaplGzdvKno9Tr9V+f4MR6fMIpj//orqPDz82zecIH31bS+tdAlEM1wFXHDjupT176ffrN20ji99+T8aMm6DakD5+vqMDxSsHFK/CA6unBf9saxSvZl3iv9OgZuLl7n2LBOOFPJ2U6PPYZQ2N5wjHzxeMVpZOOj9cA46nh3jVPV8NtQxwfN7UjrDPNTXUuRdf2V5ZW8HqCv+ef0ma741fso2RNh6WW2Zl8QrcddcENViHE1PsFoY8tm7bIdjqfNvmrX5pg/GsNeDB4AC06djZL65V+y5qgI+XC0zN7XEAwtHKFausyf3fsu+TA77z40WGwUDv/im+lxdwDtqcvLTgZTlxwhpcWGWfP3+hvPX2u3L4yBF1jXazewxqNltpICpAwFq48FV5dZG/8GYCZcFOQ3iBg2BbILut1+69B6amswYtsOBYbJUX20xjQLF1926/QSAId/3BCCZegcbWCx2TNgz8sO0yyrpnz17566+/1OS0SrJ/PxOqnYUCpt5oI7BgedOaVKzduMnnoDjUdZnEKwgE9z+Qmh+WHuhywywdwuLOHbuDPid2sLQVVhZoB7g3uEf6PuEYrj+5gf+yoFkzn1flOfjpp75jKBvuI7YJ3/PxXlWW3dY9hMCEdrJo4Wt+A9g9O3apPObOC271Bdy2ZxCqfr0+Z5WtiQGczMM3yaFDh3zpUS/jx6ft/oPgHKTiKzjyPHr0aICjayfB7rtX8SrWz1GwydxkaxKBvmzxW+/4Jq7ASz8a6j45QZn37dtv3YPPZPXa9fLCnHnK1wzuG55ZWGXotDhntOIV2kCPfgPU/cOyK7Rh5Isv9mjLur5i9fxh6SvqE3WGunjltcVyY7nqYd93+v7Zj2FChI0DkB++xGMpCcqEa8CulfdNCL1DK+oXAfcR5zbx9pJlfr+58857VHo8k9h5MFS/iecf5UP6j613Dsp2+PBhVV5M5LXIApq3uVXdYzi53rZ9l7p/S5Yu820A8chjT/hE0lAEm4QHaxcIzudZg/KiDvRzhPrWYh923Hzl9TetCfge9Qw+PXOmslCKVryKtB+CY2pM1HEvdu7eo/pO/A7PHPpcBPv7JNxzonH7fIRrvwC/cz6v8BH66cGDvmd9rfWs472MdxQm3jqds//y0k+Y8NpPeOlvcd+/+fobtSMc2jCsNvVzsnz5irDCDsQvfBhAu8f14TnT/Yx9F79YjmOCPTfB2imWveEeQYSGhSXiAVYiwJVGsPeMnVi+v52gr0Ddow4/PXhIXn93qWonX1jXAsER4pH9/gYjmnGB7v/QL+y3ngv8Fn0b/PdBkIIwpdN6ac9e+v2JEyersqEOylTO+BU1iYIOFK8cULxyx/q8PeT9pC7q7zdzp+3U83rungFpAQQne31Gwsc5BilLpOfytzeeIxyns42TLtfWlSolUr904Bpw3F7+eIF2NbFIY9l6UX8pbP37LeucODesr+yWZChTiRLlpFGxKurfsMwy5WciUcQrvMAxcF706ptBX/az5y5Qa8btX1Y0TVp3Uh161179AuJwDAMQ+G7BYAsv+g8+XCX9BqRZloQClgfIe4n1G2ecLjfMfBu2CL51Orasx+6EOD/AlxXTgAuOL3EufPV2xoGOXbqrsuMakA/8RWAAiPXy+iuWBhPrVxa9pq4b6V58cb5ffDBqN2yiOnosDTHFa9zUK8oEPww7rcEW0kBIw/IRfIEaOGy0qjv71/5w1x+MQUPuCHr/Ac4B83Ndb7usgQeWxZjMw0O1s3BggIa8cQ5csxY3Ql0Xyow4tGFnnL7fyE/X31JrkIc6dd7vYKCuca348qnzwWQMbdJ0/bDAOWoNkmY9P9d3DPUHh94YVKMt6Xww8BptTXDtvwdPzZil8sA9dsbZ8dKeQbD61bh9zgCu3VkvKAsm1joN7guEX/vvwB1jxqs4fDEOdR+C3Xf0cejrnO1fg9/YneDG+jnS/eU94+/3O46B8mtvvqPuKyx17HFe+tFw90kDgezu8RP92hXyXfTaG8r/mT2t6bkMdh0aZz1q0CbQNnS7g9gy25pA6C/jmmifP9wTXIv+/avW37hmHA/1vtP3z3lc1xcmRTpP1C8sgmvVaxKQ3g7qD3mGAmnsv8E1Dh5+p1+7mzPnpaD3E+0HlgK6XvEs4pk0pUXbRJ2j7vW1oK67dTf34SbwbKLczuPB2gWOmZ5ngGt3Pkeo02UffOgrH5bk4YMVLGLe+2CF3/tG9+N4F+ljGn2/nfULIu2HUH/LrOcBz43uN1EGtGGkt79Pwj0nTsI9H+HaLzA9r2gLGz7a7LtO3Y85+yln/+WlnzDhtZ/w0t/iWUDdQEzQ14V7iT7Q9H41gefmqemzfOdDH4u+1t6+AM4Zi3FMsOcmVDvV12l/XnEvsXGR2+uM5fvbCcrw2LTp6l7p/O+//yFlpfbUjOeN7wETyCfScYFup/b7+PY7S327dTvTuW3Pbvv9zrf1lUOfHVYfSbR1HqF4FRSKV+44mm2EAn/r+sJufluTBgSkBXaLokgoU7ycsk7ql7++z+IrEtbl7C/vXZbq70Pvimi637Fm1iWd5KOc/ZT1121XV5ajFw/xlQnWV/pvlKlzgVryzOUt1L+fKpD2BSsciSJexRuY2sL5ML4Smrb+Tg/wAsL53XyxDweuAfncXKFGSPNgfd3h0tkZOCx1ucS994f+kg/c1msJ60WKNLA6CPUFLd7oegs24I4FyBvnwDWb4iMB+UVbf/b2F25gg11wTGnQhtCWdD7OeA1+izxMcSbctmcQrn69PmexfC7jTUY/R176US/Pgb1dhcs3lrjtD5AGRFrv+vduBC83FL2xgi/PWPYzwfDa7nS94tkyxdvR7QSY4jMa3DNdvljdPxOR9EP6ufHyfveC2+fDC/b69Po8pXc/4aXd2++fm3ZvQp8PfaxeHmYiHvfFLfbnNZLnQf8+WL8VzfsY9wj3KlT+bommHG7vo9f2HK7fx7mwtJDClT86ULxyQPHKPU7xanFSJ58g5ATCirNOvdDtmsoqn8WXtvOdN1IOXzxI6lyX5lh+S+4UZQ1lOm+sQPuB5Rdw1tOf2cb4/gbLkzrLZ9luV3/jek35mThfxCviDr3cEP6y6jaOTjwmhBBCCCGEkIxAB4pXDiheuUcLMDuSUpQvqlCi0nv/DlxG4wXcF+TzY46RUYtXsH4a/8/UnQYBrKD6Fg9c7hFL7O0nmMCngcCl0+zPMdiYn4k3/91eWnrwkUWyHtrkG/+H80/4UHjt1TfCOiQmhBBCCCGEkEREB4pXDoKJV7Mv6+wnMJA0Dl6cIpWLlDPGaSA4OevUC48UaG7MN1K0vy6NFwunSFidu6/f+dwCqyxTfib2Zhumdi40xZHzAzjb1AGOKuEM1K0PA0IIIYQQQghJNHSgeOWgd4k6Pksi+/ExV6dZ6hB/IF71uLqiMU4TrXi1LHdvY76R4rR+8mLhFAkQRO3n8wL8fZnydELxisAHweAhI9UuSW0795TSldJ21ySEEEIIIYSQzIYOFK8cdMhXQYkxZYv6CwZ62RoJ5ESuETLtqibGOE0wCyL4snIKhbWuLSs3FU9zjAd/VPBLZco3ltxcsrzCXhavJBcpL9UKBopN0YhXqCNnfiY+vXCYNClEsYIQQgghhBBCSNZAB4pXDoKJV9phOAkEuwB+l2OkMc6OvT4146+rr3YptB978aqW0ui6tGOli5WTAzniL17d+e86CntZvDL4yhpqZ0H7MYhzsOYzndMNEE6RTzgLrC8vHiY1inJnCkIIIYQQQgghWQMdKF4Z+OKioVK9iL8IAFHLJCwQ95S/7ha/OgVwZA5/VvrfhUuUka+yjZK++er7jvXKV03dE1OesWRb3l4y/dImvvN6BWWH0PS5VdYqtvYDIRSCqOmcbkAd9SxQRS1dRX6FSpaVIta5dP7gpmLl5HiOoVK1GMUrQgghhBBCCCFZAx0oXhk4mnOQJBf3X6oFccAkLBD3QAC01ymAL6vVufv7/t20QGo9L76yvfp3o2vLy8Ir26gdAp35xYPX8rT1lcUrPa6urqyuYInWL3+a+BateIX6wYYBAPndXKysjHP4tkLdHso5WMrZlluSQO4Zf788/fQMqZjcwBifSIwcNU6ef+4FqV4n8csKylSpLY8/Nk0enDxFri9TxZjGDbHK53wnuX5z1X56pww1xpPYwPaa+WnXqbt6Vrp072mMjyc4J86NMpjincCv4fh7J8mSD1fJqjXr5aGHpqpjprQkdtz/4MPqPpnisgoYa+AaMfYwxWcWMtM4jxDiHh0oXhkI5vja6eSbeMPpuwkWRJtzD5SPc6VIqRKpS+L0roKwvoIlE6yNPst2e7rV/fq8PfzK6BYsDXwzdy9lJYV87BZc0YpX+5MGK7BjIeoMVoFLc3bzO3+wjQbSg+vLVJXHpz0ti1591Y/2HW8zps9INm3ZLr/89LM0btnBGJ9IoA4RsIOgKT7ezJ27QP744w+p37S1Md5JtTqN5cQXX8gnn3wqpSvUNKZxg9d8it5YQd5d8p58//33Uq9Z5OJzeuG1XiOlU/e+qv1k9QlXRhOrdu+VEqUrS8dbe8i8lxbI9i3bZN/uj63nYIlMe+oZadspsO8tfnMl6dFvkEqDtFs2bZZ77ntAiW/OtHbG3HmPX7++YOEimTLlCeneo59UqF7P+BsTM2c+55ePnTqNWwWkb9SivTz7/BxVVoC/ccyZDkA07NlvsLyz5H2Vds3aDfLwI49L+ep1jemdDB81Rj0r2OjCFB9PcE4ElMEUbwf38L333pfTp0/L4cNHVZtbt36j3Fwx/drd+QraFYIpLqugdyvGM2mKzyxkpnFeelM5uaF8fuy4bN2+Q24sX92YJhpuqVxL+qYMl7fefkf27Nil3k0zn50jDax7UeTGwI/reI/17D844L1k6rvR/+HdhnfB1k1bVfpXXn9Dbus3JODDUeEbykvthi1VXqtXrVFpl69YIRPuf1gq1HD/3iKJhQ4UrwwsTeos7QsGNm7smGcSF4g7tO8mDSyI9udI8fkYg1i1NqmfLz2ssGBtdDodRcNId0VsUaCC7M+ZIttzDlD52C24qhSpKJ9fNCTgXG7548I7FairO6+ro6wCn8rb0O/88B0Gp/D2Y+lFCeuFctfdE2Xdhg1qUP3Djz/J/AWL4j45jwSKV+7BYAKhVXv/88NSwPRlNiPFq3XrP5Jffv5FmrTyXlcY9MBqxq3lQ7QEq9dYQ/EqtsS73Xvl6ZnPyn/+8x/5888/5cC+/Wpw/t2336l7joG9M/3tI8aqtF9YZX31jTd8/fXy5StDWu7ofsgZ/ve//8mRw0ddPzc4d7CAtmpP27VXP/nm22+VyLt02YcK/I1jiLOnLXJDOZkx+wWV/6mvvlLl3bNnj7q2zTt3SqmbK/qlN5FZxKte/VNU2nffXaqEQ7Q3WpekDxSvEgu0e1hXmeIoXgWnZv1m8pXVTx749FO5pXJs31d4Fxz49KB6Nxz6/Li8/uZbsnr9evn7v/+V7374QfqmDAr4zdQnpslff/0lX578SqXfvGWH6rs3btrsJ2DhI8uS9z6Q33/7Xb7/5Rf1Tlj8zjvqb+S/8JVX/ASsCRMflK+//lrFbdi8Tb3zDh49KmfOnJG9+/dnmhUNxB8dKF4ZmH9JKxlzVWDDfu/fnQKEBeIe7bNJU75oeTl88SCfj7HK11eWY7mH+9JPzd88XXYZdAIRzV5ON8Cq7FT22xXIQ1twIa+mRWLjswt5H8s+WAZfVVfuyusvrsLiSy8rzCgwUMCAAQMHU3wiQPHKPRgIVK3lL5ICDEZMg9uMEq8AJqi167cwxoWjTpPW8s1337maPMaCYPUaayhexZZ4t3svdOrcU93bQ4cOB7R7iKImq9edO/cocUsP2tEON2/ZKt9ax+o2aROQXqP7Ifsx5PHs7Hlq0nH4syNSvlpoCycITAgvvDjPGG/npgo1ZN8nB+SH73+Qlq3TNj9p3qqDfGc9p/uterZbGjVu2VF9MNm5c5efFdmDDz0qf//9X5k+a476Cq+Pm8gs4tW0aTNUWqfYR+IPxavEYuTIsaqspjiKV6FB/12msr8xQSzAu2iH9Z4Ze/d9fsfxwQEfF44dPqLeBfp4wxbt1D3cvGmL7yMD4h97/Cl1/L5Jaf0xPrAsWfK+vLBgoV8/D4Fr7779StRq1b6L7/iw4WPkwzXrAj6uPDn9GSWOLVr4qhQqlXacZA50oHhlAMIVBCzncSwFM4kKxB1OcQWCFUSdUzmHK2uiloVqKQsjnf6TiwfJ0Ysjt1iKFFh82cvpBliVwdcVQB7aggt5PfyvBjERr3T+cy9pKV2u9Rev4BfLKQ6mN27FK5j+NrQmS/0HDZPqtRsb04QDL0kMtICbL+sa+6AGL8l6DVqqPNyWAy/8Tl16W5OqQKGwQqVaclvPAdKkeTu/L0AmkI8uf7AvQBktXploYk0U8SXLzSRe32eUH3XjTB+MWOWjwW/wW9wb032GGTm+xoWbPGLw1L5TD5WPl3K0bddV4XawiPOEKq8GaQDasH1AqIlGvMLz1avvIGM7dxKvemnSoo161pziDJ4tPGPhzmdPh3oypXFLPNt9w6YtVRmD3UcTsDhA6DfIvaXwye+/VxNw+7HX310adpJnEq8Alnt8uG69/Neql7adQ/uKwrUhuBGHmrbrLL/+/rtgKTCsKvVxCFAvvDBf/vjjT2nZIW3Z/OPnJjoDHXVRpkotOXjwkBw5ekwq1kzzQWnCKV7Z++dw7xf9vLq538hLt3vd73sRr2DRjBBKvPJSHg2esXD9jRM8X207dlfPPs5pj8O16esMV3/28QCeBVMaEzp/Z//htn8Ihan84cQr1B2uwc37PxZEO47S4x/Uk653tBmEYOKVm3GLV3CPkJ+X9od78tGGj1RZTfFO8UqPF920L5QBad3ex2jvQ6SY7l8s0e0Z14ZrNKUxcWO56kZR6L1ly9T9Qpn1sbmvvKZErS63+VvT4nz79+5X1lj24+hnTO/I8RMfUHnfffdE3zG8O7AqxJ4OJDdsLl+dOiV7rfxRVmc8SWx0oHhlAEsGsXTQeXxg/gYBggJxD6yD7PVZr1g1+S7HSOXP6raCDWRW3mZ+6XE8I/yMOX1zFS1ZVnpd5X/MifZ1pYHPLhyfkLeRfJS9v88iKxZ8eqE1QCqU7Du39qnVtWRkA7VYEUy80pO7N15frJauYGkHvpJgMoiw8sMVUr1u+Jc+Ji8wBcZLDV9OcC6YJyOvSZMfcTXxQ9l+/OEHGTFitGzctEmVQS9nWbVipdRv6m+BgAnFr7/+Ki3adpZRo8appWkIhz/7zJemSnIDeWnBq3L27Fn57dffVH4wZb5r/ANS4hb/wQ+sBLQZ9W+//Sb/sSZiuJYPV6wIWONvEq/wxQk+T3COCRMm+aW3s3LVGuMyut79hqo8sQTHOeEYd89EFTdidOrSKOf577n3XlXXzqDvt77PBw9+Jvfcfb/6yma/z8vfX678LejzBSOSfJyDVZDcoKm8+84S330B+PuTI0eUtRVM5pctfU/l6Qz2yaG+vwiod91eFix6w9huEeATqLnVZmAZowMmeYg33Vegz4N7Yw+rNmyUUmVT2xEGdfhiiHsLqxdcMwLq6NbuffwGjV7EK9QfytrdygPLyf6wrlHf68+PH5dOt/UJ+E086gXXgfjd+w+o68PzrZ+PqrUbyThrcIpnC2XDcYTpzz4vJctU9Z0Hfz827WmVDmX61fq/6i+sOrv7rrTBrVvi1e7bde6lrhNl02Xctn23tGnfJayl0OSHpqq8R42+yxhv4r0l76vf1G+UOnmo3bCFHDt2XI4cPSqVQ1gC6vZqikPbQghnCQQRFGHsOP8v8ibuGGO956yQMjRQmMNkCmHq1Gm+Y/BvhftsT6dZsnSZeu6btbnVGK/R4hXynTnjeXX/0O9D1MbfeL84J3B4V6z4cJWvf9FtBPe7osMXGN5Nw28fpZZs6vuNZ+z52fPUORFCiVewptPLaZxBp/FSHrTdTz89JHUatpRXXnnTl+/UqU/7pbOj2zne43gOv/v5Z3UeBPRZWP6Ddr5g0eup77dz/S18EXbrHejSAM/p3fdOUs8pzq/T7z14UDp1C+xvEEL1H/b80B50fuijnNcfDLxfn3s2dQkq+h+8o1F+3Dv470Fw/kY/x7recS0oAyz/dL+k2+3kKf7iLdoUxkMId433fzbqNWsn333/o/JphvZjr/9oxlF4RzRr0d63bBjXiGvd8fE+GTp0lMoLz7z9N27GLRhPbN+5W1lH1nWMo0C5qnXVffvii5NSrW7TsO9n5+818I+Hd5IzoG5QR0iD9v3jjz/KyBFjVBndvM+GWmmxrAzXhecT16rbNYR6nS5W9yGUaI2xAYLzPtjf087x65qVa9RHFnt6E7r8Tkth/f5FHrCEwrsX9xkBx/sMHBT2vRQKLAlE0OIVfOXu+Xivuh9VDO8fWOkiuPGdO2ps6jvDLl4Fo3q9pvLFl19SvMqk6EDxygBEla05Al+2LQvWodP2KMDOgvb6hFP837ONVXHbcw2S/TkGB/wmI3D65oI49ES+0F+ZYPnkzAfHcc3fZxvtu85Y8OXFw6RG0bSBtPaphR0x9bGMIJx4hZfsl998oyYwGIB2vK2vvP1W6uAFE177b0zoL+/zFy6U7n0GqvPBaTAmfBhw3NY7bdfKYKBsf//9t/xsDU5mzHpW2nfpJa06dJOnZ8xSHSIGBvYvxRhYYALz+muL5XtrUAZn25iode81wJdm48aNyvfMU8/MVJMk5Ll+/QZ1nhF3+E8uO3fto74YwuQdaVtY537RuiaU//U3FvsJcHrSqEUOfAVc/NY7qh7vumtCSLEOA2EE52TxjbfeVccRho30HzTB2TFC5XNLgJznx6AR+SGsWr1a1QNocm5pj77PqIsTp05FfJ8jyQf31SleYWCMPO4cO0HVNRgx+k55cd58qVq7iWBA2qpjd3lp3kJ1TWgD+ppurpgqDqMtbN29W50T7aVtp+6+9oK89+3fH2BZgIBJ5JfWAAkD54FDRyq0WOisV2A/z8vWZLJbnxTp0qO/THrwUbn3vkk+UQqTnbVr1suUqVOltVUWXO84qy1g2dTBQ4f8HGjjOhDcilf6uZgzd55qw6jzRx+bpgbwmMDZLRziWS/Hjh6T6TNmqOtr16WnamsI+z/5RE2MdHvo0XeQHDhwUC0N6z0gbUfFISPuUMfmv/yaKhcE3Nt69pdnn5trnBSHIx7tHhME3DNMCvoNul2VEXUBn04nT55Ujmbt6Z3AnyCCyQdUMFq276ru446du1S/hnuEMoeblOj7Yop7xeqP0HehvZjiNRCiEFBvaMO1G6ZtaOJET1qCWbcioEz62Hfffqd8ftnTabBDHOq/Y5j7rsUrTKQwiUd7amrd336DR/g+lgxz9OWoz2UffKD6FPQtWLKCNofzPTNzll9aiBfotzHR1fcb7Rfnwj1ECCVeQSBA3S1dkmq9cN/kR33tUKfxUh487998/Y3s3v2xumY4NUafgx1K7ens2N/jx6xJvj7P4NtHq2tAW9q7b596JlF/iEPfi/4Dbd1pIQWBGc8pJsqoC6QfMGSEeiaQ3tmuEUL1HxCukN+HH3yo2iPywzsZ1w8Bz56XCbTL195InWDjOUf/k3oN49U59Ycr+29QRpQV91W/ZzpbfQ3KgLLgGpEOZUQ9wBm1/ffahxnCmtXr/N7paHsYe0x6+FH171iNoyonN7Du0acqnylTn1RlxrVCSP3C6nsQ7M8XcDtumTBpsirHI1a+9t8DWEvCavKdd5cqx93h3s/O32vwbka7RztB0M8B3uVaZEL7xrkgYLl5n4HJ1rv2tVffUO8KPJ9de6eotowyYmMMnS5W9yFS8co5fsU7Dn8jHLWeS+d1OdHlN4lXCJ+f+EK1Bbx7cZ8fsPoatP2jx45L1TrB70s44AMLz4luK2iHx459rur4lnPjLTuDh4xU5QnVL2peevVNdT9QF6Z4O83adZHfrHv61tvvctlgJkQHilcGtBhQ/rpb/I7XLFlFTial+WQi3oBDceyGl1ykvPr/F9lGpqszdrdgx0P7fYd4teZif+HNTmELk2+untdUko9zD4q5BdmBHClS2iZUQQQ0ia3pTTjxyjnJBJjg4qWGAYX9uBcw8MKXw/nzFxrj7aBsCHPnLwiI0wPdyVMf9x3Tkxp84Ro4bLRfeoDBGgaY057xdxyK64LJM17Wzi/2TvRLHJYbZSunreXXgwkMZCBczZg1S37//Xd59NEnQgpXACb9KDOcg+tj5arUUeIcBq4437JVa3y7vyB/fC22D67t59fHgg2qQKzucyT54L46xSsMrLG7jD2diVCDSD0YR9twxt1730PqHE/PmO03CNIBQqNp2YGpXvV5nJNMt5gsTDCgR3ArXiFAOHPGYWcfBHv9xLNe3np7iV/7rlGvuXqWkOftd/g/gx0791C/sbdHnQ+EDnvaaIhlu0d/sOGjzfLzr79K247+u8bqySyENvtxEw88OEX1B3jOF1sD8U7WZCPUrnN41hcuSq0bBExUu/UKL+bp+rQfw/1p2b6LnDjxpRy3CDep0f0o6kEH3E9YE2GnKbtlgz6ffXmJHQRYW9n/jR2t7Gk0+ryw5jLFa3Q6k8jS3pq4YrKzas16v+PB+O7b7+TwwUO+f2NHr337P5FffvstwP8K+mktipj6HyduLd3sOMsD9POOya7b5V+6nUMUQFuzx425K9VqFxNIZ356Waf9+qrVrK/aAoQzPCP29A2at5Mff/hR+T2D/zN9XAdT/wGLKeQHqy1nfrr/gtWx/biT+tZ5v7fO+6lVV04r6LvHp14fgj52/S2VZdOmLQHihmbbttQ6hl8f/BvCG4IW29A3wooWdbDfah8nTnwh1WzLzhCHZ0Qvm47V+xVCJcJcqy+w97Oo03XrN6g4Uz/nxDRuQTnwDEHwdY57cD0I+iMjrs3N+zkYoZZxen2fBcNk6Rmr+xCpeIVgGr9i7OAcv5rQ5Q8mXn24aq3fvUMbefn1xep+hftIYQLvnQenPKIsuR6a8pjvuC5HMAsoPX556JFAIdROk9Yd5OtvvgnweWgCbRzCNyzlnH0xyRzoQPHKQKkS5eTjXCky+Mq0Fye4oWR5JUaYBAUSnh1JKdIufwXpkK+C2p3PlCYRcC5v1GJmmeJmwQBCEgQlZz53XF09LmLn2tx9lWCmz9/lmtry+qWpA6SMJJx4dfz4Calaq5FfHNDmxM7jbtHn3fDRFmO8HZQNkz18JXPG6cHrR1u3+17eelKz7MMPA9IjDdLC2bfJzF1fF3wGOOPsYACBgQTqCHWlj+vBRJu2XeSllxdag6W/ZbL18g8nXGmwwwpe0vrf2pfMw9bgZtv2XXL02DGplJzqC6ZvymB1LvuyBn1+r+JVtPc5knxwX53iFSbGuP6xd00IGEjbCTaI1PcXbQJtwx4HgvlOQMDgNdhAylmv9vM0apFWfi9gUouBq93CxKt4Fey5gEUGgq6feNfLkGGpS641+CqLr7PIE3nb4/AsINjbo56cvf32krCDWbfEst3XtCajJ786paxeMAG2p0XdIuzYtsPvuAmk7dDpNt/yH4gKcGY+ePidxj5i/IQH1C5TSAsOHsZyQf/lLbAkQXuxW+Do+4Lj4IU589RSJkwY0OawlDvcchKIAbNnv6iWffW02hMsZiDQYaKLDw9YlqfT6vMF6+cQ7L67ELCTlD2NRvffeMZN8RqdDj6lnHF6mYnzvRYMlA31q/8Ny71vv/lWCVimremxpTyCs/8xgfpH8CJeOcsDcC04Bisw+/FQhGrnelko/NrYjwNYkCLYr++u8ZPUMTyr9rSg2E0VZf3GTWp5f0Nb/4IQrP/Q+cEyyBmn+69nnnk2IM4OrH7Qnp94OvADAia9ODeCPqaf42D3tfeAYaqO9Y54elk+BBH8u6x1HYcOfSa7du2R+x94UAl/sB7Sv//61Nfysa2dx+r9unrVGpXOtBv0nXeNV3Gmfs5JsHHLk0+m+uODEK+PQdSBSAtRSz/Xbt/PwQgnXrl9n4XC1O/H6j5EbHkV5Lqate4kP1tjIPv41YQufzDxyvn+BXpZnpd+R9OidUf5BuLSrt1yi+3DgC7HZqu8JgsoN+MXtCu98sHurN0E2t20p6arcbT9fUMyFzpQvAoClns5LXCAaXkYcQd2EnzsmkZqWR78SpnSJAKbcw+UQiXT7rl2LO/0heWMd+bz8qVt4rLMdNYlaTswAWwkMPHy2DjPjIZw4pXzZanRL03ncSd4wVWp3VgtMcDSEvwOAzF8VcYg0c3kAmmcIofGVE49qTFNfvTgDYOJg9bkGoMpO7BkQrAPTmAZga9X0556RpUfW/1iyQsGrjg3yqDT6nq5+94HVPz2HTvkZtuX6HDoL97YmQz/xlIz1BOWLE2aNMXPzPpZa4DgdISsz69FFuBmEh/tfY4kH9N9hV8PWJkhYGkpHLPXatQiYFIcbBCp76/zvoSLR8D9t6e146zXcOexg7JDMMJSC+QDtm7aqqwrEOyDS6/iVbDnQuej6ye96kUT7nwI+K3+Nya3y5evVM8lnkF8aceSKm3xEAmxbPe6n8TEzd5faBDcfLm3g6/IWPKCHfrUhHlmmkUcHNdOvP8hZSG6e89eZdEE6008/3gutICFdOvWf6TyaNCsre/3uvwoM4AQg+uFgNWle2hH7eHQyydxvc7lo8GcECPYLa0Q8AzY02h0/x3OF0qofl7fX+f7BeVFfwmrDJQZIhT8IjlFjmDvRU2oSayTUOKV2/KAUM97MEK181DPh7P/AOFEOFM8Ap4PezqNTo+lZM7nSS8vC2c5F+4+IC8E/e9w99UZrz8e6V3Omre5VQk6s6z+SVtKz3x2jkoLH2cI6Lt0fl77mWA4r8NOsPvoZdzSpK11Xb/95mfZPfrOe5QweJ/1Dtbp3L6fgxHqOkK1b1N7BFVqNVJi7otzX1LXCKsw+DZFsNdHrO5DqPYW7D6Euq5w5dIES6fL7Xz/ApQRIdjzagJtHPcYqw9OnToVYJGpy4Hl6zcZxF99n7T466RspWRZuXK1aoODhoUW4dGm4GoDad//4EOj5TfJHOhA8SoIcLS9NqmfFC5RJuC4SVAg4fnlwjGyKVd/JV4BU5pEYH+OFLm5WNo9x06I2BFx/HXmHYt0fGA+8fHh5RTRtmQfIG0KxMbCIBqCDeZi9bKHQ+qjRz9XS2XwhRfOZTEA0A5Wgw0i7Xh9+euXtmlSgzRIi0kolufhOkxoh5MVkxuoCR/Kj6+OEOCQLyYb8BmCc6MMOn/8FgG+SeC7AY5Su/ZM87UVDghTqJfn57yo/g1/JDgv/sayDQQIXHiR79i1K+BLoj6/fTATapISq/scST6m+4rBE5Y2wKn1J4cPq8n7qa+/lhmzX/AbvAQbROr767wv4eIRMLC2p7XjrNdw59Hga+rsF+Ypi6evTp6UefMXyOTJU1X54TcGwT641IO/8028ApjIw2eJdlKOSeLqNevUM2hP55ZYtnvdT+KZR1ww7Hm4AeJT/WZt1WQdE2HtvLd63WbyxZcnVd9ZvW5Tdcw+mN+5e68SsJIbtLAmGqdkz569Usr2fKAsCCg3gCURrjkSawkTsMBC0BYpz8x4Xv3b2Q4AJkAIdksrTI6CtSvt2B7WP6Z4Tah+Xt9f+/sFSwu3bE31q7Nnzx5VZvwWoDwIOq2+38HeT8H6HxPBRB8v5QGhnvdghGrnoZ4PZ/8B4iVewVeV/Rmy8+CUVN9RwQh3H5xiSbj76oyvWKO+HDlyTD45cFBKV0xW/gwRtAUUHKLDYTj+Rrt1Wth47WeC4bwOO6b76HXcgr5j8+atPsfs6Cc2frQ5wJG72/dzMEJdR6j2bWqPvVOGyufW+AdjrKXLPlTXhmvU/vfs9RGr+xCqvQV7nkJdV7hyaYKl0+U29bsoI0Kw59UEhKsTJ04o4ap1h64B8fDPefjw0aDlHTlmrDrnyDGpGwjZgcUVhCt8qMHy+VDvIrzr9McabHYUK2tskjHoQPEqCE0LlJMjOQZLxWL+5vA4bhIUiHsgXMGqzRSXCBy+eJCUL1pebiqeinYs71xOiOWlVUtW8nM8H29gyWUvA3yHHc05SAlo9uMZQbDBXKxe9jA5xwvIuVY93CDSDtI4fQNpatRrKl+ePOm33Em/tDHQcKa/qXwN2bfvE7WkBEtLnPFOsCQP4ZkZz/p9XUSdoG6cg0BdL089NUNZS2CgiImIc6lPMKpaeR0/8YXs3LlbmrXqEPDlE5McLEvQ1613NdLxpsFMqElKrO5zJPmEGtRpevQcKPvP7e42YuSdvuPBBpFoA2gLqBvUkT0OwM8H/H3A7wcG4fo4QrBJFnDWq9t2BCeyEGH27Pk4YABmmuzpQTri7GlNhKo/52A/vepFE+z50CCY2qOmZu1G8s6SJeq+w9+FKU04YtnuGzZvr8ToLdt2RLV7UzAg6iPo+wVH+mrg7nBabR/Uw/IBGxegjrDs0J7OWf5YAwEWYeiI1OUqevkWlqo408KKFGG6zdcarG9hXeScwGByDCuX3//zhzRvHzh5shOqn9f31/5+mT1nnqqrhx8J9C/jnFQ3siZxP//4U9D7jaWUCM7+x0Qw0cdLeYCb/tJJqHYe6vlw9h8A1hQI8HdmT6tZaN03+MiB02h9DCFY/4ElgQhYEmaKd8PEiZNVHqZ2B2BdjaD/jSWNWNq4dftOn4WRHTjxxoct7PyLf+N5g1P2r7/+Rmo3aqmEILyDdXq8m9Hu23a8VdZa7+ITX3wp1eqm+ZKL5L1oQu+aaJrwt23XVcXZ76PXcQsYMeYe1R5hyaSXkW/esjWkKBXs/RwMU7vWeHmfYdfhA59+qvystXKMC03tOlb34d57U5e6mp57vQzX+TzhuoKNX2vWb6aWhTuX6zsJVn5dbuf7F+j+0dnvmHBaXDnH6xr90TTYuOfxJ6arc3br4X9Ou8UVhCt7nBO0V/2RZs3a9RSusgA6ULwKAiyuPr1wmDQp5L8LAo5/lW1UgKhA3APxCkKQKS4RwBJALAWEIAS0OIUlo/a2AF9Y0wo2kfYF68npbHcZ84o16/P6C2h9rrEmvrkGKZHNfjwjCCYixeplj7By9eqA49hxEANd53lNIA0GiJggOeM6d+2lXnJLV6xSL2Ac0y9t06QGE5H3rJeoyYGtCX2dejc/jRaZnINA52CiZ79BajC8afM2Vy9hWGLAtxVEhBfmzFX+EOyDOQxKMVDEds+4br2rkcY0mAk1SYnVfY4kn1CDVTt16jdXv7WXP5h4hTaAHWlQN2gb9jigl0dAHCxhmwggeBFp3LYjPeh23ic9KUKwDy51+liLV+lVLxq0AbQF5/OhQbDfTxMYKGvfUKb4cMSy3cO6EVaOR44ek4o1zda80RBMvHKK08A+uEfADmLONM7yx5rFb7+n8q9jTejxb+17EDujOtPOfeU1ZZHSpVfau1j7OLP72AHap5DTEbaJUP28vr/29wv+xscEWKHZ08IiAH00gj6mPw589tlhKVe1jl96oHd5dfY/JoKJV17KA9z2l3ZCtfNQz4ez/wA9+wxSx2a/ENg34d0G8VuLPPo4QrD+A356EOzL7LyCHYzRP2DnMmccLNvQ7hD0MW1JZfcdaQc72yFgx0t9DLsAY6wyfOQodS67j0ncC7yjFy1cpPKEL6ySto0MInkvmtA+1jp3C9yESPsOs99Hna/bcQtAfwvxAk7qIWDhWrF00J7GhOn9HIxYiVe6Xp31DbAjM4K9PLG6D9r3FqzsnHF6AwRnPeC6go1f9TjYPn41Eaz8utzO9y/Q/aOz3zERzuLKDvzLOd1VaGCFiGX/dsGTFldEB4pXIVh8ZXsZ9G//DlsfNwkLxB0Qr7DzoCkuEfgux0ipV6yaEq16WGVtX7Cu2hVxe1KKFLX5wkIapJ14TVNjPvFgwhUN/drikwVayBuXhX5BpBcYKMRTvMJLCAMivRMQJv016zWTrdt2qRe687wmkAYBVlzYIQt54EUPE2YsOcBLUe+GA0JNagC+KqFcsFyo16S1cjaL43hxVqzRwDqWZiaPZV4IQ4eP8X2Bxwv1mZkz1aDDOQh0Dibwol706huqjNOefjpgkmkCAyN8qfv8y5NqIocJnY7TPjhgfYU89a5GGtNgBst2kBZCgPZRg/oDsbrPkeRjGqzi+spUTvv4gK/jHbqk7k5nn+RoSw9saw7BT6U9V7e4v5j8bdy0SSrXamhsL05LFQSvIg3aHCZHaEdwlo2y4jxYXoJlXyhX+6691PneW/aB6N3Z0CZ69R8q3373vcrTPrjUg/RYi1cgveoFoA2gLTifDw0Cfqv/DbEAYoW+h7pcqFvsWqjT1bTqef7LC2XKo49J0XPPYzBi3e5nvpi6zTx2EIWApfsDDNRhqYCJsT29ky7WRKWRda9g5aYH8KUr1lC7F6KPtO+ah34OOwJie3j4C9TlR3pYBcEaDU5scT/xW0w+cF36XKbye6VV287WfWkupc6dG5SpUkvuvneSevZWfphmEYfybd60VYkxHbr2VPcR4G8cO3jokLqfOn3dcw7Rd+zYKVVqpr4fUY/33Hu/eqbsW/kHI1Q/r++v/f2yeu161e/3GZi221jpSsny/AsL1H1F0Mdxf5ZbE0qUBWXSkzG8K2617qNOb3++ghFMvPJSHhDqeQ9GqHaOZxbB/hxqTP0H2PHxPmUxhzrQ703ce33fln3wod/kFCFU/7F7/wGV38Ahw/wcqMOyBs+KbvfBwHNy9Nhxv3aH49jx8Nk5LxnrcfrzL6rjDz82zbfTJ/rqlq07qYk38rLvXqn7EVhd4d2Ld5SO02IrBCzw5JPTfXEgkn7GRK/+Q9Tzvm7zFqlcM+05wrJhLGlEsN9Hr+MWzWNWncCRNja7QX8E4cEe7/b9HAzteL6uVW7dF+t+y8v7rIr1/sKOj1g2aN+oolHztrLn41SBzF4fsboPEGwg3KDfKm8TtXHeQwZfWwDXhYDxK8a++r0LC2e8i9G27ONXE8HKr8vtfP8C3T86+x0nTc9ZXKEvGnb7KHUuJ/adPDHmxHsHYwb06bgWLDud+sQ09V6w7758s1VWLVzNnvOiMW+g0+uPMvCr1qxNJ2Na+y63KSnD5Z2lS6W+TTAniYcOFK9CAOEKQpXzeK98sLSJvSPu84X7r6wvB/4R6OA8UYCVFYQrWFQ9cllD6WT9H8cPXpwiZYumDYLbFKwjf1vt4GSOYQF5xIMfc4yUBsXSBmVYMrg1aYD0L5U2AMkIMMC8//6H5GPrhYrBzC+//qrM/rXPFbwkYvGynz9/kUr32eEjKv816zbISWsy+va7y5S5tH1yEQykwRchbKuLCR2WcmC3k8NHjqiXIiaT9olOqEmNRr8k4TR7+87d6hxbrXyPHP1ctm1OcyTcvffA1HTffacsbbC9Pb4wY4C0dffugEGgaTCBATIGKcjHKQ6YgONXDALAHGsArgd3oFyVOtZg+bC6bvuuRppggxlMdvEbXOubyz6QV15brMzUY3WfI8nHNFjF5ODTgwfVxA47pGEpBibwuP/1bb438HUfO6f9arXb91etlSUfrpKhQ9N23LnzzntUfWOAG669AASvIg3ygJNt5Im2jKUoOA8mExs2blb1AIeyGGBjd7adu/dYz8NC1c6OWROuufNSJxj2waUepMdDvALpUS8A14624Hw+NAj4rf73SwteVtY2m6xnD3UEKzGUC2W1L0fpYT2PeC4Qb38ughHLdo/nGF+DkR8ssFB/uAe7rb4AS2zumzDZL70TpP35559V/7HjXJ/zyYED8rPVhrG0dPDgkb60mOBgR0AExKGf1ul/+uknNXnA7kt9U25Xk0x8NYeApX9vKr9XsBMshEN9bnDw4CG13Twc9iY38F820th6PjEJwuQfbRzgb4gTvfun+N0viAVwSI+6PHrkmMob9Yj7DcHSPlkKRqh+Xt9f5KuPDT5n6YMyYVnYkqXL1LP60aZt8u67S1WcPY9a9Zr4JnUoG/JCO/rq62+siXqqjy/n82UimHjltTw4f0aLVxgfoC/+6Zdffe9NtI9g9w0hVP+BZXrID4IJdgBEfgBLwvCsOPsVJ3hOIJwh6HaH3+/75IBqv3j+Eey/gSCG5xhiG3b6RHpYO2PTAzxLnXsGCgn6YxHeTXbxBm0ay1z1+xrvbvvvIulnTNxQtqosX/6hKsPhw4d99XT02Ocy3XoHIdjvo9dxiwY758KCEnUDv3bOeLfv52CgL8c1HD/+haq3Vda7u1aD1A9wuB637zMIp3heUu/JIXndel5Qpi+s64JABxHSXh+xuw/VlJ86fV59H/D+f+edJSoP5/OEeNQR/Jdi7Kvfu8c+/1zlY3rvOglWfl1u03Oi+0dnv+ME9YaA9oJzmHh7if+OpHocgXc0rgU+FzHGwXuhis3tgP54B/CONOUNdHrkiYBn35QO2Hf31MtpMZbSx0jioQPFqxA0ui5ZDlwwTIkE9uM1S1aRk0mBDrqJO45mGxGXXfhiSecC9aRvvvpqJz+ImDimlxOiDdxUrJyKd/4unhy9eIhUKpr29apW4SpyLPtQKVM89Msq3uAlvOjVN30vXw22XUc8BqF4YSGN6esnHKkivfO4E/wWXzrxUsOLF+vl75/8sBLPXnr5VZk9N/xLB2nmvrRQbrqlskx5/EnZZQ0kkReWOJm2bMY1oGyDhtzhd9wJ0mFgB99FyA9l/AAm8wOG+9JgUAGnxDgX0sA3AQZd+DI7cNhoVUf2AbuuF6dFFJaGYJCw+O0lrkyhIcYgH1jLOOOenvm8ijM5sw12fpRx0WtvqGsAr1p/w5ogVvc5knxwXzFps385nTBpsjXp2Owrp65v5/UA3D/stKbT9UsZEhCP3ZPgkwNpkBbioWmgiLJBXHUe1wSrV+SFPDGI1+fBRMjeLvEbXQ6AtCgb2hDybNI6bSdS/I1j94y/33csGKb60+h8cB5nXHrUi+5fnM+HBr/Bb/W/O3bprp493U/oesIXaXu54JQXIdyXak2s2z1+e/f4ieoe6zzRN2BpHMQOZ3o7qHdMIiGE6N9i4o9jpuccdOveT1ZYfZQ9PXwl6Y8MAP0Qyop8tKVEsPJ7QZcX59TnhziAPthpkaHBEqIPlq/0pUfZcW9NacHQEWNl646dKi3u/ZyXFxnbiwmUD9do6uf1/XW+X/oOGOZ3PrQNpIVVnKm+nO1H79ao+3PT8+UEzzLytj/nGi/lCfW8B0PXg6md45nFOezPoSZU/wFLJHxUQZ+Lcu/5eK88NX2Wz4rJDvII1X8A5Ic2bW9neAdMnvp40HbmBPcE90b/XtfjHWPGB9Qj0M+xfq9jDPD2O0v9nis74ydMUvlMeSpwFzXdDk07I4aqf+D1OcXYSY9/UO8PTp6irgXPqf0+eh23aG4oV9W6D/sCLMw0Xt7PJlBWlBllx+/Xrd9g3f9UEdzr+wxt47Fp033tENeKD7J47z4143m/+ojlfUAdOtv/Qw9NVfmirTufJ+QLYbSVdQ1uxq8mgpVfl9tU/7pdmvodO6h3pAuFsx/V4x57+0Kd4Fm2p9P3LRw6vSnOif16npoxS44ePabatD5GEg8dKF6FAH6E4E8IfoXsx0uULCc7k1ICxAWSdZh4eQN57LKG8lqetur/OIYdBbVj9DGF6shTBdoE/C6evJW7lxS2tcMu19SWNXlTd7I7n8C2uvhihMGLKd4LeHkjL7tvnkjBl1s430Z+pq1/NTgX0sBqw43FR6KCawAmoSJRQNl0OcPVd9EbK4RMh2UNN1dIvb9I64yPFeHOo+MB/nbGpzfpVS9e0f1EsHrasmmzsvDw2n6RJ4hVu9ftDnjth9AH6t+aJlJO7M+Dm/SxRve3wM1Ey15eN/Wt6yNU/xtLIjmfvh431++V9L7+WIC+Fn0uyn19marGNF6xt7NInlPcG/17U7wJ/V7HGEAvr0t0dD25qXev4xYsJ4dVLizXsPTSlMb+fEc6HkLZU68huvGgvR3GYjzoFi/tH4KL3aJM37/0LG+88Nq+Yg2e+Uo1I9uNmKQfOlC8CsPsyzrL4ty9pJDD+mrWJZ0CxAWSdYBT/m15e8n7SV3kiX+l+rTSywnh9+q1pB6y+NJ2Ab+LJ04RdXbBDnLvFexsCSHECxionjr5ldwxyryzGCGEkMjRy/pgSWSKJ95xileEnG/oQPEqDD0LVJEDuYfKLdf7mxw3KFQpQFwgWQ8scVzwz7bqb+woCD9Y8Hu15+IBsj/H4ID08QJimn35avGit8jhPCnSoFj6fz0nhJDMDMQrOCuPlaUHIYScz8CKSoOl2PAbduzwkQyx8MyqULwi5zs6ULxywb48/aRxkcAO+O18twaIDCRrAdEISwf1v+HnqmLJSnI0KX2ctGuev8x/C2w4af8450Dle8t+nBBCCCGEkPQCS77gs0gHbJrRpn0XY1oSGRSvyPmODhSvXDDxmqYy89JAJ3Yp19TnroPnAe/9O22J6NaLBii/V/B/ZU8TT+Dcvv21aVvpFi5RRt6/tIc8WcCdY0tCCCGEEELiAXz3dby1h9qxs/eAoVKzXrNM4/srs4ANJe4d/4CUr5Y2HyDkfEIHilcuaFIoWT69MHDXwRrFK8mXudLXAoekP7C+sv97Rp6Wyv+V/Vg82fePwVK6VNqy1Wolqsohq901upYDA0IIIYQQQgghWRcdKF654OaS5WV/0mAZVtRf7Ybj7neTegWIDSRrA+EK/q9McfHAaWHVL3/983KXQUIIIYQQQggh5xc6ULxyydN5b1VCFQQr+/EeV1fn0kESN7BksExxf79WH+XtoQQs+zFCCCGEEEIIISSroQPFK5dULFZeTl5wuzS4rqbfcfgf2py3Z4DoQEgsWHh1N7/21uKGZDmWa7haOmg/TgghhBBCCCGEZDV0oHjlgYVXt1fO253He19bV/6+MP18IJHzgx+zj5aGhZN97aywxVu5e8mrl3AHF0IIIYQQQgghWR8dKF55ADu+HckxWIoXvcXvOKyycNwkQBASKR8l9ZMSJdOWDFYtUUlO5BomDQpV8mt/hBBCCCGEEEJIVkQHilceuKlYOdmec4BMyNsoIG7a/7UPEB8IiRT4UYM/NXsbG39lY2X9Zz9GCCGEEEIIIYRkVXSgeOWR4UWbyM5/DJLSpSr6HYew9VW2UQEiBCGRsDKpq/KnptsXrP0OZh+krP/s7Y4QQgghhBBCCMmq6EDxKgLW5xootxVsEHD8nisayOlsdwUIEYR44T8XjJF2+Wr42lWhkmXlwbyNldUfRFJ7myOEEEIIIYQQQrIqOlC8igAIVxCwnMerFKkkn180NECMIMQLm3P2leuLp7WrCkUryKGLB0nKlbX82hshhBBCCCGEEJKV0YHiVQRgySCWDmIJoTNuyj/p+4pEzp/Zxkl3m9UVGP6verLpon5+xwghhBBCCCGEkKyODhSvIiSY76viJcvKtry9AkQJQtwwL08b//Z0ztdVt3x1/Y4TQgghhBBCCCFZHR0oXkUBrGFgFeM8Dn9F8FtkEifSg7OXjpezZZ4SqTU7lXLTRQo8KJIjhD8uK+7M9VNFajynUH+HSH+muBWv83dwttIzqecz/M6IIQ8/Klr55Rhv/q1VxtMlH5WzNZ4VSX5ezt4yTeTyiea0mgut8lvlO4N8rfzPVp7prbxx4rsLR0ndQjV97aiwxfT8rWT9Jb3o64oQQgghhBBCyHmHDhSvogDWMLCKKVPcX1goUaKcLE3qHSBOpAd/tXlWzu46Lmd//uPcLbbCr3+KHP5GTi/aJmfyGUQaiFST3pMzX/8kcvqMQv1tHQsmYP357LpzmQeGs3/8nXq+gS+HFMB8hAsHvhK56v7A310+Uc7O+UhOn/pRzqLcZ63/fvpdZMsxkWpTA9Nr+syX04dOyZk//lLZn/3zv6q8cu8yd+WNE1PyNlWClW5HELIgaDUpVtmvfRFCCCGEEEIIIecDOlC8igIsEVxxaU+Zmb+VFLX+tsdB0Poxx8gAgSKenK07U87+/B+Rb36V09NXyx9D5iv+98QqkZ0nRP53Wk5vOxwg0Jxp9JwScv5e+UmquAVR6JUdSghSlky2tBotXv017UPfeTSnZ61VghnKgjKZfu+HFc58+1NAPpq/Os0KFJXw73kb1W8hVv017k2V9vQLm1LP+9sfcqbqI/6/udCiz/zU3xz/Xs48vS41//FvyVmIV1b9nBm1yP836cTWiwaoJYL2NjQ3TxuZd3Vbv2OEEEIIIYQQQsj5gg4Ur6IkuXAFOXnB7dLgurTlXpqhV9VXDrhNYkU8+HvjgdS7WmNqqlBjj798ohJmzoxYGCAE/TV/rfrZmZtt1k0NpylLJizFs6fV+CyvsKzPGY8lfgNeVtGnl+4IjHdihT8PnjDHBUEJWqfPyl/r9gUsEzzTZq4SsM5sPuIXh6WCyuLq21/kTI2n/X5zttAUOb3381RrrAohrLbiAETOdoX8nbTDaftnuYZJzWJV/Y4TQgghhBBCCCHnCzpQvIoBT/2zhSxP6qIssezH4acI/opMgkVcsMLfx06Z40KgxSuf0JNjvPw16V2RH34XuTm05ZVRvDoHrKnO/ud/xjg/rOBJvMpzj8i2Y8HLl+MuObtsrxKiztSYnna87wvqXDJllX96TYtnRP57Wv5esDlQ/Isj8y/pKIVLlPG1mzLFKsrunAPVzpX29kQIIYQQQgghhJxP6EDxKgZAbNifc7BRbIBl1lfZRgUIFvEAlkNqaWDvhcb4oLSYq6yYTo96Xf37r4eWqmV/avlfEEfpGSlenS3xqJz96sdUAQtClilNh+dUvnL3G75jygoModi9fml9wGk7lg/u/ULkivvMaWIMdqZ0OmO/54oGsjKpa4AYSgghhBBCCCGEnE/oQPEqRmCZ1/Hsw6RRocBlXr0K1JG/LhgbIFzEnEELRf7ztxKw/lq1R+SON+TsLU+mCjEhLInOFpkiZ098r5bTnT52Ss58/2uqgGVIq4nHssEzZafKXzOXi3z9S+qxnZ/J6UEvBS4LrPhMqlXVewf8jvuBpX9W+OP97b5jf3/xbeqyQHs6OzjPni+VA3jsYGhME0N+uGCUNMtXza+t6GWozuOEEEIIIYQQQsj5hg4Ur2LIlCtay9qc/QOOp9vugxCNBi1MtcBCOHs2dfe9vV8oB+7BfDmd6T4ndXdBKyi/Tzc+HtTiShNzh+0Qo079IP/bdUT+eGOj/L3q41SrrdPWNbyyw1/AgmBmBVUGez5OkMZu0eX8t4nVR+X0r/+R0+WeMsfHkKmXN/Vz9K+XmZo2ACCEEEIIIYQQQs43dKB4FUMqFK0o+3IMksl5G0thRxx2kjt0UUqAgBEX4JC9+qNy+qnVypLozDc/KyFLWVY1S7OUOpt0r/z5yHvKz5O8u19Ov7xR5PSZVKspm3h1ptWTIk3m+P4NfJZXhnD2j7/V8rvTA5GPY5dAA2dXHJazO04EiGtny0+W0wdOKksyafFCWpwH8eqvfcf8/u1GvDrzy+9ypozZ11csOJvtLlmVo59f+wAPXdFKVufsF7DrICGEEEIIIYQQcj6iA8WrGNP22mQ5duEwqVsocPfBVtdWk2+zjwgQM+LK5RPlTKmp8teTy9UNhzWUFonONpsuZ//6r/xvzgaRf9wncs19cnbL53L2pz9EGqSJN1hK+NfyXWl5WvjEq+FLU8UkG2crPZPqP8qWPiQQyq6y7XRo40zXOeo0yqm8PuZh2eCf727xHXO9bPCrH+R08UfMaWLAiYuGSo1CFf3aBpadnsg+TBoX4nJBQgghhBBCCCEE6EDxKg48kbeZbPzXbQGOuMHgIrXlz2zjAgSN9ABL/BD+GJvqmF35g0KwWzxZf5898HWq36ka1vE+8+Xsf/6Ws42fTktj4ROvIFjZjscFK9gtps4UekjOfP6tZ4ftvl0VM9Bh+485Riqhyt4myhWtENThPyGEEEIIIYQQcr6iA8WrOFCqRDn5IFdvWXRJp4Ad4wqXKKOWh52Oh4B19Z2hl+m1fVbd9P8+/L76txKEEJzpyj8ucvx7kZM/ydlvf5UzG4/I2Uv9fWDFVLzKG8KZ/TkLKrvjdQhWZ9d9JvLLHyJlDb6prDo4u2xvqs+tSk+mHe85J9WH1vQgyw1bPKOWUCr/YCEc3EcKRMsBBRr6tQewIkdfmZ+nDXcXJIQQQgghhBBCbOhA8SpOlCleTvblGiRDr6ofEAeR4t3LewSIG9Fw5ub7RT7/QeTON+QMLIgc4suZfA/KX+v2KfHmr06z1DGfJVKPuf7prb/P3nrOcskKyopJx50jVuIVyvXfDZ9Y53s5YFdB+ecE+fvNnXL29Bk5O+I1vzh1DbgWXJPjd2fazFXC1ZnNR/ziUC+nD51Svr/O1PC3JDtbaEqqs3osK7RbosUIiJWPXtpOiZe6HcApO5y2w08a/KXZ2wghhBBCCCGEEHK+owPFqzjSoXgtOZxnUMAyMVC6VEX5f/b+Az6qI833xvfdu3He3f/ufWfv3ru7s7vXM57xjO1xBIxtcjI5Y3JOJthgsAGTMbaxMQ5gE00wGBuMMQabnHNOQgKUJZQDAklIIvP8z6+kao6OqlvdUgtarV/h78fqU3Xq1Kmqp56q51TY+/c9Sxg5ygqMQOqUwTv35G5Mmtz89qjr9L/bn+2Uu9j4HG7FIdfsLBhwYMjBDCvpv6JwBpTFjanr5V5seuHMJRiBQhKUccf+PL8Zr2B0wxLF67dEjsXJjfHrVJpvTt4gd4/EqplQd8NS5N5/zyh+L94B7wJnu+/OsiOF6b5WIHdfcuxbBQPdgJWF91y6LHe/3K/uuTHZel8sF7xtPevt1cXv8QMwXH3yL21LzKzq+Z/1JPL/GSFNf8N9rgghhBBCCCGEECfa0XhVwcz4544S9XcjpMEfShooXnzsBTn9T4NKGDvKzP/3buGSuOh0dWKedjj9D5uQ31t6uMQspRvtF8m9yFS5l11QGPj2HbmXckVkXaiagXSn/yplDFKGscc/d83Q8ueyQRje7m44I3dSr8i9m7cL47Wnw92yQryv9U7qPpySeM/676r13sfiRF72MHtqwMrCGViYZWW5ezCcwXg1ZYvnZZdlZOevByhjpb3sYbCC4QoGLPt1QgghhBBCCCGEFKIdjVcVDJaJzfiXNnLmb19TSwmd/jBgnfh1vxIGj3Lxnx/I3WfnFBqWLHD6nzo9z41h5t5/vC/3nv2iMHytRXLvsVlW2Pt7XN3TcdmMV3f/8EnhtX9+zxWuXFhpu/PHWXLvxYVu02FE31d7kUjdxXLvGSutDgNdCax3wBJCnFqo8qfmAt9OR/SB9f/Wu4ThCmUe/vfD1ZJBLB20+xFCCCGEEEIIIaQQ7Wi8egDoPa6wMffTv6tWwl8ZM/5ueAnDB6ncmGZc4TdOolz8m3bFrhNCCCGEEEIIIaQ42tF49YCA0eLHf+sly/+tQwm/R/5YuIzM7zOwyEPDNOMKv2HQwkmUOJHS7kcIIYQQQgghhJDiaEfj1QNE73GFWTd//KN5BpZf98AiDwXTjKs///55ZbzE7Ls/PPpMMT9CCCGEEEIIIYSURDsarx4wMFB5WjYGf87AqryYZlxh2ejqf+wiZ/92iDz/aPVifoQQQgghhBBCCDGjHY1XD4HSZmBVf7SG7P//9S9hGCGBy52/GK8MVJhhZS9LGLJm/Utbtxv2E0IIIYQQQgghxIx2NF49JEqbgQWjx+f/0l4ZRUzGEhI4XLfKaNL/11LNsHKWIZYQwnD14u9fKOZHCCGEEEIIIYQQz2hH49VDRM/AwibuplMIYQyZ9U8d5crfjC5hMCGBQcb/GCXDf1dffvvYs8XKDoYr7nFFCCGEEEIIIYSUHe1ovHrIwIDlycgBo0j3/1tXGUlMxhPy8Ij8q6HS9r9eLlFmalbd/xyoytRklCSEEEIIIYQQQkjpaEfjVQCAWTrb/6mvWl5W77fm5WVN/6ua2vD7zl9MKGFEIQ+Wm3/5jmz7u/4l9rB65I9WOf3mZddyUM64IoQQQgghhBBCyo52NF4FCNjoe8a/tJGIvxouvf6jtjHMs7+vIV/8z9YljCnkwXH9L8bK+H9tJI8/VnLz9a7/VVdS/3K0TP1dG+NG/IQQQgghhBBCCPEe7Wi8CiCwRHDGP3eU6H8YJm/8n8YlNgDXDPvXuhL+d8NLGFZIxYGN88P+Zph0+K+6JcoDhioYrOL+coS8+a/1S/gTQgghhBBCCCHEd7Sj8SoAefUP9ST670bK6n/somZkOf2xPA37Kq34h/bqpDuTsYX4D+Txh//SVqo/WqNEWWBp4JZfDVBLBZv/5mX5rcOfEEIIIYQQQgghZUM7Gq8CFOynhH2VYBRp+Egdo1EEM7Vw0l38X73BvbAqAOxtdervB7tdxtnxkdpy8a+GyN5f9TEatgghhBBCCCGEEFJ2tKPxKoDBvkqf/7qlpP3lWzL2dy2MYcCLv3tB7YWF/ZhMRhjiOyl/8bba2+opw95VWM458392Uss73/o/TYyz4wghhBBCCCGEEFI+tKPxqhLQ8b/qqD2uVvxbB6n9iPsZPnV/W112/lNfLiUsB1f+ZrSs/YduxplUmP2GWXDb/767nPrb19zOyCKEEEIIIYQQQkj50Y7Gq0qA3uNq+T+0V6cRYqkglgyawmJWUM//aCjH/+q1EoYZ4plV/9ZJWj5ay23ezvh1MzULDrPccPKjKQwhhBBCCCGEEEL8g3Y0XlUi9B5XMX/1upr9424vLM3IR5vL6f93GGdieQAzrU7+7Wsy9H/XM+Yh8hwGrT1/O8jtaYOEEEIIIYQQQgjxP9rReFUJ0XtcJfzlmzL3N23ViXemcODpx2twJpYb9Ewrd3tWIe+++5/d1d5WU/69GTdlJ4QQQgghhBBCHiDa0XhViWn++5py4B/7ScT/GCYD/r2JMraYwmkQfus/9ZHU//FmlTydEO+c8HejZM0/dpcmj7xgzCOATdqxWXv0/zNSNv19f2n6XyU3bSeEEEIIIYQQQkjFoh2NV5UczBrq/d9N5MDfDVFLBN0tf9NgGVy9374ok/6liZz4db8SBp5g5M5fjJejv+4rg37TWF5+7CVjvgDsFzbi0QZy/u+Hy6H/1Vs6/kdteewxniRICCGEEEIIIYQ8DLSj8SqI+ODXzSTyr4fJkb8apJYKulsOp4Ehq8+/1ZL1v+onsX/9elDtjYW9rC7+6g358jdtpPUTnvepwkyr/v/VUBmsYLiCAQuGLFNYQgghhBBCCCGEPBi0o/EqiMCphNUfrS4j/1cjtZQQG5Fj03ZTWDvY9P2FR2tIp/9qIIv/ua2k/MXbJYxBlQE9w+rD/24nzX73sjzzpxoqT0zvDGDcG/vI/ZlWMGDBkGUKSwghhBBCCCGEkAeLdjReBSnYxH3qr5uqpYQwZI3+X02k9h9ekEe9mFGEGVkt/vN5+fg/W8mhvx8scb8aKTl/ObaEsehhgzTF/M1w2ff3g1RavdmbCjOqsGxy+iPt1J5WZ/92KGdaEUIIIYQQQgghAYh2NF4FOfq0wZ/+dydJ+rsR8svf91NLBWGgMoV3AqNOzT/VlOaP1JVh/9pQVv5jWznw6z4PZYkhnolnIw0D/6OxSlON31fz+l36/ueLsvOf+krc/3hDvv23HtL6/9aTP/3BHJYQQgghhBBCCCEPF+1ovKpCvPzfz8vCf+yilskd+F+95P1H2kmT379c6t5Y7ujy3y/KG7+pr2Y9bflVfzn2q6Fy8W+GSvRfD5PEv3pDkv56hJodlfcX73gEYRAW9+BexIG4vvtVHxX38P9dW+r+zvflfFgCCAPXu//eQs3QCvvVcJn9m9by7B+4CTshhBBCCCGEEBLoaEfjVRUERp02j9STBb9uIdH/MFTO/e0Qmf2fraXt43W8nsVkAntnPf3756Xao9Wk1u9ekNqPvqCMR63+u75HEAZhcQ/uRRyIy/QMb8AMqyX/3E0Z6cL/coTaxwv7eZW2BxYhhBBCCCGEEEICB+1ovKriYG8sGHt+/OceanaSNvZ0/6+GUvcPNZUxyXRfIAAD17N/qiGNfv+yDPpNY1ny369K6D8MUqcM/vSrfjLg32tzLytCCCGEEEIIIaSSoh2NV8QF9o/CLKh3/rO5rPuPznL6b4eoZXx7fjVYLd/r+Hjdh24MgrGt57/XlMn/t7Hs+9VAifh/35DEvxkpm/6+m7z2m8ZqGSRnWBFCCCGEEEIIIZUf7Wi8Im6BoQoGKxiuYMCCISv1b0fKqb8ZKj/9U0f54NevSK//aqyW/mH2k17299yjz3t1qqEdPAv3VfvT/eWGbf67gfT69wby+f9qId/+zw5y/i/fkEt//bqcx/N/1U8ZsGDIMsVHCCGEEEIIIYSQyo12NF4Rr4FhCksJYVQa8psmMvefmssP/9BBtv66h0T+zXDXhusRfz1UTv79UDnyqyEKbOaOzdedrPtVP1eYU1Z43Bf1q8KN3rF80Wkk03tjPfX75zizihBCCCGEEEIICXK0o/GK+A1s9t7iP5+XV/+jujohcPS/1lNg5pbJeIWZUzoMwH1lOVWQEEIIIYQQQgghwYd2NF4RQgghhBBCCCGEkIBDOxqvCCGEEEIIIYQQQkjAoR2NV4QQQgghhBBCCCEk4NCOxitCCCGEEEIIIYQQEnBoR+MVIYQQQgghhBBCCAk4tKPxihBCCCGEEEIIIYQEHNrReEUIIYQQQgghhBBCAg7taLwihBBCCCGEEEIIIQGHdjReEUIIIYQQQgghhJCAQzsarwghhBBCCCGEEEJIwKEdjVeEEEIIIYQQQgghJODQjsYrQgghhBBCCCGEEBJwaEfjFSGEEEIIIYQQQggJOLSj8YoQQgghhBBCCCGEBBza0XhFCCGEEEIIIYQQQgIO7Wi8IoQQQgghhBBCCCEBh3Y0XhFCCCGEEEIIIYSQgEM7Gq8IIYQQQgghhBBCSMChHY1XhBBCCCGEEEIIISTg0I7GK0IIIYQQQgghhBAScGhH4xUhhBBCCCGEEEIICTi0o/GKEEIIIYQQQgghhAQc2tF4RQghhBBCCCGEEEICDu1ovCKEEEIIIYQQQgghAYd2NF4RQgghhBBCCCGEkIBDOxqvCCGEEEIIIYQQQkjAoR2NV4QQQgghhBBCCCEk4NCOxitCCCGkCrL8+x+KugL33Z07d6TXgCHG8JrfPfG8pKakFN1R6GbNWWAMq3muZn2JiIgqCn3fJSWnSO1GrUqEN7kuvQaWCKcxud179sgTz71sDO8EcZucKSxwF37mJ5/Jo09WN97j5Mixk0V33Xe4Zgqr8Yd7b/pMY9ym9HhyBQUFcvLYCeudP5FX2nT2+r01z75YX7r2GiBLli2TvfsOSt61vKKYRf0ddvacrFj5rYwYOUYaNG0jf3jqBWM8hBBCCAlutKPxihBCCKmC9B0wrKgrUNzNnefZENWqbdeikPfd4eMnPRoXGjRrKxnpGUWh77szZ0Lkj0/XLBHe5Hw1XsEtXLpCGdtM99jxl/HqSnaOtOvU3XiPk8puvLI7vPf8RcuM8Zro2W+AhISck+vXrxfF4Nmlp6XL9n0HpGOXXsb4CCGEEBK8aEfjFSGEEFJFsc920e7g0RPGsJr3P5pVFPK+u3QpQV6q19QYHmA2F2Z1Od3s2XON4U2uLMarnOwc6dJjgPEeO/4yXsGdDz0vT9WoY7zPTjAZr7RbtPQbeeyZF43xAxg43/tgZlFo3x2MXXO+/FLN2jLFTwghhJDgQzsarwghhJAqyi8bNxZ1B+67m7duybM16xnDYxbT/gOHikLed9fy86VlR/czjjCby+TadupsDG9yZTFewUVGRrt9H40/jVdwq9f8WOoyt2A0Xt28eVNGvTXBGD8YNuJNr2dbuXMwgi77dpVXM+oIIYQQUvnRjsYrQgghpIry5pixcvfu3aIuwX2HJYWm8DVqN5aYmLiiUMXd+EnvGu8BmM3ldGmpacawwOTKaryCW/fjennMsDxR42/jFWa09R1kzkONv4xX5y9GqPu8Zdjrbxnjhp/T5eTmlrgfHD95WlIc+55pFxcdYzTcYf8x+DkdjKUxsXFy7MQpV/wXLl6U5JRU5ed0sbGxUqtBkxLxE0IIISQ40Y7GK0IIIaSK0qhlR8m8fKWoS3DfLV76tTF8s7adJTsnpyhUcffzxq3Gex5/qobRCLF61RpjeGBy5TFe3bhxQ4aPHGW8F/jbeAWXnpHh0cgCI43T4ZoprMbkPOWLL/iSnt89WU3qNm4lmzdvLQpZ3PUbPLTEPSNGjy3yve8wC2vSlOlSo05j+e0T1Vxhn65RW+o0bi29B70uB/YeKAotknXlqnTpWfoyUEIIIYQED9rReEUIIYQ8AJ7u9aL8xfkGfuP//f4V43N84bkX60tkZMlTAE+cPGM8PQ4nv7lzl3NyjDNuTBvDY+nXoGFvlgirMbnyGK/gcEJivUbNjfdXhPEKbvv2HfLEcy8Z46jMxitNo+btJDMjsyj0fTd37qISYVetWlPke9+dPXdO/vSs+z2yNIOGjJTYuHiZ88VcvywX/P3L1eQfd9YzylV5gIybnkcIIYSQsqMdjVeEEELIA+DRas/L/2n6ot/4Xb2SxiVfeeTx52T9hl+KugT3XVxcvNSsW3LW0PdrfywKYXbdevYvcc+XX84v8r3vMCsJJxA6w2pMrrzGKzjs12XaTL2ijFfYA2rC5PeMcQSD8er3f64hJ0+fLQp93+3Zd6BEWFP83hqvUE9rN2zhVVhveOTPz8l/NKpplKvyABk3PY8QQgghZUc7Gq8IIYSQKszAocOLugT3HfZsatWhW7FwmPGC2Ut2t3fX3qK/Ct2sOQuK3YPZW5jF5XTnL4R7PJHP5Hw1Xpk2BseMr/Hjp5S431/GK9MzCwoKpHHTNiXiCAbjFfD2vo2bthT53ncoj6+XrZTGLdrLE8/XKnEPIYQQQoh2NF4RQgghVRjMZoGBxelGj32nWLhWbbsW+RQ6bL7d/7U3in4VusPHTxZbOojZW5jF5XRLlq4oFrcTk/PVeDV3fskZX3A52TnSo9+gYvf7y3jl7pmnTp+RarUaFoujLMYik3uYxisYIGGIdDosEXSGnTB5WpFvSXc587KEhp2Xb9ask9dHvM0N2QkhhBDiQjsarwghhJAqzs4du4u6Bffd+g0/FwuDWVV2t+zrFdKkZQfJupxVdEXk0qUEealeU9c9zdq8KtlXs4t87zvM9rLH7cTkfDVeIfznX8yV27dvF12570JDQ4sZk/xlvEKcISHnin7dd5hhNOfLL4vF4S/j1bQZs1R6vOWpGnWNcZclPThREbP0nG7Gh5+UCIuN++MvXSoK4dkhv86dPSdzvpgnnbr3U3uzYemgM05CCCGEBD/a0XhFCCGEVHHGT3q3qFtw38UmJLr8MZsKs6rsDrOunqtZXyIi7m/4fi0/X1p27O66b9SYcXLv3r0i30KHjd1L27vI5GB4MYUFJofwz9SsJ6fPlNyTCcaRhYuXuu5HWJOzP8OOp/BtO3U3zmTDksL+Q99wxeEv45Wvzl0++pKeJ557WSZPeV/tXWZyjVu0M97Xre9gdWKgLw75dvFiuLw3Y6YygJniJYQQQkjwoh2NV4QQQkgRv3+xmjqJrFJgpdX0DmWhWdvOkp2TU9Q1uO8aFO3VhNlUmFWlHWZbYdYV/HbtLr7vFQxhOt6169YXXb3vftqw2eXvDpMri/EKfs3bdFZLBU0Op9hhRo8/jVdg0pQP5NatW0VX77vY2HjXzLTKYLwqi9u9c5cxfg0MeMiHu3fvFt3hvTt1LkyVpyleX3jkiefk0cok60WY3oUQQggJdrSj8YoQQggp4h+XN5F/PFa7cmCl1fQOZaFG7cYSExNX1DW47yZMfl/5YzYVZlVph9lWmHUFP+deRj9v3OqKNzK+5DKxESPHuPzdYXJlNV6BseMmy02TMSkuXp1i52/j1ZPP15K9h48UXb3vYLBZ+8NPKkwwGq8wE6tF+9KNSy/UaSIzZ32u9k3z1aWmppZ7TywYrv51Qy2zXAUwpnchhBBCgh3taLwihBBCinisQeXC9A5lZZtx36tf1Mwk57LC/QcOqdMHcV/9xq2LrhY6LAvEMsO6jVsWXbnvsrOzpWmbV0s824nJlcd4hWVuuxwnI2r3yy+bpOeAoUW/ijv7M+x4Y+xCvrhbVjdpynQ5duJU0a/7rrIar7A0NCUlRYaMKN0waQf1pN/goWoD/3Oh5yUpOdl4YqPTbdu7X37/53IsIXzyafl93aeNMhXIGN+FEEIICXK0o/GKEEIIITJuwuSirsF9d+FihDxdo66aTWV37380q9i9zhk03Xr2l1Fjxhf9uu8uhofLMzXrFLvXhMmVx3gFsJl6akpKke99h/2vdmzbUfSruLPfb8cb4xUYMOQNozEmOTlZ0tLSin7dd2UxXlXkhu3eOBgr5y1YKA1eaW2M11tgYKzdqIW07dxLZsycKXscy1HtLik5xQrbyhgPIYQQQoIL7Wi8IoQQQohaiuVcWofZNI2at1MGCrtr1bZrsXtx8qDd4WTCnzb8UvTrvlv/86Zi97nD5GB4MYUFJmcKP+T1EZJvW/5YmnPer0HcJucMh43pf964sci3dFcW45WnfPEFk/EqJzdXXdfEx9/f90y7xUtWGOPzB63ad5VTp88UPem+g0Gw7as9jfcQQgghJLjQjsYrQgghhCgOHj1R1D0odLdv35ZPP/ui6Fehw+wlvWRQg5MH7e7c+QvFTiHUbuSoscXuc4fJ+cN49djTNWXdjyU3kXfnnPdrvDVeAcz48nZvp0AzXjnT06VHf8m7llfkW+hg8OzRb1CxcO6AMa9nH9/SW6d+06InFXf+em9CCCGEBDba0XhFCCGEEMX7H8wq6h7cd85ZV9+v/bHEfTh5ECcQageDhnMWF34/W7NeiXtNmJw/jFfg8adqSGRkdFEoz850P/DFeAU6de4l165dKwrl3gW68QpL+44eOV7ke98dO35S+dnDmhj55ttq1tTS5d8po54pjBOEc7r8guvSmjOvCCGEkCqBdjReEUIIIUTRtlP3EjNrnM50WiBOHjTNtLK7PQcOlLjPHSbnL+MV6Nitn2RduVoU0r0z3Qt8NV5hc/EFXy0vCuXeBbrxCnTv1bfI9767efOWjH5rYomwdpq36SyXL19W4bHPWHR0tLw1bopHo9dTNerIlq3b1T12h+WsdRq3NN5DCCGEkOBCOxqvCCGEkAfAU11ryl9sbO43HplT3/ic8vBC3cYSGxdX1EUo6bJzcqRZ287Ge3d52GAb7t33ZhrvM2Fy/jReYdnjwqXF9+kyOdO9wFfjFcCMr1PnwopCml1ZjFe+btj+Yr2mxri9NV6B775fVxTivsPSyGdfNNfJp6rVlpMnS56uCIeZfZjNN+29911p7Dt4uMydt8DtckucdomTCk3P8obfv1hN/nF5E6NclQfIuOl5hBBCCCk72tF4RQghhDwAHn2hmvyfLtX9R0v/D5R/92Q12XfgUFEXoaSLiYmTGrUbG++dMHlaUaiSDrO5WnXoZrzPhMnBqGEKC0zOU3iAGT+79+wpCm12pvsA4jY5U1g72IA8PSOjKHRJVxbjla/uvelmI6IvxquWVlmaZq59v+bHEvuhqfBtXpWMjMyiUOVzBQUFaoag8xm+8MhTz8t/tDPIVDmBjJueRwghhJCyox2NV4QQQghxMWHy+0VdhJIOM15MxglQv3HrolAlHWZzYVaX6T4TJudv4xVo3LK9pKenF91R0pnuAWU1XoFPZ3+hls2ZXGUxXmHW07r1PxeFuu9gmGvaupPxnv5D35BLCYly9+7dotC+O+yX9d4H3s/gI4QQQkjlRzsarwghhBDiokHTNkVdhJLu/Y9mGe/RuFvmtWX3XjWry3SPCZOrCOMV0vTBzI+L7ijpTPeA8hivcOLejp07i+4o7iqL8QrgFEDMgnK6Hdt2GMOD2g1byNz5C433leZwyuWwEW+Wa7kgIYQQQiof2tF4RQghhJBihIaZ92Zq1barMbxm2dfmfaQwm8sU3h0mVxHGK82WTVvk3r17RXfed6awoDzGK1CvSWtJSkwquuu+q0zGKzBvwUJjvo0Y/Y488rj5HgDD18LFS+XMmRCJv3RJcq5my+3bt4vuLtzQPTcnRxKTkqy6eF4++3SO2/20CCGEEBLcaEfjFSGEEEKK0ahlB2WgceJuyaAGm4Gb7vPV8GCK46kadY1hga/hnTzzQl3p3HNAiThMYQHidob1FN4JDDtN27xa4v7m7boYw2uc4cuCuw3b8Wxn2NLS4y7fGrXq6NF4pfnj0zWt9Lwizay86Ni9r+v+Tj36SfO2naVWoxbyxPO1jPcSQgghpGqgHY1XhBBCCCGEEEIIISTg0I7GK0IIIYQQQgghhBAScGhH4xUhhBBCCCGEEEIICTi0o/GKEEIIIYQQQgghhAQc2tF4RQghhBBCCCGEEEICDu1ovCKEEEIIIYQQQgghAYd2NF4RQgghhBBCCCGEkIBDOxqvCCGEEEIIIYQQQkjAoR2NV4QQQgghhBBCCCEk4NCOxitCCCGEEEIIIYQQEnBoR+MVIYQQQgghhBBCCAk4tKPxihBCCCGEEEIIIYQEHNrReEUIIYQQQgghhBBCAg7taLwihBBCCCGEEEIIIQGHdjReEUIIIYQQQgghhJCAQzsarwghhBBCCCGEEEJIwKEdjVeEEEIIIYQQQgghJODQjsYrQgghhBBCCCGEEBJwaEfjFSGEEEIIIYQQQggJOLSj8YoQQgghhBBCCCGEBBza0XhFCCGEEEIIIYQQQgIO7Wi8IoQQQgghhBBCCCEBh3Y0XhFCCCGEEEIIIYSQgEM7Gq8IIYQQQgghhBBCSMChHY1XhBBCCCGEEEIIISTg0I7GK0IIIYQQQgghhBAScGhH4xUhhBBCCCGEEEIICTi0o/GKEEIIIYQQQgghhAQc2tF4RQghhBBCCCGEEEICDu1ovCKEEEIIIYQQQgghAYd2NF4RQgghhBBCCCGEkIBDOxqvCCGEEEIIIYQQQkjAoR2NV4QQQgghhBBCCCEk4NCOxitCCCGEEEIIIYQQEnBoR+MVIYQQQgghhBBCCAk4tKPxihBCCCGEEEIIIYQEHNrReEUIIYQQQgghhBBCAg7taLwihBBCCCGEEEIIIQGHdjReEUIIIYQQQgghhJCAQzsarwghhBBCCCGEEEJIwKEdjVeEEEIIIYQQQgghJODQjsYrQgghhBBCCCGEEBJwaEfjFSGEEEIIIYQQQggJOLSj8cpPPP5UDWnZurMR+JnuIYQEHo89U1OatuxQQo5xDX6mewgh/oP6lJDggPqUkPLxbM160qFjD3lj1Nvy9jsT5bNFi+WLr1co5ixeKuMmTJbX3x4r7bv0lup1GhrjICQY0I7GKx/449M1pXajVtKxWx+ZOPFdWb/hZzl74axkXU+Ty7cyJaEgXiKuhZUAfgiDsLgH93bu0U8aNG0jf6LyJuSBg07zy01aSYeuvWTKe+/Lt6tWy4nwc5KalyoZN9MlOi+8hBzjGvwQJiI2Qt2DeztZslz3lVbsiBPiA9SnhAQH1KeElJ8/PPWCkqOO3fvKR5/MkR2790pqSooarN+z/hXcLZBrd67JldtZSg8C/I1r8EMYONxz7MhR+cSKo0P3fvKSFSfliQQD2tF45QUv12ksn306R86cCZGk5BSJzL4gm9M3yrsx70jnqH7SIbKntArvLA3DWspL5+qWAH4Ig7C4B/eG5pyT9LR0OXv2nCxavlLqt2hvfDYhxH/gq9RnXyyQ4ydPSXxKksRei5bVSStkWMwI6Ro9QNpEdJUWFztJ7dCGJeQY1+CHMAiLe3Dv6eyTkpiSKKfOnJbFi5dJ8zadjc8mhFCfEhIsUJ8SUn4ws2r09Pfl0OGjkpCSIrdv35a71r/Em4my78pumRc3U3rHDLV0Xl/pGNlbyQz0IMDfuAY/hEFY3IN7EcftO7flUmqqklHIKp5lSgMhlQHtaLwy8MjjllKu1Uj6Dn5d9u3dp74Oncg/JbMSPpG6Yc3liXMv+gXEhTj35xyU1BvJcvL0KXnt9TelhtW5/+0T1YxpI4T4BmR54NCRsnXHNknOS5KzuSdlZvzH0irkFaNclgXENSP+I9mXe0hSryfL4ePHZdCwN+XFek2NaSKkqkB9SkjwQH1KSPn507MvSosO3WT58m8l71qe3Lp3y9JbKarOo+77Q560HO3M3aPivnHvhuTm58n3P6yTVh27y+NWGkxpIyRQ0Y7GKwfYT+P9jz6SqKhIicqNklHx49XXoedC6xobB3/w9LmXpenFdupZZ3NOS0xsnCxbtpIWckLKwRPPvSyfz5knMdGxEpJ9RqZGj7FkuaPUOFfHKIf+orn1jCnWsyDLcZfiZcXKVfLsi/WNaSQkmKE+JSQ4oD4lpPz87onnpXf/wXLk2HHJzcuTW3dvyJ7MndI9epA0vdDOKAP+AHFjhuPOzO1qiWF+fr4cPXpcpQVpMqWVkEBDOxqvioAyfOvtcRKdGC6nco7J8PABxgbgQYBnIw1pV9Jk4sQpUq0WN+AjxFuesQapb4+ZJPGJ8XIq/4yMjZ9olLMHAZ6NNGTmZMqUaR/Kcy83MKaZkGCC+pSQ4ID6lJDy8+iT1aVxyw7y888b1bLArFuZsjFrk19nLHoLnvlN2jdqhvKdO3dkx86d0qxtZ5VGU9oJCRS0o/HKokOXXhISck5i86NleOzoCv+S5A1IQ/+owRKSfVTOX7goAwa9YUw7IeQ+7foPltCws+rL8ITIUfJ8WD2jfD1IkAZ88TqXc1Yio6L4pYsENdSnhAQH1KeElB/MQJ6/aJlkXc5Ss56WJ86V1uGd1SxhUx1/EOgZykgL0pSdnSM/rPmRp/mSgEa7Km28eqp6Hflg3nzJvn1FWaFNAh4IzImfLZk3M2TZilXyPL80EVICzPSY+ennkpGfIUtSFwbEgNkJ0vRl8heSmpcic+Yv4AwQElRQnxISHFCfEuIfWrXvKqGh59WeVpg1+FrEcGN9fphgJtaR3OMqjZGR0dKxWz/juxDysNGuyhqv6jduLSEhp9XXm3YRXR+qBbw0kDZY6fdn7pMLF89Jxy69jO9ESFWkcdM2cuLEKTWromdEH6MMBRKdL3a32p3jEhp2Xlq07mR8J0IqE9SnhAQH1KeElB/MBhz/3gxJz8iQm9a/SVFvBcTMRXcgbUjjtTt5knXlqnz86Wz5w1MvGN+NkIeFdlXSeNWt/xCJT0+SXzLXBuQXJXcgrSvSVkjy5VQZOPRNTpUmVRqcINaj70BJzkiW79JXGWUmkEGaM65kSL8hQ+X3f+ZUbVI5oT4lpPJDfUqIf1CHG8ydq/a2iiqIkubhnYx1NhBpdLGNnM09q/bC+nLhIh6OQAIK7aqU8Qqd06lT35fErAR5K358pepo23kzfpykZCfL53PmssNNqixvj5somTlpMiFqVIWeXlZRIM3jI0bK1bwsmf7eR8Z3JCRQoT4lJHigPiWk/MDYs337Lrl155YcyNqnjEGm+hrI1A1rLquTF8td69/efQdowCIBg3ZVxniFTunkKdMl+VrSQz0txV9g3TTeBe/EDjepSmAq83sfzJQrty/LmMjA2z/AV1pFdJHUm8nqnThNm1QGqE8JCQ6oTwnxDzDybN68VRl9KttMZCdIO/a7u3X3hnonGrBIIKBdlTBeoTOKr6ronPaNHGwU1MoI3gXvxC/GpCqBTmlKbmLA763jC+hw453wbqZ3JiRQoD4lJHigPiWk/MC4g1lKMFx9l7yoUhuu7ExKfFcZsDgDiwQC2lUJ49WQ4aPVsoBg+ELsRH8xHj9+ivHdCQkWsCdHn8GvSe6dbOkU2csoD5UZ/cV46vQZ6l1NeUDIw4b6lJDKD/UpIf7hsWdqqv2hgmHGlYk5qXNdM7DwrqY8IORBoF3QG6/a9R+s9uQYFjvKKJTBwKDo19VgYsiIMcY8ICQYaNexm6RnpKmlDcHyhdjJiPBBcjk3U22ca8oDQh4m1KeEBAcPWp9Oi31XZifPUeBvHM9vCudPqE9JRaNmIs/+Uu1xFUwzrpysSJqrjHPLV67iclzy0NAuqI1Xteo3ldi4OLVu1ySMwcSHyZ9KQnKCNGnV3pgXhFRmqtVqaNXvS7IgMfhlGRvm4sQnHFluygtCHgYPU5+2i+z1QDe+pT4lwcyD0KcwiGEp4raMbZJwM0VO552T/XmnFPg77kaKnMw9LZOix0j9sIozZFGfkoqk16DhknctT53Qh43OTXUwGIBRbn/Wbrl+/bqMGj3OmBeEVDTaBbXxau+evbL/8t5KYQlHZxmY/Lzl26SFcvT4cWNeEFJZwbHDu3ZZspyzT54Pq2es+8EETk3acmWbHDlyXJ6qUceYJ4Q8aB6mPsWAFzM2TH4VBfUpCUYelD6dnfCFZBQkyaKkJdIuonuxdgN/N73QTrpGD5LT185KRM45tWTXfr+/oD4lFUX1Og0lJSNDkm8mV8pTBX0FxrmwvFDJunJVmrfpbMwTQioS7YLSeIX17RM/niWx12MqTYOyKvMHhcnPW9CwXMi7IPMXLZNHn6xuzBtCKhtvj5kol/IvPZBlBoHE+dyz8tGsT415QsiD4mHp07qhjaVVeGfpGtVfThdEyPeZ38urUX2kxcVOUju0ofEef0J9SoKRitanMBatTF8l4VZ7gX2nTGHswJC1Im2FxF9PkoHRr8uQ6OEyM3qSTIkeK20juhnvKQvUp8SfPP7si7Jt23a5frdAukT1M9a5YASzKbNvX5GTJ0/JU9VqG/OGkIpCu6A0XjVq0V7S09PUeneT8AUi/jBegeHhAyTtSrq80rqTMW8IqUzUb9xaki+nyvDY0cb6Hsz0jOgj6dfS+IWLPFQepD7FgHpm/MeyJ/eIXMiPlKRbmZJzN1/yb+VaFEjWnSuSeDNdwvLCZX3WL2rvHFM8/oL6lAQTD0KfvhM1SpJu+D4TZXLi+5Jy67KcyTktX8TNlJ2ZOyTpZpraLNoU3leoT4k/GfT6CLlx44aa1QeDranOBSNYDvxN2jdy+/ZteXvMJGPeEFJRaBeUxqtVq9fK2swfjYJX0eBrbc+YoYo2Pnw18pfxCnyV9JVs37Wdx32TSg02hdy2c7fsy979UJYqdb7YXTZl/ixh+aFy5OpBWWDJVfWwBsawFcUPmevk1Klj6iufKY8IqWgqWp9ihlW3yH5qsBp3PVGO556UXy5vkDPXzkpkTqhrORHaAOy3lXwrQ3ZlbJNtWVvlYkGcJObHysJLn0nr8M4VsvE09SkJBh6EPkX/N+VGokyIHGn09wTSNDrizWLXcKJpws1U6RHRp9j1skJ9SvzBsy/Wl/D4OEm5mWysZ/4Auuylc3UVD+JABV+5mBcqubm5av88Ux4RUhFoF3TGqx79BklKfoq0vPiqUeAqmiWpyyTjeqo14L0gJ6+d9rqT4E/jVYOwphKXFyFjxtIqTiovXbr1lvRr6Q9l6S8GzFjGsDxpvnSJ6is9ogaovTn25xwwhq8oMBiIzY2VvoOHG/OIkIqkovUpBqcXc85KTEGMWiaEJYFtL3SUs/nn5XtLH0KXOe/B0qLka7GyMWW1NA9rI/2iBisjc0pBgvyctcnvy6GoT0kw8CD0Kfq/J3NO+HUvraWJc5V8m/x8hfqU+IMVK1fJrbs3ZETs28Z6Vh5QRyFHh/POSMi1MAX+xkzjQRd6Gu95GPS39G7B3QJZ++NP/LBDHhjaBZXxCl9T8FUFX1dMwlbRwDp+5Ooh1fCgAx1nDX6bX+xoDOvEn8Yr8GXyF3LhYoQ8/UJdY14REshAGWK2A2Y9mOp3RYIp4Mezj8t36d+p35gZgs44OhXn86NkRvxHJe6pSKZEj5Fz587xeGLyQKkofQo9iVlSezN3S2R+pNJV+iMPBtY4gey7jNUl7rMD/RqdfU5WJHzpuoZ792duVzM1xsZPVvJqv6c8UJ+SysyD0KeQawyyZyV8YvQvK72iBsnBK3uMfmWB+pSUhzqNW0pycoqcyjnm1xmM6GPOS1woqTfTVf8TctQ3rIsCf++8ukPibyTLmsy10jCsmTGOBwne/Uj2AUlLT5dGzdsZ84oQf6NdUBmvunbvLRl56X7ttPpC04vtVOOCxga/T+SelO4xr5UIp7F/Ifa38QoNS3xevAwYMsKYV4QEMr37D5a068nSwkvjb3nBTCstg79kbZasO/mudmRDxo/qVCT8/VXqEonOC3eFnZ+yoFg8FQGOEY8viJZ3Jkw15hUhFUFF6dM58Z9Lys00+d7qhDewdcKhs/ZZneEtVifdm5kbWNaL2ZH2U3oRB2ZiYXPm4xb+mmVCfUoqMw9Cnzr7v/4CMzIPXvXfjGfqU1IePp71udy7d0/th2iqX2Vlb84+9eHm1cg+xj20YByGjH2XuFCi8iIr7HROX8BMMOTFvAULjXlFiL/RLqiMV+s3/CJfJS02CtmDYGD0EInMv+D6vShpqWxM31gsjKZLSEs1HRTrmfFbD4ad4coDvjAdPn7c5ymdOFnp6ep1XDz2TE1jOEIqAnwR3bv/oF9nfGDwOSp2nOy+slsOZB9UwCiFWVVYhhR9/ZJsvrrdJYd2WVybtko6WR0K/G03cv1w+Ue1P09U9lm1tKhdRA9X3ABLHTDA1vGUB8z8CAkJ9XmvDuRlMVnm12biJf7Wp9gvbnXmGom7mSJvRpT8qIPZUlgO6LzuCSw7vHQDyxo7lfDbdGWb2jh6bPgwv+wZUlZ9CiiH5GFREfrUBAbWh7IPGf3KCgznl24my9m8UPk2aYUMjh7mF4N0WfUpYP+46vLEcy+rfZ7OXQsx1quyAEMVdBU+tugPReivdojsafyIA7/VKUutfmdIsY8/D4utVj+3oKBA7QNmyjNPUC8SX9EuaIxXOEUl83qmX4/W9RUoV2wcq393juon0QXRxcJoHoTxCksWU68nS+dufYx5ZufZmvXkzSnvysZNW+TEyTNy4UK4i9MhIfKTNZCZ9u6H8lSNOsb7CfEXTVt3kvSr/p3xMT1+mkTlR8mQmBGuAxUwmwqdA2w8+falScb7gKcNM9GR2JO5SyZbA9ua5xu74gZTkz5SM0NM9/kKnpOWkyYtO3Qz5pkdyOjYCe8qmT11+mxxWbZ+b9i8Vd6YNl3JvOl+QipCn2K/OOwb1zy8pKEJs5Cx3G9YGU5B+yZpoVpK4byOQQFOPruSn6QMWE5/X/FFnwLKIQkEKkKfmoCO1P1Zf4E0a32KEwihqyOvxxuN377giz4F7B8TMHnK+3L73m0ZGTfOWK/KQpfIvpJ8/ZLLKIv/YwZy3LUIaRXeuUR4gPqLZfeYvWzyf5Dova/mL/jKmGdOqBdJedAuKIxXjzz+nCxZskz25Zbvq48+XWxh0ldqejUajtLAzA19f1x+tNrYWf9uGNZSIgvijdOoH4TxCmzO3iYbft4kv32iWol8wxekZm07y/c/rJPc/LyiKiFyz/qXfzdfrt25prhr/dMOFvYN6zdKm049lNXcGSch5WXStPfU1xxTfS4rnuQLx/FDlk1+3jAzepLCeR2yDRmHrDv9ysKSpKUy90vz9GzMBkFH/Lvv1ykZtTstx/l38uTuvfuyfP36dVm3br20aN+Vskxc+EufajDjCoarQ9nHjQNoDHqXp32jOuzolDv9SwP7ZyVbMuxuM1sYrrQBq7wzsDzpU0A5JIFGRejTh8mn8Z9K8s10mZ3wRbnk2ZM+BewfEzt/eqamnD17ThKsMR3GdqY6VRZwyi6WxuJv6D984NmWvatEOCftIrpLekFKhRulSwPPjy6IkfMXwt0ab6kXib/QLiiMV8/h2NLw8HJvpHwi57iaLYGZFAnXk9WgtjSw9Aj34svxJese+wbtUKx7cw6qDdz1Nc2DMl6hQx8ZGyfP1WlcLM8ef6qG/LDmR8nOzimqCiJReRdlXtxM6R0zRF6N6isdI3srelm/oejP5YW4FHWOdd+aDb/IM7UaFYuXkPISHh2hlgeY6nNZscsXvmzNTp6jZmOhswA59ofxyhmvv41XmMmZlBFXIr/QYfhu1RrJunJVySZkFLK6OmmFDIsZ4ZLjV6P6WLL8mpJxyLp2165dk+/Wb+CXLqLwlz7VYKkgOuTuOtl6r5yynqQEPYtTBrdkbnLrD8NVRv4lq8Pf1RjGW9zpU0A5JIFIRejTh82I8EGSeT1VOkT0MPp7gzt9Ctg/Jk4at2gvlzMvy0ZL15T3I4gG48akm2muGc5Yzno655T64OMM6wQzi4/lh/r9gISysCRtmeTn50vrTj1K5Bv1IvEn2gWF8apV+66SmZNhFCpfwNHcey7vU8dvoxHBkh+cZuSNZXtR6iK1/43zyzEaFjQwzg34HpTxCsTmxknnngNc+dWkVQcJPX9eVQBM98SJEd4OHLDnz5Yr2+S6dR9cXHSMtGzdSX2tt5cJIWWhSfuOkmoNZDGgNdW/smKXLyxBSL+dLZuz9yiDE/7Gcl9thPKVvVkH1P/bRfaS03nnXHLtb+MV2qHYgjgZ9NpIlVeQuYbN2sn50EJZhkweyj3q9UaekPl92btVGwAXGRktrbxcRkGCF3/pU4BZEtjjyrRUUIO96M7knDb6eQvqvPPjkROc5BRzI77cX6qd+pRySAKV8uhT3BOaf7HEB1tcgx8+3OprWIIPA3HWzSty7d4dSbmdVeyedIsFSV+pzdJNzyoLi5IWy6ncU0Y/b3DqU1eesX9MDIwe/Y4qU2/bdW/AqhxnfxEfP01hTaBPi71XTX4PEuQJjFKTZ3zoyi/qRVIRaBcUxqtx46fKjoxtRgHwBSwVTLiR7lregGWEZ7OPytm8Cx5PloDBCoYrGLCcfogn8Wa6Fff9zjsGs5MjxqglhQPDuqnfO7M2K/C3/RRCf/CVNTCf88U8lVcdu/SS1NRUVfgpN5NleOzoEga30oAhrktUP0m27odLSEhQCtpZLoT4yrzFS2V/zkG/fdnSOI1X2FBd+zmNUWWhdVjhfgV2o7S/jVdgfdZGWbtug8oryBxkDw6y+E7UyBJG8tKA7KMNQFsAh7YBbYSzXEjVwV/6FIZhHIRQ2v40OERhVPxEo58vnM4+VmzZvhPsb3co97j8nL7e6O8tdn0KKIckUCmPPsU9MFLZt8kAuAY/bJmhr0G2cA0GrLwbV2V+3EfF7sEsp9NWHzk8L1x9GPa1z2kCfWoc1lCe/rJdnwL2j4k7du7YLVdvZRrLvKxgcsPhvDNKdtBfxOFAvvQXcdr1ntwjRr8HDWZT7TlxwpVf1IukItAuKIxXG7dslqlFa4bLgx5sYv0uZmDpL7TYjyOjIMntlyN87cVXX3dKFF+H7NO2c+7dkgv5kepZTtJuX3ENsv1Fz5jX5PTp09KgWVurMUlSa/ajC8LLbSRD/pzIPq4qUmpKijRr0d5YPoR4A/aYwGaoFTEN2pPxyp9UtPEKX+VCw87LK606KpmDO59/XhkKTOG9BW3BodyDas8BdBDw9dlURiT48Zc+xWzGw16cPhZ3PVadrGTy8wUcmIJNnU1+GtTzhJspar8Qk783aH2KvKrVoAXlkAQkFalPPeFpjzmcDhpeEK2WEXeL7Gc8Tc1bMLDFTOdpse8a/b1B69Mnnq/F/jFxC/ZcwimD/t47DttM7M8r++zB8t7vT7AMEA4nMlIvkopCu6AwXqVeS/XLqUh6sDnuwmCJzAmVXemblIKEAsZeGVC4ETnnSkx7xNdebNZuv2YHHWp0rPVvTKPuEt7dNcC1s+7yT343XrWx0p5ekC5Hjx+Xe/cKFXPrsNbGsL4CBX0w64CqTKdCznGNPykzNes2kbg48wEH5SVYjFdoj7DvQmxMrJK5sLzQcncMNDXCGsrxaydVvGdCQtS+H6ZyIsGNv/RpzLVw6RHRx+hnZ3nikmIHn5QVzJR+N2KM0c/OtoxtsihpidHPG7Q+rflyQzlypHBwSjkkgYY/9Sn6vBgoAxigTGE0egaWu1M+8QF4UvQYiSmIUTMhy7MMCwN3pMnk5w3Qp8kpqVKncWs5cPAg+8fESLee/VUZYo8mUzmXlWAyXmGCBk5ifHvcBOpFUmFoV+mNV6+0bu+30x/sg01YeqOzQ+S7hHlKwcEf/1+SulAd6T0p4T3XzCx8YbYbp5xgynTU9fvGLb2hsz2MBoq8PMrcBN4rwnovuJzb2X6PH/uZJN9MkTt37si09z4ylhMhpdGyXVdJzk4y1rHyEizGKxBttSVwV25fLvcG1E7Q7mXezFTxz1241O2paiQ48Zc+xWyIi/lRSkdiMIv4sClr95jXpGv0AGUA0vpT0/RCOzUDq3v0YAX+xjV7GOhN3Ks3Su4c1VfNoqod2tAVBs/D0iZsANvD9jytc5362FcQz/m8czLnq4VK51EOSSDiT32K2VuX7+SpJU7YC3ZiYumznTzNwAKQ/x8y16mZkEsTvlSnhprCeQJyAkx+3nIm67T8snGjkjX2j4mJD2bNkfw71+RVS++YyrisBJPxCvo6906ORFy4SL1IKgztKr3x6o1Rb8vpojXDpsruC87BJr6+wIC1MWV1MWMTviafzz0rofnharO8jPxkOXz1gGuA7OSXKxsly2r4NmRtMPq7w19KFB15bNqJDfXGJUwxhikvH1/6RFUonLLCUyFIWXi15wA5nn3UWL/Ki5Yp/O2N8QpKEqetQWbROdiZs19WZHxb6satD8J4lXO38ASk5WnL/dLuORkR+7bcuntDkpNTpE6jlsayIsGJv/TpD5as/XS5cG8pLLvH/o5x1+PlSM4RuZB/QZ0ueD4/Su2HpQexcTdSLL9wOZcXqsDfuAY/hMG+k0dyjknSrXQVx0FL557OPaWOCw/LC3fNCMHzEH/8jXg5mnNUIgrCJfFmqroXccAghnjLM+g9mHdUsrKzKYckYPGnPsXsLdvwr4cAAP/0SURBVMgwjNB9IgcrA9ac1LnGsBrIhKcZWBoYn9dkrpXkW5lKdk1hKpLN6RvVYJv9Y+KODZu3WmOolBIfU8pLMBmvMHs6Nj9SyRIc9SKpCLSr9MarZUtXyOar242V3FdMg010cJ0zsDQpVgd525XtxQxO/iLhVoZqmOzPKyuj4scrxYy9vJxfu01gH4LVGatVBeljDfRNYUycuxai7vnqq695ugrxmXGTpqh186a6VV60XOFvT8YrTHHGTEpsNH0694wagEMOYbjaarUzFwviJCo/Woa52ci1oo1XX6UuUTIWbw0kTP4ayDnkHjJ50/qn7rkerTabLq0NwHuFXDut7pk07T1jWZHgxF/6FB3qJalLZWX6KjlfEGU88GRO/OdyKTfC4/IhXIMf9onMuF04uHUanVBfMZsZBqvkGwlyPPes0ciMe7NuZMqE8KFKLsuzV87OnL1KPkqTQ6QNG87uu1K42S8cjM87M7erY/49de4ph6Q8+FufJuTFuJYTQy71DCyt69zxfsRoycnPkPERI6XJ+bZumRE1XuldfAx++9Ik9dHVFJ8TZzp9ZUPqT0rGvO0fA4TTG7If99J4wP5x5UTvHYfVK/6ob3aCyXgFfYUZyXCl6UXIjCcHmTTdB6gXqzbaVXrj1Y5d29WJC6ZK7itomEyDTXczsELyQtTyBXtYf4EGyV/GK600l6QtM/o7geHqljVYgPPFeDUybpxa8xwadkGerlHXWF6EuOPLFd/IJ9GTjHWrvHhjvILh6mz+ebXJNGZX2mVdg04rOtZYOuxsD0BFGq/sSvstD/uOqPewBvC3rX84AQYdAXAga58yYmMT2dI66fpLcUhIiLGsSHDiL30KQ2/a7WyJuh7rds8LGG4wQC1t42b4nbDkclnqMo/GHpwW3C16oNu6jXtnJ3whKQUJagmUt8ffO4EchuadVfLhSQ4R7pfMteqobwx0tRzCcIVr2bevyJhIz7OrKYekrPhbnx7NOSZTbAc56BlY0HGewKzIq7evK2Ks8J7Aydz5d+/KNasfCWO0KT4nOG0NJ32XdSalr/1jyPXOrK1q9gfw1njF/nHl5OnqdeTChXC/rfCxE6zGK096EUBmsEQXsx61XrTT12pbTPdpqBerLtpVeuPVkWMn/Wbk8TTYNM3AqgzGK6QVDoPW0pS7nnF1w1LIJ3IKN9zzxXiFo4szrM7HlStX5JVWPBqY+MbqNWt8qm++UJrxCgPsk7mn5Tur/tuvu0O3B99Y7YH9ekUar7Bvz5XbWdagN1sttTCFAa0iukhEfrh8mPxpCb/v0r9TbQFmZTn9nKBjDle3MadmVxX8qU+xT463MxlKwxd9qGVP62knMFqV1XAFvJVDPH9/1m4lc858wMwVGLBgXLZfN0E5JGXB3/p0Ssw7stEabNqvQQ9Cv3nDxOhJZcIUl2Z0xJvKcHU896Rr7yzsMWVPoyd86R9rMJMy726efJP2rSRfT/LaeMX+ceWkZt1X1MEHO3P3GMu1PJTX+FTe+/2Jt3oRQGYgO5hxafL3BurFqol2ldp49dgzNeV0SEi5pv/bKW2w6ZyBVRmMV1DucIk3E43+dlqFd5bLtzJlXsJ8mR4zXd3nS+fnuVAr//JD1ZrnTj36GcuMEHccOnxQekR7/uJSVjwZryDL+7IPyJarO4rNAEEnWN8HlqQuKzYI7Xyxm1y6kVLs9CW0HRVlvOoeM0jNiIzOCy+2QbUJd0YDXIfD1y2Tv50z1oAAbugbo4zlRYILf+tTf+KNPsTSxJ25h5TMgZPXTqsvtKaw5cEfcggwAwuDZpOfHcohKQv+1qc46OBifpjR72EDHd4jordsytygZkWXNnjW+NI/BjBwpdxMVrOYMfD2xXjF/nHl5OUGzSQhMdHVf/QnwWS88kUv+sN4Rb1YNdGuUhuv9HROfw0OvRls6hkXmIFVmvEKgrn/6n4VbnvWVnUNjQ1+A90Zhx9+I6wWZn8ZrxAHHPbcMPk70fuO4IsXnK9f7vB1Ag77LZjKjBB37A09VmHGYG2Awt9O4xWWCGKvDeeXV4RLuJHsujfpVqYy8NrDfJn8hVzIj3Qd9V+Rxisc0wx3NO+k0d8btPHKm71QEAZu0eJlxvIiwYW/9ak70LHF4BKybj8F0BOe9KFeDpiRf0mWpy5T6QcwXEVejy9hlC4v/pJDHCMelXfR6G+HckjKgr/1KWYOYVmfXV6VvivqBwP8jb4jZPVY7jGXvsTMZhyecC7vnKv/647I/AhLbqPlzLXTsihlkUyLHKWuIx7oYXs/2QR0O3S3yc+JL/1jGJ+2XNkmqbfS1IctX41XgP3jyseDNF6hXqHuesuazB8Dxnjli160G6+aX+xovctr0suirZf9AUC9WDXRjsYrG94ONvUMrORbyR47B1B29k46rkGJa0Wv9wKBH34jLO7BNX8Zr7DRNNy8uJlGf3eU1XiFBh7uvekzjWVGiDselvHqW0sJYpN2/VvjDGcyXkHRJt1IVF+l8Vt15ivIeIX9S+DWZf1s9PcGzB7DvhuDo92f/qTRz/vi6xXG8iLBxYMwXmGWIvbASbiRJGH5oeoUQCz5GRE+yBhe40kf4oh97GM1OnxwiT1J9HLgCVFvFbteHsoqh3oZFE4xvZB3QR35XdreHoBySMqCv/Up+qbHLJnF4Qj6GvQfnlE9rIECf8MwC7nD0fkwGuNv7CX5vaV/X43qo8KY6BM5QHZlbZOCOzdlb+Ze14EG9cNeUf54Hgb39n6yHaQFH5OSb2VIt+iSB0SY8KV//E7USLl+t0A+TSjsK5TFeMX+ceXjQRqvoBvQ5/SWsPwLAWO88kUvQmawvHBn9h5Jv5Emd+7dkbv37srV21fUfnKeZixrqBerJtrReGXDl8EmZmlk3M6Qrl4qSV/xl/FKK0sar0ig87CMV1H54dIj6r4cRxRESdrtq8pYtSHjR9d1/AbpltKdacmHvr4p82cZEjNC/f0gjFdrs9Yb/UsDA2UMmDFwZueAOKlo49XA6NfVDEcMMO1fVzFbCsfpvxnxWrHwdjzpwy8s3QYZNPkByPbp7GNGv7JQFjnU+hQOSwXP5p2RvmFdjGGdUA5JWagIfbo+6xfZcmWr+ojjDhzCoI3I2njsaS9JGLgmRI5U4S7mnFUGbugnU9wmOkf1lUVJS9Sppfp+03NMeNs/RnqSbibJLmuwra/ReFU1CORlg1gpY9rb9GHgi16E0erGvRtyJPe42hsT+hHbFeCgIejHvZdL31+MerFqol2lNl498fzLci4sTK1bN1VuX3E32MRvE7EFEfJO5AijX3k5nXdOFifNd/32diqlE5wcBeftskFNWY1XG7I2qPuonImvnAo5rdbNm+pVefFkvMLsDz0zEoTmhcrIuLGqY6yXAwLdWcYsLbvxCn/r35DVijJe6WnZh68dN/p7Qu/VgeP6vd3QVk/LZuegauBvfeokNjdCRsaPK3EdA9058Z/L+fwot0ZVT8ar3ZZu08ZjE5Dt1JsZRr+yUBY5xHtBlwIMlJNuJqpDFXC4gim8HcohKQsVoU8xwMy5c931IcdEaP5FZcDSM65guHK3bBeD75M5J5ThCbMjtb7FDGFT3CYu3bgk2zK2qVNL7fraG7zpH6PvjdkgmVYb0vLiq67rZTFesX9c+Qhk41Ug4YteRNuAiR/OdgF6EvvJYXWAcxsPJ9SLVRPtKrXxClT0aYP4++rdG2qpA/weBlDQGDTb0+otmOINh83tTP7uKIvxCoMQHCd779496dN/iLG8CHHHwzptMOlWejHjFfbX8PTF2m6scv6uSOMV9gXA9GpvNsS0o2dcpd5M9mqwrDmZW3ji6Ph3PzSWFwk+/KlP7WDQe7Egzq1xCkQXRLuW3zpZnfljseVKdiDLkGmTH4DuhA41+ZWFssqhHXTMM29nePWFmXJIykJF6tPS8DTjCv1ELPX9JmmhOvBkRdqKMn+cLS/e9I/RJuFkUOxPZz/OH8f847h/6Fb8xoERpvs17B9XTl6q31QuJSTI+qziJ236g/IYr7B0FvvQYYmsPgm0cClhaLE95DQHr+xVYdBXHRI9XC3r9dXY6wl/6EXwrvUucBiDmvw11ItVE+0qvfHqwKH9at26qXL7ijvjFQxXTc81dQ1IHzTlMV6hUwCHY0VN/u4oi/GqYVhLSSiIl2u516Rl+67G8iLEHUt++EEpLlPdKi+ejFcRBeHSJaqv63d4QaScKrioOhVL0pa7ruM3iLQG4XbjFfbMehDGKxjYcBQxjttGp8UUxgmWUKBzjRlXvhiuQM7dHNUGNGnf0VheJPjwpz61400n3ZMRCnrM3QD3QRuvyiKHJjD4xRdmk58dyiEpCxWpTz3hacYVjLbL075Re9StyVwrLcshP/7Am/4x+sDeuNJm5rB/XDl59oV6Eh4e6dMMO28pi/EKdRZL77H/HA5QCMk7q4xSMGBBD6Ivi4+vTnpFD1ZhsMz+TM5pybyepQ4bwlJgyKzpWb7gL73orfGKerFqol2lN16t/HZ1uTYwtmMabNoHo/awD5LyGK9A/PVoVdjYDNDkb6IsxqtB0UNUJyAyNk6eq9PYWF6EuGPqtA983pvNWzwZr7BfzijbPhmYJYJOBU5ysYfLuJMjy9K+Vn6DLvR0Xcd+OnrPrIo0XmHWSmxBnFcbrqODMzVphpJH7CPga+cEeQCXlppmLCsSnPhTn9opq/EKdR66D7ibtVXaskGcYJR0M9XoVxa8lcMaYQ3lq6SvjLKHOJJvJku8NZh1+tmhHJKyUpH61B3uZlyhvo+NnyyJ+bGyL/tAMf35sEm5kahkzJf+MfB12SD7x5WTx56pKadDQiSiAsaBvhivMHNvbPgwibkRr5baYq8odzrRCcLhoAO9N1zcjRTZlbVDLZvdeXWHMiZ7Wt7rDdo4W5pexIyxeQnz1QEIzoMXkM6DWQfUTEdPywapF6su2lV649WEydPKdWS1HXfGq7TbV2Td5Z9cA2CAtev2375iuv+Hyz8qnNfLa7z66tJnqrBP5Rxz+/XaSVmMV1szf1b3rFi7Tn77RDVjeRHijt6Dhvm8N5u3aFnC307jFRRtVH6067dGh0MbAExyiJlN4Xnh6kQk/Ea4ijJegWVpy5WMHcs+ZPQH6ADsz9qtNr5ER+Dz2E+VPNvxtFk02ogj1gADbu6XC41lRYITf+pTO2UxXmEDd+yDlXAzVRGaH248lRCG58Me5GFy9Bg5kev7PnGeOJ53VMmHJzlscbGjZNxIl4QbCbIkbZlL9vRpg5DPUfHjjfcCyiEpD+XVpzBEbc7eo+QWYDCJzaH1bzvtInup8JhxlXPvlpyw/m/3x5Lh87lnpV/UYLd9UBi0MOtz69Xt6p6duYeUzsYefN72W8uCXn7kS/8Y+Gq8Yv+48rJ91x5JvZGs9nIzlW1Z8cV4hdM3M/OT1N5w3hqZILNLU5fKRaVHU1x7wzW9cP899DJeGJ3nJS4sdr8vaOMVnCe9iCWFF/LOqZM791rti9aLMEjpDduXJX5hvBdQL1ZttKv0xqt2r/aU8q6x1WCwecgSOvtgE8KvB752Em5lyJm8s8WubbuyXbIKUotdM7Hpyha5agmu8/rZ3BMK53VsXumthd0ELO44lhTW7OGxo41hnKAxgfPWeIX1/nC3b9+Wjl16GcuKEE+07thdIq5EGOtXedGyhL+dxivI1llrMInlDFDk+nqnyD7K+KRB22DvvDQIayqROaFqCre+VtHGK7RHUO5wpoE88GaZA/boMN0Lekb0UXt5XLt2TVpweUOVwp/61A72lsHye0/x2mcwwnAFY/HHlz5x+WNTd5xK6NxbBoPm8OsxquNt38MDX3VftWQ4+folGR/hfmaWr+AdkEfXr19XsuRODgE2pD6Ue1QtpcCsC7hb1uA+/UaapdcXehwsUw5JeSivPkXdhNxigA2ge1Cf9W87kEEYn0x+AANT0zPAMKtPio9HkdbAd2/OQWXAwj2YFYLZIVjalHQjURYmfaV0rimO8nAq+7jcvXvXp/4x8MV4xf5x5ebjufPl6u0rahavqXzLCuq5t8YrbE8BTH4ayGzbiG4yJXqsnMo9JfE3kpUR2JtZhd2i+0tUQaTRzxv0ssE7d+6ouu5JL4ItV7YV04vYLwt6sbQ98KgXqzbaVXrjFaZ0puTHl2uNrQYDVwxOPQmOBg0OGh77NawrxsZ49msmMHvDtAeHfeNnf4K8QSMBhxPHTGGcYECPQXDN86Vv6Iew+JIMt2r1WmM5EVIaLzdpJfEpSaqTbKpn5cGT8Qqgc3mlIFVNy9bX0B5oI5TGbtz63opvz+V9xdqLijZeAW28irUG7Bg0OP0hs5BdT9hPTXJyLveEin/T5q3yh6deMJYVCU78qU/tQEbSb2ZIl8j7e8vZwQzGS9eTpfnFjkqfYMaV3XAFIHvLU5fJEcMMCeznhuUU+6/udV1bmb5KUi2992XC/BLLE8qD1qcrV65WcuJODjV4Nu7pHj1AyR5OgMN7msLaoRyS8lCR+tRfzEmdq2ZVvn1pkpq5YdevGhiksWn6GWswHpkXoQxoeCcYxGDoAuVZhpiSkSIHT51WsuZt/xhArrtGDZAOkb2M/hr2jys/vfq9Jnfv3ZVeMa8Zy7is+GK88jQ+hDzMjP9YjueelKSbabIzc4eacYzZv6bwJg7mHpK0W2VfXg+9hg8z586eU3XdV72IDd+pF0lpaFfpjVfg1NlTpe4B428qk/EKij/qUrTExsaqQt92dUe51jY7+S55kRpQJyQnS51XWhvLiJDSeOK5l+Vc6HmPX2nLSmnGKwDDFaZlL0j6yrUM0ESPiN5yNue41VEouZdURRuv0ElPT0uXS/GF07NXJy/2ytjuDWgTVmcUDsjTMzKkfmPKclWkovTpO1GjJOlGsjJgaWMS6i5mXsRfT1JLknDNnX5UflYnHft12Jc9YHD7qqV7pyZ9JBfyL7iuQ8a/TV5qdaoLO8X+khOtT1+s30wiIqKUvFAOSaBRkfrUH4yOH6/kHsYok78TyNfqlKWSeydfMm9ny+m8c7Iua6McuXpIzTA5fHWfdL7Y3XivO6BPo6KipVHztuwfE7c8W7OemjWHLVhMZVxWymq8gkG0e/RAqy87RBmqYLA6ee20fJW6xGtjNWYQY1XO2IRpai+683nn1UmFprDegP314Lr3GEi9SCoM7YLCeDVtxgxZXcp0Sn9TmYxXS5KWyupVa6R7n0GSk52jrONoBExhfQGNEqZ46pkgQ4a+KY88bi4jQrxhlVVPN2dvM9a38uCN8QpffbGvwOlrZyW8IFp+sMKjcwvjE8AgYEvmJrV3wNKEL1UHwhlHRRuvkKZde/ZJ1779paCgQMneL5lr/dJBQJuAtiE3P096Dx5uLB8S/FSUPoXBCgashOuXVKcZ17AsCTMvMJDV4TwZrwD8EAby90PmOrWsKPFGvDp4AXvq6HA9IvqoZRYnck9KnDVIxkbRnr4Ee4vWp9B1XXr3oxySgKWi9KkGA2XoSOhGbwfNGszwfCP2baOfO7DUNul6mjJ4a1mD3saKiRWWTvbFGAagT3fu3qv2oGL/mHji7JkQdfiVqazLCuQGRlhv9IZ9fIg9S1Otfmie3JOsu/my88p2+TT+fY99Tfhh/zgsx918dbtaxp9ekOLSm30iB3g1fnXHuWshEh4fR71IKhTtgsJ41b5LT4nLjTFWeF9B5xYbwK5L/UkmRY+R6mENivlDCPFVGsflf28JpX15hTZetbMGwIusDi7A3/b7wcCo4ZJ++6pqNBCXFmzdOGHWB56NNCAt5e1wn845Jb37vqbyavx7M1x7dezK3uNx+ZAnkCZY1dE4Ib73PphZolwI8ZXOrw2XWGswat+7xh94Y7zSQB4xqN6Zs191LGCAAqdzz8hPl9d77KRXpPEKg/+Q/FAZO+FdlVdvjnpHyR5k8EDWPmkeXralXg3Cmlmd+LWqTUB8s2Z9Lr974vkSZUOqBv7Up0APLodED1c6DxuYd4gsXOaDE5OSb2Woo761HvRkvEIYHA8OvYvlgAdyjypZ1fe6AzKLPe300mDT8iRvsetTQDkkgUpF6FPMgMCm0adzT6qlvtCRAEZknGRm6jeb8OW0NABjNAzdnoxTMBYdzz7umtnpCac+BewfE3e8/8EsVS88HXbjK9BLzpnE7rAbrwB0njZGYV8r9DWxbxx0pwn4Iczea8dlbdb6EnrT28kXJiDHN61/ny1Z5sov6kVSEWgXFMarF+pYDUBcvE9fXExgk9jI6/Hq5CI0EpiBgY6qHqxCIeHrbUJerDqe+2TuCYm7nqj264B/l6i+knY7VaKvX5KFlz5T4G/7BnRqbw+rsYqzngPDFOLSX4TxTHwpjsixOgPWs7+ImylnYM2+HlPq5nfuUI1japLUalo4xRJCP2zkGPWF6Z71L/NmhtpwurTOvx3sRYL0w8G6DsXMtcfEH6AeJWYkqqU5prpXVnwxXtmBXGhDlDcyUpHGK8xWySxIkadq1HHl1cDhbygZhEu9laZONTPdawLvgw7MJWvAgbYAX7TGvDOJHYMqjr/0KYD++Tlrk1rWcybntNJpkG29LAed3m7RA2RKzDsu+UJHHh16rXftoL7qjd8x+PRmkKqBwQqGq9S8OHW6kilMaTj1KaAckkClIvQpjtTH/nIwUunluAAGMpxkhr7r/pwDJe6DHtQyXhbQN16aONfop0H8yTdTrIF46XtgOfUpYP+YuKNtp+6Sdy1Pvkv/zljuZQUGX8iNyc+O03jlBP1N7BuHjz8m4IcwpntBeYxXMERjWWXX3oNc+UW9SCoC7YLCeAU2bd4oG61Oclm+qL4Q1kjNosJXnU/jC/fdABCejSmr5ZKlDI/mHJOEG0my6UrxKdjYpwNLErA0Iep6tJzIP1Os04+/L+acLfQrWr6gjV0axIm4z+aelsTrKfJ96jfFlCVOWUq5mSarM9d49UXLDhqL/QcOlVCe7foPllNnQuT2nduqIiTfTFbLIbB5Hho6DCB0Y4hTJLpa17HeO9kahMDhRInQsPPSuVffYvESUl7w9cbfewuU1XjlKxVpvMKeAj//vKlEfrV+tYecOBfqOuUl83aGyj9soAnZ1Z0WDC4g2xjIQNYh83BoA8KjoqRHv/sdD1K1KY8+1eCLaVR2iM/L9aD7dmbtVifv2vewGRj9uvrYg6VD9vC+gtlfngYBnnCnTwHlkAQi/tKnaAswe/F8QZRHeYZBGqf3wsiFGVonco9LktW3jrH6vpg1GV0QrT7swoDsS/uy5+oeqx9a+kdc6HboeJOfHXf6FLB/TJw892J9uXgx3O8zGXGKJg4jKM1ACp2Fjz8mP3/walQfOZd3zujnCXxAOpF/SmJi46RGncYl8o16kfgT7YLGeNWuS3dJtRSH/Sh7b8HRor+k/2Kc1ogGBf7YGA9fakxfevH1CZvC2r8o24FQwk9vHOv0R5yIG8+wL0PUQMFD0a9NWevVaQwadCKiC2Jk9NvjjXn2dM168vbYSYJ1ytrh2NLLtzKtvEyRCGvgnVAQr44/vVF0nClcUnKKTH53hlSr1dAYLyHloUOX3hKfHWes02UlGIxXUblR0r3vYGOePVOrkYwaPU7iL10qktLCI/khu5BhyDI6XZBtHAmuHWT/w5mfyrMv1TfGS6om5dGnmkVJi2Vv5u5SO+UmoLuw2TpmOOtrIXlnZXLi+2WKz05pX7DdUZo+BZRDEmj4Q5/iI+zPl3+Wy7dz1Mm8pjB2cDR/jlXvMUMLp561tQapTc63Vf1b9IXXZP6oPsh2Mmyr4Q4MbL3ZSN1b45UnfQrYPyZ2sJfTV199rdpt1GFTnSoLDcKaqlM0S/sog2X3qHOmGcn+AEa0ozlHjX6ewCzHa7dzZcXadWrvOFPeUS8Sf6Fd0BivQEjoORll2/i1qjMoeojEJUUa88oOviKPeGuCbPh5k1wMj5TEpCS5fPWqXMnJkezsbLmUmCjhEVGya/de1XF//KkaxngI8QeYxh9yLqzEUfnlwWm8On3tjJom7W/eiRxRIcYrDAYuRkfJc7UbGfPMDmR046YtSmYhu5BhyDJkGrINGccmtSPHTJTHnqlpjIOQ8upTnPyHGQkmP0/gAw3um57yeTEjc2h+mExKmqFOFvRmjxB3lNV45a0+1VAOSSBQXn065tJktSphfdYvJQ4pMoHVAVg2eCj7uDL4msIAbPTuy4xMb4BhG6scSjMu+KJP2T8mmup1GqrlazsztxvrVVmBcRiHDXj6OANZwoxkzD4eGTdOfVgqz8xogDixWTu2ysH2NK0ifN/PC7OosGSwY5dexjxzQr1IyoN2QWW8Gjh0pPqaYhIwX4BShZJ2t+cHNuxbkrpMbZZnamjQIGANsLsNKXEP7kUc7pQ7no00IC0mf284ZjVIb4+ZYMwrE7CaP/NCPanVqIU0btNJmrTrLM3avCovNWgmz75Iyzd5cIyfOFUi86Pcyoev2I1X6NiGF0So9f3+BkcN78ra7lfjFdqLUznHZM68RT6dVgSZhexChiHLkGnINmTc3RcyQjTl1aeQBxh0TX4mIOs/p69XS+sjC6LUrKsZURNc/p/ETFPXIvIvSHxBYonl9d5SVuOVr/pUQzkkD5uy6lP0Q2G4GhY7yuhvAnthYd8rf+luX8D+VNg43tOyrrLqU/aPCfj+h3VqdpC/Z0D1iRysDFNHrLoJ46opDOouDFcX80LVPpJ7cw6qcaYvm8gjLO5Zl7VRLhbESWJ+rFrGWxZDMvIg53a2bNuxw5hXnqBeJGVBu6AyXlWv1UiioiLL/IWp88Vucjj7oETfSJKDVw9K0vVU+S5xoUsJY3rn99YAOPlWphy5ekgdpw8l3S6iq7KAY/kfjgJPvn5JnXgC8Pf4iBHKD2EQ9mTuaaVgEUfa7SuyIOkrdcIgnoFn4Zl4NtKAtCBNSJs9raWBqd3JySlSp1FLY14REsjg6+WlpGilqE3121fsxqsHhb+MV/2jBkvalTR5tmY9Y14RUhGUV5/6arzCfh7Y58qbQQEG1cnXYtVSCpO/J8pivKI+JZWZsupTnK67JXOT0c8d3m5A7U8wqB8WO1rNXnHuKeuE+pSUhxbtu8q1a9fKvSekO5akLVdGpUt5UXIk54g1TjyodKkznJ5EgXEk+pk4UTDueqwKi3swaxlgKSD2ssJM6KRb6erUwcN5Z+QHqz88LfbdEvF6C979m7RvJD8/Xzp37WPMK0L8jXZBZbzCV5TJU971+QsTFB/WG8dfT5QVifNcFmgYjM7mHJeLVnxbr2yRiIJo2XN5n2ujSRicYHiCAWrn1R3KWJV0I9llrAL4WxuzEAZh58EgFtrYZcyCAQyGMDwDzzqYe0haFu19hbQgTUibt6ee4N0v5F2QD2d9Sgs2qbQMfn2UX2ZSAhiujmbt9Up+/IW/jFch2Udl4sQpxjwipKIoqz7V+Gq8wqyqITEjjH4mYOwqywwqX41X1KckGCiLPj2Qe9yrpYIadRrnDe+O/tdAJ+NUMTwHIA698sAb5qcsULNVMENstBfLnKlPSXnAMtK9+w9K7u1s6eDDnm2+AJ2DzcyxT3KPqAEe9SjGkehrYk+4DpE9VVjcg+0xQA8rDmzGjut6g3R/GN0wDs66lSlHjx6Xx5990ZhXhPgb7YLKeKUJCQ2VcQlTjAJnoktkX7lw5YTbZYKwTq/I+NbtMkFtAXe3TBDX4IcwpumdWnnjGe4s4fiadDr3lDJ2mfztjLk0SWKSY7j2nlRqMK04JOSc+rpTXmWLDvFFawB6IS9MDaofBFhCmHY7q1zGq08TPpPwiAg1C8aUR4RUNL7qUw0MxqZDUNyBL87tInsZ/UyMjhyuMPl5wtf7qE9JMFAWfYrZGfjo6m149JFxuqgvH4kQdnXmj7I/75QCfV2c4q1/e2Jnzn7Ze+24fJW6xKsZm9SnxB/Ub9xa7X11IGufT3U9mNh7eY9cv35dncxpyiNCKgLtgtJ41aVHf0nJTvZKmQHMkKod2tDoF0jAul5aJwLvnJGfIf2GjTTmDSGVCRw1ja87+Mpjqu++gNmO+svUg6SsnRvMuky4kSBvjh7v094chPgTX/VpMEF9SoIJX/Up9lzNvJ4qb0WUfnofgK7z9ybs/oL6lPiT9z/+TO5a/7AixlTfghkYmG/fuy1fLVpmzBtCKgrtgtJ49bsnnpc1P6yRI7nHvTpaN1jAu+7P2SfbduzkKQ0kaJgzd77sS99T5b5w7b+8V7Zu2mLME0IeFNSn1KckePBVn85O+EIZsDZl/iyDo4e5liP5MqsyEKA+Jf6kWq2GEhp2XjJvZvi8J3FlpkFYM7lUECPRMXHyYv1mxrwhpKLQLiiNVwDHA0dGhcuCxIVGAQxGJkW9JSmZqapRNeUJIZWR519uIBGRUWpfOlO9D0awbOJSYoLU5QbRJACgPjXnCyGVDV/1KWb7Y28f7DG3M2uHayNodyeiBSLUp6QiwEzG/IJ8OZd73FjvgpGd2XvknvXvtSEjOYORPHC0C1rjFWjXsZukZ6TJiPBBRiEMJlpFdJGreVnSi+uPSRCCdfWJWQkyKPp1Y/0PJvCOWKo0ZMQYY14Q8jCgPiUkOKA+JcQ/zPjoE7l165Z8l75KbUFjqoPBAN5tXsJ8uX3ntnz+5VxjXhBS0WgX1MYrnAw0Zdp0SbqZWOmmOPsC1vLHXo+Rjz/9XH7/Z24qS4KTMWMnSvK1pKDeewfvlnwtUaa/N8OYB4Q8LKhPCQkeqE8JKT9PPl9LduzYJTfu3pAJUaOM9TAYeCdqpFy/WyAnTp6SP1evbcwLQioa7YLaeKVZvOxbOXv1dMBuJFkecJLhudyz8v33PxrfnZBgAUcUf/f9dxKdfUFah7U2ykNlpkFYU4kquCjrNqzjHjskYKE+JaTyQ31KiH94tmY9ORcWJjfu3ZAxkcPLfTp2oIHZ1jetf5GR0VK9DpfRk4eHdlXCePWnZ1+S775bI+fzzwdVhxsd7RPZx2X/gUPydI06xncnJJhAJ/SLhfMkypLlYPtifCj3oGzctFntL2R6d0ICAepTQoID6lNC/MPLjZpJVEyM5N7JVgYsU52sjGAJferNZElNTZVWHboZ352QB4V2VcJ4pdm1Z1/QfDHGO+zP3Kc62o8/xaUNpOqAzugvm7aoDncwfDFueL6ZHM49JHv3HZBnX6xvfGdCAg3qU0IqP9SnhPiHjl16KSMPZilV9hlYSDve4eqtTPVOeDfTOxPyINGuShmv9BfjqIKoSr1nBzra+Oq9e/ceea5mPeO7EhLM6C/GWPLwWkTl/cqFr90YNGzcuJEdbVKpoD4lJDigPiXEPzRp1UFCz5+XvDu58kXCF8Z6WhmYnTBbzSKD4ardqz2M70rIg0a7KmW80ixcvFxSchNlfMTISnU6BCzhnSJ7SUpekqxYudr4boRUFdDh/mrJMnWS0Jvx44wyE8jgFCRsmIt9R/AupnckJNChPiWk8kN9Soh/wL5QZ86GyJ07d+SHzB/U/mumOhuIVA9rIGsy18i9e/fUPl71G7c2viMhDwPtqqTxChtVDhz+hmRcyVDHm5oEOBD5Ju0buXojXUaOHi+/f5rKmZDfPfG8DB0xRpIvp8rqzFVS41wdo+wEEkjjktSF6qhynPiE9sj0boRUBqhPCQkOqE8J8Q/VXmogP6xZJ3fv3VUHB1SGGY2YuXimIETu3Lsj67dukxfqNDK+GyEPC+2qpPFK06xFezl9+oyczz0rPSP6GIU5EEDazuWekLPnz0sHrjsmpATN23SWkJDTci7nrLwa2ScgZ4Bgpke7iK7qNLOw8+ekXf/BxnchpDJCfUpIcEB9Soh/mDBzlqSlp0vB3QJZlviFOhjEVJ8fJkjTuIQpknM7W7Kzc2TmJ58Z34WQh412Vdp4BbAufsqUdyUlO1k2XNkYUA0L0vJD5jpJv5ZmNSaz5ZlatIIT4o6nqteRKdM+lOwbmbLlyraAOj0JacFMj8yCJJkxbwH34yBBCfUpIcEB9Skh5ee3T1STRi3ay+49e+Su9S8yP0rejHjNWK8fBsPDB8iFvAsqbSdOnpUOnXrIo09WN74LIQ8b7aq88UqDdb17DxyS9LwM+SppsbS4+PA2oG1+saNMiR4j0dlRcvDgYZ7yQIgPNGjcSnbs3qcGqV9d+kyaXmynvtKaZK0iwTPxbHzRSrqSaMnyEWnVvqsxzYQEE9SnhAQH1KeElB8sZ504Y6bExcWr/aSOZR+S/lGDH8oHHiy1xbORBqQlOTlFJn/0MfeKIwGPdjRe2cC+F52797EU9Q5Jv54i67N+kUEXehqFvyLQX4ZTryfLtl3bpGv33vL4sy8a00oIcQ86Ct17D5KjR45J6o1k2Zi16YHuOaC/DOPZh48cUWl54rmXjWklJBihPiUkOKA+JcQ/1Kzzinw863PJzc1VSwkxE+ur1CUPbGbjx5c+kZBrp9WzCwoKZM68BVKncUtjWgkJNLSj8coN+Dq7e+9+SU1JlbM5p+Wt+InSLqK71A5taGwQygL2EcAX6VHx42Xfld2Slpome/YdkE4DX1MbZ5rSRQjxDXyd3blrj8SlJsnpnFMyNXqstI3o5tfNaBFX24iuVtxjZE/mbolPS5Y9VvvRs9cgY5oIqUpQnxISHFCfElJ+sNR1/oKvJDoqRm7duqWMSTszt6s6j7rvD3lCHG2suHrGvKbixjNu374t8XGXZMXKVVxuSyod2tF45QGs+63bpLUMGPqGbNu6QzILUiQ6L1x9QZ4W+26ZLOW4B/fi+NSQ/FDJuJkuhw4elNGj35F6r7SR3/+5hjEthJCyg8FrraatZdDwN+WH7dskPT9Nzueds2R5o8xK+ET6hnUxyqsnuoS0lOnx02Rd1s8SmnfWah8y5OCRYzJ81NtSu2kbnnpEiA3qU0KCA+pTQvxDtZcbSs/eA+WHNT9K3rU8dTrh1dtXlDxtv7rdJU/e6keExT2QRcRx5XaWOj3w+vXr8sPWrdKrzyCpWfcVY1oICXS0o/HKBzBNefCwEfLThl/kdEiIWrt8Kf2SnMk6LYezD6qvvfPiZson0ZMU+BvX4IcwcZkJ6h7cizgQF6c+E/LgebZmPRk5aqysXbdBTp8+q+QyIT1JzmefV/K6OX2jS441uAY/hEnJTCmUZetexIG4EKfpWYSQklCfEhIcUJ8SUn4ef6qGS45Cw85Lckqq5ORdU/tSwd20/kVfjzZy7U6eCoOwuAf3hl24IBs3bZHRb49XcZueSUhlQjsar8oINraD9bpJyw7S9tWe0qXXQOn/2hvy3vSZxRj++mjlhzCNWnVU93BTPEICh8eeesGSyybSqEUHade5l5LXIW+MLiHLr781RvkhzCutOql7cK8pTkKI91CfEhIcUJ8SUn6eeL6W1GncWpp36Cadew5QMvPlim9k9Zo1RuCHMAiLe3Dvn6vXNsZNSGVFOxqvCCGEEEIIIYQQQkjAoR2NV4QQQgghhBBCCCEk4NCOxitCCCGEEEIIIYQQEnBoR+MVIYQQQgghhBBCCAk4tKPxihBCCCGEEEIIIYQEHNrReEUIIYQQQgghhBBCAg7taLwihBBCCCGEEEIIIQGHdjReEUIIIYQQQgghhJCAQzsarwghhBBCCCGEEEJIwKEdjVeEEEIIIYQQQgghJODQjsYrQgghhBBCCCGEEBJwaEfjFSGEEEIIIYQQQggJOLSj8YoQQgghhBBCCCGEBBza0XhFCCGEEEIIIYQQQgIO7Wi8IoQQQgghhBBCCCEBh3Y0XhFCCCGEEEIIIYSQgEM7Gq8IIYQQQgghhBBCSMChHY1XhBBCCCGEEEIIISTg0I7GK0IIIYQQQggpI7974nkZMWqMnDh5Ui7GxMiJ46dkyOsj5NEnqxvDE0II8R7taLwihBBCCCGEkDIyfOQ4ybh8WV4f/Y40a/OqvD1mkmRdzpLGLTsYwxNCCPEe7YLOeFWjdmNJtpRHXGqqxKSkFOOzz75UYV57Y7QKM/rtifLbJ6oVu3/dlm2y9/BhebLay/LYMzVl5/6DkpiZWSKu3bv3uX3eJYvNW7ZIg2Zti8VdrVZDmTLtQzl9OkSFj01IlLlfLpR6TVrLI48/JzXrNZODx0/KT+s2WM9+sdi9zVq0l0upaTLtvQ+LXSckGNFyFXExQp547uVifviK+cOaH5X/mAkTioX3Ru719dT0dNm1Z4/0G/x6MXnTco+2QF8DDV5pLfMWLJSo8Ai5lJYmkfGXZNann0uNuk2KhUObMnfhUvWsCVPfL+YHkA6k03ndHW269C7WBuFetCFTp38kL9S5/2xnutGmoG1BXqVZbQfuQ34uWbZMmrXuKBMmveeKE/HbnzF3/iIVB+Jytn8RsbFWp3yC/OGpF4qlD2Vg/22/Jys7W/bu2ivN23RWYQDSo8vPjr6/cfOW0rJ1Z1ccCG8vv0MnT6n3dz5f07xdZ1m+8luJjY9X4UPDwmTK9BmqHdZhdL1Z8e33rvfR2NNhv15VcOart3oTv//07Ivy5lvvqDyHrCQmJMh3q9dIr14DlT/yFHHjGfZ4AOqEXT6cchtrEWeV6ey58+SJarWK3QsgcwgPGTSl80J0tLR9tUex68D5XPDsi/Vl1OhxcuzIUcnIylJpXrN2vbTu2NUVBvcAnT7N4q+WFYuLkEDAG/1klzdNaESkNG7RwdgvjrdkPCQkRAYMeaNYXNDdw0e8JYcPHlZhAP7uP3REMb1eWnsBnHKGvw8ePSHd+wyS3z15X85bduimdPP+o8flqRp1XNc16D+8Yumh1avWSFRcvGpPTp06qwxNT1WrrcKY9B44afXPnfHZwX1nzp5TeYTfeMfLVrvR+tWeJcLacfZfUq1na33l7F+UpXw0etzizfshLVt27CiRh2jj0dYjDvxG3rft2E31pWKSkiTTihd/jx07WZ58vpZX6als+FJeCKPDAfy958ABad+pu0s/IS/t+tN5v7Of5E4vtTHoNY0uh0vJKdKlR/8S/rgGP1M6mlnygveFvLnrJ31s9YV//+caxfycet4Xve/MN41Tr5ZX3r3tB3tbPs50429Tedufo3HKX2nxeNNuBhvaBaXx6uatW/L2pHeVgNip1aCFCvOGJfRwaVZhN2rRvtj9qFSoCKikEHYoor1HjpWIq2nrV90+r8/AYXLqXJgVz3nXQKlWgyYSGhoqSYmJMnHiu9Kpez8ZMXKMnDhxUmKiotUgE+F69hsgN2/elFFv3RcGNFSnT5+xhOeIUgb6OiHBCuRKu8lTinew61qykpqSqvwmTp3qCu+N3F/OyXFdhwzOX7hIsrOzZdHSb1zxa7nXnTPQo98gSbEUyPETZ2TUmHHStmsfGT3aUhoREXLy9FlleNZha9Z7ReIvXbLSmCJJVmfg8aeKK3SkAx0B+zVPIK0FVpvQZ/DrrnSjDUG7ERsbL/UbF7YdznTXtDpRYVYbhLYIbZK+L9rq5I602h5t+AFo4yIio6VTzwHqd+3GhQYbxGW/DmZ+Mlvy8vJk+vRCQzquIX0oA1N6Qe9+r8mJk2et9Ma68gN5oMvPjr4fHR10/nUcKFuUsY63WfuuqiOlw+vngyEjxkh6errs2LlTPVvdP2aCKpejx4+7Opi6nt25c8fqfM123Q90vFXZeGXPV2/1Jn5/OvsLNQPhvRmzlKxAZg4dOaI+1sAfeYq48Qx7PAB1wi4fTrlFfOPemSrpV64oA5b9XtQtyBxkD2UNWbT7I51wkVadhk62+zmfC9194OAhyci8rIzUHbr1VXXppw2/SLKVB6hjCId7Zs2e60qfpm7jVq64CAkUvNFPdnnTtOrUwxosvWTsF0M2Fi9ZITm5uUpXIh603Rs3blXtwGezZ0uP3gMVc778Uq5cvar8tAGrtPYCOOWssxXXjm07JNMavDdpU9gfB/hggXcrKLguXbr3dV3XjBg5Vq5k56iPKUOGjpSOVtonTJimBn67du5WYUx6D7Ro16VEfHbmL1wiMbFxUqNOY9Vv3759l8REx0r1Wo2M4TWm/ovWV87+RVnKR6PHLd68H/Ibbu2PP6lBsr6ONh5tPeLA78Yt20uKNbDesH6jKpNeA4bIylWrJDoqRqq93NCr9FQ2fCkvU709cOCgJCcnS/1X2qgwTv1pB/fb+0laL13JuqLkyq6XUtMzXHrJiS4HuM2W7Dn9cQ3OmQ4shV2/YaNcv35dMWTEqGL34Z2gy69duyaDh71ezM+p533R+8580zj1annl3dt+sLfl4215eyN/pcXjTbsZbGgXlMYrd8KhQeOfbTX+J0JC5HzofQMTsFdS52DQhLvndejcS/Lz86V1p+7KGr1x0xZJSkxyGansDB42QjUQ+veMjz6RVKtCNm5aWEFnzPxUDcT0IJWQYAdydcvqHMTFJ0jYhYvy5+qFX0QBvm6h0w0Z1krDW7m3K0cN9qSArA4f8bb67ZT7ai83kKioKNl/4FCJLzvP1qwnI966PwsJDBr2pjLuDBz4umRmZMrU92cUu8ddOtyBd8K74R3t19FBirA6xrutdD1udS6d6db3dehY/GscOqL2zijAPbgXcZR2He96+PhJOXX6jPzBatuc6XOX3gEDhymlU7dhoUHBqfQ1+n6n0chdvM7rGChgwPDzxo0l3hMGi/SMDFkwf7H6jXtQzw6fPCk5VgenV/8hrrDu0lFVcOarr3pzn1Uv7TMi7PXOV+OVSV4+njVbDRbs1yBrkDnIHmQQsmj3RzoxMyApJVX2Hz0mT1W/L8/O52KQfdn6bZ8tCFD/IfOQffzGPUijPQwhgUp59ZNTz2ierVlfwiMi5fu169RvzAxBm6qNWXZwDWlAGG/aC2CSM8ggjAjT3iv8wAWDEQbRY8ZOlgN7D6iZQ/bwdeo3VUbvhYuXFrsO8EGjizWwxd/u9GFpNGrSRgqsAT4+msRag8wd+w941W9HG2tqD6Gv0MatXLnada2s5WPHm/fDMzBYzi0okElTpruuo41HW6/jR3oKrDAmXYv/e5OeyoYv5eWp3g4dPlL9Rt54axyBXoJcdezSq1g4jCExlnQaozW6HLDiAIaeV1p3dPnhb1yDnzMd9Zq2ltS0NJn35UI5fvyUHDx8tFh/V/cT9lp1PePqVWnRupPLr7zGK2e+OfGXvGvcyYUv5eNteXsjf57i0eVZWrsZbGhXZY1XqBhYOpOamiq7du11fQGyV1JvGl13z7Mbr+q90kYt25n95SK1lMcezgRmV2GW1YkTp+TtdybKZauzPeC14tOxCQlmtFyNm/Ke6hhpJQPFnJiYKNPen1lMafgi987rT1arJWHnL8ihIqXslPtefQbJ7du3iyl7T2CW5Lp165XRetve/XImJLSY0ctdOtyBd8K74R2dfjM++UztqdGkZeFyAXu6dacD6ZkweZoyGtmN5HbcKVPT9bIYr1BuK7/7QRk9dBrs5WdH319W45Uur8Yt2hULp5k07T3Ju5an0oR7cG8X657Nm7cqw5YebLhLR1XBma/e6k1Maf9+9Q+Sk5MjX8xfLK3adi1R7yrCeAUZg6xB5iB7kEHUffs9uj4PGv6G6vSuXr3W5Wd/LuoG6ggM5drfHbgHaTT5ERJolFc/uesXO41XWNKEJev2MHaQBoTxpr0AJjnTg7mx4wv1yPwFX0lSUrLUbthCeg96XRle7Mbn2bPnuvz1NRPu9KEn0BYuXLpCGa8wk/eLBUvlsafv3+/OqAC0HjK1h9BXmPGCd8XvspaPHW/eT+f3lwsWKEMjlovjOtp4tPU6/g5WmtFWbt66XfoPeqPEe3qTnsqGL+Xlqd76arzSeqksM2t0Oew4cEjOXwiXdet/VnIG8Deuwc+ZDmxPAaMU2ogx4ybJVevvpjYDle4ntGjXWULPn5eoKMxqLpSvijZe+UveNe7kwtvy0b+9KW9v5c9+zR6Pt+1msKFdUBqv4FDw9rWkYPyUaSoMKgT88TemWGKq8/gJhZXPXkm1sEPYnHF9v65QQeN5qEymZYMhIefU12kt3F26F64zhpUU05x1ePDsSw2UnwYWfEzFhRJcbXUA7JZuQoIde+cA030xJRrXx02cKhnpGdKwWdtiSsNXuXcCub9gKe+nq9cp0dnCMzDQdd5jomevQcrY1rpT4Wyn3v0Hq69kr9qmM3tKhwndfuAdnX5oU2CowVRoZ7oBvs7tsAYolxISVTqwZHDy1BmuvT007pQprpuWDaLNLG3ZoL0M8PvSpQRp0uL+xrX28rOj7y+r8aq08kJeKeOWFT/uwb2IAzPZwsMjZb81oEL+uEtHVcGZr97qTfxGJ/vL+UskMjLK6uxmq6nu2C/uxaLlmr50YvFc07LBtKws+fyLua5wkDHUccgcfkMGIYuQSR3GXs8nTJouN27ccO3VYX8u0qflSt/rDtwD7PUd6L32CAkUvNVPcM76fDI0VOo0aenSM6Zlg1gOqGdaoQ02te8aeztdWnsBIGOmZYNYlYCla1iihqVqP6xbr8JjBm5EZKSs+X6ta2bCDqsv4W4QagftBNonZx542qMJ74+PH8jTWbM+V0u4eg8crvwwQyQqPl5eaXV/0G/HroecfrgGP+z/iN/elo8p/Xrc4s37Ib/xLBgt9uw7oN4NewUi75CHiAPhMGDGRvVnrWemp6UrvYA9fztYYZHv3qSnsuFLeZnqLWa0JSQm+bxssE27bnL37l21TFD7Y2mbjhs0bGn+yKrLAc/68MNP1OoF3AvwN64504EZPLFR0UoWdTz4eGw3nuGZeF/kCQxHqCe79+xR9cap533R+/gbOOuM1qv+lHcN3l/3D5zXvSkf/dub8kY+ON/NKX+lxeNNuxlsaFel9rzS+5zYO+EAy/KgwPsPfaNYJTUpaU2D5oVf9fE8OC1k2Xl5Ki58cdJrczH7CrOw+g0cpn4j7u3797sqLCrx8DdLrlOGBR+ddvtXMUKqAvbOQffeg1SHCJ0B7Cew1WrgsQmjXWmURe41eiZRyLlQS1nf3zMCbQH88ZUDRmQ9Dd4diGfP3v3FljmiY3f02Cm1maYO5y4d7sA7IC/wjk6/UWPGy7Xca9KyfdcS6dY8ZqXrpQbNpK3VDr3/wSw16P96xapiYXCPO6WtlSw2mMTf2JgXx4Frg7ozffq3c8+rI0dPyqafN7nitpefHX2/02jkfI6767q89JdPJ6+9Pkru3bsnz9eore7BvYgDfh269JJcq64t+GqJ23RUFZz56q3e1P6YZfycNWjDviZvjhmrOsHHz55Vfr50YvFcOK0vb1j3Ia4Prec/XjTzC0DGIGv66yNkELIImdR11V7PMSsCyzswmB/6xshiz0XdQB3BHhI6fnfgHnsnU6O/PhMSCPiin0x7KrXo2M2Sm/vL0yG/Wi+opdcHDxdbdo0PJXPnLXD9dgI/hNG/PbUXAHIGdDuAzcEPHDzi2rB9wJARKh16hjTiw2qHxMRkeblo5sXKlaskOrpwLyYdrwm0E6Y9adzt0YS+gep/jCncqxb5+kGRAQuG/sXffKdmtrjryzv1kJ1Bw0cpg0Wt+oX7KHlbPp7GLd68H/Iaz8Lf+AiPWdPIy6atWqu2HnHosOBP1nMbNG0j3fsNlt07d7n2IvMmPZUNX8rLXm/V+LDIuNemQ7diG3h7Yxxp3rp9CeMVNhXXMoH4neWi0eUAf8wShKFj7LgpCsyswjVnOkaNnSSXs64UqxeYjQy9r/tXyAN7PwFtAPw3bd4qrdt3KJZPvhqvPOlVf8q7Bu+v+wfO696Uj/4NSitvb+SvtHhAae1msKFdlV42qH9DoWA/m4SEJDkTdsFVSe3Cbr/fjvN5Yyxhx9envoMKDVUAG2TGxMbKuh/XF5tGrEFatJKw40wnIVUFu1zhq+W58xckzJJFKMXO3fqoMJANrTTKIvea5u1elbT0dNXBxG+n3KNDhq+7C75armZo2O9FJ/WlBs2VMmnYor3aT+eaNRjWnQmleKyOJgbIWH+Pe3yVa7wT3k13DjR/fPYl2Wm1W/jahK9OznRjsPKE4YCH96bPVGmyX8M97pS2vo4OLJYK6plJOowzfe7S23/AUGUQeKVF4VcjnBCzfPm3xcKAce9MVtPuncsP3MXrvI5ZeZid98HMj11f4DT4koivgpjNh9+4B/ciDh1mwuT31KEZOIEQAxIarwrz1Vu9CT/7flgavecZ4kPZooxR1s5wqBOoG/q387lrf/hJHVZgfwZkCzKGem2XPcgiZBKyiXCmer57917VecfMCftzMADDIQPOASc6iy9aAxNtEMM9SKM9DCGBhr/0k1PPYElObFx8if4tZgBgIGVqC/BBKaVolgB+l9Ze4Hdpcrb/4EH10cL+bjgFDtewtxbCqJlm1iDwtdffKnE/DD/Pv1i4AsKdPnRH24491HOw6kJfQ/swb8ly9Twsu8N+RPZ77Jj0EIC+wv5ZOBhGX/O1fEx4837O/G7YrJ2aoXPCug8Hxej4UebOcc2frXjhcL836als+FJe9nzErERssK1nLGu+WbNO4uMuSc26xQ8YqdeouapXvfsWziYGWCr/yy+b1LPsYUvLZ6f/zFmfFx76Y/Hpp3PUNfhpPY59VI8ePa4MRDglVMtUkiVT6MfN/KzwgBtnPwHgwxKW8M1buLRYPvmi9x+kvGvw/ia58KV8vClvd8+x40083rSbwYZ2NF4VAWUKIYZQlsd4hcHsR1ZDgCV/eu8UDGyxXhxLFPClV+89U/2FeuokNayRH2AzdmlM6SSkKuCUK2wqCweFBdnBNchGeYxXiAfKLez8eQk7F6aMZLjulHsYQD765FPVwYcBS8/AerlOY1n27So5a90LA9bHn8yWzOxstYQC6dAMfH2Umkq99LvCTTx9lWvEgXfTygjpxsawP637WW7evCVDhr6pBtTOdA8b8aYcP3FSnQ6DjrS+D0uaceSu/RnulKnzOg6RwMwtzEzSYZzpc/4G6LQs+Xq5al/R7uEa9i3D/g0TJ7+rOmJIHzr42CTbvuGpxhSv6Tpm5c1ftEyuXLmiDFjaCIbB2Y5du1T8bYqWzeAe3Is4dHzo1Py0boPqlMDReFWYr97qTcgRTkOCMRgygnD4Srt181Z1KpA2+qCMURb6wBLUAdQF1AnUDf0M53OrWx22syGhxfbcgmxBxiBrSLcGsgiZhGwinKme16zbWO3VAUOl/Tkt2hcugTh46Kh07FpYX1CX3pk4TSJjYtWm7biGe5BGfR8hgYi/9JNTz0D3dOrRT+2FM2r0eFe4l+s1lThrwIcPHp2791KyA7r36iuhoWHKD2G8bS88yRmWx6MfjT0y7e8G8LHiQnS0Cod2BkbqrCtX1TIp6CKtF7ds3S779xXqRXf60B1IY1x0jNKtut+P9mzWrM9Uu6IGuFZfw3mfxqSHoK9w6AhOlcPsMn3d1/Ix4c37OfMb5dxn0GvKEIfZPzr+92d8rDamx0dF5CXy4gOr/YaRAicce5OeyoYv5eXMx7HjJqsJDpixrK81a9NZLVNfteoHV/8ShpHjJ09J/KUEedGSEx0WM5vwDPRl9L6ekKt+/Yeqk4Dd5bOzHPSeqDBov9KqcDsH+Gk93rxDV8m5dk3mzJtfTJ6wbH/f0WNqmw3ILq7Z+wkA9QB7pUEmnfnkrd5/kPKuwfub5MKX8vGmvN09x05p8XjbbgYb2gWt8QpTme0WWaDXymKJHvyd97br1F1NdT119qzLeHX0xCk1Zc8Zl16biufB3y6c+ov00eMn5Rnb0pWBr41QM0ig5GHJzrycZSnweHVEu6miuUsnIcGOU66gnOPjE9RUYR0GsjF+cuEXHG/lHmH09cT0dNVp375zt2tpIdBy7+wEQMFillP21Wy5ZMnvtfx8iYiIVMoEg+i4+Hj5+puVxe4BUJbYEDPCGuTjy40zHRp3e+QgD+xtEN4R69ux0S7aFB3OmW58ldmybYekWPegzdH3nTh+qsRxw7gH9zqVqel6j76vyWWrMzDirfHKMK/TpzsvzvQCfO3HbKiZn3zmigd59u2qNaoMsq5cUenLvFzYKTN9UXI+p7Trn30xT32lvGIN2JAGzDDAkhm9Jwtw1jMN6ttJK3+xRK0qG6/s+eqt3kR9xwzkyMhoJSOxVt6jfC+ER6hBrr4PZYyyRpkjXoRBXfjmm1UuoxQwPRd7a6RYMjj9g5lKpiBbOM4bz7aHA5BJyKZeFmGq54gPHXnnc9BJxtdnHIqQYb0j8gPLEj6fO88VBvcAe30Hi79aViwuQh4W/tBPoZaua9yi8GAQk37EjNV0Sw6wPF1fgyFn1/6DcjnzspoVAfD3dmvQqI083rYXkDGkTf/W4GPF2p82qNUNWOXg9MdhL1ettn/IsMIj/pEXcxd/LQkJiaoPjr44BtPQi81sMzQh6848OGn16e1x28Epa9jnFmmPsAbP8amp6p3Qb1j1/feSaN3ftc9A471oY539F62v7INeUNbysePN+7nLb+wVCKOGjh8ftA4ePOJqx5OtNhx9ji8WLVHjGp0e0/M87SEWyPhSXs58RJ5gH+OomDipazt9fuiw0aoOY9sC1Endv7T3VzR4Bp51xdJJLr2UlKy2q3G3XYKzXkDuoDOdy+q1Hl+2bKUkWLoOfSF7PAAfRJHOrr0Guu1/YRyMvdLgZ+9feav33dW/ipB3Dd7f1D8A3paPN+VdFvlzxuNtuxlsaBd0xisUMATFhF4ri83R8dt5L4Siebsuap02ZltgYNbYUkjOeIBem6qf96TtKH+AwXDrV3sW25MDwFrawnoG7mnVqYe8UKek8GncpZOQYMckVw2atRPsSaV/w7967UbFwptwyr2Lzr2sONuqe3WcQMu9c+NLfHnE8jzsL4WvTy07drfkubCjAAWJa89bz7Dfo7G3ByXSUYS7PXKQB86waH+cy5lM6ca71WncUtpZg3B39wHcg3sRR2nXsXSyqdWG6es6fTofTenF134s50Mbq+MBuAdlgLJAuEbW85zT4TXO55R2HWlD5wZ7DsK/WdvOrr1eNLgHfojDfh1gIIcydZeeYMeZr97qTX39+ZcaKhlRsmLJDGQHMmS/F3mLMke8Wh6dBih3z8V+KdClkCnIFjbcd4YBkEmkATLqrp4DfIk2PQfLJ3Cap56xgv007O+p0m7AaSAm5GHhD/2E/ir0L2THqWcAZqxi3yVnvcdeSI2tQaKOB38722pQWnuBe5E2+z0A7c8rbTqr9t0k1+7S9XL9ZuqdEK9TL+LddHrtoL2xx+EE/Xt7/wDvhOto53C/uz2etB6yY9JXoKzlY8eb98NvU35jiSBm5djjR/3S7Tj6Guhz6HZcp8f+HI0eR1U2fCkv+DnzEXXNeR35ZO+v2PuXJvCsV1p1dOmlWg1bluhf2THVC+hMe78TflqPoy6gTLWfHbw/nvtCnSZu+18Ahir4OftX3uh9+D0oedfg/d31D7wtH1O6neVdVvkz1Rtv+lnBhHZBZ7wihBBCCCGEEEIIIZUf7Wi8IoQQQgghhBBCCCEBh3Y0XhFCCCGEEEIIIYSQgEM7Gq8IIYQQQgghhBBCSMChHY1XhBBCCCGEEEIIISTg0I7GK0IIIYQQQgghhBAScGhH4xUhhBBCCCGEEEIICTi0o/GKEEIIIYQQQgghhAQc2tF4RQghhBBCCCGEEEICDu1ovCKEEEIIIYQQQgghAYd2NF4RQgghhBBCCCGEkIBDOxqvCCGEEEIIIYQQQkjAoR2NV4QQQgghhBBCCCEk4NCOxitCCCGEEEIIIYQQEnBoR+NVFeCRxwsx+T0IfvfE88brhJDgx9/y76/2jO0SIaSq44/2lG1p8MMyJhrWBe+obPlUGdKrXVAar/78TM1imMJUJTp27inrN/xi9Kto+g99Q35a/4s8VaOO0Z8Qd6Ah9SS/jz9Vw3jdjimMN/c9TN4Y9bY8+2J9o9/DoDzpQV7vP3BIGjRra/QvC2jL0KaZ/LyleZvOsmXbDqlRt4nRn9wnEOSlY5de0qPfIKMfefCgTrw+6i3507MvGv1J4OHsFwPo2PL2DxHHym9Xy/sfzTL6k7Lx2rCRUq1WQ6OfL7Tv3E3qNWpu9PMWT3oc5T942Aip1aBq6dJA70dWFKgDqAtV4f3Lo+cw5sXYF2Ngk3+gUVnace2Czng1fso0uXXrlqSmpklySoqibccexrDByh+eekHqNG7t+j1g4DCJi40tFuZBgfKIjIyW519qYPSvKDAo9YfiBy/Vayp/fPYlox+pOFBv4VauXFXs+qNPVpetu/dJXl6etOrQrZifHdQ51D3UQfx+8vlacuLESfl+zY+qoXaGDwTQAUxNS5cWHd2/V0VTu3FLeezpQqNhedODAVJp5eQraMtQN0x+3tKle3+lG+o0aWn0J4U8rPbbyfLvf5DDh4/QWBIg9Bs8VC7FX5IGTdsY/UlgMWrMeFd/+O7du5Keman+7t5zQLn7h48+UU1OnDwtq1b/YPR/kNRt3EqeeO5lo19l43xklIwc/bbRzxe2b90h8xd9ZfTzhL0f4EmP16jTWM5fuCDvvz+zhF+wEih68WGAOoC6gDph8q/s2Ot9efScc/xRVvDh+IlqtYx+/iSQ2nFPaBeUxqu4uHhpbQ22MDABMOaYwgYrELQ9e/a5fldF4xUGO+MmTTH6+cq6H9dL83ZdjH6k4kC9TbU62BcuhBeb+VOrYUtJTEqW6Kgon4xXk6Z8IGdPhwTUrCYTr7TqKI898/AG6bsPHVIKXP8uT3povKrcBEonHR8jMDA1+ZEHD/pUTVt3qnJ9q8oKZgGgrWvaop3k5+fLgKEj1G+068FivIJhGwbuTl36GP0rG/WtfvzjfjDE1W7Yokx9Hns/wJMe/61V/o1atA/4fpU/CRS9+DAIduOVvd6XR8/5y3gFw3PvvoONfv6ExquHjLtGpebLDWXylPelc9fesubHH2XFN99KzXrNXP6YpTPzk0+U3/CRo1yW11dad5Sx46dK9z6D5MeffpK6r7RSs3AmWnH99PPP8vobo6Vb977SsVMPafxKG5k6bYYrzmdq1pP33v9Ynq9R23WtZ69BKr7fPVlNfv/nGvLOhHdlzLgpSgH80XrmxEnTpbHVwYAiHjTsTeuZ6+W71WukVfuurjjade6trsGv76DhrusAX52mTn1fdUY+nz1fdfh156RX/yHqntlz5xWz5NZp1FLmLVio4kTc9vjsdO89SL5f+2OJcHh35MGIUWNUnnzw4SzXTCVdHrXqviIffvSZvFDn/tTi4SPekjZtX3X9BiiHGTNnqngWLV4qL9Ru7LpuKh/Qon1nWbJsmXq3nr36q9+xcXGybesOmTL5fRUGjc/A10epeBd+tUQNyPX9/V973crz9jJx6nuy4ttvXdcxw6fjqz1V3q1cuVreHjtZ7Q2BDsXkqTPk502b5LPP5xarR3bclRPSt3LVKpVm/K2v/8nKMxhYkMZRo8dV+VkGqLfbduyV5KRkadbmfj3p2muA7NuzVyLCw4t1pnR+o46+0rJjMeXRwJKDSykp8mqX+/UWnS3Igi4fPRvrqep15KOPP3OVLwbO8EMYhMUz2lh1XsdTFrlwB54z8+PZUsOq97o9aGW1QXPnL1TP7tJzQIl7UCdRN9t06i6fzvlSPWvAkDdc7wNZH2P5433s7Z6Ov8krreXLeQvkywWLlGzlZOfI0qXfSP8BhXmi04N77PmwdNlyqWnJNfwQRj8PbY6WO2enF1POkadIiz0/TO0srpuAPI57Z7KKB+1Be+u90X7CD++m2w+803Mv1HXdhzYUZYS27o2RY9war9q82kPJJuJA+67fqyriTp9CdiZNe0/lEdrTWg0L6xTyatr0j6SxJX8oG7St0HUdrDzFb5RZi3ZdZPw7U11xeaN/UBd1+4v6hXi1PrOXM9pMtJ1IF8oQ7bqu56hjCPPn6rVVGtEnUHE72n+kFx8rICuop6NGj3fpG6Rj6PBRMuqtCeoZ4ydPc7XTSFvDZu3UfXjX14a+WZQm79p1px7DNeSzfh+0ATXrFsoheMfqN7Tp2EMWLFqqnte6XWdXPuOaXhIL+UTYtpYf2ink9Yu25bJ4d+ha5/t4ymfkHfIQeYnf7vQz5FHLO9rUB/EFmbjHZIQob//QOehBm46lNqgLoKU1+INsOPXNp3Pmquu6P4R2pFHzdl7VK1M/EelPz8iQFSu/VfVWp0+DdI1+a6Kqi5APPUOrdceu6vl4d8Rh12OIB7oUz4G+wix8pAdxDH1jpOrDl1X/6nYIfVG8O/LX3s+HDkUa9O8uPQaUkF88w12/RIN3QF8Ef6MNnGCVQa8BQ1SeQjaRl/bwyGNnP0DXm+Ej33a1b3oJobN91e0Y8gE6Ihj1Z6DoReDs95aqv6xxJeoA0uhOH6Esx42fZvXHBqs4UOd1PdHGq67d+qjnIo01ajVy3euu/4Q6CHANfmg3IDcduvRy9cPRv21mPRvyCKCbSovXno+grSWHuO6uf2/vnwKkCeVhqvdOPWfvX8yz+ssY47tr75zGq9Lkwt4+oewgXw2t8jwfel7Wrt2gZAyyVqNOI/n4k9kqnJZfLG90N77WxmWkDfGij4L0IQzeBzofaRoxarSEhITSePWwcNeo4Es7vjht371PTaE+ERIie/btV4WHr1J79h2Q775fJ29YFfOUpYhRiXV8ly9flj279rgGcTBcXbp0Sd6ZOFmWLv9OKUwYijDAxnRsvfa7nSWU8XFxxRqHcRMmK8PKC1Yn9MV6r8hFawAeFVWY3pcbNpeExCTp1e81dc83366S4a+PtpTzYomxOhe4H3t/RMfEybT3Z8ro0e/Ix7Nmu+IG1V+oJ99b74EZK3bj1fXr12XHjh3q3c+dDVVCjfCo9KiwX86bpwaEkdExxr1FsG43MSFJPfe9GbMkLu6SSgv88Jx4Kz++/vZ7lScpmZeVMMPPXh6Y9fLmmLGuOBMTEpQhQv+GgQn70Bw+fNgaIIyUTz6ZoxovT+WDvWtQFjAuIT8GWI0Q1t+jTOzGq+nTP5TE5GR5e8wEmbdokURERcmzVsMDPzQCeObmTVuLNWqPWekZ984UlXd249UCSykdOXpSpWXD+o3W3ydUQ6nvA+7KCekNj4h05SPKXteX+YsWyzarjPDuR0+fli+sTpk9zqoG6u358xfk519+scrhvlKHAkDdyMnJcXXCUT9RJz+bPVspBnQCtfJ4/8OPZd/+Q/LNN6uKfUHZ9Mtm+e67H2TEyDFWOcRYHcxJ6vryb1bLjl27ZLDVAUXHGIp8+Mhxqp6h/iD+IW8U1r+yyoU77IMLnf5Tp8/IFKv+zv/qK0lNzyixt4QePJw5c1amTJuh0pKckqrkAP4wBC1Z+rV6nx2WfCEv0HHX8e/du09++OFHmfruhzJn7nxjp1XnMwzjSUlJVnpmyHsfzJA6VvuiOzMIizB6MIS/nfdPfvc9+eyzLyzF+rZEXAhXyhrXTe0srptA3ImJifL+B7Os9neFJCQkqo4e/PoPKiwzvOvR46fUIAnXkWcpqamqbXzrbasNDAtza7x6z4oXZTx+wlSVj737V/xXr0DFnT59uU5j1blEW7Vp0xbZtWOnuo7yzrbk8sLFcDWIRMcQM4FTrLyev3CRKjPov5joaBXeW/2DDhXqOOo66hfKf+MGq/NdpM90OX86+wu5eDFCyTQGtzDY6HqOd0EYlDnKHn0C/Ha2/+gMfzLnC5k48V0Z8854VS9bdSzsECMdl6xnL7P0PtKbnp4uEye/q/zqNWlt1c04WW69N+R9wqTC69606yY9hs4tljjr91nzw09y8NAh1z0w3p89G6KeBT2EtGzfuUcZgfG+P6xbr8JB9pBfm3buVGnYtXu3q7xA776D1OAEz4VsfzCjcPmPp3y2z1x0p5+hE6EbcR3yOH/BV1afp6nrueTB42yPQXn7h07jVY3aTWSxpW/Qxq+09GvY+fNS3RrcOvUN+lNPPP2C6tvqdhn1ubR65a6fOOP9j5Xucme8mmvJ4ZlTZ5W8QEdAB0LuUOfnzp+v3g8yCF2P8Lr+o4+v9Xd4eIRqx0BmRqYytpVV/+p26NiJE+rdMUC9UNQuAug5pAF/o5+BvqLuvx607sF1d/0SO2jf0BfB32gDMQ5aj8Gq1aYkJibL0u9WFwv/ZLVaxn7AnTt3VJuj25vQsPNq4GxvX9GnRnqQnxi7LPt6RYlBejAQKHrR1O8tTX/FW+Ouz778UtUZ9Il0e28H75ebmytfLV6u6gnede2PP6my1P29I0ePKb+Dlhyu/+n+nnnu+k+og9i2A3L7xZcL5bE/V1dyc9qS+cnvznD1b49a8SJtu/fskQN7D5QaLwxXydbYDvmIdx4yrFAG3PXvIVO6fwqQLsiIqd7b9RzeffmKlaq9QvqmT/+o6OOt5/bOW7mAcfzQkeMqHt1HfmPUO2osbzdeterQRT797EtVx7Bcd7XVluJ+d+Pr+q+0kYsXLqo6BqKtvMBsTIRBXwR1AO+zfMUq1TbQePWQQEWBIkblBDuszhyuoxJisKuXf0FJx8dfUgakpq1ftSpIqsuYAQHYZQmOji/n2jVp3uH+F5EoS4GNGlOo4MCVK1eUAKCyQsFMmFzYSYZV9KcNm13hAAZRaWnp0qhFB2lpNTTHjx23KniU63dmRoZquOz31LMqH/adadOum7z9zkS1LBJfgOxh7DiFU3dO9KAXFfjAwSPqbxjTtPEMvzdv3a4279SWWYAZSPsPHJbvfizsDKPzcOjwUVc4vDuMDDo8vgDAwou/7Y38nC/myS8bN6rrXbr1laTkFKnd6P6XpWdeqCcXwyPlo89mu2ZSAE/lM3/hEjkXel51dHR4e6OB38/VrC8REVEy48NPCn9bnWrkud6YDg2XvdNgx9nZQ6cj83KWtLKUD34jTVet8sfXA/t97soJ6UXeIQ+xB1OolXakA8bKWKujpOvnUKsTEhMT53EQH+zoevzmW2Nk/6Gj6hry6eLFi9LJUli6XKCst+zeK1u2bCumEHQ92G4N2lD/MaNR+7Xt1FkpQL033Jdfzrc6nyFKOaAuo8Ogw4KlX38j586FWeV/f+ZUeeTCHfb6ptOPZ8NPG7eHOTqouvN81GpLtKEccrx5155icgT6WXmaaHXWa1lx6fjtewnZlTV+29PzTM06ytg+e/bcYnHqzgzC4re9/XHKj51FRTNG8LepnXUH4sbgA3+jrTTJH4Dyv2h1sPE32mT90QC/8Q729zTxmDWwOm3ViWVLVxj9qwL29tvkD1C2mZmZSvZQ3vfu3ZMviowcAIPLPZZ86t/ovOv64Y3+AU7jFeRZ6wOtz/B8bCS70Ro0YEaEvlfXc60P9KDRbrxy1/6DLdt3yYwZhboD6dDp1c/T6YWx7NiRwnZK4227btJjdRq3VIObgUMLZ+1CV0Jn9h1QOKBFHkKn4m+8S8GNG9Kmc6EczPz4c1e5afnE/h3ww0yPK1mWDmt3f/axBu8HgwHex10+4297O+FOP9dq1EK1NYOHjCxRnuThYGqPy90/LNI/pkFPNeu+XPS723Z2yaFd36BdRj+pZtFMIujh0uqVu36iU67t4HnJVt+6e8/ifthP8/ip0670YBCq+wHO+o92Yp9tMJ2Unq7ClFX/6vROKPpg2szKIxg46hYtWYJ8I37dv9H9AIxZ8FEM7YCpX+IE6UZfBH+jDbT3e/C+aHecyxNN/QAYr9AXw+9Wba2xSuZlNW6xt6/YXxgf8JvaZsoHI4GgF931e5049VdMrKV/6hTqH8jbBas//bRtdRDA+6VbY0691xP0lqq3Vpvu1CdY0pZk6ThnGpz9J9TBvGt5rnZGy40eD2l5gO6CP3QZdBryTscJnPGu3/CzmgFmD+Opfw+Z0vkMkC7ICP521nv779rWuyclJ8uI0fcNRE5M7Z23coEZYjCaOfNRtwP2a5qp781UH7eeqVHX7fga/ZKfN2513XPy2All0HOOi9EGoy02teOBhHZBabzC1wQUDgpcD2pQCWFhrNuk0Fhir5S9+72mrNMoNIAvQ7pyI77o6FhlScVvDJauWYMs+/RcKFQIABTV97h/z35VAc+GhEj/1wq/vtiJuHBRCTxmk3xjKU8MrvEbBrGdu3e7wuGUECiX9b9sklyrsUCa8TUz0qqse60OgLvTl5zC6en38hXfqgb2+zVr1bvjy5IeJOjwMPagkk+Z/oHrGsKiAUFDgnffuPm+cNgbA3sj36FLb8lIS1N5iPc6cOhIsUEG8u/DWZ9KulUWsz7/wmXEc1c+yOODVsO3tugLs8beaOA31i+j0cGMNvx2draQ1nnzF7vut+Ps7GE/BRwGUO+V+xviIy0YKOvfwFROOr3IYzx79fc/SIbVocLfHayG+lp+vmzYuFn9xlcbeyNaFdH1FF8u8bWovqWIMJBDXaxT9xVXuTxrNcKYzTb9g4+K3a/rQXx8gvq//nIEP+yHdvXqVfnRqjvI7/3Hjrnq6egxEyXZqqcfW0pUDyax7DDZkpOf1m1QX2txrTxy4Q57fdPpnzjtPeXnrNca0+Dh48++VB18dPTxzvhKBWVvr1c6Pnu+OZW3PT1OOdLozozuZNjbF6f8QKYxYMGpJvgKZ28nom3trCcQN75i23/jmfo3On5o1+ztOJ6HGWx/KGpv8A7u5EstSbEUul0+nWGqCvb22+mHWW4YPG2xOtY3b95UZQ0KCgqK6Uc1xd7WvkI363LxRv8A+OnrnvQZ2uGsrCxZseI716DTKTcoc5Q96jp+m9p/dLDxUQHPjbDihuziOn6fPHVGfv9kdddvnS7newJv2nV3egwfs9DX0NsO6PdAhxW/8c5aDvAumG2sl/LYy03L59PPFw5Q1eA3/pL6wILfaOPGTnhXpc+e/57y2Zv+EwYkP679SWKtDvG0Dz50xUMeHs72GHgqZ2/kE3/jGvz1NfR55s5dJGus+/TzTPoG7fLp02fVLHf8hkGmtHrlrp/olGs7kEN8NMY+Uvoa5O7I0ePy/dp1rmuQG21cduYL2gksN9S/4Ycwpvf3Rv/q9PboVdg/dKZfx6/7NwePn1TPQD/mStYVlVZTv8QJ0q3bL9yDWSjVipZM29sJ+z12+cZvZ72x/7a3r5B5jGHOhoSqmWe6vxVsuMs38KD0ort+L/BWf+FDqDZK2e931hMYVPXkD6c+0b/xjvjtrv+ENGCsi7+BU250/dcfZ7yNF7MBMZsJf2s89e+dcm3vlzvrvf03lnViNhpWN+l7NZ7aO2/lAkuWU5JTZPnqNepd9XXdDujfMJBjBYfzvdyNr1HPTlt9X4QHuj44+/Nog9EW63wNVLSrUssG3VVKVAzMntKFC6B8TPHZG20dt105YHAdExsvXXr0l4z0+51JO7Cwo9GCpRXT/GZ89JlSiui84qsXwkyf8ZEkp6fLp18skJmffKa+lCLN8MNeFuvW/6yWK416s6QV2Cmcnn7jXdEQoEHQ7+48KtMuhPoawl24GCFP16hbTPiB/bc9/zDrAbMf3hg5Vk051hZfJ+MmTpXzVoN07MwZqV67kdvyMXUagDO9ulHU+afvw1dzNCL28nPiLG9nPQLIS11udpzlpJ+rjVeaISPGqHhhoIShUl9fuHhpsUasqqHrKRprfB2dOv19ZRz+Zs26YuViqp9AX8dgDwojzWrYmxXtsYaw6ACiI6jz+/M589TMOtQJTDGOjo5WS890GTS2Or77Dxy0yj9VuvUdXC65cIen93L3niY5gEENYXEPppSHhV1QX7QWLFjsqr+m+Jz1254epxxp4IcwCIvf9vbFfn+1lxvIuXPnZMeO3Sp9WNZraid0vO5A3HiG8/fjVj3Ztm27hIScUx06LCnU6UDeII+QV/htkmNQp35TibPaKBzSMGHquxIXH/hfoioSU7lgxuH8RcvUl2HoijkLFrq+kNrLW4d3tq/2+oG8LU3/6HC6/Oz3A+fv7r36yglLbjG9H/tMOOu5sx4704cBboLVof9u7U/KcIwvldrfng7nb2c8wJt23SS/wClX+j3QMcVvXe/xt7M+28vNGQ8MxNHRsSoM2rvDR07I1m071G90hr3JZ/vzcN1d/wl8/NkcibX6RBs3bFSzjfV18uAxyaenckZZliafzvqL/WiwRAazHSZNm+56nlMOAe6xy5Mv9crZT3TKtR2nfACT3CFtmN2MWc7OfHHKN/wQxhSPN/rXmV7nbx2/zjfIpj0v9EdRZ79Ep0FjT7e9XTD91jjzy1lv7L+d5YoPt4u/+U5t0/H5vMKZocGGKd8etF505rvGF/3l7iOe8/3wAUWnH+BvvBP87L899Z+QBryzfoZTbpz139t4tZzoeAHS765/75Rre7qc9d7+2/neGm/bO2/kAstAjx0/qbbUgFzjmvP9sAXBgWPH1bhmzZofXOXkbnyNd8OHYp0PAEsinfltascCEe1ovLJ+Y3ZWilWh7OE1zvgwsE3JzJT2Xe9voBcaFuZqHDDQjgiPKFr7ekGto9XhNLCwY7ro0SPH1NToTt37yYF9++WUNUBHWvAlFFN5YbjCNFG9bFBXMoB0vPb6W2pqp/7ypHEKp6ff6Axg6ZqnTiWmFCM9utMMUMH18gJno2T/bc8/THP92erE79y5x8r71GLLuJygc3/0BAwWH7ktHzwbU2m1EUpfdzYa+kszlorit3PaKdKqy8+JU+ngCwSmdmOKtw6DU+9MG2kDezlhfwekF1OAneEQLwyU9o3kqzr2ejprzgJl9MN0+W49BhQrF1P9BPZ6gHLYbjX6em0+vjghLtQN+z12Xqr/ivqyhcGmvgb5nvnJbAkJCSmXXLjD/l7Oeuz8rdFKx16v8OUO06Sftdqfy1Z7hU3lcR3LFnS7Z4rP2U7a0+OUIw38EEYrdcx+0eVmv79Xn0FqHT46EPDDskFTO4HfnkDcdmWuf2NKdnZ2tqtdsacDX8Xs7RymwdvfU4Oy1u22bicCXZlXJKZyealBM7mUkCgjRxV+OLGXv728dXi1UejK+8tlYejX5eKN/gEoA93p9qTPNNChv1i6BvuPOOu5U586239s0HrgyHGXTsGyC+1vT4fzN5YEY2mwjgd4066702NYkoOlOViig9+YDYJZIaPHFsqfrvf42ym39nLT5dOoSWFnWH9xxRduLIHAnnEv1y/cWNjbfPa2/wTwfi9a8SdcSpCevQcaw5AHg0k+PZWzN/Kp9Y9uJ6EbsTcN/sYyGv08k75xtsvQLd7WK2DvJ+Ie3GvvJ2tM/TaT3NmX4TjzxdlOwA9h9Pv7qn+d6XX+1vHrfgYGxzp+J/Z+idPPnm5ne25q34GzPXHWG/tvU7kCGNKwh5G7GWGVGVO+PWi96K7fW5r+sseLGUqmZex4P3v/GDMX9cxe+3vBz/7bU/8JabD3f53thrP+exsvljg7Jw946t875dreD3XWe/tvpz7W+NLegdLkAv3jLVt3yM5de1QZ6nYAfrgnLT1TXmndSf1Ge6XrobvxNfol9nqmwdJlzLpDXxi/USdQN3S+BiraBaXxCus2W3csnCkAMGXPU6XEWs/omBiZ+ennSoixtvWFOoWV3tRIbd64VW0w+VL9ptLOqqRQinalhvW32GTNPui1AwUaHh6u0olno0GAAOg1uqi8J0+fVZu34ivp0DfHKAs+0lyvUXNp0rKDug6jCBSj03iFJYjpV66o9D1hVUinsNp/QxgwVXHgkJFqiiieb5rtgyVUGMg3aNpWTZ/El1S9Ua2zUbL/duYfOsvYR+DYsWOu8BqsR25uDUDR4ABsio6G2FP5vKM270uRTt37KD8IJGa9YPbL11+vVHmABgAzoPB1Gfd17tVffZnQX67syt0J8jYnN1edVIh3wJR1bCKIjgI26xv2xttqXxL7qTDAXTlhBhDSizTAD2Wvl6YhXmxaqN8fGwCjg2WPtyphr6dYMlhg1RucPIjfzs4AvmhgplTTNh3VPmPPv1R8I1GEada+q2RbZYmZGSiL6Lg4GTlmoqo3+NJaq0Hh1On2VpwYzCH/UY8gx81atFfr/3GaBzZm153EssoFppZjY2c9LVtjfy9n+p2/NboTgI07ceJRk5btVF7o9gcbTA99c6x6z8VLvna1e6b4oJizr2ZLN2uQiXbAnh50kHHIxa6Dh1X+QA5xkhrqedblLOk/eIiSN3wZ0huP2u9va3WAsE8I1uEjv0+dOOW2nUCbjenOppmrdmVu/63T0bvfQCU/m7Ztc6UDyzawFLRL7wGqDcByJrs+0GAvrKioKGnwSmvpaLUpyLtAV+YVCcrFqU/1F773Z85S8jDnyy/Vfigoa6dcghGj3lJLqGE0QrnvOXDAZ/2DMijNqIK2srUl46hfKP916wpP4HLp02+/V9eHjRonBTdvKn2K+53t/9hxUyT0XFhhG2ylGXVW+9vT4fyNqfzY1BntBORAtyfetOsmPQa9gBlki5Z+o64hjxKtwZHeM8QuB87+jV2eUBYokznzFqh4Xh/9jmRcvqyWVWKmeKolF+0691TtRlhYWKn57HyeO/2MfXiaW51svDPKBIZrGLDRJ0HbpJctkgeHST49lbM38qn1j24nse8b2gT0bz74+BO5cvWqep5J3+h2ubvVZ0WdWbPmx1Lrlbt+ot4TcvoHH6rw+hma0IgItWEyZFP3s9EfS7Ta+PZdekldK/79Vtr1BubOfHG2E/BDGP3+vupfgL91O+T8rePH3+hnRFu/m7XtpPIVug79Wnf9Ejv2dDv1rPO3xlM/AP723/Zyxels+IiENHa1ZD09I1PVIXvcwQDeNRD0oqnfW5r+wnLEblbZQJbQl9uzd7/qb9njxftdy70mrw0bpeotdOe58xfU7CG8A94F74Sw9t+e+k9Ig+7vAWe74az/3saLwyVwyITW+1jx4ql/r/uhyBvcc/p0iCtdznpv13P4jRlN3367xoqzidLRjz3zolftnTdy0bxVB6ucW6q4YbzS2w9hcswsqw1EfE2atVe6G0sMUX6bdu4uJr+m8TX2v0qw2lgcaoG6hC1v0G9Hfx4zNn9a97N6JuoE6obO10BFu6A0Xt26dUvtS4RKB7BZmr0SIpz9NzqS/QcPlRhLUcIKHRsfL8PfLNyYEPE5G3ec6IAlCZesztj2nXtVo2NXaj36D5WbVho6uTneFAKGGQzY7BlTTfXGaRAMdOwQBlOisWY3OjpWli77VuIvJag0w6KcZCloXMdytDFvFZ8FAZSQhYaq9OH0E0+dE4AlbegUY41zdEys1WCNdPlp0JHeun27XLLSgYbjx/U/q8oPP2ejZP/tzD90GC7n5KjNCnV4Db4kbLaEERZzcOTUKXUsqKfyQaO7fOVqZYyC3/KVK1X4GTM/UQ0f8gANGRo0LI+Awom37v/4009dz7UrdxNomLBf2h6rMcEeBjjBKtzqCCGu2ORkq+M0Q1m97fe4Kyc0RrO/+EJ1mOB3MSpafRWEHxq8ixGRrvdfunhZiUFOVcJZT6FkVq8q3JgRCs3eGYBSRf3El4TY2DiZMOHdYsoDYVBXYLTAgBD1GR1mTPdFvUGnV+9dtXnLFjUbAaDOQJ6wDA2z5xA3Oql6en5Z5QJ7ItjlXWN/L2f6nb81uhNwypIXnKKXlJRcbLkjTnLBlx5sHj9xynRXu2eKD/UTp5HBILtp81Z5xnoXez5jjw3kCfIGcoiDC3DEMAztaK8gF2vW/miV1WkV3v4+T79QV013xkaSx4+fUAZgd+0E2my9ISx+27F36u2/kQ5MK8cpUNhYftbs2XLeyg+EwXthqjambIeFnpepVp7Y9YEGeYYDOeKtMsZehrv37g14ZV6RoFyc+vTPVp343OowwhAMefh6xQr1VRZl7ZRLgC96WDKWZsVxxqqDi5fcX84JvNE/KAPUcU9GFbSV2OsK9QvtJ+qiPnoep/ZgVh707vofNygjs+4kO9t/zEyKio5RcfyyaZuq29rfng7nb+i2pV9/q9oJ6B19kAPyorR23aTHcB2D0/ALF9U15NGIN95y3WOXA2f/xi5PeD7KZN68r9Q1DIqQ5wiHturA4cMqz06fOaNmqpWWz87nudPP6OecPHlKvTPi3/TzJnmqWm3XRu6vO/aJJBWPST49lTMoTT61/tHtZN9Bw9TeK+jTog3GhtB4njt9g3YZBiy0y18v/6bUeuWun4j9XRZ8tVwtFzp06LDrGZoOXXurNgGyifdo2bqzev4X8+cruUPbgPZe601nPjjbCfghjH5/X/UvwN+6HXL+1vHjb/QzNlhtKGZMRlv9xlPHTqi0u+uX2LGn26lnnb81pfUD7PXIXq7oy8Ygf600Ik+Rt/Z4gwW8ayDoRVO/tzT9hXpy4MAhNX6B8UwvT7OD90PZY4UQZA/7qvUeWFi38A54F7yT87en/hPSoPt7wNluOOu/t/GqPNi8zaX39Ybv7vr36Ifutt4L+R5yMVzmLVwqP6wv1NXOet+950CVJqQN/pgNiiV92BoI8tyweTuv2jtv5GKx1S/AuBBx4xnQ/bg+8s23rTSkqv35YITD9kIYj56yxkOffPplMfk1ja9hYJu78Cu5bPWnUZdwGqLesxllr99ny65dVrt5yJWvgYp2QWe8AqjsdvR1GDHs4Zy/0ZHD9Ej9ZVPjDKevISzu2bJtm9q3SvvBeHXR1giZMKXFeQ3W2uatCyuw3Q8VFBuHO9Npx54+CCTQfs7fAF9hESfitl93AmsxZsHYr5UWvzPtl6xGQ5/WZwLvjJMVndfdlQ9AmmA1tz8X8WjDEMAAAYNi5/3O9DqBH+J23ldafnkqJ1zT5eP0w7vb011VcZaL87dTXoCzfprC2K/hbyhLyJq+pssbdcX+RQphEFZvBG3HF7nQGyM6T+3TONPnzk9j7wQgbc50A3v6PMUPtJzp93SGcSdHkDd0su3XgPN+LTfO/LGHQ6ccs2VM8uW8z/kb8mNKB3CXD3a03Jr8qiLu9Km9fbXnpbt81eWijni2On52P2/0j463tPJHmnQH2A6ebdKnzvu1vzv96Xw/5288Xz/HjjftukmPOeVR42267IMA1H+n3LqTd2f8pT1Px+OMH+9tzw9sWhxnDbTsYciDw1lupZUzKE0+nXGiHqOu2a8BZziNbpexB49zA2l39Qp1CnXLfg14av+B6T1M6S0tX/Rvf+pf+2/n8wDi8KVfApzxeHqmHXftgsb+2/63vk+/b7ASKHoR2OsXwLNQBigLe/mjjqKuos5qf32PHbtRE0Ze5/Od72L/jbCm/pOzHgJP8Th/u4tXY893De539u81pvcCpdV7pz8wtR/Afq83cgE/U7nYyxd5aB+POvPI3fhatxPO9yktXwMN7YLSeFXR2Cst/saMi862vRywrBBHXurf5D6Tp7yvLP6Y8mjyJyTYwSmF+/bud32ZLS/OL1jBwJw582Xq+zOMfqRygY6YvTOG2T3Ok/VIxeH8Uv6w6TNgqMyaWfh1nFRtMJCyD6bwQcd0dH8gE4z6l1Q8D0Mv2o1XJn+N3Xhl8ieBSVUYX2tH41UZWLRsmew7eEQdg4/pnHv3HVBTF5u27qg2x4uJilb7WpjurarAWoz8whK6qVPfN4YhhPgOO88kkOnec4CcCzmnlgwcO3xUoqNipGEz94d1EP8SaMYrQjSYQYADjjZv3Sq79u2TxJQUdfqyKWygQv1LysLD0Is0XgUnVWl8rR2NV2UAR75j41GsR8caWBiu1HVL0HGtqm+0bQLChbxp26l7iamjhJCyg7amY+eexs3NCXnYYM+FFh27qfYfp7LWbtiC+vEB8kS1WuoQF+pdEmigTjZr86r06T9Eevd7TRo0r3xGbepfUhYehl5EHUVdLe052CMYG31jHzmTPwksqtL4WjsarwghhBBCCCGEEEJIwKEdjVdBinMvAWKGeUQqO/jSwlkVJNBhW1v5KEuZ2dsjljmpbJRVn+IeLs0lxL8Eqg4paztByod2NF554PFnX5T5i76Szt17Gf37DXhNJk6eYvR7mOijh48dP1nl1yyj7FCGKEunn/NoVkICFUzjxrRgJ3qpsv2IZUICjQexh4ZeHgd5wDKMhs3ayqNPVjeGDUQCrT9R2l5ZT1avrZZ6OQ+e0Ef8cy8gUpHUqt9MGhcdJ+8LpfXrnUf6ewOOnI+8GCGpqWkyYfKD2XNG635N0zavymNPl894Nm7iVPnok0/ld0963hPJE09Vqy1tOnY3+hHiC97u0fUw0HrO5EcqDu1ovPLAk1ZneMfOXTJy1Fj1u27jVtKn7xCX/9vjJsrXy1a4fgcCOD4z4/Jl6WMJ1UsNmstvA1DoHyQoO5QhyhLHC3/86WyXX6AYr5z1injm9RFvS816zYx+wUrfAcNUhxrcvHVL9hw4oP7GIRFQoDRekUDmQRivtLEFcnE2JEQy0jNk3PhpxrCBSKD1J0ozXr05ZqzcvXtXFi5eWuy6r8Yrb9tz7C36oAwDpPCDyeix441+gcD+Awdl4OujjH6ecPbrnZTFePXdj+tl18HDUu+V1q49cCsayNjlnByV1n17D0hqaqp8uWCRMay3zPjkM1nz/dpyGa+q12ok58MuSP+hbxj9g5lJk6dL/cY8rKusdOzSq9iBDcFmvGL9KD/aBZ3x6onnXlY8VaOO1G7c0jjjplbD5goYM+zXn6lZeE+NOo2V0Qeb2j1do64r3IyZM2Xe/MXyzAv1lP8fn64pj1vPwtddHH9vn0KI5yMd+BuK4KX6TeWFuo2NSkE/BwKKhv9lK23OjfJwpCrShjTqa3ju09XrqLC4B8/s1e819fWndcduJZ5fq1GLYu+M+5B+fK1B3PAz5R/SZ0oX8gB5hXDoEDjjRXx4Ju61bxCo43Pep9PhjfLXadS/8bf+bS83gL9xrbaVlqTkZKlV9xVVdtp41a3nQPUeyCNvyuelBs1U3ut89/R+zvqHdOO5L9a7f5Sps17Zw1dl7Pmo6z1kbP/e/dK9z2BXeUMGUB41ajdW6PtNco6/cZ+qm5bf8y+WHEzjOsoHZYEycfpjAG6XA90O6N9IA+JwTilGXce76PZFX9fljnv+XN3zEeEYSGJAiYGlvqaNV+qdrDrunAmh81HXW7ufHX1/TWvQYg+H90Gd1e0JwLtpmbDnI/LWWe+RPyqPitowXW4a/Vxn+pCnyGedb/r5uG7Pb9yD9lf/Bt62D/jtrlwQL9LkbDerGihblL9ul7Vc6PrtLv9xj5ZHbbyqabW9qC/P1qxbLLwdd/mOthk6FGVl1xsap7Hli3kLJDYqWqUT8aD88X/cr2coQK8622ONrq94Fw2uO+uzDo93wrvZjz8Hzn4FriEMwgL9jipO6xmo83Yjn7O+utM7TvBOTrm154NdbjXIK1xHuZVmvPr5l1/k0IFDEhp2Xp54/n55uDNeedueI49M/YrmbV6V06dOlWh/3bW3pCS6fO31zi5X9na7e7/BsmHjJiXb9nYZ9/oiL8D+XHs56XAoe9RplK39PqRR99/0NTBh8jQJj4gspuu0nDnlQqdL97+d8gTwTP3+TuOV7j+767//waqLp06fkbU//qTSr+PX/UUYARHOXv/t+Yy8tffjdfp1urVcONF6X/8eM3ayXLt2rVj+In8Qh6m9NLVXuizwt06Xbo+d+lG/j9bbOiz8Pvt0jhw9erzYewYbTr2I+ncxPFz6Dxqu2nF39UDXJ6d+Q/njPlyDn64H2l/fp8vB2/GCs16hjMoyXtXli/e2tx8mkCfIG6d+wTPc6Vukbd68RS45wjVtvHq6Wu0ScqNx1x5p7OMD3f7o9kj3TzQq763rzvdD/uA35Kmm9Szku914BT97eej47e/vrB/2cMDZbyBmtAs649Xnc+bJym9XyZ59B5ShAg0oZiPBDxXs8wWLJTEpSbFu/c8u5dej3yBVsXBPTGycdOrSSzU8O3bskSEjRsnotydKekaG4uChI6oCT5w0XRZ8tUQN9g4cPCydu/VRcUFAt2zZIZOnFH4lxDTcSwkJEhsXp/7GNTv6OePHT5Gw8+clITHJine5yx9p3LFrl0ob0oi04nrjlh1k86YtMv29j9Q9s7+YKyEh5+TWrVsSFxev8gLhPp87Tz0f7/zj2p9ca4hxmgTSv2jJChV324491D3ff7/Wesej6tq2bdul/+ChEhEZqZ4xxxoQ6HRNffcDlVcId/zkKVc+63jxLDwT79SydSfXfTo+3PfLzxvVtWdr1pPNW7apa3iHFrbwJpC3mzZvVQKPhmX79t2y4ZfNqox1fvaznoOyw9+4hi9jyBsMolB2aERhvPp6xSqJtAY5yKNp02eUeJaOb8ZHH6t0X0pIlHenf6jKCHmCa+063jcmTJz8ruv9dlude50v+Lq8b/8h9cz4+Evy/kezjPVKx1PVsdcT1PtOXfrIN9+sUgOq+EsJ8tP6X1TjDxkYP2GqxMTEyTeW7HuSc9QHtA24Bj/UBS1PiOvDmZ+q6yifGTM/l2PHTpZYc799y3YZ+sZI1+9PP58jn1uyh79RnkgH4li+YqVLIeGLUtj5C+pdUNcGDClUeogb5T7tg4/VPdOmf+SK14Qn45WWNwwm7ScfjXprgqvezl+0zHXdDtIBecL90dEx0rxdF3UdX4rwPqizqLt6hgSOON9n5eOPP65X9yAfMYNCtxuq41qUb5C1Dz6YqdoS+CGMjgeycfDwURUH0jfzk8/UdYA25ONPP1dtC+7btWuvKse3x0ySVavuz+ZAWg9Yz9O/gbftg7tyAcgrpAlpQ1z2+KsK+AqKskX5o11GvUIbhTqLOoAw0EMhIaGu8ra3c6g7+NII41VScops2bZT5Wd4RITKe/uzNL9s3OzK94WL7+tB6E7oUJQVyswpl05jS5tOPaSgoED9htyjDL/5bpVEx8SoJTYYTOzas9fVHuOIabQBuBf1EnVY17vvf/rZpU9Rn4Guz0gH2hC8E9IMXe2pX6H1OcKC76wOOp6r+xONmreTM2dClE5EHBh0QNZQX/F7xYrvXHoHbSSu2UGdX7r8G/VOeDctN/Arrf2bNetzdR3lNm/hUrfGK7xzemqqvPHmGElPS5cGTdu4/NwZr7xtz039CtShU6dOq7BIM/oYiNNde0tKgrxBHul6N93qw+D6PKud03KFOq3rM67lZOco2YaMo+3EzHXci7oFXemNvGAg+/2aH13Pnb9kmaucEGbF8pWya/deORMSIrv37JO5i79WfgBpRL/w8efulyvuPXz4iCz66r4uQzul5cze37SnC+8zdvxUV/sPWUAYyAbSjDAIu2Llt8WMV6X133EN9fJK1hVVN1982ZJvK/6Rb45VadmybUehfLvpF+p+vO5P4p5e/Qa40r3fCqsNH3acxitn+9exRz85X5QnkCMt58Bde4Xy0HKo0zV77nzVHjv1o5Znrbd37Nmv7oHfy3UaS3Z2tmpndfhgwqQXV65cLTdu3LDaskuqHdf1zFkPShuPuRs36XqIcpg0ZbrX4wWnvijreBV14SOrnPHeSB90qam97Td4iFy4EK7yxq5fTOMf+31Dhr6pZg9qOUK+QHfExcfLXtt4XutFT+2RHaT70znzXXpijtVX1+0grukZgminNm7epq7b3w9xQiamffCRHD9xSuU7DFV24xXSscYqt8cs2UN/87tVa1QceA89k8xZP5ztMfonuFenm5jRLuiMV6jsaRkZMmjY61KnflPVsOhpsF169JcUqwPdu/9gqdvwFTl74YJMnPqepRhflnOh5+Vbq7I+X6O2dOrcWzXmsP6i8qHjjc4TpuZCscHIowbIRV9oIPwnT5+V+QuXqDTUadxSUiwB7dazvwx6baTVECRJC2uA1dbqTKempEr7zvcHnkA/57SV1nqNmkvfgYMl63KWuhf+S5d+I999v05Zid977yOldPDVBMoqOipKjhw5ppYVYQ+At8dNkIyMTGsgOUaleciwUXIZywgHDFJxX7h4Ub6cv0RZuSF4qVY6d+3eo2Zs6cYCae9vNUDtXu0paalpctbKm2ZtOsv4idPlypUrLgFDfHgXKCrk88qVq9R1xItBw6xZn8lLVuO6besOWbtuvfJDmVzOypKZ1qC0utUAoAOLskEZ7di5R2pain/y1BkScuacsSHSDBw6XAk8vlAgv89bDX2s1eF9qV5TqW91pNOsDjUGV/blKmPfmaKUe/eeA9VztPEKX82QrinTPpR06/1QtvZn6fI5fuKkKxy+cK39ZZPUtZ69Zu16q4P1/2fvPNysqtX9/7fce44dBOlFilIFAUEQERCUoqACggIqVUAUpEoXQUCQ3ov03qX33gUE+72ec+49v5tfPhneNdmZrLX3UGRmyH6e7zOTtZKslLflTVth4pr66fburo0kvsFAfakWnsx+TJ02XS1YtNycVYDiqKXb1EdX9rcfVND3F7TS6tFrgOFJ+ptn9RtkGWj0Je1H3GOaj8+fO686d/3Q9EccnxMXevjzz3+owcNGmP7Zo/l2+dr1ZsakSu0G6rJWnh3f+0g9U6OW2qH5ip87eJswcZIeYGc5XcGJo8e0vHnXXPN94dKl7O9qXmvR9h0TB956p/N7pi6fDR5m0vCcvP/xj38Ynm7fobMpk+TrA/Gpv+u84jdu/AQvvwk/w6+nTp9RvT7OaguB8N+hQ4dVjboNVZ36DY0it9sD2bNo4VI1/1a+bLX917/+pY2CL6J2RO6+1723er5BE3Xp0pXoO8jJX3/7Tb3xVkfTLrQrMk2+37FLNyML2nd8V/2kDReZAUS24vCgPeHl337/XTVu0UY937CpOq/LJfGGDBmpFi9NdS5lKh/i+uUt3Rd8u67+FvKt2avZhv+DAmYzMQp7anlcpHh59bqmM2S/yE3Zbu0OmtZt2mQMcHhIHC7wHRMHw0aOysF38j1Bh87vmzZ/ScvImzduGn0MX0NDbdq1N7QCLbnp3HK0erOjGXzTx3z/v//7v9WUKdONzoF2+H/btm2GJsnvitbN6DlmaefowbboBWQ5acUJAz2jN7+eMtXQRemKNcxk0XtaJsEnyzUtDhoyJNauYAB96PBh892q1etFxr3YE8x4M3Do/lEv8xx+uqF5C6OdbT04pykXNs5ZbdD7DF4McvLmGwwuOUaA50ny7zk90Lx+40Za+QdwVFNGyrpP6/5mrbKdaD7nVW7kuc+uoA8HfPK5yRu6o85J8jYgJzp36a75+bxpL2hD2hvbr1rt+qpqjXrGVmVVE7SGTYJtIvzyUtPX1MkTp4zcBOjYOpo20/EL3z2j+03SwWevtso6JoE457RcHjV2vLF/Bg0aZpxQrFIg302bt6lJX2frCoBMR7ajL+UZdUHWIKewldHP2LgLFy3JGuRrWn+hUeMcdj1pWfnOgJKy0Tb/9UfW1mPeZWK/V65WR9vVJ9QybedBm5L/4UOH1AcfZdF1kl2I3Lqh+Q55IvobWQcf0iZXLl8xssz+JoDHKDfyuEadhmril1+rZYuzyk1/cQYX8hZ+mz5nntq9Z69Z2R0nr0hHf8g2LSnX7IWLTZkn6fLt0YN3N3/erfhuVQ67BBnXsVP2FrCCgji92LrNO2bshdxGX/noIN14LHHcdIt++B+5iA6m793y2fDpi7KVat7WeJWxJrY0fNL+nXfNWLBGnZyLDHC04oiD7pZruoCH4WXf+MdOh9PX5iOeQY/IEur9jOZ7HFmjR2dtjY2TR3aegHLv1mM3dNrAgUOMHTLx6+mmj9at26g2a/kAH6KPxEalfOhcdK/osTOnTxsnLd8irui5Bi+3UCe1XS2Tccg7vid2BbKqUo06OejjRR3/B90f5Edc27kcEA/5FUjnFbOysky23yefmZUEJTRjTP56qlZmi6O4Xbp8YASsGJkztKCwnQeukkOhYWDKezE2+R9BsEsrB7ypr7Zsqy5dvGjyYi/8Iq1QMA4f0eG9WmhMnJQ9swTkO5+PzFrVJPGmTJ1uwkdPnlKNmr5u/sdwR7E990LjyFhvbg2sYHpbqKEgV6zbEC3/xNuNgGBWQISlzLoA2k+2AUi5Zs2db96xn58tiSJYbJBu+45dhqnJF+Ne2hIFdkT3Cf8P/HSIydNeTinGOgYxYXtwKXFc0M7Xrl0zqy7qayGwZu1GdVR/Q8LndX6Uhb4z39N1cQc3MgiTsw+YPWEFFAaD/S1ph8HDRpmw5IPRR7j9252MIOP/ESNGR8YX4VZtO5hZD5btIrxRSBjivBO4dBWQ5by6rAcmOArt5z7nDW0/etT4KBzH5/wPPVy4cNE4MQjDD8eOnzQzKd0/6KOOHz0epXv7nS5GSLqDN3gR/uZ/FPAPV68a2uEMmA2btkXx2Ao6a+68KCyg7L9pHoYOyPvf//63atehS454PvjqL/wms2Auv9nbejCGmMmlfSW98B+DFnkGaI89e/ZHYer9izZYKDcy4MaNm6pq7ayZVvj/9OmzZpWIbKPgGe+g7S07dkf50K4nNI9IWFCpeh3TlgyWCMMX30yfGb1fu57Vjxh2NU0figPjwIEDpo8lHshUPthp7H7BeYXjvtatmeQHEWKkM2Fit1WS84rVBD9pGqlnrUQF8N3Fi5dU+WeyVtzZfGfHs4HOPnXqjOres7cx9n7X32jWKkvm+iDl6Nm3nxo0eLhxoI7TPMg7vn9V00PlmtnnTVAHtkZJGPrCQcLMNIM7cR5B09C2Tc/ntE0h/FZHG/ms5hJ9B30n2RU4r05omSUzyAKxJ9DV6GxsB56zGnPNunXme9gYooekXDjt7XxcLF3+nRoyJCtNOvln8zsOL2QT/SrPBNNmz4/sCngUmSvv4pxXmcpzG65dIXoWZCpvA7KwXvfXsOFZK4R9eEgPML/fsy+SubZ9C76aPDlFHq9asyYjftm5fYdxEEm6CV9OifqJOKc1j8PrhFnBx8RtdS132Y6G4xUbStICZDhyGqeJ/VzwRrsOZsAqzisctLaD17Xr3fLh+JJ6Z2K/uysMJX/77Kgku1DklqxepN1xSvE/WLFypXkmYQH8wPmXyLGff/pJXdCy+sVbfIRuZKUKR2UQNiuhZNwQI6/4nzrYziu7XAy2Rf+7+WMLu3xMG06YkHoeXkFApnrRRwfpxmNx4ybo58SJU6pYmawtioxr+VaS8ypJX9zOeBXZ+2HPj83/Is+5IEW+50OPvv2zyl32mdjxj8DlI8D/Mp4Xfhb7NU4eSVhgl5u+wRlWt1HWhQK9+30SjQ/tNOCs5pGWrdpF5dqq5YR9IQL5vq3HrDu0zMRhJc+Rs/I9wKQN7eTSh/CT68QLSIb8CqTzSoQvYbziwuQIU1sJiLCAEfB6oig3bN6sXtCGN8LFVXJuelu547XGe40Xe5wW2DCWED2DKLzvAO+5O5PkfgdIPZ4qVk797//+rzp18mSUx/Xr140CF+ViG5cwhtTXJwz4BoIXAewag8BuP7dcLvM1fOV1HX+e2rp1q5kBlXRuvnbY7R8g+Ur9mI34+ZdfokFsHDA6EPCsvBg9ZpwxiAhjiIhxRNlFOLnt5dbHDQvcdnDzSaofeckgn4PZWd1y6MQJ9VrbtyLF59JVQBbe69bT8NTCBUvMzCLPaHPXSKLt6QMJJ/G5TQ+8s8M2PwMffwEx1lntiGHALBYzkaS/ovlb6BgDet6CBVlpKj+nxo2fpNZv2Kj27ttnZn/I11efJPjip+M34kuZLmk+dZ1XcXQf1x44EohLGtLyzqZ7wP88S8qHuuA4/3TwYLVh4ya1c/du9d9//iMqh9uPdhgjEEOmijXYkXiCTORDXL/wbsH8Reqilt1sCeUGJTvvBwVsG2X13fJVq1Tl6nWNAenSi92fLl0IkvjOjocx/W7nbmrVipVq+7bt6vfff4/k7ufDRqirWvdNnDxF82DqWRVAykG+bLv7YvT4aNDqfs/HR9AXBrZbv3T0DL+xEtfme+Q873x2BTS/ectWdfrcOfXuex9ETjA7Xw4ml8Eu23q6de9tyk4dTumBrXzLzMb3TL2hEAP77U6d1SKdFyvLLlz5IeKbpH5w62X3qzwDcnYHs8ukmTt3UcqgS+Sx226ZyvNM7Qq+HSdvA3LC1ZMAPdC6XQe1VA9YaW8cHHF0zv/kIe19QffloMEj0vKL+13y3bxlu/mfONK/8l7kNpMlrKiW5wKXLpFJVZ6rr+bOm682aT2CI0bohIHhwYMHzUr+V1u3M7whfCRyxVc+6ir1SGe/u/V18wduPWkrsQvd+vjanWcSFgg/kA6wCurihYtm1bRP3rHCmwEz6eLklV1Ot1x22Je/y8duPQoSMtGLLh24dAJ4Fzces8M++vHpWRvyfZ++uJ3xqssnblhQu0FjNWnaNLVd8/EhPZYTOokb/wh87ePW2w7HySNJK7DL6babTcePPlVO9eg9wGwdFFlIOl+5JN8dO/eoH65dVzXrZm+P5bldLlYv+pxX2Cac78WKsb79P0tZRBIQD/kVeOcVS4uFWF0lAGHKoJYwB8KNHDNWXdXEVr3eSzmEj5veFs4YbsePHFVNtVDYowdBzOgK0bOkFqEukPNeBO53AFvSSIvzitVRnd7/MEqP4wpG439buQCbOX1MxzfY58tyYeoPk8k7YLefWy6b+djudu7cBfWWNjJ4vvBWeUnn5muH3f6x82XrgNQR4BCQOD4w08rS9pUrV5v2ZkabQemyFauN8UMcWzi57WXXxxcWuO3g5pNUP/JiNZecQcSS2m7de6pLFy+rrtqY55lLVwFZYKDHrN9MPZChX1jV4TOSaHv6QMJJfG7TA+/ssM3PwO1nAUugv1u3UU3RA92t23ZEy69Jzy2ApBOwXBg6Zq//zJlzDR20bt/RzP6Qr68+SfDFT8dvR48eM0vApUxCi4I4uo9rD2a8iUsa0vLOpnvA/zzz5VOv8avqz3/+09Rl5px5avPOXapG3Uaq8auttOF0PSqH2492mFViJ0+eUkOGjUqZ0baRTj4k9QvpHyla1ix/377jezVn1oO7oqNGnRfVtOmz1YnjJ1WFKrVz0IvQBe3m0oUgie/seJ8MHGRmhxu+3NJcOoKTWOQuOva5Bk3MKqSdWsfa6YCUQy7ksN+53/PxEfSFIe/WLx09w2/MQpOXQFYkAteu4BkDTG5Ku3Tlivri1m19dr68v3zpsmrc9DUtu64a45iyU4eR48anfMs1eus0bKousoKxSUuzmpEZaeGbpH5w60Xe0q/yDOAoxmHMqgrSsAWY7ZkMiHgv8thtt0zkeW7sCr7tk7fyPiAVrp4EbJO7oAe3DCafqVFXHTx4OJbO+Z9zW+z2xo5Mxy/ud8mXVY78TxzpX3nP5ALbi0Z+MSZlBbWA79p0yYoSzgdikoFV+90/6JVCJyXKP2uOomAgjlNX+Ejkiq981FXqkc5+d+vr5g/cetJWYhe69fG1O88kLHD5QXZGvP9Bjxx8Tt628ypOXtnldMtlh33523wM0L2z5xVcvZlOL7p04NIJ4F3ceMwO++jHp2dtyPd9+uJ2xqsun7hhwcnTp1WvjwdqeqxnttnZdOIb/wh87ePW2w7HySNJK7DL6babTcdd3uuh9u3Zb1Yn8p7Vj6TzlUvyXa11Kw7Mr77OPpuT55zVZ5friRJP56APwMRV0xZt1bFjJ8wklUxkBcRDfgXSeWWI8da2NPb8yrL4oUNHGsNX4vbs29/M8uA1B/J85eoNRlm4wgdmYUAk8Vwlg/d65rezNYFeVRW1EcYzlly6yw1dyHemf/OtKQc3KnBIpni8ufbbt60IprCVC3CZk+/v339QPabjkPfQL8ZFK0Vs4SiwhYNbf5v58N4zsOD2KIzSxRk6r3pqoUY69t3Le5aUHjt2XPUZkPOwdMB3GUi6z/Fm79qxy2wbwghgn/Yu3dYnjp8wDj7i2MJJ2ou92LxzhYlPuAC3Hdx2t+vX7aOP1Zmz57UQzTpgky2JcjaIPdPgCmGbrgKyIO1VumJ1c14R7U+b28t+AW1PH0g4js/536YHN8w2lJOaduS7ODj42fwloJ/Z4gZk0NamfSd1Sqd3FRCDV5bYv/lW1hl2TV5tbQxJ8gWu0Vf+2edi5YUvfhK/UU57W4YPvGNrNbLSfk59ZDk5YZSszIS7csamZ1fZIydPnzgZtev7XT8yy+Hhe5aUD/g067tVn2+obtz8OeI/12i3w2y5uqQH98zkuTPhgnTyIalfbF71ydkHAa5eFD6TdpNt03a70S+cTcYzSQeS+E7i0OZsEZNt6mwxZKshce3+qFzzBXXt2o855HRSP/m+xwoN2W5K/pu27TQrnNxttBjEDDBserb1PsYuB826TiS3/cSusOvS95Nb2+h1udx8t23ZamyCU6ey3sOHrJq0t6H4wBbBtes2RWG27ArfJPWDK/84Z8e3bZA2O3k+e1sTM8hsjxQnvtCJKwck3yR5ns6usLdTxclbQF9wmLHvTLUHFTjt7bMGAdtu9mtbkzZkaw5bdGw6Z8uaxEWvMlCTsCAdv+CIYqugxMdGxlbmf+JI/8p7+On48eNqw8at5ixJeS6oUqu+OTvmxVvHO3AuDSuJOCeIMPpe9J/Na1999bXhL2gdmof+eO5up7S3DWZiv7t07uYPkuxCV265coD/hX9tuHqfw9I5s47z5DizR44zMO9q149WKMfJK2D3h1suO8w3ZOUO71iFzjviSF44zQd/nrUSpiDxY5xelPGD6EUfHeRmPGaH3eNW7G2DtClt6/ZnOn2R2/Gq1DMuDNgtc/36DU139U2Yo3BEv9i86ON74SPR/754djhOHrmwy+narbb+W7B4sfp6SpZ8RB4y4U06KZfwt0DyrfViE3Pea7Vb22uRd/YxJgKXPmw6avvmOynlCoiH/Aqk84qVStyKx+FzKIzJk78xDI6nnG0zfT/+1Oz7xUPM7Cf7jUeNGW9WaQGzz14bbq7wYVaWgVCzV9uamVFXyeC9/vHmTXN7lgz4OJSPGR9u7IBoEULuHlf5zlnNDN0+6Gm81Rh0DZtkKWcGexx4SZkpH+XHYPQZ6y5z8n2WLX72+VD13vsfmrqJkwjGE+EosIWDW39hPr7B4Ze/aYOh18efmMMIWR4p6dx87TAClqXNEydPN+2BsQoDDx42UhumF1UXXUYUIWeWEJ/BEHVH4Up+AhQzs4ayF5z99+zlt8/0sIUT8Znt6tPvM1MHuz7EdcMCtx3cdrfrR7+cOHpcjZ4w0dDfkcNH1ddff2OUxyefDjIGHucdHD9+0igO6u7SlXz3QQb74mfMXWDaqv/Az9Qvv/xiVsGgAK/ogTMrGXAawWeiRCRtHJ/zzqYHN8x5OAzKJ0z4yhwaffjoMXOmhM1fAvoZgxmnjPA6A67z5y6ob+cvMLRNXz9Xu0G0zWbh8hVGSa1bty7WecXKg4u67J27+M+xceODJH6jnBysOmPGbENfbEdyD4aENrlxClmJUc3ZJU8/Wzuqz0Rt9NMeew4eVsNGZBmjrpyx5Yar7JGTtJW0KwPQz4cOj1awcT4W7cUB2sg94T/XaHfDDDIYXL/SLNVRIkgnH5L6hTM9OGeCck2aMiPF+faggO2xo0ePMzqHwddNrUdeaNQ0ajcu+uj0PucObUrhkwWLlpjtavQ19AZNJ/Gd/U1uEDtx+qzh+6EjR0XbBjn/cPzESaY/OGycg/2hbTutTx8KfN9Dr546dcqUc+TwUWaLGjIAfkBmH9d8gwwfOmqMOW/Lpmdb7z9RrJzauXO3Wr9xo9Fd8A/p4uyKjp26mcsMqMvGTVuiA2PdfFmBwoqmWfq7MujjwN+ff/1V9dO6hPTQqHuGCIenY4eIrQC/Cd8k9YPIvzFjJ5i0zAb7nFdcjmCfNQI4VF0GYSKPbTmQqTxv9EqzWLuCVSM4RukvVnDFyVvKA62s1vTJ7U92OR9ksD2QmyHhZfqXQ/1pM46heLvDe+qTwUPMgc5C50zecO4fzn3sNvQqW6WG6UFjM61LOC8GPZGOX5j0YKUFuhh6vKT5gL7kHXGkf6WcDNChSZw7vpV08h7ZQlgOnB79xRhTLw7u5wIUaGuEpmWp716tZ3BSQeukh/ZJ37FzV3Xl2rWIX278eCPiw0zsd1ffufmDJLvQlVuuHHD1ngAeu6z7ju/06T/IrGDesTvrHCPqjjxiVTEyif9Xb9psnBJx8oo87f5wy2WH+QZbMbn1lzxWaF5z7RK2qzEm4v+CxI9xejHbaTvbHFfjo4PcjMfsMAeuX9HpRo//0vTVVt1/Yn/xne07dpqFAZJWkKQvcjteFbkuebthgPy/qtOzhZVyclkCbUAZ48Y/kpb/OQqCGzKROYz9XPlgh+PkkeQnsMvp2q22/kPfHtVjBWxBLk/I1HkFT8FbmzZvMXyBvDNbAbUsgQ7oF+SnSx91GzQxzkvaec6ceVnlsM6CDvBDfgXSeXXo0BH19dQZWoGdNF5n27jj2kpmCY8cPWq2KEBsMC5X6/MMg41l/DxH4XBFplylyfJJtplwACQDo/e79dIGdvaMDe9Xrlpr9kPLM9Cca2+1YqE8HNbnHtQqQg6H2/qNm0z5+mkDT95TlqEjvjDlA5SVMlMGPOt2/RA0XMlqX63bos0bxrAk30Ha8JfnDRs3N8JCwoADBDFMUX5u/cmTvEWYceWrqZN+hhNK0rn5umEEPVcdsyIOx6I8py05vBBIu6IYL12+op6uktMjjaNn8ZLlapRuD8IIzrlzF5qrx0UYU3bqQF0oG9epMphFOLv1ccMCtx3cdnfrhwFt10/ifdTzY7Vv/8EcdOnSleTzoINBG23o8gPX/R7Sxp9cLUvb0wd2Wh+fm7QWPfjCpCPNNq3QMTDiBsNg+5bt0QyygBtHuF0FGoNG2OfPc75DvpSpS7cPDZ3R/4B40u+Eucb4lRZtUvIVuPFBOn5jRmj9hk23yrTNlFHeCch39PhJpr05yLPK81ln0uDoYnCNXJw4bUbkXHXljC03AP/zjHdijOMgg/bZKiizhJSFtqZtMATpC+E/ZAAylv994R59+pjBlYRdZCoffP1i9yO8LIPiBwm0H21F39NGffoMMH3LO+iCNgMYZ/Ai7cY7+pY+FnrDeZWO7wToxpWaVvkm10/zfeLyHN0J/aDL0Gl2OuDThwLf95AJ6Hq+BY0TR96RBzeoUYcxX00xNoUYr67eB2yBY5UQ5YN/uKY+zq7gHXHIG+etXJnv5iv1cZ3NokfgVWSk/Q7Qb7N02SkLPEe+wjfp+sGWfzY/SN7gO90PzZyDeikjNEDfizx25UCm8jzOrqDtuFqcd2wBJq1P3rJllDPPGDDLNwKyVmKwnSWSd+/3MM+FzidNmWbsTOkv+pKtLPRZo1s6A3qhbbFXbfmfxC/0HbJDvst2IZEjtt4gLJi/YmXkDLWfC6bMmmPkBE5fwtjcwsfY2/JtnvNNyit6BxqD5oXfRQ5QduoAbdt8mM5+d+nczV8QZxe6csuVA67eE8BjDKoFtIn0B8CuXK3lC+XG3hQ5A3zyiud2f7jlcsPUZ8f2XWrfgUPqzfbvpjivuESKCzPKV6ld4PgxSS8iP3nOmZxxdJDpeMwNk462ps379v0kcsLQL6yy89l1IE5f5Ha8KnJd4rlhQY9eHxt5zlgWR5Xol7jxjw3oUuxB7EBXPrjhOHlkwy6na7eSXsrHs7XrN5h2+lTb/vAd6Vz+9uWL/luzdr0uf20THxlH/0IL0IrYzTZ9oKvgJ8qO3HL1fIAf8ivQZ149VeYZM7PhxuEWoCdL5jyAl2dFS1VKeSZMIkCZQuj8j6fY9hwDN74ABRlXHttDTzzJ3wXlc8vt+57vmV1uga/8wE7v5pXyTteFOslAUN65+fq+Qz3ZymkvIyYOs9VA4o8aNdYY+KzSkHg2fOVLKjNgu5Lkly5u3HM7nGn9AP3gowNf/zzooO1oQx/dQiO0sYTd9gdxfJ6uz0mDwcXZTMz+xtEEKzVkZtEGtAWNCV8IyJcy8b+dp5s/s5Mu3dhw47v197UHZbHp3gdpb2lXAQMEVy4CtxxxdRLnlcgLeS6graWf7HTp6oXj0Hcmig1fGd1ncf0i/ei2x4MG+t7HR7SZr90ELr35+sIOC2x6s+MI/cQNaEFcniDuHd+SQbAN6f/Hi5VVBw4eim5tculQIOVz6YW2c/mHOG77+PKNKzNt4NMvAtKJnnHzdfN0w5RXzgzzfR/bylv/W3Ht79npM5Xn0o6uXSH/S73kmfSTxDe3gV24YFaHS5yAbNjyDkj72XEE9IlLZ9AGNqtLG3H8InC/K3DzgbYZ3Ms2VB9YIcIK/qq1srYngTg+5puU137mfhMIP9r0K6AdXLqz4ebnyx/42hPY8d3v+8ojz+FFgfsewBNx5RY+E76LnltlSVcvsVu56l8OoCfOkqXLo5VlBZUf4/SiTYduewl89n4m/U4a0rLqSw56b9Ckhfp+156UeC7i9EVc+Xz0nkn55HmKPLe+QTmS+AjY9iBwy+iG4+SRwC1nUn42f9rpfHmnyxe54+p9YNMH/EnZfXIrwA/5FfgD2/MDbOeV7/2DDGYHg0c64K8As7IvNXvNzGZxrsacOQvNzVhuvKer1FKDhg43W9BYQu6+D0iFuw3iTlFYGzb0DzcBsvXIFycg4HaBQdq2/TuKG/GQBa3f7KAuX74c9FA+AXLct4Um4N7gbvILqx9ef6OD2XbjroB3MVjr4P79B3vfBdxbMFDv1OV9c0A+GPflV+rQ4SOG9ypUraNWrFyjZMVO4Mc7B5fkvNLsdXMo/7Pa9lmyeJlZ2YSzhS24rVq/7U0XEFDQIL/gvMoDCM6rgID7D26M2bJ5i1mOzYGwa1evUU9XSb1ZCOzevds4TtjuYs+8BPhxt51Xfft9ZvpnwqRp3oscAgLuBPA0WwZOnTtnZMGZ02fU++/7z6ALCHjQcbf4BYcIW3rMTWTvpU/PagXfyoaAew/6avX69eri5cvqypUf1N7v96nadRuZd/SLb4VdwO0D59WuHbvV5ctX1CXNY2s3bjTb/nxxAwIKMuRX4JxXwLeXNq8jP5Y5IKAggjOu4s65Ahhu7hLhgHjc7fYir6T+CQi4Gwh0FhCQOe4Gv2AHB1s4/yD011+L0N4BDzrkVyCdVwEBAQEBAQEBAQEBAQEBAQEB+RvyC84rDzhErdwzNb3vAjIDBws2bd76vm7r4VBA+vFurvrIDVg+zZk8vhswAu49atZtGN32Rx/QF7k5GNFOf79wN/iIq7GfKpP77RV8k2+7B4sGBPjAldFlKtXwvsst8oL+ELAtirPt3ION/2o8UeJp1eK1N+6bPgN5qV8C8g8490hu3LpfyAv6PD8hN/ZrXujf+wlu/OPmOXTF3dSDmSBTvUDZ5HB//nffc3ZZy1btVK36L6sS5auYPnXjBPz1+KvpKa9DfsF55cFzDZqoU2fOpFwtG5A7vNy0VXSVq+/9XwEMlUOHDqsWrXLeCPdXIJxldn/BOUuct8T/9AF9QZ+48eJgp79fuBt8NOKLUWr+vAXed0ngm3ybMvjeBwTYeLtTZ/X9gYPed7lFXtAfgpJPV1U7d+02V4D73v9V4Bp6rqO/n1sZ81K/BOQP4PRdvXatmjhthvf9X4W8oM/zEzK1X/NK/95P2Gct3009mAky1Qs41ygjWLZmnerarWfk8GKsy/ll6zZtUl+Mnagmz5hp+vR+T9gE3F27qiBAfsF55QEzDaNGPdhKbuCQYapLt9s/pDYvGLnMBI0d92V068lfjbvtvGIl2exZc1W9+q943wekIj86rzAWVixdER1Eezf4iNtounbv6X2XhDt1XpV/5jk1/ds53ncBBQ9MFvT75DPvu9wiLzlJWIk9eOgI1VDzke/9vYLLPwXZeXWn9kZA3kbPXv1Uq/YdvO/+KuRWn48aNU5Vrf2i911BhGtf5sZ+zQv9ez9hO6/uph7MBJnqhdZt3lKXr19XPfr2V5O+nqZ+vHFTvd/1I/MO2Xv+wgVVtnLWCh/6kj610wf8NeA2ydHjx0fhv5qe8jrkV+CcV89Uq2vANbvde/ZWFW9tG2P1TeeuH6ZsgcEoff2N9iZetdr1o+dPFCuvGr3cMgoDrv1145H+hYbNzN92HTvHXg38Wuu3jHCwD9qjfDhVMIilnHYa4pLGvgo+7nvUibpRRwRYnReamDpjaNr15caKStVyGp18mzK0af+2GTyDXXv2qnHjJqY4SlhGSjzajDLYeeC5p7xvdehsyu4audRXrj7GqfT+Bz1Uxy7dTFvb+QDpL771QqPs65LluS9dUntJuz9ft7FJRxziuk4taQehIWC/B6SRviOuLK3lGUre/r4o/559+3nLTV/QJxKmre3+Ii/ylEFT6UrV1Nlz51T3j3p5+7EggfYVOiZMX9hh2lv6J44uMnVekYa00KS99F3Sw/Od3u+WYyWm8J39XZvOAbQnPCvvoRuX3wXwIEZEq7ZvmzYQPqqpywDNIkvcNA0av2Lexa0Utfme8tCOyAnhVzc+z3jnOq9c+kRG2u1NOtpZ+qXRS83VwQMHIjlEXHhQ2o3nkjegHymby5eAPMnbLq/kK2FXvvnkLvkA+kH0AfKOdvf1C23Kc2iAuHb+SfKooMDXXtCyT2/yztYXrl6R56JHXGeQ8CFt2rR5m1gnifATfQvsd5QT+kE3oiOJF9dP0Auw5T7PXbpx6TJJbtvtRZ7kLd+X9pN0Ul9X7ghc/pFBShkdV9qJvInr8rVs9eG5tJPLB5RRwvwv9QeSDh0kfMtzypKJPLL1lsCWF+Qv/RhnbwTcfdj9Ks9ocx89S7/zP7Rr05sAPnPpl/jwiPA5fOPSF6ActjwXPoOG+ZaPL1w7U9L5+BuIfU1ZkpxXxINmpV3Ie++eParbB70jPhH7EZq36Z7/bb0n6dPpWXkOD8AL7nuB6HdpR1sO0dY16jY07yW+Wx7KbI9nSGPrXdGbrn3p2q+u/LJh968rV105UFAg9aPutvOKNrLlWJy+cund175if9jjICB8TF/nxnl17uzZKDxC88Khw4fN/4MGD0+xO+lLoXvqAr0I0vFdHF0Cm06k/hIWPpD8sS2ouzveTDd+BC4/A+IKD5PWN4614drVLt+4/SzleuOtjinloo/IR+oFhI/FryDjSPBu125q/fqNkb50vyPtTjpoUJ7ntn75FfIrcM4rhMj+/QfUrt171NFjJ9TFCxfViFGj1MFDR9TFi5fVxs2bo7iffTZEHT9xQsc/qH7++WfV9NUsQneFQd8Bg9SlK1fUnr371JWrV9WAzwar/9RCSgZ3Q4YNU6dPn1HDR46J8gacC/HN9Fnq9Jkz6sDBQ2rP/v2qZIWqRsAh6JZqZbpfP5NyCiFWrPq8OnDgkElz7vx5NeGrqWbfq+97EPaOXXt0+LQu3361cPHiaJC+c/sONXDQoKg8S5YuVRMmTorCoPnrrdWPP/6o9u07oI4dP64+6tlPjRw9Vv3zn/9U165eU+vXbTDxXmjUVF3R8SjXiVOn1PLvvosY44WXmqkLWvBRj5MnTxmmgcll8PFsjbrq7JmzejDRVT1brY46pxUk+Rw+clTXLbU8YMQXX+g4F0x7o0xhdBh22rSZ6oTur4MHD6st23ZGDJ+uvUTgHD1yRC1fudKUk3gH9MCgWLks44i+/+WXX0w+3+/Zp47oOkJLUiYBApG23rp1q4lb7fkXVes3O5jrnfdpOuLa4PETp5i2EeW/dt0m0zeko6/oM/JyjSkUCwqGtORxQedpyqLbqXqdhmrRgiXqf/7nf4ySGfflV1G6gggGvJc1z1WoWls9ottjr26/s2fPqXKVa6pHdd9Cr6yOTKKLTJ1XO3fuNDLg2PETavuO7yPFQ/p169cbBQ/NQEtVa2UN1hkcnjh6XB3R4N227buN8hoxYrSh60IlnjbxPurVV53R5S5VsZpqqfv21Cn4NEuOtGiTup21UvW66oTOC947fRp+6Wxo97dff1Pfa1rbr/Hzr7+qMRMmm1lSzqQYPHS4oRNoj7xrN0g1cgBtQF34n/yuXb+utuzanSM/eAbeuXnzpnm3Zct29dPPv0T8I/TJ/8hGZCSykvZatWqNkXN7db/s2v29at68tWnvf/zjH+YvRgRxDx86pObOW6DOnDmnho38Qv1086fIMKuojZ4fdBsjPwgLatZ7SR07dtzwwrVr19RYXd6/Fypp5FvPvv2jeCLf4uQuceBpePfgIU0rW7erMpVrqJmzF5g+O6R1BHJM5DB9TZ/Tv9DA8uXfRe2YRHcFCb72itObtnHs0ys8R4+c0jqC56dOZV+pjwNj7bp1RkfD60t0O4v+4L0Aurtx44bus/mG5qH9VatWaxosF+nV2fPmG15evXq9KqYNxLh+gi9Wr1kT8Te0N2f+Yp32pMl3x45d6nFdLpHjyBDSxclt/s/U/kBWbN2+y8gP2nHzpi1RfqBq9Xpe/oHnVq5eY9rvuubjvv2zZmTh0fP6Wxs2bDS8RXz07smTJ005wI69e6O6U04ZbEm7ib4rUf5Z3VYHDf+QbqnW9fS3fCdJHo0cM87ID2QcvNSx4/smnS0vJB/pX5+9EXD3EWcnDf9itFq3YYORaY2bvqp+vP6jqvLcC6avTmjenbtwoenPH7TOGjZiRJRf774DDG1Ci9h31WrWM8/hhbVab27YtM3osQYvNk2hr6KaJ9esWRfR5erVa1Wh4k9HfDZf27D7dBlPa77asXtv5Pj22ZlJcviV197QNHbVyC62/e7+fn8K3wo6d+lu8kW/oKvf795DLViwWP373/82PLVg4RLzHXTXzJmz1cVLl439hZ5ZMH9RpH+xWV/Weo88k/QssgqZRTrKtmzZKsNT8IhdLs4l6j9wkPrjjz9MG+/YsVNd1X1gy6HRY8dq+XPO8E1ceTiPiT4VPTt6zJfq//7v/9Szt/pr3IRJauo303PYl9IfO3fu9vaHwJUfIlf3Hj5q6ndVf7ue7js7TX4HtA7NIL+R9RxPIvLU1oNJ+kra95tvvlW7dn2fY3wAvR8/cdKkY1zx2ZChhn7gFXhG6Gf1mvVGT7j048IuF3j7nS4mXLvBK+rK5SspdqetH6Atyon++t///V/jcEpnd9t0Kd8DM+YtVCv0M+rBGVvUa9HiZWY8DZ1e1zYDuq/xKy11/S4auXP58uVI7mQyfmzfoZO2F0+YtL/99pvqNzBLR4o8W7ZyVaQ/Px86NEf6OLu6QpXa6sL5i6rdW1mO6GV6LDlx8hTz/3O1G6jzWqYePnrM2BN8K934f+78hWqrbjdoCFqqXLWWkWm0AfIgGl9a/Ua7L1iwyPA2dbik7WFsLd5lWr/8DvkVSOfVBa1wqj9f3xDbuXPn1coNm4xAaKwVCoMl8SjLQcaPaaZfpgcmS5etMM8hAnFe4RX+QTPYq63aqYc1UX/U62Ot4M4aI16cI+wfLl2xhhnE2WWp3fAVdfLUKXNmxuPFyhpi79Pvs4h4Yb6ylatH5ez58UCTbsy48WqeHuCRhoNiUVgM4HzfGzx4uBF6Fas+Z+q4TRvcCBoEIwM7BnhSnktaGDRq+noUhhE2bd6qhcdS4xAoWqaiMWbKPfOcEWIoTrYv8Z0d2tD+5puZxpivXudFzdiXjJAjn5XfrTbviui4xbRRjvPFNk6X6vxxSBGX5aowZeHi5c0AXwb5ArzTP//0k2bIN017MxvEczzN0q/02zatyMffcsSlay/KQryzWojMX7jYlPOZqrXV77//rmrXfzlH/erpARaGhyhjGxgOf2oh3/7drqauDKJPa2Ha/t1uWliVUXU17eAEq1m3UaSc1ug2pm8wFjCG+n78qckrbhD0tC7bJS2wW7/ZUT2k8y9VoZoRqLVfaKzrds3Mjjzu0FpBAwbSOd0G9A99Cn/s1UYCh0mytBkDixmNJLqw2zfJecWh/siAZ2rUU5e0YcrMCc9Jf0QPOuFfaIaBJ7TGuzla8Ui/ltDvMajZooqBiKGIIiYeMkWU8/6jR1Xrdh0MXff7dJDap/lADBUALbE8GN6rUvOFiI/+pQ1K6Is2GTR8pH5/xhyoWVmXlwEfbQTtjR41Xn3z7bdRfgLagLrwP/n9+eef6o23u+TIr7pWlMjHlq3bmnfvdPnAGPDCP0Kf/I9slMEofYKRUOnZmlp+lDaOOui2Y6euJg1tDv0Sl4HtlKkzDE3DP8hAHH7kWf/lV9V5zUviFBcgkziwkjxZ5g4tQBM45m3jSORbnNwlDjxNm7Vo3V4VLV3Z9AvxkENP6TCGhJSHvl61erXpe+Kc0+0k7ZhEdwUJvvaK05tiZMXpFWhq27btavS4SeZ50xZtjW5F5uOsRuYie5HB87WRK/rDLg90x8Br6PDhhubLPVtLXdeDA/pc9CpGZKOmLU2/tWz9Zmw/wReXL12K+PuHK1fU8lWrTD1f0oP4X/WAEz0icjxT51Um9gcztGfOnldPP1vbtCP8J/kB2tDHP/Dcp4OHmPbr/kEvY6wSHx6FV0eOGhXpC5t+AQOj3n2zdA/llMGJtJvou/e79lQH9h2M2oWBKOWQ78TJI5y9N368YeQHMq7t2+/qPrxq+teWF5KP9K9rb/A+4O4jzk5Ctp45c1Z1eq+r5tstasqU6UYX0Vdm8Kd1Ff35Wtu31I96sMRKBHDxwiX1YpPXDC3OnTNfrVm73tAtvMBgetCQYYaGHilcMoW+OnV5X23ZujOiy5NadzZv0Sbis6XLvjP8UvvFlw1vN2/ZxqTz2ZlJchjbl0H0E8XLGTmB3rP5VsDkIHrF2Fpad6HDymp6hl6btnwj0tGntU7Zt2e/Kl+llrG/6jZqpi7q9iBvZFH/gZ+rvXrATNwkPWuno2xfTphsBmPwiF0u2u7EyZMRv9P+//XHf6XIIbaBYQfAN3HlQf4ygSDjiw3r1quftI39Ua8BJvz9zt1G1rj2pfSH2Dlufwhc+SFyVeq3XttNo8eMS0mT37FQ23TSLqw0OnvmXCRPRQ8SL0lfSfuu3LDR0K7kI+MD6J2FE6Rr0VLrMW3fYKu+0PhV0+/p6MeFXS4wY+ZstXzFCqMrkL3IYLE7bf0AbVHWKdO+MTYwPJ7O7rbpUr4HWNUnfIC9d+TgIeMcIv8GTVqoC1p3kz+grlly521j25E+3fgR4DQqXvZZk5bzu3BAMcYTedajT/8c+tNGnF2NM3nwsJFqt9aj7Tt0Vhc0jePkF7sGx3HhkhW0fKpg2jDd+P/YsWNa9lYzNMS4fcqsOSbdGF3mFTqujC/tfqPd0ZvYSdRh3JdTFAsjyCPT+uV3yK9AOq+Y/UcBiXCYOOlr8851ZsC0FarWMZ2+4rtVEbMSFucVy/0YKMteYJ6JESb5QcjyfRt9+w9QW3bsNnEBihfGdoW9G96jB+mDhoyI0qEIIGD3ezDT+o2b1XJddvkmdaXO1B3DBAMFwm7VtoNxOJV79rkoLvhi9Hht7F9ULzdrHQ0apd1EST6tlTXOFPmuXV6EzA9aGCN4JE9AG6MIp02fHq084fnbnbqrK1rBslqJctlpBLt27VZz5iw0M4UMlng2evQEMwvxov4ObWL3V7r2kv5GALx9ayZYwsRz64dxhDNC+sMGbWLTA8s5f9QGe5VbK3IA+b7RrkPUjizJ5TltxaBu4aIlpu/iBkHMymN0zJ2zwAhHee/Wp6AD47Pbh33U8w2aqF07d6lZc+dlGVlaqeAgYlCURBd2+yY5r4xD9vkXjaGKc9E2DpmRlHgDPxumNm/ZbhQyMzvSrwBaYeYWA/iwVsZNX3/DDCJZBcES3lp1G6gbN3/WA7rOppxsR6Av6VPJA7jlNHx0LcsQkLCkw1Fz5ty5iO779fs0UnI2aAPqIunj8mOW9oL+X9LVqNPQOJKF3oQ++d+Wg2X14POkHvwwW2vfikJcuzzEJQ0za/IMg2fz1u1GFk/QihiDSt4J4BUMgFrauLbb7fmGTdV5Ld8wHnBkinyLk7vkRT+xworZS8kfxwrOxhe08X/06LGI748dPqJ69Mg+pBv6k3yS6E7iFwT42itOb9r97dMrImf79hto0rZu39EY8tDX5ElTzewkRh5xkcU+/rDpTp4x+EROiF6y9WFSP8EXK1atjeJS9gGffG7+t7/j6kNbrkg64QvaKxP7g20NOO66de8VzVi7iOOfErdkg4QpK3nCq/CsxId+u36QvW2DMi9d/p35n3JKO0i7Cd3PnjcvRe7RJlIOvpOp/JD6Nnu1bY5+s9O57RtwbxBnJ/GOSVAcj9CkbJNx6U0m1djqhl18+fIVM6lLvJHjxkd6izxZkSnf9dHX/PkLo3Lg3IA2hQ769M/aLWDTRZydGcffOMx+0mWopwf6Ehcnjc23gqnfzFKbt20zzldkG898cgYesPXBwIFD1MYN2Ts5iEuaInpgncQnpKMsko6b4nA88015BtB3v+vBqOhLnGas+oq1TxLKwwQDdidy/LTW1atWrzFh5C1jhOf0t2z5RPqk/pBvALd/XblKWPRmQYDP/kPniDy15baPjkRfue1rjw/Ih1U1nd7/0KRtrOlb8nH7GZ7417/+lYN+XFCum5qe6AvoD1qqd6tc9ClloUyEbf1AGB2FY1S24aWzu226tMFikGuaLzhLbsiQkWalPKuOsL8IY2NJ3FIVqpuJUdoARzD1y2T8yKouHF+Uy5ZLhGlDn/600yfZ1Yw5jh8/ri5oOTlpxkzzzB0/CjId/wOccqzOxmns8otNT66dBK+yIrZS9Sx7LJP65XfIr0A6r4SJXGHrCme8lt9DRLNnq0MnTkTp7E53mZpnKBoUjpufC4jwys2bZrkxOHb0qJo6fXoO4nXDECqQdMz4cOiy+z0fE9jlLVbmGXXixCmzlxrm+G7dRuPJlbgAAcCSTIwWViUhpNK1m3wXQVtUDxxpK9rMzpe4LEFm6SjOHlaq8RwBjcHO97Zs3aGfpzrTAEbEWq1cL+rBKFs0eUYd+Y60CR5lcQJl2l7EEWPNDmfSrgKXHkhDWvKQOOSLo8NtR0Ce5M03EFC2MWWXj0P6Nmijjq1zffoMMO3mlrOgQ5RZ9w/6qDnzFhjHFWH2hHMTCnGS6MJuX7ffBBjqW7duVxvWblBz5883Rrf0l9s/OCTpo7h+ZbsRqza+mT5TfTV5sjEIz1y8aGZ96LM/tYFxVJdPyrp7926j+CQPkI6+7DC0wpYCyQ/5whJyOz9gK8N0+VE/SefSm02fyEHhe9q6boMmZrXG+XMXzPZg4rj5+ZRpo8YtjBGFYb7vwEHVrFXqlkHQ6o32av+BA2rp4mVqhR58S3nZQsrsH6t2cBCIfIuTu+Rl8x9hjJHlK1aqXdt2GD3Akm3he7u+wG7HJLqT+AUBbnuBOL1p97dPrwg9SZsdOXxYnTl92kwAuN9x6VRg0508wyFD35CWPKT/QFI/2f0J4ujb5XdXLtjp7Hq46Vx+wgBn1e4BTfdsO5D8BOn4xw772stHvwyc+N8up9tubv3scrjfscNueaW+rDJz+81O55OnAXcf9A0QXhA7iXes+uC3cNHiKL5Lb6yWYKsv/QR4J3kdPXbMrIJlYO/SgY++7HKwJbV3rwE56MAOu/QjiOPvJz3xXboWsLWYiUKcd8g2nvm+R5ldfrLlh7QX5/Yk8UlcOmnnuOfp5FBSeTi+gAnZrt17mL7q1LmrCb/X7QMzwcZEm/ArZSV9Un/IN4Dbv2453HB+h68dbHlq07+PjkRfJeXzVLFyZoveqZMnI9pmayJOn7h+dunHBeW6qvt3yJBRZssgOw1kcQBloCyUibBdH8KsRmf7KKus5D3fdPnOtbt9OHH0mBk/b960WTVu0UatWrPGhJEf2PjEwYY8ouMtWLTYHPXyz1vOuUzGj2yv3Ktti3kLFqtN+htSL7ed4tqNdkqyq6dOm25kZXTchcM3Atogk/E/4BB9KafbvzY9uf3CN1lthZMv0/rld8jvgXVe4UG+fu16tO/bTmd3ulnef0u4E49ZDAib1SBxRCvAgQFjus9d4nXDGJgIFzsNcL8HI2/Rg6658xdGcQZ89nmKEJo2e75mvLVme86AAdnnX7lgK8NZzSCDhgzJ0W4y48bqBsKsLmGVCYN0Bn+/6AG/GEECyvirZqpXtHBigCO3WghwGmzevMUsW7Wf2+j2QR/TDxych/ONs1A4/8iNl2l7ucaHhCtoww0n0auvv2mes+SSPcPSHzZcIY9hwIBXtokBtie2bNUuake5KQLBzpZPnH70nSvk3fIRh5kG6LROBvRW0IBCO6r7ljNscFghoAmjPOAt4iTRhd2+br8B+mPmt7PVrl17jIPJNs4lPUt4JT4zKexnx0GFowpek3fQyvYdu0yfyXLoD3t+rNasXmfeQyfMOLHPX9L44JaTvqbP6Xs3TPuwzNpO74OtDBPz0/R/8dbybEBZKbPQm02fyEF4E1kp8VkBNWrMuKyZoBp1UpQuiFOmB49r+aCNalseC2jP0ydOqq7depkwqzjs8psZ5fmLdL8cieRbnNwFtpwn3Ovj/tHKUJFrwvcYZLZc4WwQacckuitIcNsrSW+6/Q1svSJ6ROSsjSlTp6e0J3HsfhZAO8zC1muUfYYKK0pYHeTqUZDUT66RaNM33xH6dvWhLVfcdHZ7uOmoC3USfgLoz0lTZqiD+w8ZWpfnIB3/2GGXrwF6UQYD4ItR49WCxVnOCbucLt0Tx5Z75CHlSJQfWh6xmkfqwWwwsoCDZ+325J3Nx247BdwbxNlJDGA/H/6FWc18UfeXrAQU+iqp9R1hWWHAZCh28enTZ82KWDsv4NKty5fzFixMoS+BSwd2OM7OjONv4mN/2nICnWDzrYsWrdqY84nQCS69ApvPAXqGs70kTFwGknw7iU8Gfz4iRT9RJ9+ZRaww52gLaX9ZyR0nh5LKwzlF2LiLFy0x5w5xWDTbq+dq3Sn2KGWjjJSV9En9Id8Abv+6ctUN53c8VeYZs+rIvgGOMZjIU5v+6dM4fSXt6RsfkI6VtHY6gUs/xJGVSXY8Fy5f2qBPKQtlImzrB1bTZ01KZq8sytTu9oEJaCamj506bcZNI78YY2yrE9oOxMZnyx9lEXtO5JBdv7jxI5NmP968qRo1ybqgwHYKufn48gVJdjW7Yo5wjtvVa+rrr78xq7zc8bEg3fjfHrezkg1nMrt+XH6x+412Z2zKGJUwetScDazHsJnWL79Dfg+s84plz7KHmEHXjp27onR2p5fXgxpZVkseHKjGwa4cLuwKexcvvtwiOiPAfi7EK8LeDbN9ZvnSrOX9NnzfGzv+K7PcEKZFAa1ctSZFCLFdkLM7gDswBCg2+f+rr742TCPtJstiOZNj+/ad0fYHBnoM+JjNIYwwHjt+QpQPsJV1m3c6m6WetIP9vQ5dunuFqcQpXbG6OaSb/qMeV39geWT2jS6CTNvLNT4kLGcCyFk3sjxb+sOGK+TZEsPguu1b75qwWRarBdtz1lkpK1asNH2DocfhfYOHjTJx7e0ZtA0GDOUhrgwAgJRT6uMuTy2oQLFxUQIro2rWfckoCVbxsWJJzm5Logtbibr9BjAW2HY7d0mWooA/GJiLvCC9fWYcZxDgOMPYn6VpY+u2Hab/cXzhAJvw5WQTD9lwSQ/icFzhwOIZ8U5p5cx5H5KfD3zb3pZq85Ebpn0YHMbdciqwlWFSfrQxZ1LJmYBNm7cyh3gK/9jbkJCDyEhkpU2vGNjyHJrl7AOegzhlCv9yeQIOqCes7WmAfO3tHxg0dvmRQczC2Q6VOLkLbP1AmGXYHHrK2REi14TvWYVgb2Nkqb20YxLdFSS47ZWkN+lvkec+vSJ6RJbb2+AsDHtbO7LY7mcBtMMZIn1vnWFGH8ug1tWjIKmfXCPR1g98R+hY5LjIhTi5TdhuLzcddaFO8JPdPnF8kY5/7LDL1wC+WrBoeRRGHskFLvb2A5fuiWPLPQYb0q9J8gN5xEQOh+3yjgEE23qRj0l8LO1kb8MJuPuItZOqPm9WuXd6t7tavWlzxJ9CX2x7J8wZLr/rMKu0sIuv6b6u9WKTlLyALQeAy5edOnU1E5ryXuDyixv22ZlJ/L1nz/5ITsBvrKzyDaqFFznfhvNxKCc8xdmm9rZDWz4A9MzNGzeMI4gwEyycicX/SXzCkQL8L9/FkcHP5X8uq2FgKu0v2/ilPZBddn2SygP/ndRtziUayFqebVy/0TjrxB6lbJRL7Mt0/SFw+9eVq244vwOHBYeOi13P2IsxmE8P0qdx+kraM258sGbdOvWF56wwl37Im28I/eBE4fBvOw1w+dIGfUpZKBNhW4/16jPQrKqX7f8gU7vbByZDsPcYczH2YvXVnn1c8KHtiso1Iyd5h85ZtvK773WNttXaetM3fmQV940bN1XVWlkrmVm8IfVK0p92Hkl29cRpM8wKtNdbtzV+AHbIcMYVqxk5s8qOm278L+N2saPsFeH2tlC732j3y9re5dgGwuhRacd09cN24wZI/s/PkN8D67yCoHCoLGAmYsYstWXLliid2+mjJ0w0SgDvMPtdv7h1MJ2dn3zfBoS5Vgs5FDUzTQsWLlQvNmwaEa8IezdcWQuEE8dPmsHyBP3N2XMXmsGC73s4S3jGwawzqfv+AylCCOBMsY1RAQJz3qKlxsDFGGcLR+cuH5rnHMTLjPn0b2eacKv2HRQ3HEyaNM3cTLN1164on2avvakuaYYiDwzdTu93S1HWzOQd0e2Gp3rs2AnGiGZAQ5sOHZklqAUIp/2HjxpDa9ny5WZ2SK5SXarLun/vgawZ5EXLIuGWaXu5xocd7tqtpxkEU7/5S5eqn3/9LeoPG66QB9ykRdt9PWWa2q+F2HcrVxuBJPS3du160zf0EeURYfZ2p87mcPeZs2ebW6KO6jwoD06aDZpuaE/65syp06aO0BNLZXfv/l6NdG62LIiQFU5yQDdtipLjEOCKt2gCxNGFrUR9/QY++KiPuQ0Heps1Z44x5kRekJ7ZHW7hga6v6nfV671k3uHggTY5AJeDGM+evxD1qygjDmfmLC351oc9PjZnwtCv4GvNA/CWvAfkS/3YH9+1e88UPuK9HSbtlKnfqFOnThnZxIw2qxXt/IBtPCblxyBz7doNJj/4EyXNKlPhn2GaV7k9bfLXU9XO3bvVoWPHjazEqN6ycYtJA29z+w48X+35BubGE2QIK2nijAUOIMUBIM5jF/PnLza3HI0Z+6WaN39BSvlpc9La8i1O7vLO1g+EMVAwMDikeNa8eSaN8P0LerBGn9P387VM4Z1thMfRXUGC215JelOMrDi9Qnr0CGdczJk9z9AsZ9/wHLm/U/M2BvuECZO1PNyc0s8CaIfzPaBR6IqzAYXeXD0qiOsnd1Bl6wO+A61Cs64dESe3eWe3l5uOulAn+ImVK9u2bDX0yQ2nyxbnHNyl4x877PI1QGegO6BfdOPRI8fMIfK8g+5x+NL+3FB8+Hg23RNH9Ok0/e09Bw9HxnOS/BB5dPKWLmSGesiIrItawPx5i8wKs3G6f1et36TOaTqQdK69IWkC7h7i7CS297JtnjjQxWU9cKtR58WIvjZv3momSRnAzpmVfSbN6PFfquNHj5m8oDFxPoockHguX3JT767v92j632Z4ctHiJebMUJdf3LDPzuR5HH8jc5iMQS9hg5GXb1C9bvVaswIbYOPKoJVbVrkB9dNBQ81ZNLZ8AOgZJr+wx6DbM3rA/VbHrEnMJD5BViGzkF3U5ZjWKzjKXL0IH4z9arKRt8hKdOuvv/+eYp/Y9UkqD8A+wAkg9jR6nN8rzbP0u2tfpusPgdu/rlx1wwUB0IjYachPtr66epB4SfpK2vPI0aPe8cGLLzUzNia0Dp18++0cYxML/dBPk6dMNc4Le+UVTlq+JWUVuHxpgz6lLJSJsOgxzo7johouLqIPAc5r4mRid/sgF/zIRS84i1j1KZPB2M9r12fZb/Dups2bzSpK6scN40njR3BQtwd8O27cJLVi+cqoXkn6004vesy1qyvXrGsOaZcLnZYuWWbsRv5nhwyyAxlCfCaC4+xQ4ZfLmj+5VRkdDC2J3HmlWStjX6BDq9VukKPfsBU4OJ+x6qWLl8zYledJ9aNOrIqWRRb5GfIrcM4rGKFh4+bGg8nhi2xzQFnyjlsImjZvbYiKcN2GTcwSzNfeeNssu5N0LhE8+lQ51erNDibuS01fM8zly88HlhlyRT77jNu072SUIN/gW5SVOL4wBiSH+nE4H+WBqeO+xxlR/QcMVu90fk99PPCzFCEEtm/ZHs24usBzzHcQNnU0Y3F4Mc8RkGyT4p0Yk8/rcrAUktUjXKctedDONbVAoqx41UlLGSkrZSZOlecbqpeatDDGEnH4Hm1K20o+AjzWfIcZBXubFYdNtm7X0bQlbUrb8jzT9mK2Qw6zc8PU8WUtNMgb4cqSWFHGNqAlaEoO9gS0GW1HWs7skXJF9Fehuukbtz6kg/aoK22LoKI8lJ06UBf6AKOTOpKGPd4856BUyaegghVOjXQfNW7SMjqrrUbdRqpJ09dTZoHi6KJm3YaGvvnf12+AfFq0fce0aVXd/nxP5AXpS1eoZm5F699vkHFcMesmaelL+rRb995GfshzAC+jhISfgN2v0KqUzUX9xi1MXcjD5SM3jCxq8mprI5vYWvmURd8CvkNd+D9dfvAuW0ugO2Z3aDPhn8c0r3a06LhGnUbqiRJPR3wGT1MvOYeAtsIAo2zQNnFZki3yRFCt9ovq5o2b0RkCLqgTt7Qwk0zf2uUF8DH5p6TxyF2e2/pB4tp8j8NA5DDlp895RxyMNNsIj6O7ggRfe8XpTWQXfUGcOL0CoEVWGwChS8A10vQzt91xnb7bzwCdjG7m5i3yt+mNMth6VBDXTzZfAFcfQKvQbA47IkZu885urxzpbvEJ/GTTJ/r0yRIVTBwb6fjHDrt8DCgDukP0ODrS7kfqS970D+WWdpN0yClkI/JAjOd08gN5hA6kXtx+ZpeHOsPDyEtWVbOSR9777I2Auwv61WcncSTB089knx3TUNNscd1XvIfXnq1a28h8l07pO/oeHsemEzq35QDguy5fElfsQKEfl198YdfO5Hkcf8On2A7QeD3NR/C7T+eKPBJ+ludl9Xexq7l6n2/b8kFAGVq92dGU6TndjmKXpOMTZBb0Dm+ZWwSt8YYN+Enskxcbv6oH1NnHGlButz5x5QFVtM7mUgUJ0+cMjO04tn2Zrj8Ebv+6ctUNFxRAU9AWNBanB5P0lTivGLP5xgfIf+wR6ARU07avnFFl0w8rlaAtkZuvv/ZmtHrehsuXNuhT+pY+Jix6TJxxNqBl4mRid/vAmK+ptlklDnyKrezKB9EHdv14nm78+GyNutF4mLGX1CtJf7p5+OxqtvQ1eKVlFL9c5RrqFR3mf57J+Jj4hUpmyUlbz4sdKs6r+QsWptgR8m3agwkynjP+cPsNGYws5j1bRuPqY4fZNizHeUg++RXyK3DOq7sBUdo+ZZLXYCseBNvEiVPUtl3fR89RZnI1q8QLyAlxSAKugWcmRa4WDggIuHdo16GLOnrqlPfd/QRGBsaohJcsXVrgrvzOb5DBADra9z7gzsGgCUiY88qWrVidEieg4CM/2cH5CS5/4Zxi67odB6B70EES5jgCtio1b9kmJV5A3kWSvhLnlbuSLaBgQ5xXvsUR9wqsUl2/cVPKODe/Qn7BeeWApXscoMo5RuLBzMvgED329XIw3cgxX6qffvpZde+RtXWIPa7rN25MuSUiICfo59lz5pklqSiSBfMXmeW6MrMXEBBw9wF/de/ZW505ezbHhQ55AawA+vLLr41M4DyDSxcvm9lWX9yAvwbBeXXvwQrp2bPmGrpHJ7K9oXW7Dt64AQUXwXl1b8BqGuxN+IutlufPX1R9+2cf/i1gpQdbxYhD3HVbt5stxgVhAPqgIDivAlzcD+cVtras+MvvkF9wXjngBjFu8GvR5g3v+7wG9kezzxZm4JYKzsmRdxwAx+0Vsoc6IB6cxUJb0Y4LFy9T1azluwEBAXcfLBNHZnGGYF40yJEByAJkArIBGeGLF/DXgbOxoBl7i0HA3QVbM3DWQvecocOZGvlhIi/g7kLks31IcsCdg61EY8d9afgLfDJwkFf/wXPwnjnHSseDJ90tewF5G0n6iu13CxYuCXbFAwb4mpv67dvKAzKH/ILzyoP8ZqjJ8mK33Dy3t70EJMNdph0QEHBvkR9kLTIhyNG8g/ymn/MrAt0HBF67d4C/MrE3g12av5HEQ4G/HkyEfr99yC84r+4BHmTCzE3d82s7YUzkN6Oetn5Q6PJu1fNe9XN+pJ/coKDXLw4Par3zGm6H/x8U2Xg3AI3f6WA6N+0d+iYgNyiocvhu80FSfoHn0qMgt1F+rtvd4H+7/vdbntwOnxZk2pRfcF7dZbAElKWgciNDpmB5KfujBfeD+OK+yzPeuc9dEC9pOST7bt98q5P5n9swVqxcHS2Dzk9L09/v1ksNHem/1h/QDtzuAHztyRJxbo75q7ZzPle7gdqwfpNauWqterZaHXMLR344N6Fy1VqqQePcnW1zN7cV0cf0te/dneBe5ZtXwC01bFn2vSvIoM7U3fcuP0Pk1VNlKnvf884nT7hSu1bd1FsgAZeJvNCw2T2Rf+gedJBP7sYhbN/IHMhXOaaA68G5Njy3/ZiuvZH5yH7+t/uT7VZyHXvA7YH+a/RyS/XErdtXbQifu8/BM9Xqxtoz9eq/osqUz/x8UJ+deTftv3T2WX7E7Y4r4pBkJ9E392NbE/SHbXo3aeFe4Xb0TDrklfozJmNs5rux8G4g03oi6+UGw9zgduxryiLjIrf+99NeT6KzuG3d97r/7jfkF5xXdwgMcVsBcPgeh/BxGJ8dLwnMYmIM/v5f/6Wu/PCDwe7du71x7xUoN78hQ0bmeMctW/xebtoqxzsbUo+4g+i43vPIyaxbxciLelas/rx6vkET9ccffxijyk2TF8E1rfaV+TZq122kDuw7qK5du27A/zzj3d8LlVSDhgxTJ8+eU+fOnVc/XPlBdX3vwxx53G18v2efmjVrnnr/gx6qS7cP1IXzF9Szt870QtDl1YPpx074Uq36Lne3XGEY3+6BzihKrpeVMH1MX9tx7gbudr5VtPyBtnzvksDtpFVr53QuxKFc5Zreq4ldcJ2yXK1/P5BpOe82qDN1973Lj+BGrL79BqpzWk5funw5h7x64aVm5lbWy1euqP17DxjHOM9LV6yuVmvj6Yer1wx27d9vrp3nXZs3O6qjh46Y/K5e/1GNGjfOa5jBi7dzwCi6Bx2Um5VB9/Pg3Lwsf30YO/4rdebsedW73yeq/TvvqiNHj6oBAwaZd48ULWuuNXfTuEjX3sh8ZD//2/3JjclXtU4VZ9n94vP8io4d3lOXLl4yvHfzp5/U4KHDo6vxmeA6cfS4eXfy5ElVtVZ98xzaXLdhg7p06ZK5an3Hrj2GZnn3covW6vjx4+qifvfrr7+qCZOmGRqQ7/mA3cdv2IgR0bM75T+uny/5dNUonGSf5VfczrgiCa6dZMuhdHb8vQI2Kbbp62+0977PS7gdPSOoUO159UiRnIsB3Pq7dP1XgTEZY7N0471M4dqZmfQzMh5Zfzu35N+OfU1ZZFzk1v9ejQMyQRKdxV2ocbf7L69BfsF5dYeA6PF+igF+O0pGlMXCJcsM4YFMjMC7Ccr9j3/8Q+3cuTPlObPtN2/cMO/SMUM6pYcwfuaW04S8xHnFMxw9JUv7Z/bzGuKMIwyAo8eOmRtiqBPgf57xDgdD9w/7qurPv6jKVKqh2r3dRf147ZqZ1XTzulvAK/+zNizrNmpqwjhba9ZtZP4S5hBQbnyz0+QVMICtUKW2910c7sR5xYCpxWvZFzXcK6V1N/NFye/ds18Vu40ZqlIVq5nBZ6YzffPnLVS16r/sfWfjfjuvMi3n3UZBdF51+7CPMSDRR2916mp0gTgPNm/YrEaPHasqVK2tFi5YrFav22jkSskKVVWbN95WlWrUNdi1e58aM268ScNFKC83fU09rdO0aPO2+vHGTdWiVc7LUXCITPp6Wo7n6XA7g4r76bzKy/LXBTYOl9nMmjvfhGVQIrPj0MnUb79NSeNDuvZG5kuedn/iGKlRp2EU737xeX7Fq6+2UY2aaN7TvNyv/6fq2tVrqnKNemYV1o7tu9T06bMNX86cOU9N1yANDo1efQaqinrAzS15x0+cNDTLO5zXTVu0VeWffU41ebW1mXxNN9jE7vv3v/+tfv7p50iO3Cn/MSn62WfDo3CcfZafcTvjiiS4dpIth9LZ8fcKrm2al3E7ekawbutW48Byn7v1d+n6r8Lddn64dmam/YysT+cM9+F27Gu7TG7979U4IBMk0VlwXnle5mdgYHGt84LFi9Unn36ulXVLs+SPPauVqtVRrd58R72iB6i8Z1sDxNrmnc4mPP7LryLjqEPnD8wsMf8/Uayc6t3nE9Wq9dsmXLhkBdW332eqsjayWNFy6dIVQ9wsnUbJMDPZoXM3NXvePDVoyJDIEItDnLIoVuYZ9cknn0dL6PEKf/zxp7HP+T+uPoC6Y3B82Kuved+5y4fRDADlvvLDVYMXGmUvN+yk63Hh4kUzuy7MwDdeermFqR94QRssDHSkHgsWZrX9vAUL1Wtt344ce7R/714DzP/kJc4rYTaYkGWbnbt0N+X7avJkVc2zMuSD7r1VTV2vcRMmqQEDs5Y2P/1sbROmPC/qOlIenvNtykBZJk2eYpxGPKcsxEcwdXmvRzSDSx/26NlPvajrRF4162oBqtuItspqs+5qzNiJXuOo6etvqN9+/z0yygD/84x3dlxQWQ/srmoD0l1x9qj+HmV4rlZ9NWrMOD1YmKcavvJ69J5+pF169Omvpk6fbp7hHIPWKNeng4aqJ0tUMOV+u1Nn43j85puZhg/K6vpBu9Bw7QaN1dlz59TK71ZH/ZKX0LBRM1NX/qdfevUeoBpzjbvul6nTpntXZohR1uatd00cUOW5+tGedXhR6Gv02PGaHqqZ51Web6iOHDqi5s5dZNqePqAtJ3w5JeKXtzq+a2jf/h6gHaFV4vTs2z+idwz7GTNnG9p7uXnrKL6rDF9u1tr0MQN8WaEC6jduEaWHhuW54DFNs8NGjlLXf/zR0GQNTas8f1bTFXlRno6duxqectOCd7p8oH779TdTFtqaZz46wuna8KXmxjkjdER7QoMTJk4y36GN5DvpnFf1NH9Ke73ToUvUXtRdyj1w0CCzRcLmX9qi3q1y0g8i5z8bPEw9WbJibDnTtSOr7brquNTZpiuR88hQZCl51GnQJEpXrHSlFP4saM4rF5Wq1zGrL5DdTDT8ruVa7VvOg/YdOptVG75Jly9GjTdt6z4voXn61KkzOQat5SvXVOvXb1C7d39vaNPmJ9qafqBP7TQCdOjBg4dV1649DG3A68Kz4mwR+SFywR08I3NqaHmAfKXcyFDfTDk8A6BhvkU5oVmRL7ZewQkATfMcnildoZpX/qbT367cj9N7NpLqg8zAQdm0ZVvNHwtUpRp1zCQTDgviDhs+OuIHKa/0yxOa35GV5EH94Glk6KDBI1QpXb84vpL2HjRkuOEftz8pr8gj23gnT/J+RLeRzefdP+ij3u/aM7LXwAuNmqoPP+qrHr61siggFUWKl4+cFzJ52LxlG/OugdaxP9y4EfGdjaTBVCbyD9lx8dJldfLUKfXll197+Q8+raYHktA0eLV1u4hescHbtX9XfdjjYzVt+req/kuvqnXr1xuIXQNtrli50ug++KiHthuED330zgD5nXe7RHRauXpdUy6ADqmnaWmo1rPkhc7xtQu0Da+QB/oI2oeXW7Z9K6oH34Q/673wkmr3ducobUdtY7dpl3WcBujVs78q/2yqHE03roiTA5RL5A68hs7iue28cuWQ2PGLFi81NoDUm3SNNJ9ihz1+S9fj+Pz002FGlhMW2HY8tvNbHd6Pxk/p9K1sQcXOR9/Srnb70S/IbtKSR+f3ProtJ8edAD44cOCQev/9j27VsXtk/9jjHCB2rNjj2FyTJk2L2kNg15/+dOk6zs60kZtxTamKVdXgISNMXNpYVt4lOT/YZSR0zhjP5quPdP7wKvnb+bl2ptSz/NNV1Xvv90hpB5HbjxUpHekRlw/Hab2IjsrUvha44/8Ro8cYu5F3tI+0c5Lzysfnkr/AtmM7v/+BeZZOr4u+A9AOZeV/W97SDs/fkov0MWOcJOfVu7rd+RY0A+3Ie8YNPXt/koNu8wvkV+CcV5zBgAOm74BBatiIkerSxctR56NYDx0+rPbtP2AGexBsv36fqktXrmjj5yM1ZsIEdUIrVVYbsTx+1569pmMhtCvaMN+6bYchwudeaKx+/e03VVf/3blzdw7n1b/+9T9q2YoVqmOnrubdxGkzvGUViLKAUO3nCDtmF+cvzDKMly5Zpsbpcsc9J01cfXgHw52/cEErsbFqwCefq9/++EPVejFrMEa5GUjs2LNPjRiRfV4AV8WvWL4yxXmF4+ratWsmD8CAhlk5qcf169dN29MH9AV9Qjp7UEteMBiM9lSZSmrSlCmmLkNHfKGOHTth2g6li7NNyiI4fOiQOqTBQAbGZ8C9f/9B3WcTVNcPPlTHtSKuXu8lE7dPnwHqsu673v0Gqv6fMINYx8Q/dOiwmjFrvuqgmXffnv1GEBOfcjEruOf7PWqCFhAIERTOL7/8YupK2+EsoC3tMoHBn49Qe3bvyfGcZ7xzn7/b+QN17PDRHOdPiDG3Y8dO04+sbqAdZQ8z3962bZtavuw7I+gYMLH6j2ft3+6kNm7erL6e+q0qpAVrn48/TXFeNWnWOmp3+oW65FXnFTwl7Uy//Pd//7datW6j6tz1Q7X7wAG1fuOmHIIXQc7MLv37QY9epo+PHTuuyug+h75mzZ4X0dfsOQvUlq1bTTqc1Vd1u7jOq59+/iXil1/1YP05y3kB4K0Lmqfoo7ff6aImfz01MipQGl20AsEARA7JCjvyFWXIWRanTp2O+HXLre3CDV9+VZ0+c87wEHn46AeDcdGCJSnOK2a32PbB7Dl1PHPuvOEpNy34avI3hjYoC8ozjo4YLHb/oHcKHaFIW7zW1hjRlA8e48pv8k3nvOqv2xLj68OP+hi6lpU3mzZtMuXm27Qd5eFcHdqX9iFNuw5ZRj9yDicFdZyl+3jO7PnecjbSA7F07cgA5qtJX6s3tIHOdreNm7YanhQjYKfuk/fe/9DQxtHTp6N0fJNtNNDjsmUrzHcLsvOKVS6/ab2HnsPhjuMdB7x5V7eBlps/pRhlgsVLvzPGlvu8ouYH+v+11qlt9sILL6uL6G3LeQWfwEP0Y/+Bn6tz5y4YHrHTAXTon3/+qQc2ODV6GV30gaYz3j1To546dvRYpLdOa33HKh938Ax/IiM+1sYs8W7evKkaN8m5pZ2yUUb4BQfdw4VKqhnfzlabNd9Aw+s1PWNsYzNwBoXwFVvzcUL55G86/W3L/SS9ZyOpPtSZ8Pq166PBAoOD7Tu+N7px0cKl+v/dZqD8Wpv2xp6RfilVvmrUbtVq1zcDLdt5FcdX0t4nTp5RvT4e6NVvIh9t411mmkuUqJCDz3GEiL1GuqWaHxdru8jnzAsopl5p3srQHoNRObaheKkK5l2NOo3Uzz//rKpWz1olL4COsYE52w/5b7+DRn/RaV708KQN9Dg26Njx47VcPmP0sst/8CkOLqHrc1q3MCjmHfSA/bdqzRoz2Gzf/l1Dc67zisHy19NnGRvghxs3zXk2pPfR+0e9+qvz58+bb02aMlUdPXpclX3mucie3bdvv+rdd2AOe1YAb8Aj2BrQ+thxX6qylWuqx7QtMuZWHYYN+0L9oHUJE81MZB6z9OONGze0Ljtk/jcr5bUclUkaAeWOG1ckyYFWbTsYZznlQlfhwOK57bxy5ZDUm3KN+OILI2+vX7uumr3e1kxs/3g9i27Ih7QXL15S5XV7ERZgCzAuQI5N0TYEq/9lfJNO38o448Tx4+rQiRNGZtEvbF3FHqdvTpw4Zer7dsf31RfaPqPf7e/fa1AX7FHqRh2pa5z9Az0i07DHR47Ook2f88quf/NX26bQdcWqtWPtTEFuxzV1XnxZDR02yugkVkbNnJO12tLtBxu9Pu5vaJl2Z5sxDjKeQ5+0x8LFiyP6nDRjpnnn2pl2/t98863asXNXDrldtFi5iD6FHjlKB/oX+zwT+9oG/QINTdbloX3gh4maDnlHWSgTZXPrL/nF8bn9Dfj3wMGDatXq1aafZFFJOr1ul9eeBLD1H7YKNgvfR67R14x14pxXBw8fNnYr9vEZnaesfBs7YaJaqctHv+/Yu1d9oeWDnT6vQ34FynnFzPumzdvUrIWLTbhQ8ad1Bx+JOh+CoLMRwrxnBRNCcOCnQ7LCmjhPnjxlDklDKF+4cNGcq9BSp9u2ZatWcBc0sdYw4f168Ewam7gIw8QIepQUYZjjoC4DnmLCPghzYjBAuECMWQw6FGuvPn2M8hOPrO95Un0IwyQMJPgf4MhjFor/KTcGxNgxX6rDR44aQYtC4mwmvMc2M3MGFoJD8lmwaLkZnEg9xIhEuK5ctUYt14YCs2m2ULeFheRDfAbPCDA5i8EH8lhu1QNjYN+Bg1F46jfTTXmKlqmojmkFaDvjAP13StdLwm3feldd1kKN71Ou//3f/zVLduW9W9+d23eYtpSwQGaC3Oc8w1suYWbNN27YbPZ0v6iFsx0XiDE3TQ+OCQsdjx49wYTJzx5EY3z+pGlHVnyJc5VBpm2k8M5ud9dozGsQpc//lJuBs2wTwWEg/Ginob7/7//9P/Vu124mjMC+qgewjVu0MVsf4JU27bOMhgpV66jLV36IBs+20gB8e83qdVHY5hcBB09f10ZeTc+gUYCBfObMOdWlW9Z5QeRL3RhYrVi3IdoeRV0w7CkP55PBe8gfOy8Xwrf0JeGPevU1s6ilb60o6/bRx+bblMFOB2QwKMovN3TkAjm4fuNmM6ix+TwJjxQprfbuO6AmT5pq+onBz6utsgYpAtoGJxWrX+WZ8PVHt2QkDhMMfl85M21Hweu67LKCSIwA+Y60Byt2MbZv3PxJ1bk1yMBwQrfY9FPQgKOAiRL+d+V3HH1wDtY1PTCSSRIb3br3NIMT97noERnsiF6fMW+hCScNoklz5qym94rVIn0i8ZgMsfXf9zt3G0PblYMu36NP5s7P+rYNePi//viviF/YPskkD44BwqxguaB1dHGth48dP6k+GzbC6EFJ7343E/1ty/04vSdhQVJ9+LY9ieXSte2UcPvFLb8tr13YfCXppD+LlKqkjh47kaLfxJi37StbXrn0Rpsj25Hxxctm5Y/s411AKuCfeXMXaN7YYuw0u115L3IPHrfTPffCS+qyHqSL/SyApj8f/oU6omWyrLaIgy034H0Gcy4d4dxdr/WipGGwvFYP4vkferj6w1VVqXr2UQs2vQD+P6ltAwkzyYltxv8uvYOTx09E9gJAzyMXhN7twfXy71ZF9qzEZ6sltP1Gu0455JGN03rAygoRHD/GAaTHCKxk+knzG0CvEMZxV95ZwUq548YVmcoBHA7HDh8x/9v847a/W2/hz8HDRpn3ONqwoakrlzfIpL58x5VjYteI3LDh07dCd9gQI78YY/4X+wA5JJMosvPkfoC62HbWqFFjzfEgRUpVyGH/2HLR1Zs23PrbdJ2JnZnbcY2NPv0HmQmOorqv4/jfBU4wGddAOzh2mZAibNNnknzBFkdnojttuW3Tp9AjW5Z98iXOvnbj0S840URfywpTaNful7h+yITPu3/US124eEmVezbbmZuJXrfLa49DbP3n9i8rjv/v//4valeBlF++hyxBpmALw89nNU3IOIoV83Hjg7wK+RUo5xVEAZH0++QzE4bAMFyl8yEImFnis+8Yxnn19TdNWJgEgsGIY3URnYyXm1l/DqdkAENYlINNXIRhYlYwyTJawjAkCoKwD/LdDRs2mjICcVKBr7/+Rv3x+x/mrz2T6D5Pqg9hmIQZYklvM42Us+pz9XUbXTbnMmHAHth/IAczo4Tx2ko+5LFi1droe3ImBkDhYbgXLV3Z1EuEui0sJC5Awf6kB6JTp86IPNMuyAOvtoRZTYGxQj1Nf+z+3tTNbQ/BkCGjzLJyCYtwLaH7iHKxhF7O5gJufeO2DUITvuc8s51XKGBmyL5bs0atWrU68ogLxJjooWmOsNCxnK1GfpRB4rfUA/5zepAkYekvDANbCfDObnfXaMlrgK6kPSk3s1tsXZKwj36oLzNAcsYX2Lxluxr42bAcM8xSfxQ3YVtpAL4dxy8CFN+adevU/gOHjMOb/pF3FZ+paRync+ctMLNe0s6Sz1NaqaGQt+z63tCtHY9ZnpPamNiwbXs0WDBbkrp+aN6bOJo/+GvLF24m2bN3X7RdhnbCScrZJjjFJC2rtFyjIjd0BCgPhgZlP64HACIHbT5nxYx8U+qBAYJinTlrjvrxxx8j+TRlynR1/vxFs1JGjGGcH1e0gbFg/qJoZYbw9Xd6IEFazgrkvBXq6pbT144u6DNWf+FEYwWV0JXUv9mrWekkzHfclUcA3WLTT0FCu45dzcyvLD93+c9HHzJTidNLtv0IWDXF6inXWQlcvSV6nUPCJQ7vcHziAJVn8pwLKh4qlHWBAWGhS5bJ79W8wTNwQtMofOjKQZfvcVgfOXI0CgtIywoQCbOFkq2U8zQfk/8KTZ//+te/VJGnyqlPPx+qrt+8aQb5Iu/d72aiv225H6f35L0gqT58+/Tps9HBwD66NvpW62W3PG75bXkN4vhK0kl/+vSbyFlTr1v9Z8srl96QF6e0DHq1ZVtjo13VugL5JGUJyEbzVm+qC7ovqt2ycex2JWzLOTvdpk2b1ZcTp6Q8A2zFxVa2t23GwZYbbKM5fe6cerpSjRQ6gk9tOrf1CfSwd+9+s8pW3tv0Avh/6fJsJ7VNly69w4vwrG0vEJeBuUvvwLZn5Rm0hzPwrB5Y9v0ka6WFAJ1FGvJgcpq6yGCWwST2wcqVq8wWNHQ7enGflmusLLHzodxx44p0coAB9ZSp0834QtrR5h+Xj916u+ERuj3ZriWDcFbj8FzgyjHqQp0kfTp9K3RHWVnhIvkSpv0Ym63fut2sPGn3Vvb2y78S1MW2s96SbfNVa6fQK7Dpz9WbNtz6k0boOsnOFOR2XIMjgxWJ1GXTzp0RPbnlsAG/MEGKnWnTWRJ9JskXysAKTMaatty26VPoz51ASmdf23GB2y9Va7+obty4aRyDdr/E9UMSnwvgM1c+ZaLX7fIKnfM/cYhLGrd/WZ3JKnNpV4GUX76HAxFHIhPB3Cb7hx4fLVq63ORt85+dR16G/AqU88oVwsDufJd4XSIVohIjiplZnCQIKZiLvbXMyOzasSs62NnOn7DNtL6wDy4xu2DLG7P6fQYMTHyerj4uk9hhu5xrVq81XnuUFEuO3Xxt5gLkwWyVrx4YqJKv3f62sJC4gqavvqZ279pjljrae3UFvu8zEOG7AhSqW247PnWXsAhXroL2lcv3PTu9AAdJbrYNikdcZgwEPjrGISh05vZjHF1jDNlKgHd2/XzfyUuw29ntlzj6cesLEPjk5SpRqb8sHXb72W1nNyxgkM4SfpYFDx+TNVMIDbNlaZI20PoPHGQOx5V2lnzk+xgONu2Kk4Vl4GwNZkl053e7qTKVa6gt2mgjDYBeXflCelse0U6sFsIwYDuQpGXptdseuaEjDMht23er71auNmWgDvJdyQeZw/Xe8s3hI8cYg+OcHrCw7fmjPh8bZxllJk8MGZbe49Rg2TVhnjPIYpUAM3ucVyDlQvHa7cbqJ1//u+0ozwXcfHX48FE1aPBwNW7cxIiu5Du0IfHssI/+XPopKODmsbNnzqqu3XpGz6h/um2Dn3w2RG3fsyeHcx5++X7PXjX2q8leI9zVIz45xTtWA7AqQJ7Jc5v+7TB8h8HNMwFbN9z8XT5n4sLmCwFxiCth4afZs+emfEPed+/Rx6xO2blvnznU3v2uS2/SDnH6m/99ek/eC5Lq48qPOLpm6066fnHbI46vfP0Zp9/4ljy35ZWPz1kdbc4o7PlxysqdgGxwZgvyl3OI5Jm0a9y2QQZt4ydOUbu0HeOufICXt27fZbbH2s/jYNMXecEPbAmzz75z6RWZyooJ5IhND/Lexxc2Hdphl959dERcVmu59A5se1aeCQYPG6nOnj2vli5aalbLc44bugz7gu9e1vaA6AdWcHE27EbN2zisGFiyXYqV2GKP2HDLbYepn08OcC5VlmPsoJnQp52F7+16u/zo1tsNv6AHwOfOnjM2xWWtA2QliyBOjkn6TPWtq0/tMLTApD1bQCd8NTXH5Mi9BnWx6RBHgdSDMko7A5v+fPJV4NbfpWufnWnDpXvh67hxDVvHNu/cZSZvZ8+eE9GTWw5BifLPqoMHD6rVq9cZPmCbaRxf2WEpBzTHOzf/ufMWm9WWbAEUuW3Tp48PM7GvJa7A7Rc5c5hy2O2Trh9cPpfnwKUL4OYn9YnT6zad2/nF9a+0q8D9Hg5WfBjkxTMmepnwJQzG6zF+uhWzeQnyK1DOqydLVjB7d1nCSRjCgECk813iNctZz18wgzPC9jYWwqykYZXVWT3AYlkjRhFK7dKly8ZrSxyXWJOYmLAPQszk5b5jdQUrvhYuWpSyLNv3PF19XCaxw3Y5WWXGNoP9WsG8+HKLHMzAShaMWclHlo9KPVDM8g5PtMwk2e1PXiIsJK4NvO9LNIN947m9yGZuwEwyjkY7DnDbQ0B8nG0SRgiwvx968ZUL51OPHtlbEFiWbQsRQaOmr5ulzbYy53+ecRuPHRfIclcRugL6gL6w6ZhbnmT7i9uPrOTiGzJIZJUNq23q1X8lh3Fm10++434/r8AW1m6/xNEP9WW1A0uC5RlnJ+B0lpkWlDnP3eXGLl0l8YsPOFa4/p/8N6zfpJYsXW62PLn9LPnIjIj0sw/0/ZvvvGe2DDyh68aML/0GeOfKF2Z57UG9vSyf70la+NFVfrmho45duqWcdWHLQZvP4WP5Jg4vFKVsSxb55Mo9VsixBUjOKQE4sgYNGaEN8QMRX7Pk2U4H3HIK7Ha0nSn8zw16HP5JmPYSugL8D63xzg77nDUysy7hggIOT+fsE9pQnrFFM+nAdlZqsa29Vv2c2xwmTZmhvlu1KnJOunD1ofCJPajjnWxTlWfyXOjQDbN1CNltxwfQpi0H4U87HhMPsm3Jhi2fgMgX96wgG+jpHbv3qj79Psvx3dzq7zi95yKpPq78YOuSOLslvmx3cvvFLb/dHkl8Jeky0W92/9nyysfn6Ng9e/aaraHYMPI8IAuyEtId7LONjTOP4g5sZ6UWNMAqWEkDcGrNmbdQrVq1xsh2+10cXL3NxCsy+abmG6Ej+BQ7W9LY291c/gYuX7h8aYddeqeOrJi1bxlmF8HAgUMieo+zZ+WZANrlPKaLFy6q5i3amNVJbKuT97Z9wZahU6dPm61nnCP1jq4jFyMBVvFIGoFbbjscJwfYYvbrr7+a8+gI046il23+cfnY5XM3jM5H93M786atO8wzG+gAdIHoZ9l2SPrc6FvXHnPD7DZ5qWlLU8ek7XT3AtSFozzEecFNjbL9yrZ/AOMjob84uxW49XfpWiB2pqxEF+RmXEPaa9dvqBp1G5kwDiyhJ7ccAla1XtL0Kbxu1yuJPm25zTs3f7bDcSyPLbdt+nTpj/pkYl/zvw36BRtNwrJSGlvGbp90/eDyuTwHrv0NcqvXbTqnziLv+vYfkMLnyGnGOtKuAim/8J/s8EDmoN/jzibNL5BfgTuwnUPiMGAq607idoLTZ89Fne8KFZiAGXlWD5SuWEM1frWVuqiFrqx8QKGh2Pbs22cMbVZfscSRA5aFSTGoT2jCqKQJhoFaIhPrQdnM2bNzKHphTryhwjwoAIQzswusQiLv/ceOqTc7vhf/PE19XCaxw3Y52TLI1kHZ0+0yMzcRcaArK4cY4O7fe0B11ANNqQf50PbVn6+vTmsFzYCVdHb728KCMEAo1NVtxFlEMPz8+Vk3jMl7gavEWBlw48cbqu1b75jl4Jx7wS1p9BmHeq/dss0oXByQ3LQg8V9u3kqVe6ammqiNubizXAC30m3ets2Uifqe1v1N28l7AQMTZrm+/XaOWZ4L+J9nvOPcnucbvGzajby4YQbDzd3ORB/Qhrt27TZ03Egr6GvXr6vOt1Y+uP3IoafQ5cf9PzW3KXIQNjTBO9fIt+snRgW0RDtIfnkF1FHa2e0XXz8B6stqxBkz5pg6tXqjXWTcwCvwzIRJ04zCo/0vaSNMnI0o/s+HDjftz5lrSfwiQPGRN3TXRCv365quMAy46GDN5q36O9WN8Y/S9CnXwYOHaxl1Vg8WG5k84D34mPMc+J9nOF0w+GyniwCFyHZK+pfBCd9mhVHzVu2MDJgxY7ZZteRzFDBAZaDapHlLU+ckOuLb3JrJVg/ivvF2B3X12jVVv3Fzw+eHddvFyVkbLPM+xUCoRl3VUNP1BS1fUdDUmZthaa/6LzVTly9fMQ6y52o3MOd8lK5Y3Rwci/NK5Ny6rdt139UyfVlF8zT5u+V8VvNPunakDO3f7WbymfjV1xFdAf6H1ojnhjmzhQshyLu7NhwL2plXsuLipJbhyHNpE5lA2bxhszlAlhnMhQsWq/UbNpk0yFecjwMHj4jSAM6J6dm7n3GIvqRlrzxnZZz9XfqXSafVmzYbOiRP+AQD7NmaLxijk5nPHr1ynmlkG3tu+OVXXlMXNc1yWDrbGyg3+kDkrc2fyHhkPbL60MHDatDnOa8st+UTEPkCz8F7nLPGNhIGurW0jEDmA3Qnh/C68je3+jtO78l7QVJ9XHsF0K84iml7bgmTMzVFv8sgwm03JrQO7j9o0uEcieMrSbdV6+V0+s3uP3sQ5PI5tMU5I5w3ckzLrL96MJsfMHDQUHX0yJGI7wAHXWOP7ti+S02fPttsy+eA39lzs7bosFLrvLYDP+jRJ0oDDaEfkacMZm3ZQF8zoBw0ZJgB/9tl8Olt5CiyU+gIPj2j9ZDQKytERo7JSQ+SHkfX8hUrDE8jK1y+tMM+ev/q6ylq8eKlhgfrap149soVcyaW0Durp3z2rAC7rlbdRoa3sV1pEwb6rARcocuO7sIOsS/0YIKL8AldT8LYINAzk0e+4zLcctvhODmA3uMsrRavtzFlW7ZypTpz68w82y505ZDL524YOYXz4AfdTtxWxzMb2BrYHOgE5FiTlm3MeU2SPlN969r5EqZuz+n2pl0bNH41su+wHabp8V+zW9v87yWoC+e/vaL7mToyxhD9x8o0VtlBv9DDXj0+Evqj33/95Vf1Sos2kR4VuPW36bqC1iU+O9NOn5txDavUf7x502zbp/zL1qyL6Mkth0DqRZ3gSyb14/jKDrt2pps/zvNjekxty22bPl36A5na1zagHeQMtho6CtsFe5J3dvu45ZP84vjc/ga6mjHd6290MH3FlsF0eh05sXrNGlVe66/Wb7ZX//qf/4nonjqLvEMmcX7oC3qMTBm43CjpzCsc53wP5yB9LRfcoN/Hfslh81n2iNyuaueRlyG/Aue8MjOb2oBk8MMtUbs0pPMhCHdQheHM9hcO9WWmePDQodE7mUnlRgTCciDrIs04cmAjg0zOAuEaWwaSSUzcrn0nc+bO07dWKwiEOVnOB9EBblbAYMRwbPla1rkgckZAzVuDA/c5Bl1SfVymtsN2OeVAZLmtx2VmlMcy3QZseWO55qyZc80MhNRjxqxZ5qYD+oC+ECFtt78tLAgDGIizrjhEmwMej2ujxr6aXuAqNQypfv0/M4x9+vRZderkKVXn1ooAZgtpD2aKWEGHA5L4g4cON23ITNeew0e0MszyRPvKVaZSNbPVgzLt2LJdDfsi1TiywWCbwQn7ywH/84x3CIqtu3RZdLuRF46T999PXRUG6AP6Yv6ixWbFAeWxt1G5/Ui7tXqjvbqolSn9zoq8l1tkrfSylQBhu36kGzhoiHlPO7iD+vsN6ijt7PaLr58A9WUWefq335o6cUukPdNMXxw/eszM1ND+HTu8F6Xt9O77Os+rus92GeWcxC8CZjLO6O9AdyikL7RC5Dl0yy1HyIV58xeYgbdPuTLgXbRoqZEr5LFn526j7Jh9xYHMM5xRXd/LSSeSHh47f+Giuf2EZ8RFJkELOJblbBMXKGPOXIPfvp76TSIdgZGjRhlH2XptuHIdMA5d0u7VvMEKySQ5K0AWcDbNeT0gYPXHug0bjIKmzocOHjLtxawtK3MYVLHdAWPg7NlzukwXzKwj+SDnuA2RVbD05aLFS6Jv2OX8SA+60rUjN54xk8k5QD1694voCvA/tEY8N0xZoBfOL+GWnU1btqTIpfwOOaDU1ktABm/cBAudsfSec8WEzj75dKgxquw0oKw25g4fOWZmC+3n3MRH/9vfbv56a8O70CFnUkDn0ASXqDD4maeNQZ9D1jb23DDXqY8e/6VZ5cE2pcN6II8DS+StzZ+s+t23d7+R1bLNz/4OsOWTAPkCz1FuaBaeZOXYcj04QOYDtlJyTblP/uZGfyfpPRtJ9XHtFUC/ontNHbRc6ttvoLEDRL/LIMJtN5yC8B3pXmnWKpavJN3w4WPS6je7/2znFe9sPmdFKo6S79ZtNPzIuULECcgCtIWzhJvObN7Dicp76BZepj3t4xrYzsZBz9gykmafHvChH+lXLiyw85s2Pet22q1bt6vt5sDv7Is2gE9vY78yYBM6gk+ZYMK2hF5XfrcyoleXv0HDV17XeV41K2Fq6sGly5d22Efv6DJ4Eh7EJhg1boKxF4Te9+h3Pns2Sq/tuu+/RwdfMPoQ2xgbuW7DJurKtWtGDsxbsMDoO9EPyDtuN+YyIMnnhJah7GqQsA233HY4Tg5QB7bn49DAnv98xAh15NbKHHhI7EJXDj2p39l87vI94NwjzttllbQ8s4EuQCcgC75bt95MNkj6TPWta+dLmEnhk7qOtCu2gdh3cpC7HGp/L0Fd1m/cqDZu2mTqaOu/IqUrqXXrNhj6PXDsuBozfpKaszDLGUy/r123zow9li3/LkXvufW36bqtHjv67EwbuR3XcIYU/L5H66shQ0dF9OSWQ0C92GYIjTOxzgRHHF/ZYdfOdPNnFT6r8W25bdOnj/4yta9tQDssRlmi39NncgwF7+z2ccsn+cXxuf0N0OfjT4ytSV+tWpl1JmaSXkfW0g8XddlWr91gHN5C99RZ5B00Dq1zvhf8zDiblXW0leQFpPy9+gwwN6cig+xtprTpMd1eYo9MmjjZyAA7j7wM+RU45xXACOJgMhQ2ZynI3lKBG994y7WB7O7dBu6A3jfAx7Bma42E49LwHWYb7HcC4kCEAilnXF5xz0Fcfdz6u2E7j6T8BWydYfBuP5N4zB5RBsoi75K+Z4M8XcFpw81HwGCXA2fdmau49nD7TRBXLvLmG3HfF/COGRbOGDqwL2vVlf2edqN+cd9B4CP4EcaU2Z1hSVd/97n7HTfs68e8ALee6erhPqdOvnqJfPDNcNLWcuWu+303LJD8JJ3Api+7rL58SOvyi/SnTy7Z8PU7adz84iB0LeE4OqLM0LWUx21HqWNcOwni8hc+deldlnW7/SXlAfb33HJm0o52v9t95dKYGyZP+b7Afp/fQX1tvQTs9/QJNCCOB0AbuGkknS8/t00F9DuyyX5m91Mc0vWZ0JP93P5fjFXo5vm6qbRoI66/hY7dclIXn75x5W+cvor7ntC3T56BdPWJa39XLoB0bUuZbbmTjq+I7/K7W09fOkAcm8/FeSW3GAakwuU7YLez0JGdBrhppA9I676T/KDFOHq0+zDpGTzh8j/wxYXGhI4og10vN+xLD+BNdLaE7UEzdUmnT0nvltfmh3TlcsMu3HK74Tg54NZL4Ka35VC6b7m3Gvsg5ZEzd+RWZZCJvk1qH+Ihw225yfnE3AQu4b8Krv4TIGtd+QmS7E+3nW26jrMzXWQ6rqEtbfkZ1w8uRC+4/eOmccO2PvHFTUrvvgO5sa8BDiEcoKJf3faP+56bn4/PXbh6EMh3pb1t2PLF/Z5bd76NDeN7J5Dn0EocvVAP3/gor0N+Bc55ZRMGxL3vwKHoCuaAgL8SHHDIFimWjNpCLB1s55XvfUBAQEDAvUHczG1+RUGrTxwqVa+rrv5wVbV9M/tm4ICA24VvxUdAlhNl27btavasuWZFpi+OPQ5jCxsrgbhd0Y5ztzFgwGDV2rqdMCDAhjivfO8C8g/kV+CcVyzTZ8sdBhurXrgdwefhDgj4K8A+Y5Q25xH53vsQnFcBAQEB9wfBeZW/wJaHoSNHmy36bOXwxQkIyC2C8yonXmv9llqzbp3Z+uSumBSwaoSt4Fu3bjOy59jho2r16rXeuAEBfxWC86pgQH4FznmFk4BbsyBUDlNj9YsvXkBAXgV71zm0lH3SvvcBAQEBAfcGNes2VJw36XuXH1HQ6uMC51XDxs2Nvec7gyQg4HYgdMWB0r73DyKwSVu2amfOnfK9FxCP27cZh3HQt9zKFxBwv1Ci3LPGN+B7F5B/IL8CeeZVQEBAQEBAQEBAQEBAQEBAQED+hvyC86oAwz347UFFQWmHuMP5AgLiEGgmIC/gbtEh+dxvmrYPpr5d2PW43/UJCMjLiOOPwDcBAQEgyIIHB/ILzqsCDPeq2QcVSWd+dO/RR302ZGjswZO3Cw61pO2ffuY57/vcwr561vceyHbDsMw9c9yr/s8LcK+WDwjILe4Gf8RdvZ1bdH63m/rhyg/q4KEjqmKaG5fuBbiuf+e+feZa68+HjIie0za0EW1lx48D11ZzffXOXd+rISNGppXrPjRu+qoaO+FL9bjnlquAgIIC+6p4+3km9lASAv8EBBQMpLNzK1R7Xk2bPsN7I+TdwISJk1TtBv7z3+LA8UZNX39DDf58hGrTvlPKdnfsier1XlL9+w1STVu0jcrNbbpV9Niu24d9VN/+A0wcscu4nI5tugM/G6a6de9tbBXJr6BBfsF5VYDxVzivOJC8Xceu3nf3GgiAj3oN8L6zkeS8GjhkWOKtKbeLNu3fNgw2Y+Zs7/vcIhNjrWipSurYsRNq8qSp3vcBOXGv+j8vIDivAu4Ut8sfPXv1i65ovlvOq2Nan73T5QP1dNXaubq99W7h3a7d1KGDh1Wl6nVSrp6nbWgj2sqO7wO3cP1486ZqqfVyuWdrqR59+2U0COfSmQGffR6FO3XuplavWasKlQhnyQQUXNwr55XNP8iSwUOzndEB9w6t2ndQzV5v6333oIDzwLp0+9D7LiD3SGfnPlurvtq5Y+c9c14tXbFCvdT0Ne87HyjHdytXq4MnT6rZ8+aZi+Xsi0ZefKmZunj5spo7f6G2m66qoSO+MM9r1GusTp06rZatWG1w46efTFzeTZ0+S+0/elSNmzBJ7di9Vx06cqTArkaTX4F0XrECpXyVWqrk01XNoYt4LIuVfSZlqT/G5xPFypv/MT65zrV0pWopRvrj+j15oeDw3kp8H8j7af1NIIY1eZEnae0ZnkeLlDHgmZ1vqQrVTHp3S4IbLw5lK9cw6SWe67ySdin37HOmTeS5XU7bGKbtaEM3vv1+zJgJau68BSlGRNx3bFBGQD9I+8j3SEseEvc/teFSqmLO8tWq95Lau2eP+bYdv3jZZ82ASQYY4rySfrSFmJSB/ylrkZIVzV/Kzjf5tsQVOpHnRUtXTnlv45tvvlWHjh1XJ46fSBlo8S3iIaQ9AACKtUlEQVTCJZ6uYsryiKYDeefShZQL+Iw1l17kdhzimvCtetyvwd7dgPAVfeq+k362b3KkntLG0r5uu9rxc9P/Lj9IXN7Z/B+nJKFRZAplohzQgP0+jt/c8ttpbMD/tIfwvyj1osXLmzxFHkr8TOWTPH+qTKXE+gUUPOSGPwRFy1RUx44fV63avm3oXZxXrzRvY9IgQ209C/iGS4c2ipeqYGi5acs3UspDOXzyDRqFVuEJkY9x/OVC+NOt35ixE9WKlSuNLeGmp0zCdy7/2PLm1dffVFevXlN1G75i4vvkusvHoPtHvdS+fQdUqfJVTX2ob5FSlVL4GX3gpiMu8dAN0h7yLuDBgkuXwkcCsW9sfnLpDNqywzbdx/GX2NGFS1YwNCjP4/SJXb50zqsylWqo8vp7yByeU17XLmNSz7YPJZ7Uo4Ku7+UrV9TTOi/ah/ciP4C0hQuXT6kz8pFv2eMPiR+nb807y36wv4eNkM5+89lBIK59Rb4Rn3yFDlz7RPIjH/J384mrp7Q/7cP3Rf5S/xXrNqj+AweZPpH4+RUynojTg8BHR6y4WbR0WaRH3HaXeMIHbvuKDqbfXXqx00GXAvs9kOf0vT3eIkxaoU/iuHrG1n/Uj/jCf0D4gL8+O8FOD224/GqXX565EH5B57nOK8mP98gcvsU3ecY7u72kDfifOuZGfgls+SLtCqiDPV61Yd/U+dwLjdWvv/2matVtYMLLV6wwq7n4v2OXburixUuq/DPPmbbGDpJ0CxYtN84v/meiUJxV9OfFS5cLrINUfgXSeTV16gzTeSdOnlSt3mivFVx1tXnLNtX4lZbmPYS1YsVq1at31qodlvxfuHhRnT13zvwv+Yz78is1eOhwtev7PUa5rV27IceAE0BUU6Z+oy5dvmzQr9+n5vmYCZNNnqRduXJVRFw9evZTQ4ePVDt27DLvVq1aa1YQnTlzzqT/cuLkSOBD5BJv46atqkzlnNvQiPvpoKHq/PkLJv3kKdPNc9d5NXfOfNMuFzQzjNVlk+fUWcp5+MjRqJyd3/vItKEbX9Cu/bvaEL+qfv7pZ2NISLq479gYPnKMmjVrrtqydUfUPvQV3yPtyDHjorh9Pv5EnTmbVT76gtlrmHXPnr1GaPFttssRl1VghBks0cf0Nc4rGF36Ea+3KGbKsWDhEtOG1Z5/US1ftkKNGD3WlP3kqdOqdbvs9hM64XnP3v102bfr/sg5GEAYsrVl9Bidz4WL6nVdL57zDb7V95PP1K7dWWVZvmJlCl188skg0xa8o22kv91BTpf3e0T0Au1Bg67ziranHsRZtvw78yw/gXac8e1sU37qbq/wYxWC9PP2HbujdmrXsbOp67QZ36rTZ86omvVeivht3eatpl3t+Lnpf6FP3g0aMkytXr/JpHH5n++LQrQBjSJTJnw11ZTj0OEjqnbdRtH7OH6j/EDoQuhFYPM/7bF+wyYzuydKfdTY8SZP8m7yausoXZJ8cr/HbOnxEydM/VavXeuVgwEFD7nhD8E338xU//znP9X5CxcMvTPwgS6/nvqtSYMM7dtvYBT/6Wdrq+3bs3Qcug75bucHrUFz//73v3WeF6PyLFm63JQDmhw/cUqO+DyHJ1q0esM8T6fPACucVm/abMpCWQd8Ntg8ZyXZ9R9/VL/9+ps6cOCQaQtJI3KdtiIcJ2+48e/AgYPqf/7nf9S5c+dNfFuuI0cmTZkW8bHYG1Web6j133n1559/mrh1Xmhi5Nzq1evNwELKhz4gnW0nEHfjxs1q2swsOUre92uldMD9BXQZZ1+A4aPHGN6ETubNXWDkPrYL9MOgDjqfO3ehWrduoxkMCt1/+ukQkz6Ov5AB7Tt0Uru1vbZ7927zLE6f8E27fOs3bIx1XiFflixbru3FS8ZZTp41ajVQO3d+rypWzZ502bFzt6pZ/+WU9Db/rNVjA3gS3qKNbPkBZsycY+oqafnfp29FPjJmsMcfki5O38aNH7gZDRuBZ9gUEt+Gbe8iW+TIiKT2xeYUuTRi5NhInop9Yr9/p+P7Jh/yd+0ad5wl+WMXjxkz3rQP3//88+Emf+xn7JFrV6+p9es2RPnkR7DjhLES7RSnB310hC6CBmw94tqFLzRsZvKXcd/R4ydUy7ZvRvlCY59p+5N+J19sXWiId+hOSYf+mLVgcaSXbPBs6pRv1FrdD/sOHDAOD58efuOtjhG/k45x1+5de1Sl6nWj+hFf+I84SXYC9GHrT/STPY7KdLwLTVF3dN6Y8ZMi55XQX99PBpv3fft9Zr7FN0vpOny3co3qqOWU5MVYedzX35j/cyO/bEDLMv6kXb/VYxZkAnWQ8aqbxkblGvXU1WvXo5XpV69fV41btDH/lyxdWf3++++qtiO/wIQJk8zY1n2O0xjZGJxX+Qws3UfgV3ympmr71jvqrCagspVqqu/37ldjx39l4lSs9rz6QQvjV5q3Um3f7KSJ9bIhjhcaNVNXf7iqGjR+xcSDMC5f+cEIHJjsN01EQlQ2OnfprgX1eROvavV6kVeVWdZqteurqpo4+cZHvbKcCqwC+vnnn6N8YbxDWkEgtLr36GvO1KhUo47xQMPIX0+ZajyuEyZ9rRXI8pRvA5Ys/njtmlHIz9SoZQQfz23n1aBhI9SJ02fVc7psdfWg9oquV9fuPbVB/bzx+rZp194wCsKK+LQfbdTqjXaqctVa6tTpM6rXx/2jb4Ky5auoo8dOqGVaUAnjxX3HTgeYUZP867/U3Ci0/YeOmHQf9uhn2kcUJd+nT8pXrGYUNKuaEFIDPvnc1JFvE5floT/odujTu78qpxlYhCn9iLLw9aM9s8dg/8aNG2r2wsWqjK7bJN3ue3bvMfFoj5s3b6ruH/Yx/1MOFDoDM97bqFr7RXVZ14e+2Lpth5rwZZYgFOfSmTNndF83NXXFKSfbTaAL+oI+qFSlhtqxfaeaNGmaeWcPcqjnBW2wUR/i7T92TLVo+46JR52hv7c6dDa0W1d/h3Zr9mr+W6oNX+3e/b2pI22CMoIveEc9cUZz/e02bXwOGTLSPKed/vu//1tN0Uqp0cstjfNS+A2lRZ+c0DQzYGCWgZhp/5PPSU3rw0aOMu9WfLfK8C1pMDJ/0HIG2qKsQncu4EUGoB/rgTszRl9Pm6nWbdpk3iXxG+W/qt8hB3z9CL3duHFTtWrTzrQHAw5ml8R5RVnd+oAk+WR/r3TFGmaw/d4HvU25ly/9Tg0akjVgCSjYyJQ/bLRu84768ccbZrUQ+kWcV3v27jN03rvvp+q65keZAV2zYYM2dMcYHfft/AVqpTb8ZCYTEO/FRs0NLXfTNCj6tUPn941se0nLgZua/hs1bmGeIzORG/AjMgKHVCb6jNnWObPnReVk6zeGZI26DY3RPvWb6Wrjhs2RXInS3ZLrtBXhOHlDmve7f2Ta5h096CRPW66Tlm012BDIEYxothei29Cx6NomzVob3Wenq1K7gdY3V8334M9FC5eq+fMXmvzQjf/617/Ul7pN0ImzFy3W+RzTg/bsGdyABwNJ9kW7tzob+6Zl67aGP6CRUWO/UhX0wOva9R9VjTqNVLEyz6gTJ06pY8eOG52DQ+u0tvU6d/0wkb+wvxhM9f34U1Wv/iuJ+gRbSezH19q8oX66+VMkf6QeAPrH4ST6eOWqtcZWxmY+rAfLzVplOVOQCWy9cc/Is/kHmYJsadq8jcmLM2UOHT5s2ghedPV5kr5FPiLDkGXDvxitTh0/ETkW4vStb/xAmqPaHv6gx8emTDgM6Ct7BYwZpJ6/oHr2GaiKFC+vXr8lK5La17bP3fYV+4R0IrewyykX+PmXX/QYqanJxzfO4ts4EJhk+G75dyaPgQOHGLuN1WO16jUydDBu3ERDB1KP/Ahk8Dud3zP9/NngYerE0WM54vjoCF3k6hHaHXtr7br1hkaK63aElsVu69F7gLqg203GQ6dPnTJbxNBv7d951+ga+NPVX4xVsIVFL9ng2Tk99mBik3En9OvTw9Wfa6CuaX1Vs+5LJh00y9Y1+AZ6nDFrvqGx/v0/M05OVukl2QnQh9jNhNFPMo7KdLz7XL2X1HWdv+hX5Bg/8gb/+Mc/TFna6zEQ3xc7mHcLFy8zq/9YBSjyjIUjuZFfbnnscTbtis3QpVsv9Yym+XOar0ePnpAjjY1XW7VT169dNzTltg+4oMv1cvPsSWeAA2/rjt2qT7/Pomf0A46wXr37aZ7+3uRnpykokF+Bcl4h8Hft2asGDxtlwrZyxXHFO+K82rKtunTxomHYGfMWqkWaoFlS+IgO7927X03UTEN6iPab6TOj/NeuX684EE3CAjyvw4aPzvFc8JAWKt/v2RflhRGxecv26D3Ez5YE/odphXiZRflRGw7P1qxn3tVr1Ez9/NNPOYjyq8mT1ZKlS1OeAWEqBOS+/Qcj5x11pc6bNm9Vz1avq37X32vWKtuzDwZ+OsQopyeKZy17ZP8t8WEaieMa7UnfsdMB0kj+CEIMiVlz55t3lWvUNVsrxCHmptuuBRz5UTfqKO84k+SkNhbcb9GPM7/NPnvK7kfyswdntL20N06JX7RioL1HjBhtBB0Cj3f9Pvks1nn17ntd1fc6T/6HFmkT2kbaa/GSZdG2Gdp1267vDS1CF1u0QJJ83n6nizpx/Lj53za2qOeGTduieNDOrLlZy0cFOK8wPGrdmuHIj4CvPuz5cRS+gIH3WtYqChtfjBqvFixebP6nna5eu6Yq18w2Vl1+Y1/4vAVZg7tM+x+Dn5kUthjwDiND+FTiyaA6DmKkiDELPzOYwKBJ4jfKf04rU0nnQoxpcTwLpD4YzITt+tjxfPLJ/l4dXU5WsUGjhKFLjDJJH1BwkSl/2GnEWSXyW8KcM0MYvcYqJoxmZiVx9EPDvIOvmM1nJljyAz6jTlBCG6inTp1R3Xv2NuFTeuDW6s1UXshEn7FCm0EfTjfCj+lv7teyW+wB+AJdIvEFrh5Mkje2sU7YlusSX7BUDwCHDMmyZex+IGyn6/5BH7Vnz/4oHQe3Sr/wPWSDtO9rrd+KBpMSP+DBAHQZZ18sXbYiGtQRZmUzzlJWJh09clS1fetdVV3bEke03P9u5Uqjhwnj/GCAmMRf8MyK1auj78bpE9d+ZDC+afO2FLoXQP+2Poauf9BypJK2HdFjk7/OOvdz/MRJhofhZTe98I/INWQM73A64LhBL9tpBJnq22e0nLymB6XNW6ZOeLv61jd+wHHOqv1ylWuaMPam9IfEEecVjgNbjqVr3ylTs3ZmyHhH2lfsE0ln+k33teTLAJ44SeMs2hDnATKId9DGb2yJqv9yZOfT9pJnQQD9Th1dPRhHR64eoU1xGsrqOOGrFxpl2ZOlKlQ3K29pX8KMecQupt8vM5Gt+dHVX9Ivopds8Oy01pnoTsJJehhaZczBtzas3xSNl4+ePBX1MwsfsGXZApdkJ7h63NaHmY53XX3HBA8OU/IG/N+uQ5fovc3ftA0r39i+y66MX3/91UyA5UZ+uXCdV5IPjuaFi5bksDNcMNE2bETWmXtu+wA7f8Hbnbob+WePc6ZN/9as4Lqk6eH1ttkrPgsa5FegnFciHE9pIXv40CEDs1pGG7WsssKzyqorjEkcPmJ0XtODXTv+pK+zZqMgWgSN5O+GBT7iglhbt+uglmpG37p1q2Fs27i1hZed3iZeYTopG4aGT0imK5dPaVAWtraxn/fzYSOMt3ji5ClaAFaL3tvfhiFcJnSN9nTfkWfyXJSmm84d/DR85XUdf55pR1Yc2cqWOkqebrsKkvrRLoct5Hhnh+14vHMHITZwJO7+fr/5BrMsDNQQzG57gT79B5m60wZu+e3v28YW8a5oOpW+YSZm3oIFUTrBgvmL1EVN28wA2rdZ5BfQt0DqyWwOShoDm4MK58ydq7Zs3mL4QtrNbifJx21XO5xp/7v58ox3xGFGjHPfuAmtrzYkMUJE6QH6hhVjLr3ay4UpB/lJXW1+c8tfs27DKO+p06ebOCPGTjDfZ8VZtGUooT65kU+U+48//ojKBr0dOhScVw8CMuUPO40rv5PC4M9//Usd1Twc0ZceeHFehJ2nzW+EGUC927mbWrVipdq+bbtZWg+PuvEESfwlcdxyirzGAMUQdflC4Mr1JHlD3nxD9IYtVzjz5O1OndUiHXfbtm3qguZn0hLP7gc3nfs96RdWvbnfc8MBDw7i6OSpYuVS6BdAXzhGcJDgCMJmZpC4eOl3ihXvhDm7Z8++fSZ+En/xTaFjEKdPoGVomm9LXJfuBTb9E2YFlPB9fT1YPq8HqEVKVjADSSYe7bRuemkHkWPo781btqrTOo933/sgx6RRpvqWlRBsa+JbSfpW7HTJH5DGbk+cIGx9ku1bArYLs+py+apVqnL1ukZO3W77uvaJ229STsnHN85y5a8d9n0/v4I+Hzd+ktnWulfzAKsApd8FcXTk8qHb7i4dSbuJs9ClFwnH6S+brwUuX5EmTg+P/GKMGdMIPeNYpWz/+7//q06dPBnFv67HkDgp3fLbYWDTh62PJJ7kFzfejZNjvvzd9zgSmdRn9VbHTl3Vzu07TBzaw/52kvxyYfeH265u2AZOYo47YKWcOC595Wf1VstW7aJw1Vr11bkLF1XXbqk7migrcvDTwUPUj3rMyY2q9vuCAvkVSOfVyHHjTecLIAwI5fiRo6pp81ZG4aJ4hblZnmnHF2XkEm0cEbvCBLDMlqWer7V9Sz1To646ePBwJERc5rPT28QL+L9xkxYp5ZN0gnTlilNaHADLAZW0zXMNmqg169aZq8Dl/dGjx8xWSvmu7KcXuMIx3XfkmTwXpnbT2UKYrRXnzl1Qb2lBw/OFS5ZF6agbdZQ83XYVJPWjXQ7qKEKOd3bYjse7pEEAz6fPnGu+AZgZYebSbS8waPBwU3fawC1/vcavqj//+U/zfdrGjrd+8+aoX4Bsp7PxSNGyZi/29h3fqzmzUldm5QfQt5z/YNfziRJPm5kZHNHvdv7ArNJj+bK0m91Oko/brnY40/538+UZ74hDGMOEa2257ZFzAAoVL2e+AwYNHmEUv0uvVbQSYgsRtEQ54vjNLT9n50jevW/dtoniYoaLQS/nqSHzkuqTG/lEuaFhKReQGbqAgo1M+cNO4xrRSWHAFoDW7TtGtMWMKI4cO0+X3z4ZOMjMKjd8uaU5/JwZZ3jUjSdI4i+BW06R13+V86pOw6bqoh6INmrS0txouGrNGpOWeHY/uOnc71E32oBVD+733HDAgwOXTsS+iHNeMVBFb7Fy5/udu40Ta+CgQUbPcPbL6DHjjBOL+En8xTeFjkGcPoGWoWm+LXFduhfY9E+YrVnC93IsSNeuPTStX41WsMSlJ40rxzgTtc07ndWlK1fUF7cOT7aRib6Vs2f4VpK+te1/AWk4348LKqSNOLvHPkhaUKPOi2ra9Nl6sH9SVahS+7bb17VP3H6Tcko+vnGWK3/tsO/7+RGsYOM8ppnaxofG0V1sz7PpR+CjI5cP3XanrWw6knaT22ZdepFwnP6y+Vrg8hVp4vTwiy+3UBfOnVMvNmqqzly8aGxdysZqsU7vfxjFx3H16FPlcpTfDgObPmx9JPHSjXfj9J0vf/c9YbYisnqLc5CRZzyjPTKVXy7s/nDb1Q3baN7qTeNYrnZrpRmgjMhkZDNhHHc4ulmFJnHWr9+gvhg71sggeWaDsTZjbllhWdAgvwLlvMIJg7c07mpvVluxfczeA8+WgK3bd+QwloFLtHFEzLWVcnaAgCXB+w8cMozOjQMc7idCxGU+m/ht5qtQtY45t6h5mvOKMCJwZrjPJV9pF1nuiQLksFv2/9oMULnmC+ratR+NQOn20ceasbKXlfogwlG2+yV9x01rM7Wr1GwhzGwOAxNulaFP2XIn6agbxoHk2fbtzuqKVhLuTFlSP9rlcIWcHWZZKWWUW+/itg22atvB7F+Wpa9gxszZegC0OGqvzVu3mzNdpD7i4adMp0+cjPrk/a4fqSOabviftjHf123Vpn2nlLMUfLD71a4Hq4RYXmyfnZBXgXIZPWp8jufMQjAbIWF4WvjJbid57/KbHc60/5ltkpWbvGObAu+IQ1tKe7Z98x0vXQDoFYUvZxdweLosp07iN7f8LuzvM9iQciXVJzfyiaXgXMwgs0M24Hnf7XEBBQOZ8oedRuQ3Ww/ssBjVdpiZUM5rTHfVNN8Quka2sXVc9A438XAjj+gPZmyRnXb6TPQZqxo4z0cGCcIXsnIjjg9Frsfxjx22jXXCtrxii+DadVln4AG2eJGW/8mbGdqHb50F5uoDOQaBdzjRz2udyf/u9+wwOpqDcpP0SEDBAbQUZ19gB8v2OnTJ0C/GmXNiGagj/xm0frd6ndmSxtY8zurEucqkHOmT+AvaFzoGcfoEOmQ72vRvvjVlwEbCVhL5Y8eF/m19zNm1sh0WPuCs0dVr1ptLfex0Apt/RI5xZAfvbNup7ye37D7Lnkinb+XwZs4mxSHA9ugkfesbP3BWn7styIVdDiD2fqbtK4NcaV/SkofEd/vNHU/4xlm2nHbDtCFt2bvfJ1F8yuizK/IyWI1E37z5VicTxo5jq6SrB+PoiDa1t2O67S7jPsYShEW/YYMSln6Q+BJmKxxb4uQsNVkpJXRmw9brhJP0sORr7Oyl2Rc/7T9wIGV7nkD4QNrDDmPrskq67q2z0zhKQPRRpuNd93gYjgiwtw3a9Afc8nTr3tts4+cmeBxu5lku5JcLuz/cdnXDAhbI4Lh68+2sPrZxQLdrz75Z520hS2Q8Cd+xUkuc5RLflQMiX8R5xS2JnEUm7/M75FfgDmzn4Mmff/1V9ft0kDGeMTxl2SGrrX68eVNt0YpNDD0OZ2PJKzcjEB8nhZxd4xJtHBGzHBgCgwE4JI5DVxEgLKN8u8N76pPBQ8yBhiJEyIO8JL1N/Dbzoby5ue/I4aNGOXPzx/sf9IjSCeq91Exdvf6jGjBgkDnElpvoeG7nS7uw7ar7h71M2/z8629mWSGH/nEuAHUfPGyE+umnrIPSAQdUz5gx2xzazKF27sGVMAyz0kf0YAFBjgCM+46dDthMLUpNBh/24IZZs9/++EP1+vgT9cFHvc2STknHzBeHr1NnmDtLqfygpn7zjSnPe1pIYXwl9aNdjiShy4F+V3S9Ro//0vTF1p27UwYFArac2nunAcvtr1y+Yr7Bt1jSydJO6gPt2Qdzs9x7woSvTJ1wzH0+dLh5ZxtbOPLOn7tgDlWk36C152pnXbMq4DwGaJ/3k6bMiIzWqdNnqZ27dpv98Hb8vAgGYWYr3sefmsNIe3480AhtObARfuMcgL9i2yCG34F9B9W3384xjqsV69ZHfFq3QRNj7NPWc+bMy/r+LSenDXgR5xUrPaFPZm25Fpd3Sfzmlt8F2wW++GKscZwNGjQsuvAhqT65kU9PFCundmp6X79xo6k75wbAA7xjZRwzVrazNqDgIFP+sNNkG82zDd/a8pz3bpitN7u1wYbuBH36DEgx/AHfEH4jLAc7Y+APHTkq2jbIO7buntG6j7yQD/BRpvps8LCR5kBa6BubgJVQYijG8aHI9Tj+scOuM8mWVxwyjX1CuZF5yH/SEg+H2qVLV1Tbdp2MfeLTBxO/+trojT0HD0dnaLjfs8PP1KhnnBesYuNdQMEGtBRnX2AHY7d99vlQ9d77H5rLAvoMyLoRVPjZbCOqWttci8/tYpcuXY5W4CbxF7QvdAyS9AnfxPHChQay/UXkj6QH0D91mTx5mskDx9uqjZsjux6bCofCCOu7Nmz+YYUFRztw+DH80bFTN5Mefb5x05ZoslHSptO3GzdvMWWaNWueOqR5kTIl6Vvf+AH5t2HzZrVk8TIjQ5FjYtcLmIQcPXqcSUPam7r/OFA9k/bt9kFP077ndTmkfbFPGDNI/m6/ueMJ3zjLldN2WJxlm3SbQn/Y5tyIB/hfvpPXIfS/cPkKQwPr1q3zOq/i6IjtamxdwwZEt7jtLuM+nMf0Hzy1f++BaJLB7gc7jCPx66+/Ucc1H9LfQ0eNMecZC53ZsPW6PIvTw+TLeXjcKi/OaoDzGz0LbYrOQg64doEbpi7wBrp73ZZtkT7KdLyLQxfn4ZixE8x32e2QG+cVh89fOH/xFv9n6fbcyC8Xdn+47eprZ1bjcZMnh+736f+JkUVAvscFDrRrj779DQ2IXGOlFvXgJn5JAzgHb7zud8oMPXJr5S+//KLq6HEJ+S1dskx9p2lVvp/fIb8C57wCH/X82BxMeOz4STXLYly8ndxKwj5xO37z11urHTt3qeN6gA+TygF7Q0eOVu93yzr8zhcWQFgM4o5oYuR8J1Ey3PzAId9cfz10xBfRjC55kJekxwHUsHFz8z8KgFkNWbJIePLkb0xdqBN1k3QCBAwHuPFtyjBIK1ae2/mCfgM/M3FgiO49+phn1JU6U3eet2iTfSA2yxm58pM6cHCm3GJog4P+tm3bYb4rTj/fd1zQFsxGUXYEB9f1orR5x7XDK1aujvLjCmfTN/oZK7EkHcKcK4Z5x+GIxEUAoCQQaFyDilJM6ke7HLQ5bS/OTjdM2+w7cEjt2L5L9e37ScqgAFCe2XPmRf0s4AraNWvXq2o1XjCCbPXqNaYu9Ono8dlL0hGQCEquVKZOM3VeMnCibWgj2oowfUGfZPXNVrOVTPJx32/btj1ybqGQVmkeQIDa8fMi6BP2dUNL9CdXDVNu+G34uImmbqzsa/baGxE/ue0EXH6zw7npf9qQvocG3mz/bqQkaXvioQyhPXdQLBAj5VM9QKDvV6/bGG1RBnH85pbfhfAL36et5Cr8dPXJVD4B+JxVgtAls7cNm2Ud1El7b3GuXA8oOMgNf9iABuFZDoJ25bkbhqfhbeJDv65+BnyDb/FNk0brLW5DIs3goSNMetEf8D7XX/OOwZLwYyb6DCCT4U/kZtNXs2ei4/iQtqGN4vjHDlNn6k4bELblFe0wS/MkPIYOIB0gHvWnLakTaVw5Z+u9idNmRPLd/Z4dBrSpyIuAgo0k+wJg32CzwYPcSifP0bfw19y5CyMnwyitfxcvWZ5iR8TxF7QvdCyI0ydAysc5kra9Z6eH/ikTvH/06HH1ndal5Cnvq9V63jgUXri1/caFzT/k/emgoabcOKwpC2Ui7OYLRH65+lYGyW+91dk8t+0uEKdv48YP9neQY5RZ8gK23CSt7fTPtH2xRWVwzViBMYPEc/vNHU/4xlmunHbDyCmpJ86EryZPVV9PnWHaQPLND6Avov7q9qHpJ1cPxtERPMfRErRbI80jbrsD8mJlG/0ET9lby9x+sMOkEzob89UUdUiXz+e8svW6PEvSw9A4h7Xb4wzGO9Ax7QCwyenHdHYCiw527dpjZE2bNzuqKbPmRPqJOOnGu4Dy8E3Gnnb7A5vegPt96onsQoZJHJAb+WXDbn+3XX3tLHwN39kQeUC7IiNcuqEMbhrATaPIQfoMWUFdbbsFZ9e4L6dE4fwO+RVI5xVAyRYtXdksjbef20RkA4J5qswzKctg3eV4btjFkyUrpBxMzrY594BFkC5ft4zUgbqkm53g25RBwm6+AGXt5kOdqbsvf4QRdfDttRcwo2J/F/i+48Kup1vnlHe3yicKzk3n9hse/KLWrSxuO7jhTMsBpF54/OVAU/u9G99+joGAsEGZUBeXPsW4lPra6YGbt9BXnOKX99C2PCOPdP2S1wBd2/0pELpM6k/gvk+K76Z1w7QdNMAZG/YtXvQBs7j2DK0LcV4JP/v6jWcuv7nl9YFy8n33YoSk+gh92O9B3PeELm16ArSHHQ4oWLBpJomeXMCzwg+ZpCO+S7823DS2nI/Lzz1r0cdfLoQ/XTpP4kP7+248N5zUFvwv+sxN5+o1Nx/3vSDpe4F3Hxyksy+A6Df3OTSTREeC3OivOH0izyV/33fs50VKVszBz2yxYnWG3Ebog5uvXW7KlCQnSOvqW3uFB23o1ou8fPpW4I4fgHzHlWM24HnX/gaZtO/cJcvM4Fv6yO6ndGEAvbh2rNuubtiuJ/Tis4PyA+x6uHUUxNERz6XdfO0KpJ/c9nHju2Ghs8eLlVUHDh6KDnp3EVdm6Mmnh+Pi0w4u/aWjAegmbhwi+jfuvYBvCl/Y+fvKma48gtzIL4H7PpNv8YzxoA03jq8cbho7HX2GrHDpBbtA7LCCAPkVWOdVQMDdBIffvtLsdXNAOGcZsJx7/cZNOQyDJCBoxHnley/Gpe9dwP0FyqZTl/fN9ddg3Jdfme2h9sx1OojzyvcuICAgICDgXuFBsC8YuGGjrd2yTc1fuDh2kHov4G5PyotglwlnYrFj4OVmrdX58xfVBx/5d0cE5C/g3Gjb/h1Vo05D07+t3+ygLl++HLsTICAgP0J+wXkVEJABcF7t2rFbK4Mr6tIPP6i1G1O3fGWC4LzKv8AIXr1+vbqojYErV35Qe7/fp2rXbeSNG4fgvAoICAgIuB94EOwLDke/evWa2rZ9d7QV6a9CfnBede3eUx0/ftwcecF5opyNl19XPgWkAucVW9xOnTtn+vfM6TPq/fc/9MYNCMivkF9wXgUE5AKyr9r3LhMkpcVB8lfOFAbkHnfS/6F/AwICAgLuBx4U/YPz6H7V805sw78KtA1tlB/KGpB7SP/63gUE5HfILzivAgICAgICAgICAgICAgICAgLyHOQXnFcBAQEBAQEBAQEBAQEBAQEBAXkO8gvOq4CAgICAgICAgICAgICAgICAPAf5BedVQEBAQEBAQEBAQEBAQEBAQECeg/yC8yogICAgICAgICAgICAgICAgIM9BfsF5FRAQEBAQEBAQEBAQEBAQEBCQ5yC/4LwKCAgICAgICAgICAgICAgICMhzkF9wXgUEBAQEBAQEBAQEBAQEBAQE5DnILzivAgICAgICAgICAgICAgICAgLyHOQXnFcBAQEBAQEBAQEBAQEBAQEBAXkO8gvOq4CAgICAgICAgICAgICAgICAPAf5BedVQEBAQEBAQEBAQEBAQEBAQECeg/yC8yogICAgICAgICAgICAgICAgIM9BfsF5FRAQEBAQEBAQEBAQEBAQEBCQ5yC/4LwKCAgICAgICAgICAgICAgICMhzkF9wXgUEBAQEBAQEBAQEBAQEBAQE5DnILzivAgICAgICAgICAgICAgICAgLyHOQXnFcBAQEBAQEBAQEBAQEBAQEBAXkO8gvOq4CAgICAgICAgICAgICAgICAPAf5BedVQEBAQEBAQEBAQEBAQEBAQECeg/yC8yogICAgICAgICAgICAgICAgIM9BfsF5FRAQEBAQEBAQEBAQEBAQEBCQ5yC/4LwKCAgICAgICAgICAgICAgICMhzkF9wXgUEBAQEBAQEBAQEBAQEBAQE5DnILzivAgICAgICAgICAgICAgICAgLyHORXoJxXhUpWUC81b61efrVNhPqvvKZKPF0lilPl+YaqVv2XU9L9x+PFVMmnq6paLzRWjZq9rmrr96Ur1kiJY0O+80Sx8tGzh58sbdI+UeLp6NkjRcqoFxq/qp5+tnaO7/J/nYZN1d8LlYyeATceYfIgLzseoAyUReLZ9RY8XaW29z3t8mzNeupvhUqk5BkQkFdg06uh2ZdfVWUqZfPlk6UqGTq202Q9r6ie17zVUL97vkGTFP53AW+6/AUPw8vwdPRM87rwm/tdw0vPvRCFBW48wtTDlhtA5Ikbz4XIBfc9Za1Rp5H62xPFozwCAu4UQZ9m11sQ9GlAfoVNr4Zmgz71vg/6NCAJQS9m11sQ9GLAXwX5FSjnVb2XW6g///UvtXjZMoOly79TZ89fUFu374gEy/wVK9X2nd+npOvR62N14uRJtf/wEZ1mhTp3+bI6d+686tqtp1eBVdUMeuPmz+qNtzpGz15p3kr9+9//Vm3fejd6Vv35F9VPN39SnTp3y/Fd/uddNR1HngE3HuF//vOfqnOXD1PiAepKnSXezZs3o7oLWr35jvf91q3b1A8//KDatH8rJc+AgLyCf/3P/6j1mzdHNLv3+33q/LkLWklXN+9Rjlc0Tdtpmr3eVh05elydOn1aLdFpDh49po4cP65atHkjJZ4A3oQP4VV5Bg/Dy/C0PIPX4Xl43/0u/1//8Uf1TLW60TPgxiPMb/jIMSnxRG7Z8W7+9ltUb8GQkaO871etWaN+uPKD+vzz4cHgDrhrCPo06NOAgoOgT1N5OejTgNtB0ItBLwbcP8ivQDqv7GcowN9+/1298FJzE7aZFk94/4GD1B9//KE+HTwkSoMgQaCs37jZO8v0VNln1IkTp9TS1euiZ4OHjVL/+Mc/1MxvZ0fPWrZ5S/2pnz1VpnIOYcH/f/75p9q1e59iZkueu/EI/7//9//Uj7/8oqrVrBc9B65QsdO58L0fOWas2r/3QBSeM3ue2rFzT0qcgID7BZu+Abx46vQZ9fnIcSbsGrNVa9VX165fV/PmL07hqcFDh6upU2dEYRvwJkZ927c6R8++mT7T8LJ8xzz75lvD8/C++13+J48N27arQsWzZ8TceITJ98cbN1XDV16Pnrtyy03nwve+s5ZXGAkVqz1vwsNHjVeXLl3WA5NaKfECAjJF0KdBnwYUHAR9mhV24Xsf9GlAHIJeDHox4P5BfgXeeQUuagXcqGmWcrOZiyWceMJRxA8VLpWSBtjM7uJbLTyYkSLOY0+V1cy4S61YtUodO3s2ijP566lqxerV5n+Xqfl/1779RkFOnDI98ry78QifOHla7T9wSO3Zuy9FyN2pUCHtH1qwSbhvv/5qytTpKXECAu4XbPoWQMNCo67ROWbceKOk3W0E8LaPvwXw6Ky586Lw4VOnDS/v2rPX8Db57dt/0PA8793v8v/nI0ar3377TQ27NZvri0f4spZFS5YsU/uPHFOPP5lVJldu+YxpG773lPO///yHqnvLePqo58dqxqy5qkT5Z1PiBQRkiqBPgz4NKDgI+jQr7ML3PujTgDgEvRj0YsD9g/wKpPOqYvXnDSpVr6M6vfuBYVz23RLHZq4XmrRU/9Txa9VrnJJPJmjT/m11/cYN9Wyt+qpC1drqwsWLqokWXCwDfaFRVn54sbt1723+d5ma/3n2dqfu6ketOJu2bOuNJ2HKyHLMiV9NjQSQK1T2HTgY1V1Q+NZeZTdf0KLtO+qKbhv7WUBAXgH03bZDl4iWX23VTh0/cdJsZeC9a3Re//ln9cGHfaNwpoBH4VX+h3fhYXgZnoa34XF4HZ4njvtd/ufZR736q39R5nadzGybG0/CZZ95Tp08c1ZNm/atOcPANYYkns3HoFSl+O0dDRq/kmO7RkDAnSDo06BPAwoOgj5N5eWgTwNuB0EvBr0YcP8gvwLpvIJRwA9Xr6o///yH2rb7e1WifJYn2Wauxs1bq//7v/+L0uPdnjN/sXkPNm7dbg6gk/c28IIjNDjMjoPuDh84ZA7F27R5mxoxYrQRAr/88quqWfclE99lav7nGQJi+sy56uzZs95ln3a47dvvmqWpCCLCrlBB0UvdBX37fRa9P6sF3oe9+xoMGjxcXbp0RY0bO9G8DwjIa2AZM4pbaPnnn35OmbFxjU7OAuCZhFluDe8I5LkLeBRehWfhXXgYXoan4W14HF6H54nvfpf/efZI0bJqxXerjCGNQe3GkzCGeMcuH6j/+q//Us1bvek1ttk2YfMxWKp52M5HeHnAZ5+ro8eOqXWbt6rHb5UxIOBOEfRp0KcBBQdBn6byctCnAbeDoBeDXgy4f5Bfgd82CKNu27ZNzZ+/0IRtJuW2BZYmM8tCmFmbdh07R4xnM60Pa7QyHzdhkhoyZKT6avJk82zgp0OMYBk8fKQ6c/acKlWxmnnuCgsRKvzPDBDKcrkOL127PlaoUL458xaacwie12V3hYqdzgXvEUjEOXb8hPpd///558MiAyIgIK/B5b+XmrY0s0Jdu/c0YdeYPXH8uBo4aFAU7tLtQ8PHX4z/ModcsAGPwqvwLLwLD/Mcnoa34XF4XeK73+V/nvE/8gYDYfWaNarVmx1S4rnpxk+cpC5fuqRavdUppXxuPBe8xxiHl1lS/uc//6mmTvs22jYREHA3EPRp0KcBBQcu/wV9mv0+6NOATBH0YtCLAfcP8nsgzrx67Y23zSF3/G8z31NlK6sTJ06amx98zJVOqHzY82N1QivWzZs2q6avZ92+wlLOCxcvqVNnzqpFi5ep/3wi64pQl+n5n2cSbtX6bXPbw9krV1Liuek4xI9zCLZv25FroSLvK1Z9Xp07d0ENHjoiR7yAgLwCl/+4bnfX93vNAZeEXaN09Kjx6vyFCzmMzji5IIBH4VV4Ft6V5djwNLwNj8PrEt/9Lv/zLHrPzPKNm2rH9p0p8dx0pSpUU2fPnFMXtMFtl8+N58J+zyzepi1bjOHuxgsIuBMEfZodz4X9PujTgPwAl/+CPs35PujTgHQIejE7ngv7fdCLAfcC8ivQZ16BGnUaqnXr16u9e/eZOC7zsd+fZY8zZ85TzzdsavYv12v4ipo2fba6fOUHVVWnl7guar3YRP32xx86/VVV0brW98iRo6ZxO3bpFj1zv8v/PJMwGDF6jFmqbcfzCYuqtRuoa9eu5RAqudmLzJLQC9owqdOgSfQsHKQXkJcAfdtndLBf/+rVq2rsuC/N+xzGa6Xq2hjfY2bAUPLwMjy9ePFSdfLUqSieD/AqP3hXnsHT8DY8Dq/Lc/e7/M8zCQMUNrxsx/MZ0cgfDB5+bjybj0HcGR3Vnm+grl+/Hp0NwrNwwGzAnSLo06BPAwoOgj5N5eWgTwNuB0EvBr0YcP8gvwJ95pXB5ctq84bNqs6LWUs2vUxaq765WeX42XPq7Llzas/u79WChYtUlefqR8rLh2Jlsq4yPXT4iHrCutKXq4G5ntS+pcX9Lv/zTMIAb/e+/QdS4vnKi5e9Z+9+OYRKur3Idj7sgf5ywmQzmyUza+EK04C8BPeMjjOnzxgahU947zNeMUj7DhhkbjjCwD6j+R/eLnvLUI0DvArPwrvRM83T8DY8Dq/Lc/e7/M8zCQOWXnMLkh3PV14wcNBQY0xImHiZnNEh8ZlB/2TQ4OhsEJ6Fq70D7hRBnwZ9GlBwEPRpKi8HfRpwOwh6MejFgPsH+RUo51VAQEBAQEBAQEBAQEBAQEBAQMGA/ILzKiAgICAgICAgICAgICAgICAgz0F+wXkVEBAQEBAQEBAQEBAQEBAQEJDnIL/gvAoICAgICAgICAgICAgICAgIyHOQX3BeBQQEBAQEBAQEBAQEBAQEBATkOcgvOK8CAgICAgICAgICAgICAgICAvIc5BecVwEBAQEBAQEBAQEBAQEBAQEBeQ7yC86rgICAgICAgICAgICAgICAgIA8B/kF51VAQEBAQEBAQEBAQEBAQEBAQJ6D/ILzKiAgICAgICAgICAgICAgICAgz0F+wXkVEBAQEBAQEBAQEBAQEBAQEJDnIL/gvAoICAgICAgICAgICAgICAgIyHOQX3BeBQQEBAQEBAQEBAQEBAQEBATkOcgvOK8CAgICAgICAgICAgICAgICAvIc5BecVwEBAQEBAQEBAQEBAQEBAQEBeQ7yC86rgICAgICAgICAgICAgICAgIA8B/kF51VAQEBAQEBAQEBAQEBAQEBAQJ6D/ILzKiAgICAgICAgICAgICAgICAgz0F+wXkVEBAQEBAQEBAQEBAQEHCv8Xgx9VDZEqpwg1KqaL+yqtKcSqrQrrLqiYNZKLG7vCq9pLwq9Xk59UizUurxZ0qp/yhU3J9XQMADAvkF51VAQEBAQEBAQEBAQEBAwD3E34qUUCV6l1OFv8tyUonDKgnFNpRXVUdXUk/ULuXNMyDgQYD8gvMqICAgICAgICAgICAgIOAe4D+eKK4ea1pSPbnJ76DKBGZ1Vq+S6u+lS3i/ERBQkCG/4LwKCAgICAgICAgICAgICLjL+M8ixdRjw0unbA28ExSdWU49XD44sAIeLMgvOK8CAgICAgICAgICAgICAu4icFw9/klJrxPqTlB6VvngwAp4oCC/4LwKCAgICAgICAgICAgICLiLeHRoKa/z6W7gqdll1UNlw0HuAQ8G5BecVwEBAQEBAQEBAQEBAQEBdwmPNil117YKxqF479LebwcEFDTILzivAgICAgICAgICAgICAgLuEgpvKOd1ON1NcGNhkZfDLYQBBR/yC86rgICAgICAgICAgAKIv5corv7+XIkUpNtq9NDTqfH/Xq2E+o/C/riA+H+rX0IV7lpSlRpZNkLxz8qov79SQj1WuaT6jyf8acF/PKXLaX/PwaOVS6iHS5f0pvXVLwmUVdK69Xyoegn1n0/m/Ab42zM5vyPvqNvfq8SX46EaJdQjlXTeRXLmGwdzyPdzpdSjbUuktCngGe+ouy+tIEc/OqBcD1co6S0Xz3xp8hR0myfR1f3EU91Le51N9wKPzysTS7cBAQUF8gvOq4CAgICAgICAgIACiGKtSqtC28umoMiMsonX7Zcc7MRfUlY9bDl9BDg4nv2ggiq8Wg+i9+UcVAueWl9OFRpZWj30dGp6AY4v+3suiur0Ty4vp54Yp/NwHG+++iWBuklat55Pri1rHFh2/oLHvs75HXn3n08VU4Vmxpej8Fbdhjrv4t+WVaXeKp+Srw+PNiyunphRWj21o7y3PQHvCs8pa+L68gBu/VxQrifX6HbV33qkeurqnUee1XXypMlT0G1O29vlzguAtwot9/fbvUDJreVVoRph9VVAwYb8gvMqICAgICAgICAgoACi+Jv+FSDcgOaLD1jdY8fF8fJwxVSnDjedFZ+aGi8dCq0rqx6tlfO7f3uxhDe+D0+uKmtWQUnauPrFgbpJWreeOERY0SPvbTw6M+d35B0OlMcXZl6OwuPKmNVmdv4mnyLFVZFOZbxpklCkezmT1s3PrV86PNIsOw+cV744eQm0eZ50XtUucc/PunLBqkdfWQICCgrkF5xXAQEBAQEBAQEBAQUQSc6dxzv5V2ukc16x+ombzuw4mQIH1hO1U7+bG+cVeHJh9i1r+dF5xSq1JzuXSckf4LgqtMcTPw1IU7xXzvxy67zCMYhTkrTBeXX7KNoxfsXcvQL86CtLQEBBgfyC8yogICAgICAgICCgACLJuVNkSzn1eP2cDqx0zqvyAyulvBeU2KIH7YvLGEfP4/NLq6Lryqkn93sOrV5eRv2tdPb3fM6rQl+WUYU/LZ21Xc+zioWztEibV51XlJnyg8d1m7jbKqutraz+44nslU5mq6D1XsCB3IW/K6sem63bQoP/eeaLW7RRal+69WN7Wamh5aJ29R0o/kizrDyC8+r2UXKCv7z3Grk5Uy0g7+JvT5Yw27QfqZJ6xhtbmpHDD2o/yy84rwICAgICAgICAgIKINI5d1gJ5Z5FleS8YtWUz3nCFsJC1UqpvxXPyoMB1iOVSqoyAz2Oln1l1aOts51EPucVz+T9w2+VzPG+yEdZK40erVhKPfZOiQhPrMy57S7lfb1sB8+9dF4VWZz9/m8lS2Q5sKz34OGKWc6rvxcroZ6cldOR9OSmsqpos9Lq72VLmIPJzcHw+n+e8c6NX3Ju+ZRD3JP6ETzapFQOx2Cpz8uZdw/pMpM+LwGHn13WvOq8ou/tcv5VwOHoK09A/kDxxuVVjQGV1BPzNK+u1thULutst1uQs/OYGCg0XKNhmRQHeEGH/Aqc8+rx54t7Bd7twJd/wO0Dg8HXzi6SDp8UEMeX1sXDVfxGyL3Ck63K3PNyxLUjN5vY8f5Wspgq0S9neTjA075tJyAgICA3QP5inOcGJReWV6UG6UFs1VLe26FYhfHkpDLetEmoPLmSevhV/21ZAg7PJQ5xfQa/DxyGTHnts3V8QLYXfr+MKjOlfEZnnJh8R1ZQf6sdf0tWmeYVvHVNQrF55VTxgXrwG9O+4LFnSnnLlBHGZesX2vqhOiVUkd7lVKU5ldLWu8bMylba4urv9UqYslJmdzDqotCE1K1Qhd7ynwfEtqm/1y1h9F6hJTFxdDn/ViTGMfG8rs8WzwohjWrTKpo4hevndKBkiqq9svK4H8hkZVLVCRVTzmDCVrDfR06Px3X7jsiZX7FZqU4TFyWhTWflUcUllaL36ZxXOJQYvNnvSw7PcrK4SHIyuchRzx16sNiklKmrC250s+MCySed8wpUGVkx5T0QZwM3B7qHs0OvRV7OuSpOgBPRlwbelDix/XjrPf/zzI5DGnmf10Cb2mXNK84r41QsVdy0J6tjii7UfWE5Hf4qPNH01s2c2sZn9Y6vrHcTtg5KQuHOmdHUo+VKqRJal/rycCF0WqxTae/73KDYTM0Xz2gZ1Ebzg+d9puB21cINSqW9zdUG9smjrUqqmvOSdWEc2Or76KtZ9kRS+TPh68fqlTTbT33pAXT9VOv0F07cK8ivwDmvcrt8OAm+/ANuH2bGy9POLljK7Etvgzi+tC5s4+evAEux73U54toRg82O5zNKAAoubmYxwI/C1bRy0woSuqOdBcx8lGpfTj2iFa4vXUHEo2VKq+KvlTHtIVsiQOmOWnFr+ctM8u3MBD1WTQ9oPfmSZ9HXc64MyC2k3CW7ZW/l4Fs8450vTUBO0LePT/U7BzJBiU3ljePGzZdVGEm3laXD46NLeR1Yj1YsqYrN8az8yBDFlpUzebj5As4L8q1+yAg7tbH8Qk65gQOA1RPeNBmA9vXlC3AE+dJkAjHGKd8TE/zbuOKA45C08PDj83N3pg8ON7sOcQ4muSqegSOz0744T42ON7pxUPnS0L+P1GLVS3FVdLL/2+mAgy7JsXOvkZFdrHmvWJ9sR2Gc0+Oh4iVV4cU526FQ1WQZinOarYJuOpHr6ZxXD79UKod8KPSen87vxHnFFsenNpQz9XXho1vJJ53zCtnEagn7PRDn1aNtPXZdr/QHcBfp4KTReOrdp6P3cf0o7338kskg936BNrXLer+dV/B1hfcqmO2chZZltS/t+Viz1O1efxWKLShnbuZk1Q6rd6p9XNEs6vCV/W7A7oskFFqixx0ZyMAntB3g3WbsgfAXtpzvfW4g46JMx6lJYFVqqYXlc2zh9YEbPgvP9+eTGwgfJJXflkc+IIvNeYSetAJWj/5n8funy+QXnFcJ8OV/J/j7U8XVw/VLGIXsgpspfGkKEjIWCkvKqL8lCLmkmVUXtK0vj3uFOCF6N8vxoDivivfUClgL2zhw7XbcCgPwUKUSquiM5DxA3DLr/3iyuHrkxVKq9KzMBpI4b+z0zOIwm+P7ZhK/F+pa0psGPDPaWsGgFdWT4+98xintMvPHNc1VKqmeaFc6VzNDlUZVMLzqzVPDzFRWKa6e7F5KPbcgs3wZBFYcWVH9rVgGylOXm9nHTMttDh/WceWw2iQUfSX9CiF30O2CAYIvXV5f9v9oDU2fMQ6ETMF5IHaeOAZYheGLmylwprh8hcOFWUlf/Nzg8ddzHoT82Lt3bmu47QAebnDnt1Qhs3LkW0UPCm7T0Vasf1b9GYAXGZ27vi+8Isvx9Z/l9MDEs50rCaUGp9aD1cW+eKDoK1n6j3OQfO9xfOAAsfMz0HLiqQ8S+rJbVpo7oXtW5uX47l8In11ca2ZlrzOmaNvyRjbHOT18dgUr6HzfdeGbdCzWMKuPsZHcdw91KWme49hx+bjw3nLqoRf8svpOnFe5heTjc16ZWxF1+QFnhLlbLaEnSV+y99Mp76DXv+nxgryPw8M1ddtsT6VL2/nk1g/HHCvLsAHJ33dbZJFu8e11v4GOtMt6v5xXyNOnPo6XZ0LXfzXi9F3RGdq2aJy8Qvl24PuWD+bctgbJNlFu7QBogXR5zXllo/A7bOvz1VXLqVf9Z9zdDu7UecWK6CfHJOtnY5e8eH91mfyC8yoBvvzvBEXGlYn1KGMI+9IUJGQqFIptKq8erxIv5B6vWsrE8aV1cTedRpkgOK/uHtIZlSjph8onODm1YZbJSo44Z0HJftrI+96fxgdkj52eNqatfXHj6IEtAnEDVwaejz+fzRc+Y/l2kM5ZUqRNefXUutyvBHlyeTn1cOn4mWOUeqHbGUwvKpOR86rwW2VUkVW5H2xCV0XSLIvORM+4251cuEa4IK87r3Ao+MqdG0Djdp7FX/PHyy0Y5EqeGMJ3stLIhpwBI0ji09zAZ0w+OeXulDlHvj398dKBATaOG/LAkeOLkwTZzl7ys9zxItuhHrdupMMBhiPMFxdnHf1NvKL9/HGeXF/WTChIfoK/62eFNvjTMLCXwR4OPF+cdEBu/9XHF7jwyauSHbQ96hmsIJOZVMiN86r0qMycVz77SPQmOtF9l4RCi3Q5i/nbNa84r9LhsTbZ9O2WI1M7jS1irLSx05KXvHfzZQxitkZim3jsI5vf8yLut/MKeYAcTDcR4E5m/lXwlUWAzio8qXSutrSlg+87cag4oYI3DwETEL50ccgPziuRp25djeNqpz/N7eBOnVeZ3HKaF/wU8gvOqwT48r8d/Eeh4qrYR/GGT6GJZe66NzwvIjdC4e+N4pV27MyqB8F5lTNeQXFeoYjtsx1cFO6a2fkkrrOArSel+ufe6VG4SaqzIrfOq4cqlFSFV/u/y6yVe6X5PXdePZ7lAPKlyQRxRiUzTjiufGkyAVsvkuQlM0ilBuS+/1wU65m1Dcn3jUz0TLpBa350XmH0+soMCi/Sgx4tgwRso4gzzmosy15B+LendJ4L/fEeu3VrmY04HgEPN8nmERwf7nkwBgzYlufMN2lV0FPvZzszk8qLTHpsdmrej8/RRmGMo8t1isWdqUR6O0/w2Fydb4xznfh2vmzXiDtbiq0u8GocHhvOCtfihq+eSNjeUGSt7hfdX256zpjCyeBLY6D7o/BqTxmcbaBsPfSlx+B+pGF2v9eY+4w3XvFv/Tdxxa0kswcdiXS/pFzOslt4dGiq3L4f8MkrnsVtE2H1g7siJ8l5xXlvvu+6YJu9nQ6I3szUeWUGWJr/kraRwx9uOl88cD+cV8ZBpOnCpkdkQUqcHeXUIxnYacQhrp3WPgsst/UTfre/kZdwP51XyNFMV55W+aKisaF8+dwrsD3QVxYXZkVgwpmLuYEv/yRwuYIvn/8orMc2Wlf60sQhPzivAGdn2nXlHE1fvDuB8MHtOK/ibjm1wdZGzubypf8rIb8HynlFp+YGvvxvB4/Uj5+lZcYwLxDEXwHa1NcGPiQtW46bWfWhIDqv/l45qy1dPNIs1eAo6M4rkEQnz0zLbPmx6yxgIJRuBsKsztGKwDak3Hxy67ziWnBfXFC8d84Zj3vtvGKr4O2suBLgvPAZRwwIb2vF1S0wMHHztFGke7m0/ZcJyOOpdv5BWaaTJGwr8KUHrhEuyMvOKw7t9pXZnOnjrIKg740DyxPf3i7H4d2+/opz/nGNuxsX4Kji0GOJF7dC7LGFqVf0C5Chvvjudoe48gJuRHMHfg+XLKmeXOof8MiV9IB0cWcqFR+YfYaNIMmZ5G5H5LBwXzzkGIcMI0ticWuA/UjlkqrIOn/5GNBxqxy3zLnpScu5cr50gHOWuEDETec6mjj03ZceRwYOReLgKHO3ZgnKvptTVxRrEV+uJ98rG8mvOLrHfnuohKfsNjwOs78acc4r3nFAb7pVJECcV75jG7Bv4w7CFyAfcHDb6QA32vE+U+cV5Xj0meSVQXfivIJ+nv6SSxWyVjDZ8LWT5ENfZ6qPSwzLqVcKdUqVa2aXhnUbYxx8ZwTZZ4FRbvtdHJCfnJ+VF+g1Ca7e/KucVziuCk9O/XYSCi3/6wf7nG/lK4sXMWcu5hbevJOgZakvH24pLbEld/amOGPyuvMK3pJ6Gjqa44/nAruK8S4LNpCPgIUdj71Zwuh4269wu84rJmaejJmMs8HZXG7a+wH5PVDOK1/8ew3OT8FA9JWHpeosWfelux1gaEUGk8a9mj1xv+OL40NuhILvLBBB5akVvGl8yK3TyMwwW3XzDb6TkKnzKuU7RfWzezBD8yA4r+zbimzQvu5KgzgHsussiDvjigFrtXGVzA0/dvxHni6lqvbJWY5MnVfQGAMlXzxQZJruL88ZcNBOnLFMXXmXCeJmsB9/I35gZ7b0TM06XB2ZC+RAewY2JbeWV09N8fNw0oo4ZqTJw5cv2xDpg6qD4m/tSjeDxOCDvDi0HVAHvumLK/CdXZWkZ1zELdHPb86rR7Wu4rwUX5l9Z/rgkGBFTY74+7TRbJ095DtzBcRtu8SR44tfcvbTkQMt6VY93+1dyIs4vpczmyRuXHndeIK4M6zY0sqZbBIv7kwlDHoMeztPgLOoqM+ZpNuXw+8l3kPlSqonV+aMx4C3aJfM7aI4eVZq+9PqyeeSHcrwsJsO0C6++C5KtUrg0VtnUgHOovPG0XDl3ENltNHuOUAcFP4qm/Yybee8DJ+84pm8f6Jzenkmzivi+86uKvlxObN6QvJ08XjznJO4nEUo79GJ9juA87/mDM9KujQHmd+J8yrJPkrK16ePWWHKCl7fCkl3MMj5XZzjZcfBvvHpfgHv3DOC3LPA3PpxmHhxLa9FvwL4Jp3zMa/gfjivcOjl9qw/aB3Z78vvXuDvJYurQkvj5Z8PjE3jLiPJFL58k1BkdTltM+f8ZtEe6WWQi0ycV0XWaNn0diq9+1CsVWnDT0njVPjZTVe6Q1lV9Bt/fBtcSERZizQuHTvBIjBycnSZRN4H8CznNTLJLHyQG+cVdk+xoX57KoLWc09+mJme/isgv+C8ygAsxXQJ1kbRFv5bjiC8otP9ZQGPNNPE7HFasKzS9x3gOwQQ737hXmXMLLcMSAHbF8p/ViHjA9bivitGX9x3zLkiddML6Tim8g0G4oxa38wqBn/cADRT5xVtRFvRZnbdqCt1xkHhS+cinfMKx0eO7yzQ39FGUYk2mW0fjesnd1BWEJ1XPkewz/nyZPWc9IBD1H0GbGcBtwr64gAcV6x2sL+ThEydV0krkahvnPMjyXmFkuJ9JvDlDSpP8a9cgzcLvRa/tcDMzNcoFXvTijkY3ZOvmfltGi+rOD+Lq/BxUPnewztPzEgwgFZqPq6VSvfU4XFWxibcsFJ4IiswUr8Jv/niehEz05jfnFc4OnxnNsatkIq9PXB59sonZFaO97fgcxrC6+4AWICDQ+LFnXWFrrHzEySduVWid3aapPLK2U4uSg3366YSvXV5Lf0ft1Ks6piKXqdAXH/Y7Qvi+iFuEBGHOHnGYdEcGu1LI4jTi64x7QN8zZY/X3rko60zn+zj/w6OSTtPUKKP/wxSZMFD1sqeTNs5L8Mnr3gm740c/CR5m73tvHqylYe/dut26urvT1a4eW20dtll8DmvePao1iMuz5twgl2bV5xX0DcXvxTWA1H7OWD1hT04ZQVk4WWeeFN0PM8KHuwCJrZyxNd5kJfEc+tn92N+hKs3afMkO+Zu4HbO+gPIfl9+9wKZ7BjwgZt472SFmC/PJBhZ6jj9jRNG23+++EkQ/ZHkvMotfeR25RIwOipmUkvA6mPixq4gvgVk2yOtcq7gjoW2IdglUfSjLJs/N+XPZNKCler/cY/5KzeQX3BeZQD2pxb+zp+nAMXvOh7Y6uOLy8xI0Q/8Qi1ppRbLPO0rxh+uUjLjw3Mx3v72fInEmbE4oi/VuYxZ2u97Z4PZyr89Hc9wcfmXGaDTeq629l3v6ptZpW/i+ifJeUVb0CZxM+4uaGva3JeXIE6Isp0knXAD9P1jr5WIPWsHxLUjhpUdryA6r3jmGrLM6rtp3Zl+0hQf4u9n21kQt0LAwFlxlQ6ZOK9YKRJHF1x5/0TV+G/6jGVBnJLNDVwjUQCvPVT29ukn7uwdzsth25EvTSZgy1icAcTACcekLx2gb126stM+Uj21vnF6xpcHq5VYtWSnB3HtmxedVwyyYs9M8qyQQhfG6bHCPbL4FfmLY8YXB1nr5skKRW4Y9cWvMSd7BQeONN/2Hgx7+2wkAbL28Xl+/Ubfy4oEyht3Jgffc/MFcSvAoBN7pQMDUV884FspltQf0r4gqR/YYmLnmQ5x8iwTfRLHL5TNF99G7O2LzsonzhblfLEc8TSKdkylJ1a9+OKBsu2yt2ginzNp57yOdM4rAA0Wn+dxMN2C6/SoNs3Pu9xq9kTn7FsCy46u4F1p4K48jHNeMYjzOaOTrmzPS84r3uF0T+e8A3FOEmhQtg8B/o/Vo9ZKRBCcV3cGdscUjllxnAniJtvuJpDzmY5jfHi01e2vvvLllw6sFrSdM0m3yCZB+Ot+O68Ass6XRoC8zeRMsjs9IzHT8nP5k89OsoE9nWQ33w/ILzivMgQOrFin0i3YBx1yuHLc0sAnx+pBWtGcAi3dSi37yk0MrFwL1N1ZS7vd7wriiL7IJv0d3wy6DyvLeFfCJOVftms5syXIfc4sqpuHb2aV1VFxZ6skOa9oC9rEly4OtLlt3LqIE6JxA2MfGGQxU+fLHzzozit3BRVbv9xZCndbA2l8+YGUlVcx/ZfJIMtFJs6rx0f4B1sg7opdwf1yXrEF4m8JB+Wngy9PUHizpstbS6tvB2xdc/MUFHornp8EbEXxpQX2LXYgTs/4Vvcx0+jbnhXXvnnRecVA3VdW4FshVb6jfyk6Ay5ZbRB3xgWy0ncRw2OVS6qnnFu1BA+/ll2G2OvLrbORbLCaL27G+snu2fkmnsnhDEIFTEbB6y7+Xju1fnFnKsWtFIvrD7t9Aat5ffFA3IrOODxWvZQqttXTX3fgvAK++Dbibl9kSypbUyUejpAinm2qrvOZ9ok7c4QtFBIPPPmh/9tuO+d1+NqfZ248thDFOUVcpwerWNMNfpLALbb2ykP4wo3DM95BqznKlbCdJa85rwA3C9rvgDs4xAmR2+1pNkjrTqIH59WdIVafZAjOE8qtrM0tnv0g86NUfIibfMkEvvwyATcLkh45WmiJP046CH/lBecVl8X40ghYeBG3MliAU8/l39wik/IzcZZ08U2EGLvmfkJ+D5TzCoGdKXzOpXQrsDC6We6XdAAmBBPn3IlbqYWSLjnQ2hLxWulcOUNccBOXb/tTEtHnBjhefCuH4vIv2b6MKjY1JyPhkLIH7/zvc1JV6FbBa1QAMX5s3OltZLQ9feDmC5KEaG6R23Z8UJxXT72bOjA2M7jls2eOWL3DKh47DmnuxHmVpLTikM559ahWdl4+1vzOSkdfnjbutfMqbnufAGcRg0L3oO50KJYwu88ApfjbT6vHq5TMdb7ceOXLs9jG8urxZ9PPZj2k6+JbAQrcM/ji9AznefmWhfsGu/SRGw/kNecVW6PYIuUrq29bRNJtfE/2zG7Hp4bE0MEMbWx6DLg456J91hRt7IsDcOS4eQJWhvjiu1dclxnid8i5K0hyi7izxOJWinFhh+9mRNdJmtQPAPqLQ1HPNe+x+kTLMNcZ56JY2/gBoC++IOnsMg6ht+NSBp88ZWBk857PiQDKLtd2hHX+SxLdw8++dhM89UbOlYP3E5k6r8CjLbV94ZnU8zk92A6YWwcWffTkOzn7Pcl5BZ7srPvCM4nqO7MnLzqvzLEbngsWWPVp23nIMt92wHTgMHGfQzU4r24fSSsvcwPfzpy7hUKNSvlX9eUSvgstMoEvL8AOI/cMNxusYmY1M5ehJJ0BlVQ34a+84Lwq1TfZgfhwRf/4NYKWbXfjDMV05UfW+LYxuyj+bfYZonkJ8nugnFcI7UzxeCt/p6VbgWUcGzHnp6DkWarny5fVPHEMbC+PZp//7ewNtoFRXKRTTkP+bjmvOKyZM28yzZ8+q9A958AAR+Hfre1JD5X3t/1jtUrkynlF3eNm2jMFfeDbznE3nVeUkS2E7jcedOdV4bqpBx66B5RywK65tv3We+KSJi85r1jJE7dysuqEihntMU9yXiGHqEs6cHaJL2+QdLC6AMOCG6Q4FyjT5cXFByYbWgzCi23KzjfO2e/CN3A1YHCQwVllvlu0BBzUaceN0zPQWNyV/u5g2zXCBXnNeRV3ZhLt7TuQ9rHX/SuZ0H9yNlbS2VXPjKho2tcGK5Pi4ttnTSXdqud1iNWON5zZoiiTJ9B2XDw5u4rVnw9XLG76LwkuPcedqVRUy4fSnbL0o6B0R/3O47gy8VeWV4+Wy9ZJSbciJgGe5vB4u4wgTp8An561gY72pQO++ID25Lw5XxqfMzhu2wZnTEoc2j5uMOSe0celAj66TwebzvMKDA855eSZLy4DSrMq3YlP3/ucHqzAittC6IKVBdy+zRZPN590zqs4Z6JvkJUXnVcmvedCEZ+dZ5zwvUrG6zQLJo6O63NcAbd+cf2YX+DqzXvpvCr15p2NtWw8Ptp/NvKdAP2VW+dxHDhX8HbK58sLFF1fTucZb+vJRSQVJyQ7fZKcQsJf2LK+9wY7sxZCwLtJEL18O84r+iHJyYb9wTl0hZb534PC6/Q4ptKd82W68nODdiZ2wZ0e5H+vIL8HynmVG0AAvvxBJmdguUDBxG03S1p+zQBXmCrdTCoEWWRFOSPMCy8pl1aouUtZk4geMMNdaHhpVeKzsmalVJITrWTvnHWNy58+K1QnZ78xgGUFhqT3zaxSBt4hfOznAteops6+eAIzGNdtRxsykE1kcs82lEQhegvGscLKoEVlvNscbPiM9Lh2pA3seAXVeeW7sh1Hi6Rz6YT2xqHlyw8woIy++U68AvJtj0pCkvMqzgFuDgt2BrdxSHJeZQraxJc3SDpI3gcG91wxzjYs34pBAed4mfO8PHn4kEm+GF2+tIAtpL40PsTJEWDHi9MztCcyBlnpvnMPyHaNcIFNj/cbOBBib+GjPs1KGRkrSNq6KQff4xCKO7sqV9in8xyX7XylbWljN57vgFjAALrqaP+lBMZRdeuMu6Tyon/k7KrYs5kcsKVSyoBsvxsz++gtVsFIviCTMxa9iFn59nAFbaes8cTXcPWsC2jalw7E0TurOuMGBGzlceOXGhkzyLnVj8iOquNyOlmgDw5vt/NKovt08F3wcL9BG9iTFsZOudUucXhaDxpT0vTIuo3LFxcUb1lOFflK6zBtN2F3CLCVGTymu5DG2NX29zR4ZsdhwtCNU+yTnAMtju1w49nvbTCBY8dja49rGwuS8jU6qFvq+7jzOO04cfEAtgDO18fn63Jp2SZtyv884106e8GtX7p+zOv4K51XVUZm5pTNFKzAupPD0W1we2eSwyS3MHbybTgsfHkB6LT4K+VjJ31Aui2yxfqXSeuMoQzQte99biB6KOl72O22vQM4WiBdP7DiPGnyB8DPt+M8dJFU/kxsDRYDFHsr/mic+w35BedVDCAAX/6CdCuwciDmal8M37iZVBji8RezDYyk2ySMZ7deCfVwmZJGkD9UQv9fpYR6+osEr/a4VIWZKCS0kLEVOsYZN4PFGpezcw6K4/Knz8jPZSyMysdeyi6jb2YVg9W8y9B5FXe2CODAeWacaTvakJUYDJjjjFj6wt3WkSREGdg89m5p40hha9vfihU3203YxpAk/NyDYePa8UFxXv1NG15POCtkbHrLQSe3DgLPxHnFrZK+OIDz6HJj9CU5r+JQ/MPsVQLpcK+dVwzaOXfLly4J8AXLku0Dqe9mvr48kwbH8KQvjQ93w3nFe98BpMgztkRKHvnBeZV0C19uwflP5Jlbp2gc2Fr7/9s7Ey9Jaivd/y3QtWblVrkvtTW90aY9mM3YDIONwT4Y5mGzeFgM2MYeMBizDIt78ACDwRjobpZuYBowpo3xcN5h5vEn6elTtiqViitFZFVWVVbWF+f8DnSGQpkVEZKuPl3d63oohjyYQln1pg/WTJw1vzzAFkFbLvZ7kd7blgvFZnLBOO0aqCFPsWHAApdrJ4BYVsQ0QgGGpX7Xgngf0jWWWPsMve+hWDMhzyZpMQ33254P2U/FD1pqujX4N2/mvR92kWPSgN0E28MC73nrwUg2BvoMxHez9xT/P4qJ7m5ku8Qr3F8ICu53jQJsHUXCCOk7swAvQ8RKzbJQMgxZssZKSHUBzD3wroa25aeBORHmY9F56TaLVxvBhApa1vPKSFgKAKHUva8bZbO/389WOm7Yg+JVALwAUv0uWT2wSi93xL2j2MpSfC5i8HpZQxaflUWU5pml9YmBROvhrmzUe7GCQi995VxX5QIGWUgMsp2KS6h+PDOcl1Lzux5c0sqqDaScRbzC34q/WSqX/708KQa4t6GJJp6JWzbUiWL1wV8Zd4luB/W2PYXu414Rr3AOK7z+udnzW2Y6xwfvI8qG6gP+5MlkSxLKAXgzYEvsTLMnEhuheFUblN9sqOLNg+/8RsQrkNWw2WrxyjJ77ZBC/XnSUuwiYG+oPcaQEl7EJsc7IV4ByfPVFS/GXbyCp0ooC98wQDAo3e3EbLxlc3W2f9JNiMi4p6F39ODPVwfKWkIxtPB7sWhhy0GgEsvp52tjYi3o8lIZF4zBAzGpIjGVsnD0tTVV/VYytlIsi6MRunSfEaLwTHiMivU3afYSvEOk68D8kaShHPWQ9hbdAOqQypawpVOfx/sivR+YAPrb/2PvPTxj/XvmUv9Fen9KCNk42yVeIaPysDtshgHi/DAxQyFYYgv/RmyxrPiL/VmQ6gFWvIolRIly3gM4NN8B2y1e4fsyBTo/D8ZbO76kzQeGsVNjxH4/wl+EwpVYjJPFPw7vgbdd2IPiVYA0Y8ySxQNLypoHYrGXkPXGX1kJKe2NG5JBc11C2yn8WEGhlx7pp6UYBaBypSy42E7FJVS/Fa/ydyZXi12PGl/cwb+RHh/nsohXxaNN1fgiGVsrtJLrIsUqAHgmbrlQJ+qu5Ico3Zq8DhQ/1r/PCQgcuo97SbxqCvdq+c6e19Kx0xcNfI6yofqALxbMXh2PNYGYbsiOaScs2KtutjB5g09ssIr1GVmz02yXeAUg4EJ0SHOPHkDfEwTZleoz5HS9+r3O4nbtgn7Lj0kYE68OPpp9RWuU4hXST0tl7KLEuItXGzY6PZAcw4rv8MYb6h2SeD7pXh9KMQ+kbRr4HaE27gZQRrnQooKNiQWv4VBsJhffAywUSywzX+p35fKk0B3KiogFlNI1+m/T/UaQQrjfwflQf5PFXpKuA5UbkvZRzEN6biX5NzduTr5TeL42a2Xu6UB9gkd86L1HfRgbEvfMgR5GhGwt2yVeheznUYKxELE9sf2z/J2Gmq73+1GMcfnLGmZLKUIfILvqpsaLDGyFeIWFxoW3h1+ksfFYQ/MdsCPi1eXZ4k4jDqDryRbK1msZxk6Nkfb7g4miHDAnzhq+ZLuxx54Sr/ByZsU3jkNgRS8tNoIxevRExr0OwUGlsqB6anCLHkCnJpVF3W65EOj8pOunrnEaV0ZRxAX3SrrGdiouofqteAUhTcpOYdR3YWXVDeieRbzC3yqVWXw52z30RRGLO+CInagecPZd1i8TIuRW6otNWZ/TJItX0kq+CcrYSd5/2wlnFa8wGZ1/MtyPhBhGvMI2m9gKCMTrtLgpMNhCk0mssKBdpZE7li6S+cCoyP2hpcp/6YgenS4Q6aQ6JOC5hnqReS2tXvS5/vVSOYD3Isukcl9Rt6tTch2Y+Ltlce+kcq54FVy5/aBlvG58I9ziv487BeKMSb8vCxiX8h/ovtUJpg4QgF8qD2PJfS9XkPo7tJ3+s46adRYbYh5MUmwkiKYIsi6VB+ueOJFyeB9svwIbAFu70f6LT0T6DcdjCG07JGAffXx14F5gq2z+f+SyfhZMEMriWD+Z9FgbBozDoW00bszBENJ1AH+jWy602AYav0m2ezynA08nPc2sfTB3TBZMsX1HEjaD21wCscBI793AQiJi3uGdRN8GkAG2/Et9ry9vRGP94L3EeBkDCx2hRVTx+sC7jv7CLQe7y42lOLPfqQMc0t9bzN5uMEkduP5AL86fPe9/Pya4UnbzEP7v83+/BO69e03W6/Bc/eum9PejzUnlATyEBsrj/hXkshvBHzd3s3iFcQ82DwQqCFV+/4IxpnZT1+weKJ3tivOjUbIV4hXKIM6jVCbEkRP9BDlpYgzKbKd4hbF74bh83gLbyf5+S9r7lNVOTSPL788/LZ93CWW732nssafEK6n8ZkBHg1Vg6bt8YMwj2COuQ3BJpGWWysGglaL8DyMSSYQaN150WyarKOIySvEKwQLdLHEWrEhIK6tuY88iXoW+HwHobZkY/nY0izvZlO5zVrEoq9iU9TlNsngF/Mkf/t26Y/A9ccWTrOIVQNtGcE2pfIhhxCu8l6krILeH2x2IiVdZ+4WNggEQsdsQCDs0CbcMs4KDeue0cZylXj+mVqi8K3LHwOQolECheWZ48SoofnyljbpvNswzSpzTSO/jdoNgzqFAq8gOhD4oBN5tJE3wJ6tYkJEC2QN4qbllQSiFtt9/hTyYIFhgW4ZbJzDPObBd1RVFY+VCnrQISi2VB67HUCymkj/pxsR5/qRc7+qJwS2RaGuhPiXNQzsLoXF24L0PIF0HfPEqGLtMP08pC+J0ta4Kp5PlDzyzYuyDUCY8aXt27L0PxQLb65h2/WIz6o2Ae1p/q5vI6GiB9x3adQz0zUiwIGW1la6XPPpA7ubeuGwpahsJQo49X3l9sJ7C5/rZfzd9/AAQvuFd4V6f123GFVcS3/9FR1V/FvFQdkD7Ln7q1I3rvd8vga3T7jUAC6V+zFYfjEWJ6zCeQsASyoP6bwbLl84M7hzYLP64uVXi1VZvGzRBvA8gHly2fmW2XVdzVzU3nEgiC1slXsGeTrPnXGau77+XsCmkMsDauTHxCovE2NXj2yk+VjjE/0v1APt9sG1ifw/6O387etr7lNVOTSPT76/UTOZXqYwF3sdStvudxh4UrzbBzC3DTW5hVJZubIazAH0ZHiRDIhEakFTeB1kCpettzCgQeum3S7wygoGwspt/qimurLrbMbOIV6FU2rg3tkwMTBSk693Jpihe6eeOyZxblwRW1GCYJK7XBgDFqx7uJKnx2OCEBR4Z3VcGV3hQJlYfiIkFiFOGrJJp26fMhMfxrABp4lXaCo5ZlTsWNi53UrxywZbC2EAeu78x5lfravEvYUPNr7f1jFwW7Q+Z4NyyEuWrWsGJa/WRwclFJvFKE9omh5U5bIn2PwcbvV+jIhYzCffSFw2zEtpGaWIvCpMbKbssKDtZkWJGcSjrW+h3oI27k7mFH8rP2Kb4dusEse0RrsdQLGuw5CkGAQYLNVJ5971EuVBWxCOv91eyN8NmxCt4g0rXuuJVdJITyoIYGDcXv9NQi/ckfy+8F8r3JIW8WPZJBOP3yxP9Lg+buEhTvLWV8MSJ2e0+6E/znggmXe++Vy6+/eTbQxg73fMAf2PMcwyEPEB9cSVov6WIo/CCgDeEf12aPYckTshC7l8H4GUoXWPBWCRdBwEl5Nnm21muiDEK/OezVeJVaD6yWRADOUtYiBD4XRfdsyzaFZthqwK223KxTMQuEHEg9NjrQu0FWDs3Jl4N+35k+T4QS6AG/EQgae9TVjs1jay/f98x2b5yQRK1zbyrW4E9KF5tEExq0x68RGhyBCr3JQd1C1586RogrUS5xBqNK+4EB9VtEq+AJLKhM5MUa3fLUxbxCv8vlcmf0YN/YCC2xGKk4P7acqFO1BUJQ8AbQ/IggGEOA92Wy/qcJl28Qpr+gfP63tW81V+UidVnyqSIBZhsIpMnVm/qT3bMtghsh0B91d92zbPNH2skOvk08cqU0QZxbAUEwSFDYsG4iFcg1P7AhsWYnH7Xh6h35rrwYkKWyefiq2Fj0N1eDULjjPt+WqQA5RgH9r+SLobvBNjmEcrCF8qamwWIsVKd8E6TtqGEjF03BmPM0wlB1P06Qeh3QFBCW08rB2FPGqdjsZJs7CVTDn2JUA7fJ8VenO7KAgHeIXin2XKzy7q//7NcrnR1eAwfhlA7dxOrhMgiXsVilwWzIF6mx0Nv3DRGt56I5c8Nfm54O5nwAYSyT45qUjFpZE1YlEBYpI3Z7RJoK+64KF3vvlcuvv2URbwyHJfFcAuyn0r2W1bxKi3WZWiynGbPhfobgL4h5hkdsu8NQuxB4NtZu1W8AsgA537XZjDzBz1+Zg3QnkbuMv0+/CX5PRsFu17sotAwSHUB/7ljbAuOvQ5LjywP2AOh9gKsnbsT4lVITLbAexjJ0ty6Q04kllEskmT9/bChKj+N2E/ngVet1M53CntQvNoAM9q4D3Ua+BxG1jCDOl7y0vEMk6vASn3a3tTQ9iS4Q2OiYsuFXvrtFK+wRdA/jwEWuJ/h73HrziJe5Q40VOWzpHiIuivXhe8/JirLj8nbPN2A8iDUiWLyEcsICfEs5A6cf08/JyeuVtbnNOniVeHihqr/d1gMhlv89JH+3ynVB7ZKLMgiXoG0FZBQ+95q8QorycVvNHqrYIK4YInFHAK+cXxhVfePlzR7K9mRemcP1IOZXdBmE+UDk3dL6a6OGLsE97bxq7Bw5a8EgtA4I4lXoe1nmGD7n4GdFq9CWfgwsXfHi2HAljW/PoD3Xpo8oT8M3Z/yNb1+LuaR5PfLpnyKsYatfLZsKBEJQGwSt15L0KPa8xgKlQt5imELhVTeX3QJZXFE7LE0r5EsTHfqqvih/BzTFmfyB+XnBIqHe15QSM+NNN1imYhRj3hbfvn647q9P5v8rdjaFlrsC733m40VNqmUX0i2EUxODz24YvpHAO94eCAMbAP9Spd7cfB5Sv3p0edXjT1lvAn/7+A5gDhBsevxmfsdFt9+yipeoa+aC2x7xBZU6RqQVbwC87fJvzm2TSnNngvFwLP4cQldYuKVscudPtMySeKVNB/ZKDZszCjBNudRCViVP2j7KOMWRhepLiA99/zz4fEXSPZArL1YO3cnxCtgtvGmCHKlG/u2av7K+N8PinfCDuh/x7AM8/tBaFu9JdTOdwp7ULzaAMFAsp93jBqOMsO4U/vuhSFC2xiwqlK5XzbusO82GBj6LXgN9b839NJvp3gFI18q4+MHqs0iXuFvxd8slcOzgzedW6el+C+6zJfJawz6mbhlY51o5WRHFLBgmBRelq8B2DaZZSVir4lXMx1t0H2YLGPBOZSJ1Qd2WrzCpHr5sfAAgva9+MOkWBMTr7IGbAf+3nwLfn/9nJ7sne29g9XrW2quNdhWYdzNv6P7Q2HFGcCrzK0TwFMCHnKYVKNeKcuOMRoD/SxY+0Nyu0Ns2xRA0GsIge7kFf+Pz0Ir00DyDMJ9k8pK4hWujQUI99lJ8QrGWEhIDXkcpYGJPwQAqc7qw7LHDgKgS+XxPlkDO+SRBGBQ+u852ljob8PCgWu4Y9ItlQPlhwbrBZiwS2WBzZoE0NakMoaApxiC10rlEfzeLRfaRlL+z+S98LFezHj+0vnmj/TEOtDObdZfeI1I17Zva0djfNr7jnguUkBiGM+uh5mPtKgX2kLsj9eWmGd1+9+74t/lspHEF7uZhSuSfTPaXO4KISaZtm2xOIsyEKSRgRYLHm4Z3EO/PnyGc+jXMaHzzyMJUZbrfXz7Kat4BbCY4tYFjP0WsCvBMOKVeQcvSb7ruefCY2HMnou91xZkuwt5A8XEK4C279sPkyRewRYJLaIMA+KnSvWPgvlL65k8mtJo3JK0MbMg1QWk544xTiprgdDqlgex9mLnmTslXoHytU0zRknlweInnfU41hjr0mJNQaifu2748QRe6Hhfh/39s19L94iLLfpsN/bYU+IVHuow+HVD/ChGBhE/wPLMN7ShKqwYJRAGKwlkLclHXjLEtcjd2DQTY4CgsrFG5a40A/zNUrntFK9AyMPMxV/pzSJegVigXNwrxABAJjhch21I5dfksgDPAs/ErT/WiQIMhMi+g21IU1fVVOmusAcGMM/Pez+yPqdJF6/QUcf2kM+/2RqYkGYVr+BlgwyUeIeHwV0JBlnFK0vIy8jiBxiOiVfDEGrf+I1S+axgtR3Bl/168d5L5TOjJ9AI0u3XC4yxnmElEpPmLIsL0mQFhMYZUbzSxEQhnx0TryIim9QPZSUUeD0UO2qqrse594TJsX6fqv/cF7tC/duwQLj0Axen9eNZcWNNQfibPyHbDyHPovK18viNd8ldoYb3hFQuE7Y96ecPMVksE8F6JsHekM6HcPsH9NMhz+OY5xPGAL883jXpfQtufxhSXPaR3p+JRt8vKQbpwQfCqd7RL0PgDW2LSxOf5g8lxwx33Eq73sW3n4YRr0D9F4OeEaVb5XKWYcQrg7etNS01f8yeg3Dsl/dFbis+S9eniVeGD/XvXQrbWbtZvAIIrO5+37CEspqOkth26yxAvJDqzYJUHwg991B4hjoSHRxJvoex9oJ3AWWi4/WZlpruVM07kobx5s7wfS4YU8qvyuUtyB5uy4cSzPjUft4ymXfd7/LBuIgt7bAfbDsY9veDTO9PYLv9dmOPPSVeDYtfd+nH4RV6KOvuRBmgIUBBlcq7ZHUnRX2L947m78PWBf/3hl767RavED9DKmeB4e4HQM8qXuFvDm7vGBI8C9eIAaOa9FiqP0ve+6zPadLFK9B9JJDWXINzbtms4tVGJ8V49m49Q4tXKUaqHxMDA9VWilcQcaXyWQl5lM7fFB5cs5A73TJbD/16LfB+HUUwU4hg8xfLfXNonAmJVyC0Lclnp8SrWHY9KfVzVmBYSXUGY0cFYrQsnuuYTJS23KjEq4PHVxLbciFES2WHAePU7NV94xNCHQQ7qZwUUwljFdKo++WBu0KNPiGUxTETup3CEyb2/GMggxxWZSXBKEb5w66a6/TaV2xRKZYlsfDtyGKiAxaIQsLJRv/udbxYaZNOKLvjZrZWpolPK7cnxTI30U7a9S6+/TSseFVD6ImDvfcW731szAbDilfwPqzc0p/sXvzafrGcJWTPYVJd/dNgWbQDhMjw2yoEGv96kEm80hRe6IvvkyZeTa1mWxALIWU1HTXmWW9iXiNl+82KVB8IPfdQYpzcKTk8Rqy92HlmbN4Fj3sIWHhPYiArKJwRsnyfDzyrpPIu7R/22nRamA2LCSf0ccd4mMIeQX8G6je3VPnBlonHhtABdlEUf8NGxass708o0cl2Yw+KVxHcemevDYtQ1VNy9ggY5vUH040iY+QO0XkU4IKdQbkNgW1A2Nbo1xt66bdbvJICsLrAYwJbRtxrsopXYMOBRi36t+EZ+PWCUYpXoQCeWZ/TXhCvYjEJMLFxy467eAVyT8UHNazgWNF5q8Wr2CCYhvEiC3jqSDFqMvPh4La/EGa7dIonWwgYDRDeYp5GoXEmJl6lec5adkq8im1LRzBy6Zo0EP9RqhOEtquGYrSUXxqMyYH/T4uhEcM+Z9eDyYLPNr0VwwtoHPJMCnkWQaiDYOeXN8/j0v7zQDD2YYUjF+sxE3r+Qb7U9xCZ4xbi23UlzGTwil7/jAkLJi5SuTSPgIMPpmzB0OB+xVJ+h7JPZuaurZ+cjhPS+Iht6n656v0d0x+GqP2ypfbVz5cV+lNk3sQ4Wb6vKQpENvZd6HrfrrT441qqeIWQEV7YCEz08Nv99xa/004mLXZSGfp+2JOVvw/+fUZs1TautFjtCykhe272sH5O3iIOspNK263xb7evWq9DsO9L2Bkh7CjBXAdzHjxb9/PdLl4B7KpxvzMrbpbZrSaUMCSN8ivhbaNZkOoEoecOLzSEjPDL+zuBLDE71M4zRzHvsu0oy/dJlP9Zt+HIvBX26PRyb54P2ydN9B6WzYhXYErbG2KCE4/tEGNj2IPiVQRbJ8SOBSEVM8AgY/ez+iCjSjBWkgcGvMweWPoFNQKWUE8aGKQk4QqEXvrtFq9Cqa8tCNLrezwNI16BYWKS+eDe4xlI9Y5KvBrFc9oL4hUMLr+MxTfGpPrAOIlXMCJSV9DOb0/eavEKhq5UPg0YbDOr4b4s9BzSqD/SURd25DolYChgAiTVFQPu2mkxCEPjjP9+umSd5O+UeBUUazboLm7a5mvy34t3XLomtr2ydlNyIgBxf6MrzmnPGfF7NiJgQUiCx6wrSMU8k0KeRdgiCYHNL4+090h/b8tha6JfJiuwX+zvHOZvxfg0e3nDTFazirIWeOIh6Y39/bFJV8wjAOIlggxL17mkJbTZjEgZmvRPMtL4KNl7+Mwt4+NOboe129HmXSFbut63Ky2+/ZQqXp1uqfJ93meawy+uJN5bbCH0r08Tr/D95RsHrwGN092el5fzmQmSf/ug2Bqy5/xsreh/sIUb49CBZ5KebFgI9OuQ7PvCo00xBhnmOpjz+ON7SMTYKGn3dyswfc3jw22LhjiR2+BW+42AMRpjtfRbQqD/iiWSyoJUL4g9d8RrdMvid7jt2SU03wG23xkH8Qq7AbArQLrOsvR0fzdI/vpm0NbZCJsVr7AdvHiHfJ3LdmyDjWEPilcRUB8Mu1AsBttZ+78BGMFLuibCsB5Y2Huf1WhE3Yj5EHKdB6GXfrvFq5BbugXBdN3yYFjxCuBe4J5k7UBwr3HPpbosoU40914r0/cYA2NEzykkwoSMnXEDgY5xP13c4McWuNT65fz4U0CqD/ieF7j3C8eb5n4Ogy8+ox68q9J3hoRJADG88lBPDJMo3tsyIpcRB+5qiGWGISSaz3YaqnFzx2zPQGyx/JmWeZ8AMjmu///ZnqBceAB79NONta2qN4QJqKvrMHXpOlF3+dOOwf2e5TuXM299gVeWdC+l99MF75p0nYvkCbTVYCVQeqdBKJFFGjCK4Rkl1Tn9D/LzjP2O0H1BO0CwUrjRS9e5oMwwzxmxetCXwHVfqs8FZep36fdJ8AxEG5OuAX5ZCwx8qfzMr/v3Du+hVCYrhZt7zxZeUNJ5F8QBrD2ix48rB2MJwitdKu+C+46+cG4l+dwLt8t/J/rg2DiIZ5h7OnmdT6w9Zfm7Y7iZpPYKOyleheyjrRSv7KQwtP3ZYid1oevTvr94r/53xHPDxlhN+/0A7ROCgFsO45zNmit5rB98dtUkj3HrEcUrPUbh3OpTuk174jrEcH8xwX3OoyDt/m4V6G8KLw1+dww/G+x2EEs04oP3IWaHZkWqG8SeO8ZV63mEd8iNZekTmu8A2+/gnZTOD8NmxSuA8SRtngeBCEIRysMuGEWIC7Bp8eo8ENikawd4ILtOMWrsMXHiVfkaPRHSD2gUoD5kPZLOgcp92ogTYnbAaMd56aGjc5c+t+DFz+yBtaA7VD2YFe8ONwB8X+PJjompkbZCuPD93u/2cWML+GBwk66RPBBC9eOZDZTVDXvpkWWxLJAy++A3SmX92Fg+uCe4N7hHoWeDe4t7jHvte3z5YKIj/Y7pr9fWv0f6DrD20qrZAjKq5xQKPF55XQ8qTuwYQtLAO4ltEjBGwPTh3n/BlH7P0tpFiK2qV8L0l7pO1D231mMrvocQQiYV9NdYcHBtF9itfjnYGm4ZH1dMGUa8kjxTt0O8SsvKZbfThK5P+/40zw0bYzXt9wMpJT+2BBUe6S2QFJ9I3q/yJx016+0iiYlX8Fo12+u98z6TIl4BiFFZPbBi86atAnMj6bf4QNgchXAFpPpB2nPHdmBT7mP93kUCk2cRY8ZFvAJpsU3RDrFFz5ZHjNbNxFSzjEq8wo6FtJAb6O9DYR+2GntMnHi102AyVno28ODPe2qZIO6RLIR4MYbxwLJgoMGKCgZtMLMCsWV7lf/dDO4V7pm9f7iXkqG0Wcw7cknPuAKIzZQmWBFCCCGE7DTwMvTt1lhgfdg3vicQvG6t3QM7yD0Huvd3jTeT/zm2gV5QHLRrpeuRac8tY6k9MbiTovhFR81cnC5e4dxF9wheCYhZ9fP+AmyauBITnzAhlDw3Dr3Sz+SYJl5B4JK2BWYBGbZtPSAmXgF4fqZ5jkySeAUwT0DohoIQj9Cl+aN0oWArCG1PB3i30nZ2DIv0PSDtua8nMDkeF/l2m3hldly8I19vwfZff26OjLcQ9KXyWVh8ta0uLG9evAIILh97jwznE71I128l9qB4NWLmHk+641psQEMMLmlZCNHJZPXAIoQQQgghZKvB9mjfZm2eWQrGz5FEH2yLtecl8QmfwZvJ/xzZw2avGLSNy98bLAOkRAjYQuqLLdg+Di9cWyYmjkBsS8TY8yZxaeJKmvjke27A2wteX1mvn12uqdKf++eHofza4OQ2TbwCuX+SBTfLpIlXFnjPxGJqSjtEtoPmGVl0MLEGM+zAGRaEZpFALMNYrEHMhedPtMSt5C6IcyrVD+zOGniRSeeH4rKaiWWc5fvSyPJ7Eo4lud5umdlrG6rxWCch9kugTOuZrsrd2FTzq3VTxyh+P8gfa4h1rHP+fknXbiX2oHg1QmKduJtK1rJVHliEEEIIIYRsBRe/tj9hs2IyNfPNhpo9oCdhqzVVuLgh7kSAbevGIguJVziHxAp+bCV8jytMoS7JUwBC08y3e5MwZNOUtv0V3h3MtpYmjsBjpPHxkhGNkCXQ3z6zWfEKnhvIYI7PATIQ23NZrof3lHvelNH329bnIsXYcsWELOIVJuH5pwfLuEyqeGXBu9O4qavmX2+q3NtN8/ca9HuH57LdVP7Y+34byzMUa3AciMUjJL37M/81/Ux/0DL9oeH6lpo/VNuz984eFK9GRMx9FvtHpexb9MAihBBCCCG7idyxhhwD6is9ef6slwyj/t+yF8j8bYMCSEy8mus0VPnDZD0I1u/W0frtcNngLEgY4NaTJo4gqPn0wZ5QMC+kjd+seAWQtGVdkHCENZB2PWKnuuch6pVubPbrc5Cylh96sL9FMYt4BWJZkiddvFoHXi/lfvzO+qnugFC4bVzGWJ5kcrEHxasRADe9hQ9l91GIT2mBzeiBRQghhBBCdgvIRJoW88gHGdv87Xwx8QogxpB/HtnKCpf3vZKwVWeomDFf6d9yPLkjYrPiyCjEqxix65GV1z1nzn+gzwdS2yM7WqL8ey01Ve89n6ziFcD9X/h0sCzYM+KVR/2dlJhBWwSemfR7CJkE7EHxagTkfy8LV3bFQ7rGhR5YhBBCCCFkN7FwaVPcQugDGxbxnHzhCqSJV9iaJnn2YFeDWw8ElJAHkA+CrEsxW3azeFV4QBCjntL3MSfXBVbODHpq5f9X13fpeTFsCPEKzF6bnMfsVfGqc3xnxCsmfyKTjD0oXm2S2vdbpvMUebYxVEeSxQMLcbWkawkhhBBCCNluEMTdZCF8t6VKH7dVEUHDz2j7+K2mCc4ei9GCcxCrXPzyJhaUV0YqB6GrfE1THXh6xcQggjcWBJT8+9p+Ptky2+JiMYDK1zjxZTSoKxFcOULa9fhu93zlhqYo6IWIXY9dHu45kBYbB4HF/Wvs/dlXqiXOIUSKX4dL5cruQHlk7R6loLLZ57NdlH+0/eLV4pvZsskRsluxB8WrTYJOGaq/yJAddhYPLLhow1Vbup4QQgghhJCdYF+lqmaWampmuab21ao75wlyPgYRMniZGEAN/VsK4ydykMlk/mjDbG2V5nFbReFfGF6GTDb2oHg1hsx9t6YWvpQ7JwABq/Ct9O2IhBBCCCGEEEK2B3jD5c/Ic7itoPb3rsoLCQQImSTsQfFqDLmgUFHFW+U4WhZ6YBFCCCGEEELIeLF4dzKW21Yxf7KlLijSs5BMNvageDXG+HvHfUa9l5wQQgghhBBCyOZAUgFJbBolWbLaEzIJ2IPiFSGEEEIIIYQQMiIKl7e2PvbVA4x1RfYG9qB4RQghhBBCCCGEjJCL7lmWRacRUP5je6hslYTsZuxB8YoQQgghhBBCCBkhCO+Se6guik+boflGV810a+J3EjKJ2IPiFSGEEEIIIYQQMmIgYMEDa1RbCEsvd9R0mx5XZG9hD4pXhBBCCCGEEELIFlG4uqkK5zYexB3iV+nWtpqq0OOK7D3sQfGKkG0G6WynDtVU/ljDgP+/oCCXBRcsVNT8Wn29fG5/Q12QT6642HL7rqipqUs0wj54rP7MLuvv02X9c4TsRdBeQswelg1EtKP8kYaauaymikebarYtB0xFufmjDVNXqJ1P1XV/oPE/J4TEmWrqNnq0ZtrhPs30UvqEDm0VbRbX4NrQOMl2S8jmuWBRj7G6rV14VG4rF3Z6Y7D7GdokbFh8DptWsldnluu6ne7e9rd4d1Plz/QyBUoilU/pz7rsvzV1HyfXR/YmsfaFz9CGJKYu1dc47We3zB/tQfGKkG0EA8/8yZYqfN5Wl751kaHwt7Y6+NxKcFBa+s2yWvy0s16+cq6rCk+3EuXKP+iq+usdVfl1V+3/3aqqvNFVcyuDk2q4LZd/1aJ4Rch5YBgWP9LG4ekk9Ye7ifJoU+VX22r5Lyuq8+6S+sbpA6p0tqtyPx5MVY2V0fzxlmq82FWLv+yotVdX1fJjywNlwBHdVme/zlVUQoahcLuezH3QVq2/Lpl2ePijNVX4uK0u+smyHt/kSS3aKNpq44slVXmno8rnOqpwoq327e+XZ7slZHRUft5SC1+11dzrzcQ52LwLH+rzegy2n2F8he1qbFhtyx57c7+xbf3rSn/qqJnO7m5/EAimdR9SukvbGs/3bA4rVh15f021Xu6q8i/bauqaGhediUisfeEziKO+XQsWX9XtZ7k/P9wt80d7ULwiZMRUb+uKK7JTjaoqvN9SpdfaA3vV51YaqvyntjmHMvZzrPbCaC6c1R3Tlf3PZw83zGeFZ3UnUux9jhXo/Gd6kDvQL1e+o61qj3b6131ND5JvaUO9RIOb7B3K32uqaWeQ9oGhiNUm6ZwPjM2Vd1ZVQU9urdiMifLC7U1V0O1v7tt9AWvm+oYqvtwXmXFt/WRXFW/ofQYDYPHeplpAOw5MtgnZq6DNou1K5+p6srfwqR4Db+63L7Sh6vXaMP+8o+ZuSLZ3tE200YW7GmYF2X5eua+lis/362G7JSQMbFvYuNI5n/JVDZU/1zb4k+t92mbNvacn3p54BZsVtqv9N2xaY9vq8vj3hcWKOnh8xYy5tgwhk8Ko2hfAZ9LnPrtp/mgPileEjBis5s7tTxrP09+oqcL/66wPwgPn2lVzDmXsZ/uO1dTCl20jVrllAT7L/4/uSM6v/Db+T0fNv9k0hrUtkztQV9WP+p1P6d9bavbq8CSekEmk+/ulqDg1jHiVe7qpcqdb6sJqctI6f1svloX9d+t3S2bF1C2zfPeSmv/PnjEBQ6H0pjYYBPdsQvY6aJNou+K5/dUBbymX/C0tdfGptcTnaJtoo/7nWCTaV+3/m+2WkDCwbWHjSudcYNM23umqop4EzwuTaAhXlcd7bc0Vr2Czwna1/4ZNC9sWNi7+PX99TZWf6FA4JhPJqNoXyCpe7ab5oz0oXhEyYkLiFfYlw73TXfW14DOcQxn7WeMXy6r8Wn9Q91l7aVU1Hu0p9OXvNMx2ROuJBeCOjC2G6JCKd7a5Ukz2JKMSr2ZadVX6r44q3CcbA7mLGqry166qfrc34FcfaRkvjvUyOT2xfqqpSi/0+oDF57pq9vKkME0IiYtXMXCdOxkGaJMYCxEv0v1cgu2WkDBZJ9fVnzVV4YWet6I0iS5f2zFbdP32inYK29X+GzYtbFvYuJiwHz6xpqb2p4/XhOxGRtW+Yp/77Kb5oz0oXhEyYoLiVVNPlD9oqdyzg9sW8P/4DOdQxn5eOdVRC7eHlW6cO3b6IvP/qGP11Koq3dXr9LCl6eBL+t/ISsKVYrKHySpeoX0s37msKg+1Ve2mbsI9evpITRX+3lbzR+R2BO+NhdMtdfTXPa+PhUsbqvpBVy1c0TMw4OJd/WtX5Q82zdalwjPaGIgkaiBkL7NR8ar8o65aObM68Bna9MIp3c6Lup3rCXNDt2/bzv1Yk2y3hITJMrmufKel6roNTZ+3g2OTaF+8gs0K29W2S9i0sG33NSqq8KKesN+i22VusA5CJoVRti/3c7OAo8e85buW1ezS4OLLbpo/2oPiFSGbBBkAMQBbEHNj/vvOZ1+vrSvaplN4bkWV3mur0k9bPc7qCfE7/Rg6ljSPEJxDGauGz3T15Po/2qr4XkctvNsyhjYGfK4Uk70EVmXX256m+YYe5O/oZVEByDI2tdgfiNGGyi90TdB2uE7DBRuBoIuftVXuir54jGtdI1sChgKut8Y1jAxMmk2bfE0bEldW1czFNVU82WHsOUIc0CZN1sDz7RRtFm3X/hukeVxgSz7G07kbB8uhXeZOtNT8d2rqyKm13v+jnetxuPXJkir9Y0+osrDdEtIDtitsWNsGYdvCxnXbJWxgW366VVXFD3T7cWJSuZNoH1zvjquYSMN2xUJQ8f2OsWlh25avbarGs9liARGyW9jK9oXPsF2+9E5H5d7qlVl4q21CzlTub5n4cbbsbpk/2oPiFSGbpHPfkqr8prsOsjss6kHW/rt8v+6IHNW6fFPXxLKC19TBN9bMdsGDzyezDWYVr6bK/Qk2hKyZup6oV3rf564UY8V58R+WEt9DyCRR+F5joD1ClII4Zf9de2hJzS712wzaKmLhTHerxkUawhMmwXP3NI2AZduLbW/2OgkYB7k3B92r4e2BNmm9Ld3YAYVDbVW6RN5KTMheAm0SbdO2Uyso238DtG3pWoA2lP+PlhiTDu3SjsvTB2vqgrw+j3Zer6nG9zuqc27ZtEX3GrZbQnQ70LYrbFjbBtGG0Jbcdgkb2JZffWpF1R8bzPiJ9gfsv11C4yo8macbdVMPxmAEi4anCdoc2l7xMONekd3PVrYvZOTF1sLZQ7X1serCUlXNXtFQ+f9tm/hxbnnUOe7zR3tQvCJkxIS2DcJgrvy0pWpnu6r1T/3U2+gUDt23qopnO2r+kn4HhA7MDxzrgnO1L8MrUWal+K2OmtEGQPMhbfjDw0t3cKW3Wip/6+AEm5BJJW3bYAiTgeWDtuo+0mursZh1wAaWXXxZFrjWYwccb6vcWkO1Xu2qhbdb5prmia6auVRPzLkdghAD2mzWbYNok7mH6qrwcUc0rg8+uqJKH+mxcCnZD2A7RP5Mv537sN0S0ie2ral0o558f6LtXy/F/kbEK8t6dsE7mqatlXRbNZ6TJ1uq+UoynT8hu5lRt68Qxfvbie31LuM6f7QHxStCRkxIvMKKb+FvbbMFwT8HFh6oq8VX+51W6+Wu2VbolnHBuSMn94vnAFaKkR48d0NNrb2zqqbb2nDXRvaM/m/hdNukFZeuI2SS2Kh4BVyjYPZATZU+66j8ZbL3x1RDT4Lfb6uDD8oGgY0dML1cU+VX22r58WW1r9zz9iodbQUn14TsRbKKV1j8yR9vGeFq/rBswNfvausxr6Omq/JEN2b8s90S0ic0ubaLPbkvemn7XfCZ/Xz/HYMicZp4ZbMLzi7XTVvD1l8sBGO7FbY+oU3SA5JMCqNuXyHS2t24zh/tQfGKkBETEq9sZxFSrKeuGuxMFm6sqcWzHXFgRh3YUlH4SVLccleKUa75jB7wbxo0rssP6o5Jd3TuZ4RMImniVdCTqqANZ6zwnk+Rj3LVP7VV/t8GUwpbkJ0F3pILlyTFLVy7+LuucdeeXa2p0idtNbMy2A8gQUPsdxKyl0BbSBOvTCycF7pq4cNWYtufi9nm97meAB9Oti/bzpFN0D/HdkvIIMHJdaWmivfqdvjrZoKFT/W4qMH/t3842KatXex+ZnGzC6Lckfd7yVAsiD+HNom26X5OyG5llO0rZNuCmevqxl71Px/3+aM9KF4RMmJC4hUMZxjQnVtkg3z52RUToNb+GzFASh93zL5jtxxAsD4E4pMC2K5nh2j2ztWe6IqdT/5Jildk8omJV5jUIoMRjGT/XP5QQ9U+7w54SjZu6Kj8Z70MLG5ZgNgCmEj7nwMTOwCphotVNbNcV8U/dxKT4OofdXu+RP6dhOw10sSrffv1OHdat1/d7vYtJdujD9pm/ZHkpMC288JlyTGb7ZaQQUKT6xjWQ0Q6FxKvMPF2swuijV18KilemTap26b7OSG7lVG1L+uRXPqWvFPgyOtrZreP//m4zx/tQfGKkG0CKvbcY3ow1pNfdBqIoTN1VHONHoBf1p3Buba6UP/bvQYqeuVc15TPH20Y8P/4LPfjuIeH/WzfsZpaPbGqpg7VTBDMWW1810521lOBE7KXQbIEk6HsB7otagMZ4P+PnF1Ty0+sJMqvPLmiyv+l28+NNTWr22vh8oZpv5X3O2ZC7Ze3sQPcLGW5p1pq6allNb1UUxcuamPg6oaqnOiuGwyEEBmsDM9dVzUTXjOuYQwV8K9D20TcjqWnlxPtvPGvyckC2y0ho2Ej4pWfXRBtDG0N2whnmgjc3ts2iDbpXkfIXiPUvrCFUJpvHnplRdXfTsaL2w3zR3tQvCJkGzEC1lUNtfbCmjr80ZrKf9HLOtj61UrPi0oI/LpwaUOtPL+sLj1zkQHXFi6XO47Ct/UkWg/oWCm2nyE+AOIErL26atIPV3/bVuUrOeATAi7Qk1Ck1keMOQz09b911dofltX895ChJSlGId4N4gB87Q3dbv+6pK46cdC031Dg2ModbTXvxcnCqtjiPU1Vfber8tro6PzrEgPPEpKB6VpNFc5o41lPeLHtAWOohCs6WSBgVR9eMh4caOeIGRlq52y3hIyGjYhXSw8uqZnVwfaHtlZ5uKNKb3VU/jXdzu+umzbpliFkrxFrXzOX11TjSd1mzvbGxaNvr6ni3Q2z5d4vuxvmj/ageEUIIYQQQgghhBBCxg57ULwihBBCCCGEEEIIIWOHPSheEUIIIYQQQgghhJCxwx4UrwghhBBCCCGEEELI2GEPileEEEIIIYQQQgghZOywB8UrQgghhBBCCCGEEDJ22IPiFSGEEEIIIYQQQggZO+xB8YoQQgghhBBCCCGEjB32oHhFCCGEEEIIIYQQQsYOe1C8IoQQQgghhBBCCCFjhz0oXhFCCCGEEEIIIYSQscMeFK8IIYQQQgghhBBCyNhhD4pXhBBCCCGEEEIIIWTssAfFK0IIIYQQQgghhBAydtiD4hUhhBBCCCGEEEIIGTvsQfGKEEIIIYQQQgghhIwd9qB4RQghhBBCCCGEEELGDntQvCKEEEIIIYQQQgghY4c9KF4RQgghhBBCCCGEkLHDHhSvCCGEEEIIIYQQQsjYYQ+KV4QQQgghhBBCCCFk7LAHxStCCCGEEEIIIYQQMnbYg+IVIYQQQgghhBBCCBk77EHxihBCCCGEEEIIIYSMHfageEUIIYQQQgghhBBCxg57ULwihBBCCCGEEEIIIWOHPSheEUIIIYQQQgghhJCxwx4UrwghhBBCCCGEEELI2GEPileEEEIIIYQQQgghZOywB8UrQgghhBBCCCGEEDJ22IPiFSGEEEIIIYQQQggZO+xB8YoQQgghhBBCCCGEjB32oHhFCCGEEEIIIYQQQsYOe1C8IoQQQgghhBBCCCFjhz0oXhFCCCGEEEIIIYSQscMeFK8IIYQQQgghhBBCyNhhD4pXhBBCCCGEEEIIIWTssAfFK0IIIYQQQgghhBAydtiD4hUhhBBCCCGEEEIIGTvsQfGKEEIIIYQQQgghhIwdvUOp/w/YZPfvlOatowAAAABJRU5ErkJggg==)"
      ]
    },
    {
      "cell_type": "markdown",
      "metadata": {
        "id": "DZfXfBxraePa"
      },
      "source": [
        "# Data Cleaning"
      ]
    },
    {
      "cell_type": "markdown",
      "metadata": {
        "id": "ZgODNwqiZ3J1"
      },
      "source": [
        "Let us try to find outliers. We use the interquartile range and get the values which are outside the range we specified."
      ]
    },
    {
      "cell_type": "code",
      "execution_count": null,
      "metadata": {
        "id": "ppXuGcLAeW7y"
      },
      "outputs": [],
      "source": [
        "data = merged_data  # Make a copy of the data\n",
        "\n",
        "# Function to detect outliers using IQR\n",
        "def detect_outliers_iqr(df, column):\n",
        "    Q1 = df[column].quantile(0.25)\n",
        "    Q3 = df[column].quantile(0.75)\n",
        "    IQR = Q3 - Q1\n",
        "    lower_bound = Q1 - 1.5 * IQR\n",
        "    upper_bound = Q3 + 1.5 * IQR\n",
        "    return df[(df[column] < lower_bound) | (df[column] > upper_bound)]\n",
        "\n",
        "# Detect outliers for each numerical column\n",
        "numerical_columns = data.select_dtypes(include=[np.number]).columns\n",
        "\n",
        "outliers = []\n",
        "for column in numerical_columns:\n",
        "    outliers.append(detect_outliers_iqr(data, column))\n",
        "\n",
        "# Concatenate the list of outliers DataFrames\n",
        "outliers_df = pd.concat(outliers)\n",
        "\n",
        "# Handle outliers (example: removing them)\n",
        "data_no_outliers = data.copy()\n",
        "for column in numerical_columns:\n",
        "    Q1 = data[column].quantile(0.25)\n",
        "    Q3 = data[column].quantile(0.75)\n",
        "    IQR = Q3 - Q1\n",
        "    lower_bound = Q1 - 1.5 * IQR\n",
        "    upper_bound = Q3 + 1.5 * IQR\n",
        "    data_no_outliers = data_no_outliers[(data_no_outliers[column] >= lower_bound) & (data_no_outliers[column] <= upper_bound)]\n",
        "\n",
        "# Display the first few rows of the cleaned data\n",
        "print(data_no_outliers.head())"
      ]
    },
    {
      "cell_type": "markdown",
      "metadata": {
        "id": "oZlA1zCVjvUb"
      },
      "source": [
        "Stocks tumbled Wednesday, 2nd Nov 2022 after Federal Reserve Chair Jerome Powell said inflation was still too high and indicated that the central bank has more rate hiking ahead"
      ]
    },
    {
      "cell_type": "markdown",
      "metadata": {
        "id": "s1A5pf9Ejt0y"
      },
      "source": [
        "https://www.cnbc.com/2022/11/01/stock-market-futures-open-to-close-news.html"
      ]
    },
    {
      "cell_type": "markdown",
      "metadata": {
        "id": "YuH8nYs7aDFz"
      },
      "source": [
        "We randomly choose a few rows of the outliers get the date of 13th Feb 2023. We link the news for that day on what happened which caused the stock to behave as an outlier."
      ]
    },
    {
      "cell_type": "code",
      "execution_count": null,
      "metadata": {
        "id": "YU2Erl91pK2b"
      },
      "outputs": [],
      "source": [
        "rows_to_display = data_no_outliers.iloc[330:335]\n",
        "print(rows_to_display)"
      ]
    },
    {
      "cell_type": "markdown",
      "metadata": {
        "id": "zUV8hQdnpsk1"
      },
      "source": [
        "Hot Inflation Print Sparks Stock and Bond Sell-Off\n",
        "\n",
        "https://investopedia.com/dow-jones-today-02132024-8576604"
      ]
    },
    {
      "cell_type": "markdown",
      "metadata": {
        "id": "agVjHoroaYcB"
      },
      "source": [
        "We will not engage in outlier handling, as outlying stock prices provide valuable information, indicating significant events that caused unusual stock behavior during those periods."
      ]
    },
    {
      "cell_type": "markdown",
      "metadata": {
        "id": "WkQ17NUsa1ZJ"
      },
      "source": [
        "Detecting missing data. As expected missing data are from the technical indicators. We can handle them by dropping the datapoints containing the rows with missing values. However since here we are not doing any machine learning, we are keeping those values."
      ]
    },
    {
      "cell_type": "code",
      "execution_count": null,
      "metadata": {
        "id": "l7SM9OOxkKOK"
      },
      "outputs": [],
      "source": [
        "data = merged_data.copy()  # Replace with your actual dataframe name\n",
        "\n",
        "# Display the number of missing values for each column\n",
        "print(\"Missing values before treatment:\")\n",
        "print(data.isnull().sum())\n"
      ]
    },
    {
      "cell_type": "code",
      "execution_count": null,
      "metadata": {
        "id": "RENKjf1Dkezd"
      },
      "outputs": [],
      "source": [
        "merged_data_clean = merged_data.dropna"
      ]
    },
    {
      "cell_type": "markdown",
      "metadata": {
        "id": "k4vunz8ab9Gp"
      },
      "source": [
        "Now we identify and handle highly correlated variables. As we can see, for a singular stock, the Open, High, Low, Close, Adj Close are very highly correlated. We hence can use only one of these."
      ]
    },
    {
      "cell_type": "code",
      "execution_count": null,
      "metadata": {
        "id": "ieQ4ag3rafwb"
      },
      "outputs": [],
      "source": [
        "correlation_matrix = merged_data[['Open', 'High', 'Low', 'Close', 'Adj Close','Volume']].corr()\n",
        "\n",
        "# Display the correlation matrix\n",
        "print(correlation_matrix)\n",
        "\n",
        "# Plot the correlation matrix\n",
        "plt.figure(figsize=(10, 8))\n",
        "sns.heatmap(correlation_matrix, annot=True, cmap='coolwarm', fmt='.2f')\n",
        "plt.title('Correlation Matrix for Apple Stock Variables')\n",
        "plt.show()"
      ]
    },
    {
      "cell_type": "markdown",
      "metadata": {
        "id": "f-vFPT-qckFe"
      },
      "source": [
        "Doing the same for the technical indicators:-"
      ]
    },
    {
      "cell_type": "code",
      "execution_count": null,
      "metadata": {
        "id": "BsXd65Sdeh-C"
      },
      "outputs": [],
      "source": [
        "correlation_matrix = merged_data[[\"SMA_50\",\"SMA_200\",\"EMA_50\",\"EMA_200\",\"MACD\",\"MACD_Signal\",\"MACD_Hist\",\"RSI\",\"Upper_BB\",\"Middle_BB\",\"Lower_BB\"]].corr()\n",
        "# Display the correlation matrix\n",
        "print(correlation_matrix)\n",
        "\n",
        "# Plot the correlation matrix\n",
        "plt.figure(figsize=(10, 8))\n",
        "sns.heatmap(correlation_matrix, annot=True, cmap='coolwarm', fmt='.2f')\n",
        "plt.title('Correlation Matrix for technical indicators')\n",
        "plt.show()"
      ]
    },
    {
      "cell_type": "markdown",
      "metadata": {
        "id": "BxagJKrJcyY1"
      },
      "source": [
        "We can see that ther is very high correlation between SMA_50, SMA_200, EMA_50 and EMA_200, We use the EMA_50 amongst these. MACD and MACD_Hist among MACD, MACD_Signal and RSI. And finally we use Middle_BB amongst the Bollinger Bands"
      ]
    },
    {
      "cell_type": "code",
      "execution_count": null,
      "metadata": {
        "id": "L4LXRN3Ael0S"
      },
      "outputs": [],
      "source": [
        "merged_data.head()"
      ]
    },
    {
      "cell_type": "markdown",
      "metadata": {
        "id": "TkVLFVZNdTnY"
      },
      "source": [
        "Finally we try the correlation between the economic indicators. We can see that there is a quite high correlation between inflation and unemployment rate which makes sense"
      ]
    },
    {
      "cell_type": "code",
      "execution_count": null,
      "metadata": {
        "id": "vEmXhRIzeoGR"
      },
      "outputs": [],
      "source": [
        "correlation_matrix = merged_data[[\"Interest Rate\", \"Inflation Rate\",\"GD\",\"Unemployment Rate\"\n",
        "                                ]].corr()\n",
        "# Display the correlation matrix\n",
        "print(correlation_matrix)\n",
        "\n",
        "# Plot the correlation matrix\n",
        "plt.figure(figsize=(10, 8))\n",
        "sns.heatmap(correlation_matrix, annot=True, cmap='coolwarm', fmt='.2f')\n",
        "plt.title('Correlation Matrix for economic indicators')\n",
        "plt.show()"
      ]
    },
    {
      "cell_type": "markdown",
      "metadata": {
        "id": "rfMtr9PpdvEu"
      },
      "source": [
        "We now find the correlation between the columns that we choose in the last few code blocks"
      ]
    },
    {
      "cell_type": "code",
      "execution_count": null,
      "metadata": {
        "id": "UzJSDoX-fPPT"
      },
      "outputs": [],
      "source": [
        "correlation_matrix = merged_data[[\"Close\",\"EMA_50\",\"MACD\",\"Insider Stock Sold\",\"Volume\", \"Interest Rate\", \"Inflation Rate\",\"GD\",\"Unemployment Rate\"\n",
        "                                ]].corr()\n",
        "# Display the correlation matrix\n",
        "print(correlation_matrix)\n",
        "\n",
        "# Plot the correlation matrix\n",
        "plt.figure(figsize=(10, 8))\n",
        "sns.heatmap(correlation_matrix, annot=True, cmap='coolwarm', fmt='.2f')\n",
        "plt.title('Correlation Matrix')\n",
        "plt.show()"
      ]
    },
    {
      "cell_type": "markdown",
      "metadata": {
        "id": "OmPqWeL9d4p5"
      },
      "source": [
        "Next we provide the correlation matrix for the entire dataset"
      ]
    },
    {
      "cell_type": "code",
      "execution_count": null,
      "metadata": {
        "id": "FjqCrnaugWxU"
      },
      "outputs": [],
      "source": [
        "correlation_matrix = merged_data[['Open', 'High', 'Low', 'Close', 'Adj Close', 'Volume',\n",
        "       'Insider Stock Sold', 'MSFT_Open', 'MSFT_High', 'MSFT_Low',\n",
        "       'MSFT_Close', 'MSFT_Adj Close', 'MSFT_Volume', 'GOOGL_Open',\n",
        "       'GOOGL_High', 'GOOGL_Low', 'GOOGL_Close', 'GOOGL_Adj Close',\n",
        "       'GOOGL_Volume', 'META_Open', 'META_High', 'META_Low', 'META_Close',\n",
        "       'META_Adj Close', 'META_Volume', 'XOM_Open', 'XOM_High', 'XOM_Low',\n",
        "       'XOM_Close', 'XOM_Adj Close', 'XOM_Volume', 'SMA_50', 'SMA_200',\n",
        "       'EMA_50', 'EMA_200', 'MACD', 'MACD_Signal', 'MACD_Hist', 'RSI',\n",
        "       'Upper_BB', 'Middle_BB', 'Lower_BB', 'Interest Rate', 'Inflation Rate',\n",
        "       'GD', 'Unemployment Rate']].corr()\n",
        "# Display the correlation matrix\n",
        "print(correlation_matrix)\n",
        "\n",
        "# Plot the correlation matrix\n",
        "plt.figure(figsize=(30, 24))\n",
        "sns.heatmap(correlation_matrix, annot=True, cmap='coolwarm', fmt='.2f')\n",
        "plt.title('Correlation Matrix for entire table')\n",
        "plt.show()"
      ]
    },
    {
      "cell_type": "markdown",
      "metadata": {
        "id": "5Enhd55niEXJ"
      },
      "source": [
        "An interesting thing we see is that insider trading has little to no correlation to any other variables"
      ]
    },
    {
      "cell_type": "markdown",
      "metadata": {
        "id": "tzBsJnCjhoDN"
      },
      "source": [
        "# Data Visualization\n",
        "\n",
        "Most of the data has already been graphed in various plots throughout the ipynb. We are adding a few more."
      ]
    },
    {
      "cell_type": "code",
      "execution_count": null,
      "metadata": {
        "id": "xxe3HwFklaeW"
      },
      "outputs": [],
      "source": [
        "from pandas.plotting import scatter_matrix\n",
        "\n",
        "# Select a subset of columns for the scatter plot matrix\n",
        "subset_data = merged_data[['Close', 'MSFT_Close', 'GOOGL_Close', 'XOM_Close', 'META_Close', 'Interest Rate', 'Inflation Rate', 'GD', 'Unemployment Rate']]\n",
        "\n",
        "# Plot the scatter matrix\n",
        "plt.figure(figsize=(14, 14))\n",
        "scatter_matrix(subset_data, alpha=0.2, figsize=(12, 12), diagonal='kde')\n",
        "plt.suptitle('Scatter Plot Matrix of Selected Variables')\n",
        "plt.show()"
      ]
    },
    {
      "cell_type": "markdown",
      "metadata": {
        "id": "mcScffo9mOxN"
      },
      "source": [
        "**Strong Correlation Among Tech Stocks:**\n",
        "\n",
        "The closing prices of Apple, Microsoft, Google, and Meta exhibit strong positive correlations with each other. This indicates that these tech stocks tend to move in tandem, likely influenced by similar market factors and investor sentiments. \\\\\n",
        "\n",
        "**Weaker Correlation with Economic Indicators:**\n",
        "\n",
        "The scatter plots of stock prices against economic indicators like interest rate, inflation rate, GDP, and unemployment rate show more dispersed patterns. This suggests weaker and less direct correlations between individual stock prices and these macroeconomic indicators. \\\\\n",
        "\n",
        "**Stock Prices vs. Economic Indicators:**\n",
        "\n",
        "Although there are some patterns of clustering, especially with interest and inflation rates, the overall impact of these economic indicators on stock prices appears complex and not straightforward. \\\\\n",
        "\n",
        "**Distribution of Variables:**\n",
        "\n",
        "The diagonal plots reveal the distributions of each variable. Stock prices show multimodal distributions, reflecting various market phases. In contrast, economic indicators have more stable distributions, indicating less volatility over time."
      ]
    },
    {
      "cell_type": "code",
      "execution_count": null,
      "metadata": {
        "id": "l7jl50JWmY--"
      },
      "outputs": [],
      "source": [
        "plt.figure(figsize=(14, 7))\n",
        "plt.plot(stock_data['Close'], label='Close Price')\n",
        "plt.plot(stock_data['SMA_50'], label='50-day SMA')\n",
        "plt.plot(stock_data['SMA_200'], label='200-day SMA')\n",
        "plt.plot(stock_data['EMA_50'], label='50-day EMA')\n",
        "plt.plot(stock_data['EMA_200'], label='200-day EMA')\n",
        "plt.title('AAPL Close Price and Moving Averages')\n",
        "plt.xlabel('Date')\n",
        "plt.ylabel('Price')\n",
        "plt.legend()\n",
        "plt.show()\n",
        "\n",
        "# Plot MACD\n",
        "plt.figure(figsize=(14, 7))\n",
        "plt.plot(stock_data['MACD'], label='MACD')\n",
        "plt.plot(stock_data['MACD_Signal'], label='MACD Signal')\n",
        "plt.bar(stock_data.index, stock_data['MACD_Hist'], label='MACD Histogram')\n",
        "plt.title('AAPL MACD')\n",
        "plt.xlabel('Date')\n",
        "plt.ylabel('MACD')\n",
        "plt.legend()\n",
        "plt.show()\n",
        "\n",
        "# Plot RSI\n",
        "plt.figure(figsize=(14, 7))\n",
        "plt.plot(stock_data['RSI'], label='RSI', color='purple')\n",
        "plt.axhline(70, color='red', linestyle='--')\n",
        "plt.axhline(30, color='green', linestyle='--')\n",
        "plt.title('AAPL RSI')\n",
        "plt.xlabel('Date')\n",
        "plt.ylabel('RSI')\n",
        "plt.legend()\n",
        "plt.show()\n",
        "\n",
        "# Plot Bollinger Bands\n",
        "plt.figure(figsize=(14, 7))\n",
        "plt.plot(stock_data['Close'], label='Close Price')\n",
        "plt.plot(stock_data['Upper_BB'], label='Upper Bollinger Band', linestyle='--')\n",
        "plt.plot(stock_data['Middle_BB'], label='Middle Bollinger Band', linestyle='--')\n",
        "plt.plot(stock_data['Lower_BB'], label='Lower Bollinger Band', linestyle='--')\n",
        "plt.fill_between(stock_data.index, stock_data['Lower_BB'], stock_data['Upper_BB'], color='gray', alpha=0.2)\n",
        "plt.title('AAPL Bollinger Bands')\n",
        "plt.xlabel('Date')\n",
        "plt.ylabel('Price')\n",
        "plt.legend()\n",
        "plt.show()"
      ]
    },
    {
      "cell_type": "code",
      "execution_count": null,
      "metadata": {
        "id": "83w7itLeR9gi"
      },
      "outputs": [],
      "source": [
        "fig, ax = plt.subplots(4, 1, figsize=(14, 14), sharex=True)\n",
        "\n",
        "ax[0].bar(merged_data.index, merged_data['Interest Rate'], label='Interest Rate')\n",
        "ax[0].set_title('Interest Rate')\n",
        "ax[0].legend()\n",
        "\n",
        "ax[1].bar(merged_data.index, merged_data['Inflation Rate'], label='Inflation Rate')\n",
        "ax[1].set_title('Inflation Rate')\n",
        "ax[1].legend()\n",
        "\n",
        "ax[2].bar(merged_data.index, merged_data['GD'], label='GDP')\n",
        "ax[2].set_title('GDP')\n",
        "ax[2].legend()\n",
        "\n",
        "ax[3].bar(merged_data.index, merged_data['Unemployment Rate'], label='Unemployment Rate')\n",
        "ax[3].set_title('Unemployment Rate')\n",
        "ax[3].legend()\n",
        "\n",
        "plt.xlabel('Date')\n",
        "plt.show()"
      ]
    },
    {
      "cell_type": "markdown",
      "metadata": {
        "id": "VbsSp47AxkJ4"
      },
      "source": [
        "# **Step 3: Data Transformation**"
      ]
    },
    {
      "cell_type": "markdown",
      "metadata": {
        "id": "dsQ7Sl5ciRia"
      },
      "source": [
        "**Creating New Features**"
      ]
    },
    {
      "cell_type": "markdown",
      "metadata": {
        "id": "27D1bcr8xwEZ"
      },
      "source": [
        "**Daily Returns** \\\\\n",
        "What it is: Daily returns measure the percentage change in the stock price from one day to the next.\n",
        "\n",
        "\n",
        "Why it matters: It provides insight into the short-term performance and volatility of a stock. Daily returns are useful for understanding market behavior and calculating other financial metrics."
      ]
    },
    {
      "cell_type": "code",
      "execution_count": null,
      "metadata": {
        "id": "FLlXxFVaxsoJ"
      },
      "outputs": [],
      "source": [
        "tickers"
      ]
    },
    {
      "cell_type": "code",
      "execution_count": null,
      "metadata": {
        "id": "pKlo9pemx3NB"
      },
      "outputs": [],
      "source": [
        "merged_data['Return'] = merged_data['Close'].pct_change()\n",
        "for stock in tickers:\n",
        "    merged_data[f'{stock}_Return'] = merged_data[f'{stock}_Close'].pct_change()"
      ]
    },
    {
      "cell_type": "markdown",
      "metadata": {
        "id": "Wjzx7dskyt99"
      },
      "source": [
        "**Volatility** \\\\\n",
        "What it is: Volatility measures the dispersion of returns for a given stock over a specific period. It is often calculated as the rolling standard deviation.\n",
        "\n",
        "Why it matters: High volatility indicates higher risk and potential for large price swings, while low volatility suggests stability. Investors use volatility to assess risk and make investment decisions."
      ]
    },
    {
      "cell_type": "code",
      "execution_count": null,
      "metadata": {
        "id": "t2V_s-zwyOgx"
      },
      "outputs": [],
      "source": [
        "merged_data['Volatility'] = merged_data['Close'].rolling(window=7*30).std() #7 hours trading per day, for 1 month\n",
        "for stock in tickers:\n",
        "    merged_data[f'{stock}_Volatility'] = merged_data[f'{stock}_Close'].rolling(window=7*30).std()"
      ]
    },
    {
      "cell_type": "markdown",
      "metadata": {
        "id": "t48f3JqR52wt"
      },
      "source": [
        "**Momentum** \\\\\n",
        "What it is: Momentum measures the rate of change of the stock price, typically over a specific period.\n",
        "\n",
        "Why it matters: Positive momentum indicates that the stock price is increasing, while negative momentum suggests a decline. It helps in identifying trends and potential reversals."
      ]
    },
    {
      "cell_type": "code",
      "execution_count": null,
      "metadata": {
        "id": "6w_-q1_x5z3t"
      },
      "outputs": [],
      "source": [
        "merged_data['Momentum'] = merged_data['Close'].diff(periods=7*10) #7 hours trading per day, for 10 day\n",
        "for stock in tickers:\n",
        "    merged_data[f'{stock}_Momentum'] = merged_data[f'{stock}_Close'].diff(periods=7*10)"
      ]
    },
    {
      "cell_type": "markdown",
      "metadata": {
        "id": "N9gRd23d6PWf"
      },
      "source": [
        "**Lagged Features** \\\\\n",
        "What it is: Lagged features are previous values of the same variable. For example, the stock price from one or more days ago.\n",
        "\n",
        "Why it matters: Including lagged features helps in capturing temporal dependencies and trends, which can be crucial for time series analysis and forecasting."
      ]
    },
    {
      "cell_type": "code",
      "execution_count": null,
      "metadata": {
        "id": "hx2zeXDR6IWt"
      },
      "outputs": [],
      "source": [
        "for lag in [10,20,30,40,50,60]:\n",
        "  merged_data['Lag'] = merged_data['Close'].shift(lag)\n",
        "for stock in tickers:\n",
        "  for lag in [10,20,30,40,50,60]:\n",
        "    merged_data[f'{stock}_Lag_{lag}'] = merged_data[f'{stock}_Close'].shift(lag)"
      ]
    },
    {
      "cell_type": "markdown",
      "metadata": {
        "id": "OBGxaanUiaHd"
      },
      "source": [
        "New Features: Daily Returns, Volatility, Momentum, Lagged Features"
      ]
    },
    {
      "cell_type": "code",
      "execution_count": null,
      "metadata": {
        "id": "i09R61Otm2bD"
      },
      "outputs": [],
      "source": [
        "merged_data.head()"
      ]
    },
    {
      "cell_type": "markdown",
      "metadata": {
        "id": "iJ0FKzwWnLxJ"
      },
      "source": [
        "We have already done feature selection using correlation above. Let's formalize it now with an absolute threshold of 0.7"
      ]
    },
    {
      "cell_type": "code",
      "execution_count": null,
      "metadata": {
        "id": "YXTT0I2Um7je"
      },
      "outputs": [],
      "source": [
        "merged_data.columns"
      ]
    },
    {
      "cell_type": "code",
      "execution_count": null,
      "metadata": {
        "id": "1gXM0lyMoPyz"
      },
      "outputs": [],
      "source": [
        "# Set the correlation threshold\n",
        "threshold = 0.7\n",
        "\n",
        "# Calculate the correlation matrix\n",
        "corr_matrix = merged_data.corr().abs()\n",
        "\n",
        "# Create an upper triangle matrix of the correlation matrix\n",
        "upper = corr_matrix.where(np.triu(np.ones(corr_matrix.shape), k=1).astype(bool))\n",
        "\n",
        "# Find features with correlation greater than the threshold\n",
        "to_drop = [column for column in upper.columns if any(upper[column] > threshold)]\n",
        "\n",
        "# Drop the features with high correlation\n",
        "merged_df_reduced = merged_data.drop(columns=to_drop)\n",
        "\n",
        "# Print the selected features\n",
        "print(\"Selected features:\\n\", merged_df_reduced.columns)"
      ]
    },
    {
      "cell_type": "markdown",
      "metadata": {
        "id": "ebpuTbdRpKjb"
      },
      "source": [
        "\n",
        "We know Log Transformation is useful for stock data, so we'll use that on the closing price of the stocks. The reason we do not do normalizarion or scaling is just because we do not know if project 2 entails the data being normally distributed. However log transformation usually helps in stock price data with large tails. So we'll do that on the dataset.\n"
      ]
    },
    {
      "cell_type": "markdown",
      "metadata": {
        "id": "jtEdoGo_o7oS"
      },
      "source": [
        "Now we do log transform on the open price of apple"
      ]
    },
    {
      "cell_type": "code",
      "execution_count": null,
      "metadata": {
        "id": "Ltts3FIPpyk6"
      },
      "outputs": [],
      "source": [
        "merged_data.columns"
      ]
    },
    {
      "cell_type": "code",
      "execution_count": null,
      "metadata": {
        "id": "dkJL0iROmwt6"
      },
      "outputs": [],
      "source": [
        "merged_df_reduced['log_open'] = np.log1p(merged_df_reduced['Open'])"
      ]
    },
    {
      "cell_type": "markdown",
      "metadata": {
        "id": "GGNwGoD8p8c0"
      },
      "source": [
        "New feature added: log_close"
      ]
    },
    {
      "cell_type": "code",
      "execution_count": null,
      "metadata": {
        "id": "XkqMN_9zr8hB"
      },
      "outputs": [],
      "source": [
        "from sklearn.decomposition import PCA"
      ]
    },
    {
      "cell_type": "code",
      "execution_count": null,
      "metadata": {
        "id": "S7xF_rVm65lm"
      },
      "outputs": [],
      "source": [
        "# Principal Component Analysis (PCA)\n",
        "merged_df_reduced_1 = merged_df_reduced.dropna()\n",
        "merged_df_reduced_1 = merged_df_reduced_1.drop('Open',axis=1)\n",
        "# Save the original index\n",
        "original_index = merged_df_reduced_1.index\n",
        "\n",
        "# Perform PCA\n",
        "pca = PCA(n_components=8)\n",
        "merged_df_reduced_1 = pca.fit_transform(merged_df_reduced_1)\n",
        "\n",
        "# Convert back to DataFrame and restore the original index\n",
        "merged_df_reduced_1 = pd.DataFrame(merged_df_reduced_1, columns=[f'PC{i+1}' for i in range(8)])\n",
        "merged_df_reduced_1.index = original_index\n",
        "\n",
        "# Print the first few rows\n",
        "print(merged_df_reduced_1.head())"
      ]
    },
    {
      "cell_type": "markdown",
      "metadata": {
        "id": "0TPyByntqBH0"
      },
      "source": [
        "Finally, we used PCA, which is a dimensionality reduction technique that transforms high-dimensional data into a lower-dimensional form while preserving as much variance as possible. It does this by identifying the principal components, which are the directions in which the data varies the most, and projecting the data onto these new axes.\n",
        "\n",
        "Thus the new dataframe only consists of 8 principal components."
      ]
    },
    {
      "cell_type": "code",
      "execution_count": null,
      "metadata": {
        "id": "EJQ4hyEHu-Jh"
      },
      "outputs": [],
      "source": [
        "merged_df_reduced_1.head()"
      ]
    },
    {
      "cell_type": "code",
      "execution_count": null,
      "metadata": {
        "id": "aL1XQX5FBN_A"
      },
      "outputs": [],
      "source": [
        "merged_df_reduced_1.to_csv('output_1.csv', index=True)"
      ]
    },
    {
      "cell_type": "code",
      "execution_count": null,
      "metadata": {
        "id": "V1zd2LgtCd-t"
      },
      "outputs": [],
      "source": [
        "merged_df_reduced.to_csv('output_2.csv', index=True)"
      ]
    },
    {
      "cell_type": "code",
      "execution_count": null,
      "metadata": {
        "id": "nZEn5y0kCl08"
      },
      "outputs": [],
      "source": []
    }
  ],
  "metadata": {
    "colab": {
      "provenance": []
    },
    "kernelspec": {
      "display_name": "Python 3",
      "name": "python3"
    },
    "language_info": {
      "name": "python"
    }
  },
  "nbformat": 4,
  "nbformat_minor": 0
}